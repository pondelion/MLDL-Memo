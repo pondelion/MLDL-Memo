{
  "nbformat": 4,
  "nbformat_minor": 0,
  "metadata": {
    "colab": {
      "name": "gaussian_process.ipynb",
      "provenance": []
    },
    "kernelspec": {
      "name": "python3",
      "display_name": "Python 3"
    }
  },
  "cells": [
    {
      "cell_type": "code",
      "metadata": {
        "id": "uS_ETmtjU578",
        "colab_type": "code",
        "colab": {}
      },
      "source": [
        "import numpy as np\n",
        "import matplotlib.pyplot as plt\n",
        "import seaborn as sns\n",
        "from fastprogress import progress_bar as pb"
      ],
      "execution_count": 0,
      "outputs": []
    },
    {
      "cell_type": "code",
      "metadata": {
        "id": "Tqs4LjC5VFsj",
        "colab_type": "code",
        "colab": {}
      },
      "source": [
        "train_xs = 10*np.random.rand(100)\n",
        "train_xs.sort()\n",
        "train_ys = np.sin(2*train_xs) + 0.2*np.random.rand(100)\n",
        "test_xs = 10*(0.8 + np.random.rand(80)) \n",
        "test_xs.sort()"
      ],
      "execution_count": 0,
      "outputs": []
    },
    {
      "cell_type": "code",
      "metadata": {
        "id": "zfRcgtpBVMBf",
        "colab_type": "code",
        "colab": {
          "base_uri": "https://localhost:8080/",
          "height": 265
        },
        "outputId": "715337d5-51a5-4379-8f9f-dcc212832640"
      },
      "source": [
        "_ = plt.hist(train_xs, bins=40)\n",
        "_ = plt.hist(test_xs, bins=40)"
      ],
      "execution_count": 62,
      "outputs": [
        {
          "output_type": "display_data",
          "data": {
            "image/png": "[encoded data removed]",
            "text/plain": [
              "<Figure size 432x288 with 1 Axes>"
            ]
          },
          "metadata": {
            "tags": []
          }
        }
      ]
    },
    {
      "cell_type": "code",
      "metadata": {
        "id": "WNW1KjpVVOE3",
        "colab_type": "code",
        "colab": {
          "base_uri": "https://localhost:8080/",
          "height": 282
        },
        "outputId": "c66cbae5-3785-4528-f6e3-94ac3ebb03c3"
      },
      "source": [
        "plt.scatter(train_xs, train_ys)"
      ],
      "execution_count": 36,
      "outputs": [
        {
          "output_type": "execute_result",
          "data": {
            "text/plain": [
              "<matplotlib.collections.PathCollection at 0x7fd66f10a128>"
            ]
          },
          "metadata": {
            "tags": []
          },
          "execution_count": 36
        },
        {
          "output_type": "display_data",
          "data": {
            "image/png": "[encoded data removed]",
            "text/plain": [
              "<Figure size 432x288 with 1 Axes>"
            ]
          },
          "metadata": {
            "tags": []
          }
        }
      ]
    },
    {
      "cell_type": "code",
      "metadata": {
        "id": "naOLWBANWKWv",
        "colab_type": "code",
        "colab": {}
      },
      "source": [
        "def kernel(x1, x2, theta1, theta2, theta3):\n",
        "    x1 = np.array(x1)\n",
        "    x2 = np.array(x2)\n",
        "\n",
        "    k = theta1 * np.exp(-(x1 - x2)**2 / theta2)\n",
        "    k += (x1 == x2).astype(int) * theta3\n",
        "\n",
        "    return k"
      ],
      "execution_count": 0,
      "outputs": []
    },
    {
      "cell_type": "code",
      "metadata": {
        "id": "PTQxw933YQsW",
        "colab_type": "code",
        "colab": {}
      },
      "source": [
        "from itertools import combinations"
      ],
      "execution_count": 0,
      "outputs": []
    },
    {
      "cell_type": "code",
      "metadata": {
        "id": "3CmlTOnOYUIw",
        "colab_type": "code",
        "colab": {}
      },
      "source": [
        "train_x_combinations = list(combinations(train_xs, 2))\n",
        "train_x_combinations_indices = list((i,j) for ((i,_),(j,_)) in combinations(enumerate(train_xs), 2))\n",
        "\n",
        "train_x_combinations += [(x, x) for x in train_xs]\n",
        "train_x_combinations_indices += [(i, i) for i in range(len(train_xs))]\n",
        "\n",
        "train_x_combinations = np.array(train_x_combinations)"
      ],
      "execution_count": 0,
      "outputs": []
    },
    {
      "cell_type": "code",
      "metadata": {
        "id": "g3MsKkICYieu",
        "colab_type": "code",
        "colab": {
          "base_uri": "https://localhost:8080/",
          "height": 34
        },
        "outputId": "48c11113-abad-4e5c-9a57-e05e013cdb1f"
      },
      "source": [
        "train_x_combinations.shape"
      ],
      "execution_count": 40,
      "outputs": [
        {
          "output_type": "execute_result",
          "data": {
            "text/plain": [
              "(5050, 2)"
            ]
          },
          "metadata": {
            "tags": []
          },
          "execution_count": 40
        }
      ]
    },
    {
      "cell_type": "code",
      "metadata": {
        "id": "iIFrN39gZ-eI",
        "colab_type": "code",
        "colab": {}
      },
      "source": [
        "THETA1 = 1.0\n",
        "THETA2 = 0.4\n",
        "THETA3 = 0.1"
      ],
      "execution_count": 0,
      "outputs": []
    },
    {
      "cell_type": "code",
      "metadata": {
        "id": "zL9gl1mcZ3YQ",
        "colab_type": "code",
        "colab": {}
      },
      "source": [
        "k_flat = kernel(train_x_combinations[:, 0], train_x_combinations[:, 1], THETA1, THETA2, THETA3)"
      ],
      "execution_count": 0,
      "outputs": []
    },
    {
      "cell_type": "code",
      "metadata": {
        "id": "eBRgObPRalq2",
        "colab_type": "code",
        "colab": {}
      },
      "source": [
        "K = np.zeros((len(train_xs), len(train_xs)))"
      ],
      "execution_count": 0,
      "outputs": []
    },
    {
      "cell_type": "code",
      "metadata": {
        "id": "qw7P-PjAaqvf",
        "colab_type": "code",
        "colab": {
          "base_uri": "https://localhost:8080/",
          "height": 34
        },
        "outputId": "d0c44eb4-5381-4b04-d04a-769ff51a759b"
      },
      "source": [
        "K.shape"
      ],
      "execution_count": 44,
      "outputs": [
        {
          "output_type": "execute_result",
          "data": {
            "text/plain": [
              "(100, 100)"
            ]
          },
          "metadata": {
            "tags": []
          },
          "execution_count": 44
        }
      ]
    },
    {
      "cell_type": "code",
      "metadata": {
        "id": "3sLM5_IiaIFW",
        "colab_type": "code",
        "colab": {}
      },
      "source": [
        "for (i, j), k_ in zip(train_x_combinations_indices, k_flat):\n",
        "    K[i, j] = k_\n",
        "    K[j, i] = k_"
      ],
      "execution_count": 0,
      "outputs": []
    },
    {
      "cell_type": "code",
      "metadata": {
        "id": "hnlsTSq5aNuO",
        "colab_type": "code",
        "colab": {
          "base_uri": "https://localhost:8080/",
          "height": 288
        },
        "outputId": "df3626be-3bdb-43eb-96fc-cf2d711a7eca"
      },
      "source": [
        "sns.heatmap(K)"
      ],
      "execution_count": 46,
      "outputs": [
        {
          "output_type": "execute_result",
          "data": {
            "text/plain": [
              "<matplotlib.axes._subplots.AxesSubplot at 0x7fd66f0ba198>"
            ]
          },
          "metadata": {
            "tags": []
          },
          "execution_count": 46
        },
        {
          "output_type": "display_data",
          "data": {
            "image/png": "[encoded data removed]",
            "text/plain": [
              "<Figure size 432x288 with 2 Axes>"
            ]
          },
          "metadata": {
            "tags": []
          }
        }
      ]
    },
    {
      "cell_type": "code",
      "metadata": {
        "id": "ZTPuiYwYbYq-",
        "colab_type": "code",
        "colab": {}
      },
      "source": [
        "Kinvy = np.dot(np.linalg.inv(K), train_ys)"
      ],
      "execution_count": 0,
      "outputs": []
    },
    {
      "cell_type": "code",
      "metadata": {
        "id": "NHsInACccoro",
        "colab_type": "code",
        "colab": {
          "base_uri": "https://localhost:8080/",
          "height": 34
        },
        "outputId": "b444180e-4d9a-46b4-8fbe-c750ccb4f7cb"
      },
      "source": [
        "Kinvy.shape"
      ],
      "execution_count": 48,
      "outputs": [
        {
          "output_type": "execute_result",
          "data": {
            "text/plain": [
              "(100,)"
            ]
          },
          "metadata": {
            "tags": []
          },
          "execution_count": 48
        }
      ]
    },
    {
      "cell_type": "code",
      "metadata": {
        "id": "BPa14cRHeDX-",
        "colab_type": "code",
        "colab": {
          "base_uri": "https://localhost:8080/",
          "height": 34
        },
        "outputId": "6a19c557-086d-49fa-d323-2ec923954edf"
      },
      "source": [
        "kernel([1, 3], [2, 5], THETA1, THETA2, THETA3)"
      ],
      "execution_count": 49,
      "outputs": [
        {
          "output_type": "execute_result",
          "data": {
            "text/plain": [
              "array([8.20849986e-02, 4.53999298e-05])"
            ]
          },
          "metadata": {
            "tags": []
          },
          "execution_count": 49
        }
      ]
    },
    {
      "cell_type": "code",
      "metadata": {
        "id": "TFSF7He0cqzl",
        "colab_type": "code",
        "colab": {
          "base_uri": "https://localhost:8080/",
          "height": 37
        },
        "outputId": "a6eeac72-3618-46f5-ec09-774b04438d13"
      },
      "source": [
        "mu = []\n",
        "var = []\n",
        "\n",
        "for test_x in pb(test_xs):\n",
        "\n",
        "    ka = kernel(\n",
        "        train_xs,\n",
        "        np.array([test_x]*len(train_xs)),\n",
        "        THETA1, THETA2, THETA3\n",
        "    )  # k_{*}\n",
        "\n",
        "    s = kernel(test_x, test_x, THETA1, THETA2, THETA3)\n",
        "\n",
        "    mu.append(np.dot(ka, Kinvy))\n",
        "\n",
        "    kainvK = np.dot(ka, np.linalg.inv(K))\n",
        "\n",
        "    var.append(s - np.dot(kainvK, ka.T))\n",
        "\n",
        "mu = np.array(mu)\n",
        "var = np.array(var)"
      ],
      "execution_count": 50,
      "outputs": [
        {
          "output_type": "display_data",
          "data": {
            "text/html": [
              "\n",
              "    <div>\n",
              "        <style>\n",
              "            /* Turns off some styling */\n",
              "            progress {\n",
              "                /* gets rid of default border in Firefox and Opera. */\n",
              "                border: none;\n",
              "                /* Needs to be in here for Safari polyfill so background images work as expected. */\n",
              "                background-size: auto;\n",
              "            }\n",
              "            .progress-bar-interrupted, .progress-bar-interrupted::-webkit-progress-bar {\n",
              "                background: #F44336;\n",
              "            }\n",
              "        </style>\n",
              "      <progress value='80' class='' max='80', style='width:300px; height:20px; vertical-align: middle;'></progress>\n",
              "      100.00% [80/80 00:00<00:00]\n",
              "    </div>\n",
              "    "
            ],
            "text/plain": [
              "<IPython.core.display.HTML object>"
            ]
          },
          "metadata": {
            "tags": []
          }
        }
      ]
    },
    {
      "cell_type": "code",
      "metadata": {
        "id": "zRUTpbf5e8zX",
        "colab_type": "code",
        "colab": {
          "base_uri": "https://localhost:8080/",
          "height": 391
        },
        "outputId": "391e6898-bff9-4060-d9c6-e283d33984f5"
      },
      "source": [
        "plt.figure(figsize=(16, 6))\n",
        "plt.scatter(train_xs, train_ys, alpha=0.6, label='train')\n",
        "plt.scatter(test_xs, mu, alpha=0.6, label='test')\n",
        "plt.fill_between(\n",
        "    test_xs,\n",
        "    mu - np.sqrt(var),\n",
        "    mu + np.sqrt(var),\n",
        "    alpha=0.2,\n",
        "    facecolor='y',\n",
        "    label='±1σ'\n",
        ")\n",
        "plt.legend()"
      ],
      "execution_count": 63,
      "outputs": [
        {
          "output_type": "execute_result",
          "data": {
            "text/plain": [
              "<matplotlib.legend.Legend at 0x7fd66e9b82e8>"
            ]
          },
          "metadata": {
            "tags": []
          },
          "execution_count": 63
        },
        {
          "output_type": "display_data",
          "data": {
            "image/png": "[encoded data removed]",
            "text/plain": [
              "<Figure size 1152x432 with 1 Axes>"
            ]
          },
          "metadata": {
            "tags": []
          }
        }
      ]
    },
    {
      "cell_type": "code",
      "metadata": {
        "id": "7Rl_84NHgIUl",
        "colab_type": "code",
        "colab": {}
      },
      "source": [
        ""
      ],
      "execution_count": 0,
      "outputs": []
    }
  ]
}