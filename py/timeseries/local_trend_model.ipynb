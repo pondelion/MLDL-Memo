{
  "nbformat": 4,
  "nbformat_minor": 0,
  "metadata": {
    "colab": {
      "name": "local_trend_model.ipynb",
      "provenance": []
    },
    "kernelspec": {
      "name": "python3",
      "display_name": "Python 3"
    }
  },
  "cells": [
    {
      "cell_type": "code",
      "metadata": {
        "id": "ZJuH5jEcl9TR",
        "colab_type": "code",
        "colab": {}
      },
      "source": [
        "import numpy as np\n",
        "import matplotlib.pyplot as plt"
      ],
      "execution_count": 0,
      "outputs": []
    },
    {
      "cell_type": "code",
      "metadata": {
        "id": "V8o63XwDmEwM",
        "colab_type": "code",
        "colab": {}
      },
      "source": [
        "def local_tread_model(\n",
        "    x_prev: np.matrix,\n",
        "    W1: float,\n",
        "    W2: float,\n",
        "    G: np.matrix,\n",
        "    F: np.matrix,\n",
        "    V: float,\n",
        "):\n",
        "    w = np.matrix([W1, W2]).T\n",
        "    x = G @ x_prev + w\n",
        "    y = F @ x + V\n",
        "\n",
        "    return x, y "
      ],
      "execution_count": 0,
      "outputs": []
    },
    {
      "cell_type": "code",
      "metadata": {
        "id": "8ORVxSeZnoBm",
        "colab_type": "code",
        "colab": {}
      },
      "source": [
        "G = np.matrix([\n",
        "    [1, 1],\n",
        "    [0, 1]\n",
        "])\n",
        "W1 = 1\n",
        "W2 = 1\n",
        "F = np.matrix([1, 0])\n",
        "V = 1"
      ],
      "execution_count": 0,
      "outputs": []
    },
    {
      "cell_type": "code",
      "metadata": {
        "id": "AewryDpPn1hC",
        "colab_type": "code",
        "colab": {}
      },
      "source": [
        "x = np.matrix([0, 0.1]).T"
      ],
      "execution_count": 0,
      "outputs": []
    },
    {
      "cell_type": "code",
      "metadata": {
        "id": "xwHEAtN5n6GC",
        "colab_type": "code",
        "colab": {}
      },
      "source": [
        "x_hist = [x]\n",
        "y_hist = []"
      ],
      "execution_count": 0,
      "outputs": []
    },
    {
      "cell_type": "code",
      "metadata": {
        "id": "Igd5IIEfn8Ky",
        "colab_type": "code",
        "colab": {}
      },
      "source": [
        "for i in range(1000):\n",
        "    x, y = local_tread_model(\n",
        "        x_hist[-1],\n",
        "        W1, W2,\n",
        "        G, F, V,\n",
        "    )\n",
        "    x_hist.append(x)\n",
        "    y_hist.append(y)"
      ],
      "execution_count": 0,
      "outputs": []
    },
    {
      "cell_type": "code",
      "metadata": {
        "id": "8CwuxjNioMrL",
        "colab_type": "code",
        "colab": {
          "base_uri": "https://localhost:8080/",
          "height": 282
        },
        "outputId": "a8db735a-887e-4191-f3aa-8e8838a646f8"
      },
      "source": [
        "plt.plot([y[0, 0] for y in y_hist])"
      ],
      "execution_count": 18,
      "outputs": [
        {
          "output_type": "execute_result",
          "data": {
            "text/plain": [
              "[<matplotlib.lines.Line2D at 0x7ff457c2a978>]"
            ]
          },
          "metadata": {
            "tags": []
          },
          "execution_count": 18
        },
        {
          "output_type": "display_data",
          "data": {
            "image/png": "[encoded data removed]",
            "text/plain": [
              "<Figure size 432x288 with 1 Axes>"
            ]
          },
          "metadata": {
            "tags": []
          }
        }
      ]
    },
    {
      "cell_type": "code",
      "metadata": {
        "id": "C_hUQ4dloUTa",
        "colab_type": "code",
        "colab": {
          "base_uri": "https://localhost:8080/",
          "height": 34
        },
        "outputId": "15ee8c7d-8704-448c-8832-1fd34bf8d2e3"
      },
      "source": [
        "y_hist[0][0, 0]"
      ],
      "execution_count": 13,
      "outputs": [
        {
          "output_type": "execute_result",
          "data": {
            "text/plain": [
              "6"
            ]
          },
          "metadata": {
            "tags": []
          },
          "execution_count": 13
        }
      ]
    },
    {
      "cell_type": "code",
      "metadata": {
        "id": "k736MbocoY55",
        "colab_type": "code",
        "colab": {}
      },
      "source": [
        ""
      ],
      "execution_count": 0,
      "outputs": []
    }
  ]
}