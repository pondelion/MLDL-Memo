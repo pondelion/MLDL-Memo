{
  "nbformat": 4,
  "nbformat_minor": 0,
  "metadata": {
    "colab": {
      "name": "tsfeature.ipynb",
      "provenance": []
    },
    "kernelspec": {
      "name": "python3",
      "display_name": "Python 3"
    }
  },
  "cells": [
    {
      "cell_type": "code",
      "metadata": {
        "id": "hKrhDTVWDu18",
        "colab_type": "code",
        "colab": {
          "base_uri": "https://localhost:8080/",
          "height": 170
        },
        "outputId": "86d3ed4f-0f58-4e26-e9fc-0fa7d1b1985f"
      },
      "source": [
        "!pip install pyper"
      ],
      "execution_count": 1,
      "outputs": [
        {
          "output_type": "stream",
          "text": [
            "Collecting pyper\n",
            "  Downloading https://files.pythonhosted.org/packages/e6/3e/4ed8b7c23333f7a1d3b18ecb37b09b4867fee95151a3a59c43c20376678e/PypeR-1.1.2.tar.gz\n",
            "Building wheels for collected packages: pyper\n",
            "  Building wheel for pyper (setup.py) ... \u001b[?25l\u001b[?25hdone\n",
            "  Created wheel for pyper: filename=PypeR-1.1.2-cp36-none-any.whl size=11268 sha256=7ce40ace862e908566ed1a48e2eccc43c59e6bbe5094a8a1782fa2b99a581e97\n",
            "  Stored in directory: /root/.cache/pip/wheels/d0/99/65/6f4b5664e7fb32c94542826c63ba156f74259d5d8fe2129264\n",
            "Successfully built pyper\n",
            "Installing collected packages: pyper\n",
            "Successfully installed pyper-1.1.2\n"
          ],
          "name": "stdout"
        }
      ]
    },
    {
      "cell_type": "code",
      "metadata": {
        "id": "C3u9njAlDz81",
        "colab_type": "code",
        "colab": {}
      },
      "source": [
        "import pyper\n",
        "import pandas as pd\n",
        "from statsmodels.datasets import co2\n",
        "import numpy as np"
      ],
      "execution_count": 0,
      "outputs": []
    },
    {
      "cell_type": "code",
      "metadata": {
        "id": "HvArmRxED6p7",
        "colab_type": "code",
        "colab": {}
      },
      "source": [
        "df = co2.load_pandas().data\n",
        "df_r = pd.DataFrame({\n",
        "    'co2': df.co2.values\n",
        "})"
      ],
      "execution_count": 0,
      "outputs": []
    },
    {
      "cell_type": "code",
      "metadata": {
        "id": "-af5JgWkEIT4",
        "colab_type": "code",
        "colab": {
          "base_uri": "https://localhost:8080/",
          "height": 282
        },
        "outputId": "3e7d81db-0d36-4864-ea43-f3514579855d"
      },
      "source": [
        "df.plot()"
      ],
      "execution_count": 143,
      "outputs": [
        {
          "output_type": "execute_result",
          "data": {
            "text/plain": [
              "<matplotlib.axes._subplots.AxesSubplot at 0x7fee165187f0>"
            ]
          },
          "metadata": {
            "tags": []
          },
          "execution_count": 143
        },
        {
          "output_type": "display_data",
          "data": {
            "image/png": "[encoded data removed]",
            "text/plain": [
              "<Figure size 432x288 with 1 Axes>"
            ]
          },
          "metadata": {
            "tags": []
          }
        }
      ]
    },
    {
      "cell_type": "code",
      "metadata": {
        "id": "y-SOGsbLQ7QZ",
        "colab_type": "code",
        "colab": {}
      },
      "source": [
        "df.fillna(method='ffill', inplace=True)"
      ],
      "execution_count": 0,
      "outputs": []
    },
    {
      "cell_type": "code",
      "metadata": {
        "id": "LA3ZfMlUEJvy",
        "colab_type": "code",
        "colab": {}
      },
      "source": [
        "r = pyper.R(use_pandas='True')"
      ],
      "execution_count": 0,
      "outputs": []
    },
    {
      "cell_type": "code",
      "metadata": {
        "id": "Y6KQvHipFIya",
        "colab_type": "code",
        "colab": {}
      },
      "source": [
        "r.assign(\"data\", df_r)"
      ],
      "execution_count": 0,
      "outputs": []
    },
    {
      "cell_type": "code",
      "metadata": {
        "id": "aDiJFtV1HIIw",
        "colab_type": "code",
        "colab": {
          "base_uri": "https://localhost:8080/",
          "height": 54
        },
        "outputId": "eba17529-8031-4d36-9c7d-a0d9f6a679e8"
      },
      "source": [
        "r(\"install.packages('tsfeatures', dependencies = TRUE)\")"
      ],
      "execution_count": 147,
      "outputs": [
        {
          "output_type": "execute_result",
          "data": {
            "text/plain": [
              "\"try({install.packages('tsfeatures', dependencies = TRUE)})\\nInstalling package into ‘/usr/local/lib/R/site-library’\\n(as ‘lib’ is unspecified)\\ntrying URL 'https://cran.rstudio.com/src/contrib/tsfeatures_1.0.1.tar.gz'\\nContent type 'application/x-gzip' length 108061 bytes (105 KB)\\n==================================================\\ndownloaded 105 KB\\n\\n* installing *source* package ‘tsfeatures’ ...\\n** package ‘tsfeatures’ successfully unpacked and MD5 sums checked\\n** using staged installation\\n** R\\n** inst\\n** byte-compile and prepare package for lazy loading\\n** help\\n*** installing help indices\\n** building package indices\\n** installing vignettes\\n** testing if installed package can be loaded from temporary location\\n** testing if installed package can be loaded from final location\\n** testing if installed package keeps a record of temporary installation path\\n* DONE (tsfeatures)\\n\\nThe downloaded source packages are in\\n\\t‘/tmp/RtmpVNcL1P/downloaded_packages’\\n\""
            ]
          },
          "metadata": {
            "tags": []
          },
          "execution_count": 147
        }
      ]
    },
    {
      "cell_type": "code",
      "metadata": {
        "id": "_xBW96RGNvmg",
        "colab_type": "code",
        "colab": {
          "base_uri": "https://localhost:8080/",
          "height": 170
        },
        "outputId": "a2e08c61-99a3-440a-e2ec-0f928ae303e2"
      },
      "source": [
        "print(r(\"library(tsfeatures)\"))"
      ],
      "execution_count": 148,
      "outputs": [
        {
          "output_type": "stream",
          "text": [
            "try({library(tsfeatures)})\n",
            "Registered S3 method overwritten by 'quantmod':\n",
            "  method            from\n",
            "  as.zoo.data.frame zoo \n",
            "Registered S3 methods overwritten by 'forecast':\n",
            "  method             from    \n",
            "  fitted.fracdiff    fracdiff\n",
            "  residuals.fracdiff fracdiff\n",
            "\n"
          ],
          "name": "stdout"
        }
      ]
    },
    {
      "cell_type": "code",
      "metadata": {
        "id": "sj5Bxt1YOdV5",
        "colab_type": "code",
        "colab": {
          "base_uri": "https://localhost:8080/",
          "height": 68
        },
        "outputId": "e25cbfb8-73bf-4be6-e037-74d4fbcb73c1"
      },
      "source": [
        "print(r(\"print(data$co2[5:10])\"))"
      ],
      "execution_count": 149,
      "outputs": [
        {
          "output_type": "stream",
          "text": [
            "try({print(data$co2[5:10])})\n",
            "[1] 316.4 316.9   NaN 317.5 317.9   NaN\n",
            "\n"
          ],
          "name": "stdout"
        }
      ]
    },
    {
      "cell_type": "code",
      "metadata": {
        "id": "Bt4Te9NEOhDY",
        "colab_type": "code",
        "colab": {
          "base_uri": "https://localhost:8080/",
          "height": 51
        },
        "outputId": "c750f27d-7a48-4e29-ee02-a8651e912ff2"
      },
      "source": [
        "print(r(\"mylist <- list(data$co2)\"))"
      ],
      "execution_count": 150,
      "outputs": [
        {
          "output_type": "stream",
          "text": [
            "try({mylist <- list(data$co2)})\n",
            "\n"
          ],
          "name": "stdout"
        }
      ]
    },
    {
      "cell_type": "code",
      "metadata": {
        "id": "21FMBaVCOtrO",
        "colab_type": "code",
        "colab": {
          "base_uri": "https://localhost:8080/",
          "height": 51
        },
        "outputId": "b195d536-0db6-448d-b240-235dcad8d8c2"
      },
      "source": [
        "print(r(\"myfeatures <- tsfeatures(mylist)\"))"
      ],
      "execution_count": 151,
      "outputs": [
        {
          "output_type": "stream",
          "text": [
            "try({myfeatures <- tsfeatures(mylist)})\n",
            "\n"
          ],
          "name": "stdout"
        }
      ]
    },
    {
      "cell_type": "code",
      "metadata": {
        "id": "NeW7RX_9OyI3",
        "colab_type": "code",
        "colab": {
          "base_uri": "https://localhost:8080/",
          "height": 170
        },
        "outputId": "a96da034-9b4c-4c91-b070-2a06e7340132"
      },
      "source": [
        "print(r(\"print(myfeatures)\"))"
      ],
      "execution_count": 152,
      "outputs": [
        {
          "output_type": "stream",
          "text": [
            "try({print(myfeatures)})\n",
            "# A tibble: 1 x 16\n",
            "  frequency nperiods seasonal_period trend    spike linearity curvature e_acf1\n",
            "      <dbl>    <dbl>           <dbl> <dbl>    <dbl>     <dbl>     <dbl>  <dbl>\n",
            "1         1        0               1 0.985 3.92e-11      47.4      4.68  0.973\n",
            "# … with 8 more variables: e_acf10 <dbl>, entropy <dbl>, x_acf1 <dbl>,\n",
            "#   x_acf10 <dbl>, diff1_acf1 <dbl>, diff1_acf10 <dbl>, diff2_acf1 <dbl>,\n",
            "#   diff2_acf10 <dbl>\n",
            "\n"
          ],
          "name": "stdout"
        }
      ]
    },
    {
      "cell_type": "code",
      "metadata": {
        "id": "5P2_S_3WO2gf",
        "colab_type": "code",
        "colab": {}
      },
      "source": [
        "df_feature = pd.DataFrame(r.get(\"myfeatures\"))"
      ],
      "execution_count": 0,
      "outputs": []
    },
    {
      "cell_type": "code",
      "metadata": {
        "id": "SPVHjljUQK8f",
        "colab_type": "code",
        "colab": {
          "base_uri": "https://localhost:8080/",
          "height": 117
        },
        "outputId": "edf3921d-f12f-4efc-91c4-97a371a0ec59"
      },
      "source": [
        "df_feature"
      ],
      "execution_count": 154,
      "outputs": [
        {
          "output_type": "execute_result",
          "data": {
            "text/html": [
              "<div>\n",
              "<style scoped>\n",
              "    .dataframe tbody tr th:only-of-type {\n",
              "        vertical-align: middle;\n",
              "    }\n",
              "\n",
              "    .dataframe tbody tr th {\n",
              "        vertical-align: top;\n",
              "    }\n",
              "\n",
              "    .dataframe thead th {\n",
              "        text-align: right;\n",
              "    }\n",
              "</style>\n",
              "<table border=\"1\" class=\"dataframe\">\n",
              "  <thead>\n",
              "    <tr style=\"text-align: right;\">\n",
              "      <th></th>\n",
              "      <th>frequency</th>\n",
              "      <th>nperiods</th>\n",
              "      <th>seasonal_period</th>\n",
              "      <th>trend</th>\n",
              "      <th>spike</th>\n",
              "      <th>linearity</th>\n",
              "      <th>curvature</th>\n",
              "      <th>e_acf1</th>\n",
              "      <th>e_acf10</th>\n",
              "      <th>entropy</th>\n",
              "      <th>x_acf1</th>\n",
              "      <th>x_acf10</th>\n",
              "      <th>diff1_acf1</th>\n",
              "      <th>diff1_acf10</th>\n",
              "      <th>diff2_acf1</th>\n",
              "      <th>diff2_acf10</th>\n",
              "    </tr>\n",
              "  </thead>\n",
              "  <tbody>\n",
              "    <tr>\n",
              "      <th>0</th>\n",
              "      <td>1.0</td>\n",
              "      <td>0.0</td>\n",
              "      <td>1.0</td>\n",
              "      <td>0.98522</td>\n",
              "      <td>3.924203e-11</td>\n",
              "      <td>47.396277</td>\n",
              "      <td>4.681008</td>\n",
              "      <td>0.972523</td>\n",
              "      <td>5.224937</td>\n",
              "      <td>0.406164</td>\n",
              "      <td>0.993659</td>\n",
              "      <td>9.613112</td>\n",
              "      <td>0.083317</td>\n",
              "      <td>0.303269</td>\n",
              "      <td>-0.545803</td>\n",
              "      <td>0.32855</td>\n",
              "    </tr>\n",
              "  </tbody>\n",
              "</table>\n",
              "</div>"
            ],
            "text/plain": [
              "    frequency    nperiods   ...   diff2_acf1    diff2_acf10 \n",
              "0          1.0         0.0  ...     -0.545803        0.32855\n",
              "\n",
              "[1 rows x 16 columns]"
            ]
          },
          "metadata": {
            "tags": []
          },
          "execution_count": 154
        }
      ]
    },
    {
      "cell_type": "code",
      "metadata": {
        "id": "ybCTttYiQOA3",
        "colab_type": "code",
        "colab": {}
      },
      "source": [
        ""
      ],
      "execution_count": 0,
      "outputs": []
    }
  ]
}