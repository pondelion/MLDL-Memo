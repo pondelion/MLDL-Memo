{
  "nbformat": 4,
  "nbformat_minor": 0,
  "metadata": {
    "colab": {
      "name": "find_corr_max_lag.ipynb",
      "provenance": [],
      "collapsed_sections": []
    },
    "kernelspec": {
      "name": "python3",
      "display_name": "Python 3"
    }
  },
  "cells": [
    {
      "cell_type": "code",
      "metadata": {
        "id": "P1Dh9SMAUaYC"
      },
      "source": [
        "import numpy as np\r\n",
        "import pandas as pd\r\n",
        "import matplotlib.pyplot as plt"
      ],
      "execution_count": 6,
      "outputs": []
    },
    {
      "cell_type": "code",
      "metadata": {
        "id": "XJAdhxxoUhKn"
      },
      "source": [
        "lags = [\r\n",
        "    2, 10, 36, 50, 100\r\n",
        "]"
      ],
      "execution_count": 2,
      "outputs": []
    },
    {
      "cell_type": "code",
      "metadata": {
        "id": "qNJESZKdVDhI"
      },
      "source": [
        "dts = pd.date_range('2015-01-01', '2020-01-27')"
      ],
      "execution_count": 3,
      "outputs": []
    },
    {
      "cell_type": "code",
      "metadata": {
        "id": "0UILR4fhVGD2"
      },
      "source": [
        "xs = np.arange(len(dts))"
      ],
      "execution_count": 4,
      "outputs": []
    },
    {
      "cell_type": "code",
      "metadata": {
        "id": "MzLb4l5oU-Wu"
      },
      "source": [
        "test_ts = 4*np.sin(0.1*xs) + 7*np.cos(0.04*xs) + 0.01*xs + 2*np.random.randn(len(xs))"
      ],
      "execution_count": 12,
      "outputs": []
    },
    {
      "cell_type": "code",
      "metadata": {
        "colab": {
          "base_uri": "https://localhost:8080/",
          "height": 282
        },
        "id": "0DH-RBGqVZXQ",
        "outputId": "5d165762-8f1f-4fb3-e74e-e289d704dfcc"
      },
      "source": [
        "plt.plot(dts, test_ts)"
      ],
      "execution_count": 13,
      "outputs": [
        {
          "output_type": "execute_result",
          "data": {
            "text/plain": [
              "[<matplotlib.lines.Line2D at 0x7f08a9b895c0>]"
            ]
          },
          "metadata": {
            "tags": []
          },
          "execution_count": 13
        },
        {
          "output_type": "display_data",
          "data": {
            "image/png": "[encoded data removed]",
            "text/plain": [
              "<Figure size 432x288 with 1 Axes>"
            ]
          },
          "metadata": {
            "tags": [],
            "needs_background": "light"
          }
        }
      ]
    },
    {
      "cell_type": "code",
      "metadata": {
        "id": "wLkNoTmSUsyu"
      },
      "source": [
        "\r\n",
        "df_ts = pd.DataFrame(\r\n",
        "    index=dts,\r\n",
        "    data={\r\n",
        "        'ts': test_ts\r\n",
        "    }\r\n",
        ")"
      ],
      "execution_count": 14,
      "outputs": []
    },
    {
      "cell_type": "code",
      "metadata": {
        "colab": {
          "base_uri": "https://localhost:8080/",
          "height": 419
        },
        "id": "eQEcBSpeVnVy",
        "outputId": "3ef31f97-a2dc-4266-d6b5-ad11c72eec2a"
      },
      "source": [
        "df_ts"
      ],
      "execution_count": 15,
      "outputs": [
        {
          "output_type": "execute_result",
          "data": {
            "text/html": [
              "<div>\n",
              "<style scoped>\n",
              "    .dataframe tbody tr th:only-of-type {\n",
              "        vertical-align: middle;\n",
              "    }\n",
              "\n",
              "    .dataframe tbody tr th {\n",
              "        vertical-align: top;\n",
              "    }\n",
              "\n",
              "    .dataframe thead th {\n",
              "        text-align: right;\n",
              "    }\n",
              "</style>\n",
              "<table border=\"1\" class=\"dataframe\">\n",
              "  <thead>\n",
              "    <tr style=\"text-align: right;\">\n",
              "      <th></th>\n",
              "      <th>ts</th>\n",
              "    </tr>\n",
              "  </thead>\n",
              "  <tbody>\n",
              "    <tr>\n",
              "      <th>2015-01-01</th>\n",
              "      <td>3.918657</td>\n",
              "    </tr>\n",
              "    <tr>\n",
              "      <th>2015-01-02</th>\n",
              "      <td>7.105503</td>\n",
              "    </tr>\n",
              "    <tr>\n",
              "      <th>2015-01-03</th>\n",
              "      <td>9.011262</td>\n",
              "    </tr>\n",
              "    <tr>\n",
              "      <th>2015-01-04</th>\n",
              "      <td>9.242989</td>\n",
              "    </tr>\n",
              "    <tr>\n",
              "      <th>2015-01-05</th>\n",
              "      <td>6.101447</td>\n",
              "    </tr>\n",
              "    <tr>\n",
              "      <th>...</th>\n",
              "      <td>...</td>\n",
              "    </tr>\n",
              "    <tr>\n",
              "      <th>2020-01-23</th>\n",
              "      <td>21.768635</td>\n",
              "    </tr>\n",
              "    <tr>\n",
              "      <th>2020-01-24</th>\n",
              "      <td>17.763197</td>\n",
              "    </tr>\n",
              "    <tr>\n",
              "      <th>2020-01-25</th>\n",
              "      <td>21.820422</td>\n",
              "    </tr>\n",
              "    <tr>\n",
              "      <th>2020-01-26</th>\n",
              "      <td>22.045844</td>\n",
              "    </tr>\n",
              "    <tr>\n",
              "      <th>2020-01-27</th>\n",
              "      <td>22.261423</td>\n",
              "    </tr>\n",
              "  </tbody>\n",
              "</table>\n",
              "<p>1853 rows × 1 columns</p>\n",
              "</div>"
            ],
            "text/plain": [
              "                   ts\n",
              "2015-01-01   3.918657\n",
              "2015-01-02   7.105503\n",
              "2015-01-03   9.011262\n",
              "2015-01-04   9.242989\n",
              "2015-01-05   6.101447\n",
              "...               ...\n",
              "2020-01-23  21.768635\n",
              "2020-01-24  17.763197\n",
              "2020-01-25  21.820422\n",
              "2020-01-26  22.045844\n",
              "2020-01-27  22.261423\n",
              "\n",
              "[1853 rows x 1 columns]"
            ]
          },
          "metadata": {
            "tags": []
          },
          "execution_count": 15
        }
      ]
    },
    {
      "cell_type": "code",
      "metadata": {
        "colab": {
          "base_uri": "https://localhost:8080/"
        },
        "id": "z9O5-wXUVn-Y",
        "outputId": "020dd67c-b4f4-42b0-bfda-ca519484c48c"
      },
      "source": [
        "\r\n",
        "df_ts['ts'].shift(-4)"
      ],
      "execution_count": 18,
      "outputs": [
        {
          "output_type": "execute_result",
          "data": {
            "text/plain": [
              "2015-01-01     6.101447\n",
              "2015-01-02    11.512260\n",
              "2015-01-03     7.708986\n",
              "2015-01-04    12.221373\n",
              "2015-01-05     7.064837\n",
              "                ...    \n",
              "2020-01-23    22.261423\n",
              "2020-01-24          NaN\n",
              "2020-01-25          NaN\n",
              "2020-01-26          NaN\n",
              "2020-01-27          NaN\n",
              "Freq: D, Name: ts, Length: 1853, dtype: float64"
            ]
          },
          "metadata": {
            "tags": []
          },
          "execution_count": 18
        }
      ]
    },
    {
      "cell_type": "code",
      "metadata": {
        "id": "EZAWZEclV2vx"
      },
      "source": [
        "for lag in lags:\r\n",
        "    df_ts[f'ts_lag{lag}'] = df_ts['ts'].shift(-lag) + 1*np.random.randn(len(xs))"
      ],
      "execution_count": 46,
      "outputs": []
    },
    {
      "cell_type": "code",
      "metadata": {
        "colab": {
          "base_uri": "https://localhost:8080/",
          "height": 419
        },
        "id": "S8UPQTv1WHiD",
        "outputId": "21970875-a2e7-4790-f295-4377f5f8d66d"
      },
      "source": [
        "df_ts"
      ],
      "execution_count": 47,
      "outputs": [
        {
          "output_type": "execute_result",
          "data": {
            "text/html": [
              "<div>\n",
              "<style scoped>\n",
              "    .dataframe tbody tr th:only-of-type {\n",
              "        vertical-align: middle;\n",
              "    }\n",
              "\n",
              "    .dataframe tbody tr th {\n",
              "        vertical-align: top;\n",
              "    }\n",
              "\n",
              "    .dataframe thead th {\n",
              "        text-align: right;\n",
              "    }\n",
              "</style>\n",
              "<table border=\"1\" class=\"dataframe\">\n",
              "  <thead>\n",
              "    <tr style=\"text-align: right;\">\n",
              "      <th></th>\n",
              "      <th>ts</th>\n",
              "      <th>ts_lag2</th>\n",
              "      <th>ts_lag10</th>\n",
              "      <th>ts_lag36</th>\n",
              "      <th>ts_lag50</th>\n",
              "      <th>ts_lag100</th>\n",
              "    </tr>\n",
              "  </thead>\n",
              "  <tbody>\n",
              "    <tr>\n",
              "      <th>2015-01-01</th>\n",
              "      <td>3.918657</td>\n",
              "      <td>8.994915</td>\n",
              "      <td>9.949024</td>\n",
              "      <td>-0.779262</td>\n",
              "      <td>-4.897912</td>\n",
              "      <td>-3.154977</td>\n",
              "    </tr>\n",
              "    <tr>\n",
              "      <th>2015-01-02</th>\n",
              "      <td>7.105503</td>\n",
              "      <td>9.795846</td>\n",
              "      <td>7.226846</td>\n",
              "      <td>-2.266945</td>\n",
              "      <td>-4.074101</td>\n",
              "      <td>-5.337403</td>\n",
              "    </tr>\n",
              "    <tr>\n",
              "      <th>2015-01-03</th>\n",
              "      <td>9.011262</td>\n",
              "      <td>6.611747</td>\n",
              "      <td>9.202592</td>\n",
              "      <td>3.647276</td>\n",
              "      <td>-7.056239</td>\n",
              "      <td>-8.337867</td>\n",
              "    </tr>\n",
              "    <tr>\n",
              "      <th>2015-01-04</th>\n",
              "      <td>9.242989</td>\n",
              "      <td>11.599425</td>\n",
              "      <td>10.194954</td>\n",
              "      <td>-1.686528</td>\n",
              "      <td>-7.322694</td>\n",
              "      <td>-5.038158</td>\n",
              "    </tr>\n",
              "    <tr>\n",
              "      <th>2015-01-05</th>\n",
              "      <td>6.101447</td>\n",
              "      <td>7.739107</td>\n",
              "      <td>9.933462</td>\n",
              "      <td>-4.242043</td>\n",
              "      <td>-9.034874</td>\n",
              "      <td>-5.198620</td>\n",
              "    </tr>\n",
              "    <tr>\n",
              "      <th>...</th>\n",
              "      <td>...</td>\n",
              "      <td>...</td>\n",
              "      <td>...</td>\n",
              "      <td>...</td>\n",
              "      <td>...</td>\n",
              "      <td>...</td>\n",
              "    </tr>\n",
              "    <tr>\n",
              "      <th>2020-01-23</th>\n",
              "      <td>21.768635</td>\n",
              "      <td>23.019488</td>\n",
              "      <td>NaN</td>\n",
              "      <td>NaN</td>\n",
              "      <td>NaN</td>\n",
              "      <td>NaN</td>\n",
              "    </tr>\n",
              "    <tr>\n",
              "      <th>2020-01-24</th>\n",
              "      <td>17.763197</td>\n",
              "      <td>22.500342</td>\n",
              "      <td>NaN</td>\n",
              "      <td>NaN</td>\n",
              "      <td>NaN</td>\n",
              "      <td>NaN</td>\n",
              "    </tr>\n",
              "    <tr>\n",
              "      <th>2020-01-25</th>\n",
              "      <td>21.820422</td>\n",
              "      <td>22.923253</td>\n",
              "      <td>NaN</td>\n",
              "      <td>NaN</td>\n",
              "      <td>NaN</td>\n",
              "      <td>NaN</td>\n",
              "    </tr>\n",
              "    <tr>\n",
              "      <th>2020-01-26</th>\n",
              "      <td>22.045844</td>\n",
              "      <td>NaN</td>\n",
              "      <td>NaN</td>\n",
              "      <td>NaN</td>\n",
              "      <td>NaN</td>\n",
              "      <td>NaN</td>\n",
              "    </tr>\n",
              "    <tr>\n",
              "      <th>2020-01-27</th>\n",
              "      <td>22.261423</td>\n",
              "      <td>NaN</td>\n",
              "      <td>NaN</td>\n",
              "      <td>NaN</td>\n",
              "      <td>NaN</td>\n",
              "      <td>NaN</td>\n",
              "    </tr>\n",
              "  </tbody>\n",
              "</table>\n",
              "<p>1853 rows × 6 columns</p>\n",
              "</div>"
            ],
            "text/plain": [
              "                   ts    ts_lag2   ts_lag10  ts_lag36  ts_lag50  ts_lag100\n",
              "2015-01-01   3.918657   8.994915   9.949024 -0.779262 -4.897912  -3.154977\n",
              "2015-01-02   7.105503   9.795846   7.226846 -2.266945 -4.074101  -5.337403\n",
              "2015-01-03   9.011262   6.611747   9.202592  3.647276 -7.056239  -8.337867\n",
              "2015-01-04   9.242989  11.599425  10.194954 -1.686528 -7.322694  -5.038158\n",
              "2015-01-05   6.101447   7.739107   9.933462 -4.242043 -9.034874  -5.198620\n",
              "...               ...        ...        ...       ...       ...        ...\n",
              "2020-01-23  21.768635  23.019488        NaN       NaN       NaN        NaN\n",
              "2020-01-24  17.763197  22.500342        NaN       NaN       NaN        NaN\n",
              "2020-01-25  21.820422  22.923253        NaN       NaN       NaN        NaN\n",
              "2020-01-26  22.045844        NaN        NaN       NaN       NaN        NaN\n",
              "2020-01-27  22.261423        NaN        NaN       NaN       NaN        NaN\n",
              "\n",
              "[1853 rows x 6 columns]"
            ]
          },
          "metadata": {
            "tags": []
          },
          "execution_count": 47
        }
      ]
    },
    {
      "cell_type": "code",
      "metadata": {
        "colab": {
          "base_uri": "https://localhost:8080/",
          "height": 111
        },
        "id": "U3L_QRh7Wcqg",
        "outputId": "8af4a540-7699-4714-fe44-745021ab73d6"
      },
      "source": [
        "pd.DataFrame().append(df_ts.corr()['ts'].to_frame('lag0').T.append(df_ts.corr()['ts'].to_frame('lag1').T))"
      ],
      "execution_count": 48,
      "outputs": [
        {
          "output_type": "execute_result",
          "data": {
            "text/html": [
              "<div>\n",
              "<style scoped>\n",
              "    .dataframe tbody tr th:only-of-type {\n",
              "        vertical-align: middle;\n",
              "    }\n",
              "\n",
              "    .dataframe tbody tr th {\n",
              "        vertical-align: top;\n",
              "    }\n",
              "\n",
              "    .dataframe thead th {\n",
              "        text-align: right;\n",
              "    }\n",
              "</style>\n",
              "<table border=\"1\" class=\"dataframe\">\n",
              "  <thead>\n",
              "    <tr style=\"text-align: right;\">\n",
              "      <th></th>\n",
              "      <th>ts</th>\n",
              "      <th>ts_lag2</th>\n",
              "      <th>ts_lag10</th>\n",
              "      <th>ts_lag36</th>\n",
              "      <th>ts_lag50</th>\n",
              "      <th>ts_lag100</th>\n",
              "    </tr>\n",
              "  </thead>\n",
              "  <tbody>\n",
              "    <tr>\n",
              "      <th>lag0</th>\n",
              "      <td>1.0</td>\n",
              "      <td>0.92114</td>\n",
              "      <td>0.838425</td>\n",
              "      <td>0.343583</td>\n",
              "      <td>0.302058</td>\n",
              "      <td>0.030333</td>\n",
              "    </tr>\n",
              "    <tr>\n",
              "      <th>lag1</th>\n",
              "      <td>1.0</td>\n",
              "      <td>0.92114</td>\n",
              "      <td>0.838425</td>\n",
              "      <td>0.343583</td>\n",
              "      <td>0.302058</td>\n",
              "      <td>0.030333</td>\n",
              "    </tr>\n",
              "  </tbody>\n",
              "</table>\n",
              "</div>"
            ],
            "text/plain": [
              "       ts  ts_lag2  ts_lag10  ts_lag36  ts_lag50  ts_lag100\n",
              "lag0  1.0  0.92114  0.838425  0.343583  0.302058   0.030333\n",
              "lag1  1.0  0.92114  0.838425  0.343583  0.302058   0.030333"
            ]
          },
          "metadata": {
            "tags": []
          },
          "execution_count": 48
        }
      ]
    },
    {
      "cell_type": "code",
      "metadata": {
        "id": "Fv2fVdljWIxD"
      },
      "source": [
        "def calc_lag_corr_df(\r\n",
        "    df_ts: pd.DataFrame,\r\n",
        "    target_col: str,\r\n",
        "    max_lag: int=300\r\n",
        "):\r\n",
        "    df_ts_lag = df_ts.copy()\r\n",
        "    df_corrs = []\r\n",
        "    for lag in range(max_lag):\r\n",
        "        df_ts_lag['target_lag'] = df_ts[target_col].shift(-(lag+1))\r\n",
        "        df_corr = df_ts_lag.corr()['target_lag'].to_frame(f'lag{lag+1}').T\r\n",
        "        df_corrs.append(df_corr)\r\n",
        "    return pd.concat(df_corrs).drop(['target_lag', target_col], axis=1)"
      ],
      "execution_count": 79,
      "outputs": []
    },
    {
      "cell_type": "code",
      "metadata": {
        "id": "fL0Q7FD3alIP"
      },
      "source": [
        "def find_max_lags(df_lag_corr: pd.DataFrame):\r\n",
        "    return {col: df_lag_corr[col].argmax()+1 for col in df_lag_corr.columns}"
      ],
      "execution_count": 80,
      "outputs": []
    },
    {
      "cell_type": "code",
      "metadata": {
        "id": "KZP8BzbBX9_Y"
      },
      "source": [
        "df_lag_corr = calc_lag_corr_df(df_ts, 'ts', 150)"
      ],
      "execution_count": 81,
      "outputs": []
    },
    {
      "cell_type": "code",
      "metadata": {
        "colab": {
          "base_uri": "https://localhost:8080/",
          "height": 419
        },
        "id": "CDJWsTHKZjEx",
        "outputId": "1381a56f-df18-4759-ae44-8ee70fec42a1"
      },
      "source": [
        "df_lag_corr"
      ],
      "execution_count": 82,
      "outputs": [
        {
          "output_type": "execute_result",
          "data": {
            "text/html": [
              "<div>\n",
              "<style scoped>\n",
              "    .dataframe tbody tr th:only-of-type {\n",
              "        vertical-align: middle;\n",
              "    }\n",
              "\n",
              "    .dataframe tbody tr th {\n",
              "        vertical-align: top;\n",
              "    }\n",
              "\n",
              "    .dataframe thead th {\n",
              "        text-align: right;\n",
              "    }\n",
              "</style>\n",
              "<table border=\"1\" class=\"dataframe\">\n",
              "  <thead>\n",
              "    <tr style=\"text-align: right;\">\n",
              "      <th></th>\n",
              "      <th>ts_lag2</th>\n",
              "      <th>ts_lag10</th>\n",
              "      <th>ts_lag36</th>\n",
              "      <th>ts_lag50</th>\n",
              "      <th>ts_lag100</th>\n",
              "    </tr>\n",
              "  </thead>\n",
              "  <tbody>\n",
              "    <tr>\n",
              "      <th>lag1</th>\n",
              "      <td>0.923395</td>\n",
              "      <td>0.857128</td>\n",
              "      <td>0.349379</td>\n",
              "      <td>0.302778</td>\n",
              "      <td>0.013383</td>\n",
              "    </tr>\n",
              "    <tr>\n",
              "      <th>lag2</th>\n",
              "      <td>0.992296</td>\n",
              "      <td>0.869864</td>\n",
              "      <td>0.364123</td>\n",
              "      <td>0.300499</td>\n",
              "      <td>-0.005378</td>\n",
              "    </tr>\n",
              "    <tr>\n",
              "      <th>lag3</th>\n",
              "      <td>0.922703</td>\n",
              "      <td>0.882277</td>\n",
              "      <td>0.372737</td>\n",
              "      <td>0.302408</td>\n",
              "      <td>-0.019743</td>\n",
              "    </tr>\n",
              "    <tr>\n",
              "      <th>lag4</th>\n",
              "      <td>0.920981</td>\n",
              "      <td>0.895532</td>\n",
              "      <td>0.388619</td>\n",
              "      <td>0.305985</td>\n",
              "      <td>-0.031346</td>\n",
              "    </tr>\n",
              "    <tr>\n",
              "      <th>lag5</th>\n",
              "      <td>0.916224</td>\n",
              "      <td>0.902309</td>\n",
              "      <td>0.405243</td>\n",
              "      <td>0.306653</td>\n",
              "      <td>-0.040118</td>\n",
              "    </tr>\n",
              "    <tr>\n",
              "      <th>...</th>\n",
              "      <td>...</td>\n",
              "      <td>...</td>\n",
              "      <td>...</td>\n",
              "      <td>...</td>\n",
              "      <td>...</td>\n",
              "    </tr>\n",
              "    <tr>\n",
              "      <th>lag146</th>\n",
              "      <td>0.687951</td>\n",
              "      <td>0.722192</td>\n",
              "      <td>0.284335</td>\n",
              "      <td>-0.033227</td>\n",
              "      <td>0.257458</td>\n",
              "    </tr>\n",
              "    <tr>\n",
              "      <th>lag147</th>\n",
              "      <td>0.681522</td>\n",
              "      <td>0.719075</td>\n",
              "      <td>0.313094</td>\n",
              "      <td>-0.019010</td>\n",
              "      <td>0.256793</td>\n",
              "    </tr>\n",
              "    <tr>\n",
              "      <th>lag148</th>\n",
              "      <td>0.674913</td>\n",
              "      <td>0.719208</td>\n",
              "      <td>0.340843</td>\n",
              "      <td>-0.000347</td>\n",
              "      <td>0.255304</td>\n",
              "    </tr>\n",
              "    <tr>\n",
              "      <th>lag149</th>\n",
              "      <td>0.668426</td>\n",
              "      <td>0.717446</td>\n",
              "      <td>0.369019</td>\n",
              "      <td>0.016747</td>\n",
              "      <td>0.257201</td>\n",
              "    </tr>\n",
              "    <tr>\n",
              "      <th>lag150</th>\n",
              "      <td>0.667201</td>\n",
              "      <td>0.712484</td>\n",
              "      <td>0.400167</td>\n",
              "      <td>0.033585</td>\n",
              "      <td>0.257839</td>\n",
              "    </tr>\n",
              "  </tbody>\n",
              "</table>\n",
              "<p>150 rows × 5 columns</p>\n",
              "</div>"
            ],
            "text/plain": [
              "         ts_lag2  ts_lag10  ts_lag36  ts_lag50  ts_lag100\n",
              "lag1    0.923395  0.857128  0.349379  0.302778   0.013383\n",
              "lag2    0.992296  0.869864  0.364123  0.300499  -0.005378\n",
              "lag3    0.922703  0.882277  0.372737  0.302408  -0.019743\n",
              "lag4    0.920981  0.895532  0.388619  0.305985  -0.031346\n",
              "lag5    0.916224  0.902309  0.405243  0.306653  -0.040118\n",
              "...          ...       ...       ...       ...        ...\n",
              "lag146  0.687951  0.722192  0.284335 -0.033227   0.257458\n",
              "lag147  0.681522  0.719075  0.313094 -0.019010   0.256793\n",
              "lag148  0.674913  0.719208  0.340843 -0.000347   0.255304\n",
              "lag149  0.668426  0.717446  0.369019  0.016747   0.257201\n",
              "lag150  0.667201  0.712484  0.400167  0.033585   0.257839\n",
              "\n",
              "[150 rows x 5 columns]"
            ]
          },
          "metadata": {
            "tags": []
          },
          "execution_count": 82
        }
      ]
    },
    {
      "cell_type": "code",
      "metadata": {
        "colab": {
          "base_uri": "https://localhost:8080/"
        },
        "id": "aNyfU2z2bHsJ",
        "outputId": "352acae3-9927-44bd-89c2-23f89c2f7d8e"
      },
      "source": [
        "find_max_lags(df_lag_corr)"
      ],
      "execution_count": 83,
      "outputs": [
        {
          "output_type": "execute_result",
          "data": {
            "text/plain": [
              "{'ts_lag10': 10,\n",
              " 'ts_lag100': 100,\n",
              " 'ts_lag2': 2,\n",
              " 'ts_lag36': 36,\n",
              " 'ts_lag50': 50}"
            ]
          },
          "metadata": {
            "tags": []
          },
          "execution_count": 83
        }
      ]
    },
    {
      "cell_type": "code",
      "metadata": {
        "colab": {
          "base_uri": "https://localhost:8080/"
        },
        "id": "pDBDRTKzaISc",
        "outputId": "f3e5cb7a-e88b-41a7-be87-4c15901c33b4"
      },
      "source": [
        "df_lag_corr[f'ts_lag{lag}'].argmax()"
      ],
      "execution_count": 84,
      "outputs": [
        {
          "output_type": "execute_result",
          "data": {
            "text/plain": [
              "99"
            ]
          },
          "metadata": {
            "tags": []
          },
          "execution_count": 84
        }
      ]
    },
    {
      "cell_type": "code",
      "metadata": {
        "colab": {
          "base_uri": "https://localhost:8080/",
          "height": 1000
        },
        "id": "vPFiRHOjYCQB",
        "outputId": "842d34b0-d416-43ba-c6a3-e99e89aa0fb5"
      },
      "source": [
        "\r\n",
        "for lag in lags:\r\n",
        "    plt.figure(figsize=(16, 5))\r\n",
        "    plt.plot(1+np.arange(len(df_lag_corr)), df_lag_corr[f'ts_lag{lag}'], marker='o')\r\n",
        "    plt.xlabel('lag')\r\n",
        "    plt.ylabel('correlation')\r\n",
        "    plt.title(f'ts_lag{lag}')\r\n",
        "    maxlag = df_lag_corr[f'ts_lag{lag}'].argmax()+1\r\n",
        "    plt.axvline(maxlag, linestyle='dashed')\r\n",
        "    print(f'corr_maxlag = {maxlag}')\r\n",
        "    plt.show()"
      ],
      "execution_count": 85,
      "outputs": [
        {
          "output_type": "stream",
          "text": [
            "corr_maxlag = 2\n"
          ],
          "name": "stdout"
        },
        {
          "output_type": "display_data",
          "data": {
            "image/png": "[encoded data removed]",
            "text/plain": [
              "<Figure size 1152x360 with 1 Axes>"
            ]
          },
          "metadata": {
            "tags": [],
            "needs_background": "light"
          }
        },
        {
          "output_type": "stream",
          "text": [
            "corr_maxlag = 10\n"
          ],
          "name": "stdout"
        },
        {
          "output_type": "display_data",
          "data": {
            "image/png": "[encoded data removed]",
            "text/plain": [
              "<Figure size 1152x360 with 1 Axes>"
            ]
          },
          "metadata": {
            "tags": [],
            "needs_background": "light"
          }
        },
        {
          "output_type": "stream",
          "text": [
            "corr_maxlag = 36\n"
          ],
          "name": "stdout"
        },
        {
          "output_type": "display_data",
          "data": {
            "image/png": "[encoded data removed]",
            "text/plain": [
              "<Figure size 1152x360 with 1 Axes>"
            ]
          },
          "metadata": {
            "tags": [],
            "needs_background": "light"
          }
        },
        {
          "output_type": "stream",
          "text": [
            "corr_maxlag = 50\n"
          ],
          "name": "stdout"
        },
        {
          "output_type": "display_data",
          "data": {
            "image/png": "[encoded data removed]",
            "text/plain": [
              "<Figure size 1152x360 with 1 Axes>"
            ]
          },
          "metadata": {
            "tags": [],
            "needs_background": "light"
          }
        },
        {
          "output_type": "stream",
          "text": [
            "corr_maxlag = 100\n"
          ],
          "name": "stdout"
        },
        {
          "output_type": "display_data",
          "data": {
            "image/png": "[encoded data removed]",
            "text/plain": [
              "<Figure size 1152x360 with 1 Axes>"
            ]
          },
          "metadata": {
            "tags": [],
            "needs_background": "light"
          }
        }
      ]
    },
    {
      "cell_type": "code",
      "metadata": {
        "id": "NP5SSdvYZpU6"
      },
      "source": [
        "}"
      ],
      "execution_count": null,
      "outputs": []
    }
  ]
}