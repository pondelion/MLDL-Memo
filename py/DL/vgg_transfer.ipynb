{
  "nbformat": 4,
  "nbformat_minor": 0,
  "metadata": {
    "colab": {
      "name": "vgg_transfer_candlechart.ipynb",
      "provenance": []
    },
    "kernelspec": {
      "name": "python3",
      "display_name": "Python 3"
    },
    "accelerator": "GPU"
  },
  "cells": [
    {
      "cell_type": "code",
      "metadata": {
        "id": "my0GTQ0JNqAh",
        "colab_type": "code",
        "colab": {}
      },
      "source": [
        "import os\n",
        "from typing import List, Dict\n",
        "import re\n",
        "from datetime import datetime, timedelta\n",
        "import pandas as pd\n",
        "import numpy as np\n",
        "import boto3\n",
        "from boto3.dynamodb.conditions import Key\n",
        "import matplotlib.pyplot as plt\n",
        "from fastprogress import progress_bar as pb"
      ],
      "execution_count": 0,
      "outputs": []
    },
    {
      "cell_type": "code",
      "metadata": {
        "id": "hbEgKGOENx_o",
        "colab_type": "code",
        "colab": {}
      },
      "source": [
        "df_stockprice_meta = pd.read_csv('s3://fin-app/stockprice_candlechart/metadata/DAILY_WINDOW-120d_STRIDE-30d_WIDTH-0.5/stockprice_metadata.csv')"
      ],
      "execution_count": 0,
      "outputs": []
    },
    {
      "cell_type": "code",
      "metadata": {
        "id": "lV6WsQgIN-DC",
        "colab_type": "code",
        "outputId": "6e8fb0af-cb77-42e6-9f79-35eb45fd0763",
        "colab": {
          "base_uri": "https://localhost:8080/",
          "height": 419
        }
      },
      "source": [
        "df_stockprice_meta"
      ],
      "execution_count": 4,
      "outputs": [
        {
          "output_type": "execute_result",
          "data": {
            "text/html": [
              "<div>\n",
              "<style scoped>\n",
              "    .dataframe tbody tr th:only-of-type {\n",
              "        vertical-align: middle;\n",
              "    }\n",
              "\n",
              "    .dataframe tbody tr th {\n",
              "        vertical-align: top;\n",
              "    }\n",
              "\n",
              "    .dataframe thead th {\n",
              "        text-align: right;\n",
              "    }\n",
              "</style>\n",
              "<table border=\"1\" class=\"dataframe\">\n",
              "  <thead>\n",
              "    <tr style=\"text-align: right;\">\n",
              "      <th></th>\n",
              "      <th>s3_filepath</th>\n",
              "      <th>code</th>\n",
              "      <th>start_dt</th>\n",
              "      <th>end_dt</th>\n",
              "      <th>change_rate_30d</th>\n",
              "    </tr>\n",
              "  </thead>\n",
              "  <tbody>\n",
              "    <tr>\n",
              "      <th>0</th>\n",
              "      <td>s3://fin-app/stockprice_candlechart/DAILY_WIND...</td>\n",
              "      <td>1301</td>\n",
              "      <td>1983-01-04</td>\n",
              "      <td>1983-05-04</td>\n",
              "      <td>-0.029299</td>\n",
              "    </tr>\n",
              "    <tr>\n",
              "      <th>1</th>\n",
              "      <td>s3://fin-app/stockprice_candlechart/DAILY_WIND...</td>\n",
              "      <td>1301</td>\n",
              "      <td>1983-02-03</td>\n",
              "      <td>1983-06-03</td>\n",
              "      <td>0.004054</td>\n",
              "    </tr>\n",
              "    <tr>\n",
              "      <th>2</th>\n",
              "      <td>s3://fin-app/stockprice_candlechart/DAILY_WIND...</td>\n",
              "      <td>1301</td>\n",
              "      <td>1983-03-05</td>\n",
              "      <td>1983-07-03</td>\n",
              "      <td>-0.024837</td>\n",
              "    </tr>\n",
              "    <tr>\n",
              "      <th>3</th>\n",
              "      <td>s3://fin-app/stockprice_candlechart/DAILY_WIND...</td>\n",
              "      <td>1301</td>\n",
              "      <td>1983-04-04</td>\n",
              "      <td>1983-08-02</td>\n",
              "      <td>-0.010135</td>\n",
              "    </tr>\n",
              "    <tr>\n",
              "      <th>4</th>\n",
              "      <td>s3://fin-app/stockprice_candlechart/DAILY_WIND...</td>\n",
              "      <td>1301</td>\n",
              "      <td>1983-05-04</td>\n",
              "      <td>1983-09-01</td>\n",
              "      <td>-0.027174</td>\n",
              "    </tr>\n",
              "    <tr>\n",
              "      <th>...</th>\n",
              "      <td>...</td>\n",
              "      <td>...</td>\n",
              "      <td>...</td>\n",
              "      <td>...</td>\n",
              "      <td>...</td>\n",
              "    </tr>\n",
              "    <tr>\n",
              "      <th>959043</th>\n",
              "      <td>s3://fin-app/stockprice_candlechart/DAILY_WIND...</td>\n",
              "      <td>9997</td>\n",
              "      <td>2019-03-27</td>\n",
              "      <td>2019-07-25</td>\n",
              "      <td>-0.085521</td>\n",
              "    </tr>\n",
              "    <tr>\n",
              "      <th>959044</th>\n",
              "      <td>s3://fin-app/stockprice_candlechart/DAILY_WIND...</td>\n",
              "      <td>9997</td>\n",
              "      <td>2019-04-26</td>\n",
              "      <td>2019-08-24</td>\n",
              "      <td>0.102655</td>\n",
              "    </tr>\n",
              "    <tr>\n",
              "      <th>959045</th>\n",
              "      <td>s3://fin-app/stockprice_candlechart/DAILY_WIND...</td>\n",
              "      <td>9997</td>\n",
              "      <td>2019-05-26</td>\n",
              "      <td>2019-09-23</td>\n",
              "      <td>-0.041828</td>\n",
              "    </tr>\n",
              "    <tr>\n",
              "      <th>959046</th>\n",
              "      <td>s3://fin-app/stockprice_candlechart/DAILY_WIND...</td>\n",
              "      <td>9997</td>\n",
              "      <td>2019-06-25</td>\n",
              "      <td>2019-10-23</td>\n",
              "      <td>0.053339</td>\n",
              "    </tr>\n",
              "    <tr>\n",
              "      <th>959047</th>\n",
              "      <td>s3://fin-app/stockprice_candlechart/DAILY_WIND...</td>\n",
              "      <td>9997</td>\n",
              "      <td>2019-07-25</td>\n",
              "      <td>2019-11-22</td>\n",
              "      <td>NaN</td>\n",
              "    </tr>\n",
              "  </tbody>\n",
              "</table>\n",
              "<p>959048 rows × 5 columns</p>\n",
              "</div>"
            ],
            "text/plain": [
              "                                              s3_filepath  ...  change_rate_30d\n",
              "0       s3://fin-app/stockprice_candlechart/DAILY_WIND...  ...        -0.029299\n",
              "1       s3://fin-app/stockprice_candlechart/DAILY_WIND...  ...         0.004054\n",
              "2       s3://fin-app/stockprice_candlechart/DAILY_WIND...  ...        -0.024837\n",
              "3       s3://fin-app/stockprice_candlechart/DAILY_WIND...  ...        -0.010135\n",
              "4       s3://fin-app/stockprice_candlechart/DAILY_WIND...  ...        -0.027174\n",
              "...                                                   ...  ...              ...\n",
              "959043  s3://fin-app/stockprice_candlechart/DAILY_WIND...  ...        -0.085521\n",
              "959044  s3://fin-app/stockprice_candlechart/DAILY_WIND...  ...         0.102655\n",
              "959045  s3://fin-app/stockprice_candlechart/DAILY_WIND...  ...        -0.041828\n",
              "959046  s3://fin-app/stockprice_candlechart/DAILY_WIND...  ...         0.053339\n",
              "959047  s3://fin-app/stockprice_candlechart/DAILY_WIND...  ...              NaN\n",
              "\n",
              "[959048 rows x 5 columns]"
            ]
          },
          "metadata": {
            "tags": []
          },
          "execution_count": 4
        }
      ]
    },
    {
      "cell_type": "code",
      "metadata": {
        "id": "MnHOuj1HOHiS",
        "colab_type": "code",
        "outputId": "e13ed342-c450-47d6-b5db-7450f787ddb8",
        "colab": {
          "base_uri": "https://localhost:8080/",
          "height": 34
        }
      },
      "source": [
        "df_stockprice_meta.change_rate_30d.isnull().sum()"
      ],
      "execution_count": 5,
      "outputs": [
        {
          "output_type": "execute_result",
          "data": {
            "text/plain": [
              "6325"
            ]
          },
          "metadata": {
            "tags": []
          },
          "execution_count": 5
        }
      ]
    },
    {
      "cell_type": "code",
      "metadata": {
        "id": "85piVhmLORHa",
        "colab_type": "code",
        "outputId": "9b862fd9-9441-4e2a-e140-1cd7ac500a42",
        "colab": {
          "base_uri": "https://localhost:8080/",
          "height": 286
        }
      },
      "source": [
        "plt.ylim(0, 10)\n",
        "df_stockprice_meta['change_rate_30d'].hist(bins=50)"
      ],
      "execution_count": 6,
      "outputs": [
        {
          "output_type": "execute_result",
          "data": {
            "text/plain": [
              "<matplotlib.axes._subplots.AxesSubplot at 0x7fcc161eaf28>"
            ]
          },
          "metadata": {
            "tags": []
          },
          "execution_count": 6
        },
        {
          "output_type": "display_data",
          "data": {
            "image/png": "[encoded data removed]",
            "text/plain": [
              "<Figure size 432x288 with 1 Axes>"
            ]
          },
          "metadata": {
            "tags": []
          }
        }
      ]
    },
    {
      "cell_type": "code",
      "metadata": {
        "id": "KDMNmhdJOjv6",
        "colab_type": "code",
        "outputId": "33780eaa-cd83-4e18-847a-ad75daed63fe",
        "colab": {
          "base_uri": "https://localhost:8080/",
          "height": 391
        }
      },
      "source": [
        "plt.figure(figsize=(10, 6))\n",
        "df_stockprice_meta[df_stockprice_meta['change_rate_30d'] < 1.0]['change_rate_30d'].hist(bins=100)"
      ],
      "execution_count": 7,
      "outputs": [
        {
          "output_type": "execute_result",
          "data": {
            "text/plain": [
              "<matplotlib.axes._subplots.AxesSubplot at 0x7fcc15c61cf8>"
            ]
          },
          "metadata": {
            "tags": []
          },
          "execution_count": 7
        },
        {
          "output_type": "display_data",
          "data": {
            "image/png": "[encoded data removed]",
            "text/plain": [
              "<Figure size 720x432 with 1 Axes>"
            ]
          },
          "metadata": {
            "tags": []
          }
        }
      ]
    },
    {
      "cell_type": "code",
      "metadata": {
        "id": "Qai1ntmbQLiF",
        "colab_type": "code",
        "outputId": "1aed3d63-c599-4a3a-d4c7-e09a5671165f",
        "colab": {
          "base_uri": "https://localhost:8080/",
          "height": 395
        }
      },
      "source": [
        "plt.figure(figsize=(10, 6))\n",
        "plt.ylim(0, 100)\n",
        "df_stockprice_meta[df_stockprice_meta['change_rate_30d'] < 3.0]['change_rate_30d'].hist(bins=100)"
      ],
      "execution_count": 8,
      "outputs": [
        {
          "output_type": "execute_result",
          "data": {
            "text/plain": [
              "<matplotlib.axes._subplots.AxesSubplot at 0x7fcc15c30128>"
            ]
          },
          "metadata": {
            "tags": []
          },
          "execution_count": 8
        },
        {
          "output_type": "display_data",
          "data": {
            "image/png": "[encoded data removed]",
            "text/plain": [
              "<Figure size 720x432 with 1 Axes>"
            ]
          },
          "metadata": {
            "tags": []
          }
        }
      ]
    },
    {
      "cell_type": "code",
      "metadata": {
        "id": "_KJut59JPMRR",
        "colab_type": "code",
        "outputId": "bead7f67-4aa6-4cdc-c209-bd687f16075f",
        "colab": {
          "base_uri": "https://localhost:8080/",
          "height": 34
        }
      },
      "source": [
        "len(df_stockprice_meta[df_stockprice_meta['change_rate_30d'] < 1.0])"
      ],
      "execution_count": 9,
      "outputs": [
        {
          "output_type": "execute_result",
          "data": {
            "text/plain": [
              "951925"
            ]
          },
          "metadata": {
            "tags": []
          },
          "execution_count": 9
        }
      ]
    },
    {
      "cell_type": "code",
      "metadata": {
        "id": "mPMzH5likJxd",
        "colab_type": "code",
        "colab": {}
      },
      "source": [
        "df_stockprice_meta_valid = df_stockprice_meta.dropna(subset=['change_rate_30d'])"
      ],
      "execution_count": 0,
      "outputs": []
    },
    {
      "cell_type": "code",
      "metadata": {
        "id": "qXUkFRsCQG26",
        "colab_type": "code",
        "colab": {}
      },
      "source": [
        "df_stockprice_meta_valid = df_stockprice_meta[df_stockprice_meta['change_rate_30d'] < 3.0]"
      ],
      "execution_count": 0,
      "outputs": []
    },
    {
      "cell_type": "code",
      "metadata": {
        "id": "-QU2cHMjkWcF",
        "colab_type": "code",
        "outputId": "4b03a1e7-61bc-4916-9775-d547d9e7a4b9",
        "colab": {
          "base_uri": "https://localhost:8080/",
          "height": 419
        }
      },
      "source": [
        "df_stockprice_meta_valid[(df_stockprice_meta_valid['change_rate_30d'] < 0.03) & (df_stockprice_meta_valid['change_rate_30d'] > -0.03)]"
      ],
      "execution_count": 12,
      "outputs": [
        {
          "output_type": "execute_result",
          "data": {
            "text/html": [
              "<div>\n",
              "<style scoped>\n",
              "    .dataframe tbody tr th:only-of-type {\n",
              "        vertical-align: middle;\n",
              "    }\n",
              "\n",
              "    .dataframe tbody tr th {\n",
              "        vertical-align: top;\n",
              "    }\n",
              "\n",
              "    .dataframe thead th {\n",
              "        text-align: right;\n",
              "    }\n",
              "</style>\n",
              "<table border=\"1\" class=\"dataframe\">\n",
              "  <thead>\n",
              "    <tr style=\"text-align: right;\">\n",
              "      <th></th>\n",
              "      <th>s3_filepath</th>\n",
              "      <th>code</th>\n",
              "      <th>start_dt</th>\n",
              "      <th>end_dt</th>\n",
              "      <th>change_rate_30d</th>\n",
              "    </tr>\n",
              "  </thead>\n",
              "  <tbody>\n",
              "    <tr>\n",
              "      <th>0</th>\n",
              "      <td>s3://fin-app/stockprice_candlechart/DAILY_WIND...</td>\n",
              "      <td>1301</td>\n",
              "      <td>1983-01-04</td>\n",
              "      <td>1983-05-04</td>\n",
              "      <td>-0.029299</td>\n",
              "    </tr>\n",
              "    <tr>\n",
              "      <th>1</th>\n",
              "      <td>s3://fin-app/stockprice_candlechart/DAILY_WIND...</td>\n",
              "      <td>1301</td>\n",
              "      <td>1983-02-03</td>\n",
              "      <td>1983-06-03</td>\n",
              "      <td>0.004054</td>\n",
              "    </tr>\n",
              "    <tr>\n",
              "      <th>2</th>\n",
              "      <td>s3://fin-app/stockprice_candlechart/DAILY_WIND...</td>\n",
              "      <td>1301</td>\n",
              "      <td>1983-03-05</td>\n",
              "      <td>1983-07-03</td>\n",
              "      <td>-0.024837</td>\n",
              "    </tr>\n",
              "    <tr>\n",
              "      <th>3</th>\n",
              "      <td>s3://fin-app/stockprice_candlechart/DAILY_WIND...</td>\n",
              "      <td>1301</td>\n",
              "      <td>1983-04-04</td>\n",
              "      <td>1983-08-02</td>\n",
              "      <td>-0.010135</td>\n",
              "    </tr>\n",
              "    <tr>\n",
              "      <th>4</th>\n",
              "      <td>s3://fin-app/stockprice_candlechart/DAILY_WIND...</td>\n",
              "      <td>1301</td>\n",
              "      <td>1983-05-04</td>\n",
              "      <td>1983-09-01</td>\n",
              "      <td>-0.027174</td>\n",
              "    </tr>\n",
              "    <tr>\n",
              "      <th>...</th>\n",
              "      <td>...</td>\n",
              "      <td>...</td>\n",
              "      <td>...</td>\n",
              "      <td>...</td>\n",
              "      <td>...</td>\n",
              "    </tr>\n",
              "    <tr>\n",
              "      <th>959032</th>\n",
              "      <td>s3://fin-app/stockprice_candlechart/DAILY_WIND...</td>\n",
              "      <td>9997</td>\n",
              "      <td>2018-05-01</td>\n",
              "      <td>2018-08-29</td>\n",
              "      <td>-0.007617</td>\n",
              "    </tr>\n",
              "    <tr>\n",
              "      <th>959036</th>\n",
              "      <td>s3://fin-app/stockprice_candlechart/DAILY_WIND...</td>\n",
              "      <td>9997</td>\n",
              "      <td>2018-08-29</td>\n",
              "      <td>2018-12-27</td>\n",
              "      <td>-0.007688</td>\n",
              "    </tr>\n",
              "    <tr>\n",
              "      <th>959038</th>\n",
              "      <td>s3://fin-app/stockprice_candlechart/DAILY_WIND...</td>\n",
              "      <td>9997</td>\n",
              "      <td>2018-10-28</td>\n",
              "      <td>2019-02-25</td>\n",
              "      <td>-0.013791</td>\n",
              "    </tr>\n",
              "    <tr>\n",
              "      <th>959040</th>\n",
              "      <td>s3://fin-app/stockprice_candlechart/DAILY_WIND...</td>\n",
              "      <td>9997</td>\n",
              "      <td>2018-12-27</td>\n",
              "      <td>2019-04-26</td>\n",
              "      <td>-0.023604</td>\n",
              "    </tr>\n",
              "    <tr>\n",
              "      <th>959042</th>\n",
              "      <td>s3://fin-app/stockprice_candlechart/DAILY_WIND...</td>\n",
              "      <td>9997</td>\n",
              "      <td>2019-02-25</td>\n",
              "      <td>2019-06-25</td>\n",
              "      <td>0.010985</td>\n",
              "    </tr>\n",
              "  </tbody>\n",
              "</table>\n",
              "<p>442526 rows × 5 columns</p>\n",
              "</div>"
            ],
            "text/plain": [
              "                                              s3_filepath  ...  change_rate_30d\n",
              "0       s3://fin-app/stockprice_candlechart/DAILY_WIND...  ...        -0.029299\n",
              "1       s3://fin-app/stockprice_candlechart/DAILY_WIND...  ...         0.004054\n",
              "2       s3://fin-app/stockprice_candlechart/DAILY_WIND...  ...        -0.024837\n",
              "3       s3://fin-app/stockprice_candlechart/DAILY_WIND...  ...        -0.010135\n",
              "4       s3://fin-app/stockprice_candlechart/DAILY_WIND...  ...        -0.027174\n",
              "...                                                   ...  ...              ...\n",
              "959032  s3://fin-app/stockprice_candlechart/DAILY_WIND...  ...        -0.007617\n",
              "959036  s3://fin-app/stockprice_candlechart/DAILY_WIND...  ...        -0.007688\n",
              "959038  s3://fin-app/stockprice_candlechart/DAILY_WIND...  ...        -0.013791\n",
              "959040  s3://fin-app/stockprice_candlechart/DAILY_WIND...  ...        -0.023604\n",
              "959042  s3://fin-app/stockprice_candlechart/DAILY_WIND...  ...         0.010985\n",
              "\n",
              "[442526 rows x 5 columns]"
            ]
          },
          "metadata": {
            "tags": []
          },
          "execution_count": 12
        }
      ]
    },
    {
      "cell_type": "code",
      "metadata": {
        "id": "ziDSH2dgk_EC",
        "colab_type": "code",
        "outputId": "d4663beb-817b-4fbd-b4e1-3ec0446a44d4",
        "colab": {
          "base_uri": "https://localhost:8080/",
          "height": 419
        }
      },
      "source": [
        "df_stockprice_meta_valid[(df_stockprice_meta_valid['change_rate_30d'] >= 0.03)]"
      ],
      "execution_count": 13,
      "outputs": [
        {
          "output_type": "execute_result",
          "data": {
            "text/html": [
              "<div>\n",
              "<style scoped>\n",
              "    .dataframe tbody tr th:only-of-type {\n",
              "        vertical-align: middle;\n",
              "    }\n",
              "\n",
              "    .dataframe tbody tr th {\n",
              "        vertical-align: top;\n",
              "    }\n",
              "\n",
              "    .dataframe thead th {\n",
              "        text-align: right;\n",
              "    }\n",
              "</style>\n",
              "<table border=\"1\" class=\"dataframe\">\n",
              "  <thead>\n",
              "    <tr style=\"text-align: right;\">\n",
              "      <th></th>\n",
              "      <th>s3_filepath</th>\n",
              "      <th>code</th>\n",
              "      <th>start_dt</th>\n",
              "      <th>end_dt</th>\n",
              "      <th>change_rate_30d</th>\n",
              "    </tr>\n",
              "  </thead>\n",
              "  <tbody>\n",
              "    <tr>\n",
              "      <th>8</th>\n",
              "      <td>s3://fin-app/stockprice_candlechart/DAILY_WIND...</td>\n",
              "      <td>1301</td>\n",
              "      <td>1983-09-01</td>\n",
              "      <td>1983-12-30</td>\n",
              "      <td>0.034459</td>\n",
              "    </tr>\n",
              "    <tr>\n",
              "      <th>13</th>\n",
              "      <td>s3://fin-app/stockprice_candlechart/DAILY_WIND...</td>\n",
              "      <td>1301</td>\n",
              "      <td>1984-01-29</td>\n",
              "      <td>1984-05-28</td>\n",
              "      <td>0.054121</td>\n",
              "    </tr>\n",
              "    <tr>\n",
              "      <th>15</th>\n",
              "      <td>s3://fin-app/stockprice_candlechart/DAILY_WIND...</td>\n",
              "      <td>1301</td>\n",
              "      <td>1984-03-29</td>\n",
              "      <td>1984-07-27</td>\n",
              "      <td>0.032057</td>\n",
              "    </tr>\n",
              "    <tr>\n",
              "      <th>18</th>\n",
              "      <td>s3://fin-app/stockprice_candlechart/DAILY_WIND...</td>\n",
              "      <td>1301</td>\n",
              "      <td>1984-06-27</td>\n",
              "      <td>1984-10-25</td>\n",
              "      <td>0.108366</td>\n",
              "    </tr>\n",
              "    <tr>\n",
              "      <th>19</th>\n",
              "      <td>s3://fin-app/stockprice_candlechart/DAILY_WIND...</td>\n",
              "      <td>1301</td>\n",
              "      <td>1984-07-27</td>\n",
              "      <td>1984-11-24</td>\n",
              "      <td>0.388950</td>\n",
              "    </tr>\n",
              "    <tr>\n",
              "      <th>...</th>\n",
              "      <td>...</td>\n",
              "      <td>...</td>\n",
              "      <td>...</td>\n",
              "      <td>...</td>\n",
              "      <td>...</td>\n",
              "    </tr>\n",
              "    <tr>\n",
              "      <th>959023</th>\n",
              "      <td>s3://fin-app/stockprice_candlechart/DAILY_WIND...</td>\n",
              "      <td>9997</td>\n",
              "      <td>2017-08-04</td>\n",
              "      <td>2017-12-02</td>\n",
              "      <td>0.065640</td>\n",
              "    </tr>\n",
              "    <tr>\n",
              "      <th>959028</th>\n",
              "      <td>s3://fin-app/stockprice_candlechart/DAILY_WIND...</td>\n",
              "      <td>9997</td>\n",
              "      <td>2018-01-01</td>\n",
              "      <td>2018-05-01</td>\n",
              "      <td>0.085977</td>\n",
              "    </tr>\n",
              "    <tr>\n",
              "      <th>959034</th>\n",
              "      <td>s3://fin-app/stockprice_candlechart/DAILY_WIND...</td>\n",
              "      <td>9997</td>\n",
              "      <td>2018-06-30</td>\n",
              "      <td>2018-10-28</td>\n",
              "      <td>0.110183</td>\n",
              "    </tr>\n",
              "    <tr>\n",
              "      <th>959044</th>\n",
              "      <td>s3://fin-app/stockprice_candlechart/DAILY_WIND...</td>\n",
              "      <td>9997</td>\n",
              "      <td>2019-04-26</td>\n",
              "      <td>2019-08-24</td>\n",
              "      <td>0.102655</td>\n",
              "    </tr>\n",
              "    <tr>\n",
              "      <th>959046</th>\n",
              "      <td>s3://fin-app/stockprice_candlechart/DAILY_WIND...</td>\n",
              "      <td>9997</td>\n",
              "      <td>2019-06-25</td>\n",
              "      <td>2019-10-23</td>\n",
              "      <td>0.053339</td>\n",
              "    </tr>\n",
              "  </tbody>\n",
              "</table>\n",
              "<p>253075 rows × 5 columns</p>\n",
              "</div>"
            ],
            "text/plain": [
              "                                              s3_filepath  ...  change_rate_30d\n",
              "8       s3://fin-app/stockprice_candlechart/DAILY_WIND...  ...         0.034459\n",
              "13      s3://fin-app/stockprice_candlechart/DAILY_WIND...  ...         0.054121\n",
              "15      s3://fin-app/stockprice_candlechart/DAILY_WIND...  ...         0.032057\n",
              "18      s3://fin-app/stockprice_candlechart/DAILY_WIND...  ...         0.108366\n",
              "19      s3://fin-app/stockprice_candlechart/DAILY_WIND...  ...         0.388950\n",
              "...                                                   ...  ...              ...\n",
              "959023  s3://fin-app/stockprice_candlechart/DAILY_WIND...  ...         0.065640\n",
              "959028  s3://fin-app/stockprice_candlechart/DAILY_WIND...  ...         0.085977\n",
              "959034  s3://fin-app/stockprice_candlechart/DAILY_WIND...  ...         0.110183\n",
              "959044  s3://fin-app/stockprice_candlechart/DAILY_WIND...  ...         0.102655\n",
              "959046  s3://fin-app/stockprice_candlechart/DAILY_WIND...  ...         0.053339\n",
              "\n",
              "[253075 rows x 5 columns]"
            ]
          },
          "metadata": {
            "tags": []
          },
          "execution_count": 13
        }
      ]
    },
    {
      "cell_type": "code",
      "metadata": {
        "id": "bjj9fbc3lEg2",
        "colab_type": "code",
        "outputId": "607d4e09-b261-4ea4-b944-b4441accf1d0",
        "colab": {
          "base_uri": "https://localhost:8080/",
          "height": 419
        }
      },
      "source": [
        "df_stockprice_meta_valid[(df_stockprice_meta_valid['change_rate_30d'] <= -0.03)]"
      ],
      "execution_count": 14,
      "outputs": [
        {
          "output_type": "execute_result",
          "data": {
            "text/html": [
              "<div>\n",
              "<style scoped>\n",
              "    .dataframe tbody tr th:only-of-type {\n",
              "        vertical-align: middle;\n",
              "    }\n",
              "\n",
              "    .dataframe tbody tr th {\n",
              "        vertical-align: top;\n",
              "    }\n",
              "\n",
              "    .dataframe thead th {\n",
              "        text-align: right;\n",
              "    }\n",
              "</style>\n",
              "<table border=\"1\" class=\"dataframe\">\n",
              "  <thead>\n",
              "    <tr style=\"text-align: right;\">\n",
              "      <th></th>\n",
              "      <th>s3_filepath</th>\n",
              "      <th>code</th>\n",
              "      <th>start_dt</th>\n",
              "      <th>end_dt</th>\n",
              "      <th>change_rate_30d</th>\n",
              "    </tr>\n",
              "  </thead>\n",
              "  <tbody>\n",
              "    <tr>\n",
              "      <th>6</th>\n",
              "      <td>s3://fin-app/stockprice_candlechart/DAILY_WIND...</td>\n",
              "      <td>1301</td>\n",
              "      <td>1983-07-03</td>\n",
              "      <td>1983-10-31</td>\n",
              "      <td>-0.030833</td>\n",
              "    </tr>\n",
              "    <tr>\n",
              "      <th>10</th>\n",
              "      <td>s3://fin-app/stockprice_candlechart/DAILY_WIND...</td>\n",
              "      <td>1301</td>\n",
              "      <td>1983-10-31</td>\n",
              "      <td>1984-02-28</td>\n",
              "      <td>-0.030789</td>\n",
              "    </tr>\n",
              "    <tr>\n",
              "      <th>14</th>\n",
              "      <td>s3://fin-app/stockprice_candlechart/DAILY_WIND...</td>\n",
              "      <td>1301</td>\n",
              "      <td>1984-02-28</td>\n",
              "      <td>1984-06-27</td>\n",
              "      <td>-0.066038</td>\n",
              "    </tr>\n",
              "    <tr>\n",
              "      <th>21</th>\n",
              "      <td>s3://fin-app/stockprice_candlechart/DAILY_WIND...</td>\n",
              "      <td>1301</td>\n",
              "      <td>1984-09-25</td>\n",
              "      <td>1985-01-23</td>\n",
              "      <td>-0.075235</td>\n",
              "    </tr>\n",
              "    <tr>\n",
              "      <th>22</th>\n",
              "      <td>s3://fin-app/stockprice_candlechart/DAILY_WIND...</td>\n",
              "      <td>1301</td>\n",
              "      <td>1984-10-25</td>\n",
              "      <td>1985-02-22</td>\n",
              "      <td>-0.055794</td>\n",
              "    </tr>\n",
              "    <tr>\n",
              "      <th>...</th>\n",
              "      <td>...</td>\n",
              "      <td>...</td>\n",
              "      <td>...</td>\n",
              "      <td>...</td>\n",
              "      <td>...</td>\n",
              "    </tr>\n",
              "    <tr>\n",
              "      <th>959037</th>\n",
              "      <td>s3://fin-app/stockprice_candlechart/DAILY_WIND...</td>\n",
              "      <td>9997</td>\n",
              "      <td>2018-09-28</td>\n",
              "      <td>2019-01-26</td>\n",
              "      <td>-0.108651</td>\n",
              "    </tr>\n",
              "    <tr>\n",
              "      <th>959039</th>\n",
              "      <td>s3://fin-app/stockprice_candlechart/DAILY_WIND...</td>\n",
              "      <td>9997</td>\n",
              "      <td>2018-11-27</td>\n",
              "      <td>2019-03-27</td>\n",
              "      <td>-0.033822</td>\n",
              "    </tr>\n",
              "    <tr>\n",
              "      <th>959041</th>\n",
              "      <td>s3://fin-app/stockprice_candlechart/DAILY_WIND...</td>\n",
              "      <td>9997</td>\n",
              "      <td>2019-01-26</td>\n",
              "      <td>2019-05-26</td>\n",
              "      <td>-0.066607</td>\n",
              "    </tr>\n",
              "    <tr>\n",
              "      <th>959043</th>\n",
              "      <td>s3://fin-app/stockprice_candlechart/DAILY_WIND...</td>\n",
              "      <td>9997</td>\n",
              "      <td>2019-03-27</td>\n",
              "      <td>2019-07-25</td>\n",
              "      <td>-0.085521</td>\n",
              "    </tr>\n",
              "    <tr>\n",
              "      <th>959045</th>\n",
              "      <td>s3://fin-app/stockprice_candlechart/DAILY_WIND...</td>\n",
              "      <td>9997</td>\n",
              "      <td>2019-05-26</td>\n",
              "      <td>2019-09-23</td>\n",
              "      <td>-0.041828</td>\n",
              "    </tr>\n",
              "  </tbody>\n",
              "</table>\n",
              "<p>256840 rows × 5 columns</p>\n",
              "</div>"
            ],
            "text/plain": [
              "                                              s3_filepath  ...  change_rate_30d\n",
              "6       s3://fin-app/stockprice_candlechart/DAILY_WIND...  ...        -0.030833\n",
              "10      s3://fin-app/stockprice_candlechart/DAILY_WIND...  ...        -0.030789\n",
              "14      s3://fin-app/stockprice_candlechart/DAILY_WIND...  ...        -0.066038\n",
              "21      s3://fin-app/stockprice_candlechart/DAILY_WIND...  ...        -0.075235\n",
              "22      s3://fin-app/stockprice_candlechart/DAILY_WIND...  ...        -0.055794\n",
              "...                                                   ...  ...              ...\n",
              "959037  s3://fin-app/stockprice_candlechart/DAILY_WIND...  ...        -0.108651\n",
              "959039  s3://fin-app/stockprice_candlechart/DAILY_WIND...  ...        -0.033822\n",
              "959041  s3://fin-app/stockprice_candlechart/DAILY_WIND...  ...        -0.066607\n",
              "959043  s3://fin-app/stockprice_candlechart/DAILY_WIND...  ...        -0.085521\n",
              "959045  s3://fin-app/stockprice_candlechart/DAILY_WIND...  ...        -0.041828\n",
              "\n",
              "[256840 rows x 5 columns]"
            ]
          },
          "metadata": {
            "tags": []
          },
          "execution_count": 14
        }
      ]
    },
    {
      "cell_type": "code",
      "metadata": {
        "id": "fcSCtzv9mPOl",
        "colab_type": "code",
        "colab": {}
      },
      "source": [
        "def label_func(change_rate_30d):\n",
        "    if change_rate_30d >= 0.03:\n",
        "        return 2\n",
        "    elif change_rate_30d > -0.03:\n",
        "        return 1\n",
        "    else:\n",
        "        return 0"
      ],
      "execution_count": 0,
      "outputs": []
    },
    {
      "cell_type": "code",
      "metadata": {
        "id": "9cdXDhQ2kjuw",
        "colab_type": "code",
        "outputId": "c9f55751-42cc-4324-9b55-cc1e88acee1a",
        "colab": {
          "base_uri": "https://localhost:8080/",
          "height": 119
        }
      },
      "source": [
        "df_stockprice_meta_valid['change_rate_30d_label'] = df_stockprice_meta_valid['change_rate_30d'].map(label_func)"
      ],
      "execution_count": 16,
      "outputs": [
        {
          "output_type": "stream",
          "text": [
            "/usr/local/lib/python3.6/dist-packages/ipykernel_launcher.py:1: SettingWithCopyWarning: \n",
            "A value is trying to be set on a copy of a slice from a DataFrame.\n",
            "Try using .loc[row_indexer,col_indexer] = value instead\n",
            "\n",
            "See the caveats in the documentation: http://pandas.pydata.org/pandas-docs/stable/user_guide/indexing.html#returning-a-view-versus-a-copy\n",
            "  \"\"\"Entry point for launching an IPython kernel.\n"
          ],
          "name": "stderr"
        }
      ]
    },
    {
      "cell_type": "code",
      "metadata": {
        "id": "kbxrdFejkuEg",
        "colab_type": "code",
        "outputId": "a387cf74-53b7-4898-c350-cf06c28326ab",
        "colab": {
          "base_uri": "https://localhost:8080/",
          "height": 419
        }
      },
      "source": [
        "df_stockprice_meta_valid"
      ],
      "execution_count": 17,
      "outputs": [
        {
          "output_type": "execute_result",
          "data": {
            "text/html": [
              "<div>\n",
              "<style scoped>\n",
              "    .dataframe tbody tr th:only-of-type {\n",
              "        vertical-align: middle;\n",
              "    }\n",
              "\n",
              "    .dataframe tbody tr th {\n",
              "        vertical-align: top;\n",
              "    }\n",
              "\n",
              "    .dataframe thead th {\n",
              "        text-align: right;\n",
              "    }\n",
              "</style>\n",
              "<table border=\"1\" class=\"dataframe\">\n",
              "  <thead>\n",
              "    <tr style=\"text-align: right;\">\n",
              "      <th></th>\n",
              "      <th>s3_filepath</th>\n",
              "      <th>code</th>\n",
              "      <th>start_dt</th>\n",
              "      <th>end_dt</th>\n",
              "      <th>change_rate_30d</th>\n",
              "      <th>change_rate_30d_label</th>\n",
              "    </tr>\n",
              "  </thead>\n",
              "  <tbody>\n",
              "    <tr>\n",
              "      <th>0</th>\n",
              "      <td>s3://fin-app/stockprice_candlechart/DAILY_WIND...</td>\n",
              "      <td>1301</td>\n",
              "      <td>1983-01-04</td>\n",
              "      <td>1983-05-04</td>\n",
              "      <td>-0.029299</td>\n",
              "      <td>1</td>\n",
              "    </tr>\n",
              "    <tr>\n",
              "      <th>1</th>\n",
              "      <td>s3://fin-app/stockprice_candlechart/DAILY_WIND...</td>\n",
              "      <td>1301</td>\n",
              "      <td>1983-02-03</td>\n",
              "      <td>1983-06-03</td>\n",
              "      <td>0.004054</td>\n",
              "      <td>1</td>\n",
              "    </tr>\n",
              "    <tr>\n",
              "      <th>2</th>\n",
              "      <td>s3://fin-app/stockprice_candlechart/DAILY_WIND...</td>\n",
              "      <td>1301</td>\n",
              "      <td>1983-03-05</td>\n",
              "      <td>1983-07-03</td>\n",
              "      <td>-0.024837</td>\n",
              "      <td>1</td>\n",
              "    </tr>\n",
              "    <tr>\n",
              "      <th>3</th>\n",
              "      <td>s3://fin-app/stockprice_candlechart/DAILY_WIND...</td>\n",
              "      <td>1301</td>\n",
              "      <td>1983-04-04</td>\n",
              "      <td>1983-08-02</td>\n",
              "      <td>-0.010135</td>\n",
              "      <td>1</td>\n",
              "    </tr>\n",
              "    <tr>\n",
              "      <th>4</th>\n",
              "      <td>s3://fin-app/stockprice_candlechart/DAILY_WIND...</td>\n",
              "      <td>1301</td>\n",
              "      <td>1983-05-04</td>\n",
              "      <td>1983-09-01</td>\n",
              "      <td>-0.027174</td>\n",
              "      <td>1</td>\n",
              "    </tr>\n",
              "    <tr>\n",
              "      <th>...</th>\n",
              "      <td>...</td>\n",
              "      <td>...</td>\n",
              "      <td>...</td>\n",
              "      <td>...</td>\n",
              "      <td>...</td>\n",
              "      <td>...</td>\n",
              "    </tr>\n",
              "    <tr>\n",
              "      <th>959042</th>\n",
              "      <td>s3://fin-app/stockprice_candlechart/DAILY_WIND...</td>\n",
              "      <td>9997</td>\n",
              "      <td>2019-02-25</td>\n",
              "      <td>2019-06-25</td>\n",
              "      <td>0.010985</td>\n",
              "      <td>1</td>\n",
              "    </tr>\n",
              "    <tr>\n",
              "      <th>959043</th>\n",
              "      <td>s3://fin-app/stockprice_candlechart/DAILY_WIND...</td>\n",
              "      <td>9997</td>\n",
              "      <td>2019-03-27</td>\n",
              "      <td>2019-07-25</td>\n",
              "      <td>-0.085521</td>\n",
              "      <td>0</td>\n",
              "    </tr>\n",
              "    <tr>\n",
              "      <th>959044</th>\n",
              "      <td>s3://fin-app/stockprice_candlechart/DAILY_WIND...</td>\n",
              "      <td>9997</td>\n",
              "      <td>2019-04-26</td>\n",
              "      <td>2019-08-24</td>\n",
              "      <td>0.102655</td>\n",
              "      <td>2</td>\n",
              "    </tr>\n",
              "    <tr>\n",
              "      <th>959045</th>\n",
              "      <td>s3://fin-app/stockprice_candlechart/DAILY_WIND...</td>\n",
              "      <td>9997</td>\n",
              "      <td>2019-05-26</td>\n",
              "      <td>2019-09-23</td>\n",
              "      <td>-0.041828</td>\n",
              "      <td>0</td>\n",
              "    </tr>\n",
              "    <tr>\n",
              "      <th>959046</th>\n",
              "      <td>s3://fin-app/stockprice_candlechart/DAILY_WIND...</td>\n",
              "      <td>9997</td>\n",
              "      <td>2019-06-25</td>\n",
              "      <td>2019-10-23</td>\n",
              "      <td>0.053339</td>\n",
              "      <td>2</td>\n",
              "    </tr>\n",
              "  </tbody>\n",
              "</table>\n",
              "<p>952441 rows × 6 columns</p>\n",
              "</div>"
            ],
            "text/plain": [
              "                                              s3_filepath  ...  change_rate_30d_label\n",
              "0       s3://fin-app/stockprice_candlechart/DAILY_WIND...  ...                      1\n",
              "1       s3://fin-app/stockprice_candlechart/DAILY_WIND...  ...                      1\n",
              "2       s3://fin-app/stockprice_candlechart/DAILY_WIND...  ...                      1\n",
              "3       s3://fin-app/stockprice_candlechart/DAILY_WIND...  ...                      1\n",
              "4       s3://fin-app/stockprice_candlechart/DAILY_WIND...  ...                      1\n",
              "...                                                   ...  ...                    ...\n",
              "959042  s3://fin-app/stockprice_candlechart/DAILY_WIND...  ...                      1\n",
              "959043  s3://fin-app/stockprice_candlechart/DAILY_WIND...  ...                      0\n",
              "959044  s3://fin-app/stockprice_candlechart/DAILY_WIND...  ...                      2\n",
              "959045  s3://fin-app/stockprice_candlechart/DAILY_WIND...  ...                      0\n",
              "959046  s3://fin-app/stockprice_candlechart/DAILY_WIND...  ...                      2\n",
              "\n",
              "[952441 rows x 6 columns]"
            ]
          },
          "metadata": {
            "tags": []
          },
          "execution_count": 17
        }
      ]
    },
    {
      "cell_type": "code",
      "metadata": {
        "id": "Slc7QjguowD-",
        "colab_type": "code",
        "colab": {}
      },
      "source": [
        "SANPLING_N_PER_CLASS = 20000"
      ],
      "execution_count": 0,
      "outputs": []
    },
    {
      "cell_type": "code",
      "metadata": {
        "id": "r33LWWYknsaO",
        "colab_type": "code",
        "colab": {}
      },
      "source": [
        "df_test_label0 = df_stockprice_meta_valid[\n",
        "    (df_stockprice_meta_valid['start_dt'] > '2015-01-01') &\n",
        "    (df_stockprice_meta_valid['change_rate_30d_label'] == 0)\n",
        "].sample(SANPLING_N_PER_CLASS)\n",
        "\n",
        "df_test_label1 = df_stockprice_meta_valid[\n",
        "    (df_stockprice_meta_valid['start_dt'] > '2015-01-01') &\n",
        "    (df_stockprice_meta_valid['change_rate_30d_label'] == 1)\n",
        "].sample(SANPLING_N_PER_CLASS)\n",
        "\n",
        "df_test_label2 = df_stockprice_meta_valid[\n",
        "    (df_stockprice_meta_valid['start_dt'] > '2015-01-01') &\n",
        "    (df_stockprice_meta_valid['change_rate_30d_label'] == 2)\n",
        "].sample(SANPLING_N_PER_CLASS)\n",
        "\n",
        "df_test = pd.concat([df_test_label0, df_test_label1, df_test_label2])"
      ],
      "execution_count": 0,
      "outputs": []
    },
    {
      "cell_type": "code",
      "metadata": {
        "id": "9rxCM5Inpomq",
        "colab_type": "code",
        "outputId": "53a11ce5-0468-4d1b-88cf-ff4cb48df30f",
        "colab": {
          "base_uri": "https://localhost:8080/",
          "height": 419
        }
      },
      "source": [
        "df_test_label0"
      ],
      "execution_count": 25,
      "outputs": [
        {
          "output_type": "execute_result",
          "data": {
            "text/html": [
              "<div>\n",
              "<style scoped>\n",
              "    .dataframe tbody tr th:only-of-type {\n",
              "        vertical-align: middle;\n",
              "    }\n",
              "\n",
              "    .dataframe tbody tr th {\n",
              "        vertical-align: top;\n",
              "    }\n",
              "\n",
              "    .dataframe thead th {\n",
              "        text-align: right;\n",
              "    }\n",
              "</style>\n",
              "<table border=\"1\" class=\"dataframe\">\n",
              "  <thead>\n",
              "    <tr style=\"text-align: right;\">\n",
              "      <th></th>\n",
              "      <th>s3_filepath</th>\n",
              "      <th>code</th>\n",
              "      <th>start_dt</th>\n",
              "      <th>end_dt</th>\n",
              "      <th>change_rate_30d</th>\n",
              "      <th>change_rate_30d_label</th>\n",
              "    </tr>\n",
              "  </thead>\n",
              "  <tbody>\n",
              "    <tr>\n",
              "      <th>767383</th>\n",
              "      <td>s3://fin-app/stockprice_candlechart/DAILY_WIND...</td>\n",
              "      <td>8253</td>\n",
              "      <td>2019-03-26</td>\n",
              "      <td>2019-07-24</td>\n",
              "      <td>-0.041496</td>\n",
              "      <td>0</td>\n",
              "    </tr>\n",
              "    <tr>\n",
              "      <th>309039</th>\n",
              "      <td>s3://fin-app/stockprice_candlechart/DAILY_WIND...</td>\n",
              "      <td>4707</td>\n",
              "      <td>2016-10-27</td>\n",
              "      <td>2017-02-24</td>\n",
              "      <td>-0.031596</td>\n",
              "      <td>0</td>\n",
              "    </tr>\n",
              "    <tr>\n",
              "      <th>41421</th>\n",
              "      <td>s3://fin-app/stockprice_candlechart/DAILY_WIND...</td>\n",
              "      <td>1926</td>\n",
              "      <td>2015-09-13</td>\n",
              "      <td>2016-01-11</td>\n",
              "      <td>-0.053180</td>\n",
              "      <td>0</td>\n",
              "    </tr>\n",
              "    <tr>\n",
              "      <th>663118</th>\n",
              "      <td>s3://fin-app/stockprice_candlechart/DAILY_WIND...</td>\n",
              "      <td>7743</td>\n",
              "      <td>2018-02-05</td>\n",
              "      <td>2018-06-05</td>\n",
              "      <td>-0.219071</td>\n",
              "      <td>0</td>\n",
              "    </tr>\n",
              "    <tr>\n",
              "      <th>409297</th>\n",
              "      <td>s3://fin-app/stockprice_candlechart/DAILY_WIND...</td>\n",
              "      <td>5949</td>\n",
              "      <td>2016-02-21</td>\n",
              "      <td>2016-06-20</td>\n",
              "      <td>-0.123684</td>\n",
              "      <td>0</td>\n",
              "    </tr>\n",
              "    <tr>\n",
              "      <th>...</th>\n",
              "      <td>...</td>\n",
              "      <td>...</td>\n",
              "      <td>...</td>\n",
              "      <td>...</td>\n",
              "      <td>...</td>\n",
              "      <td>...</td>\n",
              "    </tr>\n",
              "    <tr>\n",
              "      <th>430203</th>\n",
              "      <td>s3://fin-app/stockprice_candlechart/DAILY_WIND...</td>\n",
              "      <td>6099</td>\n",
              "      <td>2015-04-06</td>\n",
              "      <td>2015-08-04</td>\n",
              "      <td>-0.086530</td>\n",
              "      <td>0</td>\n",
              "    </tr>\n",
              "    <tr>\n",
              "      <th>367937</th>\n",
              "      <td>s3://fin-app/stockprice_candlechart/DAILY_WIND...</td>\n",
              "      <td>5380</td>\n",
              "      <td>2016-05-10</td>\n",
              "      <td>2016-09-07</td>\n",
              "      <td>-0.034357</td>\n",
              "      <td>0</td>\n",
              "    </tr>\n",
              "    <tr>\n",
              "      <th>213976</th>\n",
              "      <td>s3://fin-app/stockprice_candlechart/DAILY_WIND...</td>\n",
              "      <td>3858</td>\n",
              "      <td>2016-01-31</td>\n",
              "      <td>2016-05-30</td>\n",
              "      <td>-0.045525</td>\n",
              "      <td>0</td>\n",
              "    </tr>\n",
              "    <tr>\n",
              "      <th>467852</th>\n",
              "      <td>s3://fin-app/stockprice_candlechart/DAILY_WIND...</td>\n",
              "      <td>6342</td>\n",
              "      <td>2019-01-26</td>\n",
              "      <td>2019-05-26</td>\n",
              "      <td>-0.052531</td>\n",
              "      <td>0</td>\n",
              "    </tr>\n",
              "    <tr>\n",
              "      <th>759504</th>\n",
              "      <td>s3://fin-app/stockprice_candlechart/DAILY_WIND...</td>\n",
              "      <td>8205</td>\n",
              "      <td>2015-01-04</td>\n",
              "      <td>2015-05-04</td>\n",
              "      <td>-0.149701</td>\n",
              "      <td>0</td>\n",
              "    </tr>\n",
              "  </tbody>\n",
              "</table>\n",
              "<p>20000 rows × 6 columns</p>\n",
              "</div>"
            ],
            "text/plain": [
              "                                              s3_filepath  ...  change_rate_30d_label\n",
              "767383  s3://fin-app/stockprice_candlechart/DAILY_WIND...  ...                      0\n",
              "309039  s3://fin-app/stockprice_candlechart/DAILY_WIND...  ...                      0\n",
              "41421   s3://fin-app/stockprice_candlechart/DAILY_WIND...  ...                      0\n",
              "663118  s3://fin-app/stockprice_candlechart/DAILY_WIND...  ...                      0\n",
              "409297  s3://fin-app/stockprice_candlechart/DAILY_WIND...  ...                      0\n",
              "...                                                   ...  ...                    ...\n",
              "430203  s3://fin-app/stockprice_candlechart/DAILY_WIND...  ...                      0\n",
              "367937  s3://fin-app/stockprice_candlechart/DAILY_WIND...  ...                      0\n",
              "213976  s3://fin-app/stockprice_candlechart/DAILY_WIND...  ...                      0\n",
              "467852  s3://fin-app/stockprice_candlechart/DAILY_WIND...  ...                      0\n",
              "759504  s3://fin-app/stockprice_candlechart/DAILY_WIND...  ...                      0\n",
              "\n",
              "[20000 rows x 6 columns]"
            ]
          },
          "metadata": {
            "tags": []
          },
          "execution_count": 25
        }
      ]
    },
    {
      "cell_type": "code",
      "metadata": {
        "id": "vMGaoBd1psQd",
        "colab_type": "code",
        "outputId": "80f62238-7683-4142-ad34-5ae1ecc105ee",
        "colab": {
          "base_uri": "https://localhost:8080/",
          "height": 419
        }
      },
      "source": [
        "df_test_label1"
      ],
      "execution_count": 26,
      "outputs": [
        {
          "output_type": "execute_result",
          "data": {
            "text/html": [
              "<div>\n",
              "<style scoped>\n",
              "    .dataframe tbody tr th:only-of-type {\n",
              "        vertical-align: middle;\n",
              "    }\n",
              "\n",
              "    .dataframe tbody tr th {\n",
              "        vertical-align: top;\n",
              "    }\n",
              "\n",
              "    .dataframe thead th {\n",
              "        text-align: right;\n",
              "    }\n",
              "</style>\n",
              "<table border=\"1\" class=\"dataframe\">\n",
              "  <thead>\n",
              "    <tr style=\"text-align: right;\">\n",
              "      <th></th>\n",
              "      <th>s3_filepath</th>\n",
              "      <th>code</th>\n",
              "      <th>start_dt</th>\n",
              "      <th>end_dt</th>\n",
              "      <th>change_rate_30d</th>\n",
              "      <th>change_rate_30d_label</th>\n",
              "    </tr>\n",
              "  </thead>\n",
              "  <tbody>\n",
              "    <tr>\n",
              "      <th>113499</th>\n",
              "      <td>s3://fin-app/stockprice_candlechart/DAILY_WIND...</td>\n",
              "      <td>2705</td>\n",
              "      <td>2018-01-04</td>\n",
              "      <td>2018-05-04</td>\n",
              "      <td>0.006059</td>\n",
              "      <td>1</td>\n",
              "    </tr>\n",
              "    <tr>\n",
              "      <th>61742</th>\n",
              "      <td>s3://fin-app/stockprice_candlechart/DAILY_WIND...</td>\n",
              "      <td>2055</td>\n",
              "      <td>2019-05-25</td>\n",
              "      <td>2019-09-22</td>\n",
              "      <td>-0.009436</td>\n",
              "      <td>1</td>\n",
              "    </tr>\n",
              "    <tr>\n",
              "      <th>315399</th>\n",
              "      <td>s3://fin-app/stockprice_candlechart/DAILY_WIND...</td>\n",
              "      <td>4760</td>\n",
              "      <td>2019-01-30</td>\n",
              "      <td>2019-05-30</td>\n",
              "      <td>-0.007340</td>\n",
              "      <td>1</td>\n",
              "    </tr>\n",
              "    <tr>\n",
              "      <th>845248</th>\n",
              "      <td>s3://fin-app/stockprice_candlechart/DAILY_WIND...</td>\n",
              "      <td>9049</td>\n",
              "      <td>2018-05-31</td>\n",
              "      <td>2018-09-28</td>\n",
              "      <td>0.011271</td>\n",
              "      <td>1</td>\n",
              "    </tr>\n",
              "    <tr>\n",
              "      <th>142120</th>\n",
              "      <td>s3://fin-app/stockprice_candlechart/DAILY_WIND...</td>\n",
              "      <td>3030</td>\n",
              "      <td>2019-01-26</td>\n",
              "      <td>2019-05-26</td>\n",
              "      <td>-0.021378</td>\n",
              "      <td>1</td>\n",
              "    </tr>\n",
              "    <tr>\n",
              "      <th>...</th>\n",
              "      <td>...</td>\n",
              "      <td>...</td>\n",
              "      <td>...</td>\n",
              "      <td>...</td>\n",
              "      <td>...</td>\n",
              "      <td>...</td>\n",
              "    </tr>\n",
              "    <tr>\n",
              "      <th>539558</th>\n",
              "      <td>s3://fin-app/stockprice_candlechart/DAILY_WIND...</td>\n",
              "      <td>6777</td>\n",
              "      <td>2016-03-07</td>\n",
              "      <td>2016-07-05</td>\n",
              "      <td>0.004093</td>\n",
              "      <td>1</td>\n",
              "    </tr>\n",
              "    <tr>\n",
              "      <th>516959</th>\n",
              "      <td>s3://fin-app/stockprice_candlechart/DAILY_WIND...</td>\n",
              "      <td>6632</td>\n",
              "      <td>2018-04-12</td>\n",
              "      <td>2018-08-10</td>\n",
              "      <td>-0.020776</td>\n",
              "      <td>1</td>\n",
              "    </tr>\n",
              "    <tr>\n",
              "      <th>884812</th>\n",
              "      <td>s3://fin-app/stockprice_candlechart/DAILY_WIND...</td>\n",
              "      <td>9446</td>\n",
              "      <td>2016-08-27</td>\n",
              "      <td>2016-12-25</td>\n",
              "      <td>0.024417</td>\n",
              "      <td>1</td>\n",
              "    </tr>\n",
              "    <tr>\n",
              "      <th>111105</th>\n",
              "      <td>s3://fin-app/stockprice_candlechart/DAILY_WIND...</td>\n",
              "      <td>2683</td>\n",
              "      <td>2017-09-23</td>\n",
              "      <td>2018-01-21</td>\n",
              "      <td>-0.012407</td>\n",
              "      <td>1</td>\n",
              "    </tr>\n",
              "    <tr>\n",
              "      <th>521857</th>\n",
              "      <td>s3://fin-app/stockprice_candlechart/DAILY_WIND...</td>\n",
              "      <td>6655</td>\n",
              "      <td>2017-10-11</td>\n",
              "      <td>2018-02-08</td>\n",
              "      <td>-0.019249</td>\n",
              "      <td>1</td>\n",
              "    </tr>\n",
              "  </tbody>\n",
              "</table>\n",
              "<p>20000 rows × 6 columns</p>\n",
              "</div>"
            ],
            "text/plain": [
              "                                              s3_filepath  ...  change_rate_30d_label\n",
              "113499  s3://fin-app/stockprice_candlechart/DAILY_WIND...  ...                      1\n",
              "61742   s3://fin-app/stockprice_candlechart/DAILY_WIND...  ...                      1\n",
              "315399  s3://fin-app/stockprice_candlechart/DAILY_WIND...  ...                      1\n",
              "845248  s3://fin-app/stockprice_candlechart/DAILY_WIND...  ...                      1\n",
              "142120  s3://fin-app/stockprice_candlechart/DAILY_WIND...  ...                      1\n",
              "...                                                   ...  ...                    ...\n",
              "539558  s3://fin-app/stockprice_candlechart/DAILY_WIND...  ...                      1\n",
              "516959  s3://fin-app/stockprice_candlechart/DAILY_WIND...  ...                      1\n",
              "884812  s3://fin-app/stockprice_candlechart/DAILY_WIND...  ...                      1\n",
              "111105  s3://fin-app/stockprice_candlechart/DAILY_WIND...  ...                      1\n",
              "521857  s3://fin-app/stockprice_candlechart/DAILY_WIND...  ...                      1\n",
              "\n",
              "[20000 rows x 6 columns]"
            ]
          },
          "metadata": {
            "tags": []
          },
          "execution_count": 26
        }
      ]
    },
    {
      "cell_type": "code",
      "metadata": {
        "id": "obxK-UBEpuh3",
        "colab_type": "code",
        "outputId": "43a93450-ab95-451d-8293-c182379173b1",
        "colab": {
          "base_uri": "https://localhost:8080/",
          "height": 419
        }
      },
      "source": [
        "df_test_label2"
      ],
      "execution_count": 27,
      "outputs": [
        {
          "output_type": "execute_result",
          "data": {
            "text/html": [
              "<div>\n",
              "<style scoped>\n",
              "    .dataframe tbody tr th:only-of-type {\n",
              "        vertical-align: middle;\n",
              "    }\n",
              "\n",
              "    .dataframe tbody tr th {\n",
              "        vertical-align: top;\n",
              "    }\n",
              "\n",
              "    .dataframe thead th {\n",
              "        text-align: right;\n",
              "    }\n",
              "</style>\n",
              "<table border=\"1\" class=\"dataframe\">\n",
              "  <thead>\n",
              "    <tr style=\"text-align: right;\">\n",
              "      <th></th>\n",
              "      <th>s3_filepath</th>\n",
              "      <th>code</th>\n",
              "      <th>start_dt</th>\n",
              "      <th>end_dt</th>\n",
              "      <th>change_rate_30d</th>\n",
              "      <th>change_rate_30d_label</th>\n",
              "    </tr>\n",
              "  </thead>\n",
              "  <tbody>\n",
              "    <tr>\n",
              "      <th>8519</th>\n",
              "      <td>s3://fin-app/stockprice_candlechart/DAILY_WIND...</td>\n",
              "      <td>1723</td>\n",
              "      <td>2017-02-27</td>\n",
              "      <td>2017-06-27</td>\n",
              "      <td>0.030885</td>\n",
              "      <td>2</td>\n",
              "    </tr>\n",
              "    <tr>\n",
              "      <th>323599</th>\n",
              "      <td>s3://fin-app/stockprice_candlechart/DAILY_WIND...</td>\n",
              "      <td>4837</td>\n",
              "      <td>2018-08-31</td>\n",
              "      <td>2018-12-29</td>\n",
              "      <td>0.096761</td>\n",
              "      <td>2</td>\n",
              "    </tr>\n",
              "    <tr>\n",
              "      <th>184190</th>\n",
              "      <td>s3://fin-app/stockprice_candlechart/DAILY_WIND...</td>\n",
              "      <td>3501</td>\n",
              "      <td>2019-07-01</td>\n",
              "      <td>2019-10-29</td>\n",
              "      <td>0.032707</td>\n",
              "      <td>2</td>\n",
              "    </tr>\n",
              "    <tr>\n",
              "      <th>486275</th>\n",
              "      <td>s3://fin-app/stockprice_candlechart/DAILY_WIND...</td>\n",
              "      <td>6408</td>\n",
              "      <td>2017-08-24</td>\n",
              "      <td>2017-12-22</td>\n",
              "      <td>0.038454</td>\n",
              "      <td>2</td>\n",
              "    </tr>\n",
              "    <tr>\n",
              "      <th>97738</th>\n",
              "      <td>s3://fin-app/stockprice_candlechart/DAILY_WIND...</td>\n",
              "      <td>2475</td>\n",
              "      <td>2016-12-31</td>\n",
              "      <td>2017-04-30</td>\n",
              "      <td>0.165293</td>\n",
              "      <td>2</td>\n",
              "    </tr>\n",
              "    <tr>\n",
              "      <th>...</th>\n",
              "      <td>...</td>\n",
              "      <td>...</td>\n",
              "      <td>...</td>\n",
              "      <td>...</td>\n",
              "      <td>...</td>\n",
              "      <td>...</td>\n",
              "    </tr>\n",
              "    <tr>\n",
              "      <th>516721</th>\n",
              "      <td>s3://fin-app/stockprice_candlechart/DAILY_WIND...</td>\n",
              "      <td>6629</td>\n",
              "      <td>2018-04-19</td>\n",
              "      <td>2018-08-17</td>\n",
              "      <td>0.055556</td>\n",
              "      <td>2</td>\n",
              "    </tr>\n",
              "    <tr>\n",
              "      <th>486419</th>\n",
              "      <td>s3://fin-app/stockprice_candlechart/DAILY_WIND...</td>\n",
              "      <td>6409</td>\n",
              "      <td>2017-05-18</td>\n",
              "      <td>2017-09-15</td>\n",
              "      <td>0.112483</td>\n",
              "      <td>2</td>\n",
              "    </tr>\n",
              "    <tr>\n",
              "      <th>887044</th>\n",
              "      <td>s3://fin-app/stockprice_candlechart/DAILY_WIND...</td>\n",
              "      <td>9478</td>\n",
              "      <td>2015-07-24</td>\n",
              "      <td>2015-11-21</td>\n",
              "      <td>0.423317</td>\n",
              "      <td>2</td>\n",
              "    </tr>\n",
              "    <tr>\n",
              "      <th>762572</th>\n",
              "      <td>s3://fin-app/stockprice_candlechart/DAILY_WIND...</td>\n",
              "      <td>8225</td>\n",
              "      <td>2015-08-24</td>\n",
              "      <td>2015-12-22</td>\n",
              "      <td>0.046595</td>\n",
              "      <td>2</td>\n",
              "    </tr>\n",
              "    <tr>\n",
              "      <th>856124</th>\n",
              "      <td>s3://fin-app/stockprice_candlechart/DAILY_WIND...</td>\n",
              "      <td>9087</td>\n",
              "      <td>2017-05-02</td>\n",
              "      <td>2017-08-30</td>\n",
              "      <td>1.267050</td>\n",
              "      <td>2</td>\n",
              "    </tr>\n",
              "  </tbody>\n",
              "</table>\n",
              "<p>20000 rows × 6 columns</p>\n",
              "</div>"
            ],
            "text/plain": [
              "                                              s3_filepath  ...  change_rate_30d_label\n",
              "8519    s3://fin-app/stockprice_candlechart/DAILY_WIND...  ...                      2\n",
              "323599  s3://fin-app/stockprice_candlechart/DAILY_WIND...  ...                      2\n",
              "184190  s3://fin-app/stockprice_candlechart/DAILY_WIND...  ...                      2\n",
              "486275  s3://fin-app/stockprice_candlechart/DAILY_WIND...  ...                      2\n",
              "97738   s3://fin-app/stockprice_candlechart/DAILY_WIND...  ...                      2\n",
              "...                                                   ...  ...                    ...\n",
              "516721  s3://fin-app/stockprice_candlechart/DAILY_WIND...  ...                      2\n",
              "486419  s3://fin-app/stockprice_candlechart/DAILY_WIND...  ...                      2\n",
              "887044  s3://fin-app/stockprice_candlechart/DAILY_WIND...  ...                      2\n",
              "762572  s3://fin-app/stockprice_candlechart/DAILY_WIND...  ...                      2\n",
              "856124  s3://fin-app/stockprice_candlechart/DAILY_WIND...  ...                      2\n",
              "\n",
              "[20000 rows x 6 columns]"
            ]
          },
          "metadata": {
            "tags": []
          },
          "execution_count": 27
        }
      ]
    },
    {
      "cell_type": "code",
      "metadata": {
        "id": "f0YzsWXcbrRO",
        "colab_type": "code",
        "outputId": "cb7a2d78-531a-4757-bb3c-3c4b81e85d74",
        "colab": {
          "base_uri": "https://localhost:8080/",
          "height": 419
        }
      },
      "source": [
        "df_test"
      ],
      "execution_count": 28,
      "outputs": [
        {
          "output_type": "execute_result",
          "data": {
            "text/html": [
              "<div>\n",
              "<style scoped>\n",
              "    .dataframe tbody tr th:only-of-type {\n",
              "        vertical-align: middle;\n",
              "    }\n",
              "\n",
              "    .dataframe tbody tr th {\n",
              "        vertical-align: top;\n",
              "    }\n",
              "\n",
              "    .dataframe thead th {\n",
              "        text-align: right;\n",
              "    }\n",
              "</style>\n",
              "<table border=\"1\" class=\"dataframe\">\n",
              "  <thead>\n",
              "    <tr style=\"text-align: right;\">\n",
              "      <th></th>\n",
              "      <th>s3_filepath</th>\n",
              "      <th>code</th>\n",
              "      <th>start_dt</th>\n",
              "      <th>end_dt</th>\n",
              "      <th>change_rate_30d</th>\n",
              "      <th>change_rate_30d_label</th>\n",
              "    </tr>\n",
              "  </thead>\n",
              "  <tbody>\n",
              "    <tr>\n",
              "      <th>767383</th>\n",
              "      <td>s3://fin-app/stockprice_candlechart/DAILY_WIND...</td>\n",
              "      <td>8253</td>\n",
              "      <td>2019-03-26</td>\n",
              "      <td>2019-07-24</td>\n",
              "      <td>-0.041496</td>\n",
              "      <td>0</td>\n",
              "    </tr>\n",
              "    <tr>\n",
              "      <th>309039</th>\n",
              "      <td>s3://fin-app/stockprice_candlechart/DAILY_WIND...</td>\n",
              "      <td>4707</td>\n",
              "      <td>2016-10-27</td>\n",
              "      <td>2017-02-24</td>\n",
              "      <td>-0.031596</td>\n",
              "      <td>0</td>\n",
              "    </tr>\n",
              "    <tr>\n",
              "      <th>41421</th>\n",
              "      <td>s3://fin-app/stockprice_candlechart/DAILY_WIND...</td>\n",
              "      <td>1926</td>\n",
              "      <td>2015-09-13</td>\n",
              "      <td>2016-01-11</td>\n",
              "      <td>-0.053180</td>\n",
              "      <td>0</td>\n",
              "    </tr>\n",
              "    <tr>\n",
              "      <th>663118</th>\n",
              "      <td>s3://fin-app/stockprice_candlechart/DAILY_WIND...</td>\n",
              "      <td>7743</td>\n",
              "      <td>2018-02-05</td>\n",
              "      <td>2018-06-05</td>\n",
              "      <td>-0.219071</td>\n",
              "      <td>0</td>\n",
              "    </tr>\n",
              "    <tr>\n",
              "      <th>409297</th>\n",
              "      <td>s3://fin-app/stockprice_candlechart/DAILY_WIND...</td>\n",
              "      <td>5949</td>\n",
              "      <td>2016-02-21</td>\n",
              "      <td>2016-06-20</td>\n",
              "      <td>-0.123684</td>\n",
              "      <td>0</td>\n",
              "    </tr>\n",
              "    <tr>\n",
              "      <th>...</th>\n",
              "      <td>...</td>\n",
              "      <td>...</td>\n",
              "      <td>...</td>\n",
              "      <td>...</td>\n",
              "      <td>...</td>\n",
              "      <td>...</td>\n",
              "    </tr>\n",
              "    <tr>\n",
              "      <th>516721</th>\n",
              "      <td>s3://fin-app/stockprice_candlechart/DAILY_WIND...</td>\n",
              "      <td>6629</td>\n",
              "      <td>2018-04-19</td>\n",
              "      <td>2018-08-17</td>\n",
              "      <td>0.055556</td>\n",
              "      <td>2</td>\n",
              "    </tr>\n",
              "    <tr>\n",
              "      <th>486419</th>\n",
              "      <td>s3://fin-app/stockprice_candlechart/DAILY_WIND...</td>\n",
              "      <td>6409</td>\n",
              "      <td>2017-05-18</td>\n",
              "      <td>2017-09-15</td>\n",
              "      <td>0.112483</td>\n",
              "      <td>2</td>\n",
              "    </tr>\n",
              "    <tr>\n",
              "      <th>887044</th>\n",
              "      <td>s3://fin-app/stockprice_candlechart/DAILY_WIND...</td>\n",
              "      <td>9478</td>\n",
              "      <td>2015-07-24</td>\n",
              "      <td>2015-11-21</td>\n",
              "      <td>0.423317</td>\n",
              "      <td>2</td>\n",
              "    </tr>\n",
              "    <tr>\n",
              "      <th>762572</th>\n",
              "      <td>s3://fin-app/stockprice_candlechart/DAILY_WIND...</td>\n",
              "      <td>8225</td>\n",
              "      <td>2015-08-24</td>\n",
              "      <td>2015-12-22</td>\n",
              "      <td>0.046595</td>\n",
              "      <td>2</td>\n",
              "    </tr>\n",
              "    <tr>\n",
              "      <th>856124</th>\n",
              "      <td>s3://fin-app/stockprice_candlechart/DAILY_WIND...</td>\n",
              "      <td>9087</td>\n",
              "      <td>2017-05-02</td>\n",
              "      <td>2017-08-30</td>\n",
              "      <td>1.267050</td>\n",
              "      <td>2</td>\n",
              "    </tr>\n",
              "  </tbody>\n",
              "</table>\n",
              "<p>60000 rows × 6 columns</p>\n",
              "</div>"
            ],
            "text/plain": [
              "                                              s3_filepath  ...  change_rate_30d_label\n",
              "767383  s3://fin-app/stockprice_candlechart/DAILY_WIND...  ...                      0\n",
              "309039  s3://fin-app/stockprice_candlechart/DAILY_WIND...  ...                      0\n",
              "41421   s3://fin-app/stockprice_candlechart/DAILY_WIND...  ...                      0\n",
              "663118  s3://fin-app/stockprice_candlechart/DAILY_WIND...  ...                      0\n",
              "409297  s3://fin-app/stockprice_candlechart/DAILY_WIND...  ...                      0\n",
              "...                                                   ...  ...                    ...\n",
              "516721  s3://fin-app/stockprice_candlechart/DAILY_WIND...  ...                      2\n",
              "486419  s3://fin-app/stockprice_candlechart/DAILY_WIND...  ...                      2\n",
              "887044  s3://fin-app/stockprice_candlechart/DAILY_WIND...  ...                      2\n",
              "762572  s3://fin-app/stockprice_candlechart/DAILY_WIND...  ...                      2\n",
              "856124  s3://fin-app/stockprice_candlechart/DAILY_WIND...  ...                      2\n",
              "\n",
              "[60000 rows x 6 columns]"
            ]
          },
          "metadata": {
            "tags": []
          },
          "execution_count": 28
        }
      ]
    },
    {
      "cell_type": "code",
      "metadata": {
        "id": "kdibmUNdn2T2",
        "colab_type": "code",
        "colab": {}
      },
      "source": [
        "df_train_label0 = df_stockprice_meta_valid[\n",
        "    (df_stockprice_meta_valid['end_dt'] < '2014-09-01') &\n",
        "    (df_stockprice_meta_valid['end_dt'] > '2000-01-01') &\n",
        "    (df_stockprice_meta_valid['change_rate_30d_label'] == 0)\n",
        "].sample(SANPLING_N_PER_CLASS)\n",
        "\n",
        "df_train_label1 = df_stockprice_meta_valid[\n",
        "    (df_stockprice_meta_valid['end_dt'] < '2014-09-01') &\n",
        "    (df_stockprice_meta_valid['end_dt'] > '2000-01-01') &\n",
        "    (df_stockprice_meta_valid['change_rate_30d_label'] == 1)\n",
        "].sample(SANPLING_N_PER_CLASS)\n",
        "\n",
        "df_train_label2 = df_stockprice_meta_valid[\n",
        "    (df_stockprice_meta_valid['end_dt'] < '2014-09-01') &\n",
        "    (df_stockprice_meta_valid['end_dt'] > '2000-01-01') &\n",
        "    (df_stockprice_meta_valid['change_rate_30d_label'] == 2)\n",
        "].sample(SANPLING_N_PER_CLASS)\n",
        "\n",
        "df_train = pd.concat([df_train_label0, df_train_label1, df_train_label2])"
      ],
      "execution_count": 0,
      "outputs": []
    },
    {
      "cell_type": "code",
      "metadata": {
        "id": "lX9yEl9Hpl28",
        "colab_type": "code",
        "outputId": "7daed991-3666-437f-a4d2-84a1c2c01c5d",
        "colab": {
          "base_uri": "https://localhost:8080/",
          "height": 419
        }
      },
      "source": [
        "df_train_label0"
      ],
      "execution_count": 30,
      "outputs": [
        {
          "output_type": "execute_result",
          "data": {
            "text/html": [
              "<div>\n",
              "<style scoped>\n",
              "    .dataframe tbody tr th:only-of-type {\n",
              "        vertical-align: middle;\n",
              "    }\n",
              "\n",
              "    .dataframe tbody tr th {\n",
              "        vertical-align: top;\n",
              "    }\n",
              "\n",
              "    .dataframe thead th {\n",
              "        text-align: right;\n",
              "    }\n",
              "</style>\n",
              "<table border=\"1\" class=\"dataframe\">\n",
              "  <thead>\n",
              "    <tr style=\"text-align: right;\">\n",
              "      <th></th>\n",
              "      <th>s3_filepath</th>\n",
              "      <th>code</th>\n",
              "      <th>start_dt</th>\n",
              "      <th>end_dt</th>\n",
              "      <th>change_rate_30d</th>\n",
              "      <th>change_rate_30d_label</th>\n",
              "    </tr>\n",
              "  </thead>\n",
              "  <tbody>\n",
              "    <tr>\n",
              "      <th>892787</th>\n",
              "      <td>s3://fin-app/stockprice_candlechart/DAILY_WIND...</td>\n",
              "      <td>9532</td>\n",
              "      <td>2001-04-29</td>\n",
              "      <td>2001-08-27</td>\n",
              "      <td>-0.030534</td>\n",
              "      <td>0</td>\n",
              "    </tr>\n",
              "    <tr>\n",
              "      <th>259791</th>\n",
              "      <td>s3://fin-app/stockprice_candlechart/DAILY_WIND...</td>\n",
              "      <td>4308</td>\n",
              "      <td>2007-09-20</td>\n",
              "      <td>2008-01-18</td>\n",
              "      <td>-0.040437</td>\n",
              "      <td>0</td>\n",
              "    </tr>\n",
              "    <tr>\n",
              "      <th>711467</th>\n",
              "      <td>s3://fin-app/stockprice_candlechart/DAILY_WIND...</td>\n",
              "      <td>8016</td>\n",
              "      <td>2000-12-31</td>\n",
              "      <td>2001-04-30</td>\n",
              "      <td>-0.054928</td>\n",
              "      <td>0</td>\n",
              "    </tr>\n",
              "    <tr>\n",
              "      <th>474833</th>\n",
              "      <td>s3://fin-app/stockprice_candlechart/DAILY_WIND...</td>\n",
              "      <td>6366</td>\n",
              "      <td>2000-12-30</td>\n",
              "      <td>2001-04-29</td>\n",
              "      <td>-0.106711</td>\n",
              "      <td>0</td>\n",
              "    </tr>\n",
              "    <tr>\n",
              "      <th>618754</th>\n",
              "      <td>s3://fin-app/stockprice_candlechart/DAILY_WIND...</td>\n",
              "      <td>7420</td>\n",
              "      <td>2011-03-29</td>\n",
              "      <td>2011-07-27</td>\n",
              "      <td>-0.095327</td>\n",
              "      <td>0</td>\n",
              "    </tr>\n",
              "    <tr>\n",
              "      <th>...</th>\n",
              "      <td>...</td>\n",
              "      <td>...</td>\n",
              "      <td>...</td>\n",
              "      <td>...</td>\n",
              "      <td>...</td>\n",
              "      <td>...</td>\n",
              "    </tr>\n",
              "    <tr>\n",
              "      <th>167804</th>\n",
              "      <td>s3://fin-app/stockprice_candlechart/DAILY_WIND...</td>\n",
              "      <td>3302</td>\n",
              "      <td>2002-01-24</td>\n",
              "      <td>2002-05-24</td>\n",
              "      <td>-0.030612</td>\n",
              "      <td>0</td>\n",
              "    </tr>\n",
              "    <tr>\n",
              "      <th>644897</th>\n",
              "      <td>s3://fin-app/stockprice_candlechart/DAILY_WIND...</td>\n",
              "      <td>7597</td>\n",
              "      <td>2013-03-17</td>\n",
              "      <td>2013-07-15</td>\n",
              "      <td>-0.038230</td>\n",
              "      <td>0</td>\n",
              "    </tr>\n",
              "    <tr>\n",
              "      <th>265414</th>\n",
              "      <td>s3://fin-app/stockprice_candlechart/DAILY_WIND...</td>\n",
              "      <td>4350</td>\n",
              "      <td>2011-06-29</td>\n",
              "      <td>2011-10-27</td>\n",
              "      <td>-0.054123</td>\n",
              "      <td>0</td>\n",
              "    </tr>\n",
              "    <tr>\n",
              "      <th>879620</th>\n",
              "      <td>s3://fin-app/stockprice_candlechart/DAILY_WIND...</td>\n",
              "      <td>9405</td>\n",
              "      <td>2013-11-26</td>\n",
              "      <td>2014-03-26</td>\n",
              "      <td>-0.034380</td>\n",
              "      <td>0</td>\n",
              "    </tr>\n",
              "    <tr>\n",
              "      <th>822104</th>\n",
              "      <td>s3://fin-app/stockprice_candlechart/DAILY_WIND...</td>\n",
              "      <td>8869</td>\n",
              "      <td>2008-07-17</td>\n",
              "      <td>2008-11-14</td>\n",
              "      <td>-0.100847</td>\n",
              "      <td>0</td>\n",
              "    </tr>\n",
              "  </tbody>\n",
              "</table>\n",
              "<p>20000 rows × 6 columns</p>\n",
              "</div>"
            ],
            "text/plain": [
              "                                              s3_filepath  ...  change_rate_30d_label\n",
              "892787  s3://fin-app/stockprice_candlechart/DAILY_WIND...  ...                      0\n",
              "259791  s3://fin-app/stockprice_candlechart/DAILY_WIND...  ...                      0\n",
              "711467  s3://fin-app/stockprice_candlechart/DAILY_WIND...  ...                      0\n",
              "474833  s3://fin-app/stockprice_candlechart/DAILY_WIND...  ...                      0\n",
              "618754  s3://fin-app/stockprice_candlechart/DAILY_WIND...  ...                      0\n",
              "...                                                   ...  ...                    ...\n",
              "167804  s3://fin-app/stockprice_candlechart/DAILY_WIND...  ...                      0\n",
              "644897  s3://fin-app/stockprice_candlechart/DAILY_WIND...  ...                      0\n",
              "265414  s3://fin-app/stockprice_candlechart/DAILY_WIND...  ...                      0\n",
              "879620  s3://fin-app/stockprice_candlechart/DAILY_WIND...  ...                      0\n",
              "822104  s3://fin-app/stockprice_candlechart/DAILY_WIND...  ...                      0\n",
              "\n",
              "[20000 rows x 6 columns]"
            ]
          },
          "metadata": {
            "tags": []
          },
          "execution_count": 30
        }
      ]
    },
    {
      "cell_type": "code",
      "metadata": {
        "id": "RR6p4Hbipz5F",
        "colab_type": "code",
        "outputId": "8256e8c4-bf17-429c-fcef-7c9815a3f19e",
        "colab": {
          "base_uri": "https://localhost:8080/",
          "height": 419
        }
      },
      "source": [
        "df_train_label1"
      ],
      "execution_count": 31,
      "outputs": [
        {
          "output_type": "execute_result",
          "data": {
            "text/html": [
              "<div>\n",
              "<style scoped>\n",
              "    .dataframe tbody tr th:only-of-type {\n",
              "        vertical-align: middle;\n",
              "    }\n",
              "\n",
              "    .dataframe tbody tr th {\n",
              "        vertical-align: top;\n",
              "    }\n",
              "\n",
              "    .dataframe thead th {\n",
              "        text-align: right;\n",
              "    }\n",
              "</style>\n",
              "<table border=\"1\" class=\"dataframe\">\n",
              "  <thead>\n",
              "    <tr style=\"text-align: right;\">\n",
              "      <th></th>\n",
              "      <th>s3_filepath</th>\n",
              "      <th>code</th>\n",
              "      <th>start_dt</th>\n",
              "      <th>end_dt</th>\n",
              "      <th>change_rate_30d</th>\n",
              "      <th>change_rate_30d_label</th>\n",
              "    </tr>\n",
              "  </thead>\n",
              "  <tbody>\n",
              "    <tr>\n",
              "      <th>252432</th>\n",
              "      <td>s3://fin-app/stockprice_candlechart/DAILY_WIND...</td>\n",
              "      <td>4221</td>\n",
              "      <td>2008-04-22</td>\n",
              "      <td>2008-08-20</td>\n",
              "      <td>0.024544</td>\n",
              "      <td>1</td>\n",
              "    </tr>\n",
              "    <tr>\n",
              "      <th>392223</th>\n",
              "      <td>s3://fin-app/stockprice_candlechart/DAILY_WIND...</td>\n",
              "      <td>5753</td>\n",
              "      <td>2010-08-10</td>\n",
              "      <td>2010-12-08</td>\n",
              "      <td>-0.017308</td>\n",
              "      <td>1</td>\n",
              "    </tr>\n",
              "    <tr>\n",
              "      <th>84580</th>\n",
              "      <td>s3://fin-app/stockprice_candlechart/DAILY_WIND...</td>\n",
              "      <td>2327</td>\n",
              "      <td>2010-11-28</td>\n",
              "      <td>2011-03-28</td>\n",
              "      <td>-0.028421</td>\n",
              "      <td>1</td>\n",
              "    </tr>\n",
              "    <tr>\n",
              "      <th>194572</th>\n",
              "      <td>s3://fin-app/stockprice_candlechart/DAILY_WIND...</td>\n",
              "      <td>3623</td>\n",
              "      <td>2010-10-05</td>\n",
              "      <td>2011-02-02</td>\n",
              "      <td>0.001262</td>\n",
              "      <td>1</td>\n",
              "    </tr>\n",
              "    <tr>\n",
              "      <th>440204</th>\n",
              "      <td>s3://fin-app/stockprice_candlechart/DAILY_WIND...</td>\n",
              "      <td>6151</td>\n",
              "      <td>2008-04-04</td>\n",
              "      <td>2008-08-02</td>\n",
              "      <td>0.011523</td>\n",
              "      <td>1</td>\n",
              "    </tr>\n",
              "    <tr>\n",
              "      <th>...</th>\n",
              "      <td>...</td>\n",
              "      <td>...</td>\n",
              "      <td>...</td>\n",
              "      <td>...</td>\n",
              "      <td>...</td>\n",
              "      <td>...</td>\n",
              "    </tr>\n",
              "    <tr>\n",
              "      <th>528354</th>\n",
              "      <td>s3://fin-app/stockprice_candlechart/DAILY_WIND...</td>\n",
              "      <td>6721</td>\n",
              "      <td>2008-01-11</td>\n",
              "      <td>2008-05-10</td>\n",
              "      <td>-0.018750</td>\n",
              "      <td>1</td>\n",
              "    </tr>\n",
              "    <tr>\n",
              "      <th>952738</th>\n",
              "      <td>s3://fin-app/stockprice_candlechart/DAILY_WIND...</td>\n",
              "      <td>9964</td>\n",
              "      <td>2002-06-05</td>\n",
              "      <td>2002-10-03</td>\n",
              "      <td>-0.010000</td>\n",
              "      <td>1</td>\n",
              "    </tr>\n",
              "    <tr>\n",
              "      <th>104619</th>\n",
              "      <td>s3://fin-app/stockprice_candlechart/DAILY_WIND...</td>\n",
              "      <td>2594</td>\n",
              "      <td>2004-04-13</td>\n",
              "      <td>2004-08-11</td>\n",
              "      <td>-0.000703</td>\n",
              "      <td>1</td>\n",
              "    </tr>\n",
              "    <tr>\n",
              "      <th>645595</th>\n",
              "      <td>s3://fin-app/stockprice_candlechart/DAILY_WIND...</td>\n",
              "      <td>7601</td>\n",
              "      <td>2012-10-08</td>\n",
              "      <td>2013-02-05</td>\n",
              "      <td>-0.015440</td>\n",
              "      <td>1</td>\n",
              "    </tr>\n",
              "    <tr>\n",
              "      <th>172323</th>\n",
              "      <td>s3://fin-app/stockprice_candlechart/DAILY_WIND...</td>\n",
              "      <td>3355</td>\n",
              "      <td>2011-06-06</td>\n",
              "      <td>2011-10-04</td>\n",
              "      <td>-0.009226</td>\n",
              "      <td>1</td>\n",
              "    </tr>\n",
              "  </tbody>\n",
              "</table>\n",
              "<p>20000 rows × 6 columns</p>\n",
              "</div>"
            ],
            "text/plain": [
              "                                              s3_filepath  ...  change_rate_30d_label\n",
              "252432  s3://fin-app/stockprice_candlechart/DAILY_WIND...  ...                      1\n",
              "392223  s3://fin-app/stockprice_candlechart/DAILY_WIND...  ...                      1\n",
              "84580   s3://fin-app/stockprice_candlechart/DAILY_WIND...  ...                      1\n",
              "194572  s3://fin-app/stockprice_candlechart/DAILY_WIND...  ...                      1\n",
              "440204  s3://fin-app/stockprice_candlechart/DAILY_WIND...  ...                      1\n",
              "...                                                   ...  ...                    ...\n",
              "528354  s3://fin-app/stockprice_candlechart/DAILY_WIND...  ...                      1\n",
              "952738  s3://fin-app/stockprice_candlechart/DAILY_WIND...  ...                      1\n",
              "104619  s3://fin-app/stockprice_candlechart/DAILY_WIND...  ...                      1\n",
              "645595  s3://fin-app/stockprice_candlechart/DAILY_WIND...  ...                      1\n",
              "172323  s3://fin-app/stockprice_candlechart/DAILY_WIND...  ...                      1\n",
              "\n",
              "[20000 rows x 6 columns]"
            ]
          },
          "metadata": {
            "tags": []
          },
          "execution_count": 31
        }
      ]
    },
    {
      "cell_type": "code",
      "metadata": {
        "id": "rXFAMuLvp35W",
        "colab_type": "code",
        "outputId": "843cbed8-5890-4ac1-ed6c-ead97dce7978",
        "colab": {
          "base_uri": "https://localhost:8080/",
          "height": 419
        }
      },
      "source": [
        "df_train_label2"
      ],
      "execution_count": 32,
      "outputs": [
        {
          "output_type": "execute_result",
          "data": {
            "text/html": [
              "<div>\n",
              "<style scoped>\n",
              "    .dataframe tbody tr th:only-of-type {\n",
              "        vertical-align: middle;\n",
              "    }\n",
              "\n",
              "    .dataframe tbody tr th {\n",
              "        vertical-align: top;\n",
              "    }\n",
              "\n",
              "    .dataframe thead th {\n",
              "        text-align: right;\n",
              "    }\n",
              "</style>\n",
              "<table border=\"1\" class=\"dataframe\">\n",
              "  <thead>\n",
              "    <tr style=\"text-align: right;\">\n",
              "      <th></th>\n",
              "      <th>s3_filepath</th>\n",
              "      <th>code</th>\n",
              "      <th>start_dt</th>\n",
              "      <th>end_dt</th>\n",
              "      <th>change_rate_30d</th>\n",
              "      <th>change_rate_30d_label</th>\n",
              "    </tr>\n",
              "  </thead>\n",
              "  <tbody>\n",
              "    <tr>\n",
              "      <th>695203</th>\n",
              "      <td>s3://fin-app/stockprice_candlechart/DAILY_WIND...</td>\n",
              "      <td>7961</td>\n",
              "      <td>2006-06-02</td>\n",
              "      <td>2006-09-30</td>\n",
              "      <td>0.081389</td>\n",
              "      <td>2</td>\n",
              "    </tr>\n",
              "    <tr>\n",
              "      <th>686867</th>\n",
              "      <td>s3://fin-app/stockprice_candlechart/DAILY_WIND...</td>\n",
              "      <td>7922</td>\n",
              "      <td>2006-02-28</td>\n",
              "      <td>2006-06-28</td>\n",
              "      <td>0.052818</td>\n",
              "      <td>2</td>\n",
              "    </tr>\n",
              "    <tr>\n",
              "      <th>863666</th>\n",
              "      <td>s3://fin-app/stockprice_candlechart/DAILY_WIND...</td>\n",
              "      <td>9301</td>\n",
              "      <td>2003-11-16</td>\n",
              "      <td>2004-03-15</td>\n",
              "      <td>0.039625</td>\n",
              "      <td>2</td>\n",
              "    </tr>\n",
              "    <tr>\n",
              "      <th>650563</th>\n",
              "      <td>s3://fin-app/stockprice_candlechart/DAILY_WIND...</td>\n",
              "      <td>7628</td>\n",
              "      <td>2011-02-04</td>\n",
              "      <td>2011-06-04</td>\n",
              "      <td>0.094964</td>\n",
              "      <td>2</td>\n",
              "    </tr>\n",
              "    <tr>\n",
              "      <th>19326</th>\n",
              "      <td>s3://fin-app/stockprice_candlechart/DAILY_WIND...</td>\n",
              "      <td>1808</td>\n",
              "      <td>2004-11-09</td>\n",
              "      <td>2005-03-09</td>\n",
              "      <td>0.049087</td>\n",
              "      <td>2</td>\n",
              "    </tr>\n",
              "    <tr>\n",
              "      <th>...</th>\n",
              "      <td>...</td>\n",
              "      <td>...</td>\n",
              "      <td>...</td>\n",
              "      <td>...</td>\n",
              "      <td>...</td>\n",
              "      <td>...</td>\n",
              "    </tr>\n",
              "    <tr>\n",
              "      <th>311581</th>\n",
              "      <td>s3://fin-app/stockprice_candlechart/DAILY_WIND...</td>\n",
              "      <td>4728</td>\n",
              "      <td>2005-07-03</td>\n",
              "      <td>2005-10-31</td>\n",
              "      <td>0.065180</td>\n",
              "      <td>2</td>\n",
              "    </tr>\n",
              "    <tr>\n",
              "      <th>2743</th>\n",
              "      <td>s3://fin-app/stockprice_candlechart/DAILY_WIND...</td>\n",
              "      <td>1381</td>\n",
              "      <td>2005-08-18</td>\n",
              "      <td>2005-12-16</td>\n",
              "      <td>0.042982</td>\n",
              "      <td>2</td>\n",
              "    </tr>\n",
              "    <tr>\n",
              "      <th>462360</th>\n",
              "      <td>s3://fin-app/stockprice_candlechart/DAILY_WIND...</td>\n",
              "      <td>6325</td>\n",
              "      <td>2007-12-31</td>\n",
              "      <td>2008-04-29</td>\n",
              "      <td>0.042130</td>\n",
              "      <td>2</td>\n",
              "    </tr>\n",
              "    <tr>\n",
              "      <th>91291</th>\n",
              "      <td>s3://fin-app/stockprice_candlechart/DAILY_WIND...</td>\n",
              "      <td>2395</td>\n",
              "      <td>2011-07-30</td>\n",
              "      <td>2011-11-27</td>\n",
              "      <td>0.055645</td>\n",
              "      <td>2</td>\n",
              "    </tr>\n",
              "    <tr>\n",
              "      <th>237726</th>\n",
              "      <td>s3://fin-app/stockprice_candlechart/DAILY_WIND...</td>\n",
              "      <td>4095</td>\n",
              "      <td>2002-08-23</td>\n",
              "      <td>2002-12-21</td>\n",
              "      <td>0.056656</td>\n",
              "      <td>2</td>\n",
              "    </tr>\n",
              "  </tbody>\n",
              "</table>\n",
              "<p>20000 rows × 6 columns</p>\n",
              "</div>"
            ],
            "text/plain": [
              "                                              s3_filepath  ...  change_rate_30d_label\n",
              "695203  s3://fin-app/stockprice_candlechart/DAILY_WIND...  ...                      2\n",
              "686867  s3://fin-app/stockprice_candlechart/DAILY_WIND...  ...                      2\n",
              "863666  s3://fin-app/stockprice_candlechart/DAILY_WIND...  ...                      2\n",
              "650563  s3://fin-app/stockprice_candlechart/DAILY_WIND...  ...                      2\n",
              "19326   s3://fin-app/stockprice_candlechart/DAILY_WIND...  ...                      2\n",
              "...                                                   ...  ...                    ...\n",
              "311581  s3://fin-app/stockprice_candlechart/DAILY_WIND...  ...                      2\n",
              "2743    s3://fin-app/stockprice_candlechart/DAILY_WIND...  ...                      2\n",
              "462360  s3://fin-app/stockprice_candlechart/DAILY_WIND...  ...                      2\n",
              "91291   s3://fin-app/stockprice_candlechart/DAILY_WIND...  ...                      2\n",
              "237726  s3://fin-app/stockprice_candlechart/DAILY_WIND...  ...                      2\n",
              "\n",
              "[20000 rows x 6 columns]"
            ]
          },
          "metadata": {
            "tags": []
          },
          "execution_count": 32
        }
      ]
    },
    {
      "cell_type": "code",
      "metadata": {
        "id": "CnreBSPFqUFl",
        "colab_type": "code",
        "outputId": "dfdf093f-5808-41f5-96c2-dff830cc40e2",
        "colab": {
          "base_uri": "https://localhost:8080/",
          "height": 419
        }
      },
      "source": [
        "df_train"
      ],
      "execution_count": 33,
      "outputs": [
        {
          "output_type": "execute_result",
          "data": {
            "text/html": [
              "<div>\n",
              "<style scoped>\n",
              "    .dataframe tbody tr th:only-of-type {\n",
              "        vertical-align: middle;\n",
              "    }\n",
              "\n",
              "    .dataframe tbody tr th {\n",
              "        vertical-align: top;\n",
              "    }\n",
              "\n",
              "    .dataframe thead th {\n",
              "        text-align: right;\n",
              "    }\n",
              "</style>\n",
              "<table border=\"1\" class=\"dataframe\">\n",
              "  <thead>\n",
              "    <tr style=\"text-align: right;\">\n",
              "      <th></th>\n",
              "      <th>s3_filepath</th>\n",
              "      <th>code</th>\n",
              "      <th>start_dt</th>\n",
              "      <th>end_dt</th>\n",
              "      <th>change_rate_30d</th>\n",
              "      <th>change_rate_30d_label</th>\n",
              "    </tr>\n",
              "  </thead>\n",
              "  <tbody>\n",
              "    <tr>\n",
              "      <th>892787</th>\n",
              "      <td>s3://fin-app/stockprice_candlechart/DAILY_WIND...</td>\n",
              "      <td>9532</td>\n",
              "      <td>2001-04-29</td>\n",
              "      <td>2001-08-27</td>\n",
              "      <td>-0.030534</td>\n",
              "      <td>0</td>\n",
              "    </tr>\n",
              "    <tr>\n",
              "      <th>259791</th>\n",
              "      <td>s3://fin-app/stockprice_candlechart/DAILY_WIND...</td>\n",
              "      <td>4308</td>\n",
              "      <td>2007-09-20</td>\n",
              "      <td>2008-01-18</td>\n",
              "      <td>-0.040437</td>\n",
              "      <td>0</td>\n",
              "    </tr>\n",
              "    <tr>\n",
              "      <th>711467</th>\n",
              "      <td>s3://fin-app/stockprice_candlechart/DAILY_WIND...</td>\n",
              "      <td>8016</td>\n",
              "      <td>2000-12-31</td>\n",
              "      <td>2001-04-30</td>\n",
              "      <td>-0.054928</td>\n",
              "      <td>0</td>\n",
              "    </tr>\n",
              "    <tr>\n",
              "      <th>474833</th>\n",
              "      <td>s3://fin-app/stockprice_candlechart/DAILY_WIND...</td>\n",
              "      <td>6366</td>\n",
              "      <td>2000-12-30</td>\n",
              "      <td>2001-04-29</td>\n",
              "      <td>-0.106711</td>\n",
              "      <td>0</td>\n",
              "    </tr>\n",
              "    <tr>\n",
              "      <th>618754</th>\n",
              "      <td>s3://fin-app/stockprice_candlechart/DAILY_WIND...</td>\n",
              "      <td>7420</td>\n",
              "      <td>2011-03-29</td>\n",
              "      <td>2011-07-27</td>\n",
              "      <td>-0.095327</td>\n",
              "      <td>0</td>\n",
              "    </tr>\n",
              "    <tr>\n",
              "      <th>...</th>\n",
              "      <td>...</td>\n",
              "      <td>...</td>\n",
              "      <td>...</td>\n",
              "      <td>...</td>\n",
              "      <td>...</td>\n",
              "      <td>...</td>\n",
              "    </tr>\n",
              "    <tr>\n",
              "      <th>311581</th>\n",
              "      <td>s3://fin-app/stockprice_candlechart/DAILY_WIND...</td>\n",
              "      <td>4728</td>\n",
              "      <td>2005-07-03</td>\n",
              "      <td>2005-10-31</td>\n",
              "      <td>0.065180</td>\n",
              "      <td>2</td>\n",
              "    </tr>\n",
              "    <tr>\n",
              "      <th>2743</th>\n",
              "      <td>s3://fin-app/stockprice_candlechart/DAILY_WIND...</td>\n",
              "      <td>1381</td>\n",
              "      <td>2005-08-18</td>\n",
              "      <td>2005-12-16</td>\n",
              "      <td>0.042982</td>\n",
              "      <td>2</td>\n",
              "    </tr>\n",
              "    <tr>\n",
              "      <th>462360</th>\n",
              "      <td>s3://fin-app/stockprice_candlechart/DAILY_WIND...</td>\n",
              "      <td>6325</td>\n",
              "      <td>2007-12-31</td>\n",
              "      <td>2008-04-29</td>\n",
              "      <td>0.042130</td>\n",
              "      <td>2</td>\n",
              "    </tr>\n",
              "    <tr>\n",
              "      <th>91291</th>\n",
              "      <td>s3://fin-app/stockprice_candlechart/DAILY_WIND...</td>\n",
              "      <td>2395</td>\n",
              "      <td>2011-07-30</td>\n",
              "      <td>2011-11-27</td>\n",
              "      <td>0.055645</td>\n",
              "      <td>2</td>\n",
              "    </tr>\n",
              "    <tr>\n",
              "      <th>237726</th>\n",
              "      <td>s3://fin-app/stockprice_candlechart/DAILY_WIND...</td>\n",
              "      <td>4095</td>\n",
              "      <td>2002-08-23</td>\n",
              "      <td>2002-12-21</td>\n",
              "      <td>0.056656</td>\n",
              "      <td>2</td>\n",
              "    </tr>\n",
              "  </tbody>\n",
              "</table>\n",
              "<p>60000 rows × 6 columns</p>\n",
              "</div>"
            ],
            "text/plain": [
              "                                              s3_filepath  ...  change_rate_30d_label\n",
              "892787  s3://fin-app/stockprice_candlechart/DAILY_WIND...  ...                      0\n",
              "259791  s3://fin-app/stockprice_candlechart/DAILY_WIND...  ...                      0\n",
              "711467  s3://fin-app/stockprice_candlechart/DAILY_WIND...  ...                      0\n",
              "474833  s3://fin-app/stockprice_candlechart/DAILY_WIND...  ...                      0\n",
              "618754  s3://fin-app/stockprice_candlechart/DAILY_WIND...  ...                      0\n",
              "...                                                   ...  ...                    ...\n",
              "311581  s3://fin-app/stockprice_candlechart/DAILY_WIND...  ...                      2\n",
              "2743    s3://fin-app/stockprice_candlechart/DAILY_WIND...  ...                      2\n",
              "462360  s3://fin-app/stockprice_candlechart/DAILY_WIND...  ...                      2\n",
              "91291   s3://fin-app/stockprice_candlechart/DAILY_WIND...  ...                      2\n",
              "237726  s3://fin-app/stockprice_candlechart/DAILY_WIND...  ...                      2\n",
              "\n",
              "[60000 rows x 6 columns]"
            ]
          },
          "metadata": {
            "tags": []
          },
          "execution_count": 33
        }
      ]
    },
    {
      "cell_type": "code",
      "metadata": {
        "id": "CYvsHRdgb7-O",
        "colab_type": "code",
        "colab": {}
      },
      "source": [
        ""
      ],
      "execution_count": 0,
      "outputs": []
    },
    {
      "cell_type": "code",
      "metadata": {
        "id": "JoccxQFycZjO",
        "colab_type": "code",
        "colab": {}
      },
      "source": [
        "_aws_session = boto3.session.Session(\n",
        "    region_name='ap-northeast-1',\n",
        "    aws_access_key_id=os.environ[\"AWS_ACCESS_KEY_ID\"],\n",
        "    aws_secret_access_key=os.environ[\"AWS_SECRET_ACCESS_KEY\"],\n",
        ")\n",
        "\n",
        "S3_resource = _aws_session.resource('s3')\n",
        "\n",
        "S3_BUCKET_NAME = 'fin-app'\n",
        "\n",
        "class S3:\n",
        "\n",
        "    @staticmethod\n",
        "    def save_file(\n",
        "        local_filepath: str,\n",
        "        s3_filepath: str,\n",
        "        bucket_name: str = S3_BUCKET_NAME,\n",
        "    ) -> None:\n",
        "        \"\"\"[summary]\n",
        "        Args:\n",
        "            local_filepath (str): [description]\n",
        "            s3_filepath (str): [description]\n",
        "            bucket_name (str, optional): [description]. Defaults to AWSConfig.S3_BUCKET_NAME.\n",
        "        \"\"\"\n",
        "        bucket = S3_resource.Bucket(bucket_name)\n",
        "\n",
        "        bucket.upload_file(\n",
        "            local_filepath,\n",
        "            s3_filepath\n",
        "        )\n",
        "\n",
        "    @staticmethod\n",
        "    def get_filelist(\n",
        "        basedir: str,\n",
        "        bucket_name: str = S3_BUCKET_NAME,\n",
        "        marker: str = '',\n",
        "    ) -> List[str]:\n",
        "        \"\"\"[summary]\n",
        "        Args:\n",
        "            basedir (str): [description]\n",
        "            bucket_name (str, optional): [description]. Defaults to AWSConfig.S3_BUCKET_NAME.\n",
        "            marker (str, optional): [description]. Defaults to ''.\n",
        "        Returns:\n",
        "            List[str]: [description]\n",
        "        \"\"\"\n",
        "        bucket = S3_resource.Bucket(bucket_name)\n",
        "        objs = bucket.meta.client.list_objects(\n",
        "            Bucket=bucket.name,\n",
        "            Prefix=basedir if basedir[-1] == '/' else basedir + '/',\n",
        "            Marker=marker,\n",
        "        )\n",
        "\n",
        "        s3_prefix = f's3://{bucket_name}/'\n",
        "        s3_filelist = []\n",
        "\n",
        "        while 'Contents' in objs:\n",
        "            files = [o.get('Key') for o in objs.get('Contents')]\n",
        "\n",
        "            s3_paths = [os.path.join(\n",
        "                s3_prefix,\n",
        "                file,\n",
        "            ) for file in files]\n",
        "\n",
        "            s3_filelist += s3_paths\n",
        "\n",
        "            if 'IsTruncated' in objs:\n",
        "                marker = files[-1]\n",
        "                objs = bucket.meta.client.list_objects(\n",
        "                    Bucket=bucket.name,\n",
        "                    Prefix=basedir if basedir[-1] == '/' else basedir + '/',\n",
        "                    Marker=marker,\n",
        "                )\n",
        "            else:\n",
        "                break\n",
        "\n",
        "        return s3_filelist\n",
        "\n",
        "    @staticmethod\n",
        "    def download_file(\n",
        "        s3_filepath: str,\n",
        "        local_filepath: str,\n",
        "        bucket_name: str = S3_BUCKET_NAME,\n",
        "    ) -> str:\n",
        "        \"\"\"[summary]\n",
        "        Args:\n",
        "            s3_filepath (str): [description]\n",
        "            local_filepath (str): [description]\n",
        "            bucket_name (str, optional): [description]. Defaults to AWSConfig.S3_BUCKET_NAME.\n",
        "        Returns:\n",
        "            str: [description]\n",
        "        \"\"\"\n",
        "        bucket = S3_resource.Bucket(bucket_name)\n",
        "\n",
        "        s3_prefix = f's3://{bucket_name}/'\n",
        "        filepath = s3_filepath.replace(s3_prefix, '')\n",
        "        object = bucket.Object(filepath)\n",
        "        object.download_file(local_filepath)\n",
        "\n",
        "        return local_filepath"
      ],
      "execution_count": 0,
      "outputs": []
    },
    {
      "cell_type": "code",
      "metadata": {
        "id": "fkE_JSX3b9wB",
        "colab_type": "code",
        "colab": {}
      },
      "source": [
        "def download_cnadlechart_img(\n",
        "    s3_filepath_list,\n",
        "    codes,\n",
        "    local_dir,\n",
        "):\n",
        "    for s3_filepath, code in zip(pb(s3_filepath_list), codes):\n",
        "        filename = s3_filepath.split('/')[-1]\n",
        "        local_path = os.path.join(\n",
        "            local_dir,\n",
        "            str(code),\n",
        "            filename\n",
        "        )\n",
        "        if not os.path.exists(os.path.dirname(local_path)):\n",
        "            os.makedirs(os.path.dirname(local_path))\n",
        "        S3.download_file(\n",
        "            s3_filepath,\n",
        "            local_path\n",
        "        )"
      ],
      "execution_count": 0,
      "outputs": []
    },
    {
      "cell_type": "code",
      "metadata": {
        "id": "5H74hCzNgqO0",
        "colab_type": "code",
        "outputId": "da3a098d-235f-4f6d-f021-8ec5db2884eb",
        "colab": {
          "base_uri": "https://localhost:8080/",
          "height": 37
        }
      },
      "source": [
        "download_cnadlechart_img(\n",
        "    df_train['s3_filepath'][:3],\n",
        "    df_train['code'][:3],\n",
        "    './data'\n",
        ")"
      ],
      "execution_count": 0,
      "outputs": [
        {
          "output_type": "display_data",
          "data": {
            "text/html": [
              "\n",
              "    <div>\n",
              "        <style>\n",
              "            /* Turns off some styling */\n",
              "            progress {\n",
              "                /* gets rid of default border in Firefox and Opera. */\n",
              "                border: none;\n",
              "                /* Needs to be in here for Safari polyfill so background images work as expected. */\n",
              "                background-size: auto;\n",
              "            }\n",
              "            .progress-bar-interrupted, .progress-bar-interrupted::-webkit-progress-bar {\n",
              "                background: #F44336;\n",
              "            }\n",
              "        </style>\n",
              "      <progress value='3' class='' max='3', style='width:300px; height:20px; vertical-align: middle;'></progress>\n",
              "      100.00% [3/3 00:00<00:00]\n",
              "    </div>\n",
              "    "
            ],
            "text/plain": [
              "<IPython.core.display.HTML object>"
            ]
          },
          "metadata": {
            "tags": []
          }
        }
      ]
    },
    {
      "cell_type": "code",
      "metadata": {
        "id": "_3xL9EIWgyKM",
        "colab_type": "code",
        "outputId": "60ef5cdc-4e27-4f47-faa0-d90b18d5f20f",
        "colab": {
          "base_uri": "https://localhost:8080/",
          "height": 51
        }
      },
      "source": [
        "!ls data/5352 -l -h"
      ],
      "execution_count": 0,
      "outputs": [
        {
          "output_type": "stream",
          "text": [
            "total 8.0K\n",
            "-rw-r--r-- 1 root root 5.4K Jan  2 04:36 2009-04-17_2009-08-15.png\n"
          ],
          "name": "stdout"
        }
      ]
    },
    {
      "cell_type": "code",
      "metadata": {
        "id": "Z7X_3zOKhnWl",
        "colab_type": "code",
        "colab": {}
      },
      "source": [
        "from PIL import Image"
      ],
      "execution_count": 0,
      "outputs": []
    },
    {
      "cell_type": "code",
      "metadata": {
        "id": "nMZ_Goc8hw5s",
        "colab_type": "code",
        "colab": {}
      },
      "source": [
        "img = Image.open('./data/5352/2009-04-17_2009-08-15.png')"
      ],
      "execution_count": 0,
      "outputs": []
    },
    {
      "cell_type": "code",
      "metadata": {
        "id": "BBu-hL24h26s",
        "colab_type": "code",
        "outputId": "613b9725-27c2-42ac-b798-17b927d608c5",
        "colab": {
          "base_uri": "https://localhost:8080/",
          "height": 286
        }
      },
      "source": [
        "plt.imshow(img)"
      ],
      "execution_count": 0,
      "outputs": [
        {
          "output_type": "execute_result",
          "data": {
            "text/plain": [
              "<matplotlib.image.AxesImage at 0x7fbc42b92cf8>"
            ]
          },
          "metadata": {
            "tags": []
          },
          "execution_count": 144
        },
        {
          "output_type": "display_data",
          "data": {
            "image/png": "[encoded data removed]",
            "text/plain": [
              "<Figure size 432x288 with 1 Axes>"
            ]
          },
          "metadata": {
            "tags": []
          }
        }
      ]
    },
    {
      "cell_type": "code",
      "metadata": {
        "id": "FndJy-11h4L8",
        "colab_type": "code",
        "colab": {}
      },
      "source": [
        "!rm -rf ./data"
      ],
      "execution_count": 0,
      "outputs": []
    },
    {
      "cell_type": "code",
      "metadata": {
        "id": "BOLQRYPRjGcM",
        "colab_type": "code",
        "outputId": "9b2ffd74-7525-49de-a6cb-18c32c1f02e2",
        "colab": {
          "base_uri": "https://localhost:8080/",
          "height": 54
        }
      },
      "source": [
        "download_cnadlechart_img(\n",
        "    df_train['s3_filepath'],\n",
        "    df_train['code'],\n",
        "    './data/train'\n",
        ")"
      ],
      "execution_count": 0,
      "outputs": [
        {
          "output_type": "display_data",
          "data": {
            "text/html": [
              "\n",
              "    <div>\n",
              "        <style>\n",
              "            /* Turns off some styling */\n",
              "            progress {\n",
              "                /* gets rid of default border in Firefox and Opera. */\n",
              "                border: none;\n",
              "                /* Needs to be in here for Safari polyfill so background images work as expected. */\n",
              "                background-size: auto;\n",
              "            }\n",
              "            .progress-bar-interrupted, .progress-bar-interrupted::-webkit-progress-bar {\n",
              "                background: #F44336;\n",
              "            }\n",
              "        </style>\n",
              "      <progress value='34463' class='' max='60000', style='width:300px; height:20px; vertical-align: middle;'></progress>\n",
              "      57.44% [34463/60000 1:22:32<1:01:09]\n",
              "    </div>\n",
              "    "
            ],
            "text/plain": [
              "<IPython.core.display.HTML object>"
            ]
          },
          "metadata": {
            "tags": []
          }
        },
        {
          "output_type": "stream",
          "text": [
            "Buffered data was truncated after reaching the output size limit."
          ],
          "name": "stdout"
        }
      ]
    },
    {
      "cell_type": "code",
      "metadata": {
        "id": "hSmdLSAM5QZY",
        "colab_type": "code",
        "outputId": "b5d34db3-24b3-4655-f203-68ffbccacf11",
        "colab": {
          "base_uri": "https://localhost:8080/",
          "height": 37
        }
      },
      "source": [
        "download_cnadlechart_img(\n",
        "    df_train['s3_filepath'][34462:],\n",
        "    df_train['code'][34462:],\n",
        "    './data/train'\n",
        ")"
      ],
      "execution_count": 0,
      "outputs": [
        {
          "output_type": "display_data",
          "data": {
            "text/html": [
              "\n",
              "    <div>\n",
              "        <style>\n",
              "            /* Turns off some styling */\n",
              "            progress {\n",
              "                /* gets rid of default border in Firefox and Opera. */\n",
              "                border: none;\n",
              "                /* Needs to be in here for Safari polyfill so background images work as expected. */\n",
              "                background-size: auto;\n",
              "            }\n",
              "            .progress-bar-interrupted, .progress-bar-interrupted::-webkit-progress-bar {\n",
              "                background: #F44336;\n",
              "            }\n",
              "        </style>\n",
              "      <progress value='25538' class='' max='25538', style='width:300px; height:20px; vertical-align: middle;'></progress>\n",
              "      100.00% [25538/25538 1:00:49<00:00]\n",
              "    </div>\n",
              "    "
            ],
            "text/plain": [
              "<IPython.core.display.HTML object>"
            ]
          },
          "metadata": {
            "tags": []
          }
        }
      ]
    },
    {
      "cell_type": "code",
      "metadata": {
        "id": "wWVm3rieJbyd",
        "colab_type": "code",
        "colab": {
          "base_uri": "https://localhost:8080/",
          "height": 37
        },
        "outputId": "df286059-bcd6-4050-ff67-7e1ce66ba3dd"
      },
      "source": [
        "download_cnadlechart_img(\n",
        "    df_test['s3_filepath'],\n",
        "    df_test['code'],\n",
        "    './data/test'\n",
        ")"
      ],
      "execution_count": 36,
      "outputs": [
        {
          "output_type": "display_data",
          "data": {
            "text/html": [
              "\n",
              "    <div>\n",
              "        <style>\n",
              "            /* Turns off some styling */\n",
              "            progress {\n",
              "                /* gets rid of default border in Firefox and Opera. */\n",
              "                border: none;\n",
              "                /* Needs to be in here for Safari polyfill so background images work as expected. */\n",
              "                background-size: auto;\n",
              "            }\n",
              "            .progress-bar-interrupted, .progress-bar-interrupted::-webkit-progress-bar {\n",
              "                background: #F44336;\n",
              "            }\n",
              "        </style>\n",
              "      <progress value='60000' class='' max='60000', style='width:300px; height:20px; vertical-align: middle;'></progress>\n",
              "      100.00% [60000/60000 2:23:59<00:00]\n",
              "    </div>\n",
              "    "
            ],
            "text/plain": [
              "<IPython.core.display.HTML object>"
            ]
          },
          "metadata": {
            "tags": []
          }
        }
      ]
    },
    {
      "cell_type": "code",
      "metadata": {
        "id": "coSOScdOkKFJ",
        "colab_type": "code",
        "colab": {}
      },
      "source": [
        "!zip -r train_candlechart_data ./data/train > /dev/null"
      ],
      "execution_count": 0,
      "outputs": []
    },
    {
      "cell_type": "code",
      "metadata": {
        "id": "nsWmHtnqpg3T",
        "colab_type": "code",
        "colab": {}
      },
      "source": [
        "!zip -r test_candlechart_data ./data/test > /dev/null"
      ],
      "execution_count": 0,
      "outputs": []
    },
    {
      "cell_type": "code",
      "metadata": {
        "id": "hBaMa19p5LzD",
        "colab_type": "code",
        "outputId": "6351b4e2-a826-49fc-e05b-6d98cd05d72e",
        "colab": {
          "base_uri": "https://localhost:8080/",
          "height": 119
        }
      },
      "source": [
        "ls -l -h"
      ],
      "execution_count": 40,
      "outputs": [
        {
          "output_type": "stream",
          "text": [
            "total 404M\n",
            "drwxr-xr-x 4 root root 4.0K Jan  2 07:28 \u001b[0m\u001b[01;34mdata\u001b[0m/\n",
            "drwx------ 4 root root 4.0K Jan  2 07:24 \u001b[01;34mdrive\u001b[0m/\n",
            "drwxr-xr-x 1 root root 4.0K Dec 18 16:52 \u001b[01;34msample_data\u001b[0m/\n",
            "-rw-r--r-- 1 root root 216M Jan  2 09:52 test_candlechart_data.zip\n",
            "-rw-r--r-- 1 root root 188M Jan  2 07:22 train_candlechart_data.zip\n"
          ],
          "name": "stdout"
        }
      ]
    },
    {
      "cell_type": "code",
      "metadata": {
        "id": "gtYgrWThHjBb",
        "colab_type": "code",
        "colab": {}
      },
      "source": [
        ""
      ],
      "execution_count": 0,
      "outputs": []
    },
    {
      "cell_type": "code",
      "metadata": {
        "id": "1tPE0t7OI2Vl",
        "colab_type": "code",
        "colab": {}
      },
      "source": [
        "from google.colab import drive\n",
        "drive.mount('/content/drive')"
      ],
      "execution_count": 0,
      "outputs": []
    },
    {
      "cell_type": "code",
      "metadata": {
        "id": "rKQpzmtsIYdc",
        "colab_type": "code",
        "colab": {
          "base_uri": "https://localhost:8080/",
          "height": 34
        },
        "outputId": "771cff15-e87f-46b0-ae76-c7f6631ad62c"
      },
      "source": [
        "mkdir /content/drive/'My Drive'/candlechart"
      ],
      "execution_count": 22,
      "outputs": [
        {
          "output_type": "stream",
          "text": [
            "mkdir: cannot create directory ‘/content/drive/My Drive/candlechart’: File exists\n"
          ],
          "name": "stdout"
        }
      ]
    },
    {
      "cell_type": "code",
      "metadata": {
        "id": "sE4hiHs9I_ly",
        "colab_type": "code",
        "colab": {
          "base_uri": "https://localhost:8080/",
          "height": 34
        },
        "outputId": "59d7a445-35fb-49ee-e89d-5d645cf738be"
      },
      "source": [
        "!cp train_candlechart_data.zip /content/drive/'My Drive'/candlechart"
      ],
      "execution_count": 23,
      "outputs": [
        {
          "output_type": "stream",
          "text": [
            "cp: cannot stat 'train_candlechart_data.zip': No such file or directory\n"
          ],
          "name": "stdout"
        }
      ]
    },
    {
      "cell_type": "code",
      "metadata": {
        "id": "eZbWnnq4JQPB",
        "colab_type": "code",
        "colab": {
          "base_uri": "https://localhost:8080/",
          "height": 34
        },
        "outputId": "d1ddb6f2-3e4c-4fb4-baf0-50ea2d5fc8ea"
      },
      "source": [
        "!cp test_candlechart_data.zip /content/drive/'My Drive'/candlechart"
      ],
      "execution_count": 24,
      "outputs": [
        {
          "output_type": "stream",
          "text": [
            "cp: cannot stat 'test_candlechart_data.zip': No such file or directory\n"
          ],
          "name": "stdout"
        }
      ]
    },
    {
      "cell_type": "code",
      "metadata": {
        "id": "sfgtyv2trE-a",
        "colab_type": "code",
        "colab": {
          "base_uri": "https://localhost:8080/",
          "height": 34
        },
        "outputId": "e581fa5e-1a7b-4e9f-a15d-764228363f28"
      },
      "source": [
        "ls drive/'My Drive'/candlechart"
      ],
      "execution_count": 25,
      "outputs": [
        {
          "output_type": "stream",
          "text": [
            "test_candlechart_data.zip  train_candlechart_data.zip\n"
          ],
          "name": "stdout"
        }
      ]
    },
    {
      "cell_type": "code",
      "metadata": {
        "id": "94HtSrX-86eL",
        "colab_type": "code",
        "colab": {}
      },
      "source": [
        "!cp drive/'My Drive'/candlechart/train_candlechart_data.zip ."
      ],
      "execution_count": 0,
      "outputs": []
    },
    {
      "cell_type": "code",
      "metadata": {
        "id": "W9Y1g59MILte",
        "colab_type": "code",
        "colab": {}
      },
      "source": [
        "!cp drive/'My Drive'/candlechart/test_candlechart_data.zip ."
      ],
      "execution_count": 0,
      "outputs": []
    },
    {
      "cell_type": "code",
      "metadata": {
        "id": "JSuXyjpaIOuc",
        "colab_type": "code",
        "colab": {
          "base_uri": "https://localhost:8080/",
          "height": 34
        },
        "outputId": "0872e56e-3f10-4fde-ba94-168a557e77b4"
      },
      "source": [
        "ls"
      ],
      "execution_count": 28,
      "outputs": [
        {
          "output_type": "stream",
          "text": [
            "\u001b[0m\u001b[01;34mdrive\u001b[0m/  \u001b[01;34msample_data\u001b[0m/  test_candlechart_data.zip  train_candlechart_data.zip\n"
          ],
          "name": "stdout"
        }
      ]
    },
    {
      "cell_type": "code",
      "metadata": {
        "id": "2hlSQuXUIPsE",
        "colab_type": "code",
        "colab": {}
      },
      "source": [
        "!unzip train_candlechart_data.zip -d train_candlechart_data > /dev/null"
      ],
      "execution_count": 0,
      "outputs": []
    },
    {
      "cell_type": "code",
      "metadata": {
        "id": "j5y7BgumIa98",
        "colab_type": "code",
        "colab": {}
      },
      "source": [
        "!unzip test_candlechart_data.zip -d test_candlechart_data > /dev/null"
      ],
      "execution_count": 0,
      "outputs": []
    },
    {
      "cell_type": "code",
      "metadata": {
        "id": "ht41KUluIoXd",
        "colab_type": "code",
        "colab": {}
      },
      "source": [
        "import glob"
      ],
      "execution_count": 0,
      "outputs": []
    },
    {
      "cell_type": "code",
      "metadata": {
        "id": "Vvom2fyyIvic",
        "colab_type": "code",
        "colab": {}
      },
      "source": [
        "train_candle_files = glob.glob('train_candlechart_data/**/*.png', recursive=True)\n",
        "test_candle_files = glob.glob('test_candlechart_data/**/*.png', recursive=True)"
      ],
      "execution_count": 0,
      "outputs": []
    },
    {
      "cell_type": "code",
      "metadata": {
        "id": "8XsDRYeYI4w7",
        "colab_type": "code",
        "colab": {
          "base_uri": "https://localhost:8080/",
          "height": 34
        },
        "outputId": "fddd0b34-0863-436f-8a61-0fdc32234541"
      },
      "source": [
        "len(train_candle_files)"
      ],
      "execution_count": 33,
      "outputs": [
        {
          "output_type": "execute_result",
          "data": {
            "text/plain": [
              "60000"
            ]
          },
          "metadata": {
            "tags": []
          },
          "execution_count": 33
        }
      ]
    },
    {
      "cell_type": "code",
      "metadata": {
        "id": "j45vijXwJBfs",
        "colab_type": "code",
        "colab": {}
      },
      "source": [
        "df_local_trainfiles = pd.DataFrame({\n",
        "    'localpath': train_candle_files\n",
        "})\n",
        "df_local_testfiles = pd.DataFrame({\n",
        "    'localpath': test_candle_files\n",
        "})"
      ],
      "execution_count": 0,
      "outputs": []
    },
    {
      "cell_type": "code",
      "metadata": {
        "id": "5OWlTDnOJhNE",
        "colab_type": "code",
        "colab": {}
      },
      "source": [
        "def localpath2S3path(localpath):\n",
        "    s3_path = os.path.join(\n",
        "        's3://fin-app/stockprice_candlechart/DAILY_WINDOW-120d_STRIDE-30d_WIDTH-0.5',\n",
        "        '/'.join(localpath.split('/')[-2:])\n",
        "    )\n",
        "    return s3_path"
      ],
      "execution_count": 0,
      "outputs": []
    },
    {
      "cell_type": "code",
      "metadata": {
        "id": "yfpzB4zyJVoc",
        "colab_type": "code",
        "colab": {
          "base_uri": "https://localhost:8080/",
          "height": 34
        },
        "outputId": "085b666f-a422-43d5-ad87-791d5a6d2063"
      },
      "source": [
        "localpath2S3path(df_local_trainfiles.localpath[0])"
      ],
      "execution_count": 36,
      "outputs": [
        {
          "output_type": "execute_result",
          "data": {
            "text/plain": [
              "'s3://fin-app/stockprice_candlechart/DAILY_WINDOW-120d_STRIDE-30d_WIDTH-0.5/6293/2001-11-07_2002-03-07.png'"
            ]
          },
          "metadata": {
            "tags": []
          },
          "execution_count": 36
        }
      ]
    },
    {
      "cell_type": "code",
      "metadata": {
        "id": "JaYgdZfRJXGM",
        "colab_type": "code",
        "colab": {}
      },
      "source": [
        "df_local_trainfiles['s3_filepath'] = df_local_trainfiles['localpath'].map(localpath2S3path)\n",
        "df_local_testfiles['s3_filepath'] = df_local_testfiles['localpath'].map(localpath2S3path)"
      ],
      "execution_count": 0,
      "outputs": []
    },
    {
      "cell_type": "code",
      "metadata": {
        "id": "Go7apIGwKVP5",
        "colab_type": "code",
        "colab": {
          "base_uri": "https://localhost:8080/",
          "height": 419
        },
        "outputId": "57585873-31de-4e37-b630-82a236fcc44a"
      },
      "source": [
        "df_local_trainfiles"
      ],
      "execution_count": 38,
      "outputs": [
        {
          "output_type": "execute_result",
          "data": {
            "text/html": [
              "<div>\n",
              "<style scoped>\n",
              "    .dataframe tbody tr th:only-of-type {\n",
              "        vertical-align: middle;\n",
              "    }\n",
              "\n",
              "    .dataframe tbody tr th {\n",
              "        vertical-align: top;\n",
              "    }\n",
              "\n",
              "    .dataframe thead th {\n",
              "        text-align: right;\n",
              "    }\n",
              "</style>\n",
              "<table border=\"1\" class=\"dataframe\">\n",
              "  <thead>\n",
              "    <tr style=\"text-align: right;\">\n",
              "      <th></th>\n",
              "      <th>localpath</th>\n",
              "      <th>s3_filepath</th>\n",
              "    </tr>\n",
              "  </thead>\n",
              "  <tbody>\n",
              "    <tr>\n",
              "      <th>0</th>\n",
              "      <td>train_candlechart_data/data/train/6293/2001-11...</td>\n",
              "      <td>s3://fin-app/stockprice_candlechart/DAILY_WIND...</td>\n",
              "    </tr>\n",
              "    <tr>\n",
              "      <th>1</th>\n",
              "      <td>train_candlechart_data/data/train/6293/2011-03...</td>\n",
              "      <td>s3://fin-app/stockprice_candlechart/DAILY_WIND...</td>\n",
              "    </tr>\n",
              "    <tr>\n",
              "      <th>2</th>\n",
              "      <td>train_candlechart_data/data/train/6293/2014-03...</td>\n",
              "      <td>s3://fin-app/stockprice_candlechart/DAILY_WIND...</td>\n",
              "    </tr>\n",
              "    <tr>\n",
              "      <th>3</th>\n",
              "      <td>train_candlechart_data/data/train/6293/2005-06...</td>\n",
              "      <td>s3://fin-app/stockprice_candlechart/DAILY_WIND...</td>\n",
              "    </tr>\n",
              "    <tr>\n",
              "      <th>4</th>\n",
              "      <td>train_candlechart_data/data/train/6293/2002-10...</td>\n",
              "      <td>s3://fin-app/stockprice_candlechart/DAILY_WIND...</td>\n",
              "    </tr>\n",
              "    <tr>\n",
              "      <th>...</th>\n",
              "      <td>...</td>\n",
              "      <td>...</td>\n",
              "    </tr>\n",
              "    <tr>\n",
              "      <th>59995</th>\n",
              "      <td>train_candlechart_data/data/train/6502/2004-06...</td>\n",
              "      <td>s3://fin-app/stockprice_candlechart/DAILY_WIND...</td>\n",
              "    </tr>\n",
              "    <tr>\n",
              "      <th>59996</th>\n",
              "      <td>train_candlechart_data/data/train/6502/2008-11...</td>\n",
              "      <td>s3://fin-app/stockprice_candlechart/DAILY_WIND...</td>\n",
              "    </tr>\n",
              "    <tr>\n",
              "      <th>59997</th>\n",
              "      <td>train_candlechart_data/data/train/6502/1999-10...</td>\n",
              "      <td>s3://fin-app/stockprice_candlechart/DAILY_WIND...</td>\n",
              "    </tr>\n",
              "    <tr>\n",
              "      <th>59998</th>\n",
              "      <td>train_candlechart_data/data/train/6502/2002-02...</td>\n",
              "      <td>s3://fin-app/stockprice_candlechart/DAILY_WIND...</td>\n",
              "    </tr>\n",
              "    <tr>\n",
              "      <th>59999</th>\n",
              "      <td>train_candlechart_data/data/train/6502/2011-02...</td>\n",
              "      <td>s3://fin-app/stockprice_candlechart/DAILY_WIND...</td>\n",
              "    </tr>\n",
              "  </tbody>\n",
              "</table>\n",
              "<p>60000 rows × 2 columns</p>\n",
              "</div>"
            ],
            "text/plain": [
              "                                               localpath                                        s3_filepath\n",
              "0      train_candlechart_data/data/train/6293/2001-11...  s3://fin-app/stockprice_candlechart/DAILY_WIND...\n",
              "1      train_candlechart_data/data/train/6293/2011-03...  s3://fin-app/stockprice_candlechart/DAILY_WIND...\n",
              "2      train_candlechart_data/data/train/6293/2014-03...  s3://fin-app/stockprice_candlechart/DAILY_WIND...\n",
              "3      train_candlechart_data/data/train/6293/2005-06...  s3://fin-app/stockprice_candlechart/DAILY_WIND...\n",
              "4      train_candlechart_data/data/train/6293/2002-10...  s3://fin-app/stockprice_candlechart/DAILY_WIND...\n",
              "...                                                  ...                                                ...\n",
              "59995  train_candlechart_data/data/train/6502/2004-06...  s3://fin-app/stockprice_candlechart/DAILY_WIND...\n",
              "59996  train_candlechart_data/data/train/6502/2008-11...  s3://fin-app/stockprice_candlechart/DAILY_WIND...\n",
              "59997  train_candlechart_data/data/train/6502/1999-10...  s3://fin-app/stockprice_candlechart/DAILY_WIND...\n",
              "59998  train_candlechart_data/data/train/6502/2002-02...  s3://fin-app/stockprice_candlechart/DAILY_WIND...\n",
              "59999  train_candlechart_data/data/train/6502/2011-02...  s3://fin-app/stockprice_candlechart/DAILY_WIND...\n",
              "\n",
              "[60000 rows x 2 columns]"
            ]
          },
          "metadata": {
            "tags": []
          },
          "execution_count": 38
        }
      ]
    },
    {
      "cell_type": "code",
      "metadata": {
        "id": "dRr86ccSKehb",
        "colab_type": "code",
        "colab": {}
      },
      "source": [
        "df_meta_localtrain_merged = pd.merge(\n",
        "    df_stockprice_meta_valid,\n",
        "    df_local_trainfiles,\n",
        "    how='left',\n",
        "    on='s3_filepath'\n",
        ")\n",
        "df_meta_localtest_merged = pd.merge(\n",
        "    df_stockprice_meta_valid,\n",
        "    df_local_testfiles,\n",
        "    how='left',\n",
        "    on='s3_filepath'\n",
        ")"
      ],
      "execution_count": 0,
      "outputs": []
    },
    {
      "cell_type": "code",
      "metadata": {
        "id": "wQCLMuBpKyWS",
        "colab_type": "code",
        "colab": {}
      },
      "source": [
        "df_meta_localtrain_merged = df_meta_localtrain_merged[~df_meta_localtrain_merged['localpath'].isnull()]"
      ],
      "execution_count": 0,
      "outputs": []
    },
    {
      "cell_type": "code",
      "metadata": {
        "id": "ftdkpMJ6K7ZS",
        "colab_type": "code",
        "colab": {}
      },
      "source": [
        "df_meta_localtest_merged = df_meta_localtest_merged[~df_meta_localtest_merged['localpath'].isnull()]"
      ],
      "execution_count": 0,
      "outputs": []
    },
    {
      "cell_type": "code",
      "metadata": {
        "id": "MU6SFcFHLdWS",
        "colab_type": "code",
        "colab": {
          "base_uri": "https://localhost:8080/",
          "height": 589
        },
        "outputId": "3a18612a-90ca-4edb-c804-5dd2c8c14c89"
      },
      "source": [
        "df_meta_localtrain_merged"
      ],
      "execution_count": 42,
      "outputs": [
        {
          "output_type": "execute_result",
          "data": {
            "text/html": [
              "<div>\n",
              "<style scoped>\n",
              "    .dataframe tbody tr th:only-of-type {\n",
              "        vertical-align: middle;\n",
              "    }\n",
              "\n",
              "    .dataframe tbody tr th {\n",
              "        vertical-align: top;\n",
              "    }\n",
              "\n",
              "    .dataframe thead th {\n",
              "        text-align: right;\n",
              "    }\n",
              "</style>\n",
              "<table border=\"1\" class=\"dataframe\">\n",
              "  <thead>\n",
              "    <tr style=\"text-align: right;\">\n",
              "      <th></th>\n",
              "      <th>s3_filepath</th>\n",
              "      <th>code</th>\n",
              "      <th>start_dt</th>\n",
              "      <th>end_dt</th>\n",
              "      <th>change_rate_30d</th>\n",
              "      <th>change_rate_30d_label</th>\n",
              "      <th>localpath</th>\n",
              "    </tr>\n",
              "  </thead>\n",
              "  <tbody>\n",
              "    <tr>\n",
              "      <th>205</th>\n",
              "      <td>s3://fin-app/stockprice_candlechart/DAILY_WIND...</td>\n",
              "      <td>1301</td>\n",
              "      <td>1999-11-06</td>\n",
              "      <td>2000-03-05</td>\n",
              "      <td>0.097794</td>\n",
              "      <td>2</td>\n",
              "      <td>train_candlechart_data/data/train/1301/1999-11...</td>\n",
              "    </tr>\n",
              "    <tr>\n",
              "      <th>253</th>\n",
              "      <td>s3://fin-app/stockprice_candlechart/DAILY_WIND...</td>\n",
              "      <td>1301</td>\n",
              "      <td>2003-10-16</td>\n",
              "      <td>2004-02-13</td>\n",
              "      <td>0.024993</td>\n",
              "      <td>1</td>\n",
              "      <td>train_candlechart_data/data/train/1301/2003-10...</td>\n",
              "    </tr>\n",
              "    <tr>\n",
              "      <th>254</th>\n",
              "      <td>s3://fin-app/stockprice_candlechart/DAILY_WIND...</td>\n",
              "      <td>1301</td>\n",
              "      <td>2003-11-15</td>\n",
              "      <td>2004-03-14</td>\n",
              "      <td>0.042076</td>\n",
              "      <td>2</td>\n",
              "      <td>train_candlechart_data/data/train/1301/2003-11...</td>\n",
              "    </tr>\n",
              "    <tr>\n",
              "      <th>264</th>\n",
              "      <td>s3://fin-app/stockprice_candlechart/DAILY_WIND...</td>\n",
              "      <td>1301</td>\n",
              "      <td>2004-09-10</td>\n",
              "      <td>2005-01-08</td>\n",
              "      <td>0.017402</td>\n",
              "      <td>1</td>\n",
              "      <td>train_candlechart_data/data/train/1301/2004-09...</td>\n",
              "    </tr>\n",
              "    <tr>\n",
              "      <th>269</th>\n",
              "      <td>s3://fin-app/stockprice_candlechart/DAILY_WIND...</td>\n",
              "      <td>1301</td>\n",
              "      <td>2005-02-07</td>\n",
              "      <td>2005-06-07</td>\n",
              "      <td>0.042626</td>\n",
              "      <td>2</td>\n",
              "      <td>train_candlechart_data/data/train/1301/2005-02...</td>\n",
              "    </tr>\n",
              "    <tr>\n",
              "      <th>...</th>\n",
              "      <td>...</td>\n",
              "      <td>...</td>\n",
              "      <td>...</td>\n",
              "      <td>...</td>\n",
              "      <td>...</td>\n",
              "      <td>...</td>\n",
              "      <td>...</td>\n",
              "    </tr>\n",
              "    <tr>\n",
              "      <th>952362</th>\n",
              "      <td>s3://fin-app/stockprice_candlechart/DAILY_WIND...</td>\n",
              "      <td>9997</td>\n",
              "      <td>2013-01-27</td>\n",
              "      <td>2013-05-27</td>\n",
              "      <td>-0.057055</td>\n",
              "      <td>0</td>\n",
              "      <td>train_candlechart_data/data/train/9997/2013-01...</td>\n",
              "    </tr>\n",
              "    <tr>\n",
              "      <th>952363</th>\n",
              "      <td>s3://fin-app/stockprice_candlechart/DAILY_WIND...</td>\n",
              "      <td>9997</td>\n",
              "      <td>2013-02-26</td>\n",
              "      <td>2013-06-26</td>\n",
              "      <td>0.147416</td>\n",
              "      <td>2</td>\n",
              "      <td>train_candlechart_data/data/train/9997/2013-02...</td>\n",
              "    </tr>\n",
              "    <tr>\n",
              "      <th>952368</th>\n",
              "      <td>s3://fin-app/stockprice_candlechart/DAILY_WIND...</td>\n",
              "      <td>9997</td>\n",
              "      <td>2013-07-26</td>\n",
              "      <td>2013-11-23</td>\n",
              "      <td>0.011168</td>\n",
              "      <td>1</td>\n",
              "      <td>train_candlechart_data/data/train/9997/2013-07...</td>\n",
              "    </tr>\n",
              "    <tr>\n",
              "      <th>952371</th>\n",
              "      <td>s3://fin-app/stockprice_candlechart/DAILY_WIND...</td>\n",
              "      <td>9997</td>\n",
              "      <td>2013-10-24</td>\n",
              "      <td>2014-02-21</td>\n",
              "      <td>-0.045464</td>\n",
              "      <td>0</td>\n",
              "      <td>train_candlechart_data/data/train/9997/2013-10...</td>\n",
              "    </tr>\n",
              "    <tr>\n",
              "      <th>952376</th>\n",
              "      <td>s3://fin-app/stockprice_candlechart/DAILY_WIND...</td>\n",
              "      <td>9997</td>\n",
              "      <td>2014-03-23</td>\n",
              "      <td>2014-07-21</td>\n",
              "      <td>-0.013563</td>\n",
              "      <td>1</td>\n",
              "      <td>train_candlechart_data/data/train/9997/2014-03...</td>\n",
              "    </tr>\n",
              "  </tbody>\n",
              "</table>\n",
              "<p>60000 rows × 7 columns</p>\n",
              "</div>"
            ],
            "text/plain": [
              "                                              s3_filepath  ...                                          localpath\n",
              "205     s3://fin-app/stockprice_candlechart/DAILY_WIND...  ...  train_candlechart_data/data/train/1301/1999-11...\n",
              "253     s3://fin-app/stockprice_candlechart/DAILY_WIND...  ...  train_candlechart_data/data/train/1301/2003-10...\n",
              "254     s3://fin-app/stockprice_candlechart/DAILY_WIND...  ...  train_candlechart_data/data/train/1301/2003-11...\n",
              "264     s3://fin-app/stockprice_candlechart/DAILY_WIND...  ...  train_candlechart_data/data/train/1301/2004-09...\n",
              "269     s3://fin-app/stockprice_candlechart/DAILY_WIND...  ...  train_candlechart_data/data/train/1301/2005-02...\n",
              "...                                                   ...  ...                                                ...\n",
              "952362  s3://fin-app/stockprice_candlechart/DAILY_WIND...  ...  train_candlechart_data/data/train/9997/2013-01...\n",
              "952363  s3://fin-app/stockprice_candlechart/DAILY_WIND...  ...  train_candlechart_data/data/train/9997/2013-02...\n",
              "952368  s3://fin-app/stockprice_candlechart/DAILY_WIND...  ...  train_candlechart_data/data/train/9997/2013-07...\n",
              "952371  s3://fin-app/stockprice_candlechart/DAILY_WIND...  ...  train_candlechart_data/data/train/9997/2013-10...\n",
              "952376  s3://fin-app/stockprice_candlechart/DAILY_WIND...  ...  train_candlechart_data/data/train/9997/2014-03...\n",
              "\n",
              "[60000 rows x 7 columns]"
            ]
          },
          "metadata": {
            "tags": []
          },
          "execution_count": 42
        }
      ]
    },
    {
      "cell_type": "code",
      "metadata": {
        "id": "7qXxH3pKLenS",
        "colab_type": "code",
        "colab": {
          "base_uri": "https://localhost:8080/",
          "height": 589
        },
        "outputId": "bb4dae0a-4d34-4cd7-cfc7-f19b1d272a01"
      },
      "source": [
        "df_meta_localtest_merged"
      ],
      "execution_count": 43,
      "outputs": [
        {
          "output_type": "execute_result",
          "data": {
            "text/html": [
              "<div>\n",
              "<style scoped>\n",
              "    .dataframe tbody tr th:only-of-type {\n",
              "        vertical-align: middle;\n",
              "    }\n",
              "\n",
              "    .dataframe tbody tr th {\n",
              "        vertical-align: top;\n",
              "    }\n",
              "\n",
              "    .dataframe thead th {\n",
              "        text-align: right;\n",
              "    }\n",
              "</style>\n",
              "<table border=\"1\" class=\"dataframe\">\n",
              "  <thead>\n",
              "    <tr style=\"text-align: right;\">\n",
              "      <th></th>\n",
              "      <th>s3_filepath</th>\n",
              "      <th>code</th>\n",
              "      <th>start_dt</th>\n",
              "      <th>end_dt</th>\n",
              "      <th>change_rate_30d</th>\n",
              "      <th>change_rate_30d_label</th>\n",
              "      <th>localpath</th>\n",
              "    </tr>\n",
              "  </thead>\n",
              "  <tbody>\n",
              "    <tr>\n",
              "      <th>397</th>\n",
              "      <td>s3://fin-app/stockprice_candlechart/DAILY_WIND...</td>\n",
              "      <td>1301</td>\n",
              "      <td>2015-08-14</td>\n",
              "      <td>2015-12-12</td>\n",
              "      <td>0.017222</td>\n",
              "      <td>1</td>\n",
              "      <td>test_candlechart_data/data/test/1301/2015-08-1...</td>\n",
              "    </tr>\n",
              "    <tr>\n",
              "      <th>403</th>\n",
              "      <td>s3://fin-app/stockprice_candlechart/DAILY_WIND...</td>\n",
              "      <td>1301</td>\n",
              "      <td>2016-02-10</td>\n",
              "      <td>2016-06-09</td>\n",
              "      <td>-0.025053</td>\n",
              "      <td>1</td>\n",
              "      <td>test_candlechart_data/data/test/1301/2016-02-1...</td>\n",
              "    </tr>\n",
              "    <tr>\n",
              "      <th>405</th>\n",
              "      <td>s3://fin-app/stockprice_candlechart/DAILY_WIND...</td>\n",
              "      <td>1301</td>\n",
              "      <td>2016-04-10</td>\n",
              "      <td>2016-08-08</td>\n",
              "      <td>-0.009228</td>\n",
              "      <td>1</td>\n",
              "      <td>test_candlechart_data/data/test/1301/2016-04-1...</td>\n",
              "    </tr>\n",
              "    <tr>\n",
              "      <th>410</th>\n",
              "      <td>s3://fin-app/stockprice_candlechart/DAILY_WIND...</td>\n",
              "      <td>1301</td>\n",
              "      <td>2016-10-07</td>\n",
              "      <td>2017-02-04</td>\n",
              "      <td>0.056863</td>\n",
              "      <td>2</td>\n",
              "      <td>test_candlechart_data/data/test/1301/2016-10-0...</td>\n",
              "    </tr>\n",
              "    <tr>\n",
              "      <th>412</th>\n",
              "      <td>s3://fin-app/stockprice_candlechart/DAILY_WIND...</td>\n",
              "      <td>1301</td>\n",
              "      <td>2016-12-06</td>\n",
              "      <td>2017-04-05</td>\n",
              "      <td>-0.030983</td>\n",
              "      <td>0</td>\n",
              "      <td>test_candlechart_data/data/test/1301/2016-12-0...</td>\n",
              "    </tr>\n",
              "    <tr>\n",
              "      <th>...</th>\n",
              "      <td>...</td>\n",
              "      <td>...</td>\n",
              "      <td>...</td>\n",
              "      <td>...</td>\n",
              "      <td>...</td>\n",
              "      <td>...</td>\n",
              "      <td>...</td>\n",
              "    </tr>\n",
              "    <tr>\n",
              "      <th>952424</th>\n",
              "      <td>s3://fin-app/stockprice_candlechart/DAILY_WIND...</td>\n",
              "      <td>9997</td>\n",
              "      <td>2018-03-02</td>\n",
              "      <td>2018-06-30</td>\n",
              "      <td>-0.038654</td>\n",
              "      <td>0</td>\n",
              "      <td>test_candlechart_data/data/test/9997/2018-03-0...</td>\n",
              "    </tr>\n",
              "    <tr>\n",
              "      <th>952425</th>\n",
              "      <td>s3://fin-app/stockprice_candlechart/DAILY_WIND...</td>\n",
              "      <td>9997</td>\n",
              "      <td>2018-04-01</td>\n",
              "      <td>2018-07-30</td>\n",
              "      <td>-0.092556</td>\n",
              "      <td>0</td>\n",
              "      <td>test_candlechart_data/data/test/9997/2018-04-0...</td>\n",
              "    </tr>\n",
              "    <tr>\n",
              "      <th>952435</th>\n",
              "      <td>s3://fin-app/stockprice_candlechart/DAILY_WIND...</td>\n",
              "      <td>9997</td>\n",
              "      <td>2019-01-26</td>\n",
              "      <td>2019-05-26</td>\n",
              "      <td>-0.066607</td>\n",
              "      <td>0</td>\n",
              "      <td>test_candlechart_data/data/test/9997/2019-01-2...</td>\n",
              "    </tr>\n",
              "    <tr>\n",
              "      <th>952437</th>\n",
              "      <td>s3://fin-app/stockprice_candlechart/DAILY_WIND...</td>\n",
              "      <td>9997</td>\n",
              "      <td>2019-03-27</td>\n",
              "      <td>2019-07-25</td>\n",
              "      <td>-0.085521</td>\n",
              "      <td>0</td>\n",
              "      <td>test_candlechart_data/data/test/9997/2019-03-2...</td>\n",
              "    </tr>\n",
              "    <tr>\n",
              "      <th>952440</th>\n",
              "      <td>s3://fin-app/stockprice_candlechart/DAILY_WIND...</td>\n",
              "      <td>9997</td>\n",
              "      <td>2019-06-25</td>\n",
              "      <td>2019-10-23</td>\n",
              "      <td>0.053339</td>\n",
              "      <td>2</td>\n",
              "      <td>test_candlechart_data/data/test/9997/2019-06-2...</td>\n",
              "    </tr>\n",
              "  </tbody>\n",
              "</table>\n",
              "<p>60000 rows × 7 columns</p>\n",
              "</div>"
            ],
            "text/plain": [
              "                                              s3_filepath  ...                                          localpath\n",
              "397     s3://fin-app/stockprice_candlechart/DAILY_WIND...  ...  test_candlechart_data/data/test/1301/2015-08-1...\n",
              "403     s3://fin-app/stockprice_candlechart/DAILY_WIND...  ...  test_candlechart_data/data/test/1301/2016-02-1...\n",
              "405     s3://fin-app/stockprice_candlechart/DAILY_WIND...  ...  test_candlechart_data/data/test/1301/2016-04-1...\n",
              "410     s3://fin-app/stockprice_candlechart/DAILY_WIND...  ...  test_candlechart_data/data/test/1301/2016-10-0...\n",
              "412     s3://fin-app/stockprice_candlechart/DAILY_WIND...  ...  test_candlechart_data/data/test/1301/2016-12-0...\n",
              "...                                                   ...  ...                                                ...\n",
              "952424  s3://fin-app/stockprice_candlechart/DAILY_WIND...  ...  test_candlechart_data/data/test/9997/2018-03-0...\n",
              "952425  s3://fin-app/stockprice_candlechart/DAILY_WIND...  ...  test_candlechart_data/data/test/9997/2018-04-0...\n",
              "952435  s3://fin-app/stockprice_candlechart/DAILY_WIND...  ...  test_candlechart_data/data/test/9997/2019-01-2...\n",
              "952437  s3://fin-app/stockprice_candlechart/DAILY_WIND...  ...  test_candlechart_data/data/test/9997/2019-03-2...\n",
              "952440  s3://fin-app/stockprice_candlechart/DAILY_WIND...  ...  test_candlechart_data/data/test/9997/2019-06-2...\n",
              "\n",
              "[60000 rows x 7 columns]"
            ]
          },
          "metadata": {
            "tags": []
          },
          "execution_count": 43
        }
      ]
    },
    {
      "cell_type": "code",
      "metadata": {
        "id": "dr9LJeAZOE1N",
        "colab_type": "code",
        "colab": {
          "base_uri": "https://localhost:8080/",
          "height": 173
        },
        "outputId": "efceade0-e550-479f-ba97-6eef691d7115"
      },
      "source": [
        "df_meta_localtrain_merged.groupby('change_rate_30d_label').count()"
      ],
      "execution_count": 44,
      "outputs": [
        {
          "output_type": "execute_result",
          "data": {
            "text/html": [
              "<div>\n",
              "<style scoped>\n",
              "    .dataframe tbody tr th:only-of-type {\n",
              "        vertical-align: middle;\n",
              "    }\n",
              "\n",
              "    .dataframe tbody tr th {\n",
              "        vertical-align: top;\n",
              "    }\n",
              "\n",
              "    .dataframe thead th {\n",
              "        text-align: right;\n",
              "    }\n",
              "</style>\n",
              "<table border=\"1\" class=\"dataframe\">\n",
              "  <thead>\n",
              "    <tr style=\"text-align: right;\">\n",
              "      <th></th>\n",
              "      <th>s3_filepath</th>\n",
              "      <th>code</th>\n",
              "      <th>start_dt</th>\n",
              "      <th>end_dt</th>\n",
              "      <th>change_rate_30d</th>\n",
              "      <th>localpath</th>\n",
              "    </tr>\n",
              "    <tr>\n",
              "      <th>change_rate_30d_label</th>\n",
              "      <th></th>\n",
              "      <th></th>\n",
              "      <th></th>\n",
              "      <th></th>\n",
              "      <th></th>\n",
              "      <th></th>\n",
              "    </tr>\n",
              "  </thead>\n",
              "  <tbody>\n",
              "    <tr>\n",
              "      <th>0</th>\n",
              "      <td>20000</td>\n",
              "      <td>20000</td>\n",
              "      <td>20000</td>\n",
              "      <td>20000</td>\n",
              "      <td>20000</td>\n",
              "      <td>20000</td>\n",
              "    </tr>\n",
              "    <tr>\n",
              "      <th>1</th>\n",
              "      <td>20000</td>\n",
              "      <td>20000</td>\n",
              "      <td>20000</td>\n",
              "      <td>20000</td>\n",
              "      <td>20000</td>\n",
              "      <td>20000</td>\n",
              "    </tr>\n",
              "    <tr>\n",
              "      <th>2</th>\n",
              "      <td>20000</td>\n",
              "      <td>20000</td>\n",
              "      <td>20000</td>\n",
              "      <td>20000</td>\n",
              "      <td>20000</td>\n",
              "      <td>20000</td>\n",
              "    </tr>\n",
              "  </tbody>\n",
              "</table>\n",
              "</div>"
            ],
            "text/plain": [
              "                       s3_filepath   code  ...  change_rate_30d  localpath\n",
              "change_rate_30d_label                      ...                            \n",
              "0                            20000  20000  ...            20000      20000\n",
              "1                            20000  20000  ...            20000      20000\n",
              "2                            20000  20000  ...            20000      20000\n",
              "\n",
              "[3 rows x 6 columns]"
            ]
          },
          "metadata": {
            "tags": []
          },
          "execution_count": 44
        }
      ]
    },
    {
      "cell_type": "code",
      "metadata": {
        "id": "lZYvvQx0OKrW",
        "colab_type": "code",
        "colab": {
          "base_uri": "https://localhost:8080/",
          "height": 173
        },
        "outputId": "7d53a05c-c598-48e7-b0d4-ae13f3e581f9"
      },
      "source": [
        "df_meta_localtest_merged.groupby('change_rate_30d_label').count()"
      ],
      "execution_count": 45,
      "outputs": [
        {
          "output_type": "execute_result",
          "data": {
            "text/html": [
              "<div>\n",
              "<style scoped>\n",
              "    .dataframe tbody tr th:only-of-type {\n",
              "        vertical-align: middle;\n",
              "    }\n",
              "\n",
              "    .dataframe tbody tr th {\n",
              "        vertical-align: top;\n",
              "    }\n",
              "\n",
              "    .dataframe thead th {\n",
              "        text-align: right;\n",
              "    }\n",
              "</style>\n",
              "<table border=\"1\" class=\"dataframe\">\n",
              "  <thead>\n",
              "    <tr style=\"text-align: right;\">\n",
              "      <th></th>\n",
              "      <th>s3_filepath</th>\n",
              "      <th>code</th>\n",
              "      <th>start_dt</th>\n",
              "      <th>end_dt</th>\n",
              "      <th>change_rate_30d</th>\n",
              "      <th>localpath</th>\n",
              "    </tr>\n",
              "    <tr>\n",
              "      <th>change_rate_30d_label</th>\n",
              "      <th></th>\n",
              "      <th></th>\n",
              "      <th></th>\n",
              "      <th></th>\n",
              "      <th></th>\n",
              "      <th></th>\n",
              "    </tr>\n",
              "  </thead>\n",
              "  <tbody>\n",
              "    <tr>\n",
              "      <th>0</th>\n",
              "      <td>20000</td>\n",
              "      <td>20000</td>\n",
              "      <td>20000</td>\n",
              "      <td>20000</td>\n",
              "      <td>20000</td>\n",
              "      <td>20000</td>\n",
              "    </tr>\n",
              "    <tr>\n",
              "      <th>1</th>\n",
              "      <td>20000</td>\n",
              "      <td>20000</td>\n",
              "      <td>20000</td>\n",
              "      <td>20000</td>\n",
              "      <td>20000</td>\n",
              "      <td>20000</td>\n",
              "    </tr>\n",
              "    <tr>\n",
              "      <th>2</th>\n",
              "      <td>20000</td>\n",
              "      <td>20000</td>\n",
              "      <td>20000</td>\n",
              "      <td>20000</td>\n",
              "      <td>20000</td>\n",
              "      <td>20000</td>\n",
              "    </tr>\n",
              "  </tbody>\n",
              "</table>\n",
              "</div>"
            ],
            "text/plain": [
              "                       s3_filepath   code  ...  change_rate_30d  localpath\n",
              "change_rate_30d_label                      ...                            \n",
              "0                            20000  20000  ...            20000      20000\n",
              "1                            20000  20000  ...            20000      20000\n",
              "2                            20000  20000  ...            20000      20000\n",
              "\n",
              "[3 rows x 6 columns]"
            ]
          },
          "metadata": {
            "tags": []
          },
          "execution_count": 45
        }
      ]
    },
    {
      "cell_type": "code",
      "metadata": {
        "id": "jHHuDXi8Lfza",
        "colab_type": "code",
        "colab": {}
      },
      "source": [
        ""
      ],
      "execution_count": 0,
      "outputs": []
    },
    {
      "cell_type": "code",
      "metadata": {
        "id": "k3mtf_-vLs9n",
        "colab_type": "code",
        "colab": {}
      },
      "source": [
        "import torch\n",
        "import torch.nn as nn\n",
        "import torch.utils.data as data\n",
        "from torchvision import models, transforms"
      ],
      "execution_count": 0,
      "outputs": []
    },
    {
      "cell_type": "code",
      "metadata": {
        "id": "8o5Wi4bOLh2y",
        "colab_type": "code",
        "colab": {}
      },
      "source": [
        "class CandleDataset(data.Dataset):\n",
        "\n",
        "    def __init__(self, files, labels, transform):\n",
        "        self._files = files\n",
        "        self._labels = labels\n",
        "        self._transform = transform\n",
        "\n",
        "    def __len__(self):\n",
        "        return len(self._files)\n",
        "\n",
        "    def __getitem__(self, index):\n",
        "\n",
        "        img = Image.open(self._files[index]).convert(\"RGB\")\n",
        "\n",
        "        img_transformed = self._transform(img)\n",
        "\n",
        "        return img_transformed, self._labels[index]"
      ],
      "execution_count": 0,
      "outputs": []
    },
    {
      "cell_type": "code",
      "metadata": {
        "id": "HM5L7DOHMsoU",
        "colab_type": "code",
        "colab": {}
      },
      "source": [
        "train_transform = test_transform = transforms.Compose([\n",
        "    transforms.Resize((224, 224)),\n",
        "    transforms.ToTensor(),\n",
        "    # transforms.Normalize((0.485, 0.456, 0.406), (0.229, 0.224, 0.225))\n",
        "])"
      ],
      "execution_count": 0,
      "outputs": []
    },
    {
      "cell_type": "code",
      "metadata": {
        "id": "46tocWfNNk76",
        "colab_type": "code",
        "colab": {}
      },
      "source": [
        "train_candle_dataset = CandleDataset(\n",
        "    list(df_meta_localtrain_merged['localpath']),\n",
        "    list(df_meta_localtrain_merged['change_rate_30d_label']),\n",
        "    train_transform\n",
        ")\n",
        "test_candle_dataset = CandleDataset(\n",
        "    list(df_meta_localtest_merged['localpath']),\n",
        "    list(df_meta_localtest_merged['change_rate_30d_label']),\n",
        "    test_transform\n",
        ")"
      ],
      "execution_count": 0,
      "outputs": []
    },
    {
      "cell_type": "code",
      "metadata": {
        "id": "-d3CNrMBOY7U",
        "colab_type": "code",
        "colab": {}
      },
      "source": [
        "batch_size = 64\n",
        "\n",
        "train_dataloader = torch.utils.data.DataLoader(\n",
        "    train_candle_dataset,\n",
        "    batch_size,\n",
        "    shuffle=True\n",
        ")\n",
        "test_dataloader = torch.utils.data.DataLoader(\n",
        "    test_candle_dataset,\n",
        "    batch_size,\n",
        "    shuffle=False\n",
        ")"
      ],
      "execution_count": 0,
      "outputs": []
    },
    {
      "cell_type": "code",
      "metadata": {
        "id": "r-eowam4PTaS",
        "colab_type": "code",
        "colab": {}
      },
      "source": [
        "batch = next(iter(train_dataloader))"
      ],
      "execution_count": 0,
      "outputs": []
    },
    {
      "cell_type": "code",
      "metadata": {
        "id": "Kyv97tz7RDly",
        "colab_type": "code",
        "colab": {
          "base_uri": "https://localhost:8080/",
          "height": 773
        },
        "outputId": "6c90c808-0182-4509-967e-6431aef35a56"
      },
      "source": [
        "for i in range(3):\n",
        "    plt.imshow(batch[0][i].permute(1, 2, 0))\n",
        "    plt.show()"
      ],
      "execution_count": 123,
      "outputs": [
        {
          "output_type": "display_data",
          "data": {
            "image/png": "[encoded data removed]",
            "text/plain": [
              "<Figure size 432x288 with 1 Axes>"
            ]
          },
          "metadata": {
            "tags": []
          }
        },
        {
          "output_type": "display_data",
          "data": {
            "image/png": "[encoded data removed]",
            "text/plain": [
              "<Figure size 432x288 with 1 Axes>"
            ]
          },
          "metadata": {
            "tags": []
          }
        },
        {
          "output_type": "display_data",
          "data": {
            "image/png": "[encoded data removed]",
            "text/plain": [
              "<Figure size 432x288 with 1 Axes>"
            ]
          },
          "metadata": {
            "tags": []
          }
        }
      ]
    },
    {
      "cell_type": "code",
      "metadata": {
        "id": "CaoQwCrDO2k6",
        "colab_type": "code",
        "colab": {}
      },
      "source": [
        "vgg_net = models.vgg16(pretrained=True)"
      ],
      "execution_count": 0,
      "outputs": []
    },
    {
      "cell_type": "code",
      "metadata": {
        "id": "btXEiQdoPEU5",
        "colab_type": "code",
        "colab": {
          "base_uri": "https://localhost:8080/",
          "height": 782
        },
        "outputId": "01cf0d8b-ad05-4eaf-eab3-90e083e271c3"
      },
      "source": [
        "vgg_net"
      ],
      "execution_count": 72,
      "outputs": [
        {
          "output_type": "execute_result",
          "data": {
            "text/plain": [
              "VGG(\n",
              "  (features): Sequential(\n",
              "    (0): Conv2d(3, 64, kernel_size=(3, 3), stride=(1, 1), padding=(1, 1))\n",
              "    (1): ReLU(inplace=True)\n",
              "    (2): Conv2d(64, 64, kernel_size=(3, 3), stride=(1, 1), padding=(1, 1))\n",
              "    (3): ReLU(inplace=True)\n",
              "    (4): MaxPool2d(kernel_size=2, stride=2, padding=0, dilation=1, ceil_mode=False)\n",
              "    (5): Conv2d(64, 128, kernel_size=(3, 3), stride=(1, 1), padding=(1, 1))\n",
              "    (6): ReLU(inplace=True)\n",
              "    (7): Conv2d(128, 128, kernel_size=(3, 3), stride=(1, 1), padding=(1, 1))\n",
              "    (8): ReLU(inplace=True)\n",
              "    (9): MaxPool2d(kernel_size=2, stride=2, padding=0, dilation=1, ceil_mode=False)\n",
              "    (10): Conv2d(128, 256, kernel_size=(3, 3), stride=(1, 1), padding=(1, 1))\n",
              "    (11): ReLU(inplace=True)\n",
              "    (12): Conv2d(256, 256, kernel_size=(3, 3), stride=(1, 1), padding=(1, 1))\n",
              "    (13): ReLU(inplace=True)\n",
              "    (14): Conv2d(256, 256, kernel_size=(3, 3), stride=(1, 1), padding=(1, 1))\n",
              "    (15): ReLU(inplace=True)\n",
              "    (16): MaxPool2d(kernel_size=2, stride=2, padding=0, dilation=1, ceil_mode=False)\n",
              "    (17): Conv2d(256, 512, kernel_size=(3, 3), stride=(1, 1), padding=(1, 1))\n",
              "    (18): ReLU(inplace=True)\n",
              "    (19): Conv2d(512, 512, kernel_size=(3, 3), stride=(1, 1), padding=(1, 1))\n",
              "    (20): ReLU(inplace=True)\n",
              "    (21): Conv2d(512, 512, kernel_size=(3, 3), stride=(1, 1), padding=(1, 1))\n",
              "    (22): ReLU(inplace=True)\n",
              "    (23): MaxPool2d(kernel_size=2, stride=2, padding=0, dilation=1, ceil_mode=False)\n",
              "    (24): Conv2d(512, 512, kernel_size=(3, 3), stride=(1, 1), padding=(1, 1))\n",
              "    (25): ReLU(inplace=True)\n",
              "    (26): Conv2d(512, 512, kernel_size=(3, 3), stride=(1, 1), padding=(1, 1))\n",
              "    (27): ReLU(inplace=True)\n",
              "    (28): Conv2d(512, 512, kernel_size=(3, 3), stride=(1, 1), padding=(1, 1))\n",
              "    (29): ReLU(inplace=True)\n",
              "    (30): MaxPool2d(kernel_size=2, stride=2, padding=0, dilation=1, ceil_mode=False)\n",
              "  )\n",
              "  (avgpool): AdaptiveAvgPool2d(output_size=(7, 7))\n",
              "  (classifier): Sequential(\n",
              "    (0): Linear(in_features=25088, out_features=4096, bias=True)\n",
              "    (1): ReLU(inplace=True)\n",
              "    (2): Dropout(p=0.5, inplace=False)\n",
              "    (3): Linear(in_features=4096, out_features=4096, bias=True)\n",
              "    (4): ReLU(inplace=True)\n",
              "    (5): Dropout(p=0.5, inplace=False)\n",
              "    (6): Linear(in_features=4096, out_features=1000, bias=True)\n",
              "  )\n",
              ")"
            ]
          },
          "metadata": {
            "tags": []
          },
          "execution_count": 72
        }
      ]
    },
    {
      "cell_type": "code",
      "metadata": {
        "id": "aAAYPNF5R8nY",
        "colab_type": "code",
        "colab": {}
      },
      "source": [
        "vgg_net.classifier[6] = nn.Linear(in_features=4096, out_features=3)"
      ],
      "execution_count": 0,
      "outputs": []
    },
    {
      "cell_type": "code",
      "metadata": {
        "id": "q3VzhzSKSPEw",
        "colab_type": "code",
        "colab": {
          "base_uri": "https://localhost:8080/",
          "height": 561
        },
        "outputId": "70652752-f946-4db1-cbd7-214db5641750"
      },
      "source": [
        "for name, param in vgg_net.named_parameters():\n",
        "    print(f'{name} : {param.requires_grad}')"
      ],
      "execution_count": 74,
      "outputs": [
        {
          "output_type": "stream",
          "text": [
            "features.0.weight : True\n",
            "features.0.bias : True\n",
            "features.2.weight : True\n",
            "features.2.bias : True\n",
            "features.5.weight : True\n",
            "features.5.bias : True\n",
            "features.7.weight : True\n",
            "features.7.bias : True\n",
            "features.10.weight : True\n",
            "features.10.bias : True\n",
            "features.12.weight : True\n",
            "features.12.bias : True\n",
            "features.14.weight : True\n",
            "features.14.bias : True\n",
            "features.17.weight : True\n",
            "features.17.bias : True\n",
            "features.19.weight : True\n",
            "features.19.bias : True\n",
            "features.21.weight : True\n",
            "features.21.bias : True\n",
            "features.24.weight : True\n",
            "features.24.bias : True\n",
            "features.26.weight : True\n",
            "features.26.bias : True\n",
            "features.28.weight : True\n",
            "features.28.bias : True\n",
            "classifier.0.weight : True\n",
            "classifier.0.bias : True\n",
            "classifier.3.weight : True\n",
            "classifier.3.bias : True\n",
            "classifier.6.weight : True\n",
            "classifier.6.bias : True\n"
          ],
          "name": "stdout"
        }
      ]
    },
    {
      "cell_type": "code",
      "metadata": {
        "id": "MrdksXNxSYpw",
        "colab_type": "code",
        "colab": {}
      },
      "source": [
        "for name, param in vgg_net.named_parameters():\n",
        "    if 'classifier' in name:\n",
        "        param.requires_grad = True\n",
        "    else:\n",
        "        param.requires_grad = False"
      ],
      "execution_count": 0,
      "outputs": []
    },
    {
      "cell_type": "code",
      "metadata": {
        "id": "O18pK-M5SxkR",
        "colab_type": "code",
        "colab": {
          "base_uri": "https://localhost:8080/",
          "height": 561
        },
        "outputId": "f87e676c-d6a2-4248-9998-cb7c3d6d8379"
      },
      "source": [
        "for name, param in vgg_net.named_parameters():\n",
        "    print(f'{name} : {param.requires_grad}')"
      ],
      "execution_count": 76,
      "outputs": [
        {
          "output_type": "stream",
          "text": [
            "features.0.weight : False\n",
            "features.0.bias : False\n",
            "features.2.weight : False\n",
            "features.2.bias : False\n",
            "features.5.weight : False\n",
            "features.5.bias : False\n",
            "features.7.weight : False\n",
            "features.7.bias : False\n",
            "features.10.weight : False\n",
            "features.10.bias : False\n",
            "features.12.weight : False\n",
            "features.12.bias : False\n",
            "features.14.weight : False\n",
            "features.14.bias : False\n",
            "features.17.weight : False\n",
            "features.17.bias : False\n",
            "features.19.weight : False\n",
            "features.19.bias : False\n",
            "features.21.weight : False\n",
            "features.21.bias : False\n",
            "features.24.weight : False\n",
            "features.24.bias : False\n",
            "features.26.weight : False\n",
            "features.26.bias : False\n",
            "features.28.weight : False\n",
            "features.28.bias : False\n",
            "classifier.0.weight : True\n",
            "classifier.0.bias : True\n",
            "classifier.3.weight : True\n",
            "classifier.3.bias : True\n",
            "classifier.6.weight : True\n",
            "classifier.6.bias : True\n"
          ],
          "name": "stdout"
        }
      ]
    },
    {
      "cell_type": "code",
      "metadata": {
        "id": "kFgzEFp6T5sC",
        "colab_type": "code",
        "colab": {
          "base_uri": "https://localhost:8080/",
          "height": 119
        },
        "outputId": "97a110fe-9de9-45dd-e75e-9ecdca4c7992"
      },
      "source": [
        "[name for name, param in vgg_net.named_parameters() if param.requires_grad]"
      ],
      "execution_count": 77,
      "outputs": [
        {
          "output_type": "execute_result",
          "data": {
            "text/plain": [
              "['classifier.0.weight',\n",
              " 'classifier.0.bias',\n",
              " 'classifier.3.weight',\n",
              " 'classifier.3.bias',\n",
              " 'classifier.6.weight',\n",
              " 'classifier.6.bias']"
            ]
          },
          "metadata": {
            "tags": []
          },
          "execution_count": 77
        }
      ]
    },
    {
      "cell_type": "code",
      "metadata": {
        "id": "himXcokrS93_",
        "colab_type": "code",
        "colab": {}
      },
      "source": [
        "n_epochs = 10\n",
        "\n",
        "criterion = nn.CrossEntropyLoss()\n",
        "optimizer = torch.optim.Adam(\n",
        "    [param for name, param in vgg_net.named_parameters() if param.requires_grad],\n",
        "    lr=0.01\n",
        ")"
      ],
      "execution_count": 0,
      "outputs": []
    },
    {
      "cell_type": "code",
      "metadata": {
        "id": "aNPYgROmWW9C",
        "colab_type": "code",
        "colab": {
          "base_uri": "https://localhost:8080/",
          "height": 782
        },
        "outputId": "a6a7bf78-66e6-4d3f-f653-276f82607828"
      },
      "source": [
        "vgg_net.cuda()"
      ],
      "execution_count": 79,
      "outputs": [
        {
          "output_type": "execute_result",
          "data": {
            "text/plain": [
              "VGG(\n",
              "  (features): Sequential(\n",
              "    (0): Conv2d(3, 64, kernel_size=(3, 3), stride=(1, 1), padding=(1, 1))\n",
              "    (1): ReLU(inplace=True)\n",
              "    (2): Conv2d(64, 64, kernel_size=(3, 3), stride=(1, 1), padding=(1, 1))\n",
              "    (3): ReLU(inplace=True)\n",
              "    (4): MaxPool2d(kernel_size=2, stride=2, padding=0, dilation=1, ceil_mode=False)\n",
              "    (5): Conv2d(64, 128, kernel_size=(3, 3), stride=(1, 1), padding=(1, 1))\n",
              "    (6): ReLU(inplace=True)\n",
              "    (7): Conv2d(128, 128, kernel_size=(3, 3), stride=(1, 1), padding=(1, 1))\n",
              "    (8): ReLU(inplace=True)\n",
              "    (9): MaxPool2d(kernel_size=2, stride=2, padding=0, dilation=1, ceil_mode=False)\n",
              "    (10): Conv2d(128, 256, kernel_size=(3, 3), stride=(1, 1), padding=(1, 1))\n",
              "    (11): ReLU(inplace=True)\n",
              "    (12): Conv2d(256, 256, kernel_size=(3, 3), stride=(1, 1), padding=(1, 1))\n",
              "    (13): ReLU(inplace=True)\n",
              "    (14): Conv2d(256, 256, kernel_size=(3, 3), stride=(1, 1), padding=(1, 1))\n",
              "    (15): ReLU(inplace=True)\n",
              "    (16): MaxPool2d(kernel_size=2, stride=2, padding=0, dilation=1, ceil_mode=False)\n",
              "    (17): Conv2d(256, 512, kernel_size=(3, 3), stride=(1, 1), padding=(1, 1))\n",
              "    (18): ReLU(inplace=True)\n",
              "    (19): Conv2d(512, 512, kernel_size=(3, 3), stride=(1, 1), padding=(1, 1))\n",
              "    (20): ReLU(inplace=True)\n",
              "    (21): Conv2d(512, 512, kernel_size=(3, 3), stride=(1, 1), padding=(1, 1))\n",
              "    (22): ReLU(inplace=True)\n",
              "    (23): MaxPool2d(kernel_size=2, stride=2, padding=0, dilation=1, ceil_mode=False)\n",
              "    (24): Conv2d(512, 512, kernel_size=(3, 3), stride=(1, 1), padding=(1, 1))\n",
              "    (25): ReLU(inplace=True)\n",
              "    (26): Conv2d(512, 512, kernel_size=(3, 3), stride=(1, 1), padding=(1, 1))\n",
              "    (27): ReLU(inplace=True)\n",
              "    (28): Conv2d(512, 512, kernel_size=(3, 3), stride=(1, 1), padding=(1, 1))\n",
              "    (29): ReLU(inplace=True)\n",
              "    (30): MaxPool2d(kernel_size=2, stride=2, padding=0, dilation=1, ceil_mode=False)\n",
              "  )\n",
              "  (avgpool): AdaptiveAvgPool2d(output_size=(7, 7))\n",
              "  (classifier): Sequential(\n",
              "    (0): Linear(in_features=25088, out_features=4096, bias=True)\n",
              "    (1): ReLU(inplace=True)\n",
              "    (2): Dropout(p=0.5, inplace=False)\n",
              "    (3): Linear(in_features=4096, out_features=4096, bias=True)\n",
              "    (4): ReLU(inplace=True)\n",
              "    (5): Dropout(p=0.5, inplace=False)\n",
              "    (6): Linear(in_features=4096, out_features=3, bias=True)\n",
              "  )\n",
              ")"
            ]
          },
          "metadata": {
            "tags": []
          },
          "execution_count": 79
        }
      ]
    },
    {
      "cell_type": "code",
      "metadata": {
        "id": "L6mUjTvYUAKV",
        "colab_type": "code",
        "colab": {
          "base_uri": "https://localhost:8080/",
          "height": 747
        },
        "outputId": "fe2a0d4b-1b3c-402c-c538-e8af1a08011b"
      },
      "source": [
        "vgg_net.train()\n",
        "\n",
        "for n in pb(range(n_epochs)):\n",
        "    print(f'epoch : {n}')\n",
        "    epoch_loss = 0.0\n",
        "    correct_n = 0\n",
        "\n",
        "    for images, labels in pb(train_dataloader):\n",
        "\n",
        "        optimizer.zero_grad()\n",
        "\n",
        "        pred_scores = vgg_net(images.to('cuda'))\n",
        "        loss = criterion(pred_scores, labels.to('cuda'))\n",
        "\n",
        "        loss.backward()\n",
        "        optimizer.step()\n",
        "\n",
        "        epoch_loss += loss.item() * images.size(0)\n",
        "        correct_n += torch.sum(torch.argmax(pred_scores, axis=1) == labels.data.to('cuda'))\n",
        "\n",
        "    epoch_loss /= len(train_dataloader.dataset)\n",
        "    acc = correct_n.double() / len(train_dataloader.dataset)\n",
        "\n",
        "    print(f'loss : {epoch_loss}')\n",
        "    print(f'acc : {acc}')"
      ],
      "execution_count": 80,
      "outputs": [
        {
          "output_type": "display_data",
          "data": {
            "text/html": [
              "\n",
              "    <div>\n",
              "        <style>\n",
              "            /* Turns off some styling */\n",
              "            progress {\n",
              "                /* gets rid of default border in Firefox and Opera. */\n",
              "                border: none;\n",
              "                /* Needs to be in here for Safari polyfill so background images work as expected. */\n",
              "                background-size: auto;\n",
              "            }\n",
              "            .progress-bar-interrupted, .progress-bar-interrupted::-webkit-progress-bar {\n",
              "                background: #F44336;\n",
              "            }\n",
              "        </style>\n",
              "      <progress value='10' class='' max='10', style='width:300px; height:20px; vertical-align: middle;'></progress>\n",
              "      100.00% [10/10 1:52:35<00:00]\n",
              "    </div>\n",
              "    "
            ],
            "text/plain": [
              "<IPython.core.display.HTML object>"
            ]
          },
          "metadata": {
            "tags": []
          }
        },
        {
          "output_type": "stream",
          "text": [
            "epoch : 0\n"
          ],
          "name": "stdout"
        },
        {
          "output_type": "display_data",
          "data": {
            "text/html": [
              "\n",
              "    <div>\n",
              "        <style>\n",
              "            /* Turns off some styling */\n",
              "            progress {\n",
              "                /* gets rid of default border in Firefox and Opera. */\n",
              "                border: none;\n",
              "                /* Needs to be in here for Safari polyfill so background images work as expected. */\n",
              "                background-size: auto;\n",
              "            }\n",
              "            .progress-bar-interrupted, .progress-bar-interrupted::-webkit-progress-bar {\n",
              "                background: #F44336;\n",
              "            }\n",
              "        </style>\n",
              "      <progress value='938' class='' max='938', style='width:300px; height:20px; vertical-align: middle;'></progress>\n",
              "      100.00% [938/938 11:14<00:00]\n",
              "    </div>\n",
              "    "
            ],
            "text/plain": [
              "<IPython.core.display.HTML object>"
            ]
          },
          "metadata": {
            "tags": []
          }
        },
        {
          "output_type": "stream",
          "text": [
            "loss : 3.2680313289642333\n",
            "acc : 0.33025000000000004\n",
            "epoch : 1\n"
          ],
          "name": "stdout"
        },
        {
          "output_type": "display_data",
          "data": {
            "text/html": [
              "\n",
              "    <div>\n",
              "        <style>\n",
              "            /* Turns off some styling */\n",
              "            progress {\n",
              "                /* gets rid of default border in Firefox and Opera. */\n",
              "                border: none;\n",
              "                /* Needs to be in here for Safari polyfill so background images work as expected. */\n",
              "                background-size: auto;\n",
              "            }\n",
              "            .progress-bar-interrupted, .progress-bar-interrupted::-webkit-progress-bar {\n",
              "                background: #F44336;\n",
              "            }\n",
              "        </style>\n",
              "      <progress value='938' class='' max='938', style='width:300px; height:20px; vertical-align: middle;'></progress>\n",
              "      100.00% [938/938 11:18<00:00]\n",
              "    </div>\n",
              "    "
            ],
            "text/plain": [
              "<IPython.core.display.HTML object>"
            ]
          },
          "metadata": {
            "tags": []
          }
        },
        {
          "output_type": "stream",
          "text": [
            "loss : 1.3474337646484376\n",
            "acc : 0.33458333333333334\n",
            "epoch : 2\n"
          ],
          "name": "stdout"
        },
        {
          "output_type": "display_data",
          "data": {
            "text/html": [
              "\n",
              "    <div>\n",
              "        <style>\n",
              "            /* Turns off some styling */\n",
              "            progress {\n",
              "                /* gets rid of default border in Firefox and Opera. */\n",
              "                border: none;\n",
              "                /* Needs to be in here for Safari polyfill so background images work as expected. */\n",
              "                background-size: auto;\n",
              "            }\n",
              "            .progress-bar-interrupted, .progress-bar-interrupted::-webkit-progress-bar {\n",
              "                background: #F44336;\n",
              "            }\n",
              "        </style>\n",
              "      <progress value='938' class='' max='938', style='width:300px; height:20px; vertical-align: middle;'></progress>\n",
              "      100.00% [938/938 11:16<00:00]\n",
              "    </div>\n",
              "    "
            ],
            "text/plain": [
              "<IPython.core.display.HTML object>"
            ]
          },
          "metadata": {
            "tags": []
          }
        },
        {
          "output_type": "stream",
          "text": [
            "loss : 1.2936675834655762\n",
            "acc : 0.3323666666666667\n",
            "epoch : 3\n"
          ],
          "name": "stdout"
        },
        {
          "output_type": "display_data",
          "data": {
            "text/html": [
              "\n",
              "    <div>\n",
              "        <style>\n",
              "            /* Turns off some styling */\n",
              "            progress {\n",
              "                /* gets rid of default border in Firefox and Opera. */\n",
              "                border: none;\n",
              "                /* Needs to be in here for Safari polyfill so background images work as expected. */\n",
              "                background-size: auto;\n",
              "            }\n",
              "            .progress-bar-interrupted, .progress-bar-interrupted::-webkit-progress-bar {\n",
              "                background: #F44336;\n",
              "            }\n",
              "        </style>\n",
              "      <progress value='938' class='' max='938', style='width:300px; height:20px; vertical-align: middle;'></progress>\n",
              "      100.00% [938/938 11:14<00:00]\n",
              "    </div>\n",
              "    "
            ],
            "text/plain": [
              "<IPython.core.display.HTML object>"
            ]
          },
          "metadata": {
            "tags": []
          }
        },
        {
          "output_type": "stream",
          "text": [
            "loss : 1.1406488881429035\n",
            "acc : 0.3355166666666667\n",
            "epoch : 4\n"
          ],
          "name": "stdout"
        },
        {
          "output_type": "display_data",
          "data": {
            "text/html": [
              "\n",
              "    <div>\n",
              "        <style>\n",
              "            /* Turns off some styling */\n",
              "            progress {\n",
              "                /* gets rid of default border in Firefox and Opera. */\n",
              "                border: none;\n",
              "                /* Needs to be in here for Safari polyfill so background images work as expected. */\n",
              "                background-size: auto;\n",
              "            }\n",
              "            .progress-bar-interrupted, .progress-bar-interrupted::-webkit-progress-bar {\n",
              "                background: #F44336;\n",
              "            }\n",
              "        </style>\n",
              "      <progress value='938' class='' max='938', style='width:300px; height:20px; vertical-align: middle;'></progress>\n",
              "      100.00% [938/938 11:14<00:00]\n",
              "    </div>\n",
              "    "
            ],
            "text/plain": [
              "<IPython.core.display.HTML object>"
            ]
          },
          "metadata": {
            "tags": []
          }
        },
        {
          "output_type": "stream",
          "text": [
            "loss : 1.1480970520655314\n",
            "acc : 0.33155\n",
            "epoch : 5\n"
          ],
          "name": "stdout"
        },
        {
          "output_type": "display_data",
          "data": {
            "text/html": [
              "\n",
              "    <div>\n",
              "        <style>\n",
              "            /* Turns off some styling */\n",
              "            progress {\n",
              "                /* gets rid of default border in Firefox and Opera. */\n",
              "                border: none;\n",
              "                /* Needs to be in here for Safari polyfill so background images work as expected. */\n",
              "                background-size: auto;\n",
              "            }\n",
              "            .progress-bar-interrupted, .progress-bar-interrupted::-webkit-progress-bar {\n",
              "                background: #F44336;\n",
              "            }\n",
              "        </style>\n",
              "      <progress value='938' class='' max='938', style='width:300px; height:20px; vertical-align: middle;'></progress>\n",
              "      100.00% [938/938 11:15<00:00]\n",
              "    </div>\n",
              "    "
            ],
            "text/plain": [
              "<IPython.core.display.HTML object>"
            ]
          },
          "metadata": {
            "tags": []
          }
        },
        {
          "output_type": "stream",
          "text": [
            "loss : 1.1724056058247885\n",
            "acc : 0.3348166666666667\n",
            "epoch : 6\n"
          ],
          "name": "stdout"
        },
        {
          "output_type": "display_data",
          "data": {
            "text/html": [
              "\n",
              "    <div>\n",
              "        <style>\n",
              "            /* Turns off some styling */\n",
              "            progress {\n",
              "                /* gets rid of default border in Firefox and Opera. */\n",
              "                border: none;\n",
              "                /* Needs to be in here for Safari polyfill so background images work as expected. */\n",
              "                background-size: auto;\n",
              "            }\n",
              "            .progress-bar-interrupted, .progress-bar-interrupted::-webkit-progress-bar {\n",
              "                background: #F44336;\n",
              "            }\n",
              "        </style>\n",
              "      <progress value='938' class='' max='938', style='width:300px; height:20px; vertical-align: middle;'></progress>\n",
              "      100.00% [938/938 11:15<00:00]\n",
              "    </div>\n",
              "    "
            ],
            "text/plain": [
              "<IPython.core.display.HTML object>"
            ]
          },
          "metadata": {
            "tags": []
          }
        },
        {
          "output_type": "stream",
          "text": [
            "loss : 1.1227486386617025\n",
            "acc : 0.3292833333333334\n",
            "epoch : 7\n"
          ],
          "name": "stdout"
        },
        {
          "output_type": "display_data",
          "data": {
            "text/html": [
              "\n",
              "    <div>\n",
              "        <style>\n",
              "            /* Turns off some styling */\n",
              "            progress {\n",
              "                /* gets rid of default border in Firefox and Opera. */\n",
              "                border: none;\n",
              "                /* Needs to be in here for Safari polyfill so background images work as expected. */\n",
              "                background-size: auto;\n",
              "            }\n",
              "            .progress-bar-interrupted, .progress-bar-interrupted::-webkit-progress-bar {\n",
              "                background: #F44336;\n",
              "            }\n",
              "        </style>\n",
              "      <progress value='938' class='' max='938', style='width:300px; height:20px; vertical-align: middle;'></progress>\n",
              "      100.00% [938/938 11:14<00:00]\n",
              "    </div>\n",
              "    "
            ],
            "text/plain": [
              "<IPython.core.display.HTML object>"
            ]
          },
          "metadata": {
            "tags": []
          }
        },
        {
          "output_type": "stream",
          "text": [
            "loss : 1.1031041263580321\n",
            "acc : 0.33468333333333333\n",
            "epoch : 8\n"
          ],
          "name": "stdout"
        },
        {
          "output_type": "display_data",
          "data": {
            "text/html": [
              "\n",
              "    <div>\n",
              "        <style>\n",
              "            /* Turns off some styling */\n",
              "            progress {\n",
              "                /* gets rid of default border in Firefox and Opera. */\n",
              "                border: none;\n",
              "                /* Needs to be in here for Safari polyfill so background images work as expected. */\n",
              "                background-size: auto;\n",
              "            }\n",
              "            .progress-bar-interrupted, .progress-bar-interrupted::-webkit-progress-bar {\n",
              "                background: #F44336;\n",
              "            }\n",
              "        </style>\n",
              "      <progress value='938' class='' max='938', style='width:300px; height:20px; vertical-align: middle;'></progress>\n",
              "      100.00% [938/938 11:16<00:00]\n",
              "    </div>\n",
              "    "
            ],
            "text/plain": [
              "<IPython.core.display.HTML object>"
            ]
          },
          "metadata": {
            "tags": []
          }
        },
        {
          "output_type": "stream",
          "text": [
            "loss : 1.1312879859288534\n",
            "acc : 0.3342\n",
            "epoch : 9\n"
          ],
          "name": "stdout"
        },
        {
          "output_type": "display_data",
          "data": {
            "text/html": [
              "\n",
              "    <div>\n",
              "        <style>\n",
              "            /* Turns off some styling */\n",
              "            progress {\n",
              "                /* gets rid of default border in Firefox and Opera. */\n",
              "                border: none;\n",
              "                /* Needs to be in here for Safari polyfill so background images work as expected. */\n",
              "                background-size: auto;\n",
              "            }\n",
              "            .progress-bar-interrupted, .progress-bar-interrupted::-webkit-progress-bar {\n",
              "                background: #F44336;\n",
              "            }\n",
              "        </style>\n",
              "      <progress value='938' class='' max='938', style='width:300px; height:20px; vertical-align: middle;'></progress>\n",
              "      100.00% [938/938 11:14<00:00]\n",
              "    </div>\n",
              "    "
            ],
            "text/plain": [
              "<IPython.core.display.HTML object>"
            ]
          },
          "metadata": {
            "tags": []
          }
        },
        {
          "output_type": "stream",
          "text": [
            "loss : 1.10116759668986\n",
            "acc : 0.33326666666666666\n"
          ],
          "name": "stdout"
        }
      ]
    },
    {
      "cell_type": "code",
      "metadata": {
        "id": "f4ImC3G6Xpxm",
        "colab_type": "code",
        "colab": {}
      },
      "source": [
        ""
      ],
      "execution_count": 0,
      "outputs": []
    }
  ]
}