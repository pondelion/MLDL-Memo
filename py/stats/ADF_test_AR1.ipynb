{
  "nbformat": 4,
  "nbformat_minor": 0,
  "metadata": {
    "colab": {
      "name": "ADF_test_AR1.ipynb",
      "provenance": []
    },
    "kernelspec": {
      "name": "python3",
      "display_name": "Python 3"
    }
  },
  "cells": [
    {
      "cell_type": "markdown",
      "metadata": {
        "id": "l8uIscEwdi2c",
        "colab_type": "text"
      },
      "source": [
        "ADF検定  \n",
        "帰無仮説 : 単位根過程である  \n",
        "対立仮説 : 単位根過程でない   "
      ]
    },
    {
      "cell_type": "code",
      "metadata": {
        "id": "E2bAWxl7cfBU",
        "colab_type": "code",
        "colab": {}
      },
      "source": [
        "import numpy as np\n",
        "from statsmodels.tsa import stattools as st\n",
        "import matplotlib.pyplot as plt"
      ],
      "execution_count": 0,
      "outputs": []
    },
    {
      "cell_type": "code",
      "metadata": {
        "id": "J1tvXOEAcwKT",
        "colab_type": "code",
        "colab": {}
      },
      "source": [
        "TIME_LEN = 1000"
      ],
      "execution_count": 0,
      "outputs": []
    },
    {
      "cell_type": "code",
      "metadata": {
        "id": "7goeaTTufZPt",
        "colab_type": "code",
        "colab": {}
      },
      "source": [
        ""
      ],
      "execution_count": 0,
      "outputs": []
    },
    {
      "cell_type": "code",
      "metadata": {
        "id": "auYbQkHNhIBF",
        "colab_type": "code",
        "colab": {}
      },
      "source": [
        "def test_result(p_val, sl=0.05):\n",
        "    return '帰無仮説(単位根過程)' if p_val > sl else '対立仮説(単位根過程でない)' "
      ],
      "execution_count": 0,
      "outputs": []
    },
    {
      "cell_type": "code",
      "metadata": {
        "id": "ovFRqYOyh3w3",
        "colab_type": "code",
        "colab": {}
      },
      "source": [
        ""
      ],
      "execution_count": 0,
      "outputs": []
    },
    {
      "cell_type": "code",
      "metadata": {
        "id": "1UgHPyFCjgIv",
        "colab_type": "code",
        "colab": {}
      },
      "source": [
        "ar_coeffs = np.arange(-1.4, 1.5, 0.05)  # [-1.3, -1.1, -1.0, -0.5, 0.0, 0.5, 1.0, 1.1, 1.3]"
      ],
      "execution_count": 0,
      "outputs": []
    },
    {
      "cell_type": "code",
      "metadata": {
        "id": "1rdgtbxAjf-U",
        "colab_type": "code",
        "colab": {
          "base_uri": "https://localhost:8080/",
          "height": 1000
        },
        "outputId": "f3d88b60-c74b-4e12-d80c-99b8ed2a126f"
      },
      "source": [
        "p_values = []\n",
        "\n",
        "for ar_coeff in ar_coeffs:\n",
        "    timeseries = [np.random.randn()]\n",
        "    for t in range(TIME_LEN):\n",
        "        timeseries.append(ar_coeff*timeseries[-1] + np.random.randn())\n",
        "\n",
        "    adf, pvalue, usedlag, nobs, critical_values, icbest = st.adfuller(np.array(timeseries))\n",
        "\n",
        "    print(f'回帰係数{ar_coeff} : {pvalue} : {test_result(pvalue, 0.05)}')\n",
        "    p_values.append(pvalue)"
      ],
      "execution_count": 5,
      "outputs": [
        {
          "output_type": "stream",
          "text": [
            "/usr/local/lib/python3.6/dist-packages/statsmodels/base/model.py:1294: RuntimeWarning: divide by zero encountered in true_divide\n",
            "  return self.params / self.bse\n"
          ],
          "name": "stderr"
        },
        {
          "output_type": "stream",
          "text": [
            "回帰係数-1.4 : 0.0 : 対立仮説(単位根過程でない)\n",
            "回帰係数-1.3499999999999999 : 0.0 : 対立仮説(単位根過程でない)\n",
            "回帰係数-1.2999999999999998 : 0.0 : 対立仮説(単位根過程でない)\n",
            "回帰係数-1.2499999999999998 : 0.0 : 対立仮説(単位根過程でない)\n",
            "回帰係数-1.1999999999999997 : 0.0 : 対立仮説(単位根過程でない)\n",
            "回帰係数-1.1499999999999997 : 0.0 : 対立仮説(単位根過程でない)\n",
            "回帰係数-1.0999999999999996 : 0.0 : 対立仮説(単位根過程でない)\n",
            "回帰係数-1.0499999999999996 : 0.0 : 対立仮説(単位根過程でない)\n",
            "回帰係数-0.9999999999999996 : 0.0 : 対立仮説(単位根過程でない)\n",
            "回帰係数-0.9499999999999995 : 0.0 : 対立仮説(単位根過程でない)\n",
            "回帰係数-0.8999999999999995 : 0.0 : 対立仮説(単位根過程でない)\n",
            "回帰係数-0.8499999999999994 : 0.0 : 対立仮説(単位根過程でない)\n",
            "回帰係数-0.7999999999999994 : 0.0 : 対立仮説(単位根過程でない)\n",
            "回帰係数-0.7499999999999993 : 9.645413619150691e-18 : 対立仮説(単位根過程でない)\n",
            "回帰係数-0.6999999999999993 : 0.0 : 対立仮説(単位根過程でない)\n",
            "回帰係数-0.6499999999999992 : 0.0 : 対立仮説(単位根過程でない)\n",
            "回帰係数-0.5999999999999992 : 2.6300361092831686e-23 : 対立仮説(単位根過程でない)\n",
            "回帰係数-0.5499999999999992 : 0.0 : 対立仮説(単位根過程でない)\n",
            "回帰係数-0.4999999999999991 : 9.18171371795205e-30 : 対立仮説(単位根過程でない)\n",
            "回帰係数-0.44999999999999907 : 0.0 : 対立仮説(単位根過程でない)\n",
            "回帰係数-0.399999999999999 : 0.0 : 対立仮説(単位根過程でない)\n",
            "回帰係数-0.349999999999999 : 0.0 : 対立仮説(単位根過程でない)\n",
            "回帰係数-0.29999999999999893 : 0.0 : 対立仮説(単位根過程でない)\n",
            "回帰係数-0.2499999999999989 : 0.0 : 対立仮説(単位根過程でない)\n",
            "回帰係数-0.19999999999999885 : 1.166648536441211e-16 : 対立仮説(単位根過程でない)\n",
            "回帰係数-0.1499999999999988 : 0.0 : 対立仮説(単位根過程でない)\n",
            "回帰係数-0.09999999999999876 : 0.0 : 対立仮説(単位根過程でない)\n",
            "回帰係数-0.04999999999999871 : 2.1885131301032506e-28 : 対立仮説(単位根過程でない)\n",
            "回帰係数1.3322676295501878e-15 : 0.0 : 対立仮説(単位根過程でない)\n",
            "回帰係数0.05000000000000138 : 0.0 : 対立仮説(単位根過程でない)\n",
            "回帰係数0.10000000000000142 : 2.611801539588931e-29 : 対立仮説(単位根過程でない)\n",
            "回帰係数0.15000000000000147 : 0.0 : 対立仮説(単位根過程でない)\n",
            "回帰係数0.2000000000000015 : 0.0 : 対立仮説(単位根過程でない)\n",
            "回帰係数0.25000000000000155 : 0.0 : 対立仮説(単位根過程でない)\n",
            "回帰係数0.3000000000000016 : 0.0 : 対立仮説(単位根過程でない)\n",
            "回帰係数0.35000000000000164 : 0.0 : 対立仮説(単位根過程でない)\n",
            "回帰係数0.4000000000000017 : 0.0 : 対立仮説(単位根過程でない)\n",
            "回帰係数0.45000000000000173 : 2.0651323592303248e-30 : 対立仮説(単位根過程でない)\n",
            "回帰係数0.5000000000000018 : 3.75963676292179e-26 : 対立仮説(単位根過程でない)\n",
            "回帰係数0.5500000000000018 : 0.0 : 対立仮説(単位根過程でない)\n",
            "回帰係数0.6000000000000019 : 1.8926845428916414e-29 : 対立仮説(単位根過程でない)\n",
            "回帰係数0.6500000000000017 : 4.824906499192398e-26 : 対立仮説(単位根過程でない)\n",
            "回帰係数0.700000000000002 : 1.6255857420131733e-25 : 対立仮説(単位根過程でない)\n",
            "回帰係数0.7500000000000022 : 1.2292509916795628e-20 : 対立仮説(単位根過程でない)\n",
            "回帰係数0.800000000000002 : 9.85762604839156e-19 : 対立仮説(単位根過程でない)\n",
            "回帰係数0.8500000000000019 : 1.1634187130311508e-13 : 対立仮説(単位根過程でない)\n",
            "回帰係数0.9000000000000021 : 1.415413390409498e-10 : 対立仮説(単位根過程でない)\n",
            "回帰係数0.9500000000000024 : 1.914508454406166e-05 : 対立仮説(単位根過程でない)\n",
            "回帰係数1.0000000000000022 : 0.2861981495731234 : 帰無仮説(単位根過程)\n",
            "回帰係数1.050000000000002 : 1.0 : 帰無仮説(単位根過程)\n",
            "回帰係数1.1000000000000023 : 1.0 : 帰無仮説(単位根過程)\n",
            "回帰係数1.1500000000000026 : 1.0 : 帰無仮説(単位根過程)\n",
            "回帰係数1.2000000000000024 : 1.0 : 帰無仮説(単位根過程)\n",
            "回帰係数1.2500000000000022 : 1.0 : 帰無仮説(単位根過程)\n",
            "回帰係数1.3000000000000025 : 1.0 : 帰無仮説(単位根過程)\n",
            "回帰係数1.3500000000000028 : 1.0 : 帰無仮説(単位根過程)\n",
            "回帰係数1.4000000000000026 : 1.0 : 帰無仮説(単位根過程)\n",
            "回帰係数1.4500000000000024 : 1.0 : 帰無仮説(単位根過程)\n"
          ],
          "name": "stdout"
        }
      ]
    },
    {
      "cell_type": "code",
      "metadata": {
        "id": "zYFCiz7pkWB_",
        "colab_type": "code",
        "colab": {
          "base_uri": "https://localhost:8080/",
          "height": 282
        },
        "outputId": "d84154d2-78bc-4162-a152-8298e50a5a97"
      },
      "source": [
        "plt.plot(ar_coeffs, p_values, marker='o')"
      ],
      "execution_count": 6,
      "outputs": [
        {
          "output_type": "execute_result",
          "data": {
            "text/plain": [
              "[<matplotlib.lines.Line2D at 0x7f60a954a9b0>]"
            ]
          },
          "metadata": {
            "tags": []
          },
          "execution_count": 6
        },
        {
          "output_type": "display_data",
          "data": {
            "image/png": "[encoded data removed]",
            "text/plain": [
              "<Figure size 432x288 with 1 Axes>"
            ]
          },
          "metadata": {
            "tags": []
          }
        }
      ]
    },
    {
      "cell_type": "code",
      "metadata": {
        "id": "uw2VXFJPkbq3",
        "colab_type": "code",
        "colab": {}
      },
      "source": [
        ""
      ],
      "execution_count": 0,
      "outputs": []
    }
  ]
}