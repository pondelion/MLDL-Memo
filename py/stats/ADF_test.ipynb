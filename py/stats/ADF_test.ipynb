{
  "nbformat": 4,
  "nbformat_minor": 0,
  "metadata": {
    "colab": {
      "name": "ADF_test.ipynb",
      "provenance": []
    },
    "kernelspec": {
      "name": "python3",
      "display_name": "Python 3"
    }
  },
  "cells": [
    {
      "cell_type": "markdown",
      "metadata": {
        "id": "l8uIscEwdi2c",
        "colab_type": "text"
      },
      "source": [
        "ADF検定  \n",
        "帰無仮説 : 単位根過程である  \n",
        "対立仮説 : 定常過程である   "
      ]
    },
    {
      "cell_type": "code",
      "metadata": {
        "id": "E2bAWxl7cfBU",
        "colab_type": "code",
        "colab": {}
      },
      "source": [
        "import numpy as np\n",
        "from statsmodels.tsa import stattools as st"
      ],
      "execution_count": 0,
      "outputs": []
    },
    {
      "cell_type": "code",
      "metadata": {
        "id": "J1tvXOEAcwKT",
        "colab_type": "code",
        "colab": {}
      },
      "source": [
        "TIME_LEN = 1000"
      ],
      "execution_count": 0,
      "outputs": []
    },
    {
      "cell_type": "code",
      "metadata": {
        "id": "7goeaTTufZPt",
        "colab_type": "code",
        "colab": {}
      },
      "source": [
        ""
      ],
      "execution_count": 0,
      "outputs": []
    },
    {
      "cell_type": "markdown",
      "metadata": {
        "id": "0P1W6cMEfmb_",
        "colab_type": "text"
      },
      "source": [
        "##ホワイトノイズ"
      ]
    },
    {
      "cell_type": "code",
      "metadata": {
        "id": "dXsAkKCifY9Q",
        "colab_type": "code",
        "colab": {}
      },
      "source": [
        "white_noise = np.random.randn(TIME_LEN)"
      ],
      "execution_count": 0,
      "outputs": []
    },
    {
      "cell_type": "code",
      "metadata": {
        "id": "UeTr7uxVc1d4",
        "colab_type": "code",
        "colab": {}
      },
      "source": [
        "adf, pvalue, usedlag, nobs, critical_values, icbest = st.adfuller(white_noise)"
      ],
      "execution_count": 0,
      "outputs": []
    },
    {
      "cell_type": "code",
      "metadata": {
        "id": "JONB8jcUc44g",
        "colab_type": "code",
        "colab": {
          "base_uri": "https://localhost:8080/",
          "height": 34
        },
        "outputId": "c8931b42-6db3-4794-fa54-0b7716f92dd5"
      },
      "source": [
        "pvalue"
      ],
      "execution_count": 13,
      "outputs": [
        {
          "output_type": "execute_result",
          "data": {
            "text/plain": [
              "0.0"
            ]
          },
          "metadata": {
            "tags": []
          },
          "execution_count": 13
        }
      ]
    },
    {
      "cell_type": "markdown",
      "metadata": {
        "id": "6A-B90YQfQ4Y",
        "colab_type": "text"
      },
      "source": [
        "→ 帰無仮説棄却 → 対立仮設 = 定常過程"
      ]
    },
    {
      "cell_type": "code",
      "metadata": {
        "id": "WsjeDmQBfO4E",
        "colab_type": "code",
        "colab": {}
      },
      "source": [
        ""
      ],
      "execution_count": 0,
      "outputs": []
    },
    {
      "cell_type": "markdown",
      "metadata": {
        "id": "DMhgx36hfrZv",
        "colab_type": "text"
      },
      "source": [
        "## ランダムウォーク"
      ]
    },
    {
      "cell_type": "code",
      "metadata": {
        "id": "suFBmUQ5fua2",
        "colab_type": "code",
        "colab": {}
      },
      "source": [
        "random_walk = np.cumsum(white_noise)"
      ],
      "execution_count": 0,
      "outputs": []
    },
    {
      "cell_type": "code",
      "metadata": {
        "id": "Z_TOTqpXf5NP",
        "colab_type": "code",
        "colab": {}
      },
      "source": [
        "adf, pvalue, usedlag, nobs, critical_values, icbest = st.adfuller(random_walk)"
      ],
      "execution_count": 0,
      "outputs": []
    },
    {
      "cell_type": "code",
      "metadata": {
        "id": "Nueon4_Ef6R_",
        "colab_type": "code",
        "colab": {
          "base_uri": "https://localhost:8080/",
          "height": 34
        },
        "outputId": "ab45b6a4-4a48-4bb9-8b15-b570a81610d4"
      },
      "source": [
        "pvalue"
      ],
      "execution_count": 19,
      "outputs": [
        {
          "output_type": "execute_result",
          "data": {
            "text/plain": [
              "0.7889074318556035"
            ]
          },
          "metadata": {
            "tags": []
          },
          "execution_count": 19
        }
      ]
    },
    {
      "cell_type": "markdown",
      "metadata": {
        "id": "SahY9j7NgJBS",
        "colab_type": "text"
      },
      "source": [
        "→ 帰無仮説 = 単位根過程"
      ]
    },
    {
      "cell_type": "code",
      "metadata": {
        "id": "RM1QW2R3f6_P",
        "colab_type": "code",
        "colab": {}
      },
      "source": [
        ""
      ],
      "execution_count": 0,
      "outputs": []
    }
  ]
}