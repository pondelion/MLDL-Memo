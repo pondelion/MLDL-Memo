{
  "nbformat": 4,
  "nbformat_minor": 0,
  "metadata": {
    "colab": {
      "name": "ADF_test.ipynb",
      "provenance": []
    },
    "kernelspec": {
      "name": "python3",
      "display_name": "Python 3"
    }
  },
  "cells": [
    {
      "cell_type": "markdown",
      "metadata": {
        "id": "l8uIscEwdi2c",
        "colab_type": "text"
      },
      "source": [
        "ADF検定  \n",
        "帰無仮説 : 単位根過程である  \n",
        "対立仮説 : 定常過程である   "
      ]
    },
    {
      "cell_type": "code",
      "metadata": {
        "id": "E2bAWxl7cfBU",
        "colab_type": "code",
        "colab": {}
      },
      "source": [
        "import numpy as np\n",
        "from statsmodels.tsa import stattools as st"
      ],
      "execution_count": 0,
      "outputs": []
    },
    {
      "cell_type": "code",
      "metadata": {
        "id": "J1tvXOEAcwKT",
        "colab_type": "code",
        "colab": {}
      },
      "source": [
        "TIME_LEN = 1000"
      ],
      "execution_count": 0,
      "outputs": []
    },
    {
      "cell_type": "code",
      "metadata": {
        "id": "7goeaTTufZPt",
        "colab_type": "code",
        "colab": {}
      },
      "source": [
        ""
      ],
      "execution_count": 0,
      "outputs": []
    },
    {
      "cell_type": "code",
      "metadata": {
        "id": "auYbQkHNhIBF",
        "colab_type": "code",
        "colab": {}
      },
      "source": [
        "def test_result(p_val, sl=0.05):\n",
        "    return '帰無仮説(単位根過程)' if p_val > sl else '対立仮説(定常過程)' "
      ],
      "execution_count": 0,
      "outputs": []
    },
    {
      "cell_type": "markdown",
      "metadata": {
        "id": "0P1W6cMEfmb_",
        "colab_type": "text"
      },
      "source": [
        "##ホワイトノイズ"
      ]
    },
    {
      "cell_type": "code",
      "metadata": {
        "id": "dXsAkKCifY9Q",
        "colab_type": "code",
        "colab": {}
      },
      "source": [
        "white_noise = np.random.randn(TIME_LEN)"
      ],
      "execution_count": 0,
      "outputs": []
    },
    {
      "cell_type": "code",
      "metadata": {
        "id": "UeTr7uxVc1d4",
        "colab_type": "code",
        "colab": {}
      },
      "source": [
        "adf, pvalue, usedlag, nobs, critical_values, icbest = st.adfuller(white_noise)"
      ],
      "execution_count": 0,
      "outputs": []
    },
    {
      "cell_type": "code",
      "metadata": {
        "id": "JONB8jcUc44g",
        "colab_type": "code",
        "colab": {
          "base_uri": "https://localhost:8080/",
          "height": 34
        },
        "outputId": "e9a25bf1-aa05-47eb-939b-26487af1cb93"
      },
      "source": [
        "pvalue"
      ],
      "execution_count": 33,
      "outputs": [
        {
          "output_type": "execute_result",
          "data": {
            "text/plain": [
              "5.696585271701515e-30"
            ]
          },
          "metadata": {
            "tags": []
          },
          "execution_count": 33
        }
      ]
    },
    {
      "cell_type": "markdown",
      "metadata": {
        "id": "6A-B90YQfQ4Y",
        "colab_type": "text"
      },
      "source": [
        "→ 帰無仮説棄却 → 対立仮設 = 定常過程"
      ]
    },
    {
      "cell_type": "code",
      "metadata": {
        "id": "4IrFKd9phrtz",
        "colab_type": "code",
        "colab": {
          "base_uri": "https://localhost:8080/",
          "height": 34
        },
        "outputId": "ffc8f13f-2dad-431b-edf8-c9f377e66afe"
      },
      "source": [
        "test_result(pvalue, 0.05)"
      ],
      "execution_count": 34,
      "outputs": [
        {
          "output_type": "execute_result",
          "data": {
            "text/plain": [
              "'対立仮説(定常過程)'"
            ]
          },
          "metadata": {
            "tags": []
          },
          "execution_count": 34
        }
      ]
    },
    {
      "cell_type": "code",
      "metadata": {
        "id": "WsjeDmQBfO4E",
        "colab_type": "code",
        "colab": {}
      },
      "source": [
        ""
      ],
      "execution_count": 0,
      "outputs": []
    },
    {
      "cell_type": "markdown",
      "metadata": {
        "id": "DMhgx36hfrZv",
        "colab_type": "text"
      },
      "source": [
        "## ランダムウォーク"
      ]
    },
    {
      "cell_type": "code",
      "metadata": {
        "id": "suFBmUQ5fua2",
        "colab_type": "code",
        "colab": {}
      },
      "source": [
        "random_walk = np.cumsum(white_noise)"
      ],
      "execution_count": 0,
      "outputs": []
    },
    {
      "cell_type": "code",
      "metadata": {
        "id": "Z_TOTqpXf5NP",
        "colab_type": "code",
        "colab": {}
      },
      "source": [
        "adf, pvalue, usedlag, nobs, critical_values, icbest = st.adfuller(random_walk)"
      ],
      "execution_count": 0,
      "outputs": []
    },
    {
      "cell_type": "code",
      "metadata": {
        "id": "Nueon4_Ef6R_",
        "colab_type": "code",
        "colab": {
          "base_uri": "https://localhost:8080/",
          "height": 34
        },
        "outputId": "7652d559-0173-4a28-82c5-6cdc24c81558"
      },
      "source": [
        "pvalue"
      ],
      "execution_count": 37,
      "outputs": [
        {
          "output_type": "execute_result",
          "data": {
            "text/plain": [
              "0.9117965626384708"
            ]
          },
          "metadata": {
            "tags": []
          },
          "execution_count": 37
        }
      ]
    },
    {
      "cell_type": "markdown",
      "metadata": {
        "id": "SahY9j7NgJBS",
        "colab_type": "text"
      },
      "source": [
        "→ 帰無仮説 = 単位根過程"
      ]
    },
    {
      "cell_type": "code",
      "metadata": {
        "id": "RM1QW2R3f6_P",
        "colab_type": "code",
        "colab": {
          "base_uri": "https://localhost:8080/",
          "height": 34
        },
        "outputId": "59af8035-8f43-4168-85de-358d13eb5da5"
      },
      "source": [
        "test_result(pvalue, 0.05)"
      ],
      "execution_count": 38,
      "outputs": [
        {
          "output_type": "execute_result",
          "data": {
            "text/plain": [
              "'帰無仮説(単位根過程)'"
            ]
          },
          "metadata": {
            "tags": []
          },
          "execution_count": 38
        }
      ]
    },
    {
      "cell_type": "code",
      "metadata": {
        "id": "ovFRqYOyh3w3",
        "colab_type": "code",
        "colab": {}
      },
      "source": [
        ""
      ],
      "execution_count": 0,
      "outputs": []
    }
  ]
}