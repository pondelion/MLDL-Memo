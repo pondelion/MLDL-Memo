{
  "nbformat": 4,
  "nbformat_minor": 0,
  "metadata": {
    "colab": {
      "name": "seq2seq_attention.ipynb",
      "provenance": []
    },
    "kernelspec": {
      "name": "python3",
      "display_name": "Python 3"
    }
  },
  "cells": [
    {
      "cell_type": "code",
      "metadata": {
        "id": "uzJMEB-WLvYl",
        "colab_type": "code",
        "colab": {}
      },
      "source": [
        "import torch\n",
        "import torch.nn as nn\n",
        "import numpy as np\n",
        "import seaborn as sns\n",
        "import matplotlib.pyplot as plt"
      ],
      "execution_count": 0,
      "outputs": []
    },
    {
      "cell_type": "code",
      "metadata": {
        "id": "iWJmqRLgL-qQ",
        "colab_type": "code",
        "colab": {}
      },
      "source": [
        "VOCAB_SIZE = 1000\n",
        "EMBEDDING_DIM = 50\n",
        "SEQ_LEN = 10\n",
        "BATCH_SIZE = 32"
      ],
      "execution_count": 0,
      "outputs": []
    },
    {
      "cell_type": "code",
      "metadata": {
        "id": "rNlKu_MOL1h_",
        "colab_type": "code",
        "colab": {}
      },
      "source": [
        "emb = nn.Embedding(VOCAB_SIZE, EMBEDDING_DIM)"
      ],
      "execution_count": 0,
      "outputs": []
    },
    {
      "cell_type": "code",
      "metadata": {
        "id": "FP9QvlDTzOpG",
        "colab_type": "code",
        "colab": {}
      },
      "source": [
        ""
      ],
      "execution_count": 0,
      "outputs": []
    },
    {
      "cell_type": "code",
      "metadata": {
        "id": "cmvlEvrdM4el",
        "colab_type": "code",
        "outputId": "9eb18ea9-3944-4840-fb8b-05d9c6b1ee04",
        "colab": {
          "base_uri": "https://localhost:8080/",
          "height": 34
        }
      },
      "source": [
        "emb(torch.from_numpy(np.array([2, 123, 3])).unsqueeze(0)).shape"
      ],
      "execution_count": 0,
      "outputs": [
        {
          "output_type": "execute_result",
          "data": {
            "text/plain": [
              "torch.Size([1, 3, 50])"
            ]
          },
          "metadata": {
            "tags": []
          },
          "execution_count": 222
        }
      ]
    },
    {
      "cell_type": "code",
      "metadata": {
        "id": "i479f0X8Na2N",
        "colab_type": "code",
        "colab": {}
      },
      "source": [
        "class Encoder(nn.Module):\n",
        "\n",
        "    def __init__(\n",
        "        self,\n",
        "        embedding: nn.Module,\n",
        "        embedding_dim: int,\n",
        "        lstm_hidden_dim: int = 16,\n",
        "        lstm_layer_num: int = 4,\n",
        "    ):\n",
        "        super(Encoder, self).__init__()\n",
        "\n",
        "        self._lstm_hidden_dim = lstm_hidden_dim\n",
        "        self._lstm_layer_num = lstm_layer_num\n",
        "        self._embedding = embedding\n",
        "        self._embedding_dim = embedding_dim\n",
        "\n",
        "        self._lstm = nn.LSTM(\n",
        "            input_size=self._embedding_dim,\n",
        "            hidden_size=self._lstm_hidden_dim,\n",
        "            num_layers=self._lstm_layer_num,\n",
        "            batch_first=True\n",
        "        )\n",
        "\n",
        "    def forward(self, sentences):\n",
        "        embed = self._embedding(sentences)  # (batch_size, seq_len, embedding_dim)\n",
        "\n",
        "        out, hidden = self._lstm(embed)\n",
        "        self._lstm_hiddens = out\n",
        "        return self._lstm_hiddens"
      ],
      "execution_count": 0,
      "outputs": []
    },
    {
      "cell_type": "code",
      "metadata": {
        "id": "XAUdY_w0ZcwI",
        "colab_type": "code",
        "colab": {}
      },
      "source": [
        "embedding = nn.Embedding(VOCAB_SIZE, EMBEDDING_DIM, )"
      ],
      "execution_count": 0,
      "outputs": []
    },
    {
      "cell_type": "code",
      "metadata": {
        "id": "q4PFqglMUKfb",
        "colab_type": "code",
        "colab": {}
      },
      "source": [
        "encoder = Encoder(\n",
        "    embedding=embedding,\n",
        "    embedding_dim=EMBEDDING_DIM,\n",
        ")"
      ],
      "execution_count": 0,
      "outputs": []
    },
    {
      "cell_type": "code",
      "metadata": {
        "id": "UssjV8i3UZC7",
        "colab_type": "code",
        "colab": {}
      },
      "source": [
        "dummpy_input = torch.Tensor([12, 3, 3] + [0]*(SEQ_LEN-len([12, 3, 3]))).long()\n",
        "dummpy_input = dummpy_input.repeat(BATCH_SIZE).view(BATCH_SIZE, -1)"
      ],
      "execution_count": 0,
      "outputs": []
    },
    {
      "cell_type": "code",
      "metadata": {
        "id": "TiVc1baYzv46",
        "colab_type": "code",
        "outputId": "db127a31-bca0-4f2c-967a-4304b99de269",
        "colab": {
          "base_uri": "https://localhost:8080/",
          "height": 561
        }
      },
      "source": [
        "dummpy_input"
      ],
      "execution_count": 0,
      "outputs": [
        {
          "output_type": "execute_result",
          "data": {
            "text/plain": [
              "tensor([[12,  3,  3,  0,  0,  0,  0,  0,  0,  0],\n",
              "        [12,  3,  3,  0,  0,  0,  0,  0,  0,  0],\n",
              "        [12,  3,  3,  0,  0,  0,  0,  0,  0,  0],\n",
              "        [12,  3,  3,  0,  0,  0,  0,  0,  0,  0],\n",
              "        [12,  3,  3,  0,  0,  0,  0,  0,  0,  0],\n",
              "        [12,  3,  3,  0,  0,  0,  0,  0,  0,  0],\n",
              "        [12,  3,  3,  0,  0,  0,  0,  0,  0,  0],\n",
              "        [12,  3,  3,  0,  0,  0,  0,  0,  0,  0],\n",
              "        [12,  3,  3,  0,  0,  0,  0,  0,  0,  0],\n",
              "        [12,  3,  3,  0,  0,  0,  0,  0,  0,  0],\n",
              "        [12,  3,  3,  0,  0,  0,  0,  0,  0,  0],\n",
              "        [12,  3,  3,  0,  0,  0,  0,  0,  0,  0],\n",
              "        [12,  3,  3,  0,  0,  0,  0,  0,  0,  0],\n",
              "        [12,  3,  3,  0,  0,  0,  0,  0,  0,  0],\n",
              "        [12,  3,  3,  0,  0,  0,  0,  0,  0,  0],\n",
              "        [12,  3,  3,  0,  0,  0,  0,  0,  0,  0],\n",
              "        [12,  3,  3,  0,  0,  0,  0,  0,  0,  0],\n",
              "        [12,  3,  3,  0,  0,  0,  0,  0,  0,  0],\n",
              "        [12,  3,  3,  0,  0,  0,  0,  0,  0,  0],\n",
              "        [12,  3,  3,  0,  0,  0,  0,  0,  0,  0],\n",
              "        [12,  3,  3,  0,  0,  0,  0,  0,  0,  0],\n",
              "        [12,  3,  3,  0,  0,  0,  0,  0,  0,  0],\n",
              "        [12,  3,  3,  0,  0,  0,  0,  0,  0,  0],\n",
              "        [12,  3,  3,  0,  0,  0,  0,  0,  0,  0],\n",
              "        [12,  3,  3,  0,  0,  0,  0,  0,  0,  0],\n",
              "        [12,  3,  3,  0,  0,  0,  0,  0,  0,  0],\n",
              "        [12,  3,  3,  0,  0,  0,  0,  0,  0,  0],\n",
              "        [12,  3,  3,  0,  0,  0,  0,  0,  0,  0],\n",
              "        [12,  3,  3,  0,  0,  0,  0,  0,  0,  0],\n",
              "        [12,  3,  3,  0,  0,  0,  0,  0,  0,  0],\n",
              "        [12,  3,  3,  0,  0,  0,  0,  0,  0,  0],\n",
              "        [12,  3,  3,  0,  0,  0,  0,  0,  0,  0]])"
            ]
          },
          "metadata": {
            "tags": []
          },
          "execution_count": 271
        }
      ]
    },
    {
      "cell_type": "code",
      "metadata": {
        "id": "pn547dw1XjZk",
        "colab_type": "code",
        "outputId": "a466e60d-2a9b-40b1-cdf3-026e33651ce6",
        "colab": {
          "base_uri": "https://localhost:8080/",
          "height": 34
        }
      },
      "source": [
        "dummpy_input.shape  # (batch_size, seq_len)"
      ],
      "execution_count": 0,
      "outputs": [
        {
          "output_type": "execute_result",
          "data": {
            "text/plain": [
              "torch.Size([32, 10])"
            ]
          },
          "metadata": {
            "tags": []
          },
          "execution_count": 272
        }
      ]
    },
    {
      "cell_type": "code",
      "metadata": {
        "id": "Nft0457fUTia",
        "colab_type": "code",
        "outputId": "59a69c12-866c-4c18-b7cd-40f97cdccbf9",
        "colab": {
          "base_uri": "https://localhost:8080/",
          "height": 34
        }
      },
      "source": [
        "encoder(dummpy_input).shape  # (batch_size, seq_len, lstm_hidden_dim)"
      ],
      "execution_count": 0,
      "outputs": [
        {
          "output_type": "execute_result",
          "data": {
            "text/plain": [
              "torch.Size([32, 10, 16])"
            ]
          },
          "metadata": {
            "tags": []
          },
          "execution_count": 273
        }
      ]
    },
    {
      "cell_type": "code",
      "metadata": {
        "id": "oBxr0hmIVF-h",
        "colab_type": "code",
        "colab": {}
      },
      "source": [
        "class Decoder(nn.Module):\n",
        "\n",
        "    def __init__(self,\n",
        "        embedding: nn.Module,\n",
        "        embedding_dim: int,\n",
        "        vocab_size: int,\n",
        "        lstm_hidden_dim: int = 16,\n",
        "        lstm_layer_num: int = 4,\n",
        "    ):\n",
        "        super(Decoder, self).__init__()\n",
        "\n",
        "        self._lstm_hidden_dim = lstm_hidden_dim\n",
        "        self._lstm_layer_num = lstm_layer_num\n",
        "        self._embedding = embedding\n",
        "        self._embedding_dim = embedding_dim\n",
        "        self._vocab_size = vocab_size\n",
        "\n",
        "        self._lstm = nn.LSTM(\n",
        "            self._embedding_dim,\n",
        "            hidden_size=self._lstm_hidden_dim,\n",
        "            num_layers=self._lstm_layer_num,\n",
        "            batch_first=True\n",
        "        )\n",
        "\n",
        "        self._linear = nn.Linear(\n",
        "            self._lstm_hidden_dim,\n",
        "            self._vocab_size\n",
        "        )\n",
        "\n",
        "    def forward(self, sequences, encoder_hiddens, hidden=None):\n",
        "        self._encoder_hiddens = encoder_hiddens  # (batch_size, encoder_seq_len, lstm_hidden_dim)\n",
        "        self._encoder_input_seqlen = encoder_hiddens.size(1)\n",
        "        self._seq_len = sequences.size(1)\n",
        "\n",
        "        embed = self._embedding(sequences)\n",
        "\n",
        "        if hidden:\n",
        "            out, hidden = self._lstm(embed, hidden)\n",
        "        else:\n",
        "            out, hidden = self._lstm(embed)\n",
        "\n",
        "        self._decorder_outputs = []\n",
        "        self._attention_weights = []\n",
        "        for i in range(self._seq_len):\n",
        "            ith_hidden = out[:, i, :]\n",
        "            ith_hidden_repeated = ith_hidden.repeat(1, self._encoder_input_seqlen).view(-1,self._encoder_input_seqlen, self._lstm_hidden_dim)  # (batch_size, encoder_seq_len, lstm_hiden_dim)\n",
        "            attention_weight = nn.Softmax(dim=1)((self._encoder_hiddens * ith_hidden_repeated).sum(axis=2))  # (batch_size, encoder_seq_len)\n",
        "            self._attention_weights.append(attention_weight.detach().numpy())\n",
        "            attention_weight_repeated = attention_weight.repeat(1, self._lstm_hidden_dim).view(-1, self._encoder_input_seqlen, self._lstm_hidden_dim)\n",
        "            #print(attention_weight_repeated.shape)\n",
        "            context_vec = (self._encoder_hiddens * attention_weight_repeated).sum(axis=1)\n",
        "            #print(context_vec.shape)\n",
        "            ith_out = self._linear(context_vec + ith_hidden)\n",
        "            ith_out = nn.Softmax(dim=1)(ith_out)\n",
        "            self._decorder_outputs.append(ith_out)\n",
        "\n",
        "        return self._decorder_outputs, hidden, np.array(self._attention_weights).transpose(1, 0, 2)"
      ],
      "execution_count": 0,
      "outputs": []
    },
    {
      "cell_type": "code",
      "metadata": {
        "id": "l5J8kKyTZt9o",
        "colab_type": "code",
        "colab": {}
      },
      "source": [
        "decorder = Decoder(\n",
        "    embedding=embedding,\n",
        "    embedding_dim=EMBEDDING_DIM,\n",
        "    vocab_size=VOCAB_SIZE\n",
        ")"
      ],
      "execution_count": 0,
      "outputs": []
    },
    {
      "cell_type": "code",
      "metadata": {
        "id": "bn_IAewAnnMy",
        "colab_type": "code",
        "colab": {}
      },
      "source": [
        "lstm_hiddens = encoder(dummpy_input)"
      ],
      "execution_count": 0,
      "outputs": []
    },
    {
      "cell_type": "code",
      "metadata": {
        "id": "-Sxa9BTMnsEh",
        "colab_type": "code",
        "colab": {}
      },
      "source": [
        "decoder_outs, hidden, attention_weights = decorder(dummpy_input, lstm_hiddens)"
      ],
      "execution_count": 0,
      "outputs": []
    },
    {
      "cell_type": "code",
      "metadata": {
        "id": "0CD6sV8vxEMI",
        "colab_type": "code",
        "outputId": "86023ad4-c067-4624-d612-8952dc02876c",
        "colab": {
          "base_uri": "https://localhost:8080/",
          "height": 34
        }
      },
      "source": [
        "len(decoder_outs)  # seq_len"
      ],
      "execution_count": 0,
      "outputs": [
        {
          "output_type": "execute_result",
          "data": {
            "text/plain": [
              "10"
            ]
          },
          "metadata": {
            "tags": []
          },
          "execution_count": 289
        }
      ]
    },
    {
      "cell_type": "code",
      "metadata": {
        "id": "NBCxsU66yOXv",
        "colab_type": "code",
        "outputId": "09215c1d-48b4-41bc-a550-c5f8822dc7a3",
        "colab": {
          "base_uri": "https://localhost:8080/",
          "height": 34
        }
      },
      "source": [
        "decoder_outs[0].shape  # (batch_size, vocab_size)"
      ],
      "execution_count": 0,
      "outputs": [
        {
          "output_type": "execute_result",
          "data": {
            "text/plain": [
              "torch.Size([32, 1000])"
            ]
          },
          "metadata": {
            "tags": []
          },
          "execution_count": 290
        }
      ]
    },
    {
      "cell_type": "code",
      "metadata": {
        "id": "-JQwQ7WLnxYB",
        "colab_type": "code",
        "colab": {}
      },
      "source": [
        "ce_loss = nn.CrossEntropyLoss()"
      ],
      "execution_count": 0,
      "outputs": []
    },
    {
      "cell_type": "code",
      "metadata": {
        "id": "JxasjL3mxAz4",
        "colab_type": "code",
        "colab": {}
      },
      "source": [
        "ce_losses = []\n",
        "\n",
        "for do in decoder_outs:\n",
        "    teacher_labels = torch.ones(BATCH_SIZE).long()\n",
        "    ce_losses.append(ce_loss(do, teacher_labels))"
      ],
      "execution_count": 0,
      "outputs": []
    },
    {
      "cell_type": "code",
      "metadata": {
        "id": "bFOKXboq1Mq9",
        "colab_type": "code",
        "outputId": "d4c1463c-502d-484a-e43a-d622936a7ade",
        "colab": {
          "base_uri": "https://localhost:8080/",
          "height": 34
        }
      },
      "source": [
        "np.array(attention_weights).shape  # (batch_size, seq_len, seq_len)"
      ],
      "execution_count": 0,
      "outputs": [
        {
          "output_type": "execute_result",
          "data": {
            "text/plain": [
              "(32, 10, 10)"
            ]
          },
          "metadata": {
            "tags": []
          },
          "execution_count": 293
        }
      ]
    },
    {
      "cell_type": "code",
      "metadata": {
        "id": "fJPAfv4D1O3N",
        "colab_type": "code",
        "outputId": "cc1ddd60-dc0b-44e0-c4e6-968b463ee8db",
        "colab": {
          "base_uri": "https://localhost:8080/",
          "height": 1000
        }
      },
      "source": [
        "for i in range(5):\n",
        "    sns.heatmap(np.array(attention_weights)[i, :, :])\n",
        "    plt.show()"
      ],
      "execution_count": 0,
      "outputs": [
        {
          "output_type": "display_data",
          "data": {
            "image/png": "[encoded data removed]",
            "text/plain": [
              "<Figure size 432x288 with 2 Axes>"
            ]
          },
          "metadata": {
            "tags": []
          }
        },
        {
          "output_type": "display_data",
          "data": {
            "image/png": "[encoded data removed]",
            "text/plain": [
              "<Figure size 432x288 with 2 Axes>"
            ]
          },
          "metadata": {
            "tags": []
          }
        },
        {
          "output_type": "display_data",
          "data": {
            "image/png": "[encoded data removed]",
            "text/plain": [
              "<Figure size 432x288 with 2 Axes>"
            ]
          },
          "metadata": {
            "tags": []
          }
        },
        {
          "output_type": "display_data",
          "data": {
            "image/png": "[encoded data removed]",
            "text/plain": [
              "<Figure size 432x288 with 2 Axes>"
            ]
          },
          "metadata": {
            "tags": []
          }
        },
        {
          "output_type": "display_data",
          "data": {
            "image/png": "[encoded data removed]",
            "text/plain": [
              "<Figure size 432x288 with 2 Axes>"
            ]
          },
          "metadata": {
            "tags": []
          }
        }
      ]
    },
    {
      "cell_type": "code",
      "metadata": {
        "id": "6wG9hk5D2buV",
        "colab_type": "code",
        "outputId": "aa747484-943c-412c-9518-5e71b3badc18",
        "colab": {
          "base_uri": "https://localhost:8080/",
          "height": 1000
        }
      },
      "source": [
        "decorder(dummpy_input, lstm_hiddens, hidden)"
      ],
      "execution_count": 0,
      "outputs": [
        {
          "output_type": "execute_result",
          "data": {
            "text/plain": [
              "([tensor([[0.0010, 0.0008, 0.0007,  ..., 0.0012, 0.0010, 0.0011],\n",
              "          [0.0010, 0.0008, 0.0007,  ..., 0.0012, 0.0010, 0.0011],\n",
              "          [0.0010, 0.0008, 0.0007,  ..., 0.0012, 0.0010, 0.0011],\n",
              "          ...,\n",
              "          [0.0010, 0.0008, 0.0007,  ..., 0.0012, 0.0010, 0.0011],\n",
              "          [0.0010, 0.0008, 0.0007,  ..., 0.0012, 0.0010, 0.0011],\n",
              "          [0.0010, 0.0008, 0.0007,  ..., 0.0012, 0.0010, 0.0011]],\n",
              "         grad_fn=<SoftmaxBackward>),\n",
              "  tensor([[0.0010, 0.0008, 0.0007,  ..., 0.0012, 0.0010, 0.0011],\n",
              "          [0.0010, 0.0008, 0.0007,  ..., 0.0012, 0.0010, 0.0011],\n",
              "          [0.0010, 0.0008, 0.0007,  ..., 0.0012, 0.0010, 0.0011],\n",
              "          ...,\n",
              "          [0.0010, 0.0008, 0.0007,  ..., 0.0012, 0.0010, 0.0011],\n",
              "          [0.0010, 0.0008, 0.0007,  ..., 0.0012, 0.0010, 0.0011],\n",
              "          [0.0010, 0.0008, 0.0007,  ..., 0.0012, 0.0010, 0.0011]],\n",
              "         grad_fn=<SoftmaxBackward>),\n",
              "  tensor([[0.0010, 0.0008, 0.0007,  ..., 0.0012, 0.0010, 0.0011],\n",
              "          [0.0010, 0.0008, 0.0007,  ..., 0.0012, 0.0010, 0.0011],\n",
              "          [0.0010, 0.0008, 0.0007,  ..., 0.0012, 0.0010, 0.0011],\n",
              "          ...,\n",
              "          [0.0010, 0.0008, 0.0007,  ..., 0.0012, 0.0010, 0.0011],\n",
              "          [0.0010, 0.0008, 0.0007,  ..., 0.0012, 0.0010, 0.0011],\n",
              "          [0.0010, 0.0008, 0.0007,  ..., 0.0012, 0.0010, 0.0011]],\n",
              "         grad_fn=<SoftmaxBackward>),\n",
              "  tensor([[0.0010, 0.0008, 0.0007,  ..., 0.0012, 0.0010, 0.0011],\n",
              "          [0.0010, 0.0008, 0.0007,  ..., 0.0012, 0.0010, 0.0011],\n",
              "          [0.0010, 0.0008, 0.0007,  ..., 0.0012, 0.0010, 0.0011],\n",
              "          ...,\n",
              "          [0.0010, 0.0008, 0.0007,  ..., 0.0012, 0.0010, 0.0011],\n",
              "          [0.0010, 0.0008, 0.0007,  ..., 0.0012, 0.0010, 0.0011],\n",
              "          [0.0010, 0.0008, 0.0007,  ..., 0.0012, 0.0010, 0.0011]],\n",
              "         grad_fn=<SoftmaxBackward>),\n",
              "  tensor([[0.0010, 0.0008, 0.0007,  ..., 0.0012, 0.0010, 0.0011],\n",
              "          [0.0010, 0.0008, 0.0007,  ..., 0.0012, 0.0010, 0.0011],\n",
              "          [0.0010, 0.0008, 0.0007,  ..., 0.0012, 0.0010, 0.0011],\n",
              "          ...,\n",
              "          [0.0010, 0.0008, 0.0007,  ..., 0.0012, 0.0010, 0.0011],\n",
              "          [0.0010, 0.0008, 0.0007,  ..., 0.0012, 0.0010, 0.0011],\n",
              "          [0.0010, 0.0008, 0.0007,  ..., 0.0012, 0.0010, 0.0011]],\n",
              "         grad_fn=<SoftmaxBackward>),\n",
              "  tensor([[0.0010, 0.0008, 0.0007,  ..., 0.0012, 0.0010, 0.0011],\n",
              "          [0.0010, 0.0008, 0.0007,  ..., 0.0012, 0.0010, 0.0011],\n",
              "          [0.0010, 0.0008, 0.0007,  ..., 0.0012, 0.0010, 0.0011],\n",
              "          ...,\n",
              "          [0.0010, 0.0008, 0.0007,  ..., 0.0012, 0.0010, 0.0011],\n",
              "          [0.0010, 0.0008, 0.0007,  ..., 0.0012, 0.0010, 0.0011],\n",
              "          [0.0010, 0.0008, 0.0007,  ..., 0.0012, 0.0010, 0.0011]],\n",
              "         grad_fn=<SoftmaxBackward>),\n",
              "  tensor([[0.0010, 0.0008, 0.0007,  ..., 0.0012, 0.0010, 0.0011],\n",
              "          [0.0010, 0.0008, 0.0007,  ..., 0.0012, 0.0010, 0.0011],\n",
              "          [0.0010, 0.0008, 0.0007,  ..., 0.0012, 0.0010, 0.0011],\n",
              "          ...,\n",
              "          [0.0010, 0.0008, 0.0007,  ..., 0.0012, 0.0010, 0.0011],\n",
              "          [0.0010, 0.0008, 0.0007,  ..., 0.0012, 0.0010, 0.0011],\n",
              "          [0.0010, 0.0008, 0.0007,  ..., 0.0012, 0.0010, 0.0011]],\n",
              "         grad_fn=<SoftmaxBackward>),\n",
              "  tensor([[0.0010, 0.0008, 0.0007,  ..., 0.0012, 0.0010, 0.0011],\n",
              "          [0.0010, 0.0008, 0.0007,  ..., 0.0012, 0.0010, 0.0011],\n",
              "          [0.0010, 0.0008, 0.0007,  ..., 0.0012, 0.0010, 0.0011],\n",
              "          ...,\n",
              "          [0.0010, 0.0008, 0.0007,  ..., 0.0012, 0.0010, 0.0011],\n",
              "          [0.0010, 0.0008, 0.0007,  ..., 0.0012, 0.0010, 0.0011],\n",
              "          [0.0010, 0.0008, 0.0007,  ..., 0.0012, 0.0010, 0.0011]],\n",
              "         grad_fn=<SoftmaxBackward>),\n",
              "  tensor([[0.0010, 0.0008, 0.0007,  ..., 0.0012, 0.0010, 0.0011],\n",
              "          [0.0010, 0.0008, 0.0007,  ..., 0.0012, 0.0010, 0.0011],\n",
              "          [0.0010, 0.0008, 0.0007,  ..., 0.0012, 0.0010, 0.0011],\n",
              "          ...,\n",
              "          [0.0010, 0.0008, 0.0007,  ..., 0.0012, 0.0010, 0.0011],\n",
              "          [0.0010, 0.0008, 0.0007,  ..., 0.0012, 0.0010, 0.0011],\n",
              "          [0.0010, 0.0008, 0.0007,  ..., 0.0012, 0.0010, 0.0011]],\n",
              "         grad_fn=<SoftmaxBackward>),\n",
              "  tensor([[0.0010, 0.0008, 0.0007,  ..., 0.0012, 0.0010, 0.0011],\n",
              "          [0.0010, 0.0008, 0.0007,  ..., 0.0012, 0.0010, 0.0011],\n",
              "          [0.0010, 0.0008, 0.0007,  ..., 0.0012, 0.0010, 0.0011],\n",
              "          ...,\n",
              "          [0.0010, 0.0008, 0.0007,  ..., 0.0012, 0.0010, 0.0011],\n",
              "          [0.0010, 0.0008, 0.0007,  ..., 0.0012, 0.0010, 0.0011],\n",
              "          [0.0010, 0.0008, 0.0007,  ..., 0.0012, 0.0010, 0.0011]],\n",
              "         grad_fn=<SoftmaxBackward>)],\n",
              " (tensor([[[-4.4470e-01,  5.6529e-01, -3.3422e-01,  ..., -1.1819e-02,\n",
              "             6.9218e-01, -4.3542e-03],\n",
              "           [-4.4470e-01,  5.6529e-01, -3.3422e-01,  ..., -1.1819e-02,\n",
              "             6.9218e-01, -4.3542e-03],\n",
              "           [-4.4470e-01,  5.6529e-01, -3.3422e-01,  ..., -1.1819e-02,\n",
              "             6.9218e-01, -4.3542e-03],\n",
              "           ...,\n",
              "           [-4.4470e-01,  5.6529e-01, -3.3422e-01,  ..., -1.1819e-02,\n",
              "             6.9218e-01, -4.3542e-03],\n",
              "           [-4.4470e-01,  5.6529e-01, -3.3422e-01,  ..., -1.1819e-02,\n",
              "             6.9218e-01, -4.3542e-03],\n",
              "           [-4.4470e-01,  5.6529e-01, -3.3422e-01,  ..., -1.1819e-02,\n",
              "             6.9218e-01, -4.3542e-03]],\n",
              "  \n",
              "          [[ 3.3382e-01, -1.4334e-01, -7.0913e-02,  ..., -2.0909e-01,\n",
              "             3.1850e-02,  1.8594e-01],\n",
              "           [ 3.3382e-01, -1.4334e-01, -7.0913e-02,  ..., -2.0909e-01,\n",
              "             3.1850e-02,  1.8594e-01],\n",
              "           [ 3.3382e-01, -1.4334e-01, -7.0913e-02,  ..., -2.0909e-01,\n",
              "             3.1850e-02,  1.8594e-01],\n",
              "           ...,\n",
              "           [ 3.3382e-01, -1.4334e-01, -7.0913e-02,  ..., -2.0909e-01,\n",
              "             3.1850e-02,  1.8594e-01],\n",
              "           [ 3.3382e-01, -1.4334e-01, -7.0913e-02,  ..., -2.0909e-01,\n",
              "             3.1850e-02,  1.8594e-01],\n",
              "           [ 3.3382e-01, -1.4334e-01, -7.0913e-02,  ..., -2.0909e-01,\n",
              "             3.1850e-02,  1.8594e-01]],\n",
              "  \n",
              "          [[ 1.2337e-04, -8.2858e-02, -1.0777e-02,  ...,  8.7991e-02,\n",
              "            -3.9046e-03, -6.4743e-02],\n",
              "           [ 1.2337e-04, -8.2858e-02, -1.0777e-02,  ...,  8.7991e-02,\n",
              "            -3.9046e-03, -6.4743e-02],\n",
              "           [ 1.2337e-04, -8.2858e-02, -1.0777e-02,  ...,  8.7991e-02,\n",
              "            -3.9046e-03, -6.4743e-02],\n",
              "           ...,\n",
              "           [ 1.2337e-04, -8.2858e-02, -1.0777e-02,  ...,  8.7991e-02,\n",
              "            -3.9046e-03, -6.4743e-02],\n",
              "           [ 1.2337e-04, -8.2858e-02, -1.0777e-02,  ...,  8.7991e-02,\n",
              "            -3.9046e-03, -6.4743e-02],\n",
              "           [ 1.2337e-04, -8.2858e-02, -1.0777e-02,  ...,  8.7991e-02,\n",
              "            -3.9046e-03, -6.4743e-02]],\n",
              "  \n",
              "          [[ 8.8758e-02, -1.6975e-01,  7.6881e-03,  ..., -2.1881e-01,\n",
              "             2.6554e-02,  2.8760e-02],\n",
              "           [ 8.8758e-02, -1.6975e-01,  7.6881e-03,  ..., -2.1881e-01,\n",
              "             2.6554e-02,  2.8760e-02],\n",
              "           [ 8.8758e-02, -1.6975e-01,  7.6881e-03,  ..., -2.1881e-01,\n",
              "             2.6554e-02,  2.8760e-02],\n",
              "           ...,\n",
              "           [ 8.8758e-02, -1.6975e-01,  7.6881e-03,  ..., -2.1881e-01,\n",
              "             2.6554e-02,  2.8760e-02],\n",
              "           [ 8.8758e-02, -1.6975e-01,  7.6881e-03,  ..., -2.1881e-01,\n",
              "             2.6554e-02,  2.8760e-02],\n",
              "           [ 8.8758e-02, -1.6975e-01,  7.6881e-03,  ..., -2.1881e-01,\n",
              "             2.6554e-02,  2.8760e-02]]], grad_fn=<StackBackward>),\n",
              "  tensor([[[-9.3227e-01,  9.9062e-01, -7.8048e-01,  ..., -4.1628e-02,\n",
              "             2.3980e+00, -8.5802e-03],\n",
              "           [-9.3227e-01,  9.9062e-01, -7.8048e-01,  ..., -4.1628e-02,\n",
              "             2.3980e+00, -8.5802e-03],\n",
              "           [-9.3227e-01,  9.9062e-01, -7.8048e-01,  ..., -4.1628e-02,\n",
              "             2.3980e+00, -8.5802e-03],\n",
              "           ...,\n",
              "           [-9.3227e-01,  9.9062e-01, -7.8048e-01,  ..., -4.1628e-02,\n",
              "             2.3980e+00, -8.5802e-03],\n",
              "           [-9.3227e-01,  9.9062e-01, -7.8048e-01,  ..., -4.1628e-02,\n",
              "             2.3980e+00, -8.5802e-03],\n",
              "           [-9.3227e-01,  9.9062e-01, -7.8048e-01,  ..., -4.1628e-02,\n",
              "             2.3980e+00, -8.5802e-03]],\n",
              "  \n",
              "          [[ 5.8440e-01, -2.5084e-01, -1.5382e-01,  ..., -4.3649e-01,\n",
              "             7.1512e-02,  4.1531e-01],\n",
              "           [ 5.8440e-01, -2.5084e-01, -1.5382e-01,  ..., -4.3649e-01,\n",
              "             7.1512e-02,  4.1531e-01],\n",
              "           [ 5.8440e-01, -2.5084e-01, -1.5382e-01,  ..., -4.3649e-01,\n",
              "             7.1512e-02,  4.1531e-01],\n",
              "           ...,\n",
              "           [ 5.8440e-01, -2.5084e-01, -1.5382e-01,  ..., -4.3649e-01,\n",
              "             7.1512e-02,  4.1531e-01],\n",
              "           [ 5.8440e-01, -2.5084e-01, -1.5382e-01,  ..., -4.3649e-01,\n",
              "             7.1512e-02,  4.1531e-01],\n",
              "           [ 5.8440e-01, -2.5084e-01, -1.5382e-01,  ..., -4.3649e-01,\n",
              "             7.1512e-02,  4.1531e-01]],\n",
              "  \n",
              "          [[ 2.3439e-04, -1.6959e-01, -2.7203e-02,  ...,  1.6829e-01,\n",
              "            -7.3794e-03, -1.4289e-01],\n",
              "           [ 2.3439e-04, -1.6959e-01, -2.7203e-02,  ...,  1.6829e-01,\n",
              "            -7.3794e-03, -1.4289e-01],\n",
              "           [ 2.3439e-04, -1.6959e-01, -2.7203e-02,  ...,  1.6829e-01,\n",
              "            -7.3794e-03, -1.4289e-01],\n",
              "           ...,\n",
              "           [ 2.3439e-04, -1.6959e-01, -2.7203e-02,  ...,  1.6829e-01,\n",
              "            -7.3794e-03, -1.4289e-01],\n",
              "           [ 2.3439e-04, -1.6959e-01, -2.7203e-02,  ...,  1.6829e-01,\n",
              "            -7.3794e-03, -1.4289e-01],\n",
              "           [ 2.3439e-04, -1.6959e-01, -2.7203e-02,  ...,  1.6829e-01,\n",
              "            -7.3794e-03, -1.4289e-01]],\n",
              "  \n",
              "          [[ 1.8123e-01, -3.7311e-01,  1.4681e-02,  ..., -4.1123e-01,\n",
              "             6.6878e-02,  5.3961e-02],\n",
              "           [ 1.8123e-01, -3.7311e-01,  1.4681e-02,  ..., -4.1123e-01,\n",
              "             6.6878e-02,  5.3961e-02],\n",
              "           [ 1.8123e-01, -3.7311e-01,  1.4681e-02,  ..., -4.1123e-01,\n",
              "             6.6878e-02,  5.3961e-02],\n",
              "           ...,\n",
              "           [ 1.8123e-01, -3.7311e-01,  1.4681e-02,  ..., -4.1123e-01,\n",
              "             6.6878e-02,  5.3961e-02],\n",
              "           [ 1.8123e-01, -3.7311e-01,  1.4681e-02,  ..., -4.1123e-01,\n",
              "             6.6878e-02,  5.3961e-02],\n",
              "           [ 1.8123e-01, -3.7311e-01,  1.4681e-02,  ..., -4.1123e-01,\n",
              "             6.6878e-02,  5.3961e-02]]], grad_fn=<StackBackward>)),\n",
              " array([[[0.09609734, 0.09765528, 0.09881394, ..., 0.10154999,\n",
              "          0.10176244, 0.1019181 ],\n",
              "         [0.09607581, 0.09764614, 0.0988116 , ..., 0.10155577,\n",
              "          0.10176844, 0.10192422],\n",
              "         [0.09607501, 0.09764959, 0.09881544, ..., 0.10155351,\n",
              "          0.10176556, 0.1019209 ],\n",
              "         ...,\n",
              "         [0.09607108, 0.09763816, 0.09880567, ..., 0.10156045,\n",
              "          0.10177449, 0.10193145],\n",
              "         [0.09605779, 0.0976283 , 0.0987999 , ..., 0.1015668 ,\n",
              "          0.10178173, 0.10193931],\n",
              "         [0.09604424, 0.09761914, 0.09879489, ..., 0.10157269,\n",
              "          0.10178835, 0.10194643]],\n",
              " \n",
              "        [[0.09609734, 0.09765528, 0.09881394, ..., 0.10154999,\n",
              "          0.10176244, 0.1019181 ],\n",
              "         [0.09607581, 0.09764614, 0.0988116 , ..., 0.10155577,\n",
              "          0.10176844, 0.10192422],\n",
              "         [0.09607501, 0.09764959, 0.09881544, ..., 0.10155351,\n",
              "          0.10176556, 0.1019209 ],\n",
              "         ...,\n",
              "         [0.09607108, 0.09763816, 0.09880567, ..., 0.10156045,\n",
              "          0.10177449, 0.10193145],\n",
              "         [0.09605779, 0.0976283 , 0.0987999 , ..., 0.1015668 ,\n",
              "          0.10178173, 0.10193931],\n",
              "         [0.09604424, 0.09761914, 0.09879489, ..., 0.10157269,\n",
              "          0.10178835, 0.10194643]],\n",
              " \n",
              "        [[0.09609734, 0.09765528, 0.09881394, ..., 0.10154999,\n",
              "          0.10176244, 0.1019181 ],\n",
              "         [0.09607581, 0.09764614, 0.0988116 , ..., 0.10155577,\n",
              "          0.10176844, 0.10192422],\n",
              "         [0.09607501, 0.09764959, 0.09881544, ..., 0.10155351,\n",
              "          0.10176556, 0.1019209 ],\n",
              "         ...,\n",
              "         [0.09607108, 0.09763816, 0.09880567, ..., 0.10156045,\n",
              "          0.10177449, 0.10193145],\n",
              "         [0.09605779, 0.0976283 , 0.0987999 , ..., 0.1015668 ,\n",
              "          0.10178173, 0.10193931],\n",
              "         [0.09604424, 0.09761914, 0.09879489, ..., 0.10157269,\n",
              "          0.10178835, 0.10194643]],\n",
              " \n",
              "        ...,\n",
              " \n",
              "        [[0.09609734, 0.09765528, 0.09881394, ..., 0.10154999,\n",
              "          0.10176244, 0.1019181 ],\n",
              "         [0.09607581, 0.09764614, 0.0988116 , ..., 0.10155577,\n",
              "          0.10176844, 0.10192422],\n",
              "         [0.09607501, 0.09764959, 0.09881544, ..., 0.10155351,\n",
              "          0.10176556, 0.1019209 ],\n",
              "         ...,\n",
              "         [0.09607108, 0.09763816, 0.09880567, ..., 0.10156045,\n",
              "          0.10177449, 0.10193145],\n",
              "         [0.09605779, 0.0976283 , 0.0987999 , ..., 0.1015668 ,\n",
              "          0.10178173, 0.10193931],\n",
              "         [0.09604424, 0.09761914, 0.09879489, ..., 0.10157269,\n",
              "          0.10178835, 0.10194643]],\n",
              " \n",
              "        [[0.09609734, 0.09765528, 0.09881394, ..., 0.10154999,\n",
              "          0.10176244, 0.1019181 ],\n",
              "         [0.09607581, 0.09764614, 0.0988116 , ..., 0.10155577,\n",
              "          0.10176844, 0.10192422],\n",
              "         [0.09607501, 0.09764959, 0.09881544, ..., 0.10155351,\n",
              "          0.10176556, 0.1019209 ],\n",
              "         ...,\n",
              "         [0.09607108, 0.09763816, 0.09880567, ..., 0.10156045,\n",
              "          0.10177449, 0.10193145],\n",
              "         [0.09605779, 0.0976283 , 0.0987999 , ..., 0.1015668 ,\n",
              "          0.10178173, 0.10193931],\n",
              "         [0.09604424, 0.09761914, 0.09879489, ..., 0.10157269,\n",
              "          0.10178835, 0.10194643]],\n",
              " \n",
              "        [[0.09609734, 0.09765528, 0.09881394, ..., 0.10154999,\n",
              "          0.10176244, 0.1019181 ],\n",
              "         [0.09607581, 0.09764614, 0.0988116 , ..., 0.10155577,\n",
              "          0.10176844, 0.10192422],\n",
              "         [0.09607501, 0.09764959, 0.09881544, ..., 0.10155351,\n",
              "          0.10176556, 0.1019209 ],\n",
              "         ...,\n",
              "         [0.09607108, 0.09763816, 0.09880567, ..., 0.10156045,\n",
              "          0.10177449, 0.10193145],\n",
              "         [0.09605779, 0.0976283 , 0.0987999 , ..., 0.1015668 ,\n",
              "          0.10178173, 0.10193931],\n",
              "         [0.09604424, 0.09761914, 0.09879489, ..., 0.10157269,\n",
              "          0.10178835, 0.10194643]]], dtype=float32))"
            ]
          },
          "metadata": {
            "tags": []
          },
          "execution_count": 296
        }
      ]
    },
    {
      "cell_type": "code",
      "metadata": {
        "id": "TfOyaS3mlA6f",
        "colab_type": "code",
        "colab": {}
      },
      "source": [
        ""
      ],
      "execution_count": 0,
      "outputs": []
    }
  ]
}