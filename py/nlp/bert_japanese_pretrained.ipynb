{
  "nbformat": 4,
  "nbformat_minor": 0,
  "metadata": {
    "colab": {
      "name": "bert_japanese_pretrained.ipynb",
      "provenance": [],
      "collapsed_sections": []
    },
    "kernelspec": {
      "name": "python3",
      "display_name": "Python 3"
    }
  },
  "cells": [
    {
      "cell_type": "code",
      "metadata": {
        "id": "Smf8Wsn1PvJv",
        "colab_type": "code",
        "colab": {}
      },
      "source": [
        "!pip install pytorch_pretrained_bert\n",
        "!pip install pyknp "
      ],
      "execution_count": 0,
      "outputs": []
    },
    {
      "cell_type": "code",
      "metadata": {
        "id": "Ugvwn0q9uZko",
        "colab_type": "code",
        "colab": {}
      },
      "source": [
        "!wget http://lotus.kuee.kyoto-u.ac.jp/nl-resource/jumanpp/jumanpp-1.02.tar.xz"
      ],
      "execution_count": 0,
      "outputs": []
    },
    {
      "cell_type": "code",
      "metadata": {
        "id": "_-jtCDoNua65",
        "colab_type": "code",
        "colab": {}
      },
      "source": [
        "!tar Jxfv jumanpp-1.02.tar.xz"
      ],
      "execution_count": 0,
      "outputs": []
    },
    {
      "cell_type": "code",
      "metadata": {
        "id": "nw1GpvOIueOx",
        "colab_type": "code",
        "colab": {
          "base_uri": "https://localhost:8080/",
          "height": 34
        },
        "outputId": "650bb7c5-30e7-401f-bc39-639668c8e5ae"
      },
      "source": [
        "%cd jumanpp-1.02"
      ],
      "execution_count": 16,
      "outputs": [
        {
          "output_type": "stream",
          "text": [
            "/content/jumanpp-1.02\n"
          ],
          "name": "stdout"
        }
      ]
    },
    {
      "cell_type": "code",
      "metadata": {
        "id": "Y36FXa-vujhZ",
        "colab_type": "code",
        "colab": {}
      },
      "source": [
        "!./configure"
      ],
      "execution_count": 0,
      "outputs": []
    },
    {
      "cell_type": "code",
      "metadata": {
        "id": "GCiajZIjvaQo",
        "colab_type": "code",
        "colab": {}
      },
      "source": [
        "!make"
      ],
      "execution_count": 0,
      "outputs": []
    },
    {
      "cell_type": "code",
      "metadata": {
        "id": "2CTNBc-Xvdzg",
        "colab_type": "code",
        "colab": {}
      },
      "source": [
        "!sudo make install"
      ],
      "execution_count": 0,
      "outputs": []
    },
    {
      "cell_type": "code",
      "metadata": {
        "id": "vohlqk91w9NJ",
        "colab_type": "code",
        "colab": {
          "base_uri": "https://localhost:8080/",
          "height": 34
        },
        "outputId": "647675ac-ac55-4459-b435-799eb36f88f9"
      },
      "source": [
        "%cd .."
      ],
      "execution_count": 32,
      "outputs": [
        {
          "output_type": "stream",
          "text": [
            "/content\n"
          ],
          "name": "stdout"
        }
      ]
    },
    {
      "cell_type": "code",
      "metadata": {
        "id": "HlAQJOUlP3lw",
        "colab_type": "code",
        "colab": {}
      },
      "source": [
        "# ref:https://github.com/yagays/pytorch_bert_japanese\n",
        "\n",
        "from pathlib import Path\n",
        "\n",
        "import numpy as np\n",
        "import torch\n",
        "from pytorch_pretrained_bert import BertTokenizer, BertModel\n",
        "from pyknp import Juman\n",
        "\n",
        "\n",
        "class JumanTokenizer():\n",
        "    def __init__(self):\n",
        "        self.juman = Juman()\n",
        "\n",
        "    def tokenize(self, text):\n",
        "        result = self.juman.analysis(text)\n",
        "        return [mrph.midasi for mrph in result.mrph_list()]\n",
        "\n",
        "\n",
        "class BertWithJumanModel():\n",
        "    def __init__(self, bert_path, vocab_file_name=\"vocab.txt\", use_cuda=False):\n",
        "        self.juman_tokenizer = JumanTokenizer()\n",
        "        self.model = BertModel.from_pretrained(bert_path)\n",
        "        self.bert_tokenizer = BertTokenizer(Path(bert_path) / vocab_file_name,\n",
        "                                            do_lower_case=False, do_basic_tokenize=False)\n",
        "        self.use_cuda = use_cuda\n",
        "\n",
        "    def _preprocess_text(self, text):\n",
        "        return text.replace(\" \", \"\")  # for Juman\n",
        "\n",
        "    def get_sentence_embedding(self, text, pooling_layer=-2, pooling_strategy=\"REDUCE_MEAN\"):\n",
        "        preprocessed_text = self._preprocess_text(text)\n",
        "        tokens = self.juman_tokenizer.tokenize(preprocessed_text)\n",
        "        bert_tokens = self.bert_tokenizer.tokenize(\" \".join(tokens))\n",
        "        ids = self.bert_tokenizer.convert_tokens_to_ids([\"[CLS]\"] + bert_tokens[:126] + [\"[SEP]\"]) # max_seq_len-2\n",
        "        tokens_tensor = torch.tensor(ids).reshape(1, -1)\n",
        "\n",
        "        if self.use_cuda:\n",
        "            tokens_tensor = tokens_tensor.to('cuda')\n",
        "            self.model.to('cuda')\n",
        "\n",
        "        self.model.eval()\n",
        "        with torch.no_grad():\n",
        "            all_encoder_layers, _ = self.model(tokens_tensor)\n",
        "\n",
        "        embedding = all_encoder_layers[pooling_layer].cpu().numpy()[0]\n",
        "        if pooling_strategy == \"REDUCE_MEAN\":\n",
        "            return np.mean(embedding, axis=0)\n",
        "        elif pooling_strategy == \"REDUCE_MAX\":\n",
        "            return np.max(embedding, axis=0)\n",
        "        elif pooling_strategy == \"REDUCE_MEAN_MAX\":\n",
        "            return np.r_[np.max(embedding, axis=0), np.mean(embedding, axis=0)]\n",
        "        elif pooling_strategy == \"CLS_TOKEN\":\n",
        "            return embedding[0]\n",
        "        else:\n",
        "            raise ValueError(\"specify valid pooling_strategy: {REDUCE_MEAN, REDUCE_MAX, REDUCE_MEAN_MAX, CLS_TOKEN}\")"
      ],
      "execution_count": 0,
      "outputs": []
    },
    {
      "cell_type": "code",
      "metadata": {
        "id": "xrK298cyQB6s",
        "colab_type": "code",
        "colab": {
          "base_uri": "https://localhost:8080/",
          "height": 272
        },
        "outputId": "f8abdb7b-c6f0-473c-c828-0a9a44a5afb5"
      },
      "source": [
        "!wget http://nlp.ist.i.kyoto-u.ac.jp/DLcounter/lime.cgi?down=http://nlp.ist.i.kyoto-u.ac.jp/nl-resource/JapaneseBertPretrainedModel/Japanese_L-12_H-768_A-12_E-30_BPE.zip&name=Japanese_L-12_H-768_A-12_E-30_BPE.zip"
      ],
      "execution_count": 7,
      "outputs": [
        {
          "output_type": "stream",
          "text": [
            "--2020-01-16 12:08:42--  http://nlp.ist.i.kyoto-u.ac.jp/DLcounter/lime.cgi?down=http://nlp.ist.i.kyoto-u.ac.jp/nl-resource/JapaneseBertPretrainedModel/Japanese_L-12_H-768_A-12_E-30_BPE.zip\n",
            "Resolving nlp.ist.i.kyoto-u.ac.jp (nlp.ist.i.kyoto-u.ac.jp)... 133.3.252.171\n",
            "Connecting to nlp.ist.i.kyoto-u.ac.jp (nlp.ist.i.kyoto-u.ac.jp)|133.3.252.171|:80... connected.\n",
            "HTTP request sent, awaiting response... 302 Found\n",
            "Location: http://nlp.ist.i.kyoto-u.ac.jp/nl-resource/JapaneseBertPretrainedModel/Japanese_L-12_H-768_A-12_E-30_BPE.zip [following]\n",
            "--2020-01-16 12:08:43--  http://nlp.ist.i.kyoto-u.ac.jp/nl-resource/JapaneseBertPretrainedModel/Japanese_L-12_H-768_A-12_E-30_BPE.zip\n",
            "Reusing existing connection to nlp.ist.i.kyoto-u.ac.jp:80.\n",
            "HTTP request sent, awaiting response... 200 OK\n",
            "Length: 1627355542 (1.5G) [application/zip]\n",
            "Saving to: ‘lime.cgi?down=http:%2F%2Fnlp.ist.i.kyoto-u.ac.jp%2Fnl-resource%2FJapaneseBertPretrainedModel%2FJapanese_L-12_H-768_A-12_E-30_BPE.zip’\n",
            "\n",
            "lime.cgi?down=http: 100%[===================>]   1.51G   251KB/s    in 1h 48m  \n",
            "\n",
            "2020-01-16 13:57:36 (243 KB/s) - ‘lime.cgi?down=http:%2F%2Fnlp.ist.i.kyoto-u.ac.jp%2Fnl-resource%2FJapaneseBertPretrainedModel%2FJapanese_L-12_H-768_A-12_E-30_BPE.zip’ saved [1627355542/1627355542]\n",
            "\n"
          ],
          "name": "stdout"
        }
      ]
    },
    {
      "cell_type": "code",
      "metadata": {
        "id": "AEKhyOH0QW9k",
        "colab_type": "code",
        "colab": {
          "base_uri": "https://localhost:8080/",
          "height": 51
        },
        "outputId": "c973b73b-319a-44c6-c420-c76fcefc17fe"
      },
      "source": [
        "ls"
      ],
      "execution_count": 8,
      "outputs": [
        {
          "output_type": "stream",
          "text": [
            "'lime.cgi?down=http:%2F%2Fnlp.ist.i.kyoto-u.ac.jp%2Fnl-resource%2FJapaneseBertPretrainedModel%2FJapanese_L-12_H-768_A-12_E-30_BPE.zip'\n",
            " \u001b[0m\u001b[01;34msample_data\u001b[0m/\n"
          ],
          "name": "stdout"
        }
      ]
    },
    {
      "cell_type": "code",
      "metadata": {
        "id": "dg0G4TM5uAvU",
        "colab_type": "code",
        "colab": {
          "base_uri": "https://localhost:8080/",
          "height": 153
        },
        "outputId": "d955d375-53e8-4509-b4ee-9e21fd607b58"
      },
      "source": [
        "!unzip 'lime.cgi?down=http:%2F%2Fnlp.ist.i.kyoto-u.ac.jp%2Fnl-resource%2FJapaneseBertPretrainedModel%2FJapanese_L-12_H-768_A-12_E-30_BPE.zip'"
      ],
      "execution_count": 9,
      "outputs": [
        {
          "output_type": "stream",
          "text": [
            "Archive:  lime.cgi?down=http:%2F%2Fnlp.ist.i.kyoto-u.ac.jp%2Fnl-resource%2FJapaneseBertPretrainedModel%2FJapanese_L-12_H-768_A-12_E-30_BPE.zip\n",
            "  inflating: Japanese_L-12_H-768_A-12_E-30_BPE/README.txt  \n",
            "  inflating: Japanese_L-12_H-768_A-12_E-30_BPE/bert_config.json  \n",
            "  inflating: Japanese_L-12_H-768_A-12_E-30_BPE/bert_model.ckpt.data-00000-of-00001  \n",
            "  inflating: Japanese_L-12_H-768_A-12_E-30_BPE/bert_model.ckpt.index  \n",
            "  inflating: Japanese_L-12_H-768_A-12_E-30_BPE/bert_model.ckpt.meta  \n",
            "  inflating: Japanese_L-12_H-768_A-12_E-30_BPE/pytorch_model.bin  \n",
            "  inflating: Japanese_L-12_H-768_A-12_E-30_BPE/vocab.txt  \n"
          ],
          "name": "stdout"
        }
      ]
    },
    {
      "cell_type": "code",
      "metadata": {
        "id": "pKbfTHGRuD1x",
        "colab_type": "code",
        "colab": {
          "base_uri": "https://localhost:8080/",
          "height": 102
        },
        "outputId": "d8b73aab-7e96-4786-cb9c-bb3543c55d7b"
      },
      "source": [
        "ls"
      ],
      "execution_count": 31,
      "outputs": [
        {
          "output_type": "stream",
          "text": [
            "aclocal.m4      \u001b[0m\u001b[01;32mconfig.sub\u001b[0m*   \u001b[01;34mdict-build\u001b[0m/         Makefile      README.md\n",
            "\u001b[01;32mcompile\u001b[0m*        \u001b[01;32mconfigure\u001b[0m*    \u001b[01;32mINSTALL\u001b[0m*            Makefile.am   \u001b[01;34msample\u001b[0m/\n",
            "\u001b[01;32mconfig.guess\u001b[0m*   configure.ac  \u001b[01;32minstall-sh\u001b[0m*         Makefile.in   \u001b[01;34mscript\u001b[0m/\n",
            "config.log      \u001b[01;32mCOPYING\u001b[0m*      jumanpp-manual.pdf  \u001b[01;32mmissing\u001b[0m*      \u001b[01;34msrc\u001b[0m/\n",
            "\u001b[01;32mconfig.status\u001b[0m*  \u001b[01;32mdepcomp\u001b[0m*      \u001b[01;34mjumanpp-resource\u001b[0m/   README_ja.md  VERSION\n"
          ],
          "name": "stdout"
        }
      ]
    },
    {
      "cell_type": "code",
      "metadata": {
        "id": "JF5HSSADuG6x",
        "colab_type": "code",
        "colab": {}
      },
      "source": [
        "bert = BertWithJumanModel(\"./Japanese_L-12_H-768_A-12_E-30_BPE\")"
      ],
      "execution_count": 0,
      "outputs": []
    },
    {
      "cell_type": "code",
      "metadata": {
        "id": "Vbu26Ta0wvkI",
        "colab_type": "code",
        "colab": {
          "base_uri": "https://localhost:8080/",
          "height": 1000
        },
        "outputId": "ed4fb308-0083-41e2-f007-08f924d95538"
      },
      "source": [
        "bert.get_sentence_embedding(\"こんにちは\")"
      ],
      "execution_count": 141,
      "outputs": [
        {
          "output_type": "execute_result",
          "data": {
            "text/plain": [
              "array([ 4.67476666e-01,  2.79777676e-01,  2.95888126e-01, -9.14181709e-01,\n",
              "        9.01693702e-01, -4.95860010e-01,  2.11472720e-01,  2.33361963e-02,\n",
              "        7.12771416e-01,  1.84324998e-02, -7.49753952e-01,  1.17939696e-01,\n",
              "        8.65387738e-01, -9.99620259e-01, -2.05743164e-01, -1.62905127e-01,\n",
              "       -8.99593353e-01, -7.32729673e-01,  8.59157965e-02,  1.18994355e-01,\n",
              "       -3.21010470e-01,  2.71281391e-01, -2.75354385e-01,  9.67957973e-01,\n",
              "       -1.94003999e-01, -8.63049865e-01,  2.44561285e-01,  4.09338087e-01,\n",
              "       -1.03395915e+00, -1.72082216e-01, -1.38608173e-01,  5.66869617e-01,\n",
              "       -3.55134338e-01,  2.90463507e-01,  5.24332762e-01, -1.75024346e-01,\n",
              "        9.08129036e-01, -2.12269381e-01, -2.25464143e-02, -9.75623250e-01,\n",
              "       -2.66742527e-01,  1.35401934e-01,  5.61718568e-02, -3.02916497e-01,\n",
              "        1.49506778e-02, -8.82368684e-01,  3.87708634e-01, -2.05565766e-01,\n",
              "        9.98200476e-03, -1.92200989e-01, -2.80782133e-01, -1.31892249e-01,\n",
              "       -4.17766035e-01,  2.00553611e-01,  4.66662705e-01,  7.29846135e-02,\n",
              "       -2.94877827e-01, -9.42898244e-02, -3.40864211e-01, -1.84920073e-01,\n",
              "        3.89162041e-02, -4.36282009e-01,  3.83329064e-01,  4.63713080e-01,\n",
              "        5.84816560e-02, -4.18281406e-01,  5.40922046e-01,  2.46229380e-01,\n",
              "       -2.78752565e-01,  5.22754729e-01,  4.89693955e-02, -3.59612405e-01,\n",
              "       -8.07940781e-01, -3.94921005e-02,  4.35060151e-02, -2.15363190e-01,\n",
              "        3.01522613e-01, -2.59610832e-01, -9.45300877e-01, -3.39829773e-01,\n",
              "       -4.54257727e-01, -4.98100102e-01, -3.68916184e-01, -2.73655236e-01,\n",
              "       -3.61953080e-01,  8.28783393e-01,  4.42866832e-02, -1.10268548e-01,\n",
              "        6.99414134e-01,  6.85474098e-01, -3.08364928e-02,  1.51407316e-01,\n",
              "        6.01631217e-02,  1.00057244e+00, -5.01495183e-01,  6.72455430e-01,\n",
              "       -9.90936682e-02, -3.47602755e-01, -1.09619237e-02, -9.40098763e+00,\n",
              "        2.96435468e-02, -3.41509283e-01, -2.74266809e-01,  8.75656784e-01,\n",
              "       -2.48213843e-01, -4.53454107e-01, -6.70708537e-01, -3.20770800e-01,\n",
              "        2.28166938e-01, -6.12972200e-01, -5.52145354e-02, -1.26933947e-01,\n",
              "        1.70996159e-01,  5.07160425e-01, -3.84913027e-01,  1.13906071e-01,\n",
              "        1.13176298e+00, -1.59546509e-01,  7.13988319e-02,  1.81008667e-01,\n",
              "       -4.63026196e-01,  3.76427233e-01,  1.31180763e-01, -6.49924278e-01,\n",
              "        4.35361788e-02, -7.01615512e-01, -2.49365587e-02,  2.06575200e-01,\n",
              "       -1.31125480e-01, -4.83535826e-02,  5.09089053e-01,  4.66452539e-03,\n",
              "       -5.73930442e-01, -6.12758577e-01, -3.36413473e-01,  2.88371444e-01,\n",
              "       -6.06634505e-02,  5.54708362e-01,  6.63370937e-02, -1.06708482e-01,\n",
              "        6.87532485e-01, -1.03080392e+00,  7.35924318e-02,  1.95110887e-01,\n",
              "        1.81016237e-01,  3.39387804e-01, -3.96527909e-02,  1.28773749e-01,\n",
              "        5.92165947e-01, -5.77164769e-01, -7.15991795e-01,  9.30311382e-01,\n",
              "       -7.06317961e-01, -3.02999943e-01,  1.06189452e-01, -5.06717265e-01,\n",
              "       -6.92365408e-01, -2.51777828e-01,  1.35125503e-01,  4.61303622e-01,\n",
              "        7.11772084e-01,  1.49411727e-02, -1.94806784e-01,  4.85568762e-01,\n",
              "       -3.39758515e-01,  6.12381399e-02, -1.11414529e-01, -3.05692375e-01,\n",
              "       -2.14414686e-01,  1.67045668e-01,  6.70631766e-01,  6.33426070e-01,\n",
              "       -2.98407763e-01,  1.12545979e+00, -9.92100596e-01, -1.19194709e-01,\n",
              "       -2.89865375e-01, -1.05360530e-01,  5.04100621e-01,  1.10925400e+00,\n",
              "        3.45788777e-01, -2.36218736e-01,  1.96167395e-01,  1.34259570e+00,\n",
              "        7.69289851e-01,  3.28819901e-01,  3.49053949e-01,  2.50860363e-01,\n",
              "       -3.88166085e-02,  1.32248855e+00, -3.04108381e-01,  2.19102904e-01,\n",
              "        1.21608043e+00, -3.97847801e-01, -1.17980897e-01, -6.01850331e-01,\n",
              "        4.61822122e-01, -2.95865119e-01,  1.00770283e+00, -7.83062816e-01,\n",
              "        1.08235978e-01, -1.35164052e-01,  8.54796708e-01,  5.94741821e-01,\n",
              "        3.34507287e-01,  7.29934096e-01, -4.01337631e-02,  1.93303764e-01,\n",
              "        4.17532772e-02, -2.57462561e-01,  6.51762128e-01, -1.60350299e+00,\n",
              "       -1.12688318e-01,  5.66292405e-01, -5.57995975e-01,  8.27849805e-02,\n",
              "        2.44370222e-01,  3.86316776e-01,  2.70030200e-02,  7.17972144e-02,\n",
              "        1.04114425e+00, -1.31090331e+00,  1.10929966e-01,  2.13591427e-01,\n",
              "        2.62768447e-01, -1.36279121e-01,  9.59553719e-01,  5.30155122e-01,\n",
              "       -5.06735504e-01, -3.71778429e-01, -2.63673421e-02, -2.03064173e-01,\n",
              "       -6.67807311e-02, -1.00689650e-01,  3.88693601e-01,  1.09865382e-01,\n",
              "       -2.69416392e-01, -7.66025763e-03, -7.85882950e-01, -6.65728927e-01,\n",
              "        4.85700756e-01, -1.11761570e-01, -1.13369560e+00, -1.09840810e-01,\n",
              "        2.44327635e-01, -2.14596510e-01, -7.82477438e-01, -5.12833476e-01,\n",
              "        8.61065269e-01,  6.22723699e-01,  8.64424556e-02,  2.36250609e-02,\n",
              "        3.85774702e-01, -1.73001483e-01, -2.17270404e-01, -1.73246026e-01,\n",
              "        1.18749988e+00,  2.62332708e-01,  1.89335316e-01,  5.13463259e-01,\n",
              "        3.10162187e-01, -1.10378541e-01,  8.12255859e-01, -8.36506207e-03,\n",
              "        4.89637613e-01, -4.89414752e-01, -1.78535819e-01,  2.70746768e-01,\n",
              "        4.02177721e-01, -2.36621469e-01, -8.56294453e-01,  1.84734732e-01,\n",
              "        7.27761269e-01, -3.46687347e-01, -4.74433184e-01, -9.84891534e-01,\n",
              "        1.62877500e-01,  1.79113820e-01,  6.61591440e-02, -4.25820112e-01,\n",
              "       -2.83113331e-01,  9.28140521e-01, -2.06912249e-01,  2.37917736e-01,\n",
              "       -1.90426856e-01, -6.87159717e-01,  8.02334666e-01, -1.95157960e-01,\n",
              "       -2.24966958e-01,  8.84315193e-01, -6.35774016e-01, -1.01102814e-01,\n",
              "       -7.77212024e-01, -3.24839830e-01, -2.04122260e-01,  8.42647910e-01,\n",
              "       -3.54681045e-01,  5.87410033e-01, -6.93896651e-01, -5.21131568e-02,\n",
              "        6.68807104e-02,  4.50390428e-01,  6.00350142e-01,  2.41836399e-01,\n",
              "        5.82405925e-01,  2.83243805e-02,  3.71109962e-01,  1.01766324e+00,\n",
              "       -2.83761442e-01, -1.11707170e-02,  3.02493483e-01, -2.90603608e-01,\n",
              "       -1.13440752e+00,  1.36580980e+00,  4.02566046e-01, -1.52217612e-01,\n",
              "        7.53931925e-02,  2.74106443e-01, -6.30790651e-01,  7.99728632e-02,\n",
              "        6.21001124e-01,  4.52843279e-01,  4.18270648e-01,  1.00057340e+00,\n",
              "       -1.18434809e-01, -3.00770044e-01, -1.79040790e-01, -7.34813988e-01,\n",
              "       -2.49834228e-02,  2.85131812e-01, -9.18963432e-01, -9.39706206e-01,\n",
              "        1.66511464e+00,  2.75404662e-01, -9.16054174e-02, -1.51093110e-01,\n",
              "       -1.42820343e-01,  3.76690805e-01,  6.38807639e-02, -2.56923765e-01,\n",
              "        1.48475334e-01, -1.52876660e-01,  1.46657974e-01, -5.29331803e-01,\n",
              "       -1.14693952e+00, -4.59938198e-01, -7.16735423e-01, -2.80437768e-01,\n",
              "       -3.43740255e-01, -5.47696590e-01,  2.24957153e-01, -1.54127300e+00,\n",
              "        6.02548003e-01, -7.54434615e-02,  1.58178464e-01, -2.98743248e-01,\n",
              "       -4.77538168e-01,  6.89778943e-03,  6.94932401e-01,  7.81336904e-01,\n",
              "       -9.88653958e-01, -5.77057719e-01, -6.39695287e-01,  7.22939432e-01,\n",
              "       -3.48541588e-01, -2.40866486e-02,  6.80350140e-02, -7.61785150e-01,\n",
              "       -3.68496865e-01, -2.90631447e-02,  9.28229630e-01,  6.22761369e-01,\n",
              "        3.95556688e-01, -1.00756752e+00, -9.04863060e-01, -7.26650894e-01,\n",
              "        2.51889229e-04, -7.91690052e-01, -2.32460335e-01,  4.06714916e-01,\n",
              "       -8.87798011e-01, -1.01348472e+00,  6.70672536e-01,  1.03204215e+00,\n",
              "       -2.24738438e-02, -7.25922883e-02,  7.53539681e-01,  3.03630624e-02,\n",
              "        1.46288186e-01, -6.04276299e-01, -2.84843057e-01,  1.01671529e+00,\n",
              "        4.29451764e-02,  1.33864850e-01, -8.20607170e-02, -4.38749224e-01,\n",
              "        2.59459257e-01,  4.90402997e-01,  3.71680409e-01, -1.81868777e-01,\n",
              "        3.35507810e-01,  1.50142998e-01,  3.90195131e-01,  1.37001848e+00,\n",
              "        2.40376920e-01,  4.95724112e-01, -8.52114975e-01, -1.21940240e-01,\n",
              "       -1.71133913e-02, -1.14251670e-04, -1.19709969e-01, -2.96291620e-01,\n",
              "       -5.14885545e-01,  6.66943908e-01,  5.10266662e-01,  4.27424610e-01,\n",
              "        5.96982241e-02,  6.42771780e-01,  3.33371580e-01,  7.60723650e-01,\n",
              "        3.56929824e-02,  1.89936137e+00,  6.19047880e-02,  8.25070217e-02,\n",
              "       -4.10505593e-01,  6.18860841e-01, -8.42095166e-03,  4.84247021e-02,\n",
              "        4.27481353e-01,  1.43762302e+00, -1.06357920e+00,  7.50539303e-02,\n",
              "        3.57543409e-01, -4.02915329e-01, -4.50960726e-01, -9.20056775e-02,\n",
              "        8.87767911e-01, -2.33153701e-01,  1.27845228e-01, -7.82013774e-01,\n",
              "        7.67905354e-01, -2.83041030e-01, -1.19645730e-01,  1.30177900e-01,\n",
              "       -6.38086438e-01,  4.09468472e-01,  7.65728354e-01, -8.87730494e-02,\n",
              "        3.94772977e-01, -8.09036553e-01,  5.78460563e-03,  2.36623481e-01,\n",
              "        6.32405162e-01, -9.04385686e-01,  7.65093490e-02, -3.58822614e-01,\n",
              "        5.77474535e-01,  2.20798567e-01,  3.14629108e-01, -1.94543153e-01,\n",
              "        5.20593300e-02,  1.04537189e+00,  3.37072760e-01, -7.41582751e-01,\n",
              "       -1.05054462e+00, -7.19452977e-01, -6.21535540e-01,  3.42634439e-01,\n",
              "        3.91135395e-01,  9.35681045e-01, -8.48416328e-01,  7.86017358e-01,\n",
              "       -2.17867762e-01,  1.18813574e+00, -8.00995231e-02,  1.07187335e-03,\n",
              "       -4.25535202e-01,  1.85195684e-01, -6.71010852e-01,  2.27774650e-01,\n",
              "       -7.52952218e-01, -1.02744842e+00, -6.65185511e-01,  1.53163314e-01,\n",
              "       -3.03342789e-01,  2.97614336e-01,  8.15171063e-01,  3.82012218e-01,\n",
              "        2.79986084e-01, -9.36388969e-02, -6.48062527e-01, -8.24116528e-01,\n",
              "        5.48888333e-02,  4.96256769e-01,  4.65809047e-01,  3.05419177e-01,\n",
              "       -8.99268270e-01,  6.60375774e-01,  1.88937411e-01,  5.01032770e-01,\n",
              "       -6.12387300e-01, -2.96717793e-01,  6.69302046e-03, -1.23616993e-01,\n",
              "       -1.09689897e-02,  6.09974682e-01,  1.43021345e-01, -4.34984595e-01,\n",
              "        1.22273728e-01,  1.10001636e+00, -1.44964140e-02,  1.33193824e-02,\n",
              "       -3.71964574e-01,  6.94143653e-01,  6.17099166e-01,  1.30412197e+00,\n",
              "        4.83920902e-01, -7.70592332e-01, -6.37701452e-01,  8.06399941e-01,\n",
              "       -3.97797465e-01, -1.67525202e-01, -9.68888462e-01,  5.02800405e-01,\n",
              "       -6.44311428e-01,  4.46160644e-01,  1.57562256e-01, -2.78550297e-01,\n",
              "        5.16049027e-01, -1.07177697e-01, -7.94099569e-01,  5.17444134e-01,\n",
              "       -4.45765406e-01,  2.64712811e-01, -3.76129806e-01, -2.75381058e-01,\n",
              "        8.26181322e-02, -2.74972528e-01, -6.13028169e-01,  3.45333576e-01,\n",
              "       -2.39158198e-01,  5.04487097e-01,  7.89252818e-01,  6.90258443e-02,\n",
              "       -4.26577896e-01, -3.91849458e-01,  4.93775427e-01, -4.21591461e-01,\n",
              "       -9.60895240e-01,  9.49803948e-01,  7.45362878e-01,  8.90052170e-02,\n",
              "        1.97762713e-01, -3.53117347e-01,  3.71392298e+00, -3.49312872e-01,\n",
              "       -7.65505284e-02, -3.65316004e-01, -6.86656833e-01,  4.14416611e-01,\n",
              "       -4.32706065e-02, -5.87942183e-01,  3.34252536e-01,  1.19013774e+00,\n",
              "        1.67471498e-01, -9.37174320e-01,  3.93510759e-01,  2.43052751e-01,\n",
              "       -6.52050793e-01, -7.50905424e-02, -3.35041702e-01, -7.01471210e-01,\n",
              "        6.67686239e-02,  5.85728645e-01,  2.12761134e-01, -8.99423957e-01,\n",
              "       -4.28629547e-01,  9.93391871e-01, -7.57596016e-01, -6.92610919e-01,\n",
              "       -3.59599888e-01,  4.32321697e-01,  5.84775269e-01, -1.03561103e+00,\n",
              "       -2.39732236e-01,  2.17801616e-01,  2.27703094e-01, -5.33888221e-01,\n",
              "       -1.98602110e-01,  7.01963663e-01,  2.98195153e-01,  2.47219846e-01,\n",
              "        5.90744555e-01, -3.56291413e-01,  3.05700779e-01, -5.23564160e-01,\n",
              "       -1.33210778e-01, -3.80072266e-01, -8.31447959e-01,  4.96706180e-02,\n",
              "       -1.82765290e-01,  9.38937441e-02, -4.46447991e-02, -2.27711558e-01,\n",
              "       -1.78616449e-01,  9.19349313e-01, -3.76384079e-01, -1.78274259e-01,\n",
              "        1.74914729e-02,  9.18747425e-01, -8.79761390e-03, -4.71416235e-01,\n",
              "        4.08601940e-01,  1.57307714e-01, -8.69773865e-01, -5.18061519e-01,\n",
              "        7.54248500e-01, -6.32465661e-01, -2.94478565e-01,  8.64994153e-02,\n",
              "        5.36665738e-01,  3.62252384e-01,  6.65871859e-01, -6.15835972e-02,\n",
              "        6.27151728e-01,  4.16073799e-01, -1.13934681e-01, -2.34510586e-01,\n",
              "       -1.04244098e-01,  3.71399343e-01, -1.20097145e-01, -3.69088829e-01,\n",
              "       -6.11251593e-01, -8.15217942e-02,  3.48740250e-01, -2.58141518e-01,\n",
              "       -3.30276072e-01,  3.41837466e-01,  2.08922192e-01,  3.34359646e-01,\n",
              "        3.49268824e-01,  5.79676509e-01,  7.64827788e-01,  4.56494045e+00,\n",
              "       -3.05344880e-01, -8.52550149e-01,  1.48094118e-01,  7.45339086e-03,\n",
              "       -1.71924829e-02, -8.58527303e-01,  2.32426003e-01,  1.66908368e-01,\n",
              "        4.51487213e-01,  6.70515060e-01,  2.13764548e-01,  6.60057425e-01,\n",
              "       -2.58001029e-01, -1.36979774e-01, -6.60937905e-01,  1.02190770e-01,\n",
              "       -7.53020525e-01, -7.25401282e-01, -9.90130782e-01,  1.35357022e+00,\n",
              "       -6.54180586e-01, -8.32999051e-01,  4.06232595e-01,  1.99865595e-01,\n",
              "        4.75722551e-02,  6.13904595e-02, -4.14254099e-01,  9.82146487e-02,\n",
              "       -7.41225898e-01,  9.67815399e-01, -4.32406515e-01, -1.27911544e+00,\n",
              "        3.30409706e-01, -7.45697200e-01,  8.70099664e-01,  5.96760392e-01,\n",
              "        4.21881288e-01,  5.76531768e-01,  1.72050178e-01,  6.25744224e-01,\n",
              "       -7.91746438e-01,  4.99142498e-01,  2.94871062e-01, -3.26968014e-01,\n",
              "       -1.59996778e-01,  1.20534933e+00,  1.45269871e-01,  4.50560719e-01,\n",
              "       -3.02536692e-02, -8.57772529e-01, -5.52742183e-01, -4.68675978e-02,\n",
              "        3.11316699e-01,  1.94879830e-01,  2.33825874e-02, -5.52227616e-01,\n",
              "       -8.55807006e-01, -2.92731404e-01, -1.09389007e-01,  2.25840354e+00,\n",
              "        9.53802317e-02,  1.51957601e-01,  1.03157498e-01, -1.28449515e-01,\n",
              "       -7.60947704e-01, -8.26205373e-01, -2.96576649e-01, -7.98031032e-01,\n",
              "       -2.12880686e-01,  5.53956509e-01,  6.02331877e-01,  8.07858467e-01,\n",
              "       -5.93473554e-01,  3.94169420e-01, -5.74940026e-01, -7.99556077e-02,\n",
              "        1.33154288e-01, -1.81237608e-02, -6.41572714e-01,  1.08684707e+00,\n",
              "        7.48535335e-01,  4.58681822e-01,  6.32586956e-01, -1.74614996e-01,\n",
              "       -3.16940516e-01,  8.78312960e-02, -6.40936196e-01, -1.71612769e-01,\n",
              "        3.62677634e-01, -8.78000259e-01,  8.83221269e-01,  6.41707107e-02,\n",
              "        2.92256564e-01, -1.30122080e-01,  4.26928908e-01,  1.29907802e-01,\n",
              "       -7.27590442e-01,  2.04050153e-01, -1.49429038e-01, -1.39428210e+00,\n",
              "       -4.85240132e-01,  1.22642562e-01,  4.70334403e-02, -7.45123506e-01,\n",
              "       -4.65395778e-01,  7.94081464e-02,  6.00717478e-02, -1.24155425e-01,\n",
              "       -1.44883469e-01, -2.11302683e-01,  3.89032871e-01, -1.00295328e-01,\n",
              "        2.70626634e-01,  6.62719369e-01, -6.70143604e-01,  1.49048254e-01,\n",
              "       -2.28088811e-01,  5.71902633e-01, -9.18411911e-01, -5.44612288e-01,\n",
              "       -6.15641892e-01,  1.08317062e-02,  1.83842301e-01, -5.39240055e-02],\n",
              "      dtype=float32)"
            ]
          },
          "metadata": {
            "tags": []
          },
          "execution_count": 141
        }
      ]
    },
    {
      "cell_type": "code",
      "metadata": {
        "id": "hjFyhDowxEPI",
        "colab_type": "code",
        "colab": {}
      },
      "source": [
        "import os\n",
        "import time\n",
        "from typing import List, Dict\n",
        "import re\n",
        "from datetime import datetime as dt\n",
        "import pandas as pd\n",
        "import numpy as np\n",
        "import boto3\n",
        "from boto3.dynamodb.conditions import Key\n",
        "from fastprogress import progress_bar as pb\n",
        "import torch\n",
        "import torch.nn as nn"
      ],
      "execution_count": 0,
      "outputs": []
    },
    {
      "cell_type": "code",
      "metadata": {
        "id": "rbgIFojhxW7n",
        "colab_type": "code",
        "colab": {}
      },
      "source": [
        "_aws_session = boto3.session.Session(\n",
        "    region_name='ap-northeast-1',\n",
        "    aws_access_key_id=os.environ[\"AWS_ACCESS_KEY_ID\"],\n",
        "    aws_secret_access_key=os.environ[\"AWS_SECRET_ACCESS_KEY\"],\n",
        ")\n",
        "\n",
        "DYNAMO_DB = _aws_session.resource('dynamodb')"
      ],
      "execution_count": 0,
      "outputs": []
    },
    {
      "cell_type": "code",
      "metadata": {
        "id": "M0HLY6o-xYcI",
        "colab_type": "code",
        "colab": {}
      },
      "source": [
        "class DynamoDB:\n",
        "\n",
        "    @staticmethod\n",
        "    def put_items(\n",
        "        table_name: str,\n",
        "        items: List[Dict],\n",
        "        use_batch_writer: bool = False,\n",
        "    ) -> List:\n",
        "        \"\"\"[summary]\n",
        "        \n",
        "        Args:\n",
        "            table_name (str): [description]\n",
        "            items (List[Dict]): [description]\n",
        "        \n",
        "        Raises:\n",
        "            e: [description]\n",
        "        \n",
        "        Returns:\n",
        "            List: [description]\n",
        "        \"\"\"\n",
        "        if not isinstance(items, list):\n",
        "            items = [items]\n",
        "\n",
        "        responses = []\n",
        "        try:\n",
        "            table = DYNAMO_DB.Table(table_name)\n",
        "        except Exception as e:\n",
        "            print(f'Failed at DYNAMO_DB.Table(table_name) : {e}')\n",
        "            raise e\n",
        "\n",
        "        if use_batch_writer:\n",
        "            with table.batch_writer() as batch:\n",
        "                for item in items:\n",
        "                    try:\n",
        "                        responses.append(\n",
        "                            batch.put_item(\n",
        "                                Item=item,\n",
        "                            )\n",
        "                        )\n",
        "                    except Exception as e:\n",
        "                        print(f'Failed to put data to DynamoDB. Skipping : {e}')\n",
        "        else:\n",
        "            for item in items:\n",
        "                try:\n",
        "                    responses.append(\n",
        "                        table.put_item(\n",
        "                            TableName=table_name,\n",
        "                            Item=item,\n",
        "                        )\n",
        "                    )\n",
        "                except Exception as e:\n",
        "                    print(f'Failed to put data to DynamoDB. Skipping : {e}')\n",
        "\n",
        "        return responses\n",
        "\n",
        "    @staticmethod\n",
        "    def partitionkey_query(\n",
        "        table_name: str,\n",
        "        partition_key_name: str,\n",
        "        partition_key: str,\n",
        "    ) -> List[Dict]:\n",
        "        try:\n",
        "            table = DYNAMO_DB.Table(table_name)\n",
        "        except Exception as e:\n",
        "            print(f'Failed at DYNAMO_DB.Table(table_name) : {e}')\n",
        "            raise e\n",
        "\n",
        "        try:\n",
        "            response = table.query(\n",
        "                KeyConditionExpression=Key(partition_key_name).eq(partition_key)\n",
        "            )\n",
        "        except Exception as e:\n",
        "            print(f'Failed to query : {e}')\n",
        "            return []\n",
        "\n",
        "        return response['Items']"
      ],
      "execution_count": 0,
      "outputs": []
    },
    {
      "cell_type": "code",
      "metadata": {
        "id": "i4E4EBhRxaOY",
        "colab_type": "code",
        "colab": {}
      },
      "source": [
        "res = DynamoDB.partitionkey_query(\n",
        "    table_name='finapp_twitter_tweet',\n",
        "    partition_key_name='keyword',\n",
        "    partition_key='アクセル',\n",
        ")"
      ],
      "execution_count": 0,
      "outputs": []
    },
    {
      "cell_type": "code",
      "metadata": {
        "id": "TtTjWnCjxddf",
        "colab_type": "code",
        "colab": {
          "base_uri": "https://localhost:8080/",
          "height": 1000
        },
        "outputId": "ad837b67-fdb8-4691-d528-35cc416e0361"
      },
      "source": [
        "res[:2]"
      ],
      "execution_count": 40,
      "outputs": [
        {
          "output_type": "execute_result",
          "data": {
            "text/plain": [
              "[{'contributors': None,\n",
              "  'coordinates': None,\n",
              "  'created_at': Decimal('1576093163'),\n",
              "  'entities': {'hashtags': [{'indices': [Decimal('101'), Decimal('108')],\n",
              "     'text': '湾岸マキシ5'}],\n",
              "   'symbols': [],\n",
              "   'urls': [],\n",
              "   'user_mentions': []},\n",
              "  'favorite_count': Decimal('0'),\n",
              "  'favorited': False,\n",
              "  'geo': None,\n",
              "  'id': Decimal('1204984066581262338'),\n",
              "  'id_str': '1204984066581262338',\n",
              "  'in_reply_to_screen_name': None,\n",
              "  'in_reply_to_status_id': None,\n",
              "  'in_reply_to_status_id_str': None,\n",
              "  'in_reply_to_user_id': None,\n",
              "  'in_reply_to_user_id_str': None,\n",
              "  'is_quote_status': False,\n",
              "  'keyword': 'アクセル',\n",
              "  'lang': 'ja',\n",
              "  'metadata': {'iso_language_code': 'ja', 'result_type': 'recent'},\n",
              "  'place': None,\n",
              "  'retweet_count': Decimal('0'),\n",
              "  'retweeted': False,\n",
              "  'source': '<a href=\"http://twittbot.net/\" rel=\"nofollow\">twittbot.net</a>',\n",
              "  'text': '筐体のシートの前後の位置は、アクセルペダルを踏み込んで調整するときに、ハーフが一番やりやすい位置に合わせるのがよい。\\n\\n答えは〇\\n座席の位置は人によってまちまちです。自分の位置に毎回調整しましょう。\\n\\n#湾岸マキシ5',\n",
              "  'truncated': False,\n",
              "  'user': {'contributors_enabled': False,\n",
              "   'created_at': 'Tue Dec 31 00:46:40 +0000 2013',\n",
              "   'default_profile': True,\n",
              "   'default_profile_image': False,\n",
              "   'description': '台パンする俺カッコいい。',\n",
              "   'entities': {'description': {'urls': []}},\n",
              "   'favourites_count': Decimal('0'),\n",
              "   'follow_request_sent': False,\n",
              "   'followers_count': Decimal('26'),\n",
              "   'following': False,\n",
              "   'friends_count': Decimal('2'),\n",
              "   'geo_enabled': False,\n",
              "   'has_extended_profile': False,\n",
              "   'id': Decimal('2269628527'),\n",
              "   'id_str': '2269628527',\n",
              "   'is_translation_enabled': False,\n",
              "   'is_translator': False,\n",
              "   'lang': None,\n",
              "   'listed_count': Decimal('2'),\n",
              "   'location': '筐体の上',\n",
              "   'name': '教習所の教官',\n",
              "   'notifications': False,\n",
              "   'profile_background_color': 'C0DEED',\n",
              "   'profile_background_image_url': 'http://abs.twimg.com/images/themes/theme1/bg.png',\n",
              "   'profile_background_image_url_https': 'https://abs.twimg.com/images/themes/theme1/bg.png',\n",
              "   'profile_background_tile': False,\n",
              "   'profile_banner_url': 'https://pbs.twimg.com/profile_banners/2269628527/1388451491',\n",
              "   'profile_image_url': 'http://pbs.twimg.com/profile_images/417821805420609536/1Xk4XIEL_normal.jpeg',\n",
              "   'profile_image_url_https': 'https://pbs.twimg.com/profile_images/417821805420609536/1Xk4XIEL_normal.jpeg',\n",
              "   'profile_link_color': '1DA1F2',\n",
              "   'profile_sidebar_border_color': 'C0DEED',\n",
              "   'profile_sidebar_fill_color': 'DDEEF6',\n",
              "   'profile_text_color': '333333',\n",
              "   'profile_use_background_image': True,\n",
              "   'protected': False,\n",
              "   'screen_name': 'Ma_n_zi',\n",
              "   'statuses_count': Decimal('33473'),\n",
              "   'time_zone': None,\n",
              "   'translator_type': 'none',\n",
              "   'url': None,\n",
              "   'utc_offset': None,\n",
              "   'verified': False}},\n",
              " {'contributors': None,\n",
              "  'coordinates': None,\n",
              "  'created_at': Decimal('1576093185'),\n",
              "  'entities': {'hashtags': [],\n",
              "   'symbols': [],\n",
              "   'urls': [],\n",
              "   'user_mentions': [{'id': Decimal('2794982155'),\n",
              "     'id_str': '2794982155',\n",
              "     'indices': [Decimal('3'), Decimal('18')],\n",
              "     'name': 'ちーHKDL次は2月',\n",
              "     'screen_name': 'chipdale591106'}]},\n",
              "  'favorite_count': Decimal('0'),\n",
              "  'favorited': False,\n",
              "  'geo': None,\n",
              "  'id': Decimal('1204984159568969728'),\n",
              "  'id_str': '1204984159568969728',\n",
              "  'in_reply_to_screen_name': None,\n",
              "  'in_reply_to_status_id': None,\n",
              "  'in_reply_to_status_id_str': None,\n",
              "  'in_reply_to_user_id': None,\n",
              "  'in_reply_to_user_id_str': None,\n",
              "  'is_quote_status': False,\n",
              "  'keyword': 'アクセル',\n",
              "  'lang': 'ja',\n",
              "  'metadata': {'iso_language_code': 'ja', 'result_type': 'recent'},\n",
              "  'place': None,\n",
              "  'retweet_count': Decimal('591'),\n",
              "  'retweeted': False,\n",
              "  'retweeted_status': {'contributors': None,\n",
              "   'coordinates': None,\n",
              "   'created_at': 'Wed Dec 11 09:45:34 +0000 2019',\n",
              "   'entities': {'hashtags': [],\n",
              "    'symbols': [],\n",
              "    'urls': [{'display_url': 'twitter.com/i/web/status/1…',\n",
              "      'expanded_url': 'https://twitter.com/i/web/status/1204698732815511553',\n",
              "      'indices': [Decimal('117'), Decimal('140')],\n",
              "      'url': 'https://t.co/tRDQEVok8A'}],\n",
              "    'user_mentions': []},\n",
              "   'favorite_count': Decimal('967'),\n",
              "   'favorited': False,\n",
              "   'geo': None,\n",
              "   'id': Decimal('1204698732815511553'),\n",
              "   'id_str': '1204698732815511553',\n",
              "   'in_reply_to_screen_name': None,\n",
              "   'in_reply_to_status_id': None,\n",
              "   'in_reply_to_status_id_str': None,\n",
              "   'in_reply_to_user_id': None,\n",
              "   'in_reply_to_user_id_str': None,\n",
              "   'is_quote_status': False,\n",
              "   'lang': 'ja',\n",
              "   'metadata': {'iso_language_code': 'ja', 'result_type': 'recent'},\n",
              "   'place': None,\n",
              "   'possibly_sensitive': False,\n",
              "   'retweet_count': Decimal('591'),\n",
              "   'retweeted': False,\n",
              "   'source': '<a href=\"http://twitter.com/download/iphone\" rel=\"nofollow\">Twitter for iPhone</a>',\n",
              "   'text': 'えげつい瞬間見てしまった。救急車に突っ込んだ。右上の場所消防署。出動して2分で事故！えげつい！救急車待ってる人もかわいそうだし、救急隊員の人悪くないのに謝ってたし、怪我してないか聞いてたのに、どえらい衝撃でしたからね！とか運転手言… https://t.co/tRDQEVok8A',\n",
              "   'truncated': True,\n",
              "   'user': {'contributors_enabled': False,\n",
              "    'created_at': 'Sat Sep 06 23:48:55 +0000 2014',\n",
              "    'default_profile': True,\n",
              "    'default_profile_image': False,\n",
              "    'description': 'NIKON D500 共通年パリバブ期間 京都に近い大阪 平日休みの社会人 栗鼠 ミキミニ ダフ ナノブロ トミカ メダル リゾラ 混合垢 HKDL platina ユニバ 年パス キティーダニエル 京都水族館 年パス 無言は気になった人だけフォロバ',\n",
              "    'entities': {'description': {'urls': []}},\n",
              "    'favourites_count': Decimal('48226'),\n",
              "    'follow_request_sent': False,\n",
              "    'followers_count': Decimal('391'),\n",
              "    'following': False,\n",
              "    'friends_count': Decimal('417'),\n",
              "    'geo_enabled': False,\n",
              "    'has_extended_profile': True,\n",
              "    'id': Decimal('2794982155'),\n",
              "    'id_str': '2794982155',\n",
              "    'is_translation_enabled': False,\n",
              "    'is_translator': False,\n",
              "    'lang': None,\n",
              "    'listed_count': Decimal('8'),\n",
              "    'location': '大阪 千葉 香港',\n",
              "    'name': 'ちーHKDL次は2月',\n",
              "    'notifications': False,\n",
              "    'profile_background_color': 'C0DEED',\n",
              "    'profile_background_image_url': 'http://abs.twimg.com/images/themes/theme1/bg.png',\n",
              "    'profile_background_image_url_https': 'https://abs.twimg.com/images/themes/theme1/bg.png',\n",
              "    'profile_background_tile': False,\n",
              "    'profile_banner_url': 'https://pbs.twimg.com/profile_banners/2794982155/1519573567',\n",
              "    'profile_image_url': 'http://pbs.twimg.com/profile_images/1055989190570192896/mQ9XL9Z9_normal.jpg',\n",
              "    'profile_image_url_https': 'https://pbs.twimg.com/profile_images/1055989190570192896/mQ9XL9Z9_normal.jpg',\n",
              "    'profile_link_color': '1DA1F2',\n",
              "    'profile_sidebar_border_color': 'C0DEED',\n",
              "    'profile_sidebar_fill_color': 'DDEEF6',\n",
              "    'profile_text_color': '333333',\n",
              "    'profile_use_background_image': True,\n",
              "    'protected': False,\n",
              "    'screen_name': 'chipdale591106',\n",
              "    'statuses_count': Decimal('16690'),\n",
              "    'time_zone': None,\n",
              "    'translator_type': 'none',\n",
              "    'url': None,\n",
              "    'utc_offset': None,\n",
              "    'verified': False}},\n",
              "  'source': '<a href=\"http://twitter.com/download/android\" rel=\"nofollow\">Twitter for Android</a>',\n",
              "  'text': 'RT @chipdale591106: えげつい瞬間見てしまった。救急車に突っ込んだ。右上の場所消防署。出動して2分で事故！えげつい！救急車待ってる人もかわいそうだし、救急隊員の人悪くないのに謝ってたし、怪我してないか聞いてたのに、どえらい衝撃でしたからね！とか運転手言ってるし…',\n",
              "  'truncated': False,\n",
              "  'user': {'contributors_enabled': False,\n",
              "   'created_at': 'Fri Oct 19 10:51:37 +0000 2018',\n",
              "   'default_profile': True,\n",
              "   'default_profile_image': False,\n",
              "   'description': '℃-ute命',\n",
              "   'entities': {'description': {'urls': []}},\n",
              "   'favourites_count': Decimal('6410'),\n",
              "   'follow_request_sent': False,\n",
              "   'followers_count': Decimal('160'),\n",
              "   'following': False,\n",
              "   'friends_count': Decimal('569'),\n",
              "   'geo_enabled': False,\n",
              "   'has_extended_profile': True,\n",
              "   'id': Decimal('1053237224320380928'),\n",
              "   'id_str': '1053237224320380928',\n",
              "   'is_translation_enabled': False,\n",
              "   'is_translator': False,\n",
              "   'lang': None,\n",
              "   'listed_count': Decimal('7'),\n",
              "   'location': '🐼💤🐥はちゅ−るい🦄🐻',\n",
              "   'name': 'たぬき🐥🖖@ﾃｵﾌｧﾐ🔫荒野行動',\n",
              "   'notifications': False,\n",
              "   'profile_background_color': 'F5F8FA',\n",
              "   'profile_background_image_url': None,\n",
              "   'profile_background_image_url_https': None,\n",
              "   'profile_background_tile': False,\n",
              "   'profile_banner_url': 'https://pbs.twimg.com/profile_banners/1053237224320380928/1572531723',\n",
              "   'profile_image_url': 'http://pbs.twimg.com/profile_images/1191032027446951936/uXGcWE68_normal.jpg',\n",
              "   'profile_image_url_https': 'https://pbs.twimg.com/profile_images/1191032027446951936/uXGcWE68_normal.jpg',\n",
              "   'profile_link_color': '1DA1F2',\n",
              "   'profile_sidebar_border_color': 'C0DEED',\n",
              "   'profile_sidebar_fill_color': 'DDEEF6',\n",
              "   'profile_text_color': '333333',\n",
              "   'profile_use_background_image': True,\n",
              "   'protected': False,\n",
              "   'screen_name': 'e0910h',\n",
              "   'statuses_count': Decimal('10281'),\n",
              "   'time_zone': None,\n",
              "   'translator_type': 'none',\n",
              "   'url': None,\n",
              "   'utc_offset': None,\n",
              "   'verified': False}}]"
            ]
          },
          "metadata": {
            "tags": []
          },
          "execution_count": 40
        }
      ]
    },
    {
      "cell_type": "code",
      "metadata": {
        "id": "knQwKC49xfBJ",
        "colab_type": "code",
        "colab": {
          "base_uri": "https://localhost:8080/",
          "height": 34
        },
        "outputId": "42363842-bbc6-4c68-e1a0-995a66123bd9"
      },
      "source": [
        "len(res)"
      ],
      "execution_count": 41,
      "outputs": [
        {
          "output_type": "execute_result",
          "data": {
            "text/plain": [
              "285"
            ]
          },
          "metadata": {
            "tags": []
          },
          "execution_count": 41
        }
      ]
    },
    {
      "cell_type": "code",
      "metadata": {
        "id": "sbSmYxDIxi0x",
        "colab_type": "code",
        "colab": {}
      },
      "source": [
        "texts = list(set([r['text'] for r in res]))"
      ],
      "execution_count": 0,
      "outputs": []
    },
    {
      "cell_type": "code",
      "metadata": {
        "id": "WMQBx8Ncxq-w",
        "colab_type": "code",
        "colab": {
          "base_uri": "https://localhost:8080/",
          "height": 1000
        },
        "outputId": "566d3256-8172-4525-b82c-037d11a31493"
      },
      "source": [
        "texts"
      ],
      "execution_count": 43,
      "outputs": [
        {
          "output_type": "execute_result",
          "data": {
            "text/plain": [
              "['アクセル踏むとマッハの悪癖私もあるなあ……',\n",
              " 'RT @008000dic: ナイス 【錆喰いビスコ4 業花の帝冠、花束の剣 (電撃文庫)/瘤久保 慎司】読んでなかった第二部開始の第四巻。相も変わらずアクセルぶっ放しのコンビだが、敵も味方も愚直な熱い奴らが目白押し。サタハ… → https://t.co/gHnzoRbsRw…',\n",
              " 'RT @belmond_b_2434: やるわ\\n【マリオカート８ DX】はい！ここでアクセルですね教官！【にじさんじ】 https://t.co/REUtDf2BnY @YouTubeさんから',\n",
              " 'Wﾚ*0ω0)おはよアクセル\\u3000\\u3000おはよロクサス(；∀； ≧＞',\n",
              " 'アクセルナットすぐ取れる奴',\n",
              " 'RT @chipdale591106: えげつい瞬間見てしまった。救急車に突っ込んだ。右上の場所消防署。出動して2分で事故！えげつい！救急車待ってる人もかわいそうだし、救急隊員の人悪くないのに謝ってたし、怪我してないか聞いてたのに、どえらい衝撃でしたからね！とか運転手言ってるし…',\n",
              " 'RT @riderzio2068: #特撮トリビア\\nクロックアップは設定上、１分経つと強制解除される…\\n\\n…と言うのは。ガセ \\n\\nクロックアップは、変身者に無理を強いらぬ為に…僅か〝数秒〟でクロックオーバーする。\\n\\n数十秒ですらも無い故に、一回のクロックアップの持続時間はアクセ…',\n",
              " '劣等生読み終わったら、バカテスとアクセルワールド読むことにした',\n",
              " 'RT @yu___he0703: 損保ジャパンの問題が色々流れてるけど間違いなく入らないほうがいいし相手にしたくない。\\n\\n3月の事故、相手が確認不足、アクセル踏んだって言ってても損保ジャパンは避けれただろって。弁護士も呆れてるくらいだから。入らない方がいい。 https://t…',\n",
              " '@62BKW 俺も最初、アクセルブレーキの繊細さにビックリした。特にアクセル。',\n",
              " 'RT @ncc170116: @sunafukin99 @hokuetsu_noto もう、維新支持者のテンプレだった「都構想が嫌なら大阪から出て行け」を知事や市長が自ら言いそうな勢いですわ。結局、公明こそが維新のアクセル役だったんですなあ。',\n",
              " '@kobamac おはようございます、Addressリッター35超えるのですねうちのスカブは30超えた事無いですね、排気量よりもアクセル操作が荒いかもちょっとアクセル操作考えたいと思います。',\n",
              " '遅刻しそうだって？しっかり捕まってろ…＼ｱｸｾﾙ!／ 変…身ッ！！',\n",
              " 'RT @pichipichi98: アクセルマークに関して\\nブロックチェーンゲームを既存のスマホゲーと同じ思考で考えたらダメ\\n前者はお金も稼げて楽しむ、後者はお金を使って楽しむ。セールスポイントの性質が全く違う。まだ特徴が大衆に認知されてない→伸び代大いにあり\\n時代の流れ\\nポチ…',\n",
              " '@gucci_toki 男は、黙ってフルアクセル(笑)',\n",
              " 'ＯＰＥＮしました！\\u3000-アクセル-\\n\\nやあ！オレはピーチタウンにいたアクセルだぜ！\\nマイシティに交番建てたよ！もう、立派なお巡りさんだ！\\n今度暇が出来たら、是非遊びに来てくれよな！\\nそれじゃあ、また！',\n",
              " 'RT @IKUObass190: おはよう！\\n\\n本日は\\nBULL ZEICHEN 88\\nRe: “Re:Reset” GIG✨アクセル全開追加公演‼️\\n逢いたくて〜\\n\\n渋谷Rex 2デイズ初日です！\\n\\n今年のブル納めの2日間！\\n\\n激しく楽しく\\nいきたいと思います‼️',\n",
              " '「後方録画中📷」じゃねぇよステッカー貼る前にアクセル踏めカス',\n",
              " 'RT @sg69777: さぁ～今日はブルハチの\\nRe: Re:Reset アクセル全開追加公演\\n渋谷Rex 2デイズ初日なり～🎶\\n\\n満員御礼ガッツリ楽しむぞっ👊\\n\\nみんな、替えのTシャツ&amp;タオルは必須ばい！\\n\\nなぜならビシャビシャにするんでwww\\n\\nんじゃのち😆✋',\n",
              " '6730アクセル\\u3000何？',\n",
              " 'RT @seigura: 好評発売中の声グラ1月号に掲載されている「声優養成所＆専門学校特集」が『https://t.co/vjZnr6hIGj』でも公開中！\\u3000「アクセルワン付属養成所 アクセルゼロ」からは、講師の森川智之先生、卒業生の葉山翔太さん、在校生の日原滉太さんが登場！…',\n",
              " 'ここに掲載されているGTS-Rに何年か乗っていたが、あれは官能的だったな。\\n１４０㎞からアクセル踏み込んでも背中に加速感受けながら２００㎞オーバーまで加速してた。\\n現在乗ってるのでも２００は出せるが、今では絶対に出来んw\\nhttps://t.co/WFWzNAc3Ed',\n",
              " '免許取る時シミュレーター教習何回かあって、直進すると子供を轢き、右に迂回するとじじい轢いてしまうっていうシチュエーションの対策受講者3人で考えようって話のときに「未来に対する期待値が低いじじいを轢きます」って迷わずアクセル踏み込んだA君元気かな。あれ正解は一時停止なんだよね',\n",
              " '先日のイベント向かう際、山形道でアクセルふみっぱ（3速→4速入れると失速）で68㎞/hという状況になって、こりゃもうエンジン限界だろと。\\nちなみに、其のあとすぐ関山トンネル内でオーバーレブにてエンブレかかって焦った。',\n",
              " '@axcel0901 アクセルさんがどんな人か見てみたい。のだと思います。\\n\\nアフィリの飲み会に行くと「アクセルさんってどんな人？」とよく聞かれます。',\n",
              " 'ハイ！！\\nトリプルアクセル成功♥︎ https://t.co/Ag3WyzS95a',\n",
              " 'RT @keibalab: 【最内からアクセル全開】\\n19年クイーン賞1着\\nクレイジーアクセル\\nCrazy Accel\\n(牝4、大井・渡邉和雄厩舎) 吉原寛人騎手\\n父ロージズインメイ\\n母ベアフルート\\n母父サクラバクシンオー\\n#競馬 #keiba #クレイジーアクセル \\nhttp…',\n",
              " 'RT @tmrbr1130: スカーレッド・スーパーノヴァドラゴンのトリプルチューニング、アクセルシンクロに対するダブルチューニングのように、リミットオーバーアクセルシンクロに対するように「ジャックが再び遊星に追いつくために辿り着いた新たなる境地」を感じさせてきてめちゃくちゃ泣…',\n",
              " 'このツイッターを始めた切っ掛けですが、ノリと勢いです。\\n迫さんの動画を見て、やる価値を感じてはじめました\\nですが、今ではあらゆる成果を出すための方法を編み出せました\\n僕に足りなかったのは、\\nイメージを操作する力\\n心のアクセルを押す… https://t.co/MTMn6DaqBy',\n",
              " 'RT @seimei_h28: 【ノーミスしても勝たせてもらえない】\\n\\nネイサンだってアクセル以外の5種4回転ジャンプをプログラムに組み込んだらそれ以降、全然5種類を組み込んだジャンプをやってない。\\nループもやらない。本当にフィギュアが好きだったら全ての技を習得してやってみれば…',\n",
              " 'この当時世界中の人がバンダナをアクセル・ローズ巻きしてたな。 https://t.co/QjwMTMIG5h',\n",
              " 'アクセルワールド、見た目が好みのスカイ・レイカーさんが出てきて終わった記憶しかないから二期をやれ。',\n",
              " 'RT @K09cNNxAbQvjnBY: 本気でアクセル踏めばまわりに恐れを抱かせるほど大野智はとてつもないエネルギーをもっているんだろう\\nそれをよく解ってるから\\n超人的な努力はまわりに見せず\\nいつも努めて穏やかに謙虚でいるのかな、普通だよって\\n\\n解き放ちたい欲が\\n沸き上がって…',\n",
              " 'みつりちゃんのスケパロとか描きたい…あの胸をもろともしないトリプルアクセル！！みたいな。こんなアホな実況いないとは思うけど。女子もトリプルアクセル跳ぶ時代やでな。',\n",
              " 'RT @alcaffe_yd: 確かに発言を見る限りその形跡はない。法学部出なのに。憲法の授業は代返頼んでたかな。ま、どこにでも不真面目な学生はいるもの。でも彼らは自分が憲法に触れる資格がないと知っている。ブレーキとアクセルの区別ができない人間は運転しないよ。アレはそれもわから…',\n",
              " 'RT @kokoro_odoru_1: アクセルを踏んだ瞬間ビューンですよｗｗｗ\\n\\n https://t.co/oCETehLr2b',\n",
              " 'アクセルは全開で\\n且つどデカイ夢がある\\nHey tip top見える頂き\\nこの第六感の閃き\\nだからまだ終わらないこのShowは\\n消えてなくなれよ邪魔なノウハウ\\nそうだもっと音楽をしよう\\n音を楽しんで愛奏でよう BANG!\\n\\n『We are the G.S』',\n",
              " 'RT @FlyHigh_AndFree: ⑤「彼はGPFにはより技術志向のアプローチをとっていた。彼は非常に負けず嫌いで、ネイサンがやってやっていることを見ている。アクセル(4A)挑戦を私は勧めなかっただろう。でも、彼はあのジャンプに使命を感じている」\\n全日本にはBrianも同…',\n",
              " '@n_o_m__ アクセルシンクロするよりは出しやすいから...',\n",
              " 'RT @dais_2740: グアム散歩した時見かけたんだけどクソかっこよかった。\\n後ろの知ったかぶり日本人が｢アクセル踏んですぐブレーキ踏んでやればどの車でもできるよ(笑)｣とか彼女に言ってて草 https://t.co/cXW3iosHKs',\n",
              " '@mikan_1219 ですね(笑)\\n神から大ヒント貰ってたのに逆らってしまった！\\n\\nまた夢みれるように月曜からアクセル全開🔥',\n",
              " '@mochi_dog46 「怖い」って正直な感想を言っただけであそこまで自分の考えを妄想アクセル全開で語れるのってすごいよ…\\n最近は自分を含めて、「ファンのせいで」欅を心から楽しく応援出来なくなる人が増えているのがよくわかる…',\n",
              " '@bokebot @Kqfy6 氷の上で回転使ってシューズ脱ごうとしてそれでトリプルアクセルをしていた・・・？',\n",
              " 'ヴォルフ「免許取る時シミュレーター教習何回かあって直進すると子供を轢き、右に迂回するとじじい轢いてしまうっていうシチュエーションの対策受講者3人で考えようって話のときに「未来に対する期待値が低いじじいを轢きます」って迷わずアクセル踏み込んだイツキ元気かな。あの正解は一時停止だ」',\n",
              " '@sada_s2000 さださんありがとう🙇💕\\nアクセルベタ踏みでいくよーっ✊\\nファイナルからも応援宜しくねっ✨',\n",
              " 'RT @HSSHSP5: 先の約束をするのが苦手。約束をする時はアクセル状態でも、その日になったらブレーキ状態だったり。だから私は突然誘ったりする。友達は心得てて突然の誘いで会ってくれたりする。気まぐれに思われるかもしれないけど、そのくらい感情の揺れ幅が大きい。それが私なんだ。…',\n",
              " 'アクセルシンクロに言及しておきながら真っ先に例示するのがグリオンガンドなのズッコケちゃうな',\n",
              " 'おちんちんアクセル！！！！！動いてくれ！！！！動けよ！！！！！！！動いた！！！！！！ギュオンギュオオーーーーン！！！！！！！！ギュオッギュオオーーーーン！！！！\\n時速160キロ！！！！！！！！！！！\\n#shindanmaker\\nhttps://t.co/PdcXJzEdDf',\n",
              " '【メモ】\\n暖気\\nエンジンオフ\\nパワー2回(オレンジ)\\nPでアクセル2回\\nNでアクセル2回\\nPでアクセル2回',\n",
              " 'Wﾚ*0ω0)実はアクセルがアイス買ってきていいよってくれるお金は全部貯金してあるんだ！三人で暮らすときにお金がないと困るだろ？ アイス三人分くらい俺がちょっと頑張ってハートレス倒せば稼いでこれるし',\n",
              " 'RT @TrendNewsJP2020: アクセルを踏んだ瞬間.......ｗｗｗ\\n\\n https://t.co/Wwas50o42B',\n",
              " '車運転してたらブレーキとアクセル踏み間違えて事故りました\\nはい、夢でした\\n怖かったー',\n",
              " '@sukiyaki_AO アクセルシンクロした時の対面の顔が見てえよ～',\n",
              " 'おちんちんアクセル！！！！！動いてくれ！！！！動けよ！！！！！！！動いた！！！！！！ギュオンギュオオーーーーン！！！！！！！！ブボボボォブボォーーーーン！！！！\\n取れた......\\n#shindanmaker\\nhttps://t.co/lCnnz1Hk6H',\n",
              " '@matarou123 忙しくて発売日に買えませんでした💦\\n数日後、本屋を数件回ってやっと購入🎶\\n毎回カバー絵が楽しみなんですよ☝️😑\\nそして新刊が発売になると１巻から一気に読むのがアクセルスタイル😑\\n映画もコミックも最高です😑💕',\n",
              " '@uhehehehhh_YuNi わかる\\nギデスカとアクセルセンのスーパープレイは飽きん',\n",
              " 'アクセルセンのハイバックに憧れて最近ハイバック打ち始めたけど正直言って今はデメリットしかないわ',\n",
              " 'RT @BULL8info: 【Re: “Re:Reset” GIG✨アクセル全開追加公演‼️逢いたくて〜】\\n\\n12月13日 (金) 渋谷REX (東京)\\nOPEN 18:30 / START 19:00 \\n\\nグッズの前売りは17時から！今日もチェキ(当たり付き)販売します！当…',\n",
              " 'アクセルマーク、じーーーー👀',\n",
              " 'RT @ayato_dr111: 今日は僕の人生に新たなアクセルがかかった1日でした\\n\\n小田原豊さんとお会いさせていただきました！\\n草刈さんのご厚意で小田原豊さんの弟子として一緒に居させてもらいました\\nたくさん教えていただきました\\n\\n「また一緒に仕事しようぜ武道館で演ろうぜ」っ…',\n",
              " '@Hitokoto_Namake 脳天直撃アクセル',\n",
              " 'アネーロ銀座 | 物件情報 | アクセルホーム    https://t.co/BrgMxD5uBn @axelhomeさんから',\n",
              " 'RT @Jun_ji0330_Jz: 今日はBULL ZEICHEN 88🍊🍑🍎🐛\\n\\nRe: “Re:Reset” GIG✨アクセル全開追加公演‼️\\n逢いたくて〜\\n\\n渋谷Rex 2デイズ初日😆\\n\\nやんよ( ｰ́∀ｰ̀ )👍',\n",
              " \"北『プァーパー！プァーパー！オイ！何チンタラ走ってんだよ！アクセル踏めよ！…チッ、黄色で止まんなよなァ！黄色はアクセル全開だろうがアァン！？俺様が誰かって？ずーゆーのジャーマネのよっちゃんことY井様だよ！！』岩「フッハッハッ！！アッハッハッハ！！アァー！！」【99'12/29】\",\n",
              " '@RYO_TAN1541 そろーり…\\nとアクセル踏んだんだけどねえ…w',\n",
              " '先日購入したハンコンの導入がやっとできた\\nがしかし！！\\n設置場所まずいなぁ\\n普通に設置すると目線の高さにハンドルが来て画面が見えない！！\\nアクセルの位置が近すぎて真下に踏み込む！！\\n姿勢が悪すぎて操作に支障が出る！！\\nやっぱりお店… https://t.co/bZq4o88Xea',\n",
              " '@rika_rika__k トリプルアクセル飛んできます❄️☃️',\n",
              " 'アクセルワールド、アニメだけ見てたんだけどいつになったら2期やるんですか💢',\n",
              " 'デススト面白いのはいいけど、乗り物のアクセルがR2だから疲れるのと、スキャンがR1だから地味に不便だな',\n",
              " 'やはりアクセル飼おう',\n",
              " '「この要素を強くしすぎるとキャラソンになりそうかな？」「いや、そのままアクセル全開で行け！！埋め尽くせ！！」の姿勢、好き。日野茜ちゃんだからこそできたやり方ではありそうな気はします（担当贔屓',\n",
              " 'このトラックのアクセルON時の傾き加減ｗ',\n",
              " 'おちんちんアクセル！！！！！動け！！！！動けよ！！！！！！！動いた！！！！！！ギュインギュイーーーン！！！！！！！！ブボボボォブボォーーーーン！！！！\\n時速140キロ！！！！！！！！！\\n#shindanmaker\\nhttps://t.co/l1nZeiF58z',\n",
              " '@Hitokoto_Namake 審査員特別賞「頭蓋骨アクセル大破ドロップ」',\n",
              " 'ぴーちゃん「あしたえなこの握手会一緒にいく友達もうなに話すとか決めてるらしいんだけど！！握手会童貞なんでまだなにも決めてない...なに話そう...」\\n\\nアクセル「うわっきもちわるっ」',\n",
              " 'RT @kaburealnet: 【続落から反発】(12/13 13:20)\\n続落2日から反発：日本ＰＣサービス\\n続落4日から反発：ユーピーアール\\n続落2日から反発：アクセルマーク\\n続落3日から反発：日鉄鉱業\\n続落2日から反発：三協立山\\n https://t.co/nkcJCX…',\n",
              " '【定期】ボカロ、アニメ、カゲプロ、うたプリ、いぬぼく、黒バス、銀魂、スケットダンス、テニプリ、青エク、カーニヴァル、デュラララ、絶園のテンペスト、アクセルワールド、another、未来日記、氷菓、夏目、けいおん!、化物語、中二病、K、など大好きです\\u3000#RTした人全員フォローする',\n",
              " '教官「あそこに好きなアイドルいると思ってアクセル踏んでみ」晃「姫鶴ひなたでお願いします」教官「え？」晃「幼馴染みです」教官「よっしゃ、ひなたちゃんに飛び込め！」晃「うおおおおあああ」教官「ちょwブレーキ踏んでww」晃「俺の恋路に！ブレーキなど！ありません教官！」晃・教官「うおああ',\n",
              " '原付エンジンはかかるけどアクセル入れた瞬間エンジン止まるねんけど',\n",
              " 'シオンにちょっかいを出して泣かせた結果アクセルに顔面を殴られる',\n",
              " 'CNオリジナル作品はどの時代のどの作品も、それにしかない魅力を持ってくれてるのは今も昔も変わらないと思ってるけど、いかんせんそれらの作品を管理する責任を持つ日本CN運営が最近あさっての方向にアクセル全開だから嘆かずにはいられないんですよね',\n",
              " 'ブレーキとアクセルを踏み間違えるのは迷惑ポコ',\n",
              " 'アクセルフィンの調子が悪いよぉ～ #魔法少女リリカルなのは',\n",
              " 'MT車に乗る夢を見た気がするんやけど\\nペダルがブレーキ→クラッチ→アクセルで付いてた(おかしい)\\n夢って不思議やの…',\n",
              " 'おはようございます。\\n\\n5時に起床して見ていなかった羽生結弦の試合を見て号泣。\\n\\nその後松岡修造の熱に屈することもなくチャーミングすぎる笑顔の結弦。\\n\\n大丈夫、私の中ではノーミスの優勝です。\\n\\nベッドでのトリプルアクセルは私に任せ… https://t.co/xgGa4g8KaA',\n",
              " 'アクセル・ワールドとか好きだけどやや\\n癖あるし一生完結しない',\n",
              " 'RT @husahusano_HIGE: アクリルアートまですごいいい感じなのにそれ以降急〜〜にアクセルベタ踏みすな',\n",
              " 'RT @rougefff: もう今年終わるのに締めるどころか加速して止まらないSexy Zoneなんなの😭\\nここ最近で急に凄いアクセル全開になってる気がするよ………\\n来年が楽しみだ😭😭😭😭😭 https://t.co/z7UmqzGGfx',\n",
              " 'PLUS SPORTシステム\\n走行中ボタンを押し、アクセルを少し踏み足せば、アクセルが出力を最大化し、瞬時に加速できる。まるでゲームのナイトロのようなことが、モーターだから可能に。 https://t.co/1rQzRqOkhv',\n",
              " '@Norick_Tohge アクセルターンしよう！',\n",
              " '「今日働きたくない！！！叫」\\n『はい、いってらっしゃい。ばいば〜い』\\nと助手席から降ろされ一瞬にしてドアを閉められアクセル踏んで去っていくセクシーがいないと今日は頑張れそうにないな(セクシーなら誰でも可)',\n",
              " 'ｱｸｾﾙ「もしかして私たち…」 ﾌﾞﾚｰｷ「もしかして俺たち…」「「入れ替わってる～！？！？！？」」\\nhttps://t.co/jWOu0qkIWv',\n",
              " '@Investor2_leo @pokorigamer 駐車する時にクリープ使うと楽ですよね\\n\\nブレーキホールド使うとゆっくり駐車の時にはいったん前にいってバックに入れるときにホールドされて一瞬アクセル踏まないといけないのが気持ち面倒に',\n",
              " 'アクセルロックもデータとしては入ってるし、やっぱこれ２かＤＬＣでポケモン追加くるな…',\n",
              " 'ふんわりアクセルやわらかブレーキ https://t.co/i1fj64eWqk',\n",
              " 'RT @ayuto6002: 俺のみんな\\n💙待たせてごめんね\\n🌻待つのは超得意技です。４回転アクセルです😊\\n💙心配かけたくない\\n🌻心配するのは当たり前。なんなら心配が仕事😊\\n💙あいたい\\n🌻私達もです。\\nでも今は存在してくれるだけで満足です☺️\\n\\n今日も想っています😘\\n【美韓】パ…',\n",
              " '「アクセル踏んだのおまえ！」クソ笑う',\n",
              " 'RT @nobu_mei: アクセルマークのミートアップに逆神@fukuhara_hdylw 来なかったからプレセールは売れるってみんな言ってました\\n#BGライジング',\n",
              " '@grsysk FF外から失礼します😅\\n一度、都内で、こちらは大型トラックで真後ろを走ったことがあります💦\\nアクセル踏むのに、膝が笑ったのは、初めてでした😅',\n",
              " 'PP3、初めは灼と炯くんはアクセルとブレーキかと思ってたけど、ものの見事に逆転したし、なんならアクセルの傍には舞ちゃんっていう燃料まであるし\\n静火くんはそこまで悪じゃないって信じてるから、闇堕ちしたとは思ってないけど謎が多すぎる\\nそして、弥生さん……',\n",
              " 'フィギュアスケートやってると言うとトリプルアクセル飛べる？と高確率で聞かれる。\\n #スケートあるある',\n",
              " '【ヤンデレ】\\nエックス｢どこにも行かないで…俺だけを見て…(束縛監禁系)｣\\nダイナモ｢俺のこと好きだろ？愛してくれるって言っただろ？(傲慢妄想系)｣\\nイクス｢お前には私しかいないんだ…(誘導洗脳系)｣\\nゼロ｢エックスやアクセルに害なす者は容赦しない(セコム系)｣',\n",
              " '【続落から反発】(12/13 13:20)\\n続落2日から反発：日本ＰＣサービス\\n続落4日から反発：ユーピーアール\\n続落2日から反発：アクセルマーク\\n続落3日から反発：日鉄鉱業\\n続落2日から反発：三協立山\\n https://t.co/nkcJCXgQj1',\n",
              " '@zunda__yummy 竿と作者同じやからアクセルありやな、読むわ',\n",
              " '@ayane1827696591 同作者の作品、アクセルワールドとのピンクを思わせるようなところもあります。',\n",
              " '@yui_ppppphm アクセルホッパーと空目した。笑',\n",
              " 'おちんちんアクセル！！！！！動いてくれ！！！！動くんだ！！！！！！！動いた！！！！！！ギュギャギャッギュイーーーン！！！！！！！！ブバババッブォーーーーン！！！！\\n時速150キロ！！！！！！！！！！\\n#shindanmaker\\nhttps://t.co/9Kt0F1LjMV',\n",
              " '【寒いなおい、月曜だぞ】\\n\\nおはようおはようおはよう！\\nホームタウンの関西帰ってきた途端にアクセル全開で遊んじゃったてへ。\\n\\n今日以降配信できる日はするぞ、来いよ、かもん！\\n\\n↓昨日ファン爆を覚えたそうです。 https://t.co/CfbxagfthS',\n",
              " 'RT @Kaihipay_PR: リソースつぎ込めばつぎ込むほど成果が出る。\\n\\n目に見えているやるべきこと(伸びしろ)がめちゃくちゃある。\\n\\nっていう状態になれてないからついブレーキよぎるけど、\\n\\nアクセル全開で行く。',\n",
              " 'RT @minnano_dougaw: アクセルを踏んだ瞬間ビューンですよｗｗｗ https://t.co/fxbnAE8xaW',\n",
              " '@Narodovlastiye それでも、「中間に阿ること」と「友好」とを区別できないような人や、アクセルかけつつブレーキかけるような消費税増税でもアクセル踏んでる分はまだマシですので、トータルすると比較にならぬほどマシなんですよ… https://t.co/dekwbWwPRm',\n",
              " '3枚アクセルは欲し過ぎる。 https://t.co/9oqnQ84vJu',\n",
              " 'アクセルホーム\\u3000千代田麹町店/千代田区一番町｜エキテン https://t.co/R9B9JWtsX9',\n",
              " '@sunafukin99 @hokuetsu_noto もう、維新支持者のテンプレだった「都構想が嫌なら大阪から出て行け」を知事や市長が自ら言いそうな勢いですわ。結局、公明こそが維新のアクセル役だったんですなあ。',\n",
              " '停滞があるから急成長もある。ブレーキがあるからアクセルがある。今できないからって辞めたらダメ。苦しくなって辞めることなんて誰にだってできる。苦しくても頑張るから成功するもの。あなたはそんな弱い人間じゃない。あなたは自分が思っているより何倍も強いから、自分を信じてやり抜くしかない',\n",
              " 'アクセルベタ踏み坂',\n",
              " 'オエコモバ：全巻そろえたい漫画の1巻だけを買ってアクセルの家にうっかり置き忘れていくと、1週間後には全巻そろってるって素晴らしいシステムを発見したから活用して出費をおさえてる。あとアクセルが最近痩せた',\n",
              " 'えりくSAO好きだしアクセルワールド好きそうやけどな',\n",
              " '@vinegar600 よかったよかった…\\nしかしニュートラルぽいのにアクセル踏んで出ようとしてて怖い。\\nドライブだったと思うと突っ込んでそうで怖い。\\nって感情がよぎったのは言うまでもない。',\n",
              " 'RT @mekkikki: RKFアクセル買ったよ❗バイクにも変形するよ❗かっこいいね❗ https://t.co/TcS9ZWYjeW',\n",
              " 'シャオ「大先生、トリプルアクセルや！」\\n鬱「ﾄﾘﾌﾟﾙｱｸｾﾙｩｩ」\\n～ギスギスクラフト海賊編リベンジpart1',\n",
              " '黒雪姫\\u3000もっと先へ……《加速》したくはないか、少年\\u3000アクセルワールドより',\n",
              " 'チューナー3体がトレンドに！\\n時代はデルタアクセルじゃなくてトリプルシンクロです！',\n",
              " 'ｱｸｾﾙ!',\n",
              " '@fukuyamahide001 BOT:夕暮れは\\u3000アクセルゆるめて\\u3000早めのライト',\n",
              " 'ほんとにアクセル踏むとマッハなの良くない(よくない)',\n",
              " 'まぁ繊細なアクセルワークが必要な場面もあるからアナログボタンじゃないと仕方ないんだろうけど',\n",
              " '@axcel0901 @hawaimaruo 私も飲み会で「アクセルさんってどんな人？」って聞かれた事ありますw（╹◡╹）',\n",
              " '高齢ドライバーが運転中に上半身を右方向にひねるような姿勢をとった状態でブレーキペダルを踏もうとすると、無意識のうちに足先が右方向へ移動し、ブレーキペダルを踏むつもりでアクセルペダルを踏んでしまうのだ。',\n",
              " 'RT @yujin_minimam: ふと思ったんやけど\\n\\n車での\\n\\n\"ながら運転\"\\n\"ブレーキとアクセル\\nの踏み間違い\"\\n\"高齢者の方の事故\"\\n\"若者の車離れ\"\\n\\nこれらほとんどが\\n\"MT\"から\"AT\"に変わったせいじゃないんかな？\\n\\n\"MT\"やったら\\nながら運転なんてする暇…',\n",
              " '仏主はYZで…時速20キロで走る\\nアクセルが開けられない😰😰 https://t.co/tk5HvYtrt4',\n",
              " 'おちんちんアクセル！！！！！可動しろ！！！！可動しろ！！！！！！！動いた！！！！！！ギュギャギャッギュイーーーン！！！！！！！！ブバババッブォーーーーン！！！！\\n時速180キロ！！！！！！！！！！！！！\\n#shindanmaker\\nhttps://t.co/OToLACpHad',\n",
              " '[定期]\\n好きなアニメ\\n\\nCLANNAD/あの花/AngelBeats！/まどマギ/進撃の巨人/ちはやふる/\\nWORKING！/SAO/アクセル・ワールド/IS/アリア/涼宮ハルヒ/信奈\\n\\n#RTした二次元アイコンの人フォローする\\n#相互希望',\n",
              " 'チャイ語行きたくなさすぎてトリプルアクセル飛んでる',\n",
              " '@krm_asap 元々はECUでアクセルの踏み込み量\\nに応じてスロットルバルブをコントロールしてますけど坂道とかでトルクがない\\n時はパワーモードで\\n下道で燃費を稼ぎたい時はエコモードでとか設定すればペダル踏み込み量でバルブ開度を\\n変えてくれてます👍',\n",
              " 'なんか通勤で車使ってるからいつも通り車に乗って行こうとしたらアクセル踏んでも車が進まない。って思ってたらそもそもエンジンかけてなかったというとんでもないミスをしてた\\U0001f97a\\nかなり寝ぼけてるみたいだ👈\\n\\nいつもはリモコンでエンジンかけるからなんてこと無かったけど今日はダメだな😱',\n",
              " 'トミカスピードウェイGO!GO!アクセルサーキットに貼るためのラベル、枚数も追加してできました。\\n #オリジナルは保存 #ミニカー #トミカ #スピードウェイ #GOGO #アクセルサーキット #初回版 #modelcar… https://t.co/X7gXn5kPrx',\n",
              " '首都高の右手に\\n今日も東京タワー\\nここを通るたび\\nアクセル強く踏む\\n\\n&lt;君が呼ぶのなら&gt;',\n",
              " 'あたしはアホだからさ、\\nさぁぁ、そっからトリプルアクセルだっ！と本気で期待した…（笑） https://t.co/8wYvue8QsU',\n",
              " 'RT @YoshimotoHiroki: 普段はクラッチや駆動系を労るために極力アクセルを入れずに低回転でクラッチ繋ぐだけで発進して車に優しい系男子ですが年内最後やから今日はドカンと思いっきり繋いでやりましたわ😎\\u3000たまにはそんなんもえぇやろRCF子ちゃん？\\n#WheelSpin…',\n",
              " '【定期】最近は特に駄馬のアクセルトリオが可愛くてしょうがない系腐女子です。取り扱いにご注意下さい。',\n",
              " 'みきわめ受かりました😳\\nアクセルって大事だなぁ',\n",
              " '浅田真央ちゃんのトリプルアクセルで僕の菊の門をほじくってくださひぃぃぃいい！！おっほぉぉおお！！',\n",
              " '@swec_34 おはようございます。まだ慣らし運転なのであまりアクセル開けてませんし慣れてきたらもうちょっと落ちるかもしれませんね',\n",
              " '@iwamotonaoki2 べた踏坂と言われてます。\\nアクセル思いっきり踏まないと上がれないとか！\\nこの前、バスですが登ってきましたが、乗ってるとそれほど感じないのが、残念でした！',\n",
              " '食事を即席麺などで済ませていたらアクセルに殴られる',\n",
              " 'アクセルフォーム！',\n",
              " '「…………ま、事情は理解しました。確かに昨夜は予報外れの大雨でしたし？二十三区西部でネットワーク障害もあったようですし？帰宅には困難が伴ったかもしれませんね？」倉崎楓子【アクセル・ワールド５\\u3000―星影の浮き橋―】（電撃文庫）',\n",
              " '若さにはアクセルだけで\\nブレーキがついてないと\\n少しつらそうに呟く\\nあなたの目を見ると\\n心が痛くなる\\n若さには罪という\\n文字が似合うと\\nため息ついても\\nあなたはすぐ私を許すわ\\n\\nロンリー カナリア',\n",
              " 'いちご100% ニャンコイ 化物語 そらのおとしもの僕は友達が少ない ハイスクールd、d きんもざ アマガミ とらドラ！ セキレイ 俺妹 織田信奈 君町 進撃 とある 神のみ アクセルワールド リトバス エンジェルビーツ  好きなアニメあったらRT #RTした人全員フォローする',\n",
              " 'ここでアクセル全開、インド人を右に！',\n",
              " 'おはよーございます❗️\\n今週も始まります！\\n先週は日経上がれど持ち株は…てな感じでした😉\\n今日もテリロジー、オルト、ポンツー上がるの期待\\nオルトまだまだこれからですからね😅\\n後は、三桜工業、アクセルマーク、エディアを注視します🤗… https://t.co/YOJTYAvmsT',\n",
              " 'アクセルとブレーキの感覚が非常に難しい\\n早く慣れたい',\n",
              " '成功できない原因のほとんどは、アクセルとブレーキを同時に踏みしめている事である',\n",
              " 'RT @esaka_staff: 【今日の自立訓練】\\n\\n各項目の満点は20点\\n\\nFCとACを足して\\n20くらいが丁度いい\\n\\nどっちも高い状態は\\nアクセルとブレーキを\\n同時に踏んでる状態\\n\\nどっちも低い状態は\\nアクセルとブレーキの\\nどちらも動かせてない状態\\n\\n稼働しすぎてる人と…',\n",
              " '@ZiraiF 昔からスカノヴァ出すならリゾネーターよりシンクロンのほうがいいって言われてましたしね。\\n最近だと逆にシンクロンで盤面強くするなら下手にアクセルシンクロ狙うよりアビス置いた方が楽ってこともありましたし、持ちつ持たれつのいいライバルなのでは。',\n",
              " 'リンダン\\n世界選手権2011優勝\\nロンドンオリンピック🥇\\n世界選手権2013優勝\\n\\nチェンロン\\n世界選手権2014優勝\\n世界選手権2015優勝\\nリオオリンピック🥇\\n\\nアクセルセン\\n世界選手権2017優勝\\n\\n桃田選手\\n2018世界選… https://t.co/boOAFgUOaC',\n",
              " 'だったんです\\nブレーキを押したままでは、前には進みません\\nアクセルを押さなければ、前には進みません\\nブレーキとアクセルを同時に押していても、前には進みません\\nブレーキをはずして、\\nアクセルを押すことで初めて前に進みます\\n前に進まな… https://t.co/g1fXaSbdlI',\n",
              " '筐体のシートの前後の位置は、アクセルペダルを踏み込んで調整するときに、ハーフが一番やりやすい位置に合わせるのがよい。\\n\\n答えは〇\\n座席の位置は人によってまちまちです。自分の位置に毎回調整しましょう。\\n\\n#湾岸マキシ5',\n",
              " 'クレイドル日本橋 | 物件情報 | アクセルホーム    https://t.co/7KOrFjhbmb @axelhomeさんから',\n",
              " '@COREi9_9900k おはです！\\nたまに反応するのはするんですけど、やっぱりアクセルが使えないw',\n",
              " '【アニメ】 男子高校生の日常/キルミー/日常/とある/いぬぼく/ニャル子/アクセルワールド/あっち/ブラック★/電波女/はがない/まよチキ/けいおん/アイマス/いつ天/俺妹',\n",
              " 'RT @hawaimaruo: @axcel0901 アクセルさんがどんな人か見てみたい。のだと思います。\\n\\nアフィリの飲み会に行くと「アクセルさんってどんな人？」とよく聞かれます。',\n",
              " '@Bibisan466 マジでアクセル踏むの恐怖になりましてよ…\\nまだまだ冷えそうですわ、、、',\n",
              " 'ゼロ：クイズだ、この世に俺がいないとする\\nエックス：嫌だ\\nゼロ：俺もだ\\nアクセル：クイズどこ行ったの',\n",
              " 'RT @rysyrys: だから日本では、①差別アクセルだけでなく、②反差別ブレーキの致命的な弱さの側を、問題にしないとダメなのです。\\n②反差別ブレーキを踏むのは日本の市民の義務です。\\n日本国憲法がいう「不断の努力」として、反差別ブレーキを踏むことが求められています。\\nブレーキ…',\n",
              " '3624 アクセルマーク\\nプレセール間近だぞ\\nLEGENDRY 3種類 各300枚(30000円相当ETH×300)\\nEPIC            4種類 各400枚(7500円相当ETH×400)\\nRARE… https://t.co/XAF29DE6ex',\n",
              " 'ホルモン補充すると睡眠時間が減るらしいとブログで書いている人がいた💤\\n\\n体外の治療開始してから本当に眠れなくて、眠らないと卵胞育たないし、本当に焦ってた💦\\n\\nたまにぐっすり寝れるとすごくホッとするんだけど、次の日はまた眠れない…\\n\\nアクセル、ブレーキ同時踏みみたいで効率わるっ',\n",
              " 'オリゼー茅場町 | 物件情報 | アクセルホーム    https://t.co/r6pevC2YTP @axelhomeさんから',\n",
              " 'RT @oiganai: ジェファンのヌナ、「幼いってからかわないでくださいよ。そんなにウブじゃないんですよ僕は。」て感じだと思ったら「ヌナマジ綺麗❗️俺の目に入れても痛くないよ❗️ヌナを見ると心臓が止まる❗️俺を追い出さないで❗️幼いってからかってもイイ❗️俺が守るよ❗️」て…',\n",
              " '@Lauto292516 アクセルワールドかなw\\n主人公にはなりたくないが(´-ω-`)',\n",
              " 'RT @toyo_afi: @axcel0901 @hawaimaruo 私も飲み会で「アクセルさんってどんな人？」って聞かれた事ありますw（╹◡╹）',\n",
              " '猫だと思って頭撫でたら噛まれてああすいませんびっくりしたよねごめんねと言ったらまた噛まれてなんだコイツと思ったらアクセルでしたまた噛まれました',\n",
              " '《アクセル》【ツイてる、ツイてる！】◆･.｡*†*｡.･◆･.｡*†*｡.･◆･.｡*†*｡.･◆･.｡*†*｡.･◆',\n",
              " '#歌詞を呟くだけでフォロワーが曲名を当ててくれる当てられたら続行\\n第3問(2問目もバレたので)\\n\\nFire up,Ignition\\nヘヴィーなプレッシャー\\nぶっ壊してアクセル踏み込め\\n(答え) 今 時代が (答え)！',\n",
              " 'RT @SUBARU_CORP: NEW SUBARU XV DEBUT!!\\n\\n街も自然も、世代や価値観さえも、軽やかに超えて。\\n好奇心が高鳴るほうへ、アクセルを踏み込もう。\\n\\n#SUBARUXV\\n#全グレードでアイサイト・ツーリングアシスト',\n",
              " 'RT @TFSI2: オーサー氏によれば日本スケート連盟がNHK杯後、ブリアン氏の名前を申請したそうで、なぜそのようなことになったのか不明。\\nまた4回転ルッツについては承知していたものの、4回転アクセルについては映像を見て驚き、自分は試すよう提案しなかっただろうとのこと。(3/…',\n",
              " 'RT @Jun_ji0330_Jz: そう❗️満員❗️あと18枚で‼️\\n\\nえーじろ、会場来るまでに手売りして来て( ´ ∀ ` )\\n\\nRT @sg69777: さぁ～今日はブルハチの\\nRe: Re:Reset アクセル全開追加公演\\n渋谷Rex 2デイズ初日なり～🎶\\n\\n満員御礼ガ…',\n",
              " 'まどマギ/ストウィッチ/アクセルワールド/SAOなど好きです！',\n",
              " '昨日1の走り！\\n普通に行けば良かったのに中の車に目が行ってやめるか行くか悩んだあげく！(言い訳)\\nアクセル踏めずただ流されてるだけ！笑 https://t.co/0hBKDTyqKH',\n",
              " 'いやーやっぱり遊星とジャックのエースの差ってカッケェ…\\n\\n仲間とともに新たな姿となる（アクセルシンクロ）遊星\\n\\n絶対王者に従者を増やしていく（ダブルチューニング）ジャック\\n\\nそれはそうとスパノヴァがジャンクデッキと相性良いのは草',\n",
              " 'アクセル:何で邪魔するのさ！\\nウオフライ:あそこにいたオメーがわりぃんだよ！\\nアクセル:というよりあれはもう僕を狙ってたよね。任務にかこつけて、やらしー\\nウオフライ:あそこにいた敵を纏めて倒そうとしただけだろうが！\\nイノブスキー:（コイツらもうちょっと仲良く出来ねえのか……）',\n",
              " 'アクセル・ワールド は2クールやぞ',\n",
              " '車線変更しよるのにアクセル踏んでいれさせんめちしてクラクション鳴らしてくるのなんなん？入れそうやけ入りよんのに朝っぱらからうるせえよ意地悪すると返ってくるよ？？？？',\n",
              " 'RT @EXCEL__: 駐車場に停めてた自分の車に突撃した知らんおっさんのトラック、確認した所駐車場の契約者ですらなく、無断で停めた上にRとDを間違え、ブレーキとアクセルも間違えるというフォロー可能な要素が1mmも無くておハーブが生え散らかりますわよ',\n",
              " '@KomoriAina アクセルは草カワイイ',\n",
              " 'なんかいろんなこと考えるんだけどさ〜、擦り切れるまで頑張らなくていいと思うんだよね〜〜。アクセル踏みっぱなしじゃカーブも信号も効率悪いじゃない？給油のタイミングも分からなくなっちゃうよ\\n自分の個性、性質という車を乗りこなす術を身につけることの方が大事だと思うんだ〜〜',\n",
              " 'マニュアルトランスミッション(MT)ってのは、所謂自転車で言うギアのことだ。\\n使えるなら使った方が速いが、使えないなら無理に初心者のうちから使う必要はない。\\nオートマ(AT)の方が必要な操作が減るからその分ハンドリングやアクセル操作に余裕が生まれる。',\n",
              " '定期!ニコ生やってますhttps://t.co/PJEjhVWpdeアニメ（CLANNAD、kanon、AIR、ＡＢ、氷菓、アクセルワールド、）、ゲーム、リトバス、クド、jubeat、ドラマニ、リフレクなどなどフォーローよろしくお願いします',\n",
              " 'おちんちんアクセル！！！！！動け！！！！動くんだ！！！！！！！動いた！！！！！！ギュギャギャッギュイーーーン！！！！！！！！ブゥオーーーーーーーン！！！！\\n折れた........\\n#shindanmaker\\nhttps://t.co/SiNVniBz2o']"
            ]
          },
          "metadata": {
            "tags": []
          },
          "execution_count": 43
        }
      ]
    },
    {
      "cell_type": "code",
      "metadata": {
        "id": "WPvFF6Ui9Deu",
        "colab_type": "code",
        "colab": {}
      },
      "source": [
        "dummy_tweet = '9867 アクセル\\n\\nストップになる前にちょっと買えたので、ストップ高で売っちゃいます。\\n小銭稼ぎ。\\nまだ上がりそうな割安ですが、利益率低いのが気になるのでやめときます。'"
      ],
      "execution_count": 0,
      "outputs": []
    },
    {
      "cell_type": "code",
      "metadata": {
        "id": "kX99a_Mc9JkC",
        "colab_type": "code",
        "colab": {}
      },
      "source": [
        "texts.append(dummy_tweet)"
      ],
      "execution_count": 0,
      "outputs": []
    },
    {
      "cell_type": "code",
      "metadata": {
        "id": "8ecQIFCRxsTg",
        "colab_type": "code",
        "colab": {}
      },
      "source": [
        "reference_sentence1 = 'アクセルの社員がインサイダー取引により逮捕された。'\n",
        "reference_sentence2 = 'アクセル、業績好調により上方修正を発表した。'\n",
        "reference_sentence3 = 'おじいちゃんがアクセルを踏み込みコンビニに突っ込んだ。'"
      ],
      "execution_count": 0,
      "outputs": []
    },
    {
      "cell_type": "code",
      "metadata": {
        "id": "FdA9YZQSyR2w",
        "colab_type": "code",
        "colab": {}
      },
      "source": [
        "reference_sentence1_vec = bert.get_sentence_embedding(reference_sentence1)\n",
        "reference_sentence2_vec = bert.get_sentence_embedding(reference_sentence2)\n",
        "reference_sentence3_vec = bert.get_sentence_embedding(reference_sentence3)"
      ],
      "execution_count": 0,
      "outputs": []
    },
    {
      "cell_type": "code",
      "metadata": {
        "id": "fC2XL-c7yflC",
        "colab_type": "code",
        "colab": {
          "base_uri": "https://localhost:8080/",
          "height": 34
        },
        "outputId": "8491a33b-d0ab-49b8-f425-75beca64e0a1"
      },
      "source": [
        "reference_sentence1_vec.shape"
      ],
      "execution_count": 138,
      "outputs": [
        {
          "output_type": "execute_result",
          "data": {
            "text/plain": [
              "(768,)"
            ]
          },
          "metadata": {
            "tags": []
          },
          "execution_count": 138
        }
      ]
    },
    {
      "cell_type": "code",
      "metadata": {
        "id": "Vici-QIeysYg",
        "colab_type": "code",
        "colab": {
          "base_uri": "https://localhost:8080/",
          "height": 1000
        },
        "outputId": "d81b5ea3-e2d2-4fd5-af98-d2781694abe6"
      },
      "source": [
        "tweet_vecs = []\n",
        "fail_cnt = 0\n",
        "\n",
        "for i, tweet in enumerate(pb(texts)):\n",
        "    print(tweet)\n",
        "    tweet = tweet.replace('#', '').replace('@', '')\n",
        "    try:\n",
        "        vec = bert.get_sentence_embedding(tweet)\n",
        "        tweet_vecs.append(vec)\n",
        "    except Exception as e:\n",
        "        tweet_vecs.append(None)\n",
        "        fail_cnt += 1\n",
        "    # time.sleep(1)\n",
        "    print('='*50)"
      ],
      "execution_count": 139,
      "outputs": [
        {
          "output_type": "display_data",
          "data": {
            "text/html": [
              "\n",
              "    <div>\n",
              "        <style>\n",
              "            /* Turns off some styling */\n",
              "            progress {\n",
              "                /* gets rid of default border in Firefox and Opera. */\n",
              "                border: none;\n",
              "                /* Needs to be in here for Safari polyfill so background images work as expected. */\n",
              "                background-size: auto;\n",
              "            }\n",
              "            .progress-bar-interrupted, .progress-bar-interrupted::-webkit-progress-bar {\n",
              "                background: #F44336;\n",
              "            }\n",
              "        </style>\n",
              "      <progress value='191' class='' max='191', style='width:300px; height:20px; vertical-align: middle;'></progress>\n",
              "      100.00% [191/191 01:24<00:00]\n",
              "    </div>\n",
              "    "
            ],
            "text/plain": [
              "<IPython.core.display.HTML object>"
            ]
          },
          "metadata": {
            "tags": []
          }
        },
        {
          "output_type": "stream",
          "text": [
            "アクセル踏むとマッハの悪癖私もあるなあ……\n",
            "==================================================\n",
            "RT @008000dic: ナイス 【錆喰いビスコ4 業花の帝冠、花束の剣 (電撃文庫)/瘤久保 慎司】読んでなかった第二部開始の第四巻。相も変わらずアクセルぶっ放しのコンビだが、敵も味方も愚直な熱い奴らが目白押し。サタハ… → https://t.co/gHnzoRbsRw…\n",
            "==================================================\n",
            "RT @belmond_b_2434: やるわ\n",
            "【マリオカート８ DX】はい！ここでアクセルですね教官！【にじさんじ】 https://t.co/REUtDf2BnY @YouTubeさんから\n"
          ],
          "name": "stdout"
        },
        {
          "output_type": "stream",
          "text": [
            "Analysis is done ignoring \"\\n\".\n"
          ],
          "name": "stderr"
        },
        {
          "output_type": "stream",
          "text": [
            "==================================================\n",
            "Wﾚ*0ω0)おはよアクセル　　おはよロクサス(；∀； ≧＞\n",
            "==================================================\n",
            "アクセルナットすぐ取れる奴\n",
            "==================================================\n",
            "RT @chipdale591106: えげつい瞬間見てしまった。救急車に突っ込んだ。右上の場所消防署。出動して2分で事故！えげつい！救急車待ってる人もかわいそうだし、救急隊員の人悪くないのに謝ってたし、怪我してないか聞いてたのに、どえらい衝撃でしたからね！とか運転手言ってるし…\n",
            "==================================================\n",
            "RT @riderzio2068: #特撮トリビア\n",
            "クロックアップは設定上、１分経つと強制解除される…\n",
            "\n",
            "…と言うのは。ガセ \n",
            "\n",
            "クロックアップは、変身者に無理を強いらぬ為に…僅か〝数秒〟でクロックオーバーする。\n",
            "\n",
            "数十秒ですらも無い故に、一回のクロックアップの持続時間はアクセ…\n"
          ],
          "name": "stdout"
        },
        {
          "output_type": "stream",
          "text": [
            "Analysis is done ignoring \"\\n\".\n"
          ],
          "name": "stderr"
        },
        {
          "output_type": "stream",
          "text": [
            "==================================================\n",
            "劣等生読み終わったら、バカテスとアクセルワールド読むことにした\n",
            "==================================================\n",
            "RT @yu___he0703: 損保ジャパンの問題が色々流れてるけど間違いなく入らないほうがいいし相手にしたくない。\n",
            "\n",
            "3月の事故、相手が確認不足、アクセル踏んだって言ってても損保ジャパンは避けれただろって。弁護士も呆れてるくらいだから。入らない方がいい。 https://t…\n"
          ],
          "name": "stdout"
        },
        {
          "output_type": "stream",
          "text": [
            "Analysis is done ignoring \"\\n\".\n"
          ],
          "name": "stderr"
        },
        {
          "output_type": "stream",
          "text": [
            "==================================================\n",
            "@62BKW 俺も最初、アクセルブレーキの繊細さにビックリした。特にアクセル。\n",
            "==================================================\n",
            "RT @ncc170116: @sunafukin99 @hokuetsu_noto もう、維新支持者のテンプレだった「都構想が嫌なら大阪から出て行け」を知事や市長が自ら言いそうな勢いですわ。結局、公明こそが維新のアクセル役だったんですなあ。\n",
            "==================================================\n",
            "@kobamac おはようございます、Addressリッター35超えるのですねうちのスカブは30超えた事無いですね、排気量よりもアクセル操作が荒いかもちょっとアクセル操作考えたいと思います。\n",
            "==================================================\n",
            "遅刻しそうだって？しっかり捕まってろ…＼ｱｸｾﾙ!／ 変…身ッ！！\n",
            "==================================================\n",
            "RT @pichipichi98: アクセルマークに関して\n",
            "ブロックチェーンゲームを既存のスマホゲーと同じ思考で考えたらダメ\n",
            "前者はお金も稼げて楽しむ、後者はお金を使って楽しむ。セールスポイントの性質が全く違う。まだ特徴が大衆に認知されてない→伸び代大いにあり\n",
            "時代の流れ\n",
            "ポチ…\n"
          ],
          "name": "stdout"
        },
        {
          "output_type": "stream",
          "text": [
            "Analysis is done ignoring \"\\n\".\n"
          ],
          "name": "stderr"
        },
        {
          "output_type": "stream",
          "text": [
            "==================================================\n",
            "@gucci_toki 男は、黙ってフルアクセル(笑)\n",
            "==================================================\n",
            "ＯＰＥＮしました！　-アクセル-\n",
            "\n",
            "やあ！オレはピーチタウンにいたアクセルだぜ！\n",
            "マイシティに交番建てたよ！もう、立派なお巡りさんだ！\n",
            "今度暇が出来たら、是非遊びに来てくれよな！\n",
            "それじゃあ、また！\n"
          ],
          "name": "stdout"
        },
        {
          "output_type": "stream",
          "text": [
            "Analysis is done ignoring \"\\n\".\n"
          ],
          "name": "stderr"
        },
        {
          "output_type": "stream",
          "text": [
            "==================================================\n",
            "RT @IKUObass190: おはよう！\n",
            "\n",
            "本日は\n",
            "BULL ZEICHEN 88\n",
            "Re: “Re:Reset” GIG✨アクセル全開追加公演‼️\n",
            "逢いたくて〜\n",
            "\n",
            "渋谷Rex 2デイズ初日です！\n",
            "\n",
            "今年のブル納めの2日間！\n",
            "\n",
            "激しく楽しく\n",
            "いきたいと思います‼️\n"
          ],
          "name": "stdout"
        },
        {
          "output_type": "stream",
          "text": [
            "Analysis is done ignoring \"\\n\".\n"
          ],
          "name": "stderr"
        },
        {
          "output_type": "stream",
          "text": [
            "==================================================\n",
            "「後方録画中📷」じゃねぇよステッカー貼る前にアクセル踏めカス\n",
            "==================================================\n",
            "RT @sg69777: さぁ～今日はブルハチの\n",
            "Re: Re:Reset アクセル全開追加公演\n",
            "渋谷Rex 2デイズ初日なり～🎶\n",
            "\n",
            "満員御礼ガッツリ楽しむぞっ👊\n",
            "\n",
            "みんな、替えのTシャツ&amp;タオルは必須ばい！\n",
            "\n",
            "なぜならビシャビシャにするんでwww\n",
            "\n",
            "んじゃのち😆✋\n"
          ],
          "name": "stdout"
        },
        {
          "output_type": "stream",
          "text": [
            "Analysis is done ignoring \"\\n\".\n"
          ],
          "name": "stderr"
        },
        {
          "output_type": "stream",
          "text": [
            "==================================================\n",
            "6730アクセル　何？\n",
            "==================================================\n",
            "RT @seigura: 好評発売中の声グラ1月号に掲載されている「声優養成所＆専門学校特集」が『https://t.co/vjZnr6hIGj』でも公開中！　「アクセルワン付属養成所 アクセルゼロ」からは、講師の森川智之先生、卒業生の葉山翔太さん、在校生の日原滉太さんが登場！…\n",
            "==================================================\n",
            "ここに掲載されているGTS-Rに何年か乗っていたが、あれは官能的だったな。\n",
            "１４０㎞からアクセル踏み込んでも背中に加速感受けながら２００㎞オーバーまで加速してた。\n",
            "現在乗ってるのでも２００は出せるが、今では絶対に出来んw\n",
            "https://t.co/WFWzNAc3Ed\n"
          ],
          "name": "stdout"
        },
        {
          "output_type": "stream",
          "text": [
            "Analysis is done ignoring \"\\n\".\n"
          ],
          "name": "stderr"
        },
        {
          "output_type": "stream",
          "text": [
            "==================================================\n",
            "免許取る時シミュレーター教習何回かあって、直進すると子供を轢き、右に迂回するとじじい轢いてしまうっていうシチュエーションの対策受講者3人で考えようって話のときに「未来に対する期待値が低いじじいを轢きます」って迷わずアクセル踏み込んだA君元気かな。あれ正解は一時停止なんだよね\n",
            "==================================================\n",
            "先日のイベント向かう際、山形道でアクセルふみっぱ（3速→4速入れると失速）で68㎞/hという状況になって、こりゃもうエンジン限界だろと。\n",
            "ちなみに、其のあとすぐ関山トンネル内でオーバーレブにてエンブレかかって焦った。\n"
          ],
          "name": "stdout"
        },
        {
          "output_type": "stream",
          "text": [
            "Analysis is done ignoring \"\\n\".\n"
          ],
          "name": "stderr"
        },
        {
          "output_type": "stream",
          "text": [
            "==================================================\n",
            "@axcel0901 アクセルさんがどんな人か見てみたい。のだと思います。\n",
            "\n",
            "アフィリの飲み会に行くと「アクセルさんってどんな人？」とよく聞かれます。\n"
          ],
          "name": "stdout"
        },
        {
          "output_type": "stream",
          "text": [
            "Analysis is done ignoring \"\\n\".\n"
          ],
          "name": "stderr"
        },
        {
          "output_type": "stream",
          "text": [
            "==================================================\n",
            "ハイ！！\n",
            "トリプルアクセル成功♥︎ https://t.co/Ag3WyzS95a\n",
            "==================================================\n"
          ],
          "name": "stdout"
        },
        {
          "output_type": "stream",
          "text": [
            "Analysis is done ignoring \"\\n\".\n"
          ],
          "name": "stderr"
        },
        {
          "output_type": "stream",
          "text": [
            "RT @keibalab: 【最内からアクセル全開】\n",
            "19年クイーン賞1着\n",
            "クレイジーアクセル\n",
            "Crazy Accel\n",
            "(牝4、大井・渡邉和雄厩舎) 吉原寛人騎手\n",
            "父ロージズインメイ\n",
            "母ベアフルート\n",
            "母父サクラバクシンオー\n",
            "#競馬 #keiba #クレイジーアクセル \n",
            "http…\n"
          ],
          "name": "stdout"
        },
        {
          "output_type": "stream",
          "text": [
            "Analysis is done ignoring \"\\n\".\n"
          ],
          "name": "stderr"
        },
        {
          "output_type": "stream",
          "text": [
            "==================================================\n",
            "RT @tmrbr1130: スカーレッド・スーパーノヴァドラゴンのトリプルチューニング、アクセルシンクロに対するダブルチューニングのように、リミットオーバーアクセルシンクロに対するように「ジャックが再び遊星に追いつくために辿り着いた新たなる境地」を感じさせてきてめちゃくちゃ泣…\n",
            "==================================================\n",
            "このツイッターを始めた切っ掛けですが、ノリと勢いです。\n",
            "迫さんの動画を見て、やる価値を感じてはじめました\n",
            "ですが、今ではあらゆる成果を出すための方法を編み出せました\n",
            "僕に足りなかったのは、\n",
            "イメージを操作する力\n",
            "心のアクセルを押す… https://t.co/MTMn6DaqBy\n"
          ],
          "name": "stdout"
        },
        {
          "output_type": "stream",
          "text": [
            "Analysis is done ignoring \"\\n\".\n"
          ],
          "name": "stderr"
        },
        {
          "output_type": "stream",
          "text": [
            "==================================================\n",
            "RT @seimei_h28: 【ノーミスしても勝たせてもらえない】\n",
            "\n",
            "ネイサンだってアクセル以外の5種4回転ジャンプをプログラムに組み込んだらそれ以降、全然5種類を組み込んだジャンプをやってない。\n",
            "ループもやらない。本当にフィギュアが好きだったら全ての技を習得してやってみれば…\n"
          ],
          "name": "stdout"
        },
        {
          "output_type": "stream",
          "text": [
            "Analysis is done ignoring \"\\n\".\n"
          ],
          "name": "stderr"
        },
        {
          "output_type": "stream",
          "text": [
            "==================================================\n",
            "この当時世界中の人がバンダナをアクセル・ローズ巻きしてたな。 https://t.co/QjwMTMIG5h\n",
            "==================================================\n",
            "アクセルワールド、見た目が好みのスカイ・レイカーさんが出てきて終わった記憶しかないから二期をやれ。\n",
            "==================================================\n",
            "RT @K09cNNxAbQvjnBY: 本気でアクセル踏めばまわりに恐れを抱かせるほど大野智はとてつもないエネルギーをもっているんだろう\n",
            "それをよく解ってるから\n",
            "超人的な努力はまわりに見せず\n",
            "いつも努めて穏やかに謙虚でいるのかな、普通だよって\n",
            "\n",
            "解き放ちたい欲が\n",
            "沸き上がって…\n"
          ],
          "name": "stdout"
        },
        {
          "output_type": "stream",
          "text": [
            "Analysis is done ignoring \"\\n\".\n"
          ],
          "name": "stderr"
        },
        {
          "output_type": "stream",
          "text": [
            "==================================================\n",
            "みつりちゃんのスケパロとか描きたい…あの胸をもろともしないトリプルアクセル！！みたいな。こんなアホな実況いないとは思うけど。女子もトリプルアクセル跳ぶ時代やでな。\n",
            "==================================================\n",
            "RT @alcaffe_yd: 確かに発言を見る限りその形跡はない。法学部出なのに。憲法の授業は代返頼んでたかな。ま、どこにでも不真面目な学生はいるもの。でも彼らは自分が憲法に触れる資格がないと知っている。ブレーキとアクセルの区別ができない人間は運転しないよ。アレはそれもわから…\n",
            "==================================================\n",
            "RT @kokoro_odoru_1: アクセルを踏んだ瞬間ビューンですよｗｗｗ\n",
            "\n",
            " https://t.co/oCETehLr2b\n",
            "==================================================\n"
          ],
          "name": "stdout"
        },
        {
          "output_type": "stream",
          "text": [
            "Analysis is done ignoring \"\\n\".\n"
          ],
          "name": "stderr"
        },
        {
          "output_type": "stream",
          "text": [
            "アクセルは全開で\n",
            "且つどデカイ夢がある\n",
            "Hey tip top見える頂き\n",
            "この第六感の閃き\n",
            "だからまだ終わらないこのShowは\n",
            "消えてなくなれよ邪魔なノウハウ\n",
            "そうだもっと音楽をしよう\n",
            "音を楽しんで愛奏でよう BANG!\n",
            "\n",
            "『We are the G.S』\n"
          ],
          "name": "stdout"
        },
        {
          "output_type": "stream",
          "text": [
            "Analysis is done ignoring \"\\n\".\n"
          ],
          "name": "stderr"
        },
        {
          "output_type": "stream",
          "text": [
            "==================================================\n",
            "RT @FlyHigh_AndFree: ⑤「彼はGPFにはより技術志向のアプローチをとっていた。彼は非常に負けず嫌いで、ネイサンがやってやっていることを見ている。アクセル(4A)挑戦を私は勧めなかっただろう。でも、彼はあのジャンプに使命を感じている」\n",
            "全日本にはBrianも同…\n"
          ],
          "name": "stdout"
        },
        {
          "output_type": "stream",
          "text": [
            "Analysis is done ignoring \"\\n\".\n"
          ],
          "name": "stderr"
        },
        {
          "output_type": "stream",
          "text": [
            "==================================================\n",
            "@n_o_m__ アクセルシンクロするよりは出しやすいから...\n",
            "==================================================\n",
            "RT @dais_2740: グアム散歩した時見かけたんだけどクソかっこよかった。\n",
            "後ろの知ったかぶり日本人が｢アクセル踏んですぐブレーキ踏んでやればどの車でもできるよ(笑)｣とか彼女に言ってて草 https://t.co/cXW3iosHKs\n"
          ],
          "name": "stdout"
        },
        {
          "output_type": "stream",
          "text": [
            "Analysis is done ignoring \"\\n\".\n"
          ],
          "name": "stderr"
        },
        {
          "output_type": "stream",
          "text": [
            "==================================================\n",
            "@mikan_1219 ですね(笑)\n",
            "神から大ヒント貰ってたのに逆らってしまった！\n",
            "\n",
            "また夢みれるように月曜からアクセル全開🔥\n"
          ],
          "name": "stdout"
        },
        {
          "output_type": "stream",
          "text": [
            "Analysis is done ignoring \"\\n\".\n"
          ],
          "name": "stderr"
        },
        {
          "output_type": "stream",
          "text": [
            "==================================================\n",
            "@mochi_dog46 「怖い」って正直な感想を言っただけであそこまで自分の考えを妄想アクセル全開で語れるのってすごいよ…\n",
            "最近は自分を含めて、「ファンのせいで」欅を心から楽しく応援出来なくなる人が増えているのがよくわかる…\n"
          ],
          "name": "stdout"
        },
        {
          "output_type": "stream",
          "text": [
            "Analysis is done ignoring \"\\n\".\n"
          ],
          "name": "stderr"
        },
        {
          "output_type": "stream",
          "text": [
            "==================================================\n",
            "@bokebot @Kqfy6 氷の上で回転使ってシューズ脱ごうとしてそれでトリプルアクセルをしていた・・・？\n",
            "==================================================\n",
            "ヴォルフ「免許取る時シミュレーター教習何回かあって直進すると子供を轢き、右に迂回するとじじい轢いてしまうっていうシチュエーションの対策受講者3人で考えようって話のときに「未来に対する期待値が低いじじいを轢きます」って迷わずアクセル踏み込んだイツキ元気かな。あの正解は一時停止だ」\n",
            "==================================================\n",
            "@sada_s2000 さださんありがとう🙇💕\n",
            "アクセルベタ踏みでいくよーっ✊\n",
            "ファイナルからも応援宜しくねっ✨\n"
          ],
          "name": "stdout"
        },
        {
          "output_type": "stream",
          "text": [
            "Analysis is done ignoring \"\\n\".\n"
          ],
          "name": "stderr"
        },
        {
          "output_type": "stream",
          "text": [
            "==================================================\n",
            "RT @HSSHSP5: 先の約束をするのが苦手。約束をする時はアクセル状態でも、その日になったらブレーキ状態だったり。だから私は突然誘ったりする。友達は心得てて突然の誘いで会ってくれたりする。気まぐれに思われるかもしれないけど、そのくらい感情の揺れ幅が大きい。それが私なんだ。…\n",
            "==================================================\n",
            "アクセルシンクロに言及しておきながら真っ先に例示するのがグリオンガンドなのズッコケちゃうな\n",
            "==================================================\n",
            "おちんちんアクセル！！！！！動いてくれ！！！！動けよ！！！！！！！動いた！！！！！！ギュオンギュオオーーーーン！！！！！！！！ギュオッギュオオーーーーン！！！！\n",
            "時速160キロ！！！！！！！！！！！\n",
            "#shindanmaker\n",
            "https://t.co/PdcXJzEdDf\n"
          ],
          "name": "stdout"
        },
        {
          "output_type": "stream",
          "text": [
            "Analysis is done ignoring \"\\n\".\n"
          ],
          "name": "stderr"
        },
        {
          "output_type": "stream",
          "text": [
            "==================================================\n",
            "【メモ】\n",
            "暖気\n",
            "エンジンオフ\n",
            "パワー2回(オレンジ)\n",
            "Pでアクセル2回\n",
            "Nでアクセル2回\n",
            "Pでアクセル2回\n",
            "==================================================\n"
          ],
          "name": "stdout"
        },
        {
          "output_type": "stream",
          "text": [
            "Analysis is done ignoring \"\\n\".\n"
          ],
          "name": "stderr"
        },
        {
          "output_type": "stream",
          "text": [
            "Wﾚ*0ω0)実はアクセルがアイス買ってきていいよってくれるお金は全部貯金してあるんだ！三人で暮らすときにお金がないと困るだろ？ アイス三人分くらい俺がちょっと頑張ってハートレス倒せば稼いでこれるし\n",
            "==================================================\n",
            "RT @TrendNewsJP2020: アクセルを踏んだ瞬間.......ｗｗｗ\n",
            "\n",
            " https://t.co/Wwas50o42B\n",
            "==================================================\n"
          ],
          "name": "stdout"
        },
        {
          "output_type": "stream",
          "text": [
            "Analysis is done ignoring \"\\n\".\n"
          ],
          "name": "stderr"
        },
        {
          "output_type": "stream",
          "text": [
            "車運転してたらブレーキとアクセル踏み間違えて事故りました\n",
            "はい、夢でした\n",
            "怖かったー\n"
          ],
          "name": "stdout"
        },
        {
          "output_type": "stream",
          "text": [
            "Analysis is done ignoring \"\\n\".\n"
          ],
          "name": "stderr"
        },
        {
          "output_type": "stream",
          "text": [
            "==================================================\n",
            "@sukiyaki_AO アクセルシンクロした時の対面の顔が見てえよ～\n",
            "==================================================\n",
            "おちんちんアクセル！！！！！動いてくれ！！！！動けよ！！！！！！！動いた！！！！！！ギュオンギュオオーーーーン！！！！！！！！ブボボボォブボォーーーーン！！！！\n",
            "取れた......\n",
            "#shindanmaker\n",
            "https://t.co/lCnnz1Hk6H\n"
          ],
          "name": "stdout"
        },
        {
          "output_type": "stream",
          "text": [
            "Analysis is done ignoring \"\\n\".\n"
          ],
          "name": "stderr"
        },
        {
          "output_type": "stream",
          "text": [
            "==================================================\n",
            "@matarou123 忙しくて発売日に買えませんでした💦\n",
            "数日後、本屋を数件回ってやっと購入🎶\n",
            "毎回カバー絵が楽しみなんですよ☝️😑\n",
            "そして新刊が発売になると１巻から一気に読むのがアクセルスタイル😑\n",
            "映画もコミックも最高です😑💕\n"
          ],
          "name": "stdout"
        },
        {
          "output_type": "stream",
          "text": [
            "Analysis is done ignoring \"\\n\".\n"
          ],
          "name": "stderr"
        },
        {
          "output_type": "stream",
          "text": [
            "==================================================\n",
            "@uhehehehhh_YuNi わかる\n",
            "ギデスカとアクセルセンのスーパープレイは飽きん\n",
            "==================================================\n"
          ],
          "name": "stdout"
        },
        {
          "output_type": "stream",
          "text": [
            "Analysis is done ignoring \"\\n\".\n"
          ],
          "name": "stderr"
        },
        {
          "output_type": "stream",
          "text": [
            "アクセルセンのハイバックに憧れて最近ハイバック打ち始めたけど正直言って今はデメリットしかないわ\n",
            "==================================================\n",
            "RT @BULL8info: 【Re: “Re:Reset” GIG✨アクセル全開追加公演‼️逢いたくて〜】\n",
            "\n",
            "12月13日 (金) 渋谷REX (東京)\n",
            "OPEN 18:30 / START 19:00 \n",
            "\n",
            "グッズの前売りは17時から！今日もチェキ(当たり付き)販売します！当…\n"
          ],
          "name": "stdout"
        },
        {
          "output_type": "stream",
          "text": [
            "Analysis is done ignoring \"\\n\".\n"
          ],
          "name": "stderr"
        },
        {
          "output_type": "stream",
          "text": [
            "==================================================\n",
            "アクセルマーク、じーーーー👀\n",
            "==================================================\n",
            "RT @ayato_dr111: 今日は僕の人生に新たなアクセルがかかった1日でした\n",
            "\n",
            "小田原豊さんとお会いさせていただきました！\n",
            "草刈さんのご厚意で小田原豊さんの弟子として一緒に居させてもらいました\n",
            "たくさん教えていただきました\n",
            "\n",
            "「また一緒に仕事しようぜ武道館で演ろうぜ」っ…\n"
          ],
          "name": "stdout"
        },
        {
          "output_type": "stream",
          "text": [
            "Analysis is done ignoring \"\\n\".\n"
          ],
          "name": "stderr"
        },
        {
          "output_type": "stream",
          "text": [
            "==================================================\n",
            "@Hitokoto_Namake 脳天直撃アクセル\n",
            "==================================================\n",
            "アネーロ銀座 | 物件情報 | アクセルホーム    https://t.co/BrgMxD5uBn @axelhomeさんから\n",
            "==================================================\n",
            "RT @Jun_ji0330_Jz: 今日はBULL ZEICHEN 88🍊🍑🍎🐛\n",
            "\n",
            "Re: “Re:Reset” GIG✨アクセル全開追加公演‼️\n",
            "逢いたくて〜\n",
            "\n",
            "渋谷Rex 2デイズ初日😆\n",
            "\n",
            "やんよ( ｰ́∀ｰ̀ )👍\n"
          ],
          "name": "stdout"
        },
        {
          "output_type": "stream",
          "text": [
            "Analysis is done ignoring \"\\n\".\n"
          ],
          "name": "stderr"
        },
        {
          "output_type": "stream",
          "text": [
            "==================================================\n",
            "北『プァーパー！プァーパー！オイ！何チンタラ走ってんだよ！アクセル踏めよ！…チッ、黄色で止まんなよなァ！黄色はアクセル全開だろうがアァン！？俺様が誰かって？ずーゆーのジャーマネのよっちゃんことY井様だよ！！』岩「フッハッハッ！！アッハッハッハ！！アァー！！」【99'12/29】\n",
            "==================================================\n",
            "@RYO_TAN1541 そろーり…\n",
            "とアクセル踏んだんだけどねえ…w\n",
            "==================================================\n"
          ],
          "name": "stdout"
        },
        {
          "output_type": "stream",
          "text": [
            "Analysis is done ignoring \"\\n\".\n"
          ],
          "name": "stderr"
        },
        {
          "output_type": "stream",
          "text": [
            "先日購入したハンコンの導入がやっとできた\n",
            "がしかし！！\n",
            "設置場所まずいなぁ\n",
            "普通に設置すると目線の高さにハンドルが来て画面が見えない！！\n",
            "アクセルの位置が近すぎて真下に踏み込む！！\n",
            "姿勢が悪すぎて操作に支障が出る！！\n",
            "やっぱりお店… https://t.co/bZq4o88Xea\n"
          ],
          "name": "stdout"
        },
        {
          "output_type": "stream",
          "text": [
            "Analysis is done ignoring \"\\n\".\n"
          ],
          "name": "stderr"
        },
        {
          "output_type": "stream",
          "text": [
            "==================================================\n",
            "@rika_rika__k トリプルアクセル飛んできます❄️☃️\n",
            "==================================================\n",
            "アクセルワールド、アニメだけ見てたんだけどいつになったら2期やるんですか💢\n",
            "==================================================\n",
            "デススト面白いのはいいけど、乗り物のアクセルがR2だから疲れるのと、スキャンがR1だから地味に不便だな\n",
            "==================================================\n",
            "やはりアクセル飼おう\n",
            "==================================================\n",
            "「この要素を強くしすぎるとキャラソンになりそうかな？」「いや、そのままアクセル全開で行け！！埋め尽くせ！！」の姿勢、好き。日野茜ちゃんだからこそできたやり方ではありそうな気はします（担当贔屓\n",
            "==================================================\n",
            "このトラックのアクセルON時の傾き加減ｗ\n",
            "==================================================\n",
            "おちんちんアクセル！！！！！動け！！！！動けよ！！！！！！！動いた！！！！！！ギュインギュイーーーン！！！！！！！！ブボボボォブボォーーーーン！！！！\n",
            "時速140キロ！！！！！！！！！\n",
            "#shindanmaker\n",
            "https://t.co/l1nZeiF58z\n"
          ],
          "name": "stdout"
        },
        {
          "output_type": "stream",
          "text": [
            "Analysis is done ignoring \"\\n\".\n"
          ],
          "name": "stderr"
        },
        {
          "output_type": "stream",
          "text": [
            "==================================================\n",
            "@Hitokoto_Namake 審査員特別賞「頭蓋骨アクセル大破ドロップ」\n",
            "==================================================\n",
            "ぴーちゃん「あしたえなこの握手会一緒にいく友達もうなに話すとか決めてるらしいんだけど！！握手会童貞なんでまだなにも決めてない...なに話そう...」\n",
            "\n",
            "アクセル「うわっきもちわるっ」\n"
          ],
          "name": "stdout"
        },
        {
          "output_type": "stream",
          "text": [
            "Analysis is done ignoring \"\\n\".\n"
          ],
          "name": "stderr"
        },
        {
          "output_type": "stream",
          "text": [
            "==================================================\n",
            "RT @kaburealnet: 【続落から反発】(12/13 13:20)\n",
            "続落2日から反発：日本ＰＣサービス\n",
            "続落4日から反発：ユーピーアール\n",
            "続落2日から反発：アクセルマーク\n",
            "続落3日から反発：日鉄鉱業\n",
            "続落2日から反発：三協立山\n",
            " https://t.co/nkcJCX…\n"
          ],
          "name": "stdout"
        },
        {
          "output_type": "stream",
          "text": [
            "Analysis is done ignoring \"\\n\".\n"
          ],
          "name": "stderr"
        },
        {
          "output_type": "stream",
          "text": [
            "==================================================\n",
            "【定期】ボカロ、アニメ、カゲプロ、うたプリ、いぬぼく、黒バス、銀魂、スケットダンス、テニプリ、青エク、カーニヴァル、デュラララ、絶園のテンペスト、アクセルワールド、another、未来日記、氷菓、夏目、けいおん!、化物語、中二病、K、など大好きです　#RTした人全員フォローする\n",
            "==================================================\n",
            "教官「あそこに好きなアイドルいると思ってアクセル踏んでみ」晃「姫鶴ひなたでお願いします」教官「え？」晃「幼馴染みです」教官「よっしゃ、ひなたちゃんに飛び込め！」晃「うおおおおあああ」教官「ちょwブレーキ踏んでww」晃「俺の恋路に！ブレーキなど！ありません教官！」晃・教官「うおああ\n",
            "==================================================\n",
            "原付エンジンはかかるけどアクセル入れた瞬間エンジン止まるねんけど\n",
            "==================================================\n",
            "シオンにちょっかいを出して泣かせた結果アクセルに顔面を殴られる\n",
            "==================================================\n",
            "CNオリジナル作品はどの時代のどの作品も、それにしかない魅力を持ってくれてるのは今も昔も変わらないと思ってるけど、いかんせんそれらの作品を管理する責任を持つ日本CN運営が最近あさっての方向にアクセル全開だから嘆かずにはいられないんですよね\n",
            "==================================================\n",
            "ブレーキとアクセルを踏み間違えるのは迷惑ポコ\n",
            "==================================================\n",
            "アクセルフィンの調子が悪いよぉ～ #魔法少女リリカルなのは\n",
            "==================================================\n",
            "MT車に乗る夢を見た気がするんやけど\n",
            "ペダルがブレーキ→クラッチ→アクセルで付いてた(おかしい)\n",
            "夢って不思議やの…\n"
          ],
          "name": "stdout"
        },
        {
          "output_type": "stream",
          "text": [
            "Analysis is done ignoring \"\\n\".\n"
          ],
          "name": "stderr"
        },
        {
          "output_type": "stream",
          "text": [
            "==================================================\n",
            "おはようございます。\n",
            "\n",
            "5時に起床して見ていなかった羽生結弦の試合を見て号泣。\n",
            "\n",
            "その後松岡修造の熱に屈することもなくチャーミングすぎる笑顔の結弦。\n",
            "\n",
            "大丈夫、私の中ではノーミスの優勝です。\n",
            "\n",
            "ベッドでのトリプルアクセルは私に任せ… https://t.co/xgGa4g8KaA\n"
          ],
          "name": "stdout"
        },
        {
          "output_type": "stream",
          "text": [
            "Analysis is done ignoring \"\\n\".\n"
          ],
          "name": "stderr"
        },
        {
          "output_type": "stream",
          "text": [
            "==================================================\n",
            "アクセル・ワールドとか好きだけどやや\n",
            "癖あるし一生完結しない\n"
          ],
          "name": "stdout"
        },
        {
          "output_type": "stream",
          "text": [
            "Analysis is done ignoring \"\\n\".\n"
          ],
          "name": "stderr"
        },
        {
          "output_type": "stream",
          "text": [
            "==================================================\n",
            "RT @husahusano_HIGE: アクリルアートまですごいいい感じなのにそれ以降急〜〜にアクセルベタ踏みすな\n",
            "==================================================\n",
            "RT @rougefff: もう今年終わるのに締めるどころか加速して止まらないSexy Zoneなんなの😭\n",
            "ここ最近で急に凄いアクセル全開になってる気がするよ………\n",
            "来年が楽しみだ😭😭😭😭😭 https://t.co/z7UmqzGGfx\n"
          ],
          "name": "stdout"
        },
        {
          "output_type": "stream",
          "text": [
            "Analysis is done ignoring \"\\n\".\n"
          ],
          "name": "stderr"
        },
        {
          "output_type": "stream",
          "text": [
            "==================================================\n",
            "PLUS SPORTシステム\n",
            "走行中ボタンを押し、アクセルを少し踏み足せば、アクセルが出力を最大化し、瞬時に加速できる。まるでゲームのナイトロのようなことが、モーターだから可能に。 https://t.co/1rQzRqOkhv\n"
          ],
          "name": "stdout"
        },
        {
          "output_type": "stream",
          "text": [
            "Analysis is done ignoring \"\\n\".\n"
          ],
          "name": "stderr"
        },
        {
          "output_type": "stream",
          "text": [
            "==================================================\n",
            "@Norick_Tohge アクセルターンしよう！\n",
            "==================================================\n",
            "「今日働きたくない！！！叫」\n",
            "『はい、いってらっしゃい。ばいば〜い』\n",
            "と助手席から降ろされ一瞬にしてドアを閉められアクセル踏んで去っていくセクシーがいないと今日は頑張れそうにないな(セクシーなら誰でも可)\n"
          ],
          "name": "stdout"
        },
        {
          "output_type": "stream",
          "text": [
            "Analysis is done ignoring \"\\n\".\n"
          ],
          "name": "stderr"
        },
        {
          "output_type": "stream",
          "text": [
            "==================================================\n",
            "ｱｸｾﾙ「もしかして私たち…」 ﾌﾞﾚｰｷ「もしかして俺たち…」「「入れ替わってる～！？！？！？」」\n",
            "https://t.co/jWOu0qkIWv\n"
          ],
          "name": "stdout"
        },
        {
          "output_type": "stream",
          "text": [
            "Analysis is done ignoring \"\\n\".\n"
          ],
          "name": "stderr"
        },
        {
          "output_type": "stream",
          "text": [
            "==================================================\n",
            "@Investor2_leo @pokorigamer 駐車する時にクリープ使うと楽ですよね\n",
            "\n",
            "ブレーキホールド使うとゆっくり駐車の時にはいったん前にいってバックに入れるときにホールドされて一瞬アクセル踏まないといけないのが気持ち面倒に\n"
          ],
          "name": "stdout"
        },
        {
          "output_type": "stream",
          "text": [
            "Analysis is done ignoring \"\\n\".\n"
          ],
          "name": "stderr"
        },
        {
          "output_type": "stream",
          "text": [
            "==================================================\n",
            "アクセルロックもデータとしては入ってるし、やっぱこれ２かＤＬＣでポケモン追加くるな…\n",
            "==================================================\n",
            "ふんわりアクセルやわらかブレーキ https://t.co/i1fj64eWqk\n",
            "==================================================\n",
            "RT @ayuto6002: 俺のみんな\n",
            "💙待たせてごめんね\n",
            "🌻待つのは超得意技です。４回転アクセルです😊\n",
            "💙心配かけたくない\n",
            "🌻心配するのは当たり前。なんなら心配が仕事😊\n",
            "💙あいたい\n",
            "🌻私達もです。\n",
            "でも今は存在してくれるだけで満足です☺️\n",
            "\n",
            "今日も想っています😘\n",
            "【美韓】パ…\n"
          ],
          "name": "stdout"
        },
        {
          "output_type": "stream",
          "text": [
            "Analysis is done ignoring \"\\n\".\n"
          ],
          "name": "stderr"
        },
        {
          "output_type": "stream",
          "text": [
            "==================================================\n",
            "「アクセル踏んだのおまえ！」クソ笑う\n",
            "==================================================\n",
            "RT @nobu_mei: アクセルマークのミートアップに逆神@fukuhara_hdylw 来なかったからプレセールは売れるってみんな言ってました\n",
            "#BGライジング\n"
          ],
          "name": "stdout"
        },
        {
          "output_type": "stream",
          "text": [
            "Analysis is done ignoring \"\\n\".\n"
          ],
          "name": "stderr"
        },
        {
          "output_type": "stream",
          "text": [
            "==================================================\n",
            "@grsysk FF外から失礼します😅\n",
            "一度、都内で、こちらは大型トラックで真後ろを走ったことがあります💦\n",
            "アクセル踏むのに、膝が笑ったのは、初めてでした😅\n"
          ],
          "name": "stdout"
        },
        {
          "output_type": "stream",
          "text": [
            "Analysis is done ignoring \"\\n\".\n"
          ],
          "name": "stderr"
        },
        {
          "output_type": "stream",
          "text": [
            "==================================================\n",
            "PP3、初めは灼と炯くんはアクセルとブレーキかと思ってたけど、ものの見事に逆転したし、なんならアクセルの傍には舞ちゃんっていう燃料まであるし\n",
            "静火くんはそこまで悪じゃないって信じてるから、闇堕ちしたとは思ってないけど謎が多すぎる\n",
            "そして、弥生さん……\n"
          ],
          "name": "stdout"
        },
        {
          "output_type": "stream",
          "text": [
            "Analysis is done ignoring \"\\n\".\n"
          ],
          "name": "stderr"
        },
        {
          "output_type": "stream",
          "text": [
            "==================================================\n",
            "フィギュアスケートやってると言うとトリプルアクセル飛べる？と高確率で聞かれる。\n",
            " #スケートあるある\n"
          ],
          "name": "stdout"
        },
        {
          "output_type": "stream",
          "text": [
            "Analysis is done ignoring \"\\n\".\n"
          ],
          "name": "stderr"
        },
        {
          "output_type": "stream",
          "text": [
            "==================================================\n",
            "【ヤンデレ】\n",
            "エックス｢どこにも行かないで…俺だけを見て…(束縛監禁系)｣\n",
            "ダイナモ｢俺のこと好きだろ？愛してくれるって言っただろ？(傲慢妄想系)｣\n",
            "イクス｢お前には私しかいないんだ…(誘導洗脳系)｣\n",
            "ゼロ｢エックスやアクセルに害なす者は容赦しない(セコム系)｣\n"
          ],
          "name": "stdout"
        },
        {
          "output_type": "stream",
          "text": [
            "Analysis is done ignoring \"\\n\".\n"
          ],
          "name": "stderr"
        },
        {
          "output_type": "stream",
          "text": [
            "==================================================\n",
            "【続落から反発】(12/13 13:20)\n",
            "続落2日から反発：日本ＰＣサービス\n",
            "続落4日から反発：ユーピーアール\n",
            "続落2日から反発：アクセルマーク\n",
            "続落3日から反発：日鉄鉱業\n",
            "続落2日から反発：三協立山\n",
            " https://t.co/nkcJCXgQj1\n"
          ],
          "name": "stdout"
        },
        {
          "output_type": "stream",
          "text": [
            "Analysis is done ignoring \"\\n\".\n"
          ],
          "name": "stderr"
        },
        {
          "output_type": "stream",
          "text": [
            "==================================================\n",
            "@zunda__yummy 竿と作者同じやからアクセルありやな、読むわ\n",
            "==================================================\n",
            "@ayane1827696591 同作者の作品、アクセルワールドとのピンクを思わせるようなところもあります。\n",
            "==================================================\n",
            "@yui_ppppphm アクセルホッパーと空目した。笑\n",
            "==================================================\n",
            "おちんちんアクセル！！！！！動いてくれ！！！！動くんだ！！！！！！！動いた！！！！！！ギュギャギャッギュイーーーン！！！！！！！！ブバババッブォーーーーン！！！！\n",
            "時速150キロ！！！！！！！！！！\n",
            "#shindanmaker\n",
            "https://t.co/9Kt0F1LjMV\n"
          ],
          "name": "stdout"
        },
        {
          "output_type": "stream",
          "text": [
            "Analysis is done ignoring \"\\n\".\n"
          ],
          "name": "stderr"
        },
        {
          "output_type": "stream",
          "text": [
            "==================================================\n",
            "【寒いなおい、月曜だぞ】\n",
            "\n",
            "おはようおはようおはよう！\n",
            "ホームタウンの関西帰ってきた途端にアクセル全開で遊んじゃったてへ。\n",
            "\n",
            "今日以降配信できる日はするぞ、来いよ、かもん！\n",
            "\n",
            "↓昨日ファン爆を覚えたそうです。 https://t.co/CfbxagfthS\n"
          ],
          "name": "stdout"
        },
        {
          "output_type": "stream",
          "text": [
            "Analysis is done ignoring \"\\n\".\n"
          ],
          "name": "stderr"
        },
        {
          "output_type": "stream",
          "text": [
            "==================================================\n",
            "RT @Kaihipay_PR: リソースつぎ込めばつぎ込むほど成果が出る。\n",
            "\n",
            "目に見えているやるべきこと(伸びしろ)がめちゃくちゃある。\n",
            "\n",
            "っていう状態になれてないからついブレーキよぎるけど、\n",
            "\n",
            "アクセル全開で行く。\n"
          ],
          "name": "stdout"
        },
        {
          "output_type": "stream",
          "text": [
            "Analysis is done ignoring \"\\n\".\n"
          ],
          "name": "stderr"
        },
        {
          "output_type": "stream",
          "text": [
            "==================================================\n",
            "RT @minnano_dougaw: アクセルを踏んだ瞬間ビューンですよｗｗｗ https://t.co/fxbnAE8xaW\n",
            "==================================================\n",
            "@Narodovlastiye それでも、「中間に阿ること」と「友好」とを区別できないような人や、アクセルかけつつブレーキかけるような消費税増税でもアクセル踏んでる分はまだマシですので、トータルすると比較にならぬほどマシなんですよ… https://t.co/dekwbWwPRm\n",
            "==================================================\n",
            "3枚アクセルは欲し過ぎる。 https://t.co/9oqnQ84vJu\n",
            "==================================================\n",
            "アクセルホーム　千代田麹町店/千代田区一番町｜エキテン https://t.co/R9B9JWtsX9\n",
            "==================================================\n",
            "@sunafukin99 @hokuetsu_noto もう、維新支持者のテンプレだった「都構想が嫌なら大阪から出て行け」を知事や市長が自ら言いそうな勢いですわ。結局、公明こそが維新のアクセル役だったんですなあ。\n",
            "==================================================\n",
            "停滞があるから急成長もある。ブレーキがあるからアクセルがある。今できないからって辞めたらダメ。苦しくなって辞めることなんて誰にだってできる。苦しくても頑張るから成功するもの。あなたはそんな弱い人間じゃない。あなたは自分が思っているより何倍も強いから、自分を信じてやり抜くしかない\n",
            "==================================================\n",
            "アクセルベタ踏み坂\n",
            "==================================================\n",
            "オエコモバ：全巻そろえたい漫画の1巻だけを買ってアクセルの家にうっかり置き忘れていくと、1週間後には全巻そろってるって素晴らしいシステムを発見したから活用して出費をおさえてる。あとアクセルが最近痩せた\n",
            "==================================================\n",
            "えりくSAO好きだしアクセルワールド好きそうやけどな\n",
            "==================================================\n",
            "@vinegar600 よかったよかった…\n",
            "しかしニュートラルぽいのにアクセル踏んで出ようとしてて怖い。\n",
            "ドライブだったと思うと突っ込んでそうで怖い。\n",
            "って感情がよぎったのは言うまでもない。\n"
          ],
          "name": "stdout"
        },
        {
          "output_type": "stream",
          "text": [
            "Analysis is done ignoring \"\\n\".\n"
          ],
          "name": "stderr"
        },
        {
          "output_type": "stream",
          "text": [
            "==================================================\n",
            "RT @mekkikki: RKFアクセル買ったよ❗バイクにも変形するよ❗かっこいいね❗ https://t.co/TcS9ZWYjeW\n",
            "==================================================\n",
            "シャオ「大先生、トリプルアクセルや！」\n",
            "鬱「ﾄﾘﾌﾟﾙｱｸｾﾙｩｩ」\n",
            "～ギスギスクラフト海賊編リベンジpart1\n"
          ],
          "name": "stdout"
        },
        {
          "output_type": "stream",
          "text": [
            "Analysis is done ignoring \"\\n\".\n"
          ],
          "name": "stderr"
        },
        {
          "output_type": "stream",
          "text": [
            "==================================================\n",
            "黒雪姫　もっと先へ……《加速》したくはないか、少年　アクセルワールドより\n",
            "==================================================\n",
            "チューナー3体がトレンドに！\n",
            "時代はデルタアクセルじゃなくてトリプルシンクロです！\n",
            "==================================================\n"
          ],
          "name": "stdout"
        },
        {
          "output_type": "stream",
          "text": [
            "Analysis is done ignoring \"\\n\".\n"
          ],
          "name": "stderr"
        },
        {
          "output_type": "stream",
          "text": [
            "ｱｸｾﾙ!\n",
            "==================================================\n",
            "@fukuyamahide001 BOT:夕暮れは　アクセルゆるめて　早めのライト\n",
            "==================================================\n",
            "ほんとにアクセル踏むとマッハなの良くない(よくない)\n",
            "==================================================\n",
            "まぁ繊細なアクセルワークが必要な場面もあるからアナログボタンじゃないと仕方ないんだろうけど\n",
            "==================================================\n",
            "@axcel0901 @hawaimaruo 私も飲み会で「アクセルさんってどんな人？」って聞かれた事ありますw（╹◡╹）\n",
            "==================================================\n",
            "高齢ドライバーが運転中に上半身を右方向にひねるような姿勢をとった状態でブレーキペダルを踏もうとすると、無意識のうちに足先が右方向へ移動し、ブレーキペダルを踏むつもりでアクセルペダルを踏んでしまうのだ。\n",
            "==================================================\n",
            "RT @yujin_minimam: ふと思ったんやけど\n",
            "\n",
            "車での\n",
            "\n",
            "\"ながら運転\"\n",
            "\"ブレーキとアクセル\n",
            "の踏み間違い\"\n",
            "\"高齢者の方の事故\"\n",
            "\"若者の車離れ\"\n",
            "\n",
            "これらほとんどが\n",
            "\"MT\"から\"AT\"に変わったせいじゃないんかな？\n",
            "\n",
            "\"MT\"やったら\n",
            "ながら運転なんてする暇…\n"
          ],
          "name": "stdout"
        },
        {
          "output_type": "stream",
          "text": [
            "Analysis is done ignoring \"\\n\".\n"
          ],
          "name": "stderr"
        },
        {
          "output_type": "stream",
          "text": [
            "==================================================\n",
            "仏主はYZで…時速20キロで走る\n",
            "アクセルが開けられない😰😰 https://t.co/tk5HvYtrt4\n"
          ],
          "name": "stdout"
        },
        {
          "output_type": "stream",
          "text": [
            "Analysis is done ignoring \"\\n\".\n"
          ],
          "name": "stderr"
        },
        {
          "output_type": "stream",
          "text": [
            "==================================================\n",
            "おちんちんアクセル！！！！！可動しろ！！！！可動しろ！！！！！！！動いた！！！！！！ギュギャギャッギュイーーーン！！！！！！！！ブバババッブォーーーーン！！！！\n",
            "時速180キロ！！！！！！！！！！！！！\n",
            "#shindanmaker\n",
            "https://t.co/OToLACpHad\n"
          ],
          "name": "stdout"
        },
        {
          "output_type": "stream",
          "text": [
            "Analysis is done ignoring \"\\n\".\n"
          ],
          "name": "stderr"
        },
        {
          "output_type": "stream",
          "text": [
            "==================================================\n",
            "[定期]\n",
            "好きなアニメ\n",
            "\n",
            "CLANNAD/あの花/AngelBeats！/まどマギ/進撃の巨人/ちはやふる/\n",
            "WORKING！/SAO/アクセル・ワールド/IS/アリア/涼宮ハルヒ/信奈\n",
            "\n",
            "#RTした二次元アイコンの人フォローする\n",
            "#相互希望\n"
          ],
          "name": "stdout"
        },
        {
          "output_type": "stream",
          "text": [
            "Analysis is done ignoring \"\\n\".\n"
          ],
          "name": "stderr"
        },
        {
          "output_type": "stream",
          "text": [
            "==================================================\n",
            "チャイ語行きたくなさすぎてトリプルアクセル飛んでる\n",
            "==================================================\n",
            "@krm_asap 元々はECUでアクセルの踏み込み量\n",
            "に応じてスロットルバルブをコントロールしてますけど坂道とかでトルクがない\n",
            "時はパワーモードで\n",
            "下道で燃費を稼ぎたい時はエコモードでとか設定すればペダル踏み込み量でバルブ開度を\n",
            "変えてくれてます👍\n"
          ],
          "name": "stdout"
        },
        {
          "output_type": "stream",
          "text": [
            "Analysis is done ignoring \"\\n\".\n"
          ],
          "name": "stderr"
        },
        {
          "output_type": "stream",
          "text": [
            "==================================================\n",
            "なんか通勤で車使ってるからいつも通り車に乗って行こうとしたらアクセル踏んでも車が進まない。って思ってたらそもそもエンジンかけてなかったというとんでもないミスをしてた🥺\n",
            "かなり寝ぼけてるみたいだ👈\n",
            "\n",
            "いつもはリモコンでエンジンかけるからなんてこと無かったけど今日はダメだな😱\n"
          ],
          "name": "stdout"
        },
        {
          "output_type": "stream",
          "text": [
            "Analysis is done ignoring \"\\n\".\n"
          ],
          "name": "stderr"
        },
        {
          "output_type": "stream",
          "text": [
            "==================================================\n",
            "トミカスピードウェイGO!GO!アクセルサーキットに貼るためのラベル、枚数も追加してできました。\n",
            " #オリジナルは保存 #ミニカー #トミカ #スピードウェイ #GOGO #アクセルサーキット #初回版 #modelcar… https://t.co/X7gXn5kPrx\n"
          ],
          "name": "stdout"
        },
        {
          "output_type": "stream",
          "text": [
            "Analysis is done ignoring \"\\n\".\n"
          ],
          "name": "stderr"
        },
        {
          "output_type": "stream",
          "text": [
            "==================================================\n",
            "首都高の右手に\n",
            "今日も東京タワー\n",
            "ここを通るたび\n",
            "アクセル強く踏む\n",
            "\n",
            "&lt;君が呼ぶのなら&gt;\n"
          ],
          "name": "stdout"
        },
        {
          "output_type": "stream",
          "text": [
            "Analysis is done ignoring \"\\n\".\n"
          ],
          "name": "stderr"
        },
        {
          "output_type": "stream",
          "text": [
            "==================================================\n",
            "あたしはアホだからさ、\n",
            "さぁぁ、そっからトリプルアクセルだっ！と本気で期待した…（笑） https://t.co/8wYvue8QsU\n"
          ],
          "name": "stdout"
        },
        {
          "output_type": "stream",
          "text": [
            "Analysis is done ignoring \"\\n\".\n"
          ],
          "name": "stderr"
        },
        {
          "output_type": "stream",
          "text": [
            "==================================================\n",
            "RT @YoshimotoHiroki: 普段はクラッチや駆動系を労るために極力アクセルを入れずに低回転でクラッチ繋ぐだけで発進して車に優しい系男子ですが年内最後やから今日はドカンと思いっきり繋いでやりましたわ😎　たまにはそんなんもえぇやろRCF子ちゃん？\n",
            "#WheelSpin…\n"
          ],
          "name": "stdout"
        },
        {
          "output_type": "stream",
          "text": [
            "Analysis is done ignoring \"\\n\".\n"
          ],
          "name": "stderr"
        },
        {
          "output_type": "stream",
          "text": [
            "==================================================\n",
            "【定期】最近は特に駄馬のアクセルトリオが可愛くてしょうがない系腐女子です。取り扱いにご注意下さい。\n",
            "==================================================\n",
            "みきわめ受かりました😳\n",
            "アクセルって大事だなぁ\n"
          ],
          "name": "stdout"
        },
        {
          "output_type": "stream",
          "text": [
            "Analysis is done ignoring \"\\n\".\n"
          ],
          "name": "stderr"
        },
        {
          "output_type": "stream",
          "text": [
            "==================================================\n",
            "浅田真央ちゃんのトリプルアクセルで僕の菊の門をほじくってくださひぃぃぃいい！！おっほぉぉおお！！\n",
            "==================================================\n",
            "@swec_34 おはようございます。まだ慣らし運転なのであまりアクセル開けてませんし慣れてきたらもうちょっと落ちるかもしれませんね\n",
            "==================================================\n",
            "@iwamotonaoki2 べた踏坂と言われてます。\n",
            "アクセル思いっきり踏まないと上がれないとか！\n",
            "この前、バスですが登ってきましたが、乗ってるとそれほど感じないのが、残念でした！\n"
          ],
          "name": "stdout"
        },
        {
          "output_type": "stream",
          "text": [
            "Analysis is done ignoring \"\\n\".\n"
          ],
          "name": "stderr"
        },
        {
          "output_type": "stream",
          "text": [
            "==================================================\n",
            "食事を即席麺などで済ませていたらアクセルに殴られる\n",
            "==================================================\n",
            "アクセルフォーム！\n",
            "==================================================\n",
            "「…………ま、事情は理解しました。確かに昨夜は予報外れの大雨でしたし？二十三区西部でネットワーク障害もあったようですし？帰宅には困難が伴ったかもしれませんね？」倉崎楓子【アクセル・ワールド５　―星影の浮き橋―】（電撃文庫）\n",
            "==================================================\n",
            "若さにはアクセルだけで\n",
            "ブレーキがついてないと\n",
            "少しつらそうに呟く\n",
            "あなたの目を見ると\n",
            "心が痛くなる\n",
            "若さには罪という\n",
            "文字が似合うと\n",
            "ため息ついても\n",
            "あなたはすぐ私を許すわ\n",
            "\n",
            "ロンリー カナリア\n"
          ],
          "name": "stdout"
        },
        {
          "output_type": "stream",
          "text": [
            "Analysis is done ignoring \"\\n\".\n"
          ],
          "name": "stderr"
        },
        {
          "output_type": "stream",
          "text": [
            "==================================================\n",
            "いちご100% ニャンコイ 化物語 そらのおとしもの僕は友達が少ない ハイスクールd、d きんもざ アマガミ とらドラ！ セキレイ 俺妹 織田信奈 君町 進撃 とある 神のみ アクセルワールド リトバス エンジェルビーツ  好きなアニメあったらRT #RTした人全員フォローする\n",
            "==================================================\n",
            "ここでアクセル全開、インド人を右に！\n",
            "==================================================\n",
            "おはよーございます❗️\n",
            "今週も始まります！\n",
            "先週は日経上がれど持ち株は…てな感じでした😉\n",
            "今日もテリロジー、オルト、ポンツー上がるの期待\n",
            "オルトまだまだこれからですからね😅\n",
            "後は、三桜工業、アクセルマーク、エディアを注視します🤗… https://t.co/YOJTYAvmsT\n"
          ],
          "name": "stdout"
        },
        {
          "output_type": "stream",
          "text": [
            "Analysis is done ignoring \"\\n\".\n"
          ],
          "name": "stderr"
        },
        {
          "output_type": "stream",
          "text": [
            "==================================================\n",
            "アクセルとブレーキの感覚が非常に難しい\n",
            "早く慣れたい\n",
            "==================================================\n"
          ],
          "name": "stdout"
        },
        {
          "output_type": "stream",
          "text": [
            "Analysis is done ignoring \"\\n\".\n"
          ],
          "name": "stderr"
        },
        {
          "output_type": "stream",
          "text": [
            "成功できない原因のほとんどは、アクセルとブレーキを同時に踏みしめている事である\n",
            "==================================================\n",
            "RT @esaka_staff: 【今日の自立訓練】\n",
            "\n",
            "各項目の満点は20点\n",
            "\n",
            "FCとACを足して\n",
            "20くらいが丁度いい\n",
            "\n",
            "どっちも高い状態は\n",
            "アクセルとブレーキを\n",
            "同時に踏んでる状態\n",
            "\n",
            "どっちも低い状態は\n",
            "アクセルとブレーキの\n",
            "どちらも動かせてない状態\n",
            "\n",
            "稼働しすぎてる人と…\n"
          ],
          "name": "stdout"
        },
        {
          "output_type": "stream",
          "text": [
            "Analysis is done ignoring \"\\n\".\n"
          ],
          "name": "stderr"
        },
        {
          "output_type": "stream",
          "text": [
            "==================================================\n",
            "@ZiraiF 昔からスカノヴァ出すならリゾネーターよりシンクロンのほうがいいって言われてましたしね。\n",
            "最近だと逆にシンクロンで盤面強くするなら下手にアクセルシンクロ狙うよりアビス置いた方が楽ってこともありましたし、持ちつ持たれつのいいライバルなのでは。\n"
          ],
          "name": "stdout"
        },
        {
          "output_type": "stream",
          "text": [
            "Analysis is done ignoring \"\\n\".\n"
          ],
          "name": "stderr"
        },
        {
          "output_type": "stream",
          "text": [
            "==================================================\n",
            "リンダン\n",
            "世界選手権2011優勝\n",
            "ロンドンオリンピック🥇\n",
            "世界選手権2013優勝\n",
            "\n",
            "チェンロン\n",
            "世界選手権2014優勝\n",
            "世界選手権2015優勝\n",
            "リオオリンピック🥇\n",
            "\n",
            "アクセルセン\n",
            "世界選手権2017優勝\n",
            "\n",
            "桃田選手\n",
            "2018世界選… https://t.co/boOAFgUOaC\n"
          ],
          "name": "stdout"
        },
        {
          "output_type": "stream",
          "text": [
            "Analysis is done ignoring \"\\n\".\n"
          ],
          "name": "stderr"
        },
        {
          "output_type": "stream",
          "text": [
            "==================================================\n",
            "だったんです\n",
            "ブレーキを押したままでは、前には進みません\n",
            "アクセルを押さなければ、前には進みません\n",
            "ブレーキとアクセルを同時に押していても、前には進みません\n",
            "ブレーキをはずして、\n",
            "アクセルを押すことで初めて前に進みます\n",
            "前に進まな… https://t.co/g1fXaSbdlI\n"
          ],
          "name": "stdout"
        },
        {
          "output_type": "stream",
          "text": [
            "Analysis is done ignoring \"\\n\".\n"
          ],
          "name": "stderr"
        },
        {
          "output_type": "stream",
          "text": [
            "==================================================\n",
            "筐体のシートの前後の位置は、アクセルペダルを踏み込んで調整するときに、ハーフが一番やりやすい位置に合わせるのがよい。\n",
            "\n",
            "答えは〇\n",
            "座席の位置は人によってまちまちです。自分の位置に毎回調整しましょう。\n",
            "\n",
            "#湾岸マキシ5\n"
          ],
          "name": "stdout"
        },
        {
          "output_type": "stream",
          "text": [
            "Analysis is done ignoring \"\\n\".\n"
          ],
          "name": "stderr"
        },
        {
          "output_type": "stream",
          "text": [
            "==================================================\n",
            "クレイドル日本橋 | 物件情報 | アクセルホーム    https://t.co/7KOrFjhbmb @axelhomeさんから\n",
            "==================================================\n",
            "@COREi9_9900k おはです！\n",
            "たまに反応するのはするんですけど、やっぱりアクセルが使えないw\n"
          ],
          "name": "stdout"
        },
        {
          "output_type": "stream",
          "text": [
            "Analysis is done ignoring \"\\n\".\n"
          ],
          "name": "stderr"
        },
        {
          "output_type": "stream",
          "text": [
            "==================================================\n",
            "【アニメ】 男子高校生の日常/キルミー/日常/とある/いぬぼく/ニャル子/アクセルワールド/あっち/ブラック★/電波女/はがない/まよチキ/けいおん/アイマス/いつ天/俺妹\n",
            "==================================================\n",
            "RT @hawaimaruo: @axcel0901 アクセルさんがどんな人か見てみたい。のだと思います。\n",
            "\n",
            "アフィリの飲み会に行くと「アクセルさんってどんな人？」とよく聞かれます。\n"
          ],
          "name": "stdout"
        },
        {
          "output_type": "stream",
          "text": [
            "Analysis is done ignoring \"\\n\".\n"
          ],
          "name": "stderr"
        },
        {
          "output_type": "stream",
          "text": [
            "==================================================\n",
            "@Bibisan466 マジでアクセル踏むの恐怖になりましてよ…\n",
            "まだまだ冷えそうですわ、、、\n"
          ],
          "name": "stdout"
        },
        {
          "output_type": "stream",
          "text": [
            "Analysis is done ignoring \"\\n\".\n"
          ],
          "name": "stderr"
        },
        {
          "output_type": "stream",
          "text": [
            "==================================================\n",
            "ゼロ：クイズだ、この世に俺がいないとする\n",
            "エックス：嫌だ\n",
            "ゼロ：俺もだ\n",
            "アクセル：クイズどこ行ったの\n"
          ],
          "name": "stdout"
        },
        {
          "output_type": "stream",
          "text": [
            "Analysis is done ignoring \"\\n\".\n"
          ],
          "name": "stderr"
        },
        {
          "output_type": "stream",
          "text": [
            "==================================================\n",
            "RT @rysyrys: だから日本では、①差別アクセルだけでなく、②反差別ブレーキの致命的な弱さの側を、問題にしないとダメなのです。\n",
            "②反差別ブレーキを踏むのは日本の市民の義務です。\n",
            "日本国憲法がいう「不断の努力」として、反差別ブレーキを踏むことが求められています。\n",
            "ブレーキ…\n"
          ],
          "name": "stdout"
        },
        {
          "output_type": "stream",
          "text": [
            "Analysis is done ignoring \"\\n\".\n"
          ],
          "name": "stderr"
        },
        {
          "output_type": "stream",
          "text": [
            "==================================================\n",
            "3624 アクセルマーク\n",
            "プレセール間近だぞ\n",
            "LEGENDRY 3種類 各300枚(30000円相当ETH×300)\n",
            "EPIC            4種類 各400枚(7500円相当ETH×400)\n",
            "RARE… https://t.co/XAF29DE6ex\n"
          ],
          "name": "stdout"
        },
        {
          "output_type": "stream",
          "text": [
            "Analysis is done ignoring \"\\n\".\n"
          ],
          "name": "stderr"
        },
        {
          "output_type": "stream",
          "text": [
            "==================================================\n",
            "ホルモン補充すると睡眠時間が減るらしいとブログで書いている人がいた💤\n",
            "\n",
            "体外の治療開始してから本当に眠れなくて、眠らないと卵胞育たないし、本当に焦ってた💦\n",
            "\n",
            "たまにぐっすり寝れるとすごくホッとするんだけど、次の日はまた眠れない…\n",
            "\n",
            "アクセル、ブレーキ同時踏みみたいで効率わるっ\n"
          ],
          "name": "stdout"
        },
        {
          "output_type": "stream",
          "text": [
            "Analysis is done ignoring \"\\n\".\n"
          ],
          "name": "stderr"
        },
        {
          "output_type": "stream",
          "text": [
            "==================================================\n",
            "オリゼー茅場町 | 物件情報 | アクセルホーム    https://t.co/r6pevC2YTP @axelhomeさんから\n",
            "==================================================\n",
            "RT @oiganai: ジェファンのヌナ、「幼いってからかわないでくださいよ。そんなにウブじゃないんですよ僕は。」て感じだと思ったら「ヌナマジ綺麗❗️俺の目に入れても痛くないよ❗️ヌナを見ると心臓が止まる❗️俺を追い出さないで❗️幼いってからかってもイイ❗️俺が守るよ❗️」て…\n",
            "==================================================\n",
            "@Lauto292516 アクセルワールドかなw\n",
            "主人公にはなりたくないが(´-ω-`)\n"
          ],
          "name": "stdout"
        },
        {
          "output_type": "stream",
          "text": [
            "Analysis is done ignoring \"\\n\".\n"
          ],
          "name": "stderr"
        },
        {
          "output_type": "stream",
          "text": [
            "==================================================\n",
            "RT @toyo_afi: @axcel0901 @hawaimaruo 私も飲み会で「アクセルさんってどんな人？」って聞かれた事ありますw（╹◡╹）\n",
            "==================================================\n",
            "猫だと思って頭撫でたら噛まれてああすいませんびっくりしたよねごめんねと言ったらまた噛まれてなんだコイツと思ったらアクセルでしたまた噛まれました\n",
            "==================================================\n",
            "《アクセル》【ツイてる、ツイてる！】◆･.｡*†*｡.･◆･.｡*†*｡.･◆･.｡*†*｡.･◆･.｡*†*｡.･◆\n",
            "==================================================\n",
            "#歌詞を呟くだけでフォロワーが曲名を当ててくれる当てられたら続行\n",
            "第3問(2問目もバレたので)\n",
            "\n",
            "Fire up,Ignition\n",
            "ヘヴィーなプレッシャー\n",
            "ぶっ壊してアクセル踏み込め\n",
            "(答え) 今 時代が (答え)！\n"
          ],
          "name": "stdout"
        },
        {
          "output_type": "stream",
          "text": [
            "Analysis is done ignoring \"\\n\".\n"
          ],
          "name": "stderr"
        },
        {
          "output_type": "stream",
          "text": [
            "==================================================\n",
            "RT @SUBARU_CORP: NEW SUBARU XV DEBUT!!\n",
            "\n",
            "街も自然も、世代や価値観さえも、軽やかに超えて。\n",
            "好奇心が高鳴るほうへ、アクセルを踏み込もう。\n",
            "\n",
            "#SUBARUXV\n",
            "#全グレードでアイサイト・ツーリングアシスト\n"
          ],
          "name": "stdout"
        },
        {
          "output_type": "stream",
          "text": [
            "Analysis is done ignoring \"\\n\".\n"
          ],
          "name": "stderr"
        },
        {
          "output_type": "stream",
          "text": [
            "==================================================\n",
            "RT @TFSI2: オーサー氏によれば日本スケート連盟がNHK杯後、ブリアン氏の名前を申請したそうで、なぜそのようなことになったのか不明。\n",
            "また4回転ルッツについては承知していたものの、4回転アクセルについては映像を見て驚き、自分は試すよう提案しなかっただろうとのこと。(3/…\n"
          ],
          "name": "stdout"
        },
        {
          "output_type": "stream",
          "text": [
            "Analysis is done ignoring \"\\n\".\n"
          ],
          "name": "stderr"
        },
        {
          "output_type": "stream",
          "text": [
            "==================================================\n",
            "RT @Jun_ji0330_Jz: そう❗️満員❗️あと18枚で‼️\n",
            "\n",
            "えーじろ、会場来るまでに手売りして来て( ´ ∀ ` )\n",
            "\n",
            "RT @sg69777: さぁ～今日はブルハチの\n",
            "Re: Re:Reset アクセル全開追加公演\n",
            "渋谷Rex 2デイズ初日なり～🎶\n",
            "\n",
            "満員御礼ガ…\n"
          ],
          "name": "stdout"
        },
        {
          "output_type": "stream",
          "text": [
            "Analysis is done ignoring \"\\n\".\n"
          ],
          "name": "stderr"
        },
        {
          "output_type": "stream",
          "text": [
            "==================================================\n",
            "まどマギ/ストウィッチ/アクセルワールド/SAOなど好きです！\n",
            "==================================================\n",
            "昨日1の走り！\n",
            "普通に行けば良かったのに中の車に目が行ってやめるか行くか悩んだあげく！(言い訳)\n",
            "アクセル踏めずただ流されてるだけ！笑 https://t.co/0hBKDTyqKH\n"
          ],
          "name": "stdout"
        },
        {
          "output_type": "stream",
          "text": [
            "Analysis is done ignoring \"\\n\".\n"
          ],
          "name": "stderr"
        },
        {
          "output_type": "stream",
          "text": [
            "==================================================\n",
            "いやーやっぱり遊星とジャックのエースの差ってカッケェ…\n",
            "\n",
            "仲間とともに新たな姿となる（アクセルシンクロ）遊星\n",
            "\n",
            "絶対王者に従者を増やしていく（ダブルチューニング）ジャック\n",
            "\n",
            "それはそうとスパノヴァがジャンクデッキと相性良いのは草\n"
          ],
          "name": "stdout"
        },
        {
          "output_type": "stream",
          "text": [
            "Analysis is done ignoring \"\\n\".\n"
          ],
          "name": "stderr"
        },
        {
          "output_type": "stream",
          "text": [
            "==================================================\n",
            "アクセル:何で邪魔するのさ！\n",
            "ウオフライ:あそこにいたオメーがわりぃんだよ！\n",
            "アクセル:というよりあれはもう僕を狙ってたよね。任務にかこつけて、やらしー\n",
            "ウオフライ:あそこにいた敵を纏めて倒そうとしただけだろうが！\n",
            "イノブスキー:（コイツらもうちょっと仲良く出来ねえのか……）\n"
          ],
          "name": "stdout"
        },
        {
          "output_type": "stream",
          "text": [
            "Analysis is done ignoring \"\\n\".\n"
          ],
          "name": "stderr"
        },
        {
          "output_type": "stream",
          "text": [
            "==================================================\n",
            "アクセル・ワールド は2クールやぞ\n",
            "==================================================\n",
            "車線変更しよるのにアクセル踏んでいれさせんめちしてクラクション鳴らしてくるのなんなん？入れそうやけ入りよんのに朝っぱらからうるせえよ意地悪すると返ってくるよ？？？？\n",
            "==================================================\n",
            "RT @EXCEL__: 駐車場に停めてた自分の車に突撃した知らんおっさんのトラック、確認した所駐車場の契約者ですらなく、無断で停めた上にRとDを間違え、ブレーキとアクセルも間違えるというフォロー可能な要素が1mmも無くておハーブが生え散らかりますわよ\n",
            "==================================================\n",
            "@KomoriAina アクセルは草カワイイ\n",
            "==================================================\n",
            "なんかいろんなこと考えるんだけどさ〜、擦り切れるまで頑張らなくていいと思うんだよね〜〜。アクセル踏みっぱなしじゃカーブも信号も効率悪いじゃない？給油のタイミングも分からなくなっちゃうよ\n",
            "自分の個性、性質という車を乗りこなす術を身につけることの方が大事だと思うんだ〜〜\n"
          ],
          "name": "stdout"
        },
        {
          "output_type": "stream",
          "text": [
            "Analysis is done ignoring \"\\n\".\n"
          ],
          "name": "stderr"
        },
        {
          "output_type": "stream",
          "text": [
            "==================================================\n",
            "マニュアルトランスミッション(MT)ってのは、所謂自転車で言うギアのことだ。\n",
            "使えるなら使った方が速いが、使えないなら無理に初心者のうちから使う必要はない。\n",
            "オートマ(AT)の方が必要な操作が減るからその分ハンドリングやアクセル操作に余裕が生まれる。\n"
          ],
          "name": "stdout"
        },
        {
          "output_type": "stream",
          "text": [
            "Analysis is done ignoring \"\\n\".\n"
          ],
          "name": "stderr"
        },
        {
          "output_type": "stream",
          "text": [
            "==================================================\n",
            "定期!ニコ生やってますhttps://t.co/PJEjhVWpdeアニメ（CLANNAD、kanon、AIR、ＡＢ、氷菓、アクセルワールド、）、ゲーム、リトバス、クド、jubeat、ドラマニ、リフレクなどなどフォーローよろしくお願いします\n",
            "==================================================\n",
            "おちんちんアクセル！！！！！動け！！！！動くんだ！！！！！！！動いた！！！！！！ギュギャギャッギュイーーーン！！！！！！！！ブゥオーーーーーーーン！！！！\n",
            "折れた........\n",
            "#shindanmaker\n",
            "https://t.co/SiNVniBz2o\n"
          ],
          "name": "stdout"
        },
        {
          "output_type": "stream",
          "text": [
            "Analysis is done ignoring \"\\n\".\n"
          ],
          "name": "stderr"
        },
        {
          "output_type": "stream",
          "text": [
            "==================================================\n",
            "9867 アクセル\n",
            "\n",
            "ストップになる前にちょっと買えたので、ストップ高で売っちゃいます。\n",
            "小銭稼ぎ。\n",
            "まだ上がりそうな割安ですが、利益率低いのが気になるのでやめときます。\n"
          ],
          "name": "stdout"
        },
        {
          "output_type": "stream",
          "text": [
            "Analysis is done ignoring \"\\n\".\n"
          ],
          "name": "stderr"
        },
        {
          "output_type": "stream",
          "text": [
            "==================================================\n"
          ],
          "name": "stdout"
        }
      ]
    },
    {
      "cell_type": "code",
      "metadata": {
        "id": "Y3C5y1PE1Tm6",
        "colab_type": "code",
        "colab": {
          "base_uri": "https://localhost:8080/",
          "height": 34
        },
        "outputId": "a380adfb-eb3b-48a6-fcf4-747d9d0735d5"
      },
      "source": [
        "fail_cnt"
      ],
      "execution_count": 142,
      "outputs": [
        {
          "output_type": "execute_result",
          "data": {
            "text/plain": [
              "0"
            ]
          },
          "metadata": {
            "tags": []
          },
          "execution_count": 142
        }
      ]
    },
    {
      "cell_type": "code",
      "metadata": {
        "id": "iZjXCqhSzwin",
        "colab_type": "code",
        "colab": {}
      },
      "source": [
        "def cos_sim(v1, v2):\n",
        "    try:\n",
        "        v1 = torch.Tensor(v1)\n",
        "        v2 = torch.Tensor(v2)\n",
        "        \n",
        "        return float(nn.CosineSimilarity(dim=0, eps=1e-6)(v1, v2))\n",
        "    except Exception as e:\n",
        "        print(e)\n",
        "        return None"
      ],
      "execution_count": 0,
      "outputs": []
    },
    {
      "cell_type": "code",
      "metadata": {
        "id": "JEjAp3p56ROF",
        "colab_type": "code",
        "colab": {}
      },
      "source": [
        "ref_sentence1_cos_sim = [cos_sim(vec, reference_sentence1_vec) for vec in tweet_vecs]\n",
        "ref_sentence2_cos_sim = [cos_sim(vec, reference_sentence2_vec) for vec in tweet_vecs]\n",
        "ref_sentence3_cos_sim = [cos_sim(vec, reference_sentence3_vec) for vec in tweet_vecs]"
      ],
      "execution_count": 0,
      "outputs": []
    },
    {
      "cell_type": "code",
      "metadata": {
        "id": "-cDa2w4azJb4",
        "colab_type": "code",
        "colab": {}
      },
      "source": [
        "df_tweets = pd.DataFrame({\n",
        "    'tweet': texts,\n",
        "    'ref_sentence1_cos_sim': ref_sentence1_cos_sim,\n",
        "    'ref_sentence2_cos_sim': ref_sentence2_cos_sim,\n",
        "    'ref_sentence3_cos_sim': ref_sentence3_cos_sim,\n",
        "})"
      ],
      "execution_count": 0,
      "outputs": []
    },
    {
      "cell_type": "code",
      "metadata": {
        "id": "GwP2c35f0Ybf",
        "colab_type": "code",
        "colab": {
          "base_uri": "https://localhost:8080/",
          "height": 419
        },
        "outputId": "4d47af4f-481a-42f4-c1b9-59d2bdc2a451"
      },
      "source": [
        "df_tweets"
      ],
      "execution_count": 146,
      "outputs": [
        {
          "output_type": "execute_result",
          "data": {
            "text/html": [
              "<div>\n",
              "<style scoped>\n",
              "    .dataframe tbody tr th:only-of-type {\n",
              "        vertical-align: middle;\n",
              "    }\n",
              "\n",
              "    .dataframe tbody tr th {\n",
              "        vertical-align: top;\n",
              "    }\n",
              "\n",
              "    .dataframe thead th {\n",
              "        text-align: right;\n",
              "    }\n",
              "</style>\n",
              "<table border=\"1\" class=\"dataframe\">\n",
              "  <thead>\n",
              "    <tr style=\"text-align: right;\">\n",
              "      <th></th>\n",
              "      <th>tweet</th>\n",
              "      <th>ref_sentence1_cos_sim</th>\n",
              "      <th>ref_sentence2_cos_sim</th>\n",
              "      <th>ref_sentence3_cos_sim</th>\n",
              "    </tr>\n",
              "  </thead>\n",
              "  <tbody>\n",
              "    <tr>\n",
              "      <th>0</th>\n",
              "      <td>アクセル踏むとマッハの悪癖私もあるなあ……</td>\n",
              "      <td>0.469869</td>\n",
              "      <td>0.427910</td>\n",
              "      <td>0.579820</td>\n",
              "    </tr>\n",
              "    <tr>\n",
              "      <th>1</th>\n",
              "      <td>RT @008000dic: ナイス 【錆喰いビスコ4 業花の帝冠、花束の剣 (電撃文庫)/...</td>\n",
              "      <td>0.380300</td>\n",
              "      <td>0.370801</td>\n",
              "      <td>0.447865</td>\n",
              "    </tr>\n",
              "    <tr>\n",
              "      <th>2</th>\n",
              "      <td>RT @belmond_b_2434: やるわ\\n【マリオカート８ DX】はい！ここでアクセ...</td>\n",
              "      <td>0.246965</td>\n",
              "      <td>0.231332</td>\n",
              "      <td>0.362356</td>\n",
              "    </tr>\n",
              "    <tr>\n",
              "      <th>3</th>\n",
              "      <td>Wﾚ*0ω0)おはよアクセル　　おはよロクサス(；∀； ≧＞</td>\n",
              "      <td>0.330730</td>\n",
              "      <td>0.343380</td>\n",
              "      <td>0.387070</td>\n",
              "    </tr>\n",
              "    <tr>\n",
              "      <th>4</th>\n",
              "      <td>アクセルナットすぐ取れる奴</td>\n",
              "      <td>0.490102</td>\n",
              "      <td>0.514295</td>\n",
              "      <td>0.519871</td>\n",
              "    </tr>\n",
              "    <tr>\n",
              "      <th>...</th>\n",
              "      <td>...</td>\n",
              "      <td>...</td>\n",
              "      <td>...</td>\n",
              "      <td>...</td>\n",
              "    </tr>\n",
              "    <tr>\n",
              "      <th>186</th>\n",
              "      <td>なんかいろんなこと考えるんだけどさ〜、擦り切れるまで頑張らなくていいと思うんだよね〜〜。アク...</td>\n",
              "      <td>0.245457</td>\n",
              "      <td>0.231704</td>\n",
              "      <td>0.418908</td>\n",
              "    </tr>\n",
              "    <tr>\n",
              "      <th>187</th>\n",
              "      <td>マニュアルトランスミッション(MT)ってのは、所謂自転車で言うギアのことだ。\\n使えるなら使...</td>\n",
              "      <td>0.370742</td>\n",
              "      <td>0.364890</td>\n",
              "      <td>0.462792</td>\n",
              "    </tr>\n",
              "    <tr>\n",
              "      <th>188</th>\n",
              "      <td>定期!ニコ生やってますhttps://t.co/PJEjhVWpdeアニメ（CLANNAD、...</td>\n",
              "      <td>0.377564</td>\n",
              "      <td>0.376142</td>\n",
              "      <td>0.414742</td>\n",
              "    </tr>\n",
              "    <tr>\n",
              "      <th>189</th>\n",
              "      <td>おちんちんアクセル！！！！！動け！！！！動くんだ！！！！！！！動いた！！！！！！ギュギャギャ...</td>\n",
              "      <td>0.153178</td>\n",
              "      <td>0.139258</td>\n",
              "      <td>0.245268</td>\n",
              "    </tr>\n",
              "    <tr>\n",
              "      <th>190</th>\n",
              "      <td>9867 アクセル\\n\\nストップになる前にちょっと買えたので、ストップ高で売っちゃいます。...</td>\n",
              "      <td>0.410968</td>\n",
              "      <td>0.448332</td>\n",
              "      <td>0.535138</td>\n",
              "    </tr>\n",
              "  </tbody>\n",
              "</table>\n",
              "<p>191 rows × 4 columns</p>\n",
              "</div>"
            ],
            "text/plain": [
              "                                                 tweet  ...  ref_sentence3_cos_sim\n",
              "0                                アクセル踏むとマッハの悪癖私もあるなあ……  ...               0.579820\n",
              "1    RT @008000dic: ナイス 【錆喰いビスコ4 業花の帝冠、花束の剣 (電撃文庫)/...  ...               0.447865\n",
              "2    RT @belmond_b_2434: やるわ\\n【マリオカート８ DX】はい！ここでアクセ...  ...               0.362356\n",
              "3                       Wﾚ*0ω0)おはよアクセル　　おはよロクサス(；∀； ≧＞  ...               0.387070\n",
              "4                                        アクセルナットすぐ取れる奴  ...               0.519871\n",
              "..                                                 ...  ...                    ...\n",
              "186  なんかいろんなこと考えるんだけどさ〜、擦り切れるまで頑張らなくていいと思うんだよね〜〜。アク...  ...               0.418908\n",
              "187  マニュアルトランスミッション(MT)ってのは、所謂自転車で言うギアのことだ。\\n使えるなら使...  ...               0.462792\n",
              "188  定期!ニコ生やってますhttps://t.co/PJEjhVWpdeアニメ（CLANNAD、...  ...               0.414742\n",
              "189  おちんちんアクセル！！！！！動け！！！！動くんだ！！！！！！！動いた！！！！！！ギュギャギャ...  ...               0.245268\n",
              "190  9867 アクセル\\n\\nストップになる前にちょっと買えたので、ストップ高で売っちゃいます。...  ...               0.535138\n",
              "\n",
              "[191 rows x 4 columns]"
            ]
          },
          "metadata": {
            "tags": []
          },
          "execution_count": 146
        }
      ]
    },
    {
      "cell_type": "code",
      "metadata": {
        "id": "tSbIaxUV8iOh",
        "colab_type": "code",
        "colab": {
          "base_uri": "https://localhost:8080/",
          "height": 34
        },
        "outputId": "7445e085-1a84-4453-bc73-4aa3bd496e83"
      },
      "source": [
        "reference_sentence1"
      ],
      "execution_count": 147,
      "outputs": [
        {
          "output_type": "execute_result",
          "data": {
            "text/plain": [
              "'アクセルの社員がインサイダー取引により逮捕された。'"
            ]
          },
          "metadata": {
            "tags": []
          },
          "execution_count": 147
        }
      ]
    },
    {
      "cell_type": "code",
      "metadata": {
        "id": "_NQ59e8EzowJ",
        "colab_type": "code",
        "colab": {
          "base_uri": "https://localhost:8080/",
          "height": 419
        },
        "outputId": "8d30f440-e43a-4bc6-c780-0d443ec8b954"
      },
      "source": [
        "df_tweets.sort_values(by='ref_sentence1_cos_sim', ascending=False)"
      ],
      "execution_count": 148,
      "outputs": [
        {
          "output_type": "execute_result",
          "data": {
            "text/html": [
              "<div>\n",
              "<style scoped>\n",
              "    .dataframe tbody tr th:only-of-type {\n",
              "        vertical-align: middle;\n",
              "    }\n",
              "\n",
              "    .dataframe tbody tr th {\n",
              "        vertical-align: top;\n",
              "    }\n",
              "\n",
              "    .dataframe thead th {\n",
              "        text-align: right;\n",
              "    }\n",
              "</style>\n",
              "<table border=\"1\" class=\"dataframe\">\n",
              "  <thead>\n",
              "    <tr style=\"text-align: right;\">\n",
              "      <th></th>\n",
              "      <th>tweet</th>\n",
              "      <th>ref_sentence1_cos_sim</th>\n",
              "      <th>ref_sentence2_cos_sim</th>\n",
              "      <th>ref_sentence3_cos_sim</th>\n",
              "    </tr>\n",
              "  </thead>\n",
              "  <tbody>\n",
              "    <tr>\n",
              "      <th>182</th>\n",
              "      <td>アクセル・ワールド は2クールやぞ</td>\n",
              "      <td>0.555060</td>\n",
              "      <td>0.518501</td>\n",
              "      <td>0.539441</td>\n",
              "    </tr>\n",
              "    <tr>\n",
              "      <th>145</th>\n",
              "      <td>食事を即席麺などで済ませていたらアクセルに殴られる</td>\n",
              "      <td>0.550566</td>\n",
              "      <td>0.416368</td>\n",
              "      <td>0.659342</td>\n",
              "    </tr>\n",
              "    <tr>\n",
              "      <th>153</th>\n",
              "      <td>成功できない原因のほとんどは、アクセルとブレーキを同時に踏みしめている事である</td>\n",
              "      <td>0.548002</td>\n",
              "      <td>0.490881</td>\n",
              "      <td>0.577890</td>\n",
              "    </tr>\n",
              "    <tr>\n",
              "      <th>69</th>\n",
              "      <td>やはりアクセル飼おう</td>\n",
              "      <td>0.543704</td>\n",
              "      <td>0.505464</td>\n",
              "      <td>0.528053</td>\n",
              "    </tr>\n",
              "    <tr>\n",
              "      <th>79</th>\n",
              "      <td>シオンにちょっかいを出して泣かせた結果アクセルに顔面を殴られる</td>\n",
              "      <td>0.543510</td>\n",
              "      <td>0.409781</td>\n",
              "      <td>0.695974</td>\n",
              "    </tr>\n",
              "    <tr>\n",
              "      <th>...</th>\n",
              "      <td>...</td>\n",
              "      <td>...</td>\n",
              "      <td>...</td>\n",
              "      <td>...</td>\n",
              "    </tr>\n",
              "    <tr>\n",
              "      <th>106</th>\n",
              "      <td>おちんちんアクセル！！！！！動いてくれ！！！！動くんだ！！！！！！！動いた！！！！！！ギュギ...</td>\n",
              "      <td>0.142974</td>\n",
              "      <td>0.131422</td>\n",
              "      <td>0.239713</td>\n",
              "    </tr>\n",
              "    <tr>\n",
              "      <th>72</th>\n",
              "      <td>おちんちんアクセル！！！！！動け！！！！動けよ！！！！！！！動いた！！！！！！ギュインギュイ...</td>\n",
              "      <td>0.137847</td>\n",
              "      <td>0.124598</td>\n",
              "      <td>0.231539</td>\n",
              "    </tr>\n",
              "    <tr>\n",
              "      <th>131</th>\n",
              "      <td>おちんちんアクセル！！！！！可動しろ！！！！可動しろ！！！！！！！動いた！！！！！！ギュギャ...</td>\n",
              "      <td>0.137081</td>\n",
              "      <td>0.135700</td>\n",
              "      <td>0.225213</td>\n",
              "    </tr>\n",
              "    <tr>\n",
              "      <th>47</th>\n",
              "      <td>おちんちんアクセル！！！！！動いてくれ！！！！動けよ！！！！！！！動いた！！！！！！ギュオン...</td>\n",
              "      <td>0.129871</td>\n",
              "      <td>0.124537</td>\n",
              "      <td>0.222554</td>\n",
              "    </tr>\n",
              "    <tr>\n",
              "      <th>173</th>\n",
              "      <td>《アクセル》【ツイてる、ツイてる！】◆･.｡*†*｡.･◆･.｡*†*｡.･◆･.｡*†*｡...</td>\n",
              "      <td>0.125895</td>\n",
              "      <td>0.098543</td>\n",
              "      <td>0.186733</td>\n",
              "    </tr>\n",
              "  </tbody>\n",
              "</table>\n",
              "<p>191 rows × 4 columns</p>\n",
              "</div>"
            ],
            "text/plain": [
              "                                                 tweet  ...  ref_sentence3_cos_sim\n",
              "182                                  アクセル・ワールド は2クールやぞ  ...               0.539441\n",
              "145                          食事を即席麺などで済ませていたらアクセルに殴られる  ...               0.659342\n",
              "153            成功できない原因のほとんどは、アクセルとブレーキを同時に踏みしめている事である  ...               0.577890\n",
              "69                                          やはりアクセル飼おう  ...               0.528053\n",
              "79                     シオンにちょっかいを出して泣かせた結果アクセルに顔面を殴られる  ...               0.695974\n",
              "..                                                 ...  ...                    ...\n",
              "106  おちんちんアクセル！！！！！動いてくれ！！！！動くんだ！！！！！！！動いた！！！！！！ギュギ...  ...               0.239713\n",
              "72   おちんちんアクセル！！！！！動け！！！！動けよ！！！！！！！動いた！！！！！！ギュインギュイ...  ...               0.231539\n",
              "131  おちんちんアクセル！！！！！可動しろ！！！！可動しろ！！！！！！！動いた！！！！！！ギュギャ...  ...               0.225213\n",
              "47   おちんちんアクセル！！！！！動いてくれ！！！！動けよ！！！！！！！動いた！！！！！！ギュオン...  ...               0.222554\n",
              "173  《アクセル》【ツイてる、ツイてる！】◆･.｡*†*｡.･◆･.｡*†*｡.･◆･.｡*†*｡...  ...               0.186733\n",
              "\n",
              "[191 rows x 4 columns]"
            ]
          },
          "metadata": {
            "tags": []
          },
          "execution_count": 148
        }
      ]
    },
    {
      "cell_type": "code",
      "metadata": {
        "id": "8IPGzjcK8bmJ",
        "colab_type": "code",
        "colab": {
          "base_uri": "https://localhost:8080/",
          "height": 34
        },
        "outputId": "a4c19433-f892-4cf7-9b5d-6a430eb0e3d9"
      },
      "source": [
        "reference_sentence2"
      ],
      "execution_count": 149,
      "outputs": [
        {
          "output_type": "execute_result",
          "data": {
            "text/plain": [
              "'アクセル、業績好調により上方修正を発表した。'"
            ]
          },
          "metadata": {
            "tags": []
          },
          "execution_count": 149
        }
      ]
    },
    {
      "cell_type": "code",
      "metadata": {
        "id": "WEORVNNW0vW6",
        "colab_type": "code",
        "colab": {
          "base_uri": "https://localhost:8080/",
          "height": 419
        },
        "outputId": "f42fb700-2744-4aeb-b3fd-601aba655f37"
      },
      "source": [
        "df_tweets.sort_values(by='ref_sentence2_cos_sim', ascending=False)"
      ],
      "execution_count": 150,
      "outputs": [
        {
          "output_type": "execute_result",
          "data": {
            "text/html": [
              "<div>\n",
              "<style scoped>\n",
              "    .dataframe tbody tr th:only-of-type {\n",
              "        vertical-align: middle;\n",
              "    }\n",
              "\n",
              "    .dataframe tbody tr th {\n",
              "        vertical-align: top;\n",
              "    }\n",
              "\n",
              "    .dataframe thead th {\n",
              "        text-align: right;\n",
              "    }\n",
              "</style>\n",
              "<table border=\"1\" class=\"dataframe\">\n",
              "  <thead>\n",
              "    <tr style=\"text-align: right;\">\n",
              "      <th></th>\n",
              "      <th>tweet</th>\n",
              "      <th>ref_sentence1_cos_sim</th>\n",
              "      <th>ref_sentence2_cos_sim</th>\n",
              "      <th>ref_sentence3_cos_sim</th>\n",
              "    </tr>\n",
              "  </thead>\n",
              "  <tbody>\n",
              "    <tr>\n",
              "      <th>19</th>\n",
              "      <td>6730アクセル　何？</td>\n",
              "      <td>0.524408</td>\n",
              "      <td>0.539281</td>\n",
              "      <td>0.471025</td>\n",
              "    </tr>\n",
              "    <tr>\n",
              "      <th>71</th>\n",
              "      <td>このトラックのアクセルON時の傾き加減ｗ</td>\n",
              "      <td>0.464797</td>\n",
              "      <td>0.519677</td>\n",
              "      <td>0.477539</td>\n",
              "    </tr>\n",
              "    <tr>\n",
              "      <th>105</th>\n",
              "      <td>@yui_ppppphm アクセルホッパーと空目した。笑</td>\n",
              "      <td>0.503542</td>\n",
              "      <td>0.518825</td>\n",
              "      <td>0.574432</td>\n",
              "    </tr>\n",
              "    <tr>\n",
              "      <th>182</th>\n",
              "      <td>アクセル・ワールド は2クールやぞ</td>\n",
              "      <td>0.555060</td>\n",
              "      <td>0.518501</td>\n",
              "      <td>0.539441</td>\n",
              "    </tr>\n",
              "    <tr>\n",
              "      <th>4</th>\n",
              "      <td>アクセルナットすぐ取れる奴</td>\n",
              "      <td>0.490102</td>\n",
              "      <td>0.514295</td>\n",
              "      <td>0.519871</td>\n",
              "    </tr>\n",
              "    <tr>\n",
              "      <th>...</th>\n",
              "      <td>...</td>\n",
              "      <td>...</td>\n",
              "      <td>...</td>\n",
              "      <td>...</td>\n",
              "    </tr>\n",
              "    <tr>\n",
              "      <th>53</th>\n",
              "      <td>おちんちんアクセル！！！！！動いてくれ！！！！動けよ！！！！！！！動いた！！！！！！ギュオン...</td>\n",
              "      <td>0.150639</td>\n",
              "      <td>0.133885</td>\n",
              "      <td>0.259288</td>\n",
              "    </tr>\n",
              "    <tr>\n",
              "      <th>106</th>\n",
              "      <td>おちんちんアクセル！！！！！動いてくれ！！！！動くんだ！！！！！！！動いた！！！！！！ギュギ...</td>\n",
              "      <td>0.142974</td>\n",
              "      <td>0.131422</td>\n",
              "      <td>0.239713</td>\n",
              "    </tr>\n",
              "    <tr>\n",
              "      <th>72</th>\n",
              "      <td>おちんちんアクセル！！！！！動け！！！！動けよ！！！！！！！動いた！！！！！！ギュインギュイ...</td>\n",
              "      <td>0.137847</td>\n",
              "      <td>0.124598</td>\n",
              "      <td>0.231539</td>\n",
              "    </tr>\n",
              "    <tr>\n",
              "      <th>47</th>\n",
              "      <td>おちんちんアクセル！！！！！動いてくれ！！！！動けよ！！！！！！！動いた！！！！！！ギュオン...</td>\n",
              "      <td>0.129871</td>\n",
              "      <td>0.124537</td>\n",
              "      <td>0.222554</td>\n",
              "    </tr>\n",
              "    <tr>\n",
              "      <th>173</th>\n",
              "      <td>《アクセル》【ツイてる、ツイてる！】◆･.｡*†*｡.･◆･.｡*†*｡.･◆･.｡*†*｡...</td>\n",
              "      <td>0.125895</td>\n",
              "      <td>0.098543</td>\n",
              "      <td>0.186733</td>\n",
              "    </tr>\n",
              "  </tbody>\n",
              "</table>\n",
              "<p>191 rows × 4 columns</p>\n",
              "</div>"
            ],
            "text/plain": [
              "                                                 tweet  ...  ref_sentence3_cos_sim\n",
              "19                                         6730アクセル　何？  ...               0.471025\n",
              "71                                このトラックのアクセルON時の傾き加減ｗ  ...               0.477539\n",
              "105                       @yui_ppppphm アクセルホッパーと空目した。笑  ...               0.574432\n",
              "182                                  アクセル・ワールド は2クールやぞ  ...               0.539441\n",
              "4                                        アクセルナットすぐ取れる奴  ...               0.519871\n",
              "..                                                 ...  ...                    ...\n",
              "53   おちんちんアクセル！！！！！動いてくれ！！！！動けよ！！！！！！！動いた！！！！！！ギュオン...  ...               0.259288\n",
              "106  おちんちんアクセル！！！！！動いてくれ！！！！動くんだ！！！！！！！動いた！！！！！！ギュギ...  ...               0.239713\n",
              "72   おちんちんアクセル！！！！！動け！！！！動けよ！！！！！！！動いた！！！！！！ギュインギュイ...  ...               0.231539\n",
              "47   おちんちんアクセル！！！！！動いてくれ！！！！動けよ！！！！！！！動いた！！！！！！ギュオン...  ...               0.222554\n",
              "173  《アクセル》【ツイてる、ツイてる！】◆･.｡*†*｡.･◆･.｡*†*｡.･◆･.｡*†*｡...  ...               0.186733\n",
              "\n",
              "[191 rows x 4 columns]"
            ]
          },
          "metadata": {
            "tags": []
          },
          "execution_count": 150
        }
      ]
    },
    {
      "cell_type": "code",
      "metadata": {
        "id": "ZnHn2ZRd8ehU",
        "colab_type": "code",
        "colab": {
          "base_uri": "https://localhost:8080/",
          "height": 34
        },
        "outputId": "e4f02ca4-15b9-473f-9c63-a7655db144f9"
      },
      "source": [
        "reference_sentence3"
      ],
      "execution_count": 151,
      "outputs": [
        {
          "output_type": "execute_result",
          "data": {
            "text/plain": [
              "'おじいちゃんがアクセルを踏み込みコンビニに突っ込んだ。'"
            ]
          },
          "metadata": {
            "tags": []
          },
          "execution_count": 151
        }
      ]
    },
    {
      "cell_type": "code",
      "metadata": {
        "id": "ZNIK4kwP8YTN",
        "colab_type": "code",
        "colab": {
          "base_uri": "https://localhost:8080/",
          "height": 419
        },
        "outputId": "e1c7d39f-10df-400d-b3e1-4ba71bc3c644"
      },
      "source": [
        "df_tweets.sort_values(by='ref_sentence3_cos_sim', ascending=False)"
      ],
      "execution_count": 152,
      "outputs": [
        {
          "output_type": "execute_result",
          "data": {
            "text/html": [
              "<div>\n",
              "<style scoped>\n",
              "    .dataframe tbody tr th:only-of-type {\n",
              "        vertical-align: middle;\n",
              "    }\n",
              "\n",
              "    .dataframe tbody tr th {\n",
              "        vertical-align: top;\n",
              "    }\n",
              "\n",
              "    .dataframe thead th {\n",
              "        text-align: right;\n",
              "    }\n",
              "</style>\n",
              "<table border=\"1\" class=\"dataframe\">\n",
              "  <thead>\n",
              "    <tr style=\"text-align: right;\">\n",
              "      <th></th>\n",
              "      <th>tweet</th>\n",
              "      <th>ref_sentence1_cos_sim</th>\n",
              "      <th>ref_sentence2_cos_sim</th>\n",
              "      <th>ref_sentence3_cos_sim</th>\n",
              "    </tr>\n",
              "  </thead>\n",
              "  <tbody>\n",
              "    <tr>\n",
              "      <th>79</th>\n",
              "      <td>シオンにちょっかいを出して泣かせた結果アクセルに顔面を殴られる</td>\n",
              "      <td>0.543510</td>\n",
              "      <td>0.409781</td>\n",
              "      <td>0.695974</td>\n",
              "    </tr>\n",
              "    <tr>\n",
              "      <th>145</th>\n",
              "      <td>食事を即席麺などで済ませていたらアクセルに殴られる</td>\n",
              "      <td>0.550566</td>\n",
              "      <td>0.416368</td>\n",
              "      <td>0.659342</td>\n",
              "    </tr>\n",
              "    <tr>\n",
              "      <th>7</th>\n",
              "      <td>劣等生読み終わったら、バカテスとアクセルワールド読むことにした</td>\n",
              "      <td>0.522296</td>\n",
              "      <td>0.507174</td>\n",
              "      <td>0.637356</td>\n",
              "    </tr>\n",
              "    <tr>\n",
              "      <th>81</th>\n",
              "      <td>ブレーキとアクセルを踏み間違えるのは迷惑ポコ</td>\n",
              "      <td>0.520249</td>\n",
              "      <td>0.480547</td>\n",
              "      <td>0.631453</td>\n",
              "    </tr>\n",
              "    <tr>\n",
              "      <th>142</th>\n",
              "      <td>浅田真央ちゃんのトリプルアクセルで僕の菊の門をほじくってくださひぃぃぃいい！！おっほぉぉおお！！</td>\n",
              "      <td>0.425212</td>\n",
              "      <td>0.406753</td>\n",
              "      <td>0.625957</td>\n",
              "    </tr>\n",
              "    <tr>\n",
              "      <th>...</th>\n",
              "      <td>...</td>\n",
              "      <td>...</td>\n",
              "      <td>...</td>\n",
              "      <td>...</td>\n",
              "    </tr>\n",
              "    <tr>\n",
              "      <th>102</th>\n",
              "      <td>【続落から反発】(12/13 13:20)\\n続落2日から反発：日本ＰＣサービス\\n続落4日...</td>\n",
              "      <td>0.275406</td>\n",
              "      <td>0.286268</td>\n",
              "      <td>0.226937</td>\n",
              "    </tr>\n",
              "    <tr>\n",
              "      <th>131</th>\n",
              "      <td>おちんちんアクセル！！！！！可動しろ！！！！可動しろ！！！！！！！動いた！！！！！！ギュギャ...</td>\n",
              "      <td>0.137081</td>\n",
              "      <td>0.135700</td>\n",
              "      <td>0.225213</td>\n",
              "    </tr>\n",
              "    <tr>\n",
              "      <th>75</th>\n",
              "      <td>RT @kaburealnet: 【続落から反発】(12/13 13:20)\\n続落2日から...</td>\n",
              "      <td>0.268088</td>\n",
              "      <td>0.284473</td>\n",
              "      <td>0.224586</td>\n",
              "    </tr>\n",
              "    <tr>\n",
              "      <th>47</th>\n",
              "      <td>おちんちんアクセル！！！！！動いてくれ！！！！動けよ！！！！！！！動いた！！！！！！ギュオン...</td>\n",
              "      <td>0.129871</td>\n",
              "      <td>0.124537</td>\n",
              "      <td>0.222554</td>\n",
              "    </tr>\n",
              "    <tr>\n",
              "      <th>173</th>\n",
              "      <td>《アクセル》【ツイてる、ツイてる！】◆･.｡*†*｡.･◆･.｡*†*｡.･◆･.｡*†*｡...</td>\n",
              "      <td>0.125895</td>\n",
              "      <td>0.098543</td>\n",
              "      <td>0.186733</td>\n",
              "    </tr>\n",
              "  </tbody>\n",
              "</table>\n",
              "<p>191 rows × 4 columns</p>\n",
              "</div>"
            ],
            "text/plain": [
              "                                                 tweet  ...  ref_sentence3_cos_sim\n",
              "79                     シオンにちょっかいを出して泣かせた結果アクセルに顔面を殴られる  ...               0.695974\n",
              "145                          食事を即席麺などで済ませていたらアクセルに殴られる  ...               0.659342\n",
              "7                      劣等生読み終わったら、バカテスとアクセルワールド読むことにした  ...               0.637356\n",
              "81                              ブレーキとアクセルを踏み間違えるのは迷惑ポコ  ...               0.631453\n",
              "142   浅田真央ちゃんのトリプルアクセルで僕の菊の門をほじくってくださひぃぃぃいい！！おっほぉぉおお！！  ...               0.625957\n",
              "..                                                 ...  ...                    ...\n",
              "102  【続落から反発】(12/13 13:20)\\n続落2日から反発：日本ＰＣサービス\\n続落4日...  ...               0.226937\n",
              "131  おちんちんアクセル！！！！！可動しろ！！！！可動しろ！！！！！！！動いた！！！！！！ギュギャ...  ...               0.225213\n",
              "75   RT @kaburealnet: 【続落から反発】(12/13 13:20)\\n続落2日から...  ...               0.224586\n",
              "47   おちんちんアクセル！！！！！動いてくれ！！！！動けよ！！！！！！！動いた！！！！！！ギュオン...  ...               0.222554\n",
              "173  《アクセル》【ツイてる、ツイてる！】◆･.｡*†*｡.･◆･.｡*†*｡.･◆･.｡*†*｡...  ...               0.186733\n",
              "\n",
              "[191 rows x 4 columns]"
            ]
          },
          "metadata": {
            "tags": []
          },
          "execution_count": 152
        }
      ]
    },
    {
      "cell_type": "code",
      "metadata": {
        "id": "j0vi5qFK8aY8",
        "colab_type": "code",
        "colab": {}
      },
      "source": [
        ""
      ],
      "execution_count": 0,
      "outputs": []
    }
  ]
}