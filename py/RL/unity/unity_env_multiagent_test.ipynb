{
 "cells": [
  {
   "cell_type": "code",
   "execution_count": 37,
   "id": "7d84112e",
   "metadata": {},
   "outputs": [],
   "source": [
    "from mlagents_envs.envs.unity_gym_env import UnityToGymWrapper\n",
    "from mlagents_envs.environment import ActionTuple, UnityEnvironment\n",
    "from mlagents_envs.side_channel.engine_configuration_channel import \\\n",
    "    EngineConfigurationChannel\n",
    "from mlagents_envs.exception import (\n",
    "    UnityEnvironmentException,\n",
    "    UnityCommunicationException,\n",
    "    UnityCommunicatorStoppedException,\n",
    ")\n",
    "import numpy as np\n",
    "import matplotlib.pyplot as plt"
   ]
  },
  {
   "cell_type": "code",
   "execution_count": 107,
   "id": "ec14e952",
   "metadata": {},
   "outputs": [],
   "source": [
    "try:\n",
    "    env.close()\n",
    "except Exception:\n",
    "    pass\n",
    "\n",
    "env = UnityEnvironment(file_name=None)"
   ]
  },
  {
   "cell_type": "code",
   "execution_count": 108,
   "id": "82bc3045",
   "metadata": {},
   "outputs": [
    {
     "name": "stdout",
     "output_type": "stream",
     "text": [
      "behavior_names: ['GridFoodCollector?team=0']\n",
      "\n",
      "== BehaviorSpecの情報の確認 ==\n",
      "observation_specs: [ObservationSpec(shape=(40, 40, 5), dimension_property=(<DimensionProperty.TRANSLATIONAL_EQUIVARIANCE: 2>, <DimensionProperty.TRANSLATIONAL_EQUIVARIANCE: 2>, <DimensionProperty.NONE: 1>), observation_type=<ObservationType.DEFAULT: 0>, name='GridSensor-OneHot')]\n",
      "action_spec: Continuous: 3, Discrete: (2,)\n"
     ]
    }
   ],
   "source": [
    "# Unity環境のリセット\n",
    "env.reset()\n",
    "\n",
    "# BehaviorNameのリストの取得\n",
    "behavior_names = list(env.behavior_specs.keys())\n",
    "print('behavior_names:', behavior_names)\n",
    "\n",
    "# BehaviorSpecの取得\n",
    "behavior_spec = env.behavior_specs[behavior_names[0]]\n",
    "\n",
    "# BehaviorSpecの情報の確認\n",
    "print('\\n== BehaviorSpecの情報の確認 ==')\n",
    "print('observation_specs:', behavior_spec.observation_specs)\n",
    "print('action_spec:', behavior_spec.action_spec)"
   ]
  },
  {
   "cell_type": "code",
   "execution_count": 40,
   "id": "65c48188",
   "metadata": {},
   "outputs": [
    {
     "data": {
      "text/plain": [
       "BehaviorSpec(observation_specs=[ObservationSpec(shape=(40, 40, 5), dimension_property=(<DimensionProperty.TRANSLATIONAL_EQUIVARIANCE: 2>, <DimensionProperty.TRANSLATIONAL_EQUIVARIANCE: 2>, <DimensionProperty.NONE: 1>), observation_type=<ObservationType.DEFAULT: 0>, name='GridSensor-OneHot')], action_spec=ActionSpec(continuous_size=3, discrete_branches=(2,)))"
      ]
     },
     "execution_count": 40,
     "metadata": {},
     "output_type": "execute_result"
    }
   ],
   "source": [
    "behavior_spec"
   ]
  },
  {
   "cell_type": "code",
   "execution_count": null,
   "id": "b31e6fd9",
   "metadata": {},
   "outputs": [],
   "source": []
  },
  {
   "cell_type": "code",
   "execution_count": null,
   "id": "24473caf",
   "metadata": {},
   "outputs": [],
   "source": []
  },
  {
   "cell_type": "code",
   "execution_count": 41,
   "id": "049cd29c",
   "metadata": {
    "scrolled": true,
    "tags": []
   },
   "outputs": [
    {
     "name": "stdout",
     "output_type": "stream",
     "text": [
      "\n",
      "== DecisionStepsの情報の確認 ==\n",
      "obj: [array([[[[0., 0., 0., 0., 0.],\n",
      "         [0., 0., 0., 0., 0.],\n",
      "         [0., 0., 0., 0., 0.],\n",
      "         ...,\n",
      "         [0., 0., 0., 0., 0.],\n",
      "         [0., 0., 0., 0., 0.],\n",
      "         [0., 0., 0., 0., 0.]],\n",
      "\n",
      "        [[0., 0., 0., 0., 0.],\n",
      "         [0., 0., 0., 0., 0.],\n",
      "         [0., 0., 0., 0., 0.],\n",
      "         ...,\n",
      "         [0., 0., 0., 0., 0.],\n",
      "         [0., 0., 0., 0., 0.],\n",
      "         [0., 0., 0., 0., 0.]],\n",
      "\n",
      "        [[0., 0., 0., 0., 0.],\n",
      "         [0., 0., 0., 0., 0.],\n",
      "         [0., 0., 0., 0., 0.],\n",
      "         ...,\n",
      "         [0., 0., 0., 0., 0.],\n",
      "         [0., 0., 0., 0., 0.],\n",
      "         [0., 0., 0., 0., 0.]],\n",
      "\n",
      "        ...,\n",
      "\n",
      "        [[0., 0., 0., 0., 0.],\n",
      "         [0., 0., 0., 0., 0.],\n",
      "         [0., 0., 0., 0., 0.],\n",
      "         ...,\n",
      "         [0., 0., 0., 0., 0.],\n",
      "         [0., 0., 0., 0., 0.],\n",
      "         [0., 0., 0., 0., 0.]],\n",
      "\n",
      "        [[0., 0., 0., 0., 0.],\n",
      "         [0., 0., 0., 0., 0.],\n",
      "         [0., 0., 0., 0., 0.],\n",
      "         ...,\n",
      "         [0., 0., 0., 0., 0.],\n",
      "         [0., 0., 0., 0., 0.],\n",
      "         [0., 0., 0., 0., 0.]],\n",
      "\n",
      "        [[0., 0., 0., 0., 0.],\n",
      "         [0., 0., 0., 0., 0.],\n",
      "         [0., 0., 0., 0., 0.],\n",
      "         ...,\n",
      "         [0., 0., 0., 0., 0.],\n",
      "         [0., 0., 0., 0., 0.],\n",
      "         [0., 0., 0., 0., 0.]]],\n",
      "\n",
      "\n",
      "       [[[0., 0., 0., 0., 0.],\n",
      "         [0., 0., 0., 0., 0.],\n",
      "         [0., 0., 0., 0., 0.],\n",
      "         ...,\n",
      "         [0., 0., 0., 0., 0.],\n",
      "         [0., 0., 0., 0., 0.],\n",
      "         [0., 0., 0., 0., 0.]],\n",
      "\n",
      "        [[0., 0., 0., 0., 0.],\n",
      "         [0., 0., 0., 0., 0.],\n",
      "         [0., 0., 0., 0., 0.],\n",
      "         ...,\n",
      "         [0., 0., 0., 0., 0.],\n",
      "         [0., 0., 0., 0., 0.],\n",
      "         [0., 0., 0., 0., 0.]],\n",
      "\n",
      "        [[0., 0., 0., 0., 0.],\n",
      "         [0., 0., 0., 0., 0.],\n",
      "         [0., 0., 0., 0., 0.],\n",
      "         ...,\n",
      "         [0., 0., 0., 0., 0.],\n",
      "         [0., 0., 0., 0., 0.],\n",
      "         [0., 0., 0., 0., 0.]],\n",
      "\n",
      "        ...,\n",
      "\n",
      "        [[0., 0., 0., 0., 0.],\n",
      "         [0., 0., 0., 0., 0.],\n",
      "         [0., 0., 0., 0., 0.],\n",
      "         ...,\n",
      "         [0., 0., 0., 0., 0.],\n",
      "         [0., 0., 0., 0., 0.],\n",
      "         [0., 0., 0., 0., 0.]],\n",
      "\n",
      "        [[0., 0., 0., 0., 0.],\n",
      "         [0., 0., 0., 0., 0.],\n",
      "         [0., 0., 0., 0., 0.],\n",
      "         ...,\n",
      "         [0., 0., 0., 0., 0.],\n",
      "         [0., 0., 0., 0., 0.],\n",
      "         [0., 0., 0., 0., 0.]],\n",
      "\n",
      "        [[0., 0., 0., 0., 0.],\n",
      "         [0., 0., 0., 0., 0.],\n",
      "         [0., 0., 0., 0., 0.],\n",
      "         ...,\n",
      "         [0., 0., 0., 0., 0.],\n",
      "         [0., 0., 0., 0., 0.],\n",
      "         [0., 0., 0., 0., 0.]]],\n",
      "\n",
      "\n",
      "       [[[0., 0., 0., 0., 0.],\n",
      "         [0., 0., 0., 0., 0.],\n",
      "         [0., 0., 0., 0., 0.],\n",
      "         ...,\n",
      "         [0., 0., 0., 0., 0.],\n",
      "         [0., 0., 0., 0., 0.],\n",
      "         [0., 0., 0., 0., 0.]],\n",
      "\n",
      "        [[0., 0., 0., 0., 0.],\n",
      "         [0., 0., 0., 0., 0.],\n",
      "         [0., 0., 0., 0., 0.],\n",
      "         ...,\n",
      "         [0., 0., 0., 0., 0.],\n",
      "         [0., 0., 0., 0., 0.],\n",
      "         [0., 0., 0., 0., 0.]],\n",
      "\n",
      "        [[0., 0., 0., 0., 0.],\n",
      "         [0., 0., 0., 0., 0.],\n",
      "         [0., 0., 0., 0., 0.],\n",
      "         ...,\n",
      "         [0., 0., 0., 0., 0.],\n",
      "         [0., 0., 0., 0., 0.],\n",
      "         [0., 0., 0., 0., 0.]],\n",
      "\n",
      "        ...,\n",
      "\n",
      "        [[0., 0., 0., 0., 0.],\n",
      "         [0., 0., 0., 0., 0.],\n",
      "         [0., 0., 0., 0., 0.],\n",
      "         ...,\n",
      "         [0., 0., 0., 0., 0.],\n",
      "         [0., 0., 0., 0., 0.],\n",
      "         [0., 0., 0., 0., 0.]],\n",
      "\n",
      "        [[0., 0., 0., 0., 0.],\n",
      "         [0., 0., 0., 0., 0.],\n",
      "         [0., 0., 0., 0., 0.],\n",
      "         ...,\n",
      "         [0., 0., 0., 0., 0.],\n",
      "         [0., 0., 0., 0., 0.],\n",
      "         [0., 0., 0., 0., 0.]],\n",
      "\n",
      "        [[0., 0., 0., 0., 0.],\n",
      "         [0., 0., 0., 0., 0.],\n",
      "         [0., 0., 0., 0., 0.],\n",
      "         ...,\n",
      "         [0., 0., 0., 0., 0.],\n",
      "         [0., 0., 0., 0., 0.],\n",
      "         [0., 0., 0., 0., 0.]]],\n",
      "\n",
      "\n",
      "       [[[0., 0., 0., 0., 0.],\n",
      "         [0., 0., 0., 0., 0.],\n",
      "         [0., 0., 0., 0., 0.],\n",
      "         ...,\n",
      "         [0., 0., 0., 0., 0.],\n",
      "         [0., 0., 0., 0., 0.],\n",
      "         [0., 0., 0., 0., 0.]],\n",
      "\n",
      "        [[0., 0., 0., 0., 0.],\n",
      "         [0., 0., 0., 0., 0.],\n",
      "         [0., 0., 0., 0., 0.],\n",
      "         ...,\n",
      "         [0., 0., 0., 0., 0.],\n",
      "         [0., 0., 0., 0., 0.],\n",
      "         [0., 0., 0., 0., 0.]],\n",
      "\n",
      "        [[0., 0., 0., 0., 0.],\n",
      "         [0., 0., 0., 0., 0.],\n",
      "         [0., 0., 0., 0., 0.],\n",
      "         ...,\n",
      "         [0., 0., 1., 0., 0.],\n",
      "         [0., 0., 1., 0., 0.],\n",
      "         [0., 0., 0., 0., 0.]],\n",
      "\n",
      "        ...,\n",
      "\n",
      "        [[0., 0., 0., 0., 0.],\n",
      "         [0., 0., 0., 0., 0.],\n",
      "         [0., 0., 0., 0., 0.],\n",
      "         ...,\n",
      "         [0., 0., 0., 0., 0.],\n",
      "         [0., 0., 0., 0., 0.],\n",
      "         [0., 0., 0., 0., 0.]],\n",
      "\n",
      "        [[0., 0., 0., 0., 0.],\n",
      "         [0., 0., 0., 0., 0.],\n",
      "         [0., 0., 0., 0., 0.],\n",
      "         ...,\n",
      "         [0., 0., 0., 0., 0.],\n",
      "         [0., 0., 0., 0., 0.],\n",
      "         [0., 0., 0., 0., 0.]],\n",
      "\n",
      "        [[0., 0., 0., 0., 0.],\n",
      "         [0., 0., 0., 0., 0.],\n",
      "         [0., 0., 0., 0., 0.],\n",
      "         ...,\n",
      "         [0., 0., 0., 0., 0.],\n",
      "         [0., 0., 0., 0., 0.],\n",
      "         [0., 0., 0., 0., 0.]]],\n",
      "\n",
      "\n",
      "       [[[0., 0., 0., 0., 0.],\n",
      "         [0., 0., 0., 0., 0.],\n",
      "         [0., 0., 0., 0., 0.],\n",
      "         ...,\n",
      "         [0., 0., 0., 0., 0.],\n",
      "         [0., 0., 0., 0., 0.],\n",
      "         [0., 0., 0., 0., 0.]],\n",
      "\n",
      "        [[0., 0., 0., 0., 0.],\n",
      "         [0., 0., 0., 0., 0.],\n",
      "         [0., 0., 0., 0., 0.],\n",
      "         ...,\n",
      "         [0., 0., 0., 0., 0.],\n",
      "         [0., 0., 0., 0., 0.],\n",
      "         [0., 0., 0., 0., 0.]],\n",
      "\n",
      "        [[0., 0., 0., 0., 0.],\n",
      "         [0., 0., 0., 0., 0.],\n",
      "         [0., 0., 0., 0., 0.],\n",
      "         ...,\n",
      "         [0., 0., 0., 0., 0.],\n",
      "         [0., 0., 0., 0., 0.],\n",
      "         [0., 0., 0., 0., 0.]],\n",
      "\n",
      "        ...,\n",
      "\n",
      "        [[0., 0., 0., 0., 0.],\n",
      "         [0., 0., 0., 0., 0.],\n",
      "         [0., 0., 0., 0., 0.],\n",
      "         ...,\n",
      "         [0., 0., 0., 0., 0.],\n",
      "         [0., 0., 0., 0., 0.],\n",
      "         [0., 0., 0., 0., 0.]],\n",
      "\n",
      "        [[0., 0., 0., 0., 0.],\n",
      "         [0., 0., 0., 0., 0.],\n",
      "         [0., 0., 0., 0., 0.],\n",
      "         ...,\n",
      "         [0., 0., 0., 0., 0.],\n",
      "         [0., 0., 0., 0., 0.],\n",
      "         [0., 0., 0., 0., 0.]],\n",
      "\n",
      "        [[0., 0., 0., 0., 0.],\n",
      "         [0., 0., 0., 0., 0.],\n",
      "         [0., 0., 0., 0., 0.],\n",
      "         ...,\n",
      "         [0., 0., 0., 0., 0.],\n",
      "         [0., 0., 0., 0., 0.],\n",
      "         [0., 0., 0., 0., 0.]]]], dtype=float32)]\n",
      "reward: [0. 0. 0. 0. 0.]\n",
      "agent_id: [0 1 2 3 4]\n",
      "action_mask: [array([[False, False],\n",
      "       [False, False],\n",
      "       [False, False],\n",
      "       [False, False],\n",
      "       [False, False]])]\n",
      "\n",
      "== TerminalStepsの情報の確認 ==\n",
      "obs: [array([], shape=(0, 40, 40, 5), dtype=float32)]\n",
      "reward: []\n",
      "agent_id: []\n",
      "interrupted: []\n"
     ]
    }
   ],
   "source": [
    "# 現在のステップの情報の取得\n",
    "decision_steps, terminal_steps = env.get_steps(behavior_names[0])\n",
    "\n",
    "# DecisionStepsの情報の確認\n",
    "print('\\n== DecisionStepsの情報の確認 ==')\n",
    "print('obj:', decision_steps.obs)\n",
    "print('reward:', decision_steps.reward)\n",
    "print('agent_id:', decision_steps.agent_id)\n",
    "print('action_mask:', decision_steps.action_mask)\n",
    "\n",
    "# TerminalStepsの情報の確認\n",
    "print('\\n== TerminalStepsの情報の確認 ==')\n",
    "print('obs:', terminal_steps.obs)\n",
    "print('reward:', terminal_steps.reward)\n",
    "print('agent_id:', terminal_steps.agent_id)\n",
    "print('interrupted:', terminal_steps.interrupted)"
   ]
  },
  {
   "cell_type": "code",
   "execution_count": 42,
   "id": "f591e623",
   "metadata": {},
   "outputs": [
    {
     "data": {
      "text/plain": [
       "1"
      ]
     },
     "execution_count": 42,
     "metadata": {},
     "output_type": "execute_result"
    }
   ],
   "source": [
    "len(decision_steps.obs)"
   ]
  },
  {
   "cell_type": "code",
   "execution_count": 43,
   "id": "2f5cb17f",
   "metadata": {},
   "outputs": [
    {
     "data": {
      "text/plain": [
       "(5, 40, 40, 5)"
      ]
     },
     "execution_count": 43,
     "metadata": {},
     "output_type": "execute_result"
    }
   ],
   "source": [
    "decision_steps.obs[0].shape"
   ]
  },
  {
   "cell_type": "code",
   "execution_count": 44,
   "id": "cdd2969d-6b55-453f-8318-06dc3312c62f",
   "metadata": {},
   "outputs": [
    {
     "data": {
      "text/plain": [
       "(5, 40, 40, 5)"
      ]
     },
     "execution_count": 44,
     "metadata": {},
     "output_type": "execute_result"
    }
   ],
   "source": [
    "decision_steps.obs[0].shape"
   ]
  },
  {
   "cell_type": "code",
   "execution_count": 45,
   "id": "fbfab3e5-268b-4589-9c5b-dac2ce30877a",
   "metadata": {},
   "outputs": [
    {
     "data": {
      "text/plain": [
       "(5, 40, 40, 5)"
      ]
     },
     "execution_count": 45,
     "metadata": {},
     "output_type": "execute_result"
    }
   ],
   "source": [
    "np.concatenate([decision_steps.obs[0], terminal_steps.obs[0]], axis=0).shape"
   ]
  },
  {
   "cell_type": "code",
   "execution_count": 46,
   "id": "ac136e93-b502-40f8-a1be-800da1620a6c",
   "metadata": {},
   "outputs": [
    {
     "data": {
      "text/plain": [
       "(0, 40, 40, 5)"
      ]
     },
     "execution_count": 46,
     "metadata": {},
     "output_type": "execute_result"
    }
   ],
   "source": [
    "terminal_steps.obs[0].shape"
   ]
  },
  {
   "cell_type": "code",
   "execution_count": 47,
   "id": "679b930f",
   "metadata": {},
   "outputs": [],
   "source": [
    "N_AGENTS = len(decision_steps.obs[0])"
   ]
  },
  {
   "cell_type": "code",
   "execution_count": 48,
   "id": "f48d65df",
   "metadata": {},
   "outputs": [
    {
     "data": {
      "text/plain": [
       "(5,)"
      ]
     },
     "execution_count": 48,
     "metadata": {},
     "output_type": "execute_result"
    }
   ],
   "source": [
    "decision_steps.reward.shape"
   ]
  },
  {
   "cell_type": "code",
   "execution_count": 49,
   "id": "8ea7b358",
   "metadata": {},
   "outputs": [
    {
     "data": {
      "text/plain": [
       "array([0., 0., 0., 0., 0.], dtype=float32)"
      ]
     },
     "execution_count": 49,
     "metadata": {},
     "output_type": "execute_result"
    }
   ],
   "source": [
    "decision_steps.reward"
   ]
  },
  {
   "cell_type": "code",
   "execution_count": 50,
   "id": "6a14ec09",
   "metadata": {},
   "outputs": [
    {
     "data": {
      "text/plain": [
       "array([0, 1, 2, 3, 4], dtype=int32)"
      ]
     },
     "execution_count": 50,
     "metadata": {},
     "output_type": "execute_result"
    }
   ],
   "source": [
    "decision_steps.agent_id"
   ]
  },
  {
   "cell_type": "code",
   "execution_count": 51,
   "id": "57903f6e",
   "metadata": {},
   "outputs": [
    {
     "data": {
      "text/plain": [
       "[array([[False, False],\n",
       "        [False, False],\n",
       "        [False, False],\n",
       "        [False, False],\n",
       "        [False, False]])]"
      ]
     },
     "execution_count": 51,
     "metadata": {},
     "output_type": "execute_result"
    }
   ],
   "source": [
    "decision_steps.action_mask"
   ]
  },
  {
   "cell_type": "code",
   "execution_count": 52,
   "id": "83566d28",
   "metadata": {},
   "outputs": [
    {
     "data": {
      "text/plain": [
       "array([], dtype=float32)"
      ]
     },
     "execution_count": 52,
     "metadata": {},
     "output_type": "execute_result"
    }
   ],
   "source": [
    "terminal_steps.reward"
   ]
  },
  {
   "cell_type": "code",
   "execution_count": 53,
   "id": "ce68c62c",
   "metadata": {},
   "outputs": [
    {
     "data": {
      "text/plain": [
       "array([], dtype=int32)"
      ]
     },
     "execution_count": 53,
     "metadata": {},
     "output_type": "execute_result"
    }
   ],
   "source": [
    "terminal_steps.agent_id"
   ]
  },
  {
   "cell_type": "code",
   "execution_count": 54,
   "id": "5f1add65-bc7c-4b6e-92c4-4a2549c10363",
   "metadata": {},
   "outputs": [
    {
     "data": {
      "text/plain": [
       "[array([], shape=(0, 40, 40, 5), dtype=float32)]"
      ]
     },
     "execution_count": 54,
     "metadata": {},
     "output_type": "execute_result"
    }
   ],
   "source": [
    "terminal_steps.obs"
   ]
  },
  {
   "cell_type": "code",
   "execution_count": 55,
   "id": "f90f3ef3",
   "metadata": {},
   "outputs": [
    {
     "data": {
      "text/plain": [
       "ActionSpec(continuous_size=3, discrete_branches=(2,))"
      ]
     },
     "execution_count": 55,
     "metadata": {},
     "output_type": "execute_result"
    }
   ],
   "source": [
    "behavior_spec.action_spec"
   ]
  },
  {
   "cell_type": "code",
   "execution_count": 56,
   "id": "e5cb6883-0043-4866-8a0a-62c051476f41",
   "metadata": {},
   "outputs": [
    {
     "data": {
      "text/plain": [
       "(2,)"
      ]
     },
     "execution_count": 56,
     "metadata": {},
     "output_type": "execute_result"
    }
   ],
   "source": [
    "behavior_spec.action_spec.discrete_branches"
   ]
  },
  {
   "cell_type": "code",
   "execution_count": 57,
   "id": "ba179d51-a4cc-49b7-94d5-6cab468214a8",
   "metadata": {},
   "outputs": [
    {
     "data": {
      "text/plain": [
       "1"
      ]
     },
     "execution_count": 57,
     "metadata": {},
     "output_type": "execute_result"
    }
   ],
   "source": [
    "len(behavior_spec.action_spec.discrete_branches)"
   ]
  },
  {
   "cell_type": "code",
   "execution_count": 58,
   "id": "9b6c3af7-caca-49fa-bd64-3bae77146479",
   "metadata": {},
   "outputs": [
    {
     "data": {
      "text/plain": [
       "3"
      ]
     },
     "execution_count": 58,
     "metadata": {},
     "output_type": "execute_result"
    }
   ],
   "source": [
    "behavior_spec.action_spec.continuous_size"
   ]
  },
  {
   "cell_type": "code",
   "execution_count": null,
   "id": "8260123f-29c9-458c-9bd8-159ade1eb123",
   "metadata": {},
   "outputs": [],
   "source": []
  },
  {
   "cell_type": "code",
   "execution_count": 31,
   "id": "2656191b-4a6a-4f12-a857-22a315167b39",
   "metadata": {},
   "outputs": [],
   "source": [
    "# env.set_action_for_agent(behavior_names[0], 0, ActionTuple(continuous=np.zeros(3).reshape(1, 3), discrete=np.array([0]).reshape(1, 1)))"
   ]
  },
  {
   "cell_type": "code",
   "execution_count": null,
   "id": "c6dc7ff3-445c-4514-b30d-23ffbbcbbc4b",
   "metadata": {},
   "outputs": [],
   "source": []
  },
  {
   "cell_type": "code",
   "execution_count": 132,
   "id": "ba69df90-cd67-4557-807e-a43d5a81a22c",
   "metadata": {},
   "outputs": [],
   "source": [
    "class EnvWrapper:\n",
    "\n",
    "    def __init__(self, env):\n",
    "        self._env = env\n",
    "        behavior_names = list(env.behavior_specs.keys())\n",
    "        behavior_spec = env.behavior_specs[behavior_names[0]]\n",
    "        self._behavior_name = list(env.behavior_specs.keys())[0]\n",
    "        self._action_continuous_dim = behavior_spec.action_spec.continuous_size\n",
    "        self._action_discrete_dim = len(behavior_spec.action_spec.discrete_branches)\n",
    "        self._n_discrete_actions = behavior_spec.action_spec.discrete_branches\n",
    "        self._OBSERVATION_IDX = 0\n",
    "        decision_steps, terminal_steps = env.get_steps(behavior_names[0])\n",
    "        self._n_agents = len(decision_steps.obs[0])\n",
    "\n",
    "    def set_action(self, agent_id, continuous_action: np.ndarray = None, discrete_action: np.ndarray = None):\n",
    "        if continuous_action is None and discrete_action is None:\n",
    "            raise ValueError('either continuous_action or discrete_action must be specified')\n",
    "        action_tuple = self.format_action(continuous_action, discrete_action)\n",
    "        self._env.set_action_for_agent(self._behavior_name, agent_id, action_tuple)\n",
    "\n",
    "    def format_action(self, continuous_action: np.ndarray, discrete_action: np.ndarray):\n",
    "        if continuous_action is not None:\n",
    "            assert continuous_action.ndim == 1\n",
    "            assert len(continuous_action) == self._action_continuous_dim\n",
    "        if discrete_action is not None:\n",
    "            assert discrete_action.ndim == 1\n",
    "            assert len(discrete_action) == self._action_discrete_dim\n",
    "        return ActionTuple(\n",
    "            continuous=continuous_action.reshape(1, self._action_continuous_dim),\n",
    "            discrete=discrete_action.reshape(1, self._action_discrete_dim)\n",
    "        )\n",
    "\n",
    "    def get_state(self):\n",
    "        decision_steps, terminal_steps = self._env.get_steps(self._behavior_name)\n",
    "        \n",
    "        agent_id_diff = list(set(decision_steps.agent_id)-set(terminal_steps.agent_id))\n",
    "        agent_id_filt = [ai in agent_id_diff for ai in decision_steps.agent_id]\n",
    "\n",
    "        states = np.concatenate([\n",
    "            decision_steps.obs[self._OBSERVATION_IDX][agent_id_filt],\n",
    "            terminal_steps.obs[self._OBSERVATION_IDX]\n",
    "        ], axis=0)\n",
    "        agent_ids = np.concatenate([decision_steps.agent_id[agent_id_filt], terminal_steps.agent_id], axis=0)\n",
    "        rewards = np.concatenate([decision_steps.reward[agent_id_filt], terminal_steps.reward], axis=0)\n",
    "        dones = [False]*len(decision_steps.reward[agent_id_filt]) + [True]*len(terminal_steps.reward)\n",
    "\n",
    "        assert states.shape[0] == self._n_agents\n",
    "        assert len(rewards) == self._n_agents\n",
    "        assert len(dones) == self._n_agents\n",
    "\n",
    "        return agent_ids, states, rewards, dones\n",
    "\n",
    "    def step(self):\n",
    "        self._env.step()\n",
    "        agent_ids, states, rewards, dones = self.get_state()\n",
    "        return agent_ids, states, rewards, dones\n",
    "    \n",
    "    def reset(self):\n",
    "        self._env.reset()\n",
    "        agent_ids, states, rewards, dones = self.get_state()\n",
    "        return states\n",
    "\n",
    "    def random_action(self):\n",
    "        return (\n",
    "            2.0*np.random.rand(self._action_continuous_dim) - 1.0 if self._action_continuous_dim > 0 else None,\n",
    "            np.array([np.random.randint(0, n_act) for n_act in self._n_discrete_actions]) if self._action_discrete_dim > 0 else None,\n",
    "        )"
   ]
  },
  {
   "cell_type": "code",
   "execution_count": 133,
   "id": "44f16c88-940e-48a3-8b47-40759d22c132",
   "metadata": {},
   "outputs": [],
   "source": [
    "class Agent:\n",
    "    \n",
    "    def __init__(self, w_env, agent_id):\n",
    "        self._w_env = w_env\n",
    "        self._agent_id = agent_id\n",
    "\n",
    "    def set_action(self, continuous_action: np.ndarray = None, discrete_action: np.ndarray = None):\n",
    "        self._w_env.set_action(self._agent_id, continuous_action, discrete_action)"
   ]
  },
  {
   "cell_type": "code",
   "execution_count": 134,
   "id": "54ae6b18-9096-4c32-b75a-b720de97bd27",
   "metadata": {},
   "outputs": [],
   "source": [
    "w_env = EnvWrapper(env)\n",
    "agents = [Agent(w_env=w_env, agent_id=ai) for ai in range(N_AGENTS)]"
   ]
  },
  {
   "cell_type": "code",
   "execution_count": 135,
   "id": "2d9acc5b-f530-4388-81bf-a343bb631845",
   "metadata": {},
   "outputs": [],
   "source": [
    "c_acts, d_acts = w_env.random_action()"
   ]
  },
  {
   "cell_type": "code",
   "execution_count": 136,
   "id": "9f0e7491-de5a-44f7-888d-c6c7265a81ad",
   "metadata": {},
   "outputs": [],
   "source": [
    "agents[0].set_action(c_acts, d_acts)"
   ]
  },
  {
   "cell_type": "code",
   "execution_count": 137,
   "id": "30557be2-5814-443c-b396-5f68c8dbf2c6",
   "metadata": {},
   "outputs": [],
   "source": [
    "agent_ids, states, rewards, dones = w_env.step()"
   ]
  },
  {
   "cell_type": "code",
   "execution_count": 138,
   "id": "171e4cc4-8175-4653-ab50-ebfbedb0e00c",
   "metadata": {},
   "outputs": [
    {
     "data": {
      "text/plain": [
       "array([0, 1, 2, 3, 4], dtype=int32)"
      ]
     },
     "execution_count": 138,
     "metadata": {},
     "output_type": "execute_result"
    }
   ],
   "source": [
    "agent_ids"
   ]
  },
  {
   "cell_type": "code",
   "execution_count": 81,
   "id": "c0d9d371-87ba-48a7-8b86-acd24ac74a51",
   "metadata": {},
   "outputs": [
    {
     "data": {
      "text/plain": [
       "(5, 40, 40, 5)"
      ]
     },
     "execution_count": 81,
     "metadata": {},
     "output_type": "execute_result"
    }
   ],
   "source": [
    "states.shape"
   ]
  },
  {
   "cell_type": "code",
   "execution_count": 82,
   "id": "7594afcc-8292-4e48-92f7-cd72bf290774",
   "metadata": {},
   "outputs": [
    {
     "data": {
      "text/plain": [
       "array([0., 0., 0., 0., 0.], dtype=float32)"
      ]
     },
     "execution_count": 82,
     "metadata": {},
     "output_type": "execute_result"
    }
   ],
   "source": [
    "rewards"
   ]
  },
  {
   "cell_type": "code",
   "execution_count": 83,
   "id": "47757c66-92cb-4fdf-8a5d-c9249a042cb7",
   "metadata": {},
   "outputs": [
    {
     "data": {
      "text/plain": [
       "[False, False, False, False, False]"
      ]
     },
     "execution_count": 83,
     "metadata": {},
     "output_type": "execute_result"
    }
   ],
   "source": [
    "dones"
   ]
  },
  {
   "cell_type": "code",
   "execution_count": null,
   "id": "f85dd34c-1a0f-48fd-89f8-788171c2e5d9",
   "metadata": {},
   "outputs": [],
   "source": []
  },
  {
   "cell_type": "code",
   "execution_count": null,
   "id": "3c5abf1f-ae4c-44de-ab02-2539bab10838",
   "metadata": {},
   "outputs": [],
   "source": []
  },
  {
   "cell_type": "code",
   "execution_count": 139,
   "id": "8840faa9-9a2e-439b-a028-2454ac753223",
   "metadata": {},
   "outputs": [],
   "source": [
    "import time\n",
    "import warnings\n",
    "from tqdm import tqdm\n",
    "\n",
    "warnings.simplefilter('ignore')"
   ]
  },
  {
   "cell_type": "code",
   "execution_count": 140,
   "id": "912de090-3fa5-49f3-8f21-14cbad86a7d4",
   "metadata": {
    "scrolled": true,
    "tags": []
   },
   "outputs": [
    {
     "name": "stderr",
     "output_type": "stream",
     "text": [
      " 20%|█████████████████████▌                                                                                      | 1000/5000 [01:39<07:40,  8.69it/s]"
     ]
    },
    {
     "name": "stdout",
     "output_type": "stream",
     "text": [
      "[True, True, True, True, True]\n"
     ]
    },
    {
     "name": "stderr",
     "output_type": "stream",
     "text": [
      " 40%|███████████████████████████████████████████▏                                                                | 2001/5000 [03:19<05:44,  8.70it/s]"
     ]
    },
    {
     "name": "stdout",
     "output_type": "stream",
     "text": [
      "[True, True, True, True, True]\n"
     ]
    },
    {
     "name": "stderr",
     "output_type": "stream",
     "text": [
      " 60%|████████████████████████████████████████████████████████████████▊                                           | 3002/5000 [04:59<04:12,  7.90it/s]"
     ]
    },
    {
     "name": "stdout",
     "output_type": "stream",
     "text": [
      "[True, True, True, True, True]\n"
     ]
    },
    {
     "name": "stderr",
     "output_type": "stream",
     "text": [
      " 80%|██████████████████████████████████████████████████████████████████████████████████████▍                     | 4004/5000 [06:39<01:42,  9.72it/s]"
     ]
    },
    {
     "name": "stdout",
     "output_type": "stream",
     "text": [
      "[True, True, True, True, True]\n"
     ]
    },
    {
     "name": "stderr",
     "output_type": "stream",
     "text": [
      "100%|████████████████████████████████████████████████████████████████████████████████████████████████████████████| 5000/5000 [08:19<00:00, 10.01it/s]\n"
     ]
    }
   ],
   "source": [
    "for i in tqdm(range(5000)):\n",
    "    for agent in agents:\n",
    "        c_acts, d_acts = w_env.random_action()\n",
    "        agent.set_action(c_acts, d_acts)\n",
    "    agent_ids, states, rewards, dones = w_env.step()\n",
    "    if any(dones):\n",
    "        print(dones)\n",
    "        w_env.reset()\n",
    "    # time.sleep(0.1)"
   ]
  },
  {
   "cell_type": "code",
   "execution_count": null,
   "id": "ed5e7c9e",
   "metadata": {},
   "outputs": [],
   "source": []
  },
  {
   "cell_type": "code",
   "execution_count": 104,
   "id": "143ae611",
   "metadata": {},
   "outputs": [],
   "source": [
    "env.close()"
   ]
  },
  {
   "cell_type": "code",
   "execution_count": null,
   "id": "d6d58382",
   "metadata": {},
   "outputs": [],
   "source": []
  }
 ],
 "metadata": {
  "kernelspec": {
   "display_name": "Python 3 (ipykernel)",
   "language": "python",
   "name": "python3"
  },
  "language_info": {
   "codemirror_mode": {
    "name": "ipython",
    "version": 3
   },
   "file_extension": ".py",
   "mimetype": "text/x-python",
   "name": "python",
   "nbconvert_exporter": "python",
   "pygments_lexer": "ipython3",
   "version": "3.9.5"
  }
 },
 "nbformat": 4,
 "nbformat_minor": 5
}
