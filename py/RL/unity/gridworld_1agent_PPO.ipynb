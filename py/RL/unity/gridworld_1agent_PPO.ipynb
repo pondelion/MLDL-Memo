{
 "cells": [
  {
   "cell_type": "code",
   "execution_count": 1,
   "id": "72143cf9",
   "metadata": {},
   "outputs": [],
   "source": [
    "from mlagents_envs.envs.unity_gym_env import UnityToGymWrapper\n",
    "from mlagents_envs.environment import ActionTuple, UnityEnvironment\n",
    "from mlagents_envs.side_channel.engine_configuration_channel import \\\n",
    "    EngineConfigurationChannel\n",
    "from mlagents_envs.exception import (\n",
    "    UnityEnvironmentException,\n",
    "    UnityCommunicationException,\n",
    "    UnityCommunicatorStoppedException,\n",
    ")\n",
    "import gym\n",
    "import numpy as np\n",
    "import matplotlib.pyplot as plt\n",
    "import cv2"
   ]
  },
  {
   "cell_type": "code",
   "execution_count": null,
   "id": "5cda46b4",
   "metadata": {},
   "outputs": [],
   "source": [
    "import collections\n",
    "from typing import Union\n",
    "import math\n",
    "import random\n",
    "from copy import deepcopy\n",
    "from typing import Optional\n",
    "\n",
    "import numpy as np\n",
    "import torch\n",
    "import torch.nn as nn\n",
    "import torch.nn.functional as F\n",
    "import torchvision.transforms as T\n",
    "from fastprogress import progress_bar as pb\n",
    "import matplotlib.pyplot as plt\n",
    "import pandas as pd"
   ]
  },
  {
   "cell_type": "code",
   "execution_count": 3,
   "id": "db4a7953",
   "metadata": {},
   "outputs": [],
   "source": [
    "class ExpBuffer:\n",
    "\n",
    "    def __init__(\n",
    "        self,\n",
    "        max_size: int = 20000,\n",
    "        prob_alpha: float = 0.6,\n",
    "        beta_start: float = 0.4,\n",
    "        beta_frames: float = 100000,\n",
    "        n_step: int = 4,\n",
    "        gamma: float = 0.99,\n",
    "    ):\n",
    "        self._prob_alpha = prob_alpha\n",
    "        self._max_size = max_size\n",
    "        self._buf = []\n",
    "        self._pos = 0\n",
    "        self._beta_start = beta_start\n",
    "        self._beta = beta_start\n",
    "        self._beta_frames = beta_frames\n",
    "        self._n_step = n_step\n",
    "        self._gamma = gamma\n",
    "        self._total_discounted_rewards = np.array([np.nan]*max_size)\n",
    "        self._last_states = [np.nan]*max_size\n",
    "\n",
    "    def update_bata(self, idx) -> None:\n",
    "        beta = self._beta_start + idx * (1.0 - self._beta_start) / self._beta_frames\n",
    "        self._beta = min(1.0, beta)\n",
    "        return self._beta\n",
    "\n",
    "    def __len__(self):\n",
    "        return len(self._buf)\n",
    "\n",
    "    def append(\n",
    "        self,\n",
    "        state: np.ndarray,\n",
    "        action: int,\n",
    "        reward: Union[int, float],\n",
    "        done: bool,\n",
    "        next_state: np.ndarray,\n",
    "    ) -> None:\n",
    "        if len(self._buf) < self._max_size:\n",
    "            self._buf.append(\n",
    "                (state, action, reward, done, next_state)\n",
    "            )\n",
    "        else:\n",
    "            self._buf[self._pos] = (state, action, reward, done, next_state)\n",
    "\n",
    "        if len(self._buf) >= self._n_step:\n",
    "            dis_r = 0.0\n",
    "            last_state = self._buf[self._pos][0]\n",
    "            for i in range(self._n_step):\n",
    "                state, _, r, done, _ = self._buf[self._pos - i]\n",
    "                dis_r = r + self._gamma * dis_r\n",
    "                if done:\n",
    "                    last_state = state\n",
    "                    dis_r = r  # ※\n",
    "                self._total_discounted_rewards[self._pos - i] = dis_r\n",
    "                self._last_states[self._pos - i] = last_state\n",
    "            \n",
    "            for i in range(self._n_step-1):\n",
    "                done = self._buf[self._pos - i][3]\n",
    "                if done:\n",
    "                    break\n",
    "                self._total_discounted_rewards[self._pos - i] = np.nan\n",
    "                self._last_states[self._pos - i] = np.nan\n",
    "\n",
    "        self._pos = (self._pos + 1) % self._max_size\n",
    "\n",
    "    def get_latest_n(self, n: int):\n",
    "        if len(self._buf) < self._max_size:\n",
    "            if len(self._buf) < n+self._n_step:\n",
    "                raise RuntimeError('get_latest_n : len(self._buf) < n+self._n_step')\n",
    "            s_idx = self._pos - self._n_step - n \n",
    "            e_idx = self._pos - self._n_step\n",
    "            latest_exps = self._buf[s_idx:e_idx]\n",
    "            latest_total_rewards = self._total_discounted_rewards[s_idx:e_idx]\n",
    "            latest_last_states = self._last_states[s_idx:e_idx]\n",
    "        else:\n",
    "            s_idx = self._pos + self._max_size - self._n_step - n\n",
    "            e_idx = self._pos + self._max_size - self._n_step\n",
    "            latest_exps = (self._buf*2)[s_idx:e_idx]\n",
    "            latest_total_rewards = np.concatenate([self._total_discounted_rewards]*2)[s_idx:e_idx]\n",
    "            latest_last_states = (self._last_states*2)[s_idx:e_idx]\n",
    "        if len(latest_total_rewards) != n:\n",
    "            print(f'{s_idx} : {e_idx} : {e_idx-s_idx} : {len((self._total_discounted_rewards*2))}')\n",
    "        assert len(latest_exps) == n\n",
    "        assert len(latest_total_rewards) == n\n",
    "        assert len(latest_last_states) == n\n",
    "        states, actions, rewards, dones, next_states = zip(*latest_exps)\n",
    "        states = np.array(states)\n",
    "        actions = np.array(actions)\n",
    "        rewards = np.array(rewards)\n",
    "        dones = np.array(dones)\n",
    "        next_states = np.array(next_states)\n",
    "        last_states = np.stack(latest_last_states)\n",
    "        return states, actions, rewards, dones, latest_total_rewards, last_states\n",
    "\n",
    "    def update_priorities(self, sample_indices: np.ndarray, sample_priorities: np.ndarray) -> None:\n",
    "        self._priorities[sample_indices] = sample_priorities\n",
    "\n",
    "    @property\n",
    "    def gamma(self) -> float:\n",
    "        return self._gamma\n",
    "\n",
    "    @property\n",
    "    def n_step(self) -> float:\n",
    "        return self._n_step"
   ]
  },
  {
   "cell_type": "code",
   "execution_count": 73,
   "id": "dfec9310",
   "metadata": {},
   "outputs": [],
   "source": [
    "class ModelActor(nn.Module):\n",
    "    def __init__(self, input_shape, act_size, hidden_size = 64):\n",
    "        super(ModelActor, self).__init__()\n",
    "\n",
    "        self._conv = nn.Sequential(\n",
    "            nn.Conv2d(input_shape[0], 32, kernel_size=8, stride=4),\n",
    "            nn.ReLU(),\n",
    "            nn.Conv2d(32, 64, kernel_size=4, stride=2),\n",
    "            nn.ReLU(),\n",
    "            nn.Conv2d(64, 64, kernel_size=3, stride=1),\n",
    "            nn.ReLU()\n",
    "        )\n",
    "\n",
    "        conv_out_dim = int(np.prod(\n",
    "            self._conv(torch.zeros(1, *input_shape)).size()\n",
    "        ))\n",
    "        \n",
    "        self.mu = nn.Sequential(\n",
    "            nn.Linear(conv_out_dim, hidden_size),\n",
    "            nn.Tanh(),\n",
    "            nn.Linear(hidden_size, hidden_size),\n",
    "            nn.Tanh(),\n",
    "            nn.Linear(hidden_size, act_size),\n",
    "#             nn.Tanh(),\n",
    "            nn.Softmax(-1),\n",
    "        )\n",
    "        self.logstd = nn.Parameter(torch.zeros(act_size))\n",
    "\n",
    "    def forward(self, x):\n",
    "        return self.mu(\n",
    "            self._conv(x).reshape(x.size()[0], -1)\n",
    "        )"
   ]
  },
  {
   "cell_type": "code",
   "execution_count": 74,
   "id": "b4bb1979",
   "metadata": {},
   "outputs": [],
   "source": [
    "class ModelCritic(nn.Module):\n",
    "    def __init__(self, input_shape, hidden_size = 64):\n",
    "        super(ModelCritic, self).__init__()\n",
    "\n",
    "        self._conv = nn.Sequential(\n",
    "            nn.Conv2d(input_shape[0], 32, kernel_size=8, stride=4),\n",
    "            nn.ReLU(),\n",
    "            nn.Conv2d(32, 64, kernel_size=4, stride=2),\n",
    "            nn.ReLU(),\n",
    "            nn.Conv2d(64, 64, kernel_size=3, stride=1),\n",
    "            nn.ReLU()\n",
    "        )\n",
    "\n",
    "        conv_out_dim = int(np.prod(\n",
    "            self._conv(torch.zeros(1, *input_shape)).size()\n",
    "        ))\n",
    "        \n",
    "        self.value = nn.Sequential(\n",
    "            nn.Linear(conv_out_dim, hidden_size),\n",
    "            nn.ReLU(),\n",
    "            nn.Linear(hidden_size, hidden_size),\n",
    "            nn.ReLU(),\n",
    "            nn.Linear(hidden_size, 1),\n",
    "        )\n",
    "\n",
    "    def forward(self, x):\n",
    "        return self.value(\n",
    "            self._conv(x).reshape(x.size()[0], -1)\n",
    "        )"
   ]
  },
  {
   "cell_type": "code",
   "execution_count": 180,
   "id": "776cba86",
   "metadata": {},
   "outputs": [],
   "source": [
    "def calc_adv_ref(rewards, dones, net_crt, states_v, gamma, gae_lambda, device=\"cpu\"):\n",
    "    values_v = net_crt(states_v)\n",
    "    values = values_v.squeeze().data.cpu().numpy()\n",
    "\n",
    "    last_gae = 0.0\n",
    "    result_adv = []\n",
    "    result_ref = []\n",
    "    for val, next_val, reward, done in zip(reversed(values[:-1]),\n",
    "                                     reversed(values[1:]),\n",
    "                                     reversed(rewards[:-1]),\n",
    "                                     reversed(dones[:-1])):\n",
    "        if done:\n",
    "            delta = reward - val\n",
    "            last_gae = delta\n",
    "        else:\n",
    "            delta = reward + gamma * next_val - val\n",
    "            last_gae = delta + gamma * gae_lambda * last_gae\n",
    "        result_adv.append(last_gae)\n",
    "        result_ref.append(last_gae + val)\n",
    "\n",
    "    adv_v = torch.FloatTensor(list(reversed(result_adv)))\n",
    "    ref_v = torch.FloatTensor(list(reversed(result_ref)))\n",
    "    return adv_v.to(device), ref_v.to(device)"
   ]
  },
  {
   "cell_type": "code",
   "execution_count": 181,
   "id": "f7097bbf",
   "metadata": {},
   "outputs": [],
   "source": [
    "def calc_logprob(mu_v, logstd_v, actions_v):\n",
    "    p1 = - ((mu_v - actions_v) ** 2) / (2*torch.exp(logstd_v).clamp(min=1e-3))\n",
    "    p2 = - torch.log(torch.sqrt(2 * math.pi * torch.exp(logstd_v)))\n",
    "    return p1 + p2"
   ]
  },
  {
   "cell_type": "code",
   "execution_count": 260,
   "id": "1baff8e1",
   "metadata": {},
   "outputs": [],
   "source": [
    "class Agent:\n",
    "\n",
    "    def __init__(\n",
    "        self,\n",
    "        env,\n",
    "        exp_buffer: ExpBuffer,\n",
    "        act_net: nn.Module,\n",
    "        crt_net: nn.Module,\n",
    "        epsilon_start: float = 1.0,\n",
    "        epsilon_final: float = 0.01,\n",
    "        epsilon_decay_last_step: int = 200000,\n",
    "        act_learning_rate: float = 1e-5,\n",
    "        crt_learning_rate: float = 1e-4,\n",
    "        adam_eps: float = None,\n",
    "        device: str = 'cuda' if torch.cuda.is_available() else 'cpu',\n",
    "        trajectory_size: int = 2049,\n",
    "        ppo_eps: float = 0.2,\n",
    "        gae_lambda: float = 0.95,\n",
    "    ):\n",
    "        self._env = env\n",
    "        self._exp_buffer = exp_buffer\n",
    "        self._act_net = act_net\n",
    "        self._crt_net = crt_net\n",
    "        self._epsilon_start = epsilon_start\n",
    "        self._epsilon_final = epsilon_final\n",
    "        self._epsilon_decay_last_step = epsilon_decay_last_step\n",
    "        self._epsilon = epsilon_start\n",
    "        self._device = device\n",
    "        self._total_step = 0\n",
    "        self._total_trained_samples = 0\n",
    "        # self._tgt_sync_steps = tgt_sync_steps\n",
    "        adam_kwargs = {}\n",
    "        if adam_eps is not None:\n",
    "            adam_kwargs['eps'] = adam_eps\n",
    "        self._act_optimizer = torch.optim.Adam(self._act_net.parameters(), lr=act_learning_rate, **adam_kwargs)\n",
    "        self._crt_optimizer = torch.optim.Adam(self._crt_net.parameters(), lr=crt_learning_rate, **adam_kwargs)\n",
    "        self._reset_episode()\n",
    "        # self._use_sync_net = use_sync_net\n",
    "        self._episode = 0\n",
    "        self._trajectory_size = trajectory_size\n",
    "        self._ppo_eps = ppo_eps\n",
    "        self._gae_lambda = gae_lambda\n",
    "\n",
    "    def _reset_episode(self):\n",
    "        self._state = self._env.reset()\n",
    "        self._total_reward = 0.0\n",
    "\n",
    "    @torch.no_grad()\n",
    "    def play_step(self, epsilon: Optional[float] = None, sync_target: bool = True):\n",
    "        if epsilon is None:\n",
    "            epsilon = self._epsilon\n",
    "        done_reward = None\n",
    "\n",
    "        if np.random.random() < epsilon:\n",
    "            action = self._env.action_space.sample()\n",
    "        else:\n",
    "            state_a = np.array([self._state], copy=False)\n",
    "            state_v = torch.tensor(state_a).float().to(self._device)\n",
    "            prob_v = self._act_net(state_v)\n",
    "#             action = prob_v.squeeze(dim=0).argmax().data.cpu().numpy()\n",
    "            prob = prob_v.squeeze(dim=0).data.cpu().numpy()\n",
    "            action = np.random.choice(range(len(prob)), size=1, p=prob).astype(int)[0]\n",
    "#             print(action)\n",
    "#             action = np.clip(action, -1, 1)\n",
    "\n",
    "        next_state, reward, is_done, _ = self._env.step(action)\n",
    "        self._total_reward += reward\n",
    "\n",
    "        self._exp_buffer.append(\n",
    "            self._state, action, reward, is_done, next_state\n",
    "        )\n",
    "        self._state = next_state\n",
    "        if is_done:\n",
    "            done_reward = self._total_reward\n",
    "            self._reset_episode()\n",
    "\n",
    "        self._total_step += 1\n",
    "        self._update_epsilon(self._total_step)\n",
    "        self._exp_buffer.update_bata(self._total_step)\n",
    "\n",
    "        # if self._total_step % self._tgt_sync_steps == 0 and sync_target:\n",
    "        #     self._tgt_net.load_state_dict(self._net.state_dict())\n",
    "        #     print(f'synced target net')\n",
    "\n",
    "        return done_reward\n",
    "\n",
    "    def train(self, ppo_epoch: int = 10, batch_size: int = 32) -> None:\n",
    "        n_step_gamma = self._exp_buffer.gamma ** self._exp_buffer.n_step\n",
    "\n",
    "        for stp in range(self._trajectory_size):\n",
    "            done_reward = self.play_step()\n",
    "            if done_reward is not None:\n",
    "                print(f'episode : {self._episode}, done reward : {done_reward}, total_step : {self._total_step}, cur_epsilon : {self._epsilon}')\n",
    "                self._episode += 1\n",
    "        traj_states, traj_actions, traj_rewards, traj_dones, traj_total_discounted_rewards, \\\n",
    "            traj_last_states = self._exp_buffer.get_latest_n(self._trajectory_size)\n",
    "        traj_states_v = torch.tensor(traj_states).float().to(self._device)\n",
    "        traj_actions_v = torch.tensor(traj_actions).to(self._device)\n",
    "        traj_discounted_rewards_v = torch.tensor(traj_total_discounted_rewards).to(self._device)\n",
    "        traj_done_mask = torch.BoolTensor(traj_dones).to(self._device)\n",
    "        # weights_v = torch.tensor(weights).to(self._device)\n",
    "\n",
    "        traj_adv_v, traj_ref_v = calc_adv_ref(\n",
    "            traj_total_discounted_rewards, traj_dones, self._crt_net, traj_states_v, gamma=n_step_gamma, gae_lambda=self._gae_lambda, device=self._device  # reards or total_discounted_rewards ?\n",
    "        )\n",
    "        traj_prob_v = self._act_net(traj_states_v)  # 変更要\n",
    "#         old_logprob_v = calc_logprob(mu_v, self._act_net.logstd, traj_actions_v)\n",
    "#         action_prob_v = prob_v.max(1)[0]\n",
    "        traj_action_prob_v = traj_prob_v.gather(1, traj_actions_v.unsqueeze(-1))\n",
    "        old_logprob_v = torch.log(traj_action_prob_v)\n",
    "\n",
    "        # normalize advantages\n",
    "        traj_adv_v = traj_adv_v - torch.mean(traj_adv_v)\n",
    "        traj_adv_v /= torch.std(traj_adv_v)\n",
    "\n",
    "        # drop last entry from the trajectory, an our adv and ref value calculated without it\n",
    "        # trajectory = trajectory[:-1]\n",
    "        old_logprob_v = old_logprob_v[:-1].detach()\n",
    "\n",
    "        sum_loss_value = 0.0\n",
    "        sum_loss_policy = 0.0\n",
    "        count_steps = 0\n",
    "\n",
    "        for epoch in range(ppo_epoch):\n",
    "            for batch_ofs in range(0, self._trajectory_size-1, batch_size):\n",
    "                batch_l = batch_ofs + batch_size\n",
    "                states_v = traj_states_v[batch_ofs:batch_l]\n",
    "                actions_v = traj_actions_v[batch_ofs:batch_l]\n",
    "                batch_adv_v = traj_adv_v[batch_ofs:batch_l]\n",
    "                batch_adv_v = batch_adv_v.unsqueeze(-1)\n",
    "                batch_ref_v = traj_ref_v[batch_ofs:batch_l]\n",
    "                batch_old_logprob_v = old_logprob_v[batch_ofs:batch_l]\n",
    "\n",
    "                # critic training\n",
    "                self._crt_optimizer.zero_grad()\n",
    "                value_v = self._crt_net(states_v)\n",
    "                loss_value_v = F.mse_loss(value_v.squeeze(-1), batch_ref_v)\n",
    "                loss_value_v.backward()\n",
    "                self._crt_optimizer.step()\n",
    "\n",
    "                # actor training\n",
    "                self._act_optimizer.zero_grad()\n",
    "                prob_v = self._act_net(states_v)  # 変更要\n",
    "#                 action_prob_v = prob_v.max(1)[0]\n",
    "                action_prob_v = prob_v.gather(1, actions_v.unsqueeze(-1))\n",
    "#                 logprob_pi_v = calc_logprob(mu_v, self._act_net.logstd, actions_v)\n",
    "                logprob_pi_v = torch.log(action_prob_v)\n",
    "                ratio_v = torch.exp(logprob_pi_v - batch_old_logprob_v)\n",
    "                surr_obj_v = batch_adv_v * ratio_v\n",
    "                c_ratio_v = torch.clamp(ratio_v, 1.0 - self._ppo_eps, 1.0 + self._ppo_eps)\n",
    "                clipped_surr_v = batch_adv_v * c_ratio_v\n",
    "                loss_policy_v = -torch.min(surr_obj_v, clipped_surr_v).mean()\n",
    "                loss_policy_v.backward()\n",
    "                self._act_optimizer.step()\n",
    "\n",
    "                sum_loss_value += loss_value_v.item()\n",
    "                sum_loss_policy += loss_policy_v.item()\n",
    "                count_steps += 1\n",
    "\n",
    "        # self._exp_buffer.update_priorities(sampled_indices, prios)\n",
    "        self._total_trained_samples += batch_size\n",
    "\n",
    "    def initial_exploration(self, n_steps: int = 10000, epsilon: float = 1.0) -> None:\n",
    "        eps_bak = self._epsilon\n",
    "        total_step_bak = self._total_step\n",
    "        for i in pb(range(n_steps)):\n",
    "            self._epsilon = epsilon\n",
    "            self.play_step(sync_target=False)\n",
    "        self._total_step = total_step_bak\n",
    "        self._epsilon = eps_bak\n",
    "\n",
    "    def simulate_episode(self) -> float:\n",
    "        eps_bak = self._epsilon\n",
    "        total_step_bak = self._total_step\n",
    "        while True:\n",
    "            self._epsilon = 0.0\n",
    "            done_reward = self.play_step(sync_target=False)\n",
    "            if done_reward is not None:\n",
    "                break\n",
    "        self._total_step = total_step_bak\n",
    "        self._epsilon = eps_bak\n",
    "        return done_reward\n",
    "\n",
    "    def _update_epsilon(self, step_index: int) -> None:\n",
    "        self._epsilon = max(\n",
    "            self._epsilon_final,\n",
    "            self._epsilon_start - step_index / self._epsilon_decay_last_step\n",
    "        )"
   ]
  },
  {
   "cell_type": "code",
   "execution_count": 234,
   "id": "10cb10a0",
   "metadata": {},
   "outputs": [],
   "source": [
    "class UnityToGymNumpyImgWrapper(UnityToGymWrapper):\n",
    "    def __init__(self, *args, **kwargs):\n",
    "        super(UnityToGymNumpyImgWrapper, self).__init__(*args, **kwargs)\n",
    "\n",
    "    def reset(self, *args, **kwargs):\n",
    "        state = super().reset(*args, **kwargs)\n",
    "        return np.array(state[0]).transpose(2, 0, 1)\n",
    "\n",
    "    def step(self, *args, **kwargs):\n",
    "        next_state, reward, is_done, info = super().step(*args, **kwargs)\n",
    "        return np.array(next_state[0]).transpose(2, 0, 1), reward, is_done, info"
   ]
  },
  {
   "cell_type": "code",
   "execution_count": 235,
   "id": "c97690a6",
   "metadata": {},
   "outputs": [],
   "source": [
    "class UnityToGymNumpyImgResizeWrapper(UnityToGymNumpyImgWrapper):\n",
    "    def __init__(self, *args, **kwargs):\n",
    "        super(UnityToGymNumpyImgResizeWrapper, self).__init__(*args, **kwargs)\n",
    "\n",
    "    def reset(self, *args, **kwargs):\n",
    "        state = super().reset(*args, **kwargs)\n",
    "#         return cv2.resize(state[:, :, 10:-10].transpose(1, 2, 0), (224, 224)).transpose(2, 0, 1)\n",
    "        return state[:, :, 10:-10]\n",
    "\n",
    "    def step(self, *args, **kwargs):\n",
    "        next_state, reward, is_done, info = super().step(*args, **kwargs)\n",
    "        next_state = cv2.resize(next_state[:, :, 10:-10].transpose(1, 2, 0), (224, 224)).transpose(2, 0, 1)\n",
    "#         return next_state, reward, is_done, info\n",
    "        return next_state[:, :, 10:-10], reward, is_done, info"
   ]
  },
  {
   "cell_type": "code",
   "execution_count": 236,
   "id": "7db1c9b0",
   "metadata": {},
   "outputs": [],
   "source": [
    "class UnityToGymNumpyImgResizeGrayWrapper(UnityToGymNumpyImgWrapper):\n",
    "    def __init__(self, *args, **kwargs):\n",
    "        super(UnityToGymNumpyImgResizeGrayWrapper, self).__init__(*args, **kwargs)\n",
    "\n",
    "    def reset(self, *args, **kwargs):\n",
    "        state = super().reset(*args, **kwargs)\n",
    "        return cv2.cvtColor(state[:, :, 10:-10].transpose(1, 2, 0), cv2.COLOR_RGB2GRAY).reshape(1, 64, 64)\n",
    "#         return state[:, :, 10:-10]\n",
    "\n",
    "    def step(self, *args, **kwargs):\n",
    "        next_state, reward, is_done, info = super().step(*args, **kwargs)\n",
    "        next_state = cv2.cvtColor(next_state[:, :, 10:-10].transpose(1, 2, 0), cv2.COLOR_RGB2GRAY).reshape(1, 64, 64)\n",
    "#         return next_state, reward, is_done, info\n",
    "        return next_state, reward, is_done, info"
   ]
  },
  {
   "cell_type": "code",
   "execution_count": null,
   "id": "9af1cf24",
   "metadata": {},
   "outputs": [],
   "source": []
  },
  {
   "cell_type": "code",
   "execution_count": null,
   "id": "b578fe53",
   "metadata": {},
   "outputs": [],
   "source": []
  },
  {
   "cell_type": "code",
   "execution_count": 194,
   "id": "4e2ed681",
   "metadata": {},
   "outputs": [],
   "source": [
    "try:\n",
    "    unity_env.close()\n",
    "except Exception:\n",
    "    pass"
   ]
  },
  {
   "cell_type": "code",
   "execution_count": 195,
   "id": "ced14eaa",
   "metadata": {},
   "outputs": [],
   "source": [
    "unity_env = UnityEnvironment(file_name=None)"
   ]
  },
  {
   "cell_type": "code",
   "execution_count": 196,
   "id": "74eb9ea8",
   "metadata": {},
   "outputs": [],
   "source": [
    "unity_env.reset()"
   ]
  },
  {
   "cell_type": "code",
   "execution_count": 197,
   "id": "d5a8df14",
   "metadata": {},
   "outputs": [],
   "source": [
    "# env = UnityToGymWrapper(unity_env, allow_multiple_obs=True)\n",
    "env = UnityToGymNumpyImgResizeGrayWrapper(unity_env, allow_multiple_obs=True)"
   ]
  },
  {
   "cell_type": "code",
   "execution_count": 198,
   "id": "b546b475",
   "metadata": {},
   "outputs": [
    {
     "name": "stdout",
     "output_type": "stream",
     "text": [
      "behavior_names: ['GridWorld?team=0']\n",
      "\n",
      "== BehaviorSpecの情報の確認 ==\n",
      "observation_specs: [ObservationSpec(shape=(64, 84, 3), dimension_property=(<DimensionProperty.TRANSLATIONAL_EQUIVARIANCE: 2>, <DimensionProperty.TRANSLATIONAL_EQUIVARIANCE: 2>, <DimensionProperty.NONE: 1>), observation_type=<ObservationType.DEFAULT: 0>, name='CameraSensor'), ObservationSpec(shape=(2,), dimension_property=(<DimensionProperty.NONE: 1>,), observation_type=<ObservationType.GOAL_SIGNAL: 1>, name='VectorSensor')]\n",
      "action_spec: Continuous: 0, Discrete: (5,)\n"
     ]
    }
   ],
   "source": [
    "# Unity環境のリセット\n",
    "unity_env.reset()\n",
    "\n",
    "# BehaviorNameのリストの取得\n",
    "behavior_names = list(unity_env.behavior_specs.keys())\n",
    "print('behavior_names:', behavior_names)\n",
    "\n",
    "# BehaviorSpecの取得\n",
    "behavior_spec = unity_env.behavior_specs[behavior_names[0]]\n",
    "\n",
    "# BehaviorSpecの情報の確認\n",
    "print('\\n== BehaviorSpecの情報の確認 ==')\n",
    "print('observation_specs:', behavior_spec.observation_specs)\n",
    "print('action_spec:', behavior_spec.action_spec)"
   ]
  },
  {
   "cell_type": "code",
   "execution_count": 199,
   "id": "509d354c",
   "metadata": {},
   "outputs": [
    {
     "data": {
      "text/plain": [
       "BehaviorSpec(observation_specs=[ObservationSpec(shape=(64, 84, 3), dimension_property=(<DimensionProperty.TRANSLATIONAL_EQUIVARIANCE: 2>, <DimensionProperty.TRANSLATIONAL_EQUIVARIANCE: 2>, <DimensionProperty.NONE: 1>), observation_type=<ObservationType.DEFAULT: 0>, name='CameraSensor'), ObservationSpec(shape=(2,), dimension_property=(<DimensionProperty.NONE: 1>,), observation_type=<ObservationType.GOAL_SIGNAL: 1>, name='VectorSensor')], action_spec=ActionSpec(continuous_size=0, discrete_branches=(5,)))"
      ]
     },
     "execution_count": 199,
     "metadata": {},
     "output_type": "execute_result"
    }
   ],
   "source": [
    "behavior_spec"
   ]
  },
  {
   "cell_type": "code",
   "execution_count": 200,
   "id": "17a817cc",
   "metadata": {
    "scrolled": true
   },
   "outputs": [
    {
     "name": "stdout",
     "output_type": "stream",
     "text": [
      "\n",
      "== DecisionStepsの情報の確認 ==\n",
      "obj: [array([[[[0.5372549 , 0.54901963, 0.56078434],\n",
      "         [0.5372549 , 0.54901963, 0.56078434],\n",
      "         [0.5372549 , 0.54901963, 0.56078434],\n",
      "         ...,\n",
      "         [0.5372549 , 0.54509807, 0.56078434],\n",
      "         [0.5372549 , 0.54509807, 0.56078434],\n",
      "         [0.5372549 , 0.54509807, 0.56078434]],\n",
      "\n",
      "        [[0.5372549 , 0.54901963, 0.56078434],\n",
      "         [0.5372549 , 0.54901963, 0.56078434],\n",
      "         [0.5372549 , 0.54901963, 0.56078434],\n",
      "         ...,\n",
      "         [0.5372549 , 0.54509807, 0.56078434],\n",
      "         [0.5372549 , 0.54509807, 0.56078434],\n",
      "         [0.5372549 , 0.54509807, 0.56078434]],\n",
      "\n",
      "        [[0.5372549 , 0.54901963, 0.56078434],\n",
      "         [0.5372549 , 0.54901963, 0.56078434],\n",
      "         [0.5372549 , 0.54509807, 0.56078434],\n",
      "         ...,\n",
      "         [0.5372549 , 0.54509807, 0.56078434],\n",
      "         [0.5372549 , 0.54509807, 0.56078434],\n",
      "         [0.5372549 , 0.54509807, 0.56078434]],\n",
      "\n",
      "        ...,\n",
      "\n",
      "        [[0.5372549 , 0.54509807, 0.56078434],\n",
      "         [0.5372549 , 0.54509807, 0.56078434],\n",
      "         [0.5372549 , 0.54509807, 0.56078434],\n",
      "         ...,\n",
      "         [0.5372549 , 0.54509807, 0.56078434],\n",
      "         [0.5372549 , 0.54509807, 0.56078434],\n",
      "         [0.5372549 , 0.54509807, 0.56078434]],\n",
      "\n",
      "        [[0.5372549 , 0.54509807, 0.56078434],\n",
      "         [0.5372549 , 0.54509807, 0.56078434],\n",
      "         [0.5372549 , 0.54509807, 0.56078434],\n",
      "         ...,\n",
      "         [0.5372549 , 0.54509807, 0.56078434],\n",
      "         [0.5372549 , 0.54509807, 0.56078434],\n",
      "         [0.5372549 , 0.54509807, 0.56078434]],\n",
      "\n",
      "        [[0.5372549 , 0.54509807, 0.56078434],\n",
      "         [0.5372549 , 0.54509807, 0.56078434],\n",
      "         [0.5372549 , 0.54509807, 0.56078434],\n",
      "         ...,\n",
      "         [0.5372549 , 0.54509807, 0.56078434],\n",
      "         [0.5372549 , 0.54509807, 0.56078434],\n",
      "         [0.5372549 , 0.54509807, 0.56078434]]]], dtype=float32), array([[1., 0.]], dtype=float32)]\n",
      "reward: [-0.01]\n",
      "agent_id: [0]\n",
      "action_mask: [array([[False, False, False, False, False]])]\n",
      "\n",
      "== TerminalStepsの情報の確認 ==\n",
      "obs: [array([], shape=(0, 64, 84, 3), dtype=float32), array([], shape=(0, 2), dtype=float32)]\n",
      "reward: []\n",
      "agent_id: []\n",
      "interrupted: []\n"
     ]
    }
   ],
   "source": [
    "# 現在のステップの情報の取得\n",
    "decision_steps, terminal_steps = unity_env.get_steps(behavior_names[0])\n",
    "\n",
    "# DecisionStepsの情報の確認\n",
    "print('\\n== DecisionStepsの情報の確認 ==')\n",
    "print('obj:', decision_steps.obs)\n",
    "print('reward:', decision_steps.reward)\n",
    "print('agent_id:', decision_steps.agent_id)\n",
    "print('action_mask:', decision_steps.action_mask)\n",
    "\n",
    "# TerminalStepsの情報の確認\n",
    "print('\\n== TerminalStepsの情報の確認 ==')\n",
    "print('obs:', terminal_steps.obs)\n",
    "print('reward:', terminal_steps.reward)\n",
    "print('agent_id:', terminal_steps.agent_id)\n",
    "print('interrupted:', terminal_steps.interrupted)"
   ]
  },
  {
   "cell_type": "code",
   "execution_count": 201,
   "id": "bde7cf33",
   "metadata": {},
   "outputs": [
    {
     "data": {
      "text/plain": [
       "2"
      ]
     },
     "execution_count": 201,
     "metadata": {},
     "output_type": "execute_result"
    }
   ],
   "source": [
    "len(decision_steps.obs)"
   ]
  },
  {
   "cell_type": "code",
   "execution_count": 202,
   "id": "4213ef4d",
   "metadata": {},
   "outputs": [
    {
     "data": {
      "text/plain": [
       "(1, 2)"
      ]
     },
     "execution_count": 202,
     "metadata": {},
     "output_type": "execute_result"
    }
   ],
   "source": [
    "decision_steps.obs[1].shape"
   ]
  },
  {
   "cell_type": "code",
   "execution_count": 203,
   "id": "b6b8b6c3",
   "metadata": {},
   "outputs": [
    {
     "data": {
      "text/plain": [
       "(1, 64, 84, 3)"
      ]
     },
     "execution_count": 203,
     "metadata": {},
     "output_type": "execute_result"
    }
   ],
   "source": [
    "decision_steps.obs[0].shape"
   ]
  },
  {
   "cell_type": "code",
   "execution_count": 204,
   "id": "571deb34",
   "metadata": {},
   "outputs": [],
   "source": [
    "N_AGENTS = decision_steps.obs[0].shape[0]"
   ]
  },
  {
   "cell_type": "code",
   "execution_count": 205,
   "id": "facfbef2",
   "metadata": {},
   "outputs": [
    {
     "data": {
      "text/plain": [
       "1"
      ]
     },
     "execution_count": 205,
     "metadata": {},
     "output_type": "execute_result"
    }
   ],
   "source": [
    "N_AGENTS"
   ]
  },
  {
   "cell_type": "code",
   "execution_count": 206,
   "id": "43d59827",
   "metadata": {},
   "outputs": [],
   "source": [
    "N_ACTIONS = behavior_spec.action_spec.discrete_branches[0]"
   ]
  },
  {
   "cell_type": "code",
   "execution_count": 207,
   "id": "9cc340d3",
   "metadata": {},
   "outputs": [
    {
     "data": {
      "text/plain": [
       "5"
      ]
     },
     "execution_count": 207,
     "metadata": {},
     "output_type": "execute_result"
    }
   ],
   "source": [
    "N_ACTIONS"
   ]
  },
  {
   "cell_type": "code",
   "execution_count": null,
   "id": "1ac3e113",
   "metadata": {},
   "outputs": [],
   "source": []
  },
  {
   "cell_type": "code",
   "execution_count": 208,
   "id": "8e8d0b7e",
   "metadata": {},
   "outputs": [
    {
     "data": {
      "text/plain": [
       "Discrete(5)"
      ]
     },
     "execution_count": 208,
     "metadata": {},
     "output_type": "execute_result"
    }
   ],
   "source": [
    "env.action_space"
   ]
  },
  {
   "cell_type": "code",
   "execution_count": 209,
   "id": "57aa05f3",
   "metadata": {},
   "outputs": [
    {
     "data": {
      "text/plain": [
       "1"
      ]
     },
     "execution_count": 209,
     "metadata": {},
     "output_type": "execute_result"
    }
   ],
   "source": [
    "env.action_space.sample()"
   ]
  },
  {
   "cell_type": "code",
   "execution_count": 210,
   "id": "141c2141",
   "metadata": {},
   "outputs": [
    {
     "data": {
      "text/plain": [
       "Tuple(Box(0.0, 1.0, (64, 84, 3), float32), Box(-inf, inf, (2,), float32))"
      ]
     },
     "execution_count": 210,
     "metadata": {},
     "output_type": "execute_result"
    }
   ],
   "source": [
    "env.observation_space"
   ]
  },
  {
   "cell_type": "code",
   "execution_count": null,
   "id": "49e0cbfa",
   "metadata": {},
   "outputs": [],
   "source": []
  },
  {
   "cell_type": "code",
   "execution_count": 211,
   "id": "143a47fb",
   "metadata": {},
   "outputs": [],
   "source": [
    "state = env.reset()"
   ]
  },
  {
   "cell_type": "code",
   "execution_count": 212,
   "id": "260b3271",
   "metadata": {},
   "outputs": [
    {
     "data": {
      "text/plain": [
       "(1, 64, 64)"
      ]
     },
     "execution_count": 212,
     "metadata": {},
     "output_type": "execute_result"
    }
   ],
   "source": [
    "state.shape"
   ]
  },
  {
   "cell_type": "code",
   "execution_count": 213,
   "id": "5b1e1d4a",
   "metadata": {},
   "outputs": [],
   "source": [
    "OBS_DIM = state.shape"
   ]
  },
  {
   "cell_type": "code",
   "execution_count": 214,
   "id": "7cc7d45f",
   "metadata": {},
   "outputs": [
    {
     "data": {
      "text/plain": [
       "<matplotlib.image.AxesImage at 0x7fe8f12f6d90>"
      ]
     },
     "execution_count": 214,
     "metadata": {},
     "output_type": "execute_result"
    },
    {
     "data": {
      "image/png": "[encoded data removed]",
      "text/plain": [
       "<Figure size 640x480 with 1 Axes>"
      ]
     },
     "metadata": {},
     "output_type": "display_data"
    }
   ],
   "source": [
    "plt.imshow(state.transpose(1, 2, 0))"
   ]
  },
  {
   "cell_type": "code",
   "execution_count": 215,
   "id": "c6e688ca",
   "metadata": {
    "scrolled": true
   },
   "outputs": [
    {
     "data": {
      "text/plain": [
       "torch.Size([1, 1, 64, 64])"
      ]
     },
     "execution_count": 215,
     "metadata": {},
     "output_type": "execute_result"
    }
   ],
   "source": [
    "torch.tensor(np.array(state)).unsqueeze(0).shape"
   ]
  },
  {
   "cell_type": "code",
   "execution_count": 216,
   "id": "02833629",
   "metadata": {},
   "outputs": [],
   "source": [
    "next_state, reward, is_done, _ = env.step(env.action_space.sample())"
   ]
  },
  {
   "cell_type": "code",
   "execution_count": 217,
   "id": "ff06fbe1",
   "metadata": {},
   "outputs": [
    {
     "data": {
      "text/plain": [
       "(1, 64, 64)"
      ]
     },
     "execution_count": 217,
     "metadata": {},
     "output_type": "execute_result"
    }
   ],
   "source": [
    "next_state.shape"
   ]
  },
  {
   "cell_type": "code",
   "execution_count": 218,
   "id": "7bcceb6a",
   "metadata": {},
   "outputs": [
    {
     "data": {
      "text/plain": [
       "-0.01"
      ]
     },
     "execution_count": 218,
     "metadata": {},
     "output_type": "execute_result"
    }
   ],
   "source": [
    "reward"
   ]
  },
  {
   "cell_type": "code",
   "execution_count": 219,
   "id": "7f4128ab",
   "metadata": {},
   "outputs": [
    {
     "data": {
      "text/plain": [
       "False"
      ]
     },
     "execution_count": 219,
     "metadata": {},
     "output_type": "execute_result"
    }
   ],
   "source": [
    "is_done"
   ]
  },
  {
   "cell_type": "code",
   "execution_count": 220,
   "id": "8df86aac",
   "metadata": {},
   "outputs": [
    {
     "data": {
      "text/plain": [
       "1"
      ]
     },
     "execution_count": 220,
     "metadata": {},
     "output_type": "execute_result"
    }
   ],
   "source": [
    "env.action_size"
   ]
  },
  {
   "cell_type": "code",
   "execution_count": 261,
   "id": "554cb0d5",
   "metadata": {},
   "outputs": [],
   "source": [
    "SEED = 77"
   ]
  },
  {
   "cell_type": "code",
   "execution_count": 262,
   "id": "19358419",
   "metadata": {},
   "outputs": [],
   "source": [
    "random.seed(SEED)\n",
    "torch.manual_seed(SEED)\n",
    "device = torch.device(\"cuda\" if torch.cuda.is_available() else \"cpu\")"
   ]
  },
  {
   "cell_type": "code",
   "execution_count": 263,
   "id": "d6bbce14",
   "metadata": {},
   "outputs": [],
   "source": [
    "act_net = ModelActor(OBS_DIM, N_ACTIONS).to(device)\n",
    "crt_net = ModelCritic(OBS_DIM).to(device)"
   ]
  },
  {
   "cell_type": "code",
   "execution_count": 264,
   "id": "57226a8d",
   "metadata": {},
   "outputs": [
    {
     "data": {
      "text/plain": [
       "tensor([[0.2015, 0.2165, 0.1810, 0.2014, 0.1995]], device='cuda:0',\n",
       "       grad_fn=<SoftmaxBackward0>)"
      ]
     },
     "execution_count": 264,
     "metadata": {},
     "output_type": "execute_result"
    }
   ],
   "source": [
    "act_net(torch.tensor(state).unsqueeze(0).to(device))"
   ]
  },
  {
   "cell_type": "code",
   "execution_count": 265,
   "id": "bbdfa810",
   "metadata": {},
   "outputs": [
    {
     "data": {
      "text/plain": [
       "tensor(1, device='cuda:0')"
      ]
     },
     "execution_count": 265,
     "metadata": {},
     "output_type": "execute_result"
    }
   ],
   "source": [
    "act_net(torch.tensor(state).unsqueeze(0).to(device)).argmax()"
   ]
  },
  {
   "cell_type": "code",
   "execution_count": 266,
   "id": "62625b3c",
   "metadata": {},
   "outputs": [
    {
     "data": {
      "text/plain": [
       "tensor([[0.0585]], device='cuda:0', grad_fn=<AddmmBackward0>)"
      ]
     },
     "execution_count": 266,
     "metadata": {},
     "output_type": "execute_result"
    }
   ],
   "source": [
    "crt_net(torch.tensor(state).unsqueeze(0).to(device))"
   ]
  },
  {
   "cell_type": "code",
   "execution_count": 267,
   "id": "5eac5a6b",
   "metadata": {},
   "outputs": [],
   "source": [
    "exp_buffer = ExpBuffer(\n",
    "    max_size=20000,\n",
    "    prob_alpha=0.6,\n",
    "    beta_start=0.4,\n",
    "    beta_frames=30000, #100000,\n",
    "    n_step=1,\n",
    "    gamma=0.99,\n",
    ")"
   ]
  },
  {
   "cell_type": "code",
   "execution_count": 268,
   "id": "998b3a0d",
   "metadata": {},
   "outputs": [],
   "source": [
    "agent = Agent(\n",
    "    env=env,\n",
    "    exp_buffer=exp_buffer,\n",
    "    crt_net=crt_net,\n",
    "    act_net=act_net,\n",
    "    epsilon_start=0.6,\n",
    "    epsilon_final=0.002,\n",
    "    epsilon_decay_last_step=30000, #200000,\n",
    "    # tgt_sync_steps=1000,\n",
    "    act_learning_rate=1e-5,\n",
    "    crt_learning_rate=1e-4,\n",
    "    device=device,\n",
    "    trajectory_size=2049,\n",
    "    ppo_eps=0.2,\n",
    "    gae_lambda=0.95,\n",
    ")"
   ]
  },
  {
   "cell_type": "code",
   "execution_count": 269,
   "id": "64f11bab",
   "metadata": {},
   "outputs": [
    {
     "data": {
      "text/html": [
       "\n",
       "<style>\n",
       "    /* Turns off some styling */\n",
       "    progress {\n",
       "        /* gets rid of default border in Firefox and Opera. */\n",
       "        border: none;\n",
       "        /* Needs to be in here for Safari polyfill so background images work as expected. */\n",
       "        background-size: auto;\n",
       "    }\n",
       "    progress:not([value]), progress:not([value])::-webkit-progress-bar {\n",
       "        background: repeating-linear-gradient(45deg, #7e7e7e, #7e7e7e 10px, #5c5c5c 10px, #5c5c5c 20px);\n",
       "    }\n",
       "    .progress-bar-interrupted, .progress-bar-interrupted::-webkit-progress-bar {\n",
       "        background: #F44336;\n",
       "    }\n",
       "</style>\n"
      ],
      "text/plain": [
       "<IPython.core.display.HTML object>"
      ]
     },
     "metadata": {},
     "output_type": "display_data"
    },
    {
     "data": {
      "text/html": [
       "\n",
       "    <div>\n",
       "      <progress value='100' class='' max='100' style='width:300px; height:20px; vertical-align: middle;'></progress>\n",
       "      100.00% [100/100 00:01&lt;00:00]\n",
       "    </div>\n",
       "    "
      ],
      "text/plain": [
       "<IPython.core.display.HTML object>"
      ]
     },
     "metadata": {},
     "output_type": "display_data"
    }
   ],
   "source": [
    "agent.initial_exploration(n_steps=100)"
   ]
  },
  {
   "cell_type": "code",
   "execution_count": 270,
   "id": "8ff6e5c5",
   "metadata": {},
   "outputs": [],
   "source": [
    "states, actions, rewards, dones, next_states = zip(*agent._exp_buffer._buf)"
   ]
  },
  {
   "cell_type": "code",
   "execution_count": 271,
   "id": "e49e2312",
   "metadata": {},
   "outputs": [
    {
     "data": {
      "text/plain": [
       "[<matplotlib.lines.Line2D at 0x7fe8f0ede190>]"
      ]
     },
     "execution_count": 271,
     "metadata": {},
     "output_type": "execute_result"
    },
    {
     "data": {
      "image/png": "[encoded data removed]",
      "text/plain": [
       "<Figure size 1600x600 with 1 Axes>"
      ]
     },
     "metadata": {},
     "output_type": "display_data"
    }
   ],
   "source": [
    "plt.figure(figsize=(16, 6))\n",
    "plt.plot(rewards[:200])\n",
    "plt.plot(agent._exp_buffer._total_discounted_rewards[:200])"
   ]
  },
  {
   "cell_type": "code",
   "execution_count": null,
   "id": "816c87cc",
   "metadata": {},
   "outputs": [],
   "source": [
    "traj_prob_v.gather(1, traj_actions_v)"
   ]
  },
  {
   "cell_type": "code",
   "execution_count": 258,
   "id": "b54e2956",
   "metadata": {},
   "outputs": [
    {
     "data": {
      "text/plain": [
       "tensor([[    0,     1,     2,     3,     4],\n",
       "        [    5,     6,     7,     8,     9],\n",
       "        [   10,    11,    12,    13,    14],\n",
       "        ...,\n",
       "        [10230, 10231, 10232, 10233, 10234],\n",
       "        [10235, 10236, 10237, 10238, 10239],\n",
       "        [10240, 10241, 10242, 10243, 10244]])"
      ]
     },
     "execution_count": 258,
     "metadata": {},
     "output_type": "execute_result"
    }
   ],
   "source": [
    "torch.arange(2049*5).reshape(2049, 5)"
   ]
  },
  {
   "cell_type": "code",
   "execution_count": 259,
   "id": "c2bbd4fb",
   "metadata": {},
   "outputs": [
    {
     "data": {
      "text/plain": [
       "tensor([[    1],\n",
       "        [    6],\n",
       "        [   11],\n",
       "        ...,\n",
       "        [10231],\n",
       "        [10236],\n",
       "        [10241]])"
      ]
     },
     "execution_count": 259,
     "metadata": {},
     "output_type": "execute_result"
    }
   ],
   "source": [
    "torch.arange(2049*5).reshape(2049, 5).gather(1, torch.ones(2049, dtype=int).unsqueeze(-1))"
   ]
  },
  {
   "cell_type": "code",
   "execution_count": null,
   "id": "21bbcc0b",
   "metadata": {
    "scrolled": true
   },
   "outputs": [],
   "source": [
    "episode = 0\n",
    "\n",
    "while True:\n",
    "    agent.train(ppo_epoch=10, batch_size=32)"
   ]
  },
  {
   "cell_type": "code",
   "execution_count": null,
   "id": "0eb0f144",
   "metadata": {},
   "outputs": [],
   "source": []
  },
  {
   "cell_type": "code",
   "execution_count": 274,
   "id": "dc090428",
   "metadata": {},
   "outputs": [],
   "source": [
    "env.close()"
   ]
  },
  {
   "cell_type": "code",
   "execution_count": null,
   "id": "53dde473",
   "metadata": {},
   "outputs": [],
   "source": []
  },
  {
   "cell_type": "code",
   "execution_count": 4,
   "id": "75da43e7",
   "metadata": {},
   "outputs": [],
   "source": [
    "df_log = pd.read_csv('./gridworld_1agent_PPO_log.txt', header=None)"
   ]
  },
  {
   "cell_type": "code",
   "execution_count": 7,
   "id": "147a7a22-83fd-4bb2-a193-67b1b35e3564",
   "metadata": {},
   "outputs": [
    {
     "data": {
      "text/html": [
       "<div>\n",
       "<style scoped>\n",
       "    .dataframe tbody tr th:only-of-type {\n",
       "        vertical-align: middle;\n",
       "    }\n",
       "\n",
       "    .dataframe tbody tr th {\n",
       "        vertical-align: top;\n",
       "    }\n",
       "\n",
       "    .dataframe thead th {\n",
       "        text-align: right;\n",
       "    }\n",
       "</style>\n",
       "<table border=\"1\" class=\"dataframe\">\n",
       "  <thead>\n",
       "    <tr style=\"text-align: right;\">\n",
       "      <th></th>\n",
       "      <th>0</th>\n",
       "      <th>1</th>\n",
       "      <th>2</th>\n",
       "      <th>3</th>\n",
       "    </tr>\n",
       "  </thead>\n",
       "  <tbody>\n",
       "    <tr>\n",
       "      <th>0</th>\n",
       "      <td>episode : 0</td>\n",
       "      <td>done reward : -0.9999999776482582</td>\n",
       "      <td>total_step : 42</td>\n",
       "      <td>cur_epsilon : 0.5986</td>\n",
       "    </tr>\n",
       "    <tr>\n",
       "      <th>1</th>\n",
       "      <td>episode : 1</td>\n",
       "      <td>done reward : -1.0099999997764826</td>\n",
       "      <td>total_step : 44</td>\n",
       "      <td>cur_epsilon : 0.5985333333333334</td>\n",
       "    </tr>\n",
       "    <tr>\n",
       "      <th>2</th>\n",
       "      <td>episode : 2</td>\n",
       "      <td>done reward : -1.1299999970942736</td>\n",
       "      <td>total_step : 58</td>\n",
       "      <td>cur_epsilon : 0.5980666666666666</td>\n",
       "    </tr>\n",
       "    <tr>\n",
       "      <th>3</th>\n",
       "      <td>episode : 3</td>\n",
       "      <td>done reward : -1.8699999805539846</td>\n",
       "      <td>total_step : 146</td>\n",
       "      <td>cur_epsilon : 0.5951333333333333</td>\n",
       "    </tr>\n",
       "    <tr>\n",
       "      <th>4</th>\n",
       "      <td>episode : 4</td>\n",
       "      <td>done reward : -1.0199999995529652</td>\n",
       "      <td>total_step : 149</td>\n",
       "      <td>cur_epsilon : 0.5950333333333333</td>\n",
       "    </tr>\n",
       "    <tr>\n",
       "      <th>...</th>\n",
       "      <td>...</td>\n",
       "      <td>...</td>\n",
       "      <td>...</td>\n",
       "      <td>...</td>\n",
       "    </tr>\n",
       "    <tr>\n",
       "      <th>384507</th>\n",
       "      <td>episode : 384507</td>\n",
       "      <td>done reward : 0.9800000004470348</td>\n",
       "      <td>total_step : 1735140</td>\n",
       "      <td>cur_epsilon : 0.002</td>\n",
       "    </tr>\n",
       "    <tr>\n",
       "      <th>384508</th>\n",
       "      <td>episode : 384508</td>\n",
       "      <td>done reward : 0.9700000006705523</td>\n",
       "      <td>total_step : 1735144</td>\n",
       "      <td>cur_epsilon : 0.002</td>\n",
       "    </tr>\n",
       "    <tr>\n",
       "      <th>384509</th>\n",
       "      <td>episode : 384509</td>\n",
       "      <td>done reward : 0.9500000011175871</td>\n",
       "      <td>total_step : 1735150</td>\n",
       "      <td>cur_epsilon : 0.002</td>\n",
       "    </tr>\n",
       "    <tr>\n",
       "      <th>384510</th>\n",
       "      <td>episode : 384510</td>\n",
       "      <td>done reward : -1.0299999993294477</td>\n",
       "      <td>total_step : 1735154</td>\n",
       "      <td>cur_epsilon : 0.002</td>\n",
       "    </tr>\n",
       "    <tr>\n",
       "      <th>384511</th>\n",
       "      <td>episode : 384511</td>\n",
       "      <td>done reward : 0.9700000006705523</td>\n",
       "      <td>total_step : 1735158</td>\n",
       "      <td>cur_epsilon : 0.002</td>\n",
       "    </tr>\n",
       "  </tbody>\n",
       "</table>\n",
       "<p>384512 rows × 4 columns</p>\n",
       "</div>"
      ],
      "text/plain": [
       "                       0                                   1  \\\n",
       "0            episode : 0   done reward : -0.9999999776482582   \n",
       "1            episode : 1   done reward : -1.0099999997764826   \n",
       "2            episode : 2   done reward : -1.1299999970942736   \n",
       "3            episode : 3   done reward : -1.8699999805539846   \n",
       "4            episode : 4   done reward : -1.0199999995529652   \n",
       "...                  ...                                 ...   \n",
       "384507  episode : 384507    done reward : 0.9800000004470348   \n",
       "384508  episode : 384508    done reward : 0.9700000006705523   \n",
       "384509  episode : 384509    done reward : 0.9500000011175871   \n",
       "384510  episode : 384510   done reward : -1.0299999993294477   \n",
       "384511  episode : 384511    done reward : 0.9700000006705523   \n",
       "\n",
       "                            2                                  3  \n",
       "0             total_step : 42               cur_epsilon : 0.5986  \n",
       "1             total_step : 44   cur_epsilon : 0.5985333333333334  \n",
       "2             total_step : 58   cur_epsilon : 0.5980666666666666  \n",
       "3            total_step : 146   cur_epsilon : 0.5951333333333333  \n",
       "4            total_step : 149   cur_epsilon : 0.5950333333333333  \n",
       "...                       ...                                ...  \n",
       "384507   total_step : 1735140                cur_epsilon : 0.002  \n",
       "384508   total_step : 1735144                cur_epsilon : 0.002  \n",
       "384509   total_step : 1735150                cur_epsilon : 0.002  \n",
       "384510   total_step : 1735154                cur_epsilon : 0.002  \n",
       "384511   total_step : 1735158                cur_epsilon : 0.002  \n",
       "\n",
       "[384512 rows x 4 columns]"
      ]
     },
     "execution_count": 7,
     "metadata": {},
     "output_type": "execute_result"
    }
   ],
   "source": [
    "df_log"
   ]
  },
  {
   "cell_type": "code",
   "execution_count": 9,
   "id": "fa9e6fb2-7161-4980-96f7-695ce3cb2a92",
   "metadata": {},
   "outputs": [],
   "source": [
    "sr_episode_reward = df_log[1].map(lambda x: float(x.split(' : ')[1]))"
   ]
  },
  {
   "cell_type": "code",
   "execution_count": 10,
   "id": "6445b8ef-ca18-4fd7-a2ed-1d647b64c138",
   "metadata": {},
   "outputs": [
    {
     "data": {
      "text/plain": [
       "<AxesSubplot: >"
      ]
     },
     "execution_count": 10,
     "metadata": {},
     "output_type": "execute_result"
    },
    {
     "data": {
      "image/png": "[encoded data removed]",
      "text/plain": [
       "<Figure size 640x480 with 1 Axes>"
      ]
     },
     "metadata": {},
     "output_type": "display_data"
    }
   ],
   "source": [
    "sr_episode_reward.plot()"
   ]
  },
  {
   "cell_type": "code",
   "execution_count": 12,
   "id": "a6319cab-d67c-4288-bc2e-d144050ffbd3",
   "metadata": {},
   "outputs": [
    {
     "data": {
      "text/plain": [
       "<AxesSubplot: >"
      ]
     },
     "execution_count": 12,
     "metadata": {},
     "output_type": "execute_result"
    },
    {
     "data": {
      "image/png": "[encoded data removed]",
      "text/plain": [
       "<Figure size 640x480 with 1 Axes>"
      ]
     },
     "metadata": {},
     "output_type": "display_data"
    }
   ],
   "source": [
    "sr_episode_reward.rolling(window=1000).mean().plot()"
   ]
  },
  {
   "cell_type": "code",
   "execution_count": null,
   "id": "41f57b00-dd1b-412b-a770-0068516feeb5",
   "metadata": {},
   "outputs": [],
   "source": []
  }
 ],
 "metadata": {
  "kernelspec": {
   "display_name": "Python 3 (ipykernel)",
   "language": "python",
   "name": "python3"
  },
  "language_info": {
   "codemirror_mode": {
    "name": "ipython",
    "version": 3
   },
   "file_extension": ".py",
   "mimetype": "text/x-python",
   "name": "python",
   "nbconvert_exporter": "python",
   "pygments_lexer": "ipython3",
   "version": "3.9.5"
  }
 },
 "nbformat": 4,
 "nbformat_minor": 5
}
