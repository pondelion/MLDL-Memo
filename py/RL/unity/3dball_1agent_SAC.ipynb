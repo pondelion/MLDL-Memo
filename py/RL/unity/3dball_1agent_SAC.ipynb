{
 "cells": [
  {
   "cell_type": "code",
   "execution_count": 1,
   "id": "72143cf9",
   "metadata": {},
   "outputs": [],
   "source": [
    "from mlagents_envs.envs.unity_gym_env import UnityToGymWrapper\n",
    "from mlagents_envs.environment import ActionTuple, UnityEnvironment\n",
    "from mlagents_envs.side_channel.engine_configuration_channel import \\\n",
    "    EngineConfigurationChannel\n",
    "from mlagents_envs.exception import (\n",
    "    UnityEnvironmentException,\n",
    "    UnityCommunicationException,\n",
    "    UnityCommunicatorStoppedException,\n",
    ")\n",
    "import gym\n",
    "import numpy as np\n",
    "import matplotlib.pyplot as plt"
   ]
  },
  {
   "cell_type": "code",
   "execution_count": 45,
   "id": "5cda46b4",
   "metadata": {},
   "outputs": [],
   "source": [
    "import collections\n",
    "from typing import Union\n",
    "import math\n",
    "import random\n",
    "from copy import deepcopy\n",
    "from typing import Optional\n",
    "\n",
    "import numpy as np\n",
    "import torch\n",
    "import torch.nn as nn\n",
    "import torch.nn.functional as F\n",
    "import torchvision.transforms as T\n",
    "import torch.distributions as distr\n",
    "from fastprogress import progress_bar as pb\n",
    "import matplotlib.pyplot as plt"
   ]
  },
  {
   "cell_type": "code",
   "execution_count": 3,
   "id": "db4a7953",
   "metadata": {},
   "outputs": [],
   "source": [
    "class NStepPriorityReplayBuffer:\n",
    "\n",
    "    def __init__(\n",
    "        self,\n",
    "        max_size: int,\n",
    "        prob_alpha: float = 0.6,\n",
    "        beta_start: float = 0.4,\n",
    "        beta_frames: float = 100000,\n",
    "        n_step: int = 4,\n",
    "        gamma: float = 0.99,\n",
    "    ):\n",
    "        self._prob_alpha = prob_alpha\n",
    "        self._max_size = max_size\n",
    "        self._pos = 0\n",
    "        self._buf = []\n",
    "        self._priorities = np.zeros((max_size,), dtype=np.float32)\n",
    "        self._beta_start = beta_start\n",
    "        self._beta = beta_start\n",
    "        self._beta_frames = beta_frames\n",
    "        self._n_step = n_step\n",
    "        self._gamma = gamma\n",
    "        self._total_discounted_rewards = np.array([np.nan]*max_size)\n",
    "        self._last_states = [np.nan]*max_size\n",
    "\n",
    "    def update_bata(self, idx) -> None:\n",
    "        beta = self._beta_start + idx * (1.0 - self._beta_start) / self._beta_frames\n",
    "        self._beta = min(1.0, beta)\n",
    "        return self._beta\n",
    "\n",
    "    def __len__(self):\n",
    "        return len(self._buf)\n",
    "\n",
    "    def append(\n",
    "        self,\n",
    "        state: np.ndarray,\n",
    "        action: int,\n",
    "        reward: Union[int, float],\n",
    "        done: bool,\n",
    "        next_state: np.ndarray,\n",
    "    ) -> None:\n",
    "        max_prio = self._priorities.max() if self._buf else 1.0\n",
    "        if len(self._buf) < self._max_size:\n",
    "            self._buf.append(\n",
    "                (state, action, reward, done, next_state)\n",
    "            )\n",
    "        else:\n",
    "            self._buf[self._pos] = (state, action, reward, done, next_state)\n",
    "        self._priorities[self._pos] = max_prio\n",
    "\n",
    "        if len(self._buf) >= self._n_step:\n",
    "            dis_r = 0.0\n",
    "            last_state = self._buf[self._pos][0]\n",
    "            for i in range(self._n_step):\n",
    "                state, _, r, done, _ = self._buf[self._pos - i]\n",
    "                dis_r = r + self._gamma * dis_r\n",
    "                if done:\n",
    "                    last_state = state\n",
    "                    dis_r = r\n",
    "                self._total_discounted_rewards[self._pos - i] = dis_r\n",
    "                self._last_states[self._pos - i] = last_state\n",
    "            \n",
    "            for i in range(self._n_step-1):\n",
    "                done = self._buf[self._pos - i][3]\n",
    "                if done:\n",
    "                    break\n",
    "                self._total_discounted_rewards[self._pos - i] = np.nan\n",
    "                self._last_states[self._pos - i] = np.nan\n",
    "\n",
    "        self._pos = (self._pos + 1) % self._max_size\n",
    "\n",
    "    def sample(self, size: int):\n",
    "        sample_target_indices = np.where(~np.isnan(self._total_discounted_rewards[:len(self._buf)]))[0]\n",
    "        # prios = self._priorities[sample_target_indices]  #self._priorities if len(self._buf) == self._max_size else self._priorities[:self._pos]\n",
    "        prios = self._priorities\n",
    "        probs = prios * self._prob_alpha\n",
    "        # probs /= np.nan_to_num(probs, 0.0).sum()\n",
    "        probs /= probs[sample_target_indices].sum()\n",
    "        sampled_indices = np.random.choice(\n",
    "            sample_target_indices,\n",
    "            # np.where(~np.isnan(self._total_discounted_rewards[:len(self._buf)]))[0],\n",
    "            size, p=probs[sample_target_indices]\n",
    "        )\n",
    "        states, actions, rewards, dones, next_states = zip(*[self._buf[idx] for idx in sampled_indices])\n",
    "        states = np.array(states)\n",
    "        actions = np.array(actions)\n",
    "        rewards = np.array(rewards)\n",
    "        dones = np.array(dones)\n",
    "        next_states = np.array(next_states)\n",
    "        total_discounted_rewards = self._total_discounted_rewards[sampled_indices]\n",
    "        last_states = np.stack([self._last_states[idx] for idx in sampled_indices])\n",
    "        total = len(self._buf)\n",
    "        weights = np.array((total * probs[sampled_indices]) ** (-self._beta), dtype=np.float32)\n",
    "        # weights = np.array((total * probs) ** (-self._beta), dtype=np.float32)\n",
    "        weights /= weights.max()\n",
    "        return states, actions, rewards, dones, total_discounted_rewards, last_states, sampled_indices, weights\n",
    "\n",
    "    def update_priorities(self, sample_indices: np.ndarray, sample_priorities: np.ndarray) -> None:\n",
    "        self._priorities[sample_indices] = sample_priorities\n",
    "\n",
    "    @property\n",
    "    def gamma(self) -> float:\n",
    "        return self._gamma\n",
    "\n",
    "    @property\n",
    "    def n_step(self) -> float:\n",
    "        return self._n_step"
   ]
  },
  {
   "cell_type": "code",
   "execution_count": 4,
   "id": "6ba50898",
   "metadata": {},
   "outputs": [],
   "source": [
    "class NoisyLinear(nn.Linear):\n",
    "\n",
    "    def __init__(self, in_features, out_features, sigma_init=0.017, bias=True):\n",
    "        super(NoisyLinear, self).__init__(in_features, out_features, bias=bias)\n",
    "        w = torch.full((out_features, in_features), sigma_init)\n",
    "        self._sigma_weight = nn.Parameter(w)\n",
    "        z = torch.zeros(out_features, in_features)\n",
    "        self.register_buffer(\"epsilon_weight\", z)\n",
    "        if bias:\n",
    "            w = torch.full((out_features,), sigma_init)\n",
    "            self._sigma_bias = nn.Parameter(w)\n",
    "            z = torch.zeros(out_features)\n",
    "            self.register_buffer(\"epsilon_bias\", z)\n",
    "        self.reset_parameters()\n",
    "\n",
    "    def reset_parameters(self):\n",
    "        std = math.sqrt(3 / self.in_features)\n",
    "        self.weight.data.uniform_(-std, std)\n",
    "        self.bias.data.uniform_(-std, std)\n",
    "\n",
    "    def forward(self, input):\n",
    "        self.epsilon_weight.normal_()\n",
    "        bias = self.bias\n",
    "        if bias is not None:\n",
    "            self.epsilon_bias.normal_()\n",
    "            bias = bias + self._sigma_bias * \\\n",
    "                   self.epsilon_bias.data\n",
    "        v = self._sigma_weight * self.epsilon_weight.data + \\\n",
    "            self.weight\n",
    "        return F.linear(input, v, bias)"
   ]
  },
  {
   "cell_type": "code",
   "execution_count": 5,
   "id": "f80c4e0a",
   "metadata": {},
   "outputs": [],
   "source": [
    "class SACActor(nn.Module):\n",
    "\n",
    "    def __init__(self, obs_size, act_size, hidden_size: int = 64):\n",
    "        super(SACActor, self).__init__()\n",
    "\n",
    "        self.mu = nn.Sequential(\n",
    "            nn.Linear(obs_size, hidden_size),\n",
    "            nn.Tanh(),\n",
    "            nn.Linear(hidden_size, hidden_size),\n",
    "            nn.Tanh(),\n",
    "            nn.Linear(hidden_size, act_size),\n",
    "            nn.Tanh(),\n",
    "        )\n",
    "        self.logstd = nn.Parameter(torch.zeros(act_size))\n",
    "\n",
    "    def forward(self, x):\n",
    "        return self.mu(x)"
   ]
  },
  {
   "cell_type": "code",
   "execution_count": 6,
   "id": "7631a8ce",
   "metadata": {},
   "outputs": [],
   "source": [
    "class SACCritic(nn.Module):\n",
    "\n",
    "    def __init__(self, obs_size, hidden_size: int = 64):\n",
    "        super(SACCritic, self).__init__()\n",
    "\n",
    "        self.value = nn.Sequential(\n",
    "            nn.Linear(obs_size, hidden_size),\n",
    "            nn.ReLU(),\n",
    "            nn.Linear(hidden_size, hidden_size),\n",
    "            nn.ReLU(),\n",
    "            nn.Linear(hidden_size, 1),\n",
    "        )\n",
    "\n",
    "    def forward(self, x):\n",
    "        return self.value(x)"
   ]
  },
  {
   "cell_type": "code",
   "execution_count": 7,
   "id": "3d874b64-9e57-4309-b221-9a758714cc10",
   "metadata": {},
   "outputs": [],
   "source": [
    "class SACTwinQ(nn.Module):\n",
    "\n",
    "    def __init__(self, obs_size, act_size, hidden_size: int = 64):\n",
    "        super(SACTwinQ, self).__init__()\n",
    "\n",
    "        self.q1 = nn.Sequential(\n",
    "            nn.Linear(obs_size + act_size, hidden_size),\n",
    "            nn.ReLU(),\n",
    "            nn.Linear(hidden_size, hidden_size),\n",
    "            nn.ReLU(),\n",
    "            nn.Linear(hidden_size, 1),\n",
    "        )\n",
    "\n",
    "        self.q2 = nn.Sequential(\n",
    "            nn.Linear(obs_size + act_size, hidden_size),\n",
    "            nn.ReLU(),\n",
    "            nn.Linear(hidden_size, hidden_size),\n",
    "            nn.ReLU(),\n",
    "            nn.Linear(hidden_size, 1),\n",
    "        )\n",
    "\n",
    "    def forward(self, obs, act):\n",
    "        x = torch.cat([obs, act], dim=1)\n",
    "        return self.q1(x), self.q2(x)"
   ]
  },
  {
   "cell_type": "code",
   "execution_count": 8,
   "id": "98cf5c75",
   "metadata": {},
   "outputs": [],
   "source": [
    "class Agent:\n",
    "\n",
    "    def __init__(\n",
    "        self,\n",
    "        env,\n",
    "        exp_buffer: NStepPriorityReplayBuffer,\n",
    "        act_net: nn.Module,\n",
    "        crt_net: nn.Module,\n",
    "        twinq_net:  nn.Module,\n",
    "        epsilon_start: float = 1.0,\n",
    "        epsilon_final: float = 0.01,\n",
    "        epsilon_decay_last_step: int = 200000,\n",
    "        tgt_sync_steps: int = 10000,\n",
    "        learning_rate_acts: float = 1e-4,\n",
    "        learning_rate_vals: float = 1e-4,\n",
    "        adam_eps: float = None,\n",
    "        sac_entropy_alpha: float = 0.1,\n",
    "        device: str = 'cuda' if torch.cuda.is_available() else 'cpu'\n",
    "    ):\n",
    "        self._env = env\n",
    "        self._exp_buffer = exp_buffer\n",
    "        self._act_net = act_net\n",
    "        self._crt_net = crt_net\n",
    "        self._twinq_net = twinq_net\n",
    "        self._tgt_act_net = deepcopy(act_net)\n",
    "        self._tgt_crt_net = deepcopy(crt_net)\n",
    "        for p in self._tgt_act_net.parameters():\n",
    "            p.requires_grad = False\n",
    "        for p in self._tgt_crt_net.parameters():\n",
    "            p.requires_grad = False\n",
    "        self._epsilon_start = epsilon_start\n",
    "        self._epsilon_final = epsilon_final\n",
    "        self._epsilon_decay_last_step = epsilon_decay_last_step\n",
    "        self._epsilon = epsilon_start\n",
    "        self._device = device\n",
    "        self._total_step = 0\n",
    "        self._total_trained_samples = 0\n",
    "        self._tgt_sync_steps = tgt_sync_steps\n",
    "        adam_kwargs = {}\n",
    "        if adam_eps is not None:\n",
    "            adam_kwargs['eps'] = adam_eps\n",
    "        self._crt_optimizer = torch.optim.Adam(self._crt_net.parameters(), lr=learning_rate_vals, **adam_kwargs)\n",
    "        self._act_optimizer = torch.optim.Adam(self._act_net.parameters(), lr=learning_rate_acts, **adam_kwargs)\n",
    "        self._twinq_optimizer = torch.optim.Adam(self._twinq_net.parameters(), lr=learning_rate_vals, **adam_kwargs)\n",
    "        self._sac_entropy_alpha = sac_entropy_alpha\n",
    "        self._reset_episode()\n",
    "\n",
    "    def _reset_episode(self):\n",
    "        self._state = self._env.reset()\n",
    "        self._total_reward = 0.0\n",
    "\n",
    "    @torch.no_grad()\n",
    "    def play_step(self, epsilon: Optional[float] = None, sync_target: bool = True):\n",
    "        if epsilon is None:\n",
    "            epsilon = self._epsilon\n",
    "        done_reward = None\n",
    "\n",
    "        if np.random.random() < epsilon:\n",
    "            action = self._env.action_space.sample()\n",
    "        else:\n",
    "            state_a = np.array([self._state], copy=False)\n",
    "            state_v = torch.tensor(state_a).float().to(self._device)\n",
    "            mu_v = self._act_net(state_v)\n",
    "            action = mu_v.squeeze(dim=0).data.cpu().numpy()\n",
    "            action = np.clip(action, -1, 1)\n",
    "\n",
    "        next_state, reward, is_done, _ = self._env.step(action)\n",
    "        self._total_reward += reward\n",
    "\n",
    "        self._exp_buffer.append(\n",
    "            self._state, action, reward, is_done, next_state\n",
    "        )\n",
    "        self._state = next_state\n",
    "        if is_done:\n",
    "            done_reward = self._total_reward\n",
    "            self._reset_episode()\n",
    "\n",
    "        self._total_step += 1\n",
    "        self._update_epsilon(self._total_step)\n",
    "        self._exp_buffer.update_bata(self._total_step)\n",
    "\n",
    "        # if self._total_step % self._tgt_sync_steps == 0 and sync_target:\n",
    "        #     self._alpha_sync(self._act_net, self._tgt_act_net, alpha=1 - 1e-3)\n",
    "        #     self._alpha_sync(self._crt_net, self._tgt_crt_net, alpha=1 - 1e-3)\n",
    "        #     print(f'synced target net')\n",
    "\n",
    "        return done_reward\n",
    "\n",
    "    def train(self, n_iter: int = 1, batch_size: int = 32) -> None:\n",
    "        n_step_gamma = self._exp_buffer.gamma ** self._exp_buffer.n_step\n",
    "        for i in range(n_iter):\n",
    "            states, actions, rewards, dones, total_discounted_rewards, \\\n",
    "                last_states, sampled_indices, weights = self._exp_buffer.sample(batch_size)\n",
    "            states_v = torch.tensor(states).float().to(self._device)\n",
    "            actions_v = torch.tensor(actions).to(self._device)\n",
    "            discounted_rewards_v = torch.tensor(total_discounted_rewards).to(self._device)\n",
    "            done_mask = torch.BoolTensor(dones).to(self._device)\n",
    "            weights_v = torch.tensor(weights).to(self._device)\n",
    "            last_states_v = torch.tensor(last_states).float().to(self._device)\n",
    "\n",
    "            # last_act_v = self._tgt_act_net(last_states_v)\n",
    "            q_last_v = self._tgt_crt_net(last_states_v)\n",
    "            q_last_v[done_mask] = 0.0\n",
    "            q_ref_v = discounted_rewards_v.unsqueeze(dim=-1) + \\\n",
    "                        q_last_v * n_step_gamma\n",
    "\n",
    "            mu_v = self._act_net(states_v)\n",
    "            act_dist = distr.Normal(mu_v, torch.exp(self._act_net.logstd))\n",
    "            acts_v = act_dist.sample()\n",
    "            q1_v, q2_v = self._twinq_net(states_v, acts_v)\n",
    "            # element-wise minimum\n",
    "            vals_ref_v = torch.min(q1_v, q2_v).squeeze() - \\\n",
    "                        self._sac_entropy_alpha * act_dist.log_prob(acts_v).sum(dim=1)\n",
    "\n",
    "            # train TwinQ\n",
    "            self._twinq_optimizer.zero_grad()\n",
    "            q1_v, q2_v = self._twinq_net(states_v, actions_v)\n",
    "            q1_loss_v = F.mse_loss(q1_v.squeeze().float(),\n",
    "                                    q_ref_v.squeeze().detach().float())\n",
    "            q2_loss_v = F.mse_loss(q2_v.squeeze().float(),\n",
    "                                    q_ref_v.squeeze().detach().float())\n",
    "            q_loss_v = q1_loss_v + q2_loss_v\n",
    "            q_loss_v.backward()\n",
    "            self._twinq_optimizer.step()\n",
    "\n",
    "            # Critic\n",
    "            self._crt_optimizer.zero_grad()\n",
    "            val_v = self._crt_net(states_v)\n",
    "            v_loss_v = F.mse_loss(val_v.squeeze().float(),\n",
    "                                    vals_ref_v.squeeze().detach().float())\n",
    "            v_loss_v.backward()\n",
    "            self._crt_optimizer.step()\n",
    "\n",
    "            # Actor\n",
    "            self._act_optimizer.zero_grad()\n",
    "            acts_v = self._act_net(states_v)\n",
    "            q_out_v, _ = self._twinq_net(states_v, acts_v)\n",
    "            act_loss = -q_out_v.mean()\n",
    "            act_loss.backward()\n",
    "            self._act_optimizer.step()\n",
    "\n",
    "            # self._alpha_sync(self._act_net, self._tgt_act_net, alpha=1 - 1e-3)\n",
    "            self._alpha_sync(self._crt_net, self._tgt_crt_net, alpha=1 - 1e-3)\n",
    "\n",
    "            # self._exp_buffer.update_priorities(sampled_indices, prios)\n",
    "            self._total_trained_samples += batch_size\n",
    "\n",
    "    def initial_exploration(self, n_steps: int = 10000, epsilon: float = 1.0) -> None:\n",
    "        eps_bak = self._epsilon\n",
    "        try:\n",
    "            for i in pb(range(n_steps)):\n",
    "                self._epsilon = epsilon\n",
    "                self.play_step(sync_target=False)\n",
    "        finally:\n",
    "            self._total_step = 0\n",
    "            self._epsilon = eps_bak\n",
    "\n",
    "    def _update_epsilon(self, step_index: int) -> None:\n",
    "        self._epsilon = max(\n",
    "            self._epsilon_final,\n",
    "            self._epsilon_start - step_index / self._epsilon_decay_last_step\n",
    "        )\n",
    "\n",
    "    def _sync(self, net, tgt_net):\n",
    "        tgt_net.load_state_dict(net.state_dict())\n",
    "\n",
    "    def _alpha_sync(self, net, tgt_net, alpha):\n",
    "        assert isinstance(alpha, float)\n",
    "        assert 0.0 < alpha <= 1.0\n",
    "        state = net.state_dict()\n",
    "        tgt_state = tgt_net.state_dict()\n",
    "        for k, v in state.items():\n",
    "            tgt_state[k] = tgt_state[k] * alpha + (1 - alpha) * v\n",
    "        tgt_net.load_state_dict(tgt_state)\n"
   ]
  },
  {
   "cell_type": "code",
   "execution_count": 9,
   "id": "3eb45722",
   "metadata": {},
   "outputs": [],
   "source": [
    "class UnityToGymNumpyWrapper(UnityToGymWrapper):\n",
    "    def __init__(self, *args, **kwargs):\n",
    "        super(UnityToGymNumpyWrapper, self).__init__(*args, **kwargs)\n",
    "\n",
    "    def reset(self, *args, **kwargs):\n",
    "        state = super().reset(*args, **kwargs)\n",
    "        return np.array(state[0])\n",
    "\n",
    "    def step(self, *args, **kwargs):\n",
    "        next_state, reward, is_done, info = super().step(*args, **kwargs)\n",
    "        return np.array(next_state[0]), reward, is_done, info"
   ]
  },
  {
   "cell_type": "code",
   "execution_count": null,
   "id": "3996ef1d",
   "metadata": {},
   "outputs": [],
   "source": []
  },
  {
   "cell_type": "code",
   "execution_count": null,
   "id": "62a77bae",
   "metadata": {},
   "outputs": [],
   "source": []
  },
  {
   "cell_type": "code",
   "execution_count": null,
   "id": "350101c5",
   "metadata": {},
   "outputs": [],
   "source": []
  },
  {
   "cell_type": "code",
   "execution_count": 10,
   "id": "ced14eaa",
   "metadata": {},
   "outputs": [],
   "source": [
    "try:\n",
    "    unity_env.close()\n",
    "except Exception:\n",
    "    pass\n",
    "\n",
    "unity_env = UnityEnvironment(file_name=None)"
   ]
  },
  {
   "cell_type": "code",
   "execution_count": 11,
   "id": "7dfaffee",
   "metadata": {},
   "outputs": [],
   "source": [
    "unity_env.reset()"
   ]
  },
  {
   "cell_type": "code",
   "execution_count": 12,
   "id": "7a18b3bc",
   "metadata": {},
   "outputs": [
    {
     "name": "stderr",
     "output_type": "stream",
     "text": [
      "/home/ym/.cache/pypoetry/virtualenvs/mlagent-learn-20-test-54-2MrXv-py3.9/lib/python3.9/site-packages/gym/spaces/box.py:127: UserWarning: \u001b[33mWARN: Box bound precision lowered by casting to float32\u001b[0m\n",
      "  logger.warn(f\"Box bound precision lowered by casting to {self.dtype}\")\n"
     ]
    }
   ],
   "source": [
    "# env = UnityToGymWrapper(unity_env, allow_multiple_obs=True)\n",
    "env = UnityToGymNumpyWrapper(unity_env, allow_multiple_obs=True)"
   ]
  },
  {
   "cell_type": "code",
   "execution_count": 13,
   "id": "b546b475",
   "metadata": {},
   "outputs": [
    {
     "name": "stdout",
     "output_type": "stream",
     "text": [
      "behavior_names: ['3DBall?team=0']\n",
      "\n",
      "== BehaviorSpecの情報の確認 ==\n",
      "observation_specs: [ObservationSpec(shape=(8,), dimension_property=(<DimensionProperty.NONE: 1>,), observation_type=<ObservationType.DEFAULT: 0>, name='VectorSensor_size8')]\n",
      "action_spec: Continuous: 2, Discrete: ()\n"
     ]
    }
   ],
   "source": [
    "# Unity環境のリセット\n",
    "unity_env.reset()\n",
    "\n",
    "# BehaviorNameのリストの取得\n",
    "behavior_names = list(unity_env.behavior_specs.keys())\n",
    "print('behavior_names:', behavior_names)\n",
    "\n",
    "# BehaviorSpecの取得\n",
    "behavior_spec = unity_env.behavior_specs[behavior_names[0]]\n",
    "\n",
    "# BehaviorSpecの情報の確認\n",
    "print('\\n== BehaviorSpecの情報の確認 ==')\n",
    "print('observation_specs:', behavior_spec.observation_specs)\n",
    "print('action_spec:', behavior_spec.action_spec)"
   ]
  },
  {
   "cell_type": "code",
   "execution_count": 14,
   "id": "509d354c",
   "metadata": {},
   "outputs": [
    {
     "data": {
      "text/plain": [
       "BehaviorSpec(observation_specs=[ObservationSpec(shape=(8,), dimension_property=(<DimensionProperty.NONE: 1>,), observation_type=<ObservationType.DEFAULT: 0>, name='VectorSensor_size8')], action_spec=ActionSpec(continuous_size=2, discrete_branches=()))"
      ]
     },
     "execution_count": 14,
     "metadata": {},
     "output_type": "execute_result"
    }
   ],
   "source": [
    "behavior_spec"
   ]
  },
  {
   "cell_type": "code",
   "execution_count": 15,
   "id": "17a817cc",
   "metadata": {},
   "outputs": [
    {
     "name": "stdout",
     "output_type": "stream",
     "text": [
      "\n",
      "== DecisionStepsの情報の確認 ==\n",
      "obj: [array([[ 0.06363224,  0.03799658, -1.1360741 ,  3.996076  , -0.4150591 ,\n",
      "         0.        , -0.1962    ,  0.        ]], dtype=float32)]\n",
      "reward: [0.1]\n",
      "agent_id: [0]\n",
      "action_mask: None\n",
      "\n",
      "== TerminalStepsの情報の確認 ==\n",
      "obs: [array([], shape=(0, 8), dtype=float32)]\n",
      "reward: []\n",
      "agent_id: []\n",
      "interrupted: []\n"
     ]
    }
   ],
   "source": [
    "# 現在のステップの情報の取得\n",
    "decision_steps, terminal_steps = unity_env.get_steps(behavior_names[0])\n",
    "\n",
    "# DecisionStepsの情報の確認\n",
    "print('\\n== DecisionStepsの情報の確認 ==')\n",
    "print('obj:', decision_steps.obs)\n",
    "print('reward:', decision_steps.reward)\n",
    "print('agent_id:', decision_steps.agent_id)\n",
    "print('action_mask:', decision_steps.action_mask)\n",
    "\n",
    "# TerminalStepsの情報の確認\n",
    "print('\\n== TerminalStepsの情報の確認 ==')\n",
    "print('obs:', terminal_steps.obs)\n",
    "print('reward:', terminal_steps.reward)\n",
    "print('agent_id:', terminal_steps.agent_id)\n",
    "print('interrupted:', terminal_steps.interrupted)"
   ]
  },
  {
   "cell_type": "code",
   "execution_count": 16,
   "id": "bde7cf33",
   "metadata": {},
   "outputs": [
    {
     "data": {
      "text/plain": [
       "1"
      ]
     },
     "execution_count": 16,
     "metadata": {},
     "output_type": "execute_result"
    }
   ],
   "source": [
    "len(decision_steps.obs)"
   ]
  },
  {
   "cell_type": "code",
   "execution_count": 17,
   "id": "b6b8b6c3",
   "metadata": {},
   "outputs": [
    {
     "data": {
      "text/plain": [
       "(1, 8)"
      ]
     },
     "execution_count": 17,
     "metadata": {},
     "output_type": "execute_result"
    }
   ],
   "source": [
    "decision_steps.obs[0].shape"
   ]
  },
  {
   "cell_type": "code",
   "execution_count": 18,
   "id": "571deb34",
   "metadata": {},
   "outputs": [],
   "source": [
    "N_AGENTS, OBS_DIM = decision_steps.obs[0].shape"
   ]
  },
  {
   "cell_type": "code",
   "execution_count": 19,
   "id": "43d59827",
   "metadata": {},
   "outputs": [],
   "source": [
    "N_ACTIONS = behavior_spec.action_spec.continuous_size"
   ]
  },
  {
   "cell_type": "code",
   "execution_count": 20,
   "id": "1a3bc5c1",
   "metadata": {},
   "outputs": [
    {
     "data": {
      "text/plain": [
       "2"
      ]
     },
     "execution_count": 20,
     "metadata": {},
     "output_type": "execute_result"
    }
   ],
   "source": [
    "N_ACTIONS"
   ]
  },
  {
   "cell_type": "code",
   "execution_count": null,
   "id": "1ac3e113",
   "metadata": {},
   "outputs": [],
   "source": []
  },
  {
   "cell_type": "code",
   "execution_count": 21,
   "id": "8e8d0b7e",
   "metadata": {},
   "outputs": [
    {
     "data": {
      "text/plain": [
       "Box(-1.0, 1.0, (2,), float32)"
      ]
     },
     "execution_count": 21,
     "metadata": {},
     "output_type": "execute_result"
    }
   ],
   "source": [
    "env.action_space"
   ]
  },
  {
   "cell_type": "code",
   "execution_count": 22,
   "id": "4fdb8da9",
   "metadata": {},
   "outputs": [
    {
     "data": {
      "text/plain": [
       "array([0.07197419, 0.49508432], dtype=float32)"
      ]
     },
     "execution_count": 22,
     "metadata": {},
     "output_type": "execute_result"
    }
   ],
   "source": [
    "env.action_space.sample()"
   ]
  },
  {
   "cell_type": "code",
   "execution_count": 23,
   "id": "141c2141",
   "metadata": {},
   "outputs": [
    {
     "data": {
      "text/plain": [
       "Tuple(Box(-inf, inf, (8,), float32))"
      ]
     },
     "execution_count": 23,
     "metadata": {},
     "output_type": "execute_result"
    }
   ],
   "source": [
    "env.observation_space"
   ]
  },
  {
   "cell_type": "code",
   "execution_count": null,
   "id": "49e0cbfa",
   "metadata": {},
   "outputs": [],
   "source": []
  },
  {
   "cell_type": "code",
   "execution_count": 24,
   "id": "143a47fb",
   "metadata": {},
   "outputs": [],
   "source": [
    "state = env.reset()"
   ]
  },
  {
   "cell_type": "code",
   "execution_count": 25,
   "id": "d235fc75",
   "metadata": {},
   "outputs": [
    {
     "data": {
      "text/plain": [
       "array([-0.04687161, -0.03916143, -0.61104035,  3.996076  ,  0.56867313,\n",
       "        0.        , -0.1962    ,  0.        ], dtype=float32)"
      ]
     },
     "execution_count": 25,
     "metadata": {},
     "output_type": "execute_result"
    }
   ],
   "source": [
    "state"
   ]
  },
  {
   "cell_type": "code",
   "execution_count": 26,
   "id": "3e24b4a3",
   "metadata": {},
   "outputs": [
    {
     "data": {
      "text/plain": [
       "(8,)"
      ]
     },
     "execution_count": 26,
     "metadata": {},
     "output_type": "execute_result"
    }
   ],
   "source": [
    "state.shape"
   ]
  },
  {
   "cell_type": "code",
   "execution_count": 27,
   "id": "0a0e2252",
   "metadata": {
    "scrolled": true
   },
   "outputs": [
    {
     "data": {
      "text/plain": [
       "torch.Size([1, 8])"
      ]
     },
     "execution_count": 27,
     "metadata": {},
     "output_type": "execute_result"
    }
   ],
   "source": [
    "torch.tensor(state).unsqueeze(0).shape"
   ]
  },
  {
   "cell_type": "code",
   "execution_count": 28,
   "id": "3b68479c",
   "metadata": {},
   "outputs": [],
   "source": [
    "next_state, reward, is_done, _ = env.step(env.action_space.sample())"
   ]
  },
  {
   "cell_type": "code",
   "execution_count": 29,
   "id": "c052f812",
   "metadata": {},
   "outputs": [
    {
     "data": {
      "text/plain": [
       "array([-0.00533993, -0.01962692, -0.61104035,  3.917596  ,  0.56867313,\n",
       "        0.        , -1.1772    ,  0.        ], dtype=float32)"
      ]
     },
     "execution_count": 29,
     "metadata": {},
     "output_type": "execute_result"
    }
   ],
   "source": [
    "next_state"
   ]
  },
  {
   "cell_type": "code",
   "execution_count": 30,
   "id": "73dd5a38",
   "metadata": {},
   "outputs": [
    {
     "data": {
      "text/plain": [
       "0.1"
      ]
     },
     "execution_count": 30,
     "metadata": {},
     "output_type": "execute_result"
    }
   ],
   "source": [
    "reward"
   ]
  },
  {
   "cell_type": "code",
   "execution_count": 31,
   "id": "95ed64a7",
   "metadata": {},
   "outputs": [
    {
     "data": {
      "text/plain": [
       "False"
      ]
     },
     "execution_count": 31,
     "metadata": {},
     "output_type": "execute_result"
    }
   ],
   "source": [
    "is_done"
   ]
  },
  {
   "cell_type": "code",
   "execution_count": null,
   "id": "8df86aac",
   "metadata": {},
   "outputs": [],
   "source": []
  },
  {
   "cell_type": "code",
   "execution_count": 32,
   "id": "554cb0d5",
   "metadata": {},
   "outputs": [],
   "source": [
    "SEED = 77"
   ]
  },
  {
   "cell_type": "code",
   "execution_count": 33,
   "id": "19358419",
   "metadata": {},
   "outputs": [],
   "source": [
    "random.seed(SEED)\n",
    "torch.manual_seed(SEED)\n",
    "device = torch.device(\"cuda\" if torch.cuda.is_available() else \"cpu\")"
   ]
  },
  {
   "cell_type": "code",
   "execution_count": 34,
   "id": "d6bbce14",
   "metadata": {},
   "outputs": [],
   "source": [
    "act_net = SACActor(\n",
    "    OBS_DIM,\n",
    "    N_ACTIONS\n",
    ").to(device)\n",
    "crt_net = SACCritic(\n",
    "    OBS_DIM,\n",
    "    N_ACTIONS\n",
    ").to(device)\n",
    "twinq_net = SACTwinQ(\n",
    "    OBS_DIM,\n",
    "    N_ACTIONS\n",
    ").to(device)"
   ]
  },
  {
   "cell_type": "code",
   "execution_count": 35,
   "id": "5db76ab2",
   "metadata": {},
   "outputs": [],
   "source": [
    "act = act_net(torch.tensor(state).unsqueeze(0).to(device))"
   ]
  },
  {
   "cell_type": "code",
   "execution_count": 36,
   "id": "4afd02de",
   "metadata": {},
   "outputs": [
    {
     "data": {
      "text/plain": [
       "torch.Size([1, 2])"
      ]
     },
     "execution_count": 36,
     "metadata": {},
     "output_type": "execute_result"
    }
   ],
   "source": [
    "act.shape"
   ]
  },
  {
   "cell_type": "code",
   "execution_count": 37,
   "id": "4fb1adee",
   "metadata": {},
   "outputs": [],
   "source": [
    "v = crt_net(torch.tensor(state).unsqueeze(0).to(device))"
   ]
  },
  {
   "cell_type": "code",
   "execution_count": 38,
   "id": "2325bd37",
   "metadata": {},
   "outputs": [
    {
     "data": {
      "text/plain": [
       "torch.Size([1, 1])"
      ]
     },
     "execution_count": 38,
     "metadata": {},
     "output_type": "execute_result"
    }
   ],
   "source": [
    "v.shape"
   ]
  },
  {
   "cell_type": "code",
   "execution_count": 39,
   "id": "5eac5a6b",
   "metadata": {},
   "outputs": [],
   "source": [
    "exp_buffer = NStepPriorityReplayBuffer(\n",
    "    max_size=30000,\n",
    "    prob_alpha=0.6,\n",
    "    beta_start=0.4,\n",
    "    beta_frames=30000, #100000,\n",
    "    n_step=20,\n",
    "    gamma=0.99,\n",
    ")"
   ]
  },
  {
   "cell_type": "code",
   "execution_count": 40,
   "id": "f7930a1e-bd50-4cc5-b305-315198341280",
   "metadata": {},
   "outputs": [],
   "source": [
    "agent = Agent(\n",
    "    env=env,\n",
    "    exp_buffer=exp_buffer,\n",
    "    crt_net=crt_net,\n",
    "    act_net=act_net,\n",
    "    twinq_net=twinq_net,\n",
    "    epsilon_start=0.2,\n",
    "    epsilon_final=0.002,\n",
    "    epsilon_decay_last_step=50000, #200000,\n",
    "    # tgt_sync_steps=1000,\n",
    "    learning_rate_acts=1e-4,\n",
    "    learning_rate_vals=1e-4,\n",
    "    device=device\n",
    ")"
   ]
  },
  {
   "cell_type": "code",
   "execution_count": 41,
   "id": "4ce0c702",
   "metadata": {},
   "outputs": [
    {
     "data": {
      "text/html": [
       "\n",
       "<style>\n",
       "    /* Turns off some styling */\n",
       "    progress {\n",
       "        /* gets rid of default border in Firefox and Opera. */\n",
       "        border: none;\n",
       "        /* Needs to be in here for Safari polyfill so background images work as expected. */\n",
       "        background-size: auto;\n",
       "    }\n",
       "    progress:not([value]), progress:not([value])::-webkit-progress-bar {\n",
       "        background: repeating-linear-gradient(45deg, #7e7e7e, #7e7e7e 10px, #5c5c5c 10px, #5c5c5c 20px);\n",
       "    }\n",
       "    .progress-bar-interrupted, .progress-bar-interrupted::-webkit-progress-bar {\n",
       "        background: #F44336;\n",
       "    }\n",
       "</style>\n"
      ],
      "text/plain": [
       "<IPython.core.display.HTML object>"
      ]
     },
     "metadata": {},
     "output_type": "display_data"
    },
    {
     "data": {
      "text/html": [
       "\n",
       "    <div>\n",
       "      <progress value='10000' class='' max='10000' style='width:300px; height:20px; vertical-align: middle;'></progress>\n",
       "      100.00% [10000/10000 16:29&lt;00:00]\n",
       "    </div>\n",
       "    "
      ],
      "text/plain": [
       "<IPython.core.display.HTML object>"
      ]
     },
     "metadata": {},
     "output_type": "display_data"
    }
   ],
   "source": [
    "agent.initial_exploration(n_steps=10000)"
   ]
  },
  {
   "cell_type": "code",
   "execution_count": 42,
   "id": "104a07fa",
   "metadata": {},
   "outputs": [],
   "source": [
    "states, actions, rewards, dones, next_states = zip(*agent._exp_buffer._buf)"
   ]
  },
  {
   "cell_type": "code",
   "execution_count": 43,
   "id": "97b4a59f",
   "metadata": {},
   "outputs": [
    {
     "data": {
      "text/plain": [
       "[<matplotlib.lines.Line2D at 0x7fcee05e71c0>]"
      ]
     },
     "execution_count": 43,
     "metadata": {},
     "output_type": "execute_result"
    },
    {
     "data": {
      "image/png": "[encoded data removed]",
      "text/plain": [
       "<Figure size 1600x600 with 1 Axes>"
      ]
     },
     "metadata": {},
     "output_type": "display_data"
    }
   ],
   "source": [
    "plt.figure(figsize=(16, 6))\n",
    "plt.plot(rewards[:200])\n",
    "plt.plot(agent._exp_buffer._total_discounted_rewards[:200])"
   ]
  },
  {
   "cell_type": "code",
   "execution_count": null,
   "id": "c2bbd4fb",
   "metadata": {},
   "outputs": [],
   "source": []
  },
  {
   "cell_type": "code",
   "execution_count": 46,
   "id": "21bbcc0b",
   "metadata": {
    "scrolled": true
   },
   "outputs": [
    {
     "name": "stdout",
     "output_type": "stream",
     "text": [
      "episode : 0, done reward : 1.7000000402331352, total_step : 18, cur_epsilon : 0.19964\n",
      "episode : 1, done reward : 0.30000001937150955, total_step : 32, cur_epsilon : 0.19936\n",
      "episode : 2, done reward : 0.6000000238418579, total_step : 49, cur_epsilon : 0.19902\n",
      "episode : 3, done reward : 0.20000001788139343, total_step : 62, cur_epsilon : 0.19876000000000002\n",
      "episode : 4, done reward : 0.5000000223517418, total_step : 78, cur_epsilon : 0.19844\n",
      "episode : 5, done reward : 0.9000000283122063, total_step : 98, cur_epsilon : 0.19804000000000002\n",
      "episode : 6, done reward : 0.700000025331974, total_step : 116, cur_epsilon : 0.19768000000000002\n",
      "episode : 7, done reward : 0.30000001937150955, total_step : 130, cur_epsilon : 0.19740000000000002\n",
      "episode : 8, done reward : 0.8000000268220901, total_step : 149, cur_epsilon : 0.19702\n",
      "episode : 9, done reward : 0.700000025331974, total_step : 167, cur_epsilon : 0.19666\n",
      "episode : 10, done reward : 0.10000001639127731, total_step : 179, cur_epsilon : 0.19642\n",
      "episode : 11, done reward : 0.40000002086162567, total_step : 194, cur_epsilon : 0.19612000000000002\n",
      "episode : 12, done reward : 0.40000002086162567, total_step : 209, cur_epsilon : 0.19582000000000002\n",
      "episode : 13, done reward : 0.30000001937150955, total_step : 223, cur_epsilon : 0.19554000000000002\n",
      "episode : 14, done reward : 0.5000000223517418, total_step : 239, cur_epsilon : 0.19522\n",
      "episode : 15, done reward : 0.700000025331974, total_step : 257, cur_epsilon : 0.19486\n",
      "episode : 16, done reward : 0.10000001639127731, total_step : 269, cur_epsilon : 0.19462000000000002\n",
      "episode : 17, done reward : 0.6000000238418579, total_step : 286, cur_epsilon : 0.19428\n",
      "episode : 18, done reward : 0.5000000223517418, total_step : 302, cur_epsilon : 0.19396000000000002\n",
      "episode : 19, done reward : 1.1000000312924385, total_step : 324, cur_epsilon : 0.19352000000000003\n",
      "episode : 20, done reward : 0.700000025331974, total_step : 342, cur_epsilon : 0.19316\n",
      "episode : 21, done reward : 0.8000000268220901, total_step : 361, cur_epsilon : 0.19278\n",
      "episode : 22, done reward : 0.20000001788139343, total_step : 374, cur_epsilon : 0.19252000000000002\n",
      "episode : 23, done reward : 1.4901161193847656e-08, total_step : 385, cur_epsilon : 0.1923\n",
      "episode : 24, done reward : 0.700000025331974, total_step : 403, cur_epsilon : 0.19194\n",
      "episode : 25, done reward : 1.0000000298023224, total_step : 424, cur_epsilon : 0.19152000000000002\n",
      "episode : 26, done reward : 0.6000000238418579, total_step : 441, cur_epsilon : 0.19118000000000002\n",
      "episode : 27, done reward : 0.6000000238418579, total_step : 458, cur_epsilon : 0.19084\n",
      "episode : 28, done reward : 1.1000000312924385, total_step : 480, cur_epsilon : 0.1904\n",
      "episode : 29, done reward : 0.6000000238418579, total_step : 497, cur_epsilon : 0.19006\n",
      "episode : 30, done reward : 0.700000025331974, total_step : 515, cur_epsilon : 0.1897\n",
      "episode : 31, done reward : 1.500000037252903, total_step : 541, cur_epsilon : 0.18918000000000001\n",
      "episode : 32, done reward : 1.600000038743019, total_step : 568, cur_epsilon : 0.18864\n",
      "episode : 33, done reward : 0.9000000283122063, total_step : 588, cur_epsilon : 0.18824000000000002\n",
      "episode : 34, done reward : 0.5000000223517418, total_step : 604, cur_epsilon : 0.18792\n",
      "episode : 35, done reward : 1.0000000298023224, total_step : 625, cur_epsilon : 0.1875\n",
      "episode : 36, done reward : 0.30000001937150955, total_step : 639, cur_epsilon : 0.18722\n",
      "episode : 37, done reward : 0.700000025331974, total_step : 657, cur_epsilon : 0.18686\n",
      "episode : 38, done reward : 0.6000000238418579, total_step : 674, cur_epsilon : 0.18652000000000002\n",
      "episode : 39, done reward : 0.6000000238418579, total_step : 691, cur_epsilon : 0.18618\n",
      "episode : 40, done reward : 0.40000002086162567, total_step : 706, cur_epsilon : 0.18588000000000002\n",
      "episode : 41, done reward : 0.30000001937150955, total_step : 720, cur_epsilon : 0.18560000000000001\n",
      "episode : 42, done reward : 0.700000025331974, total_step : 738, cur_epsilon : 0.18524000000000002\n",
      "episode : 43, done reward : 0.40000002086162567, total_step : 753, cur_epsilon : 0.18494000000000002\n",
      "episode : 44, done reward : 0.8000000268220901, total_step : 772, cur_epsilon : 0.18456\n",
      "episode : 45, done reward : 0.5000000223517418, total_step : 788, cur_epsilon : 0.18424000000000001\n",
      "episode : 46, done reward : 1.8000000417232513, total_step : 817, cur_epsilon : 0.18366000000000002\n",
      "episode : 47, done reward : 0.6000000238418579, total_step : 834, cur_epsilon : 0.18332\n",
      "episode : 48, done reward : 1.500000037252903, total_step : 860, cur_epsilon : 0.18280000000000002\n",
      "episode : 49, done reward : 0.8000000268220901, total_step : 879, cur_epsilon : 0.18242000000000003\n",
      "episode : 50, done reward : 0.8000000268220901, total_step : 898, cur_epsilon : 0.18204\n",
      "episode : 51, done reward : 1.8000000417232513, total_step : 927, cur_epsilon : 0.18146\n",
      "episode : 52, done reward : 2.400000050663948, total_step : 962, cur_epsilon : 0.18076\n",
      "episode : 53, done reward : 1.1000000312924385, total_step : 984, cur_epsilon : 0.18032\n",
      "episode : 54, done reward : 0.6000000238418579, total_step : 1001, cur_epsilon : 0.17998\n",
      "episode : 55, done reward : 0.8000000268220901, total_step : 1020, cur_epsilon : 0.1796\n",
      "episode : 56, done reward : 1.0000000298023224, total_step : 1041, cur_epsilon : 0.17918\n",
      "episode : 57, done reward : 1.0000000298023224, total_step : 1062, cur_epsilon : 0.17876\n",
      "episode : 58, done reward : 0.700000025331974, total_step : 1080, cur_epsilon : 0.1784\n",
      "episode : 59, done reward : 0.5000000223517418, total_step : 1096, cur_epsilon : 0.17808000000000002\n",
      "episode : 60, done reward : 0.6000000238418579, total_step : 1113, cur_epsilon : 0.17774\n",
      "episode : 61, done reward : 0.6000000238418579, total_step : 1130, cur_epsilon : 0.1774\n",
      "episode : 62, done reward : 0.9000000283122063, total_step : 1150, cur_epsilon : 0.17700000000000002\n",
      "episode : 63, done reward : 0.700000025331974, total_step : 1168, cur_epsilon : 0.17664000000000002\n",
      "episode : 64, done reward : 0.5000000223517418, total_step : 1184, cur_epsilon : 0.17632\n",
      "episode : 65, done reward : 0.700000025331974, total_step : 1202, cur_epsilon : 0.17596\n",
      "episode : 66, done reward : 0.6000000238418579, total_step : 1219, cur_epsilon : 0.17562\n",
      "episode : 67, done reward : 0.40000002086162567, total_step : 1234, cur_epsilon : 0.17532\n",
      "episode : 68, done reward : 1.4901161193847656e-08, total_step : 1245, cur_epsilon : 0.1751\n",
      "episode : 69, done reward : 0.5000000223517418, total_step : 1261, cur_epsilon : 0.17478000000000002\n",
      "episode : 70, done reward : 3.300000064074993, total_step : 1305, cur_epsilon : 0.1739\n",
      "episode : 71, done reward : 1.1000000312924385, total_step : 1327, cur_epsilon : 0.17346\n",
      "episode : 72, done reward : 0.700000025331974, total_step : 1345, cur_epsilon : 0.1731\n",
      "episode : 73, done reward : 0.6000000238418579, total_step : 1362, cur_epsilon : 0.17276000000000002\n",
      "episode : 74, done reward : 5.400000095367432, total_step : 1427, cur_epsilon : 0.17146\n",
      "episode : 75, done reward : 0.8000000268220901, total_step : 1446, cur_epsilon : 0.17108\n",
      "episode : 76, done reward : 1.9000000432133675, total_step : 1476, cur_epsilon : 0.17048000000000002\n",
      "episode : 77, done reward : 3.100000061094761, total_step : 1518, cur_epsilon : 0.16964\n",
      "episode : 78, done reward : 2.0000000447034836, total_step : 1549, cur_epsilon : 0.16902\n",
      "episode : 79, done reward : 1.4901161193847656e-08, total_step : 1560, cur_epsilon : 0.1688\n",
      "episode : 80, done reward : 2.400000050663948, total_step : 1595, cur_epsilon : 0.16810000000000003\n",
      "episode : 81, done reward : 3.100000061094761, total_step : 1637, cur_epsilon : 0.16726000000000002\n",
      "episode : 82, done reward : 1.8000000417232513, total_step : 1666, cur_epsilon : 0.16668\n",
      "episode : 83, done reward : 0.9000000283122063, total_step : 1686, cur_epsilon : 0.16628\n",
      "episode : 84, done reward : 2.7000000551342964, total_step : 1724, cur_epsilon : 0.16552\n",
      "episode : 85, done reward : 1.0000000298023224, total_step : 1745, cur_epsilon : 0.16510000000000002\n",
      "episode : 86, done reward : 0.8000000268220901, total_step : 1764, cur_epsilon : 0.16472\n",
      "episode : 87, done reward : 0.8000000268220901, total_step : 1783, cur_epsilon : 0.16434\n",
      "episode : 88, done reward : 1.4000000357627869, total_step : 1808, cur_epsilon : 0.16384\n",
      "episode : 89, done reward : 0.8000000268220901, total_step : 1827, cur_epsilon : 0.16346\n",
      "episode : 90, done reward : 3.4000000655651093, total_step : 1872, cur_epsilon : 0.16256\n",
      "episode : 91, done reward : 3.300000064074993, total_step : 1916, cur_epsilon : 0.16168000000000002\n",
      "episode : 92, done reward : 0.8000000268220901, total_step : 1935, cur_epsilon : 0.1613\n",
      "episode : 93, done reward : 1.3000000342726707, total_step : 1959, cur_epsilon : 0.16082000000000002\n",
      "episode : 94, done reward : 1.2000000327825546, total_step : 1982, cur_epsilon : 0.16036\n",
      "episode : 95, done reward : 2.8000000566244125, total_step : 2021, cur_epsilon : 0.15958\n",
      "episode : 96, done reward : 1.600000038743019, total_step : 2048, cur_epsilon : 0.15904000000000001\n",
      "episode : 97, done reward : 1.2000000327825546, total_step : 2071, cur_epsilon : 0.15858\n",
      "episode : 98, done reward : 2.200000047683716, total_step : 2104, cur_epsilon : 0.15792\n",
      "episode : 99, done reward : 2.6000000536441803, total_step : 2141, cur_epsilon : 0.15718000000000001\n",
      "episode : 100, done reward : 0.6000000238418579, total_step : 2158, cur_epsilon : 0.15684\n",
      "episode : 101, done reward : 1.4000000357627869, total_step : 2183, cur_epsilon : 0.15634\n",
      "episode : 102, done reward : 1.0000000298023224, total_step : 2204, cur_epsilon : 0.15592\n",
      "episode : 103, done reward : 1.500000037252903, total_step : 2230, cur_epsilon : 0.1554\n",
      "episode : 104, done reward : 0.5000000223517418, total_step : 2246, cur_epsilon : 0.15508\n",
      "episode : 105, done reward : 0.9000000283122063, total_step : 2266, cur_epsilon : 0.15468\n",
      "episode : 106, done reward : 3.300000064074993, total_step : 2310, cur_epsilon : 0.15380000000000002\n",
      "episode : 107, done reward : 1.4000000357627869, total_step : 2335, cur_epsilon : 0.15330000000000002\n",
      "episode : 108, done reward : 1.2000000327825546, total_step : 2358, cur_epsilon : 0.15284\n",
      "episode : 109, done reward : 3.6000000685453415, total_step : 2405, cur_epsilon : 0.1519\n",
      "episode : 110, done reward : 1.1000000312924385, total_step : 2427, cur_epsilon : 0.15146\n",
      "episode : 111, done reward : 2.300000049173832, total_step : 2461, cur_epsilon : 0.15078000000000003\n",
      "episode : 112, done reward : 1.9000000432133675, total_step : 2491, cur_epsilon : 0.15018\n",
      "episode : 113, done reward : 3.0000000596046448, total_step : 2532, cur_epsilon : 0.14936000000000002\n",
      "episode : 114, done reward : 0.40000002086162567, total_step : 2547, cur_epsilon : 0.14906000000000003\n",
      "episode : 115, done reward : 1.3000000342726707, total_step : 2571, cur_epsilon : 0.14858000000000002\n",
      "episode : 116, done reward : 1.500000037252903, total_step : 2597, cur_epsilon : 0.14806000000000002\n",
      "episode : 117, done reward : 1.0000000298023224, total_step : 2618, cur_epsilon : 0.14764000000000002\n",
      "episode : 118, done reward : 1.0000000298023224, total_step : 2639, cur_epsilon : 0.14722000000000002\n",
      "episode : 119, done reward : 1.0000000298023224, total_step : 2660, cur_epsilon : 0.1468\n",
      "episode : 120, done reward : 1.9000000432133675, total_step : 2690, cur_epsilon : 0.1462\n",
      "episode : 121, done reward : 1.600000038743019, total_step : 2717, cur_epsilon : 0.14566\n",
      "episode : 122, done reward : 0.5000000223517418, total_step : 2733, cur_epsilon : 0.14534000000000002\n",
      "episode : 123, done reward : 1.2000000327825546, total_step : 2756, cur_epsilon : 0.14488\n",
      "episode : 124, done reward : 0.700000025331974, total_step : 2774, cur_epsilon : 0.14452\n",
      "episode : 125, done reward : 0.8000000268220901, total_step : 2793, cur_epsilon : 0.14414000000000002\n",
      "episode : 126, done reward : 6.700000114738941, total_step : 2871, cur_epsilon : 0.14258\n",
      "episode : 127, done reward : 0.700000025331974, total_step : 2889, cur_epsilon : 0.14222\n",
      "episode : 128, done reward : 1.3000000342726707, total_step : 2913, cur_epsilon : 0.14174\n",
      "episode : 129, done reward : 1.1000000312924385, total_step : 2935, cur_epsilon : 0.1413\n",
      "episode : 130, done reward : 4.900000087916851, total_step : 2995, cur_epsilon : 0.1401\n",
      "episode : 131, done reward : 0.20000001788139343, total_step : 3008, cur_epsilon : 0.13984000000000002\n",
      "episode : 132, done reward : 0.700000025331974, total_step : 3026, cur_epsilon : 0.13948000000000002\n",
      "episode : 133, done reward : 4.800000086426735, total_step : 3085, cur_epsilon : 0.1383\n",
      "episode : 134, done reward : 3.100000061094761, total_step : 3127, cur_epsilon : 0.13746000000000003\n",
      "episode : 135, done reward : 0.10000001639127731, total_step : 3139, cur_epsilon : 0.13722\n",
      "episode : 136, done reward : 1.2000000327825546, total_step : 3162, cur_epsilon : 0.13676\n",
      "episode : 137, done reward : 1.0000000298023224, total_step : 3183, cur_epsilon : 0.13634000000000002\n",
      "episode : 138, done reward : 1.500000037252903, total_step : 3209, cur_epsilon : 0.13582\n",
      "episode : 139, done reward : 3.6000000685453415, total_step : 3256, cur_epsilon : 0.13488\n",
      "episode : 140, done reward : 2.9000000581145287, total_step : 3296, cur_epsilon : 0.13408\n",
      "episode : 141, done reward : 1.3000000342726707, total_step : 3320, cur_epsilon : 0.1336\n",
      "episode : 142, done reward : 0.9000000283122063, total_step : 3340, cur_epsilon : 0.1332\n",
      "episode : 143, done reward : 5.600000098347664, total_step : 3407, cur_epsilon : 0.13186\n",
      "episode : 144, done reward : 0.6000000238418579, total_step : 3424, cur_epsilon : 0.13152000000000003\n",
      "episode : 145, done reward : 4.800000086426735, total_step : 3483, cur_epsilon : 0.13034\n",
      "episode : 146, done reward : 4.100000075995922, total_step : 3535, cur_epsilon : 0.12930000000000003\n",
      "episode : 147, done reward : 0.10000001639127731, total_step : 3547, cur_epsilon : 0.12906\n",
      "episode : 148, done reward : 2.500000052154064, total_step : 3583, cur_epsilon : 0.12834\n",
      "episode : 149, done reward : 3.6000000685453415, total_step : 3630, cur_epsilon : 0.1274\n",
      "episode : 150, done reward : 2.9000000581145287, total_step : 3670, cur_epsilon : 0.1266\n",
      "episode : 151, done reward : 0.10000001639127731, total_step : 3682, cur_epsilon : 0.12636000000000003\n",
      "episode : 152, done reward : 1.600000038743019, total_step : 3709, cur_epsilon : 0.12582000000000002\n",
      "episode : 153, done reward : 2.9000000581145287, total_step : 3749, cur_epsilon : 0.12502000000000002\n",
      "episode : 154, done reward : 0.6000000238418579, total_step : 3766, cur_epsilon : 0.12468000000000001\n",
      "episode : 155, done reward : 0.9000000283122063, total_step : 3786, cur_epsilon : 0.12428000000000002\n",
      "episode : 156, done reward : 2.300000049173832, total_step : 3820, cur_epsilon : 0.12360000000000002\n",
      "episode : 157, done reward : 0.6000000238418579, total_step : 3837, cur_epsilon : 0.12326000000000001\n",
      "episode : 158, done reward : 0.6000000238418579, total_step : 3854, cur_epsilon : 0.12292000000000002\n",
      "episode : 159, done reward : 0.30000001937150955, total_step : 3868, cur_epsilon : 0.12264000000000001\n",
      "episode : 160, done reward : 1.500000037252903, total_step : 3894, cur_epsilon : 0.12212\n",
      "episode : 161, done reward : 3.8000000715255737, total_step : 3943, cur_epsilon : 0.12114000000000001\n",
      "episode : 162, done reward : 1.8000000417232513, total_step : 3972, cur_epsilon : 0.12056000000000001\n",
      "episode : 163, done reward : 1.500000037252903, total_step : 3998, cur_epsilon : 0.12004000000000001\n",
      "episode : 164, done reward : 1.0000000298023224, total_step : 4019, cur_epsilon : 0.11962000000000002\n",
      "episode : 165, done reward : 0.40000002086162567, total_step : 4034, cur_epsilon : 0.11932000000000001\n",
      "episode : 166, done reward : 1.8000000417232513, total_step : 4063, cur_epsilon : 0.11874000000000001\n",
      "episode : 167, done reward : 3.4000000655651093, total_step : 4108, cur_epsilon : 0.11784000000000001\n",
      "episode : 168, done reward : 1.1000000312924385, total_step : 4130, cur_epsilon : 0.1174\n",
      "episode : 169, done reward : 0.9000000283122063, total_step : 4150, cur_epsilon : 0.117\n",
      "episode : 170, done reward : 2.400000050663948, total_step : 4185, cur_epsilon : 0.11630000000000001\n",
      "episode : 171, done reward : 0.8000000268220901, total_step : 4204, cur_epsilon : 0.11592000000000001\n",
      "episode : 172, done reward : 4.4000000804662704, total_step : 4259, cur_epsilon : 0.11482\n",
      "episode : 173, done reward : 3.6000000685453415, total_step : 4306, cur_epsilon : 0.11388000000000001\n",
      "episode : 174, done reward : 3.300000064074993, total_step : 4350, cur_epsilon : 0.11300000000000002\n",
      "episode : 175, done reward : 0.9000000283122063, total_step : 4370, cur_epsilon : 0.1126\n",
      "episode : 176, done reward : 6.300000108778477, total_step : 4444, cur_epsilon : 0.11112000000000001\n",
      "episode : 177, done reward : 3.200000062584877, total_step : 4487, cur_epsilon : 0.11026000000000001\n",
      "episode : 178, done reward : 2.400000050663948, total_step : 4522, cur_epsilon : 0.10956\n",
      "episode : 179, done reward : 10.500000171363354, total_step : 4638, cur_epsilon : 0.10724000000000002\n",
      "episode : 180, done reward : 19.10000029951334, total_step : 4840, cur_epsilon : 0.10320000000000001\n",
      "episode : 181, done reward : 4.300000078976154, total_step : 4894, cur_epsilon : 0.10212000000000002\n",
      "episode : 182, done reward : 0.20000001788139343, total_step : 4907, cur_epsilon : 0.10186\n",
      "episode : 183, done reward : 0.9000000283122063, total_step : 4927, cur_epsilon : 0.10146000000000001\n",
      "episode : 184, done reward : 1.2000000327825546, total_step : 4950, cur_epsilon : 0.101\n",
      "episode : 185, done reward : 15.100000239908695, total_step : 5112, cur_epsilon : 0.09776000000000001\n",
      "episode : 186, done reward : 0.6000000238418579, total_step : 5129, cur_epsilon : 0.09742\n",
      "episode : 187, done reward : 5.100000090897083, total_step : 5191, cur_epsilon : 0.09618000000000002\n",
      "episode : 188, done reward : 0.40000002086162567, total_step : 5206, cur_epsilon : 0.09588\n",
      "episode : 189, done reward : 3.8000000715255737, total_step : 5255, cur_epsilon : 0.09490000000000001\n",
      "episode : 190, done reward : 3.90000007301569, total_step : 5305, cur_epsilon : 0.09390000000000001\n",
      "episode : 191, done reward : 0.700000025331974, total_step : 5323, cur_epsilon : 0.09354000000000001\n",
      "episode : 192, done reward : 0.8000000268220901, total_step : 5342, cur_epsilon : 0.09316\n",
      "episode : 193, done reward : 1.4901161193847656e-08, total_step : 5353, cur_epsilon : 0.09294000000000001\n",
      "episode : 194, done reward : 1.4000000357627869, total_step : 5378, cur_epsilon : 0.09244000000000001\n",
      "episode : 195, done reward : 0.40000002086162567, total_step : 5393, cur_epsilon : 0.09214000000000001\n",
      "episode : 196, done reward : 0.6000000238418579, total_step : 5410, cur_epsilon : 0.0918\n",
      "episode : 197, done reward : 1.0000000298023224, total_step : 5431, cur_epsilon : 0.09138000000000002\n",
      "episode : 198, done reward : 20.800000324845314, total_step : 5650, cur_epsilon : 0.08700000000000001\n",
      "episode : 199, done reward : 3.7000000700354576, total_step : 5698, cur_epsilon : 0.08604\n",
      "episode : 200, done reward : 0.6000000238418579, total_step : 5715, cur_epsilon : 0.08570000000000001\n",
      "episode : 201, done reward : 0.700000025331974, total_step : 5733, cur_epsilon : 0.08534000000000001\n",
      "episode : 202, done reward : 0.9000000283122063, total_step : 5753, cur_epsilon : 0.08494000000000002\n",
      "episode : 203, done reward : 1.0000000298023224, total_step : 5774, cur_epsilon : 0.08452000000000001\n",
      "episode : 204, done reward : 8.500000141561031, total_step : 5870, cur_epsilon : 0.0826\n",
      "episode : 205, done reward : 0.40000002086162567, total_step : 5885, cur_epsilon : 0.08230000000000001\n",
      "episode : 206, done reward : 1.4000000357627869, total_step : 5910, cur_epsilon : 0.08180000000000001\n",
      "episode : 207, done reward : 3.5000000670552254, total_step : 5956, cur_epsilon : 0.08088000000000001\n",
      "episode : 208, done reward : 2.7000000551342964, total_step : 5994, cur_epsilon : 0.08012000000000001\n",
      "episode : 209, done reward : 4.600000083446503, total_step : 6051, cur_epsilon : 0.07898000000000001\n",
      "episode : 210, done reward : 3.200000062584877, total_step : 6094, cur_epsilon : 0.07812000000000001\n",
      "episode : 211, done reward : 2.6000000536441803, total_step : 6131, cur_epsilon : 0.07738\n",
      "episode : 212, done reward : 0.8000000268220901, total_step : 6150, cur_epsilon : 0.07700000000000001\n",
      "episode : 213, done reward : 3.200000062584877, total_step : 6193, cur_epsilon : 0.07614000000000001\n",
      "episode : 214, done reward : 12.700000204145908, total_step : 6331, cur_epsilon : 0.07338\n",
      "episode : 215, done reward : 6.800000116229057, total_step : 6410, cur_epsilon : 0.0718\n",
      "episode : 216, done reward : 5.3000000938773155, total_step : 6474, cur_epsilon : 0.07052\n",
      "episode : 217, done reward : 7.0000001192092896, total_step : 6555, cur_epsilon : 0.06890000000000002\n",
      "episode : 218, done reward : 0.9000000283122063, total_step : 6575, cur_epsilon : 0.0685\n",
      "episode : 219, done reward : 0.9000000283122063, total_step : 6595, cur_epsilon : 0.06810000000000002\n",
      "episode : 220, done reward : 0.30000001937150955, total_step : 6609, cur_epsilon : 0.06782000000000002\n",
      "episode : 221, done reward : 0.8000000268220901, total_step : 6628, cur_epsilon : 0.06744\n",
      "episode : 222, done reward : 12.40000019967556, total_step : 6763, cur_epsilon : 0.06474000000000002\n",
      "episode : 223, done reward : 3.4000000655651093, total_step : 6808, cur_epsilon : 0.06384000000000001\n",
      "episode : 224, done reward : 15.400000244379044, total_step : 6973, cur_epsilon : 0.06054000000000001\n",
      "episode : 225, done reward : 3.0000000596046448, total_step : 7014, cur_epsilon : 0.05972000000000002\n",
      "episode : 226, done reward : 0.9000000283122063, total_step : 7034, cur_epsilon : 0.05932000000000001\n",
      "episode : 227, done reward : 0.8000000268220901, total_step : 7053, cur_epsilon : 0.05894000000000002\n",
      "episode : 228, done reward : 8.400000140070915, total_step : 7148, cur_epsilon : 0.05704000000000001\n",
      "episode : 229, done reward : 11.500000186264515, total_step : 7274, cur_epsilon : 0.05452000000000001\n",
      "episode : 230, done reward : 8.100000135600567, total_step : 7366, cur_epsilon : 0.052680000000000005\n",
      "episode : 231, done reward : 0.40000002086162567, total_step : 7381, cur_epsilon : 0.05238000000000001\n",
      "episode : 232, done reward : 3.5000000670552254, total_step : 7427, cur_epsilon : 0.051460000000000006\n",
      "episode : 233, done reward : 0.8000000268220901, total_step : 7446, cur_epsilon : 0.051080000000000014\n",
      "episode : 234, done reward : 0.8000000268220901, total_step : 7465, cur_epsilon : 0.05070000000000002\n",
      "episode : 235, done reward : 11.800000190734863, total_step : 7594, cur_epsilon : 0.048120000000000024\n",
      "episode : 236, done reward : 0.5000000223517418, total_step : 7610, cur_epsilon : 0.04780000000000001\n",
      "episode : 237, done reward : 0.9000000283122063, total_step : 7630, cur_epsilon : 0.0474\n",
      "episode : 238, done reward : 8.900000147521496, total_step : 7730, cur_epsilon : 0.045400000000000024\n",
      "episode : 239, done reward : 10.300000168383121, total_step : 7844, cur_epsilon : 0.04312000000000002\n",
      "episode : 240, done reward : 0.6000000238418579, total_step : 7861, cur_epsilon : 0.04278000000000001\n",
      "episode : 241, done reward : 0.10000001639127731, total_step : 7873, cur_epsilon : 0.04254000000000002\n",
      "episode : 242, done reward : 3.6000000685453415, total_step : 7920, cur_epsilon : 0.0416\n",
      "episode : 243, done reward : 0.6000000238418579, total_step : 7937, cur_epsilon : 0.04126000000000002\n",
      "episode : 244, done reward : 4.500000081956387, total_step : 7993, cur_epsilon : 0.04014000000000001\n",
      "episode : 245, done reward : 7.0000001192092896, total_step : 8074, cur_epsilon : 0.03852\n",
      "episode : 246, done reward : 6.900000117719173, total_step : 8154, cur_epsilon : 0.03692000000000001\n",
      "episode : 247, done reward : 4.200000077486038, total_step : 8207, cur_epsilon : 0.03586\n",
      "episode : 248, done reward : 0.700000025331974, total_step : 8225, cur_epsilon : 0.035500000000000004\n",
      "episode : 249, done reward : 8.200000137090683, total_step : 8318, cur_epsilon : 0.03364\n",
      "episode : 250, done reward : 1.0000000298023224, total_step : 8339, cur_epsilon : 0.03322\n",
      "episode : 251, done reward : 0.20000001788139343, total_step : 8352, cur_epsilon : 0.03296000000000002\n",
      "episode : 252, done reward : 0.40000002086162567, total_step : 8367, cur_epsilon : 0.03266000000000002\n",
      "episode : 253, done reward : 0.40000002086162567, total_step : 8382, cur_epsilon : 0.03236\n",
      "episode : 254, done reward : 2.400000050663948, total_step : 8417, cur_epsilon : 0.03166000000000002\n",
      "episode : 255, done reward : 8.80000014603138, total_step : 8516, cur_epsilon : 0.029680000000000012\n",
      "episode : 256, done reward : 0.9000000283122063, total_step : 8536, cur_epsilon : 0.02928\n",
      "episode : 257, done reward : 3.100000061094761, total_step : 8578, cur_epsilon : 0.02844000000000002\n",
      "episode : 258, done reward : 7.8000001311302185, total_step : 8667, cur_epsilon : 0.026660000000000017\n",
      "episode : 259, done reward : 0.40000002086162567, total_step : 8682, cur_epsilon : 0.026360000000000022\n",
      "episode : 260, done reward : 6.200000107288361, total_step : 8755, cur_epsilon : 0.024900000000000005\n",
      "episode : 261, done reward : 0.6000000238418579, total_step : 8772, cur_epsilon : 0.02456\n",
      "episode : 262, done reward : 3.8000000715255737, total_step : 8821, cur_epsilon : 0.023580000000000018\n",
      "episode : 263, done reward : 6.900000117719173, total_step : 8901, cur_epsilon : 0.02198\n",
      "episode : 264, done reward : 1.0000000298023224, total_step : 8922, cur_epsilon : 0.021560000000000024\n",
      "episode : 265, done reward : 1.4000000357627869, total_step : 8947, cur_epsilon : 0.021060000000000023\n",
      "episode : 266, done reward : 0.6000000238418579, total_step : 8964, cur_epsilon : 0.020720000000000016\n",
      "episode : 267, done reward : 7.400000125169754, total_step : 9049, cur_epsilon : 0.01902000000000001\n",
      "episode : 268, done reward : 8.100000135600567, total_step : 9141, cur_epsilon : 0.01718\n",
      "episode : 269, done reward : 0.30000001937150955, total_step : 9155, cur_epsilon : 0.0169\n",
      "episode : 270, done reward : 2.0000000447034836, total_step : 9186, cur_epsilon : 0.016280000000000017\n",
      "episode : 271, done reward : 0.5000000223517418, total_step : 9202, cur_epsilon : 0.015960000000000002\n",
      "episode : 272, done reward : 6.200000107288361, total_step : 9275, cur_epsilon : 0.014500000000000013\n",
      "episode : 273, done reward : 7.700000129640102, total_step : 9363, cur_epsilon : 0.012740000000000001\n",
      "episode : 274, done reward : 4.300000078976154, total_step : 9417, cur_epsilon : 0.011660000000000004\n",
      "episode : 275, done reward : 2.200000047683716, total_step : 9450, cur_epsilon : 0.01100000000000001\n",
      "episode : 276, done reward : 7.300000123679638, total_step : 9534, cur_epsilon : 0.009320000000000023\n",
      "episode : 277, done reward : 7.8000001311302185, total_step : 9623, cur_epsilon : 0.007540000000000019\n",
      "episode : 278, done reward : 3.8000000715255737, total_step : 9672, cur_epsilon : 0.00656000000000001\n",
      "episode : 279, done reward : 8.900000147521496, total_step : 9772, cur_epsilon : 0.0045600000000000085\n",
      "episode : 280, done reward : 11.000000178813934, total_step : 9893, cur_epsilon : 0.002140000000000003\n",
      "episode : 281, done reward : 6.600000113248825, total_step : 9970, cur_epsilon : 0.002\n",
      "episode : 282, done reward : 7.900000132620335, total_step : 10060, cur_epsilon : 0.002\n",
      "episode : 283, done reward : 1.2000000327825546, total_step : 10083, cur_epsilon : 0.002\n",
      "episode : 284, done reward : 0.30000001937150955, total_step : 10097, cur_epsilon : 0.002\n",
      "episode : 285, done reward : 8.400000140070915, total_step : 10192, cur_epsilon : 0.002\n",
      "episode : 286, done reward : 9.000000149011612, total_step : 10293, cur_epsilon : 0.002\n",
      "episode : 287, done reward : 10.500000171363354, total_step : 10409, cur_epsilon : 0.002\n",
      "episode : 288, done reward : 0.700000025331974, total_step : 10427, cur_epsilon : 0.002\n",
      "episode : 289, done reward : 0.10000001639127731, total_step : 10439, cur_epsilon : 0.002\n",
      "episode : 290, done reward : 7.900000132620335, total_step : 10529, cur_epsilon : 0.002\n",
      "episode : 291, done reward : 5.100000090897083, total_step : 10591, cur_epsilon : 0.002\n",
      "episode : 292, done reward : 9.400000154972076, total_step : 10696, cur_epsilon : 0.002\n",
      "episode : 293, done reward : 1.4901161193847656e-08, total_step : 10707, cur_epsilon : 0.002\n",
      "episode : 294, done reward : 0.40000002086162567, total_step : 10722, cur_epsilon : 0.002\n",
      "episode : 295, done reward : 0.30000001937150955, total_step : 10736, cur_epsilon : 0.002\n",
      "episode : 296, done reward : 0.40000002086162567, total_step : 10751, cur_epsilon : 0.002\n",
      "episode : 297, done reward : 0.20000001788139343, total_step : 10764, cur_epsilon : 0.002\n",
      "episode : 298, done reward : 5.800000101327896, total_step : 10833, cur_epsilon : 0.002\n",
      "episode : 299, done reward : 7.400000125169754, total_step : 10918, cur_epsilon : 0.002\n",
      "episode : 300, done reward : 9.000000149011612, total_step : 11019, cur_epsilon : 0.002\n",
      "episode : 301, done reward : 9.900000162422657, total_step : 11129, cur_epsilon : 0.002\n",
      "episode : 302, done reward : 10.10000016540289, total_step : 11241, cur_epsilon : 0.002\n",
      "episode : 303, done reward : 5.900000102818012, total_step : 11311, cur_epsilon : 0.002\n",
      "episode : 304, done reward : 10.10000016540289, total_step : 11423, cur_epsilon : 0.002\n",
      "episode : 305, done reward : 10.60000017285347, total_step : 11540, cur_epsilon : 0.002\n",
      "episode : 306, done reward : 9.600000157952309, total_step : 11647, cur_epsilon : 0.002\n",
      "episode : 307, done reward : 7.700000129640102, total_step : 11735, cur_epsilon : 0.002\n",
      "episode : 308, done reward : 0.9000000283122063, total_step : 11755, cur_epsilon : 0.002\n",
      "episode : 309, done reward : 11.000000178813934, total_step : 11876, cur_epsilon : 0.002\n",
      "episode : 310, done reward : 1.500000037252903, total_step : 11902, cur_epsilon : 0.002\n",
      "episode : 311, done reward : 6.200000107288361, total_step : 11975, cur_epsilon : 0.002\n",
      "episode : 312, done reward : 1.4000000357627869, total_step : 12000, cur_epsilon : 0.002\n",
      "episode : 313, done reward : 8.80000014603138, total_step : 12099, cur_epsilon : 0.002\n",
      "episode : 314, done reward : 9.30000015348196, total_step : 12203, cur_epsilon : 0.002\n",
      "episode : 315, done reward : 6.800000116229057, total_step : 12282, cur_epsilon : 0.002\n",
      "episode : 316, done reward : 8.00000013411045, total_step : 12373, cur_epsilon : 0.002\n",
      "episode : 317, done reward : 1.2000000327825546, total_step : 12396, cur_epsilon : 0.002\n",
      "episode : 318, done reward : 3.5000000670552254, total_step : 12442, cur_epsilon : 0.002\n",
      "episode : 319, done reward : 0.5000000223517418, total_step : 12458, cur_epsilon : 0.002\n",
      "episode : 320, done reward : 7.8000001311302185, total_step : 12547, cur_epsilon : 0.002\n",
      "episode : 321, done reward : 6.200000107288361, total_step : 12620, cur_epsilon : 0.002\n",
      "episode : 322, done reward : 8.600000143051147, total_step : 12717, cur_epsilon : 0.002\n",
      "episode : 323, done reward : 9.800000160932541, total_step : 12826, cur_epsilon : 0.002\n",
      "episode : 324, done reward : 1.1000000312924385, total_step : 12848, cur_epsilon : 0.002\n",
      "episode : 325, done reward : 8.400000140070915, total_step : 12943, cur_epsilon : 0.002\n",
      "episode : 326, done reward : 1.2000000327825546, total_step : 12966, cur_epsilon : 0.002\n",
      "episode : 327, done reward : 8.80000014603138, total_step : 13065, cur_epsilon : 0.002\n",
      "episode : 328, done reward : 8.600000143051147, total_step : 13162, cur_epsilon : 0.002\n",
      "episode : 329, done reward : 9.200000151991844, total_step : 13265, cur_epsilon : 0.002\n",
      "episode : 330, done reward : 5.100000090897083, total_step : 13327, cur_epsilon : 0.002\n",
      "episode : 331, done reward : 3.200000062584877, total_step : 13370, cur_epsilon : 0.002\n",
      "episode : 332, done reward : 4.4000000804662704, total_step : 13425, cur_epsilon : 0.002\n",
      "episode : 333, done reward : 1.2000000327825546, total_step : 13448, cur_epsilon : 0.002\n",
      "episode : 334, done reward : 5.3000000938773155, total_step : 13512, cur_epsilon : 0.002\n",
      "episode : 335, done reward : 3.100000061094761, total_step : 13554, cur_epsilon : 0.002\n",
      "episode : 336, done reward : 10.300000168383121, total_step : 13668, cur_epsilon : 0.002\n",
      "episode : 337, done reward : 4.800000086426735, total_step : 13727, cur_epsilon : 0.002\n",
      "episode : 338, done reward : 9.200000151991844, total_step : 13830, cur_epsilon : 0.002\n",
      "episode : 339, done reward : 10.000000163912773, total_step : 13941, cur_epsilon : 0.002\n",
      "episode : 340, done reward : 10.800000175833702, total_step : 14060, cur_epsilon : 0.002\n",
      "episode : 341, done reward : 10.500000171363354, total_step : 14176, cur_epsilon : 0.002\n",
      "episode : 342, done reward : 7.200000122189522, total_step : 14259, cur_epsilon : 0.002\n",
      "episode : 343, done reward : 14.20000022649765, total_step : 14412, cur_epsilon : 0.002\n",
      "episode : 344, done reward : 6.000000104308128, total_step : 14483, cur_epsilon : 0.002\n",
      "episode : 345, done reward : 1.500000037252903, total_step : 14509, cur_epsilon : 0.002\n",
      "episode : 346, done reward : 0.10000001639127731, total_step : 14521, cur_epsilon : 0.002\n",
      "episode : 347, done reward : 12.40000019967556, total_step : 14656, cur_epsilon : 0.002\n",
      "episode : 348, done reward : 10.200000166893005, total_step : 14769, cur_epsilon : 0.002\n",
      "episode : 349, done reward : 1.500000037252903, total_step : 14795, cur_epsilon : 0.002\n",
      "episode : 350, done reward : 14.20000022649765, total_step : 14948, cur_epsilon : 0.002\n",
      "episode : 351, done reward : 0.40000002086162567, total_step : 14963, cur_epsilon : 0.002\n",
      "episode : 352, done reward : 18.000000283122063, total_step : 15154, cur_epsilon : 0.002\n",
      "episode : 353, done reward : 17.0000002682209, total_step : 15335, cur_epsilon : 0.002\n",
      "episode : 354, done reward : 24.100000374019146, total_step : 15587, cur_epsilon : 0.002\n",
      "episode : 355, done reward : 55.50000084191561, total_step : 16153, cur_epsilon : 0.002\n",
      "episode : 356, done reward : 100.00000149011612, total_step : 17153, cur_epsilon : 0.002\n",
      "episode : 357, done reward : 100.00000149011612, total_step : 18153, cur_epsilon : 0.002\n",
      "episode : 358, done reward : 100.00000149011612, total_step : 19153, cur_epsilon : 0.002\n",
      "episode : 359, done reward : 100.00000149011612, total_step : 20153, cur_epsilon : 0.002\n"
     ]
    },
    {
     "ename": "KeyboardInterrupt",
     "evalue": "",
     "output_type": "error",
     "traceback": [
      "\u001b[0;31m---------------------------------------------------------------------------\u001b[0m",
      "\u001b[0;31mKeyboardInterrupt\u001b[0m                         Traceback (most recent call last)",
      "Cell \u001b[0;32mIn[46], line 11\u001b[0m\n\u001b[1;32m      8\u001b[0m \u001b[38;5;28;01mwhile\u001b[39;00m \u001b[38;5;28;01mTrue\u001b[39;00m:\n\u001b[1;32m     10\u001b[0m     \u001b[38;5;28;01mfor\u001b[39;00m stp \u001b[38;5;129;01min\u001b[39;00m \u001b[38;5;28mrange\u001b[39m(\u001b[38;5;241m1\u001b[39m):\n\u001b[0;32m---> 11\u001b[0m         done_reward \u001b[38;5;241m=\u001b[39m \u001b[43magent\u001b[49m\u001b[38;5;241;43m.\u001b[39;49m\u001b[43mplay_step\u001b[49m\u001b[43m(\u001b[49m\u001b[43m)\u001b[49m\n\u001b[1;32m     12\u001b[0m         \u001b[38;5;28;01mif\u001b[39;00m done_reward \u001b[38;5;129;01mis\u001b[39;00m \u001b[38;5;129;01mnot\u001b[39;00m \u001b[38;5;28;01mNone\u001b[39;00m:\n\u001b[1;32m     13\u001b[0m             \u001b[38;5;28mprint\u001b[39m(\u001b[38;5;124mf\u001b[39m\u001b[38;5;124m'\u001b[39m\u001b[38;5;124mepisode : \u001b[39m\u001b[38;5;132;01m{\u001b[39;00mepisode\u001b[38;5;132;01m}\u001b[39;00m\u001b[38;5;124m, done reward : \u001b[39m\u001b[38;5;132;01m{\u001b[39;00mdone_reward\u001b[38;5;132;01m}\u001b[39;00m\u001b[38;5;124m, total_step : \u001b[39m\u001b[38;5;132;01m{\u001b[39;00magent\u001b[38;5;241m.\u001b[39m_total_step\u001b[38;5;132;01m}\u001b[39;00m\u001b[38;5;124m, cur_epsilon : \u001b[39m\u001b[38;5;132;01m{\u001b[39;00magent\u001b[38;5;241m.\u001b[39m_epsilon\u001b[38;5;132;01m}\u001b[39;00m\u001b[38;5;124m'\u001b[39m)\n",
      "File \u001b[0;32m~/.cache/pypoetry/virtualenvs/mlagent-learn-20-test-54-2MrXv-py3.9/lib/python3.9/site-packages/torch/autograd/grad_mode.py:27\u001b[0m, in \u001b[0;36m_DecoratorContextManager.__call__.<locals>.decorate_context\u001b[0;34m(*args, **kwargs)\u001b[0m\n\u001b[1;32m     24\u001b[0m \u001b[38;5;129m@functools\u001b[39m\u001b[38;5;241m.\u001b[39mwraps(func)\n\u001b[1;32m     25\u001b[0m \u001b[38;5;28;01mdef\u001b[39;00m \u001b[38;5;21mdecorate_context\u001b[39m(\u001b[38;5;241m*\u001b[39margs, \u001b[38;5;241m*\u001b[39m\u001b[38;5;241m*\u001b[39mkwargs):\n\u001b[1;32m     26\u001b[0m     \u001b[38;5;28;01mwith\u001b[39;00m \u001b[38;5;28mself\u001b[39m\u001b[38;5;241m.\u001b[39mclone():\n\u001b[0;32m---> 27\u001b[0m         \u001b[38;5;28;01mreturn\u001b[39;00m \u001b[43mfunc\u001b[49m\u001b[43m(\u001b[49m\u001b[38;5;241;43m*\u001b[39;49m\u001b[43margs\u001b[49m\u001b[43m,\u001b[49m\u001b[43m \u001b[49m\u001b[38;5;241;43m*\u001b[39;49m\u001b[38;5;241;43m*\u001b[39;49m\u001b[43mkwargs\u001b[49m\u001b[43m)\u001b[49m\n",
      "Cell \u001b[0;32mIn[8], line 67\u001b[0m, in \u001b[0;36mAgent.play_step\u001b[0;34m(self, epsilon, sync_target)\u001b[0m\n\u001b[1;32m     64\u001b[0m     action \u001b[38;5;241m=\u001b[39m mu_v\u001b[38;5;241m.\u001b[39msqueeze(dim\u001b[38;5;241m=\u001b[39m\u001b[38;5;241m0\u001b[39m)\u001b[38;5;241m.\u001b[39mdata\u001b[38;5;241m.\u001b[39mcpu()\u001b[38;5;241m.\u001b[39mnumpy()\n\u001b[1;32m     65\u001b[0m     action \u001b[38;5;241m=\u001b[39m np\u001b[38;5;241m.\u001b[39mclip(action, \u001b[38;5;241m-\u001b[39m\u001b[38;5;241m1\u001b[39m, \u001b[38;5;241m1\u001b[39m)\n\u001b[0;32m---> 67\u001b[0m next_state, reward, is_done, _ \u001b[38;5;241m=\u001b[39m \u001b[38;5;28;43mself\u001b[39;49m\u001b[38;5;241;43m.\u001b[39;49m\u001b[43m_env\u001b[49m\u001b[38;5;241;43m.\u001b[39;49m\u001b[43mstep\u001b[49m\u001b[43m(\u001b[49m\u001b[43maction\u001b[49m\u001b[43m)\u001b[49m\n\u001b[1;32m     68\u001b[0m \u001b[38;5;28mself\u001b[39m\u001b[38;5;241m.\u001b[39m_total_reward \u001b[38;5;241m+\u001b[39m\u001b[38;5;241m=\u001b[39m reward\n\u001b[1;32m     70\u001b[0m \u001b[38;5;28mself\u001b[39m\u001b[38;5;241m.\u001b[39m_exp_buffer\u001b[38;5;241m.\u001b[39mappend(\n\u001b[1;32m     71\u001b[0m     \u001b[38;5;28mself\u001b[39m\u001b[38;5;241m.\u001b[39m_state, action, reward, is_done, next_state\n\u001b[1;32m     72\u001b[0m )\n",
      "Cell \u001b[0;32mIn[9], line 10\u001b[0m, in \u001b[0;36mUnityToGymNumpyWrapper.step\u001b[0;34m(self, *args, **kwargs)\u001b[0m\n\u001b[1;32m      9\u001b[0m \u001b[38;5;28;01mdef\u001b[39;00m \u001b[38;5;21mstep\u001b[39m(\u001b[38;5;28mself\u001b[39m, \u001b[38;5;241m*\u001b[39margs, \u001b[38;5;241m*\u001b[39m\u001b[38;5;241m*\u001b[39mkwargs):\n\u001b[0;32m---> 10\u001b[0m     next_state, reward, is_done, info \u001b[38;5;241m=\u001b[39m \u001b[38;5;28;43msuper\u001b[39;49m\u001b[43m(\u001b[49m\u001b[43m)\u001b[49m\u001b[38;5;241;43m.\u001b[39;49m\u001b[43mstep\u001b[49m\u001b[43m(\u001b[49m\u001b[38;5;241;43m*\u001b[39;49m\u001b[43margs\u001b[49m\u001b[43m,\u001b[49m\u001b[43m \u001b[49m\u001b[38;5;241;43m*\u001b[39;49m\u001b[38;5;241;43m*\u001b[39;49m\u001b[43mkwargs\u001b[49m\u001b[43m)\u001b[49m\n\u001b[1;32m     11\u001b[0m     \u001b[38;5;28;01mreturn\u001b[39;00m np\u001b[38;5;241m.\u001b[39marray(next_state[\u001b[38;5;241m0\u001b[39m]), reward, is_done, info\n",
      "File \u001b[0;32m/mnt/d/Program Files/Unity/ml-agents-release_20/ml-agents-envs/mlagents_envs/envs/unity_gym_env.py:200\u001b[0m, in \u001b[0;36mUnityToGymWrapper.step\u001b[0;34m(self, action)\u001b[0m\n\u001b[1;32m    197\u001b[0m     action_tuple\u001b[38;5;241m.\u001b[39madd_discrete(action)\n\u001b[1;32m    198\u001b[0m \u001b[38;5;28mself\u001b[39m\u001b[38;5;241m.\u001b[39m_env\u001b[38;5;241m.\u001b[39mset_actions(\u001b[38;5;28mself\u001b[39m\u001b[38;5;241m.\u001b[39mname, action_tuple)\n\u001b[0;32m--> 200\u001b[0m \u001b[38;5;28;43mself\u001b[39;49m\u001b[38;5;241;43m.\u001b[39;49m\u001b[43m_env\u001b[49m\u001b[38;5;241;43m.\u001b[39;49m\u001b[43mstep\u001b[49m\u001b[43m(\u001b[49m\u001b[43m)\u001b[49m\n\u001b[1;32m    201\u001b[0m decision_step, terminal_step \u001b[38;5;241m=\u001b[39m \u001b[38;5;28mself\u001b[39m\u001b[38;5;241m.\u001b[39m_env\u001b[38;5;241m.\u001b[39mget_steps(\u001b[38;5;28mself\u001b[39m\u001b[38;5;241m.\u001b[39mname)\n\u001b[1;32m    202\u001b[0m \u001b[38;5;28mself\u001b[39m\u001b[38;5;241m.\u001b[39m_check_agents(\u001b[38;5;28mmax\u001b[39m(\u001b[38;5;28mlen\u001b[39m(decision_step), \u001b[38;5;28mlen\u001b[39m(terminal_step)))\n",
      "File \u001b[0;32m/mnt/d/Program Files/Unity/ml-agents-release_20/ml-agents-envs/mlagents_envs/timers.py:305\u001b[0m, in \u001b[0;36mtimed.<locals>.wrapped\u001b[0;34m(*args, **kwargs)\u001b[0m\n\u001b[1;32m    303\u001b[0m \u001b[38;5;28;01mdef\u001b[39;00m \u001b[38;5;21mwrapped\u001b[39m(\u001b[38;5;241m*\u001b[39margs, \u001b[38;5;241m*\u001b[39m\u001b[38;5;241m*\u001b[39mkwargs):\n\u001b[1;32m    304\u001b[0m     \u001b[38;5;28;01mwith\u001b[39;00m hierarchical_timer(func\u001b[38;5;241m.\u001b[39m\u001b[38;5;18m__qualname__\u001b[39m):\n\u001b[0;32m--> 305\u001b[0m         \u001b[38;5;28;01mreturn\u001b[39;00m \u001b[43mfunc\u001b[49m\u001b[43m(\u001b[49m\u001b[38;5;241;43m*\u001b[39;49m\u001b[43margs\u001b[49m\u001b[43m,\u001b[49m\u001b[43m \u001b[49m\u001b[38;5;241;43m*\u001b[39;49m\u001b[38;5;241;43m*\u001b[39;49m\u001b[43mkwargs\u001b[49m\u001b[43m)\u001b[49m\n",
      "File \u001b[0;32m/mnt/d/Program Files/Unity/ml-agents-release_20/ml-agents-envs/mlagents_envs/environment.py:348\u001b[0m, in \u001b[0;36mUnityEnvironment.step\u001b[0;34m(self)\u001b[0m\n\u001b[1;32m    346\u001b[0m step_input \u001b[38;5;241m=\u001b[39m \u001b[38;5;28mself\u001b[39m\u001b[38;5;241m.\u001b[39m_generate_step_input(\u001b[38;5;28mself\u001b[39m\u001b[38;5;241m.\u001b[39m_env_actions)\n\u001b[1;32m    347\u001b[0m \u001b[38;5;28;01mwith\u001b[39;00m hierarchical_timer(\u001b[38;5;124m\"\u001b[39m\u001b[38;5;124mcommunicator.exchange\u001b[39m\u001b[38;5;124m\"\u001b[39m):\n\u001b[0;32m--> 348\u001b[0m     outputs \u001b[38;5;241m=\u001b[39m \u001b[38;5;28;43mself\u001b[39;49m\u001b[38;5;241;43m.\u001b[39;49m\u001b[43m_communicator\u001b[49m\u001b[38;5;241;43m.\u001b[39;49m\u001b[43mexchange\u001b[49m\u001b[43m(\u001b[49m\u001b[43mstep_input\u001b[49m\u001b[43m,\u001b[49m\u001b[43m \u001b[49m\u001b[38;5;28;43mself\u001b[39;49m\u001b[38;5;241;43m.\u001b[39;49m\u001b[43m_poll_process\u001b[49m\u001b[43m)\u001b[49m\n\u001b[1;32m    349\u001b[0m \u001b[38;5;28;01mif\u001b[39;00m outputs \u001b[38;5;129;01mis\u001b[39;00m \u001b[38;5;28;01mNone\u001b[39;00m:\n\u001b[1;32m    350\u001b[0m     \u001b[38;5;28;01mraise\u001b[39;00m UnityCommunicatorStoppedException(\u001b[38;5;124m\"\u001b[39m\u001b[38;5;124mCommunicator has exited.\u001b[39m\u001b[38;5;124m\"\u001b[39m)\n",
      "File \u001b[0;32m/mnt/d/Program Files/Unity/ml-agents-release_20/ml-agents-envs/mlagents_envs/rpc_communicator.py:142\u001b[0m, in \u001b[0;36mRpcCommunicator.exchange\u001b[0;34m(self, inputs, poll_callback)\u001b[0m\n\u001b[1;32m    140\u001b[0m message\u001b[38;5;241m.\u001b[39munity_input\u001b[38;5;241m.\u001b[39mCopyFrom(inputs)\n\u001b[1;32m    141\u001b[0m \u001b[38;5;28mself\u001b[39m\u001b[38;5;241m.\u001b[39munity_to_external\u001b[38;5;241m.\u001b[39mparent_conn\u001b[38;5;241m.\u001b[39msend(message)\n\u001b[0;32m--> 142\u001b[0m \u001b[38;5;28;43mself\u001b[39;49m\u001b[38;5;241;43m.\u001b[39;49m\u001b[43mpoll_for_timeout\u001b[49m\u001b[43m(\u001b[49m\u001b[43mpoll_callback\u001b[49m\u001b[43m)\u001b[49m\n\u001b[1;32m    143\u001b[0m output \u001b[38;5;241m=\u001b[39m \u001b[38;5;28mself\u001b[39m\u001b[38;5;241m.\u001b[39munity_to_external\u001b[38;5;241m.\u001b[39mparent_conn\u001b[38;5;241m.\u001b[39mrecv()\n\u001b[1;32m    144\u001b[0m \u001b[38;5;28;01mif\u001b[39;00m output\u001b[38;5;241m.\u001b[39mheader\u001b[38;5;241m.\u001b[39mstatus \u001b[38;5;241m!=\u001b[39m \u001b[38;5;241m200\u001b[39m:\n",
      "File \u001b[0;32m/mnt/d/Program Files/Unity/ml-agents-release_20/ml-agents-envs/mlagents_envs/rpc_communicator.py:106\u001b[0m, in \u001b[0;36mRpcCommunicator.poll_for_timeout\u001b[0;34m(self, poll_callback)\u001b[0m\n\u001b[1;32m    104\u001b[0m callback_timeout_wait \u001b[38;5;241m=\u001b[39m \u001b[38;5;28mself\u001b[39m\u001b[38;5;241m.\u001b[39mtimeout_wait \u001b[38;5;241m/\u001b[39m\u001b[38;5;241m/\u001b[39m \u001b[38;5;241m10\u001b[39m\n\u001b[1;32m    105\u001b[0m \u001b[38;5;28;01mwhile\u001b[39;00m time\u001b[38;5;241m.\u001b[39mmonotonic() \u001b[38;5;241m<\u001b[39m deadline:\n\u001b[0;32m--> 106\u001b[0m     \u001b[38;5;28;01mif\u001b[39;00m \u001b[38;5;28;43mself\u001b[39;49m\u001b[38;5;241;43m.\u001b[39;49m\u001b[43munity_to_external\u001b[49m\u001b[38;5;241;43m.\u001b[39;49m\u001b[43mparent_conn\u001b[49m\u001b[38;5;241;43m.\u001b[39;49m\u001b[43mpoll\u001b[49m\u001b[43m(\u001b[49m\u001b[43mcallback_timeout_wait\u001b[49m\u001b[43m)\u001b[49m:\n\u001b[1;32m    107\u001b[0m         \u001b[38;5;66;03m# Got an acknowledgment from the connection\u001b[39;00m\n\u001b[1;32m    108\u001b[0m         \u001b[38;5;28;01mreturn\u001b[39;00m\n\u001b[1;32m    109\u001b[0m     \u001b[38;5;28;01mif\u001b[39;00m poll_callback:\n\u001b[1;32m    110\u001b[0m         \u001b[38;5;66;03m# Fire the callback - if it detects something wrong, it should raise an exception.\u001b[39;00m\n",
      "File \u001b[0;32m/usr/lib/python3.9/multiprocessing/connection.py:262\u001b[0m, in \u001b[0;36m_ConnectionBase.poll\u001b[0;34m(self, timeout)\u001b[0m\n\u001b[1;32m    260\u001b[0m \u001b[38;5;28mself\u001b[39m\u001b[38;5;241m.\u001b[39m_check_closed()\n\u001b[1;32m    261\u001b[0m \u001b[38;5;28mself\u001b[39m\u001b[38;5;241m.\u001b[39m_check_readable()\n\u001b[0;32m--> 262\u001b[0m \u001b[38;5;28;01mreturn\u001b[39;00m \u001b[38;5;28;43mself\u001b[39;49m\u001b[38;5;241;43m.\u001b[39;49m\u001b[43m_poll\u001b[49m\u001b[43m(\u001b[49m\u001b[43mtimeout\u001b[49m\u001b[43m)\u001b[49m\n",
      "File \u001b[0;32m/usr/lib/python3.9/multiprocessing/connection.py:429\u001b[0m, in \u001b[0;36mConnection._poll\u001b[0;34m(self, timeout)\u001b[0m\n\u001b[1;32m    428\u001b[0m \u001b[38;5;28;01mdef\u001b[39;00m \u001b[38;5;21m_poll\u001b[39m(\u001b[38;5;28mself\u001b[39m, timeout):\n\u001b[0;32m--> 429\u001b[0m     r \u001b[38;5;241m=\u001b[39m \u001b[43mwait\u001b[49m\u001b[43m(\u001b[49m\u001b[43m[\u001b[49m\u001b[38;5;28;43mself\u001b[39;49m\u001b[43m]\u001b[49m\u001b[43m,\u001b[49m\u001b[43m \u001b[49m\u001b[43mtimeout\u001b[49m\u001b[43m)\u001b[49m\n\u001b[1;32m    430\u001b[0m     \u001b[38;5;28;01mreturn\u001b[39;00m \u001b[38;5;28mbool\u001b[39m(r)\n",
      "File \u001b[0;32m/usr/lib/python3.9/multiprocessing/connection.py:936\u001b[0m, in \u001b[0;36mwait\u001b[0;34m(object_list, timeout)\u001b[0m\n\u001b[1;32m    933\u001b[0m     deadline \u001b[38;5;241m=\u001b[39m time\u001b[38;5;241m.\u001b[39mmonotonic() \u001b[38;5;241m+\u001b[39m timeout\n\u001b[1;32m    935\u001b[0m \u001b[38;5;28;01mwhile\u001b[39;00m \u001b[38;5;28;01mTrue\u001b[39;00m:\n\u001b[0;32m--> 936\u001b[0m     ready \u001b[38;5;241m=\u001b[39m \u001b[43mselector\u001b[49m\u001b[38;5;241;43m.\u001b[39;49m\u001b[43mselect\u001b[49m\u001b[43m(\u001b[49m\u001b[43mtimeout\u001b[49m\u001b[43m)\u001b[49m\n\u001b[1;32m    937\u001b[0m     \u001b[38;5;28;01mif\u001b[39;00m ready:\n\u001b[1;32m    938\u001b[0m         \u001b[38;5;28;01mreturn\u001b[39;00m [key\u001b[38;5;241m.\u001b[39mfileobj \u001b[38;5;28;01mfor\u001b[39;00m (key, events) \u001b[38;5;129;01min\u001b[39;00m ready]\n",
      "File \u001b[0;32m/usr/lib/python3.9/selectors.py:416\u001b[0m, in \u001b[0;36m_PollLikeSelector.select\u001b[0;34m(self, timeout)\u001b[0m\n\u001b[1;32m    414\u001b[0m ready \u001b[38;5;241m=\u001b[39m []\n\u001b[1;32m    415\u001b[0m \u001b[38;5;28;01mtry\u001b[39;00m:\n\u001b[0;32m--> 416\u001b[0m     fd_event_list \u001b[38;5;241m=\u001b[39m \u001b[38;5;28;43mself\u001b[39;49m\u001b[38;5;241;43m.\u001b[39;49m\u001b[43m_selector\u001b[49m\u001b[38;5;241;43m.\u001b[39;49m\u001b[43mpoll\u001b[49m\u001b[43m(\u001b[49m\u001b[43mtimeout\u001b[49m\u001b[43m)\u001b[49m\n\u001b[1;32m    417\u001b[0m \u001b[38;5;28;01mexcept\u001b[39;00m \u001b[38;5;167;01mInterruptedError\u001b[39;00m:\n\u001b[1;32m    418\u001b[0m     \u001b[38;5;28;01mreturn\u001b[39;00m ready\n",
      "\u001b[0;31mKeyboardInterrupt\u001b[0m: "
     ]
    }
   ],
   "source": [
    "episode = 0\n",
    "reward_history = []\n",
    "spisode_steps_history = []\n",
    "spisode_start_steps = 0\n",
    "\n",
    "env.reset()\n",
    "\n",
    "while True:\n",
    "\n",
    "    for stp in range(1):\n",
    "        done_reward = agent.play_step()\n",
    "        if done_reward is not None:\n",
    "            print(f'episode : {episode}, done reward : {done_reward}, total_step : {agent._total_step}, cur_epsilon : {agent._epsilon}')\n",
    "            episode += 1\n",
    "            reward_history.append(done_reward)\n",
    "            spisode_steps_history.append(agent._total_step-spisode_start_steps)\n",
    "            spisode_start_steps = agent._total_step\n",
    "\n",
    "    agent.train(n_iter=1, batch_size=64)"
   ]
  },
  {
   "cell_type": "code",
   "execution_count": 47,
   "id": "a57eed44",
   "metadata": {},
   "outputs": [
    {
     "data": {
      "text/plain": [
       "Text(0, 0.5, 'episode total reward')"
      ]
     },
     "execution_count": 47,
     "metadata": {},
     "output_type": "execute_result"
    },
    {
     "data": {
      "image/png": "[encoded data removed]",
      "text/plain": [
       "<Figure size 640x480 with 1 Axes>"
      ]
     },
     "metadata": {},
     "output_type": "display_data"
    }
   ],
   "source": [
    "plt.plot(reward_history)\n",
    "plt.xlabel('episode')\n",
    "plt.ylabel('episode total reward')"
   ]
  },
  {
   "cell_type": "code",
   "execution_count": null,
   "id": "40f4e92e",
   "metadata": {},
   "outputs": [],
   "source": []
  },
  {
   "cell_type": "code",
   "execution_count": 48,
   "id": "dc090428",
   "metadata": {},
   "outputs": [],
   "source": [
    "env.close()"
   ]
  },
  {
   "cell_type": "code",
   "execution_count": null,
   "id": "53dde473",
   "metadata": {},
   "outputs": [],
   "source": []
  }
 ],
 "metadata": {
  "kernelspec": {
   "display_name": "Python 3 (ipykernel)",
   "language": "python",
   "name": "python3"
  },
  "language_info": {
   "codemirror_mode": {
    "name": "ipython",
    "version": 3
   },
   "file_extension": ".py",
   "mimetype": "text/x-python",
   "name": "python",
   "nbconvert_exporter": "python",
   "pygments_lexer": "ipython3",
   "version": "3.9.5"
  }
 },
 "nbformat": 4,
 "nbformat_minor": 5
}
