{
 "cells": [
  {
   "cell_type": "code",
   "execution_count": 1,
   "id": "7d84112e",
   "metadata": {},
   "outputs": [],
   "source": [
    "from mlagents_envs.envs.unity_gym_env import UnityToGymWrapper\n",
    "from mlagents_envs.environment import ActionTuple, UnityEnvironment\n",
    "from mlagents_envs.side_channel.engine_configuration_channel import \\\n",
    "    EngineConfigurationChannel\n",
    "from mlagents_envs.exception import (\n",
    "    UnityEnvironmentException,\n",
    "    UnityCommunicationException,\n",
    "    UnityCommunicatorStoppedException,\n",
    ")\n",
    "import gym\n",
    "import numpy as np\n",
    "import matplotlib.pyplot as plt\n",
    "import cv2"
   ]
  },
  {
   "cell_type": "code",
   "execution_count": 69,
   "id": "bf3d3f2d-9511-47e3-8a72-d942b6f96b5b",
   "metadata": {},
   "outputs": [],
   "source": [
    "import collections\n",
    "from typing import Union\n",
    "import math\n",
    "import random\n",
    "from copy import deepcopy\n",
    "from typing import Optional\n",
    "\n",
    "import numpy as np\n",
    "import torch\n",
    "import torch.nn as nn\n",
    "import torch.nn.functional as F\n",
    "import torchvision.transforms as T\n",
    "from fastprogress import progress_bar as pb\n",
    "import matplotlib.pyplot as plt\n",
    "import pandas as pd\n",
    "from tqdm import tqdm"
   ]
  },
  {
   "cell_type": "code",
   "execution_count": 3,
   "id": "7fb8a747-9458-419f-b71c-cea8b5c57587",
   "metadata": {},
   "outputs": [],
   "source": [
    "class ExpBuffer:\n",
    "\n",
    "    def __init__(\n",
    "        self,\n",
    "        max_size: int = 20000,\n",
    "        prob_alpha: float = 0.6,\n",
    "        beta_start: float = 0.4,\n",
    "        beta_frames: float = 100000,\n",
    "        n_step: int = 4,\n",
    "        gamma: float = 0.99,\n",
    "    ):\n",
    "        self._prob_alpha = prob_alpha\n",
    "        self._max_size = max_size\n",
    "        self._buf = []\n",
    "        self._pos = 0\n",
    "        self._beta_start = beta_start\n",
    "        self._beta = beta_start\n",
    "        self._beta_frames = beta_frames\n",
    "        self._n_step = n_step\n",
    "        self._gamma = gamma\n",
    "        self._total_discounted_rewards = np.array([np.nan]*max_size)\n",
    "        self._last_states = [np.nan]*max_size\n",
    "\n",
    "    def update_bata(self, idx) -> None:\n",
    "        beta = self._beta_start + idx * (1.0 - self._beta_start) / self._beta_frames\n",
    "        self._beta = min(1.0, beta)\n",
    "        return self._beta\n",
    "\n",
    "    def __len__(self):\n",
    "        return len(self._buf)\n",
    "\n",
    "    def append(\n",
    "        self,\n",
    "        state: np.ndarray,\n",
    "        action: int,\n",
    "        reward: Union[int, float],\n",
    "        done: bool,\n",
    "        next_state: np.ndarray,\n",
    "    ) -> None:\n",
    "        if len(self._buf) < self._max_size:\n",
    "            self._buf.append(\n",
    "                (state, action, reward, done, next_state)\n",
    "            )\n",
    "        else:\n",
    "            self._buf[self._pos] = (state, action, reward, done, next_state)\n",
    "\n",
    "        if len(self._buf) >= self._n_step:\n",
    "            dis_r = 0.0\n",
    "            last_state = self._buf[self._pos][0]\n",
    "            for i in range(self._n_step):\n",
    "                state, _, r, done, _ = self._buf[self._pos - i]\n",
    "                dis_r = r + self._gamma * dis_r\n",
    "                if done:\n",
    "                    last_state = state\n",
    "                    dis_r = r  # ※\n",
    "                self._total_discounted_rewards[self._pos - i] = dis_r\n",
    "                self._last_states[self._pos - i] = last_state\n",
    "            \n",
    "            for i in range(self._n_step-1):\n",
    "                done = self._buf[self._pos - i][3]\n",
    "                if done:\n",
    "                    break\n",
    "                self._total_discounted_rewards[self._pos - i] = np.nan\n",
    "                self._last_states[self._pos - i] = np.nan\n",
    "\n",
    "        self._pos = (self._pos + 1) % self._max_size\n",
    "\n",
    "    def get_latest_n(self, n: int):\n",
    "        if len(self._buf) < self._max_size:\n",
    "            if len(self._buf) < n+self._n_step:\n",
    "                raise RuntimeError('get_latest_n : len(self._buf) < n+self._n_step')\n",
    "            s_idx = self._pos - self._n_step - n \n",
    "            e_idx = self._pos - self._n_step\n",
    "            latest_exps = self._buf[s_idx:e_idx]\n",
    "            latest_total_rewards = self._total_discounted_rewards[s_idx:e_idx]\n",
    "            latest_last_states = self._last_states[s_idx:e_idx]\n",
    "        else:\n",
    "            s_idx = self._pos + self._max_size - self._n_step - n\n",
    "            e_idx = self._pos + self._max_size - self._n_step\n",
    "            latest_exps = (self._buf*2)[s_idx:e_idx]\n",
    "            latest_total_rewards = np.concatenate([self._total_discounted_rewards]*2)[s_idx:e_idx]\n",
    "            latest_last_states = (self._last_states*2)[s_idx:e_idx]\n",
    "        if len(latest_total_rewards) != n:\n",
    "            print(f'{s_idx} : {e_idx} : {e_idx-s_idx} : {len((self._total_discounted_rewards*2))}')\n",
    "        assert len(latest_exps) == n\n",
    "        assert len(latest_total_rewards) == n\n",
    "        assert len(latest_last_states) == n\n",
    "        states, actions, rewards, dones, next_states = zip(*latest_exps)\n",
    "        states = np.array(states)\n",
    "        actions = np.array(actions)\n",
    "        rewards = np.array(rewards)\n",
    "        dones = np.array(dones)\n",
    "        next_states = np.array(next_states)\n",
    "        last_states = np.stack(latest_last_states)\n",
    "        return states, actions, rewards, dones, latest_total_rewards, last_states\n",
    "\n",
    "    def update_priorities(self, sample_indices: np.ndarray, sample_priorities: np.ndarray) -> None:\n",
    "        self._priorities[sample_indices] = sample_priorities\n",
    "\n",
    "    @property\n",
    "    def gamma(self) -> float:\n",
    "        return self._gamma\n",
    "\n",
    "    @property\n",
    "    def n_step(self) -> float:\n",
    "        return self._n_step"
   ]
  },
  {
   "cell_type": "code",
   "execution_count": 42,
   "id": "b00f19ca-8b8b-4a6a-860d-9999397e383e",
   "metadata": {},
   "outputs": [],
   "source": [
    "class ModelActor(nn.Module):\n",
    "\n",
    "    def __init__(self, obs_size, act_size, hidden_size: int = 64):\n",
    "        super(ModelActor, self).__init__()\n",
    "\n",
    "        self.mu = nn.Sequential(\n",
    "            nn.Linear(obs_size, hidden_size),\n",
    "            nn.Tanh(),\n",
    "            nn.Linear(hidden_size, hidden_size),\n",
    "            nn.Tanh(),\n",
    "            nn.Linear(hidden_size, act_size),\n",
    "            nn.Softmax(-1),\n",
    "        )\n",
    "        self.logstd = nn.Parameter(torch.zeros(act_size))\n",
    "\n",
    "    def forward(self, x):\n",
    "        return self.mu(x)"
   ]
  },
  {
   "cell_type": "code",
   "execution_count": 43,
   "id": "00c30ed9-f348-4f2a-91a4-7dc6f2d77376",
   "metadata": {},
   "outputs": [],
   "source": [
    "class ModelCritic(nn.Module):\n",
    "\n",
    "    def __init__(self, obs_size, hidden_size: int = 64):\n",
    "        super(ModelCritic, self).__init__()\n",
    "\n",
    "        self.value = nn.Sequential(\n",
    "            nn.Linear(obs_size, hidden_size),\n",
    "            nn.ReLU(),\n",
    "            nn.Linear(hidden_size, hidden_size),\n",
    "            nn.ReLU(),\n",
    "            nn.Linear(hidden_size, 1),\n",
    "        )\n",
    "\n",
    "    def forward(self, x):\n",
    "        return self.value(x)"
   ]
  },
  {
   "cell_type": "code",
   "execution_count": 6,
   "id": "5b335fd3-6567-4589-afba-4ea906c8049b",
   "metadata": {},
   "outputs": [],
   "source": [
    "def calc_adv_ref(rewards, dones, net_crt, states_v, gamma, gae_lambda, device=\"cpu\"):\n",
    "    values_v = net_crt(states_v)\n",
    "    values = values_v.squeeze().data.cpu().numpy()\n",
    "\n",
    "    last_gae = 0.0\n",
    "    result_adv = []\n",
    "    result_ref = []\n",
    "    for val, next_val, reward, done in zip(reversed(values[:-1]),\n",
    "                                     reversed(values[1:]),\n",
    "                                     reversed(rewards[:-1]),\n",
    "                                     reversed(dones[:-1])):\n",
    "        if done:\n",
    "            delta = reward - val\n",
    "            last_gae = delta\n",
    "        else:\n",
    "            delta = reward + gamma * next_val - val\n",
    "            last_gae = delta + gamma * gae_lambda * last_gae\n",
    "        result_adv.append(last_gae)\n",
    "        result_ref.append(last_gae + val)\n",
    "\n",
    "    adv_v = torch.FloatTensor(list(reversed(result_adv)))\n",
    "    ref_v = torch.FloatTensor(list(reversed(result_ref)))\n",
    "    return adv_v.to(device), ref_v.to(device)"
   ]
  },
  {
   "cell_type": "code",
   "execution_count": 7,
   "id": "9d0cdc9d-87e0-465a-a7b8-fb4ec609c8c9",
   "metadata": {},
   "outputs": [],
   "source": [
    "def calc_logprob(mu_v, logstd_v, actions_v):\n",
    "    p1 = - ((mu_v - actions_v) ** 2) / (2*torch.exp(logstd_v).clamp(min=1e-3))\n",
    "    p2 = - torch.log(torch.sqrt(2 * math.pi * torch.exp(logstd_v)))\n",
    "    return p1 + p2"
   ]
  },
  {
   "cell_type": "code",
   "execution_count": 291,
   "id": "6459ed5c-2d1a-453f-8fe9-066bbe3ac4b9",
   "metadata": {},
   "outputs": [],
   "source": [
    "class Agent:\n",
    "\n",
    "    def __init__(\n",
    "        self,\n",
    "        env,\n",
    "        agent_id: int,\n",
    "        exp_buffer: ExpBuffer,\n",
    "        act_net: nn.Module,\n",
    "        crt_net: nn.Module,\n",
    "        epsilon_start: float = 1.0,\n",
    "        epsilon_final: float = 0.01,\n",
    "        epsilon_decay_last_step: int = 200000,\n",
    "        act_learning_rate: float = 1e-5,\n",
    "        crt_learning_rate: float = 1e-4,\n",
    "        adam_eps: float = None,\n",
    "        device: str = 'cuda' if torch.cuda.is_available() else 'cpu',\n",
    "        trajectory_size: int = 2049,\n",
    "        ppo_eps: float = 0.2,\n",
    "        gae_lambda: float = 0.95,\n",
    "    ):\n",
    "        self._env = env\n",
    "        self._agent_id = agent_id\n",
    "        self._exp_buffer = exp_buffer\n",
    "        self._act_net = act_net\n",
    "        self._crt_net = crt_net\n",
    "        self._epsilon_start = epsilon_start\n",
    "        self._epsilon_final = epsilon_final\n",
    "        self._epsilon_decay_last_step = epsilon_decay_last_step\n",
    "        self._epsilon = epsilon_start\n",
    "        self._device = device\n",
    "        self._total_step = 0\n",
    "        self._total_trained_samples = 0\n",
    "        # self._tgt_sync_steps = tgt_sync_steps\n",
    "        adam_kwargs = {}\n",
    "        if adam_eps is not None:\n",
    "            adam_kwargs['eps'] = adam_eps\n",
    "        self._act_optimizer = torch.optim.Adam(self._act_net.parameters(), lr=act_learning_rate, **adam_kwargs)\n",
    "        self._crt_optimizer = torch.optim.Adam(self._crt_net.parameters(), lr=crt_learning_rate, **adam_kwargs)\n",
    "        self.reset_episode()\n",
    "        # self._use_sync_net = use_sync_net\n",
    "        self._episode = 0\n",
    "        self._trajectory_size = trajectory_size\n",
    "        self._ppo_eps = ppo_eps\n",
    "        self._gae_lambda = gae_lambda\n",
    "        self._episode_rewards = []\n",
    "\n",
    "    def reset_episode(self):\n",
    "        agent_ids, states, rewards, dones = self._env.get_state()\n",
    "        idx = np.where(agent_ids==self._agent_id)[0][0]\n",
    "        self._state = states[idx]\n",
    "        self._total_reward = 0.0\n",
    "\n",
    "    def set_action(self, continuous_action: np.ndarray = None, discrete_action: np.ndarray = None):\n",
    "        self._env.set_action(self._agent_id, continuous_action, discrete_action)\n",
    "        \n",
    "    @torch.no_grad()\n",
    "    def decide_action_and_set(self, epsilon: Optional[float] = None, sync_target: bool = True):\n",
    "        if epsilon is None:\n",
    "            epsilon = self._epsilon\n",
    "        done_reward = None\n",
    "\n",
    "        if np.random.random() < epsilon:\n",
    "            c_acts, d_acts = self._env.random_action()\n",
    "        else:\n",
    "            state_a = np.array([self._state], copy=False)\n",
    "            state_v = torch.tensor(state_a).float().to(self._device)\n",
    "            prob_v = self._act_net(state_v)\n",
    "#             action = prob_v.squeeze(dim=0).argmax().data.cpu().numpy()\n",
    "            prob = prob_v.squeeze(dim=0).data.cpu().numpy()\n",
    "            d_acts = np.random.choice(range(len(prob)), size=1, p=prob).astype(int)\n",
    "            c_acts = None\n",
    "#             print(action)\n",
    "#             action = np.clip(action, -1, 1)\n",
    "\n",
    "        self.set_action(c_acts, d_acts)\n",
    "        return d_acts\n",
    "\n",
    "    def update_experience(self, agent_ids, next_states, rewards, dones, action, update_params = True):\n",
    "        idx = np.where(agent_ids==self._agent_id)[0][0]\n",
    "        next_state, reward, done = next_states[idx], rewards[idx], dones[idx]\n",
    "\n",
    "        self._total_reward += reward\n",
    "        self._exp_buffer.append(\n",
    "            self._state, action, reward, done, next_state\n",
    "        )\n",
    "        self._state = next_state\n",
    "        if done:\n",
    "            done_reward = self._total_reward\n",
    "            self._episode_rewards.append(done_reward)\n",
    "            # self.reset_episode()\n",
    "\n",
    "        if update_params:\n",
    "            self._total_step += 1\n",
    "            self._update_epsilon(self._total_step)\n",
    "            self._exp_buffer.update_bata(self._total_step)\n",
    "\n",
    "        # if self._total_step % self._tgt_sync_steps == 0 and sync_target:\n",
    "        #     self._tgt_net.load_state_dict(self._net.state_dict())\n",
    "        #     print(f'synced target net')\n",
    "\n",
    "    def train(self, ppo_epoch: int = 10, batch_size: int = 32) -> None:\n",
    "        n_step_gamma = self._exp_buffer.gamma ** self._exp_buffer.n_step\n",
    "\n",
    "        traj_states, traj_actions, traj_rewards, traj_dones, traj_total_discounted_rewards, \\\n",
    "            traj_last_states = self._exp_buffer.get_latest_n(self._trajectory_size)\n",
    "        traj_states_v = torch.tensor(traj_states).float().to(self._device)\n",
    "        traj_actions_v = torch.tensor(traj_actions).to(self._device)\n",
    "        traj_discounted_rewards_v = torch.tensor(traj_total_discounted_rewards).to(self._device)\n",
    "        traj_done_mask = torch.BoolTensor(traj_dones).to(self._device)\n",
    "        # weights_v = torch.tensor(weights).to(self._device)\n",
    "\n",
    "        traj_adv_v, traj_ref_v = calc_adv_ref(\n",
    "            traj_total_discounted_rewards, traj_dones, self._crt_net, traj_states_v, gamma=n_step_gamma, gae_lambda=self._gae_lambda, device=self._device  # reards or total_discounted_rewards ?\n",
    "        )\n",
    "        traj_prob_v = self._act_net(traj_states_v)\n",
    "#         old_logprob_v = calc_logprob(mu_v, self._act_net.logstd, traj_actions_v)\n",
    "#         action_prob_v = prob_v.max(1)[0]\n",
    "        traj_action_prob_v = traj_prob_v.gather(1, traj_actions_v.unsqueeze(-1))\n",
    "        old_logprob_v = torch.log(traj_action_prob_v)\n",
    "\n",
    "        # normalize advantages\n",
    "        traj_adv_v = traj_adv_v - torch.mean(traj_adv_v)\n",
    "        traj_adv_v /= torch.std(traj_adv_v)\n",
    "\n",
    "        # drop last entry from the trajectory, an our adv and ref value calculated without it\n",
    "        # trajectory = trajectory[:-1]\n",
    "        old_logprob_v = old_logprob_v[:-1].detach()\n",
    "\n",
    "        sum_loss_value = 0.0\n",
    "        sum_loss_policy = 0.0\n",
    "        count_steps = 0\n",
    "\n",
    "        for epoch in range(ppo_epoch):\n",
    "            for batch_ofs in range(0, self._trajectory_size-1, batch_size):\n",
    "                batch_l = batch_ofs + batch_size\n",
    "                states_v = traj_states_v[batch_ofs:batch_l]\n",
    "                actions_v = traj_actions_v[batch_ofs:batch_l]\n",
    "                batch_adv_v = traj_adv_v[batch_ofs:batch_l]\n",
    "                batch_adv_v = batch_adv_v.unsqueeze(-1)\n",
    "                batch_ref_v = traj_ref_v[batch_ofs:batch_l]\n",
    "                batch_old_logprob_v = old_logprob_v[batch_ofs:batch_l]\n",
    "\n",
    "                # critic training\n",
    "                self._crt_optimizer.zero_grad()\n",
    "                value_v = self._crt_net(states_v)\n",
    "                loss_value_v = F.mse_loss(value_v.squeeze(-1), batch_ref_v)\n",
    "                loss_value_v.backward()\n",
    "                self._crt_optimizer.step()\n",
    "\n",
    "                # actor training\n",
    "                self._act_optimizer.zero_grad()\n",
    "                prob_v = self._act_net(states_v)\n",
    "#                 action_prob_v = prob_v.max(1)[0]\n",
    "                action_prob_v = prob_v.gather(1, actions_v.unsqueeze(-1))\n",
    "#                 logprob_pi_v = calc_logprob(mu_v, self._act_net.logstd, actions_v)\n",
    "                logprob_pi_v = torch.log(action_prob_v)\n",
    "                ratio_v = torch.exp(logprob_pi_v - batch_old_logprob_v)\n",
    "                surr_obj_v = batch_adv_v * ratio_v\n",
    "                c_ratio_v = torch.clamp(ratio_v, 1.0 - self._ppo_eps, 1.0 + self._ppo_eps)\n",
    "                clipped_surr_v = batch_adv_v * c_ratio_v\n",
    "                loss_policy_v = -torch.min(surr_obj_v, clipped_surr_v).mean()\n",
    "                loss_policy_v.backward()\n",
    "                self._act_optimizer.step()\n",
    "\n",
    "                sum_loss_value += loss_value_v.item()\n",
    "                sum_loss_policy += loss_policy_v.item()\n",
    "                count_steps += 1\n",
    "\n",
    "        # self._exp_buffer.update_priorities(sampled_indices, prios)\n",
    "        self._total_trained_samples += batch_size\n",
    "\n",
    "    def _update_epsilon(self, step_index: int) -> None:\n",
    "        self._epsilon = max(\n",
    "            self._epsilon_final,\n",
    "            self._epsilon_start - step_index / self._epsilon_decay_last_step\n",
    "        )"
   ]
  },
  {
   "cell_type": "code",
   "execution_count": 292,
   "id": "e0db5e01-e031-49ab-a135-3ac2d52c7c56",
   "metadata": {},
   "outputs": [],
   "source": [
    "class EnvWrapper:\n",
    "\n",
    "    def __init__(self, env):\n",
    "        self._env = env\n",
    "        behavior_names = list(env.behavior_specs.keys())\n",
    "        behavior_spec = env.behavior_specs[behavior_names[0]]\n",
    "        self._behavior_name = list(env.behavior_specs.keys())[0]\n",
    "        self._action_continuous_dim = behavior_spec.action_spec.continuous_size\n",
    "        self._action_discrete_dim = len(behavior_spec.action_spec.discrete_branches)\n",
    "        self._n_discrete_actions = behavior_spec.action_spec.discrete_branches\n",
    "        self._OBSERVATION_IDX = 0\n",
    "        decision_steps, terminal_steps = env.get_steps(behavior_names[0])\n",
    "        self._n_agents = len(decision_steps.obs[0])\n",
    "\n",
    "    def set_action(self, agent_id, continuous_action: np.ndarray = None, discrete_action: np.ndarray = None):\n",
    "        if continuous_action is None and discrete_action is None:\n",
    "            raise ValueError('either continuous_action or discrete_action must be specified')\n",
    "        action_tuple = self.format_action(continuous_action, discrete_action)\n",
    "        self._env.set_action_for_agent(self._behavior_name, agent_id, action_tuple)\n",
    "\n",
    "    def format_action(self, continuous_action: np.ndarray, discrete_action: np.ndarray):\n",
    "        if continuous_action is not None:\n",
    "            assert continuous_action.ndim == 1\n",
    "            assert len(continuous_action) == self._action_continuous_dim\n",
    "        if discrete_action is not None:\n",
    "            assert discrete_action.ndim == 1\n",
    "            assert len(discrete_action) == self._action_discrete_dim\n",
    "        return ActionTuple(\n",
    "            continuous=continuous_action.reshape(1, self._action_continuous_dim) if continuous_action is not None else None,\n",
    "            discrete=discrete_action.reshape(1, self._action_discrete_dim) if discrete_action is not None else None\n",
    "        )\n",
    "\n",
    "    def get_state(self):\n",
    "        decision_steps, terminal_steps = self._env.get_steps(self._behavior_name)\n",
    "        \n",
    "        agent_id_diff = list(set(decision_steps.agent_id)-set(terminal_steps.agent_id))\n",
    "        agent_id_filt = [ai in agent_id_diff for ai in decision_steps.agent_id]\n",
    "\n",
    "        states = np.concatenate([\n",
    "            decision_steps.obs[self._OBSERVATION_IDX][agent_id_filt],\n",
    "            terminal_steps.obs[self._OBSERVATION_IDX]\n",
    "        ], axis=0)\n",
    "        agent_ids = np.concatenate([decision_steps.agent_id[agent_id_filt], terminal_steps.agent_id], axis=0)\n",
    "        rewards = np.concatenate([decision_steps.reward[agent_id_filt], terminal_steps.reward], axis=0)\n",
    "        dones = [False]*len(decision_steps.reward[agent_id_filt]) + [True]*len(terminal_steps.reward)\n",
    "\n",
    "        assert states.shape[0] == self._n_agents\n",
    "        assert len(rewards) == self._n_agents\n",
    "        assert len(dones) == self._n_agents\n",
    "\n",
    "        return agent_ids, states, rewards, dones\n",
    "\n",
    "    def step(self):\n",
    "        self._env.step()\n",
    "        agent_ids, states, rewards, dones = self.get_state()\n",
    "        return agent_ids, states, rewards, dones\n",
    "    \n",
    "    def reset(self):\n",
    "        self._env.reset()\n",
    "        agent_ids, states, rewards, dones = self.get_state()\n",
    "        return agent_ids, states\n",
    "\n",
    "    def random_action(self):\n",
    "        return (\n",
    "            2.0*np.random.rand(self._action_continuous_dim) - 1.0 if self._action_continuous_dim > 0 else None,\n",
    "            np.array([np.random.randint(0, n_act) for n_act in self._n_discrete_actions]) if self._action_discrete_dim > 0 else None,\n",
    "        )"
   ]
  },
  {
   "cell_type": "code",
   "execution_count": null,
   "id": "66f73a6d-715b-4596-8440-fadc20b9fe19",
   "metadata": {},
   "outputs": [],
   "source": []
  },
  {
   "cell_type": "code",
   "execution_count": 239,
   "id": "ec14e952",
   "metadata": {},
   "outputs": [],
   "source": [
    "try:\n",
    "    unity_env.close()\n",
    "except Exception:\n",
    "    pass\n",
    "\n",
    "unity_env = UnityEnvironment(file_name=None)"
   ]
  },
  {
   "cell_type": "code",
   "execution_count": 242,
   "id": "82bc3045",
   "metadata": {},
   "outputs": [
    {
     "name": "stdout",
     "output_type": "stream",
     "text": [
      "behavior_names: ['SelfPlayEx?team=0']\n",
      "\n",
      "== BehaviorSpecの情報の確認 ==\n",
      "observation_specs: [ObservationSpec(shape=(10,), dimension_property=(<DimensionProperty.NONE: 1>,), observation_type=<ObservationType.DEFAULT: 0>, name='StackingSensor_size2_VectorSensor_size5')]\n",
      "action_spec: Continuous: 0, Discrete: (3,)\n"
     ]
    }
   ],
   "source": [
    "# Unity環境のリセット\n",
    "unity_env.reset()\n",
    "\n",
    "# BehaviorNameのリストの取得\n",
    "behavior_names = list(unity_env.behavior_specs.keys())\n",
    "print('behavior_names:', behavior_names)\n",
    "\n",
    "# BehaviorSpecの取得\n",
    "behavior_spec = unity_env.behavior_specs[behavior_names[0]]\n",
    "\n",
    "# BehaviorSpecの情報の確認\n",
    "print('\\n== BehaviorSpecの情報の確認 ==')\n",
    "print('observation_specs:', behavior_spec.observation_specs)\n",
    "print('action_spec:', behavior_spec.action_spec)"
   ]
  },
  {
   "cell_type": "code",
   "execution_count": 243,
   "id": "65c48188",
   "metadata": {},
   "outputs": [
    {
     "data": {
      "text/plain": [
       "BehaviorSpec(observation_specs=[ObservationSpec(shape=(10,), dimension_property=(<DimensionProperty.NONE: 1>,), observation_type=<ObservationType.DEFAULT: 0>, name='StackingSensor_size2_VectorSensor_size5')], action_spec=ActionSpec(continuous_size=0, discrete_branches=(3,)))"
      ]
     },
     "execution_count": 243,
     "metadata": {},
     "output_type": "execute_result"
    }
   ],
   "source": [
    "behavior_spec"
   ]
  },
  {
   "cell_type": "code",
   "execution_count": null,
   "id": "b31e6fd9",
   "metadata": {},
   "outputs": [],
   "source": []
  },
  {
   "cell_type": "code",
   "execution_count": null,
   "id": "24473caf",
   "metadata": {},
   "outputs": [],
   "source": []
  },
  {
   "cell_type": "code",
   "execution_count": 244,
   "id": "049cd29c",
   "metadata": {
    "scrolled": true,
    "tags": []
   },
   "outputs": [
    {
     "name": "stdout",
     "output_type": "stream",
     "text": [
      "\n",
      "== DecisionStepsの情報の確認 ==\n",
      "obj: [array([[ 0.       ,  0.       ,  0.       ,  0.       ,  0.       ,\n",
      "         0.       ,  0.       ,  1.3178179,  9.912787 ,  0.       ],\n",
      "       [ 0.       ,  0.       ,  0.       ,  0.       ,  0.       ,\n",
      "        -0.       , -0.       , -1.3178179, -9.912787 , -0.       ]],\n",
      "      dtype=float32)]\n",
      "reward: [0. 0.]\n",
      "agent_id: [0 1]\n",
      "action_mask: [array([[False, False, False],\n",
      "       [False, False, False]])]\n",
      "\n",
      "== TerminalStepsの情報の確認 ==\n",
      "obs: [array([], shape=(0, 10), dtype=float32)]\n",
      "reward: []\n",
      "agent_id: []\n",
      "interrupted: []\n"
     ]
    }
   ],
   "source": [
    "# 現在のステップの情報の取得\n",
    "decision_steps, terminal_steps = unity_env.get_steps(behavior_names[0])\n",
    "\n",
    "# DecisionStepsの情報の確認\n",
    "print('\\n== DecisionStepsの情報の確認 ==')\n",
    "print('obj:', decision_steps.obs)\n",
    "print('reward:', decision_steps.reward)\n",
    "print('agent_id:', decision_steps.agent_id)\n",
    "print('action_mask:', decision_steps.action_mask)\n",
    "\n",
    "# TerminalStepsの情報の確認\n",
    "print('\\n== TerminalStepsの情報の確認 ==')\n",
    "print('obs:', terminal_steps.obs)\n",
    "print('reward:', terminal_steps.reward)\n",
    "print('agent_id:', terminal_steps.agent_id)\n",
    "print('interrupted:', terminal_steps.interrupted)"
   ]
  },
  {
   "cell_type": "code",
   "execution_count": 245,
   "id": "f591e623",
   "metadata": {},
   "outputs": [
    {
     "data": {
      "text/plain": [
       "1"
      ]
     },
     "execution_count": 245,
     "metadata": {},
     "output_type": "execute_result"
    }
   ],
   "source": [
    "len(decision_steps.obs)"
   ]
  },
  {
   "cell_type": "code",
   "execution_count": 246,
   "id": "2f5cb17f",
   "metadata": {},
   "outputs": [
    {
     "data": {
      "text/plain": [
       "(2, 10)"
      ]
     },
     "execution_count": 246,
     "metadata": {},
     "output_type": "execute_result"
    }
   ],
   "source": [
    "decision_steps.obs[0].shape"
   ]
  },
  {
   "cell_type": "code",
   "execution_count": 247,
   "id": "cdd2969d-6b55-453f-8318-06dc3312c62f",
   "metadata": {},
   "outputs": [
    {
     "data": {
      "text/plain": [
       "(2, 10)"
      ]
     },
     "execution_count": 247,
     "metadata": {},
     "output_type": "execute_result"
    }
   ],
   "source": [
    "decision_steps.obs[0].shape"
   ]
  },
  {
   "cell_type": "code",
   "execution_count": 248,
   "id": "fbfab3e5-268b-4589-9c5b-dac2ce30877a",
   "metadata": {},
   "outputs": [
    {
     "data": {
      "text/plain": [
       "(2, 10)"
      ]
     },
     "execution_count": 248,
     "metadata": {},
     "output_type": "execute_result"
    }
   ],
   "source": [
    "np.concatenate([decision_steps.obs[0], terminal_steps.obs[0]], axis=0).shape"
   ]
  },
  {
   "cell_type": "code",
   "execution_count": 249,
   "id": "ac136e93-b502-40f8-a1be-800da1620a6c",
   "metadata": {},
   "outputs": [
    {
     "data": {
      "text/plain": [
       "(0, 10)"
      ]
     },
     "execution_count": 249,
     "metadata": {},
     "output_type": "execute_result"
    }
   ],
   "source": [
    "terminal_steps.obs[0].shape"
   ]
  },
  {
   "cell_type": "code",
   "execution_count": 250,
   "id": "679b930f",
   "metadata": {},
   "outputs": [],
   "source": [
    "N_AGENTS, OBS_DIM = decision_steps.obs[0].shape"
   ]
  },
  {
   "cell_type": "code",
   "execution_count": 251,
   "id": "6208f64a-47f3-4168-adfe-4385a3688576",
   "metadata": {},
   "outputs": [
    {
     "data": {
      "text/plain": [
       "2"
      ]
     },
     "execution_count": 251,
     "metadata": {},
     "output_type": "execute_result"
    }
   ],
   "source": [
    "N_AGENTS"
   ]
  },
  {
   "cell_type": "code",
   "execution_count": 252,
   "id": "f48d65df",
   "metadata": {},
   "outputs": [
    {
     "data": {
      "text/plain": [
       "(2,)"
      ]
     },
     "execution_count": 252,
     "metadata": {},
     "output_type": "execute_result"
    }
   ],
   "source": [
    "decision_steps.reward.shape"
   ]
  },
  {
   "cell_type": "code",
   "execution_count": 253,
   "id": "8ea7b358",
   "metadata": {},
   "outputs": [
    {
     "data": {
      "text/plain": [
       "array([0., 0.], dtype=float32)"
      ]
     },
     "execution_count": 253,
     "metadata": {},
     "output_type": "execute_result"
    }
   ],
   "source": [
    "decision_steps.reward"
   ]
  },
  {
   "cell_type": "code",
   "execution_count": 254,
   "id": "6a14ec09",
   "metadata": {},
   "outputs": [
    {
     "data": {
      "text/plain": [
       "array([0, 1], dtype=int32)"
      ]
     },
     "execution_count": 254,
     "metadata": {},
     "output_type": "execute_result"
    }
   ],
   "source": [
    "decision_steps.agent_id"
   ]
  },
  {
   "cell_type": "code",
   "execution_count": 255,
   "id": "57903f6e",
   "metadata": {},
   "outputs": [
    {
     "data": {
      "text/plain": [
       "[array([[False, False, False],\n",
       "        [False, False, False]])]"
      ]
     },
     "execution_count": 255,
     "metadata": {},
     "output_type": "execute_result"
    }
   ],
   "source": [
    "decision_steps.action_mask"
   ]
  },
  {
   "cell_type": "code",
   "execution_count": 256,
   "id": "83566d28",
   "metadata": {},
   "outputs": [
    {
     "data": {
      "text/plain": [
       "array([], dtype=float32)"
      ]
     },
     "execution_count": 256,
     "metadata": {},
     "output_type": "execute_result"
    }
   ],
   "source": [
    "terminal_steps.reward"
   ]
  },
  {
   "cell_type": "code",
   "execution_count": 257,
   "id": "ce68c62c",
   "metadata": {},
   "outputs": [
    {
     "data": {
      "text/plain": [
       "array([], dtype=int32)"
      ]
     },
     "execution_count": 257,
     "metadata": {},
     "output_type": "execute_result"
    }
   ],
   "source": [
    "terminal_steps.agent_id"
   ]
  },
  {
   "cell_type": "code",
   "execution_count": 258,
   "id": "5f1add65-bc7c-4b6e-92c4-4a2549c10363",
   "metadata": {},
   "outputs": [
    {
     "data": {
      "text/plain": [
       "[array([], shape=(0, 10), dtype=float32)]"
      ]
     },
     "execution_count": 258,
     "metadata": {},
     "output_type": "execute_result"
    }
   ],
   "source": [
    "terminal_steps.obs"
   ]
  },
  {
   "cell_type": "code",
   "execution_count": 259,
   "id": "f90f3ef3",
   "metadata": {},
   "outputs": [
    {
     "data": {
      "text/plain": [
       "ActionSpec(continuous_size=0, discrete_branches=(3,))"
      ]
     },
     "execution_count": 259,
     "metadata": {},
     "output_type": "execute_result"
    }
   ],
   "source": [
    "behavior_spec.action_spec"
   ]
  },
  {
   "cell_type": "code",
   "execution_count": 260,
   "id": "e5cb6883-0043-4866-8a0a-62c051476f41",
   "metadata": {},
   "outputs": [
    {
     "data": {
      "text/plain": [
       "(3,)"
      ]
     },
     "execution_count": 260,
     "metadata": {},
     "output_type": "execute_result"
    }
   ],
   "source": [
    "behavior_spec.action_spec.discrete_branches"
   ]
  },
  {
   "cell_type": "code",
   "execution_count": 261,
   "id": "ba179d51-a4cc-49b7-94d5-6cab468214a8",
   "metadata": {},
   "outputs": [
    {
     "data": {
      "text/plain": [
       "1"
      ]
     },
     "execution_count": 261,
     "metadata": {},
     "output_type": "execute_result"
    }
   ],
   "source": [
    "len(behavior_spec.action_spec.discrete_branches)"
   ]
  },
  {
   "cell_type": "code",
   "execution_count": 262,
   "id": "9b6c3af7-caca-49fa-bd64-3bae77146479",
   "metadata": {},
   "outputs": [
    {
     "data": {
      "text/plain": [
       "0"
      ]
     },
     "execution_count": 262,
     "metadata": {},
     "output_type": "execute_result"
    }
   ],
   "source": [
    "behavior_spec.action_spec.continuous_size"
   ]
  },
  {
   "cell_type": "code",
   "execution_count": 263,
   "id": "8c01e96c-8020-43b2-b148-c8003dc865fa",
   "metadata": {},
   "outputs": [],
   "source": [
    "N_ACTIONS = behavior_spec.action_spec.discrete_branches[0]"
   ]
  },
  {
   "cell_type": "code",
   "execution_count": null,
   "id": "8260123f-29c9-458c-9bd8-159ade1eb123",
   "metadata": {},
   "outputs": [],
   "source": []
  },
  {
   "cell_type": "code",
   "execution_count": 264,
   "id": "2656191b-4a6a-4f12-a857-22a315167b39",
   "metadata": {},
   "outputs": [],
   "source": [
    "# env.set_action_for_agent(behavior_names[0], 0, ActionTuple(continuous=np.zeros(3).reshape(1, 3), discrete=np.array([0]).reshape(1, 1)))"
   ]
  },
  {
   "cell_type": "code",
   "execution_count": null,
   "id": "c6dc7ff3-445c-4514-b30d-23ffbbcbbc4b",
   "metadata": {},
   "outputs": [],
   "source": []
  },
  {
   "cell_type": "code",
   "execution_count": 293,
   "id": "c76b89bc-9837-4536-af23-5773c9e4da36",
   "metadata": {},
   "outputs": [],
   "source": [
    "w_env = EnvWrapper(unity_env)"
   ]
  },
  {
   "cell_type": "code",
   "execution_count": null,
   "id": "4659534f-891f-48af-a840-ca7fe4e30843",
   "metadata": {},
   "outputs": [],
   "source": []
  },
  {
   "cell_type": "code",
   "execution_count": 317,
   "id": "bcfac1b7-2840-44a5-8bab-60a40e8117ff",
   "metadata": {},
   "outputs": [],
   "source": [
    "SEED = 77\n",
    "device = 'cuda'\n",
    "TRAJECTORY_SIZE = 2049"
   ]
  },
  {
   "cell_type": "code",
   "execution_count": 318,
   "id": "f634772e-4a6c-419b-9a35-32830781d51c",
   "metadata": {},
   "outputs": [],
   "source": [
    "unity_env.reset()"
   ]
  },
  {
   "cell_type": "code",
   "execution_count": 319,
   "id": "997e1382-2f97-429a-b8cf-533e44af3acb",
   "metadata": {},
   "outputs": [],
   "source": [
    "agents = {}\n",
    "\n",
    "for agent_id in range(N_AGENTS):\n",
    "    act_net = ModelActor(\n",
    "        OBS_DIM,\n",
    "        N_ACTIONS\n",
    "    ).to(device)\n",
    "    crt_net = ModelCritic(\n",
    "        OBS_DIM,\n",
    "        N_ACTIONS\n",
    "    ).to(device)\n",
    "    exp_buffer = ExpBuffer(\n",
    "        max_size=20000,\n",
    "        prob_alpha=0.6,\n",
    "        beta_start=0.4,\n",
    "        beta_frames=30000, #100000,\n",
    "        n_step=1,\n",
    "        gamma=0.99,\n",
    "    )\n",
    "    agent = Agent(\n",
    "        env=w_env,\n",
    "        agent_id=agent_id,\n",
    "        exp_buffer=exp_buffer,\n",
    "        crt_net=crt_net,\n",
    "        act_net=act_net,\n",
    "        epsilon_start=0.6,\n",
    "        epsilon_final=0.002,\n",
    "        epsilon_decay_last_step=30000, #200000,\n",
    "        # tgt_sync_steps=1000,\n",
    "        act_learning_rate=1e-5,\n",
    "        crt_learning_rate=1e-4,\n",
    "        device=device,\n",
    "        trajectory_size=TRAJECTORY_SIZE,\n",
    "        ppo_eps=0.2,\n",
    "        gae_lambda=0.95,\n",
    "    )\n",
    "    agents[agent_id] = agent"
   ]
  },
  {
   "cell_type": "code",
   "execution_count": null,
   "id": "95d9ef94-f161-4871-8d85-33342a9cc66f",
   "metadata": {},
   "outputs": [],
   "source": []
  },
  {
   "cell_type": "code",
   "execution_count": 320,
   "id": "ab01b961-0243-4b0f-ab9c-cfe15b3a0b83",
   "metadata": {},
   "outputs": [],
   "source": [
    "INITIAL_EXPLORATION_STEPS = 100"
   ]
  },
  {
   "cell_type": "code",
   "execution_count": 321,
   "id": "83664a9e-56fa-485d-8383-1ce710855a5f",
   "metadata": {},
   "outputs": [
    {
     "name": "stderr",
     "output_type": "stream",
     "text": [
      "100%|██████████████████████████████████████████████████████████████████████████████████████████████████████████████| 100/100 [00:08<00:00, 11.47it/s]\n"
     ]
    }
   ],
   "source": [
    "for step in tqdm(range(INITIAL_EXPLORATION_STEPS)):\n",
    "    actions = {}\n",
    "    for agent_id, agent in agents.items():\n",
    "        action = agent.decide_action_and_set(epsilon=1.0)\n",
    "        actions[agent_id] = action[0]\n",
    "    agent_ids, states, rewards, dones = w_env.step()\n",
    "    for agent_id, agent in agents.items():\n",
    "        agent.update_experience(agent_ids, states, rewards, dones, actions[agent_id], update_params=False)\n",
    "    if any(dones):\n",
    "        _, _ = w_env.reset()\n",
    "        for agent_id, agent in agents.items():\n",
    "            agent.reset_episode()"
   ]
  },
  {
   "cell_type": "code",
   "execution_count": 322,
   "id": "ba69df90-cd67-4557-807e-a43d5a81a22c",
   "metadata": {},
   "outputs": [],
   "source": [
    "states, actions, rewards, dones, next_states = zip(*agents[0]._exp_buffer._buf)"
   ]
  },
  {
   "cell_type": "code",
   "execution_count": 323,
   "id": "20e71afb-145e-4820-9c01-32ef04eb7429",
   "metadata": {},
   "outputs": [
    {
     "data": {
      "text/plain": [
       "[<matplotlib.lines.Line2D at 0x7f5b1ef5f5b0>]"
      ]
     },
     "execution_count": 323,
     "metadata": {},
     "output_type": "execute_result"
    },
    {
     "data": {
      "image/png": "[encoded data removed]",
      "text/plain": [
       "<Figure size 1600x600 with 1 Axes>"
      ]
     },
     "metadata": {},
     "output_type": "display_data"
    }
   ],
   "source": [
    "plt.figure(figsize=(16, 6))\n",
    "plt.plot(rewards[:200])\n",
    "plt.plot(agents[0]._exp_buffer._total_discounted_rewards[:200])"
   ]
  },
  {
   "cell_type": "code",
   "execution_count": 324,
   "id": "6cdf5778-c06f-4648-b631-e16187248762",
   "metadata": {},
   "outputs": [
    {
     "data": {
      "text/plain": [
       "(2, 0, 2, 1, 0, 1, 0, 1, 2, 0)"
      ]
     },
     "execution_count": 324,
     "metadata": {},
     "output_type": "execute_result"
    }
   ],
   "source": [
    "actions[:10]"
   ]
  },
  {
   "cell_type": "code",
   "execution_count": 325,
   "id": "3b943e77-31b1-4e1b-ab27-d5d14095bf62",
   "metadata": {},
   "outputs": [],
   "source": [
    "states, actions, rewards, dones, next_states = zip(*agents[1]._exp_buffer._buf)"
   ]
  },
  {
   "cell_type": "code",
   "execution_count": 326,
   "id": "59f62a17-5b34-4e95-8a7d-1386d05fff2b",
   "metadata": {},
   "outputs": [
    {
     "data": {
      "text/plain": [
       "[<matplotlib.lines.Line2D at 0x7f5b1ef00760>]"
      ]
     },
     "execution_count": 326,
     "metadata": {},
     "output_type": "execute_result"
    },
    {
     "data": {
      "image/png": "[encoded data removed]",
      "text/plain": [
       "<Figure size 1600x600 with 1 Axes>"
      ]
     },
     "metadata": {},
     "output_type": "display_data"
    }
   ],
   "source": [
    "plt.figure(figsize=(16, 6))\n",
    "plt.plot(rewards[:200])\n",
    "plt.plot(agents[1]._exp_buffer._total_discounted_rewards[:200])"
   ]
  },
  {
   "cell_type": "code",
   "execution_count": null,
   "id": "de528db6-3e34-4b17-86dd-e4f34f45b8de",
   "metadata": {},
   "outputs": [],
   "source": []
  },
  {
   "cell_type": "code",
   "execution_count": 327,
   "id": "f2c6dec3-81da-4a5a-9f5f-2cfce9596fb8",
   "metadata": {},
   "outputs": [],
   "source": [
    "_, _ = w_env.reset()"
   ]
  },
  {
   "cell_type": "code",
   "execution_count": 328,
   "id": "2aac0685-5010-42f3-b6f4-66bd352241db",
   "metadata": {},
   "outputs": [
    {
     "ename": "KeyboardInterrupt",
     "evalue": "",
     "output_type": "error",
     "traceback": [
      "\u001b[0;31m---------------------------------------------------------------------------\u001b[0m",
      "\u001b[0;31mKeyboardInterrupt\u001b[0m                         Traceback (most recent call last)",
      "Cell \u001b[0;32mIn[328], line 8\u001b[0m\n\u001b[1;32m      6\u001b[0m     action \u001b[38;5;241m=\u001b[39m agent\u001b[38;5;241m.\u001b[39mdecide_action_and_set()\n\u001b[1;32m      7\u001b[0m     actions[agent_id] \u001b[38;5;241m=\u001b[39m action[\u001b[38;5;241m0\u001b[39m]\n\u001b[0;32m----> 8\u001b[0m agent_ids, states, rewards, dones \u001b[38;5;241m=\u001b[39m \u001b[43mw_env\u001b[49m\u001b[38;5;241;43m.\u001b[39;49m\u001b[43mstep\u001b[49m\u001b[43m(\u001b[49m\u001b[43m)\u001b[49m\n\u001b[1;32m      9\u001b[0m \u001b[38;5;28;01mfor\u001b[39;00m agent_id, agent \u001b[38;5;129;01min\u001b[39;00m agents\u001b[38;5;241m.\u001b[39mitems():\n\u001b[1;32m     10\u001b[0m     agent\u001b[38;5;241m.\u001b[39mupdate_experience(agent_ids, states, rewards, dones, actions[agent_id])\n",
      "Cell \u001b[0;32mIn[292], line 54\u001b[0m, in \u001b[0;36mEnvWrapper.step\u001b[0;34m(self)\u001b[0m\n\u001b[1;32m     53\u001b[0m \u001b[38;5;28;01mdef\u001b[39;00m \u001b[38;5;21mstep\u001b[39m(\u001b[38;5;28mself\u001b[39m):\n\u001b[0;32m---> 54\u001b[0m     \u001b[38;5;28;43mself\u001b[39;49m\u001b[38;5;241;43m.\u001b[39;49m\u001b[43m_env\u001b[49m\u001b[38;5;241;43m.\u001b[39;49m\u001b[43mstep\u001b[49m\u001b[43m(\u001b[49m\u001b[43m)\u001b[49m\n\u001b[1;32m     55\u001b[0m     agent_ids, states, rewards, dones \u001b[38;5;241m=\u001b[39m \u001b[38;5;28mself\u001b[39m\u001b[38;5;241m.\u001b[39mget_state()\n\u001b[1;32m     56\u001b[0m     \u001b[38;5;28;01mreturn\u001b[39;00m agent_ids, states, rewards, dones\n",
      "File \u001b[0;32m/mnt/d/Program Files/Unity/ml-agents-release_20/ml-agents-envs/mlagents_envs/timers.py:305\u001b[0m, in \u001b[0;36mtimed.<locals>.wrapped\u001b[0;34m(*args, **kwargs)\u001b[0m\n\u001b[1;32m    303\u001b[0m \u001b[38;5;28;01mdef\u001b[39;00m \u001b[38;5;21mwrapped\u001b[39m(\u001b[38;5;241m*\u001b[39margs, \u001b[38;5;241m*\u001b[39m\u001b[38;5;241m*\u001b[39mkwargs):\n\u001b[1;32m    304\u001b[0m     \u001b[38;5;28;01mwith\u001b[39;00m hierarchical_timer(func\u001b[38;5;241m.\u001b[39m\u001b[38;5;18m__qualname__\u001b[39m):\n\u001b[0;32m--> 305\u001b[0m         \u001b[38;5;28;01mreturn\u001b[39;00m \u001b[43mfunc\u001b[49m\u001b[43m(\u001b[49m\u001b[38;5;241;43m*\u001b[39;49m\u001b[43margs\u001b[49m\u001b[43m,\u001b[49m\u001b[43m \u001b[49m\u001b[38;5;241;43m*\u001b[39;49m\u001b[38;5;241;43m*\u001b[39;49m\u001b[43mkwargs\u001b[49m\u001b[43m)\u001b[49m\n",
      "File \u001b[0;32m/mnt/d/Program Files/Unity/ml-agents-release_20/ml-agents-envs/mlagents_envs/environment.py:348\u001b[0m, in \u001b[0;36mUnityEnvironment.step\u001b[0;34m(self)\u001b[0m\n\u001b[1;32m    346\u001b[0m step_input \u001b[38;5;241m=\u001b[39m \u001b[38;5;28mself\u001b[39m\u001b[38;5;241m.\u001b[39m_generate_step_input(\u001b[38;5;28mself\u001b[39m\u001b[38;5;241m.\u001b[39m_env_actions)\n\u001b[1;32m    347\u001b[0m \u001b[38;5;28;01mwith\u001b[39;00m hierarchical_timer(\u001b[38;5;124m\"\u001b[39m\u001b[38;5;124mcommunicator.exchange\u001b[39m\u001b[38;5;124m\"\u001b[39m):\n\u001b[0;32m--> 348\u001b[0m     outputs \u001b[38;5;241m=\u001b[39m \u001b[38;5;28;43mself\u001b[39;49m\u001b[38;5;241;43m.\u001b[39;49m\u001b[43m_communicator\u001b[49m\u001b[38;5;241;43m.\u001b[39;49m\u001b[43mexchange\u001b[49m\u001b[43m(\u001b[49m\u001b[43mstep_input\u001b[49m\u001b[43m,\u001b[49m\u001b[43m \u001b[49m\u001b[38;5;28;43mself\u001b[39;49m\u001b[38;5;241;43m.\u001b[39;49m\u001b[43m_poll_process\u001b[49m\u001b[43m)\u001b[49m\n\u001b[1;32m    349\u001b[0m \u001b[38;5;28;01mif\u001b[39;00m outputs \u001b[38;5;129;01mis\u001b[39;00m \u001b[38;5;28;01mNone\u001b[39;00m:\n\u001b[1;32m    350\u001b[0m     \u001b[38;5;28;01mraise\u001b[39;00m UnityCommunicatorStoppedException(\u001b[38;5;124m\"\u001b[39m\u001b[38;5;124mCommunicator has exited.\u001b[39m\u001b[38;5;124m\"\u001b[39m)\n",
      "File \u001b[0;32m/mnt/d/Program Files/Unity/ml-agents-release_20/ml-agents-envs/mlagents_envs/rpc_communicator.py:142\u001b[0m, in \u001b[0;36mRpcCommunicator.exchange\u001b[0;34m(self, inputs, poll_callback)\u001b[0m\n\u001b[1;32m    140\u001b[0m message\u001b[38;5;241m.\u001b[39munity_input\u001b[38;5;241m.\u001b[39mCopyFrom(inputs)\n\u001b[1;32m    141\u001b[0m \u001b[38;5;28mself\u001b[39m\u001b[38;5;241m.\u001b[39munity_to_external\u001b[38;5;241m.\u001b[39mparent_conn\u001b[38;5;241m.\u001b[39msend(message)\n\u001b[0;32m--> 142\u001b[0m \u001b[38;5;28;43mself\u001b[39;49m\u001b[38;5;241;43m.\u001b[39;49m\u001b[43mpoll_for_timeout\u001b[49m\u001b[43m(\u001b[49m\u001b[43mpoll_callback\u001b[49m\u001b[43m)\u001b[49m\n\u001b[1;32m    143\u001b[0m output \u001b[38;5;241m=\u001b[39m \u001b[38;5;28mself\u001b[39m\u001b[38;5;241m.\u001b[39munity_to_external\u001b[38;5;241m.\u001b[39mparent_conn\u001b[38;5;241m.\u001b[39mrecv()\n\u001b[1;32m    144\u001b[0m \u001b[38;5;28;01mif\u001b[39;00m output\u001b[38;5;241m.\u001b[39mheader\u001b[38;5;241m.\u001b[39mstatus \u001b[38;5;241m!=\u001b[39m \u001b[38;5;241m200\u001b[39m:\n",
      "File \u001b[0;32m/mnt/d/Program Files/Unity/ml-agents-release_20/ml-agents-envs/mlagents_envs/rpc_communicator.py:106\u001b[0m, in \u001b[0;36mRpcCommunicator.poll_for_timeout\u001b[0;34m(self, poll_callback)\u001b[0m\n\u001b[1;32m    104\u001b[0m callback_timeout_wait \u001b[38;5;241m=\u001b[39m \u001b[38;5;28mself\u001b[39m\u001b[38;5;241m.\u001b[39mtimeout_wait \u001b[38;5;241m/\u001b[39m\u001b[38;5;241m/\u001b[39m \u001b[38;5;241m10\u001b[39m\n\u001b[1;32m    105\u001b[0m \u001b[38;5;28;01mwhile\u001b[39;00m time\u001b[38;5;241m.\u001b[39mmonotonic() \u001b[38;5;241m<\u001b[39m deadline:\n\u001b[0;32m--> 106\u001b[0m     \u001b[38;5;28;01mif\u001b[39;00m \u001b[38;5;28;43mself\u001b[39;49m\u001b[38;5;241;43m.\u001b[39;49m\u001b[43munity_to_external\u001b[49m\u001b[38;5;241;43m.\u001b[39;49m\u001b[43mparent_conn\u001b[49m\u001b[38;5;241;43m.\u001b[39;49m\u001b[43mpoll\u001b[49m\u001b[43m(\u001b[49m\u001b[43mcallback_timeout_wait\u001b[49m\u001b[43m)\u001b[49m:\n\u001b[1;32m    107\u001b[0m         \u001b[38;5;66;03m# Got an acknowledgment from the connection\u001b[39;00m\n\u001b[1;32m    108\u001b[0m         \u001b[38;5;28;01mreturn\u001b[39;00m\n\u001b[1;32m    109\u001b[0m     \u001b[38;5;28;01mif\u001b[39;00m poll_callback:\n\u001b[1;32m    110\u001b[0m         \u001b[38;5;66;03m# Fire the callback - if it detects something wrong, it should raise an exception.\u001b[39;00m\n",
      "File \u001b[0;32m/usr/lib/python3.9/multiprocessing/connection.py:262\u001b[0m, in \u001b[0;36m_ConnectionBase.poll\u001b[0;34m(self, timeout)\u001b[0m\n\u001b[1;32m    260\u001b[0m \u001b[38;5;28mself\u001b[39m\u001b[38;5;241m.\u001b[39m_check_closed()\n\u001b[1;32m    261\u001b[0m \u001b[38;5;28mself\u001b[39m\u001b[38;5;241m.\u001b[39m_check_readable()\n\u001b[0;32m--> 262\u001b[0m \u001b[38;5;28;01mreturn\u001b[39;00m \u001b[38;5;28;43mself\u001b[39;49m\u001b[38;5;241;43m.\u001b[39;49m\u001b[43m_poll\u001b[49m\u001b[43m(\u001b[49m\u001b[43mtimeout\u001b[49m\u001b[43m)\u001b[49m\n",
      "File \u001b[0;32m/usr/lib/python3.9/multiprocessing/connection.py:429\u001b[0m, in \u001b[0;36mConnection._poll\u001b[0;34m(self, timeout)\u001b[0m\n\u001b[1;32m    428\u001b[0m \u001b[38;5;28;01mdef\u001b[39;00m \u001b[38;5;21m_poll\u001b[39m(\u001b[38;5;28mself\u001b[39m, timeout):\n\u001b[0;32m--> 429\u001b[0m     r \u001b[38;5;241m=\u001b[39m \u001b[43mwait\u001b[49m\u001b[43m(\u001b[49m\u001b[43m[\u001b[49m\u001b[38;5;28;43mself\u001b[39;49m\u001b[43m]\u001b[49m\u001b[43m,\u001b[49m\u001b[43m \u001b[49m\u001b[43mtimeout\u001b[49m\u001b[43m)\u001b[49m\n\u001b[1;32m    430\u001b[0m     \u001b[38;5;28;01mreturn\u001b[39;00m \u001b[38;5;28mbool\u001b[39m(r)\n",
      "File \u001b[0;32m/usr/lib/python3.9/multiprocessing/connection.py:936\u001b[0m, in \u001b[0;36mwait\u001b[0;34m(object_list, timeout)\u001b[0m\n\u001b[1;32m    933\u001b[0m     deadline \u001b[38;5;241m=\u001b[39m time\u001b[38;5;241m.\u001b[39mmonotonic() \u001b[38;5;241m+\u001b[39m timeout\n\u001b[1;32m    935\u001b[0m \u001b[38;5;28;01mwhile\u001b[39;00m \u001b[38;5;28;01mTrue\u001b[39;00m:\n\u001b[0;32m--> 936\u001b[0m     ready \u001b[38;5;241m=\u001b[39m \u001b[43mselector\u001b[49m\u001b[38;5;241;43m.\u001b[39;49m\u001b[43mselect\u001b[49m\u001b[43m(\u001b[49m\u001b[43mtimeout\u001b[49m\u001b[43m)\u001b[49m\n\u001b[1;32m    937\u001b[0m     \u001b[38;5;28;01mif\u001b[39;00m ready:\n\u001b[1;32m    938\u001b[0m         \u001b[38;5;28;01mreturn\u001b[39;00m [key\u001b[38;5;241m.\u001b[39mfileobj \u001b[38;5;28;01mfor\u001b[39;00m (key, events) \u001b[38;5;129;01min\u001b[39;00m ready]\n",
      "File \u001b[0;32m/usr/lib/python3.9/selectors.py:416\u001b[0m, in \u001b[0;36m_PollLikeSelector.select\u001b[0;34m(self, timeout)\u001b[0m\n\u001b[1;32m    414\u001b[0m ready \u001b[38;5;241m=\u001b[39m []\n\u001b[1;32m    415\u001b[0m \u001b[38;5;28;01mtry\u001b[39;00m:\n\u001b[0;32m--> 416\u001b[0m     fd_event_list \u001b[38;5;241m=\u001b[39m \u001b[38;5;28;43mself\u001b[39;49m\u001b[38;5;241;43m.\u001b[39;49m\u001b[43m_selector\u001b[49m\u001b[38;5;241;43m.\u001b[39;49m\u001b[43mpoll\u001b[49m\u001b[43m(\u001b[49m\u001b[43mtimeout\u001b[49m\u001b[43m)\u001b[49m\n\u001b[1;32m    417\u001b[0m \u001b[38;5;28;01mexcept\u001b[39;00m \u001b[38;5;167;01mInterruptedError\u001b[39;00m:\n\u001b[1;32m    418\u001b[0m     \u001b[38;5;28;01mreturn\u001b[39;00m ready\n",
      "\u001b[0;31mKeyboardInterrupt\u001b[0m: "
     ]
    }
   ],
   "source": [
    "while True:\n",
    "    # exploration\n",
    "    for step in range(TRAJECTORY_SIZE):\n",
    "        actions = {}\n",
    "        for agent_id, agent in agents.items():\n",
    "            action = agent.decide_action_and_set()\n",
    "            actions[agent_id] = action[0]\n",
    "        agent_ids, states, rewards, dones = w_env.step()\n",
    "        for agent_id, agent in agents.items():\n",
    "            agent.update_experience(agent_ids, states, rewards, dones, actions[agent_id])\n",
    "        if any(dones):\n",
    "            _, _ = w_env.reset()\n",
    "            for agent_id, agent in agents.items():\n",
    "                agent.reset_episode()\n",
    "\n",
    "    # train\n",
    "    for agent_id, agent in agents.items():\n",
    "        agent.train(ppo_epoch=10, batch_size=32)"
   ]
  },
  {
   "cell_type": "code",
   "execution_count": null,
   "id": "ed5e7c9e",
   "metadata": {},
   "outputs": [],
   "source": []
  },
  {
   "cell_type": "code",
   "execution_count": 329,
   "id": "9245d4d0-f5a3-4754-b4f6-ae9d5d4112b7",
   "metadata": {},
   "outputs": [
    {
     "data": {
      "text/plain": [
       "[<matplotlib.lines.Line2D at 0x7f5b24425a30>]"
      ]
     },
     "execution_count": 329,
     "metadata": {},
     "output_type": "execute_result"
    },
    {
     "data": {
      "image/png": "[encoded data removed]",
      "text/plain": [
       "<Figure size 640x480 with 1 Axes>"
      ]
     },
     "metadata": {},
     "output_type": "display_data"
    }
   ],
   "source": [
    "plt.plot(agents[0]._episode_rewards)"
   ]
  },
  {
   "cell_type": "code",
   "execution_count": 330,
   "id": "503b7183-0472-40f2-b8af-ab0b84fd8020",
   "metadata": {},
   "outputs": [
    {
     "data": {
      "text/plain": [
       "[<matplotlib.lines.Line2D at 0x7f5b1e17b6d0>]"
      ]
     },
     "execution_count": 330,
     "metadata": {},
     "output_type": "execute_result"
    },
    {
     "data": {
      "image/png": "[encoded data removed]",
      "text/plain": [
       "<Figure size 640x480 with 1 Axes>"
      ]
     },
     "metadata": {},
     "output_type": "display_data"
    }
   ],
   "source": [
    "plt.plot(agents[1]._episode_rewards)"
   ]
  },
  {
   "cell_type": "code",
   "execution_count": 331,
   "id": "00b0bdad-1163-4b07-bfec-3b1d35b648bf",
   "metadata": {},
   "outputs": [
    {
     "data": {
      "text/plain": [
       "<AxesSubplot: >"
      ]
     },
     "execution_count": 331,
     "metadata": {},
     "output_type": "execute_result"
    },
    {
     "data": {
      "image/png": "[encoded data removed]",
      "text/plain": [
       "<Figure size 640x480 with 1 Axes>"
      ]
     },
     "metadata": {},
     "output_type": "display_data"
    }
   ],
   "source": [
    "pd.Series(agents[0]._episode_rewards).rolling(window=100).mean().plot()"
   ]
  },
  {
   "cell_type": "code",
   "execution_count": 332,
   "id": "56c938eb-49af-40cd-a052-0807221fc20b",
   "metadata": {},
   "outputs": [
    {
     "data": {
      "text/plain": [
       "<AxesSubplot: >"
      ]
     },
     "execution_count": 332,
     "metadata": {},
     "output_type": "execute_result"
    },
    {
     "data": {
      "image/png": "[encoded data removed]",
      "text/plain": [
       "<Figure size 640x480 with 1 Axes>"
      ]
     },
     "metadata": {},
     "output_type": "display_data"
    }
   ],
   "source": [
    "pd.Series(agents[1]._episode_rewards).rolling(window=100).mean().plot()"
   ]
  },
  {
   "cell_type": "code",
   "execution_count": null,
   "id": "23e0938e-ed6b-4a19-a123-05eced9d1ea8",
   "metadata": {},
   "outputs": [],
   "source": []
  },
  {
   "cell_type": "code",
   "execution_count": 333,
   "id": "143ae611",
   "metadata": {},
   "outputs": [],
   "source": [
    "unity_env.close()"
   ]
  },
  {
   "cell_type": "code",
   "execution_count": null,
   "id": "d6d58382",
   "metadata": {},
   "outputs": [],
   "source": []
  }
 ],
 "metadata": {
  "kernelspec": {
   "display_name": "Python 3 (ipykernel)",
   "language": "python",
   "name": "python3"
  },
  "language_info": {
   "codemirror_mode": {
    "name": "ipython",
    "version": 3
   },
   "file_extension": ".py",
   "mimetype": "text/x-python",
   "name": "python",
   "nbconvert_exporter": "python",
   "pygments_lexer": "ipython3",
   "version": "3.9.5"
  }
 },
 "nbformat": 4,
 "nbformat_minor": 5
}
