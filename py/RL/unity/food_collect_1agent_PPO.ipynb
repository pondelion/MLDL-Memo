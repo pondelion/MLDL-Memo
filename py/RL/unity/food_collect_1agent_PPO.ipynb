{
 "cells": [
  {
   "cell_type": "code",
   "execution_count": null,
   "id": "b79caba3-725e-40d9-9f76-c7cd8c3d44e8",
   "metadata": {},
   "outputs": [],
   "source": [
    "!pip install timm"
   ]
  },
  {
   "cell_type": "code",
   "execution_count": 1,
   "id": "1f818761-2400-4173-bce0-328b29cff595",
   "metadata": {},
   "outputs": [],
   "source": [
    "from mlagents_envs.envs.unity_gym_env import UnityToGymWrapper\n",
    "from mlagents_envs.environment import ActionTuple, UnityEnvironment\n",
    "from mlagents_envs.side_channel.engine_configuration_channel import \\\n",
    "    EngineConfigurationChannel\n",
    "from mlagents_envs.exception import (\n",
    "    UnityEnvironmentException,\n",
    "    UnityCommunicationException,\n",
    "    UnityCommunicatorStoppedException,\n",
    ")\n",
    "import gym\n",
    "import numpy as np\n",
    "import matplotlib.pyplot as plt\n",
    "import cv2"
   ]
  },
  {
   "cell_type": "code",
   "execution_count": 2,
   "id": "73dc0148-cf7c-4548-bb64-75b674a0a5bd",
   "metadata": {},
   "outputs": [
    {
     "name": "stderr",
     "output_type": "stream",
     "text": [
      "/home/ym/.cache/pypoetry/virtualenvs/mlagent-learn-20-test-54-2MrXv-py3.9/lib/python3.9/site-packages/tqdm/auto.py:22: TqdmWarning: IProgress not found. Please update jupyter and ipywidgets. See https://ipywidgets.readthedocs.io/en/stable/user_install.html\n",
      "  from .autonotebook import tqdm as notebook_tqdm\n"
     ]
    }
   ],
   "source": [
    "import collections\n",
    "from typing import Union\n",
    "import math\n",
    "import random\n",
    "from copy import deepcopy\n",
    "from typing import Optional\n",
    "\n",
    "import numpy as np\n",
    "import torch\n",
    "import torch.nn as nn\n",
    "import torch.nn.functional as F\n",
    "import torchvision.transforms as T\n",
    "from fastprogress import progress_bar as pb\n",
    "import matplotlib.pyplot as plt\n",
    "import pandas as pd\n",
    "import timm"
   ]
  },
  {
   "cell_type": "code",
   "execution_count": 3,
   "id": "d1730b1b-9917-4c6e-a440-660b8e18810b",
   "metadata": {},
   "outputs": [],
   "source": [
    "try:\n",
    "    unity_env.close()\n",
    "except Exception:\n",
    "    pass"
   ]
  },
  {
   "cell_type": "code",
   "execution_count": 4,
   "id": "8ca38f22-d338-4007-8c69-fb8810c8371c",
   "metadata": {},
   "outputs": [],
   "source": [
    "unity_env = UnityEnvironment(file_name=None)"
   ]
  },
  {
   "cell_type": "code",
   "execution_count": 5,
   "id": "28cbebd3-71d9-4311-a819-e448683a3caf",
   "metadata": {},
   "outputs": [],
   "source": [
    "unity_env.reset()"
   ]
  },
  {
   "cell_type": "code",
   "execution_count": 6,
   "id": "40a6ea44-bb7b-4be1-bd60-f18711d39f5e",
   "metadata": {},
   "outputs": [],
   "source": [
    "# env = UnityToGymWrapper(unity_env, allow_multiple_obs=True)"
   ]
  },
  {
   "cell_type": "code",
   "execution_count": 7,
   "id": "66eb58d8-ca63-47c6-af75-e229b211dc3a",
   "metadata": {},
   "outputs": [
    {
     "name": "stdout",
     "output_type": "stream",
     "text": [
      "behavior_names: ['My Behavior?team=0']\n",
      "\n",
      "== BehaviorSpecの情報の確認 ==\n",
      "observation_specs: [ObservationSpec(shape=(224, 224, 3), dimension_property=(<DimensionProperty.TRANSLATIONAL_EQUIVARIANCE: 2>, <DimensionProperty.TRANSLATIONAL_EQUIVARIANCE: 2>, <DimensionProperty.NONE: 1>), observation_type=<ObservationType.DEFAULT: 0>, name='CameraSensor'), ObservationSpec(shape=(22,), dimension_property=(<DimensionProperty.NONE: 1>,), observation_type=<ObservationType.DEFAULT: 0>, name='RayPerceptionSensor'), ObservationSpec(shape=(1,), dimension_property=(<DimensionProperty.NONE: 1>,), observation_type=<ObservationType.DEFAULT: 0>, name='VectorSensor_size1')]\n",
      "action_spec: Continuous: 0, Discrete: (4,)\n"
     ]
    }
   ],
   "source": [
    "# Unity環境のリセット\n",
    "unity_env.reset()\n",
    "\n",
    "# BehaviorNameのリストの取得\n",
    "behavior_names = list(unity_env.behavior_specs.keys())\n",
    "print('behavior_names:', behavior_names)\n",
    "\n",
    "# BehaviorSpecの取得\n",
    "behavior_spec = unity_env.behavior_specs[behavior_names[0]]\n",
    "\n",
    "# BehaviorSpecの情報の確認\n",
    "print('\\n== BehaviorSpecの情報の確認 ==')\n",
    "print('observation_specs:', behavior_spec.observation_specs)\n",
    "print('action_spec:', behavior_spec.action_spec)"
   ]
  },
  {
   "cell_type": "code",
   "execution_count": 8,
   "id": "17fe1806-7a59-4eeb-a63a-faddcd062b11",
   "metadata": {},
   "outputs": [
    {
     "name": "stdout",
     "output_type": "stream",
     "text": [
      "\n",
      "== DecisionStepsの情報の確認 ==\n",
      "obj: [array([[[[0.5647059 , 0.7372549 , 0.6039216 ],\n",
      "         [0.5647059 , 0.7372549 , 0.6039216 ],\n",
      "         [0.5647059 , 0.7372549 , 0.6039216 ],\n",
      "         ...,\n",
      "         [0.5647059 , 0.7372549 , 0.6039216 ],\n",
      "         [0.5647059 , 0.7372549 , 0.6039216 ],\n",
      "         [0.5647059 , 0.7372549 , 0.6039216 ]],\n",
      "\n",
      "        [[0.5647059 , 0.7372549 , 0.6039216 ],\n",
      "         [0.5647059 , 0.7372549 , 0.6039216 ],\n",
      "         [0.5647059 , 0.7372549 , 0.6039216 ],\n",
      "         ...,\n",
      "         [0.5647059 , 0.7372549 , 0.6039216 ],\n",
      "         [0.5647059 , 0.7372549 , 0.6039216 ],\n",
      "         [0.5647059 , 0.7372549 , 0.6039216 ]],\n",
      "\n",
      "        [[0.5647059 , 0.7372549 , 0.6039216 ],\n",
      "         [0.5647059 , 0.7372549 , 0.6039216 ],\n",
      "         [0.5647059 , 0.7372549 , 0.6039216 ],\n",
      "         ...,\n",
      "         [0.5647059 , 0.7372549 , 0.6039216 ],\n",
      "         [0.5647059 , 0.7372549 , 0.6039216 ],\n",
      "         [0.5647059 , 0.7372549 , 0.6039216 ]],\n",
      "\n",
      "        ...,\n",
      "\n",
      "        [[0.17254902, 0.19607843, 0.24705882],\n",
      "         [0.17254902, 0.19607843, 0.24705882],\n",
      "         [0.17254902, 0.19607843, 0.24705882],\n",
      "         ...,\n",
      "         [0.20392157, 0.23529412, 0.29411766],\n",
      "         [0.20392157, 0.23529412, 0.29803923],\n",
      "         [0.20392157, 0.23529412, 0.29803923]],\n",
      "\n",
      "        [[0.17254902, 0.19607843, 0.24705882],\n",
      "         [0.17254902, 0.19607843, 0.24705882],\n",
      "         [0.17254902, 0.19607843, 0.24705882],\n",
      "         ...,\n",
      "         [0.20392157, 0.23529412, 0.29411766],\n",
      "         [0.20392157, 0.23529412, 0.29411766],\n",
      "         [0.20392157, 0.23529412, 0.29411766]],\n",
      "\n",
      "        [[0.17254902, 0.19607843, 0.24705882],\n",
      "         [0.17254902, 0.19607843, 0.24705882],\n",
      "         [0.17254902, 0.19607843, 0.24313726],\n",
      "         ...,\n",
      "         [0.2       , 0.23137255, 0.2901961 ],\n",
      "         [0.2       , 0.23137255, 0.2901961 ],\n",
      "         [0.20392157, 0.23137255, 0.29411766]]]], dtype=float32), array([[1., 1., 1., 1., 1., 1., 1., 1., 1., 1., 1., 1., 1., 1., 1., 1.,\n",
      "        1., 1., 1., 1., 1., 1.]], dtype=float32), array([[0.]], dtype=float32)]\n",
      "reward: [0.]\n",
      "agent_id: [0]\n",
      "action_mask: [array([[False, False, False, False]])]\n",
      "\n",
      "== TerminalStepsの情報の確認 ==\n",
      "obs: [array([], shape=(0, 224, 224, 3), dtype=float32), array([], shape=(0, 22), dtype=float32), array([], shape=(0, 1), dtype=float32)]\n",
      "reward: []\n",
      "agent_id: []\n",
      "interrupted: []\n"
     ]
    }
   ],
   "source": [
    "# 現在のステップの情報の取得\n",
    "decision_steps, terminal_steps = unity_env.get_steps(behavior_names[0])\n",
    "\n",
    "# DecisionStepsの情報の確認\n",
    "print('\\n== DecisionStepsの情報の確認 ==')\n",
    "print('obj:', decision_steps.obs)\n",
    "print('reward:', decision_steps.reward)\n",
    "print('agent_id:', decision_steps.agent_id)\n",
    "print('action_mask:', decision_steps.action_mask)\n",
    "\n",
    "# TerminalStepsの情報の確認\n",
    "print('\\n== TerminalStepsの情報の確認 ==')\n",
    "print('obs:', terminal_steps.obs)\n",
    "print('reward:', terminal_steps.reward)\n",
    "print('agent_id:', terminal_steps.agent_id)\n",
    "print('interrupted:', terminal_steps.interrupted)"
   ]
  },
  {
   "cell_type": "code",
   "execution_count": 9,
   "id": "597fe5f0-8c40-4a78-ab4b-ba07517ddb5e",
   "metadata": {},
   "outputs": [
    {
     "data": {
      "text/plain": [
       "3"
      ]
     },
     "execution_count": 9,
     "metadata": {},
     "output_type": "execute_result"
    }
   ],
   "source": [
    "len(decision_steps.obs)"
   ]
  },
  {
   "cell_type": "code",
   "execution_count": 10,
   "id": "7215abf8-146d-42b3-82d1-8f37c8469b37",
   "metadata": {},
   "outputs": [
    {
     "data": {
      "text/plain": [
       "(1, 224, 224, 3)"
      ]
     },
     "execution_count": 10,
     "metadata": {},
     "output_type": "execute_result"
    }
   ],
   "source": [
    "decision_steps.obs[0].shape"
   ]
  },
  {
   "cell_type": "code",
   "execution_count": 15,
   "id": "97fd9564-d756-4a08-a9a7-aff5525a40a3",
   "metadata": {},
   "outputs": [
    {
     "data": {
      "image/png": "[encoded data removed]",
      "text/plain": [
       "<Figure size 640x480 with 1 Axes>"
      ]
     },
     "metadata": {},
     "output_type": "display_data"
    }
   ],
   "source": [
    "plt.imshow(decision_steps.obs[0][0, :, :, :])\n",
    "plt.show()"
   ]
  },
  {
   "cell_type": "code",
   "execution_count": 16,
   "id": "b51e0302-7a3c-4a7a-8751-f4ef0b51c3d6",
   "metadata": {},
   "outputs": [
    {
     "data": {
      "text/plain": [
       "array([[1., 1., 1., 1., 1., 1., 1., 1., 1., 1., 1., 1., 1., 1., 1., 1.,\n",
       "        1., 1., 1., 1., 1., 1.]], dtype=float32)"
      ]
     },
     "execution_count": 16,
     "metadata": {},
     "output_type": "execute_result"
    }
   ],
   "source": [
    "decision_steps.obs[1]"
   ]
  },
  {
   "cell_type": "code",
   "execution_count": 18,
   "id": "8bb2b5af-ad53-48e0-ba90-e7c12c02b1a5",
   "metadata": {},
   "outputs": [
    {
     "data": {
      "text/plain": [
       "array([[0.]], dtype=float32)"
      ]
     },
     "execution_count": 18,
     "metadata": {},
     "output_type": "execute_result"
    }
   ],
   "source": [
    "decision_steps.obs[2]"
   ]
  },
  {
   "cell_type": "code",
   "execution_count": null,
   "id": "ca8d0606-d3ef-4e5b-b83a-11f06c02a6ec",
   "metadata": {},
   "outputs": [],
   "source": []
  },
  {
   "cell_type": "code",
   "execution_count": 11,
   "id": "8c42aa00-10df-4c90-829c-e4eff9dd4858",
   "metadata": {},
   "outputs": [],
   "source": [
    "class ExpBuffer:\n",
    "\n",
    "    def __init__(\n",
    "        self,\n",
    "        max_size: int = 20000,\n",
    "        prob_alpha: float = 0.6,\n",
    "        beta_start: float = 0.4,\n",
    "        beta_frames: float = 100000,\n",
    "        n_step: int = 4,\n",
    "        gamma: float = 0.99,\n",
    "    ):\n",
    "        self._prob_alpha = prob_alpha\n",
    "        self._max_size = max_size\n",
    "        self._buf = []\n",
    "        self._pos = 0\n",
    "        self._beta_start = beta_start\n",
    "        self._beta = beta_start\n",
    "        self._beta_frames = beta_frames\n",
    "        self._n_step = n_step\n",
    "        self._gamma = gamma\n",
    "        self._total_discounted_rewards = np.array([np.nan]*max_size)\n",
    "        self._last_states = [np.nan]*max_size\n",
    "\n",
    "    def update_bata(self, idx) -> None:\n",
    "        beta = self._beta_start + idx * (1.0 - self._beta_start) / self._beta_frames\n",
    "        self._beta = min(1.0, beta)\n",
    "        return self._beta\n",
    "\n",
    "    def __len__(self):\n",
    "        return len(self._buf)\n",
    "\n",
    "    def append(\n",
    "        self,\n",
    "        state: np.ndarray,\n",
    "        action: int,\n",
    "        reward: Union[int, float],\n",
    "        done: bool,\n",
    "        next_state: np.ndarray,\n",
    "    ) -> None:\n",
    "        if len(self._buf) < self._max_size:\n",
    "            self._buf.append(\n",
    "                (state, action, reward, done, next_state)\n",
    "            )\n",
    "        else:\n",
    "            self._buf[self._pos] = (state, action, reward, done, next_state)\n",
    "\n",
    "        if len(self._buf) >= self._n_step:\n",
    "            dis_r = 0.0\n",
    "            last_state = self._buf[self._pos][0]\n",
    "            for i in range(self._n_step):\n",
    "                state, _, r, done, _ = self._buf[self._pos - i]\n",
    "                dis_r = r + self._gamma * dis_r\n",
    "                if done:\n",
    "                    last_state = state\n",
    "                    dis_r = r  # ※\n",
    "                self._total_discounted_rewards[self._pos - i] = dis_r\n",
    "                self._last_states[self._pos - i] = last_state\n",
    "            \n",
    "            for i in range(self._n_step-1):\n",
    "                done = self._buf[self._pos - i][3]\n",
    "                if done:\n",
    "                    break\n",
    "                self._total_discounted_rewards[self._pos - i] = np.nan\n",
    "                self._last_states[self._pos - i] = np.nan\n",
    "\n",
    "        self._pos = (self._pos + 1) % self._max_size\n",
    "\n",
    "    def get_latest_n(self, n: int):\n",
    "        if len(self._buf) < self._max_size:\n",
    "            if len(self._buf) < n+self._n_step:\n",
    "                raise RuntimeError('get_latest_n : len(self._buf) < n+self._n_step')\n",
    "            s_idx = self._pos - self._n_step - n \n",
    "            e_idx = self._pos - self._n_step\n",
    "            latest_exps = self._buf[s_idx:e_idx]\n",
    "            latest_total_rewards = self._total_discounted_rewards[s_idx:e_idx]\n",
    "            latest_last_states = self._last_states[s_idx:e_idx]\n",
    "        else:\n",
    "            s_idx = self._pos + self._max_size - self._n_step - n\n",
    "            e_idx = self._pos + self._max_size - self._n_step\n",
    "            latest_exps = (self._buf*2)[s_idx:e_idx]\n",
    "            latest_total_rewards = np.concatenate([self._total_discounted_rewards]*2)[s_idx:e_idx]\n",
    "            latest_last_states = (self._last_states*2)[s_idx:e_idx]\n",
    "        if len(latest_total_rewards) != n:\n",
    "            print(f'{s_idx} : {e_idx} : {e_idx-s_idx} : {len((self._total_discounted_rewards*2))}')\n",
    "        assert len(latest_exps) == n\n",
    "        assert len(latest_total_rewards) == n\n",
    "        assert len(latest_last_states) == n\n",
    "        states, actions, rewards, dones, next_states = zip(*latest_exps)\n",
    "        states = np.array(states)\n",
    "        actions = np.array(actions)\n",
    "        rewards = np.array(rewards)\n",
    "        dones = np.array(dones)\n",
    "        next_states = np.array(next_states)\n",
    "        last_states = np.stack(latest_last_states)\n",
    "        return states, actions, rewards, dones, latest_total_rewards, last_states\n",
    "\n",
    "    def update_priorities(self, sample_indices: np.ndarray, sample_priorities: np.ndarray) -> None:\n",
    "        self._priorities[sample_indices] = sample_priorities\n",
    "\n",
    "    @property\n",
    "    def gamma(self) -> float:\n",
    "        return self._gamma\n",
    "\n",
    "    @property\n",
    "    def n_step(self) -> float:\n",
    "        return self._n_step"
   ]
  },
  {
   "cell_type": "code",
   "execution_count": 12,
   "id": "99bb09f7-a18f-4d3e-b663-913217bce094",
   "metadata": {},
   "outputs": [],
   "source": [
    "class ModelActor(nn.Module):\n",
    "    def __init__(self, input_shape, act_size, hidden_size = 64):\n",
    "        super(ModelActor, self).__init__()\n",
    "\n",
    "        self._conv = nn.Sequential(\n",
    "            nn.Conv2d(input_shape[0], 32, kernel_size=8, stride=4),\n",
    "            nn.ReLU(),\n",
    "            nn.Conv2d(32, 64, kernel_size=4, stride=2),\n",
    "            nn.ReLU(),\n",
    "            nn.Conv2d(64, 64, kernel_size=3, stride=1),\n",
    "            nn.ReLU()\n",
    "        )\n",
    "\n",
    "        conv_out_dim = int(np.prod(\n",
    "            self._conv(torch.zeros(1, *input_shape)).size()\n",
    "        ))\n",
    "        \n",
    "        self.mu = nn.Sequential(\n",
    "            nn.Linear(conv_out_dim, hidden_size),\n",
    "            nn.Tanh(),\n",
    "            nn.Linear(hidden_size, hidden_size),\n",
    "            nn.Tanh(),\n",
    "            nn.Linear(hidden_size, act_size),\n",
    "#             nn.Tanh(),\n",
    "            nn.Softmax(-1),\n",
    "        )\n",
    "        self.logstd = nn.Parameter(torch.zeros(act_size))\n",
    "\n",
    "    def forward(self, x):\n",
    "        return self.mu(\n",
    "            self._conv(x).reshape(x.size()[0], -1)\n",
    "        )\n",
    "\n",
    "class ModelCritic(nn.Module):\n",
    "    def __init__(self, input_shape, hidden_size = 64):\n",
    "        super(ModelCritic, self).__init__()\n",
    "\n",
    "        self._conv = nn.Sequential(\n",
    "            nn.Conv2d(input_shape[0], 32, kernel_size=8, stride=4),\n",
    "            nn.ReLU(),\n",
    "            nn.Conv2d(32, 64, kernel_size=4, stride=2),\n",
    "            nn.ReLU(),\n",
    "            nn.Conv2d(64, 64, kernel_size=3, stride=1),\n",
    "            nn.ReLU()\n",
    "        )\n",
    "\n",
    "        conv_out_dim = int(np.prod(\n",
    "            self._conv(torch.zeros(1, *input_shape)).size()\n",
    "        ))\n",
    "        \n",
    "        self.value = nn.Sequential(\n",
    "            nn.Linear(conv_out_dim, hidden_size),\n",
    "            nn.ReLU(),\n",
    "            nn.Linear(hidden_size, hidden_size),\n",
    "            nn.ReLU(),\n",
    "            nn.Linear(hidden_size, 1),\n",
    "        )\n",
    "\n",
    "    def forward(self, x):\n",
    "        return self.value(\n",
    "            self._conv(x).reshape(x.size()[0], -1)\n",
    "        )"
   ]
  },
  {
   "cell_type": "code",
   "execution_count": 13,
   "id": "cd2ff66d-613b-4e8a-aee6-394d4e1f9e77",
   "metadata": {},
   "outputs": [],
   "source": [
    "class ModelActorSwin(nn.Module):\n",
    "    def __init__(self, input_shape, act_size, hidden_size = 64):\n",
    "        super(ModelActorSwin, self).__init__()\n",
    "\n",
    "        model_name = 'swin_tiny_patch4_window7_224'\n",
    "        self._conv = timm.create_model(model_name, pretrained=True)\n",
    "        self._conv.head.fc = nn.Identity()\n",
    "\n",
    "        conv_out_dim = int(np.prod(\n",
    "            self._conv(torch.zeros(1, *input_shape)).size()\n",
    "        ))\n",
    "        \n",
    "        self.mu = nn.Sequential(\n",
    "            nn.Linear(conv_out_dim, hidden_size),\n",
    "            nn.Tanh(),\n",
    "            nn.Linear(hidden_size, hidden_size),\n",
    "            nn.Tanh(),\n",
    "            nn.Linear(hidden_size, act_size),\n",
    "#             nn.Tanh(),\n",
    "            nn.Softmax(-1),\n",
    "        )\n",
    "        self.logstd = nn.Parameter(torch.zeros(act_size))\n",
    "\n",
    "    def forward(self, x):\n",
    "        return self.mu(\n",
    "            self._conv(x).reshape(x.size()[0], -1)\n",
    "        )\n",
    "\n",
    "class ModelCriticSwin(nn.Module):\n",
    "    def __init__(self, input_shape, hidden_size = 64):\n",
    "        super(ModelCriticSwin, self).__init__()\n",
    "\n",
    "        model_name = 'swin_tiny_patch4_window7_224'\n",
    "        self._conv = timm.create_model(model_name, pretrained=True)\n",
    "        self._conv.head.fc = nn.Identity()\n",
    "\n",
    "        conv_out_dim = int(np.prod(\n",
    "            self._conv(torch.zeros(1, *input_shape)).size()\n",
    "        ))\n",
    "        \n",
    "        self.value = nn.Sequential(\n",
    "            nn.Linear(conv_out_dim, hidden_size),\n",
    "            nn.ReLU(),\n",
    "            nn.Linear(hidden_size, hidden_size),\n",
    "            nn.ReLU(),\n",
    "            nn.Linear(hidden_size, 1),\n",
    "        )\n",
    "\n",
    "    def forward(self, x):\n",
    "        return self.value(\n",
    "            self._conv(x).reshape(x.size()[0], -1)\n",
    "        )"
   ]
  },
  {
   "cell_type": "code",
   "execution_count": 14,
   "id": "ced3c38f-b487-4cf2-b059-58ff4af0c8cd",
   "metadata": {},
   "outputs": [],
   "source": [
    "def calc_adv_ref(rewards, dones, net_crt, states_v, gamma, gae_lambda, batch_size, device=\"cpu\"):\n",
    "    # values_v = net_crt(states_v)\n",
    "    values_v = torch.cat([net_crt(states_v[batch_ofs:batch_ofs+batch_size]) for batch_ofs in range(0, states_v.shape[0], batch_size)], 0)\n",
    "    values = values_v.squeeze().data.cpu().numpy()\n",
    "\n",
    "    last_gae = 0.0\n",
    "    result_adv = []\n",
    "    result_ref = []\n",
    "    for val, next_val, reward, done in zip(reversed(values[:-1]),\n",
    "                                     reversed(values[1:]),\n",
    "                                     reversed(rewards[:-1]),\n",
    "                                     reversed(dones[:-1])):\n",
    "        if done:\n",
    "            delta = reward - val\n",
    "            last_gae = delta\n",
    "        else:\n",
    "            delta = reward + gamma * next_val - val\n",
    "            last_gae = delta + gamma * gae_lambda * last_gae\n",
    "        result_adv.append(last_gae)\n",
    "        result_ref.append(last_gae + val)\n",
    "\n",
    "    adv_v = torch.FloatTensor(list(reversed(result_adv)))\n",
    "    ref_v = torch.FloatTensor(list(reversed(result_ref)))\n",
    "    return adv_v.to(device), ref_v.to(device)"
   ]
  },
  {
   "cell_type": "code",
   "execution_count": 15,
   "id": "273b6b94-40fb-438e-9f90-936d53561e6d",
   "metadata": {},
   "outputs": [],
   "source": [
    "def calc_logprob(mu_v, logstd_v, actions_v):\n",
    "    p1 = - ((mu_v - actions_v) ** 2) / (2*torch.exp(logstd_v).clamp(min=1e-3))\n",
    "    p2 = - torch.log(torch.sqrt(2 * math.pi * torch.exp(logstd_v)))\n",
    "    return p1 + p2"
   ]
  },
  {
   "cell_type": "code",
   "execution_count": 16,
   "id": "fd0bd176-93c8-4678-8062-e5f23d14607a",
   "metadata": {},
   "outputs": [],
   "source": [
    "class Agent:\n",
    "\n",
    "    def __init__(\n",
    "        self,\n",
    "        env,\n",
    "        exp_buffer: ExpBuffer,\n",
    "        act_net: nn.Module,\n",
    "        crt_net: nn.Module,\n",
    "        epsilon_start: float = 1.0,\n",
    "        epsilon_final: float = 0.01,\n",
    "        epsilon_decay_last_step: int = 200000,\n",
    "        act_learning_rate: float = 1e-5,\n",
    "        crt_learning_rate: float = 1e-4,\n",
    "        adam_eps: float = None,\n",
    "        device: str = 'cuda' if torch.cuda.is_available() else 'cpu',\n",
    "        trajectory_size: int = 2049,\n",
    "        ppo_eps: float = 0.2,\n",
    "        gae_lambda: float = 0.95,\n",
    "    ):\n",
    "        self._env = env\n",
    "        self._exp_buffer = exp_buffer\n",
    "        self._act_net = act_net\n",
    "        self._crt_net = crt_net\n",
    "        self._epsilon_start = epsilon_start\n",
    "        self._epsilon_final = epsilon_final\n",
    "        self._epsilon_decay_last_step = epsilon_decay_last_step\n",
    "        self._epsilon = epsilon_start\n",
    "        self._device = device\n",
    "        self._total_step = 0\n",
    "        self._total_trained_samples = 0\n",
    "        # self._tgt_sync_steps = tgt_sync_steps\n",
    "        adam_kwargs = {}\n",
    "        if adam_eps is not None:\n",
    "            adam_kwargs['eps'] = adam_eps\n",
    "        self._act_optimizer = torch.optim.Adam(self._act_net.parameters(), lr=act_learning_rate, **adam_kwargs)\n",
    "        self._crt_optimizer = torch.optim.Adam(self._crt_net.parameters(), lr=crt_learning_rate, **adam_kwargs)\n",
    "        self._reset_episode()\n",
    "        # self._use_sync_net = use_sync_net\n",
    "        self._episode = 0\n",
    "        self._trajectory_size = trajectory_size\n",
    "        self._ppo_eps = ppo_eps\n",
    "        self._gae_lambda = gae_lambda\n",
    "\n",
    "    def _reset_episode(self):\n",
    "        self._state = self._env.reset()\n",
    "        self._total_reward = 0.0\n",
    "\n",
    "    @torch.no_grad()\n",
    "    def play_step(self, epsilon: Optional[float] = None, sync_target: bool = True):\n",
    "        if epsilon is None:\n",
    "            epsilon = self._epsilon\n",
    "        done_reward = None\n",
    "\n",
    "        if np.random.random() < epsilon:\n",
    "            action = self._env.action_space.sample()\n",
    "        else:\n",
    "            state_a = np.array([self._state], copy=False)\n",
    "            state_v = torch.tensor(state_a).float().to(self._device)\n",
    "            prob_v = self._act_net(state_v)\n",
    "#             action = prob_v.squeeze(dim=0).argmax().data.cpu().numpy()\n",
    "            prob = prob_v.squeeze(dim=0).data.cpu().numpy()\n",
    "            action = np.random.choice(range(len(prob)), size=1, p=prob).astype(int)[0]\n",
    "#             print(action)\n",
    "#             action = np.clip(action, -1, 1)\n",
    "\n",
    "        next_state, reward, is_done, _ = self._env.step(action)\n",
    "        self._total_reward += reward\n",
    "\n",
    "        self._exp_buffer.append(\n",
    "            self._state, action, reward, is_done, next_state\n",
    "        )\n",
    "        self._state = next_state\n",
    "        if is_done:\n",
    "            done_reward = self._total_reward\n",
    "            self._reset_episode()\n",
    "\n",
    "        self._total_step += 1\n",
    "        self._update_epsilon(self._total_step)\n",
    "        self._exp_buffer.update_bata(self._total_step)\n",
    "\n",
    "        # if self._total_step % self._tgt_sync_steps == 0 and sync_target:\n",
    "        #     self._tgt_net.load_state_dict(self._net.state_dict())\n",
    "        #     print(f'synced target net')\n",
    "\n",
    "        return done_reward\n",
    "\n",
    "    def train(self, ppo_epoch: int = 10, batch_size: int = 32) -> None:\n",
    "        n_step_gamma = self._exp_buffer.gamma ** self._exp_buffer.n_step\n",
    "\n",
    "        for stp in range(self._trajectory_size):\n",
    "            done_reward = self.play_step()\n",
    "            if done_reward is not None:\n",
    "                print(f'episode : {self._episode}, done reward : {done_reward}, total_step : {self._total_step}, cur_epsilon : {self._epsilon}')\n",
    "                self._episode += 1\n",
    "        traj_states, traj_actions, traj_rewards, traj_dones, traj_total_discounted_rewards, \\\n",
    "            traj_last_states = self._exp_buffer.get_latest_n(self._trajectory_size)\n",
    "        traj_states_v = torch.tensor(traj_states).float().to(self._device)\n",
    "        traj_actions_v = torch.tensor(traj_actions).to(self._device)\n",
    "        traj_discounted_rewards_v = torch.tensor(traj_total_discounted_rewards).to(self._device)\n",
    "        traj_done_mask = torch.BoolTensor(traj_dones).to(self._device)\n",
    "        # weights_v = torch.tensor(weights).to(self._device)\n",
    "\n",
    "        with torch.no_grad():\n",
    "            traj_adv_v, traj_ref_v = calc_adv_ref(\n",
    "                traj_total_discounted_rewards, traj_dones, self._crt_net, traj_states_v,\n",
    "                gamma=n_step_gamma, gae_lambda=self._gae_lambda, batch_size=batch_size, device=self._device  # reards or total_discounted_rewards ?\n",
    "            )\n",
    "            # traj_prob_v = self._act_net(traj_states_v)  # 変更要\n",
    "            traj_prob_v = torch.cat([self._act_net(traj_states_v[batch_ofs:batch_ofs+batch_size]) for batch_ofs in range(0, traj_states_v.shape[0], batch_size)], 0)\n",
    "    #         old_logprob_v = calc_logprob(mu_v, self._act_net.logstd, traj_actions_v)\n",
    "    #         action_prob_v = prob_v.max(1)[0]\n",
    "            traj_action_prob_v = traj_prob_v.gather(1, traj_actions_v.unsqueeze(-1))\n",
    "            old_logprob_v = torch.log(traj_action_prob_v)\n",
    "\n",
    "            # normalize advantages\n",
    "            traj_adv_v = traj_adv_v - torch.mean(traj_adv_v)\n",
    "            traj_adv_v /= torch.std(traj_adv_v)\n",
    "\n",
    "            # drop last entry from the trajectory, an our adv and ref value calculated without it\n",
    "            # trajectory = trajectory[:-1]\n",
    "            old_logprob_v = old_logprob_v[:-1].detach()\n",
    "\n",
    "        sum_loss_value = 0.0\n",
    "        sum_loss_policy = 0.0\n",
    "        count_steps = 0\n",
    "        \n",
    "        self._crt_net.train()\n",
    "        self._act_net.train()\n",
    "\n",
    "        for epoch in range(ppo_epoch):\n",
    "            for batch_ofs in range(0, self._trajectory_size-1, batch_size):\n",
    "                batch_l = batch_ofs + batch_size\n",
    "                states_v = traj_states_v[batch_ofs:batch_l]\n",
    "                actions_v = traj_actions_v[batch_ofs:batch_l]\n",
    "                batch_adv_v = traj_adv_v[batch_ofs:batch_l]\n",
    "                batch_adv_v = batch_adv_v.unsqueeze(-1)\n",
    "                batch_ref_v = traj_ref_v[batch_ofs:batch_l]\n",
    "                batch_old_logprob_v = old_logprob_v[batch_ofs:batch_l]\n",
    "\n",
    "                # critic training\n",
    "                self._crt_optimizer.zero_grad()\n",
    "                value_v = self._crt_net(states_v)\n",
    "                loss_value_v = F.mse_loss(value_v.squeeze(-1), batch_ref_v)\n",
    "                loss_value_v.backward()\n",
    "                self._crt_optimizer.step()\n",
    "\n",
    "                # actor training\n",
    "                self._act_optimizer.zero_grad()\n",
    "                prob_v = self._act_net(states_v)  # 変更要\n",
    "#                 action_prob_v = prob_v.max(1)[0]\n",
    "                action_prob_v = prob_v.gather(1, actions_v.unsqueeze(-1))\n",
    "#                 logprob_pi_v = calc_logprob(mu_v, self._act_net.logstd, actions_v)\n",
    "                logprob_pi_v = torch.log(action_prob_v)\n",
    "                ratio_v = torch.exp(logprob_pi_v - batch_old_logprob_v)\n",
    "                surr_obj_v = batch_adv_v * ratio_v\n",
    "                c_ratio_v = torch.clamp(ratio_v, 1.0 - self._ppo_eps, 1.0 + self._ppo_eps)\n",
    "                clipped_surr_v = batch_adv_v * c_ratio_v\n",
    "                loss_policy_v = -torch.min(surr_obj_v, clipped_surr_v).mean()\n",
    "                loss_policy_v.backward()\n",
    "                self._act_optimizer.step()\n",
    "\n",
    "                sum_loss_value += loss_value_v.item()\n",
    "                sum_loss_policy += loss_policy_v.item()\n",
    "                count_steps += 1\n",
    "\n",
    "        # self._exp_buffer.update_priorities(sampled_indices, prios)\n",
    "        self._total_trained_samples += batch_size\n",
    "\n",
    "    def initial_exploration(self, n_steps: int = 10000, epsilon: float = 1.0) -> None:\n",
    "        eps_bak = self._epsilon\n",
    "        total_step_bak = self._total_step\n",
    "        for i in pb(range(n_steps)):\n",
    "            self._epsilon = epsilon\n",
    "            self.play_step(sync_target=False)\n",
    "        self._total_step = total_step_bak\n",
    "        self._epsilon = eps_bak\n",
    "\n",
    "    def simulate_episode(self) -> float:\n",
    "        eps_bak = self._epsilon\n",
    "        total_step_bak = self._total_step\n",
    "        while True:\n",
    "            self._epsilon = 0.0\n",
    "            done_reward = self.play_step(sync_target=False)\n",
    "            if done_reward is not None:\n",
    "                break\n",
    "        self._total_step = total_step_bak\n",
    "        self._epsilon = eps_bak\n",
    "        return done_reward\n",
    "\n",
    "    def _update_epsilon(self, step_index: int) -> None:\n",
    "        self._epsilon = max(\n",
    "            self._epsilon_final,\n",
    "            self._epsilon_start - step_index / self._epsilon_decay_last_step\n",
    "        )"
   ]
  },
  {
   "cell_type": "code",
   "execution_count": 17,
   "id": "6b659c83-0839-48ae-9bbb-7b92484ac3c2",
   "metadata": {},
   "outputs": [],
   "source": [
    "class UnityToGymNumpyImgWrapper(UnityToGymWrapper):\n",
    "    def __init__(self, *args, **kwargs):\n",
    "        super(UnityToGymNumpyImgWrapper, self).__init__(*args, **kwargs)\n",
    "\n",
    "    def reset(self, *args, **kwargs):\n",
    "        state = super().reset(*args, **kwargs)\n",
    "        return np.array(state[0]).transpose(2, 0, 1)\n",
    "\n",
    "    def step(self, *args, **kwargs):\n",
    "        next_state, reward, is_done, info = super().step(*args, **kwargs)\n",
    "        return np.array(next_state[0]).transpose(2, 0, 1), reward, is_done, info"
   ]
  },
  {
   "cell_type": "code",
   "execution_count": 18,
   "id": "94ea8573-1523-48e0-8873-6a846a38b1a5",
   "metadata": {},
   "outputs": [],
   "source": [
    "class UnityToGymNumpyImgResizeWrapper(UnityToGymNumpyImgWrapper):\n",
    "    def __init__(self, *args, **kwargs):\n",
    "        super(UnityToGymNumpyImgResizeWrapper, self).__init__(*args, **kwargs)\n",
    "\n",
    "    def reset(self, *args, **kwargs):\n",
    "        state = super().reset(*args, **kwargs)\n",
    "#         return cv2.resize(state[:, :, 10:-10].transpose(1, 2, 0), (224, 224)).transpose(2, 0, 1)\n",
    "        # return state[:, :, 10:-10]\n",
    "        return state\n",
    "\n",
    "    def step(self, *args, **kwargs):\n",
    "        next_state, reward, is_done, info = super().step(*args, **kwargs)\n",
    "        next_state = cv2.resize(next_state[:, :, 10:-10].transpose(1, 2, 0), (224, 224)).transpose(2, 0, 1)\n",
    "        return next_state, reward, is_done, info\n",
    "        # return next_state[:, :, 10:-10], reward, is_done, info"
   ]
  },
  {
   "cell_type": "code",
   "execution_count": 19,
   "id": "62e9a5b3-602a-400b-a7a4-8a1639ef3b4e",
   "metadata": {},
   "outputs": [],
   "source": [
    "class UnityToGymNumpyImgResizeGrayWrapper(UnityToGymNumpyImgWrapper):\n",
    "    def __init__(self, *args, **kwargs):\n",
    "        super(UnityToGymNumpyImgResizeGrayWrapper, self).__init__(*args, **kwargs)\n",
    "\n",
    "    def reset(self, *args, **kwargs):\n",
    "        state = super().reset(*args, **kwargs)\n",
    "        return cv2.cvtColor(state[:, :, 10:-10].transpose(1, 2, 0), cv2.COLOR_RGB2GRAY).reshape(1, 64, 64)\n",
    "#         return state[:, :, 10:-10]\n",
    "\n",
    "    def step(self, *args, **kwargs):\n",
    "        next_state, reward, is_done, info = super().step(*args, **kwargs)\n",
    "        next_state = cv2.cvtColor(next_state[:, :, 10:-10].transpose(1, 2, 0), cv2.COLOR_RGB2GRAY).reshape(1, 64, 64)\n",
    "#         return next_state, reward, is_done, info\n",
    "        return next_state, reward, is_done, info"
   ]
  },
  {
   "cell_type": "code",
   "execution_count": null,
   "id": "d7d372d7-7617-4175-afa2-0a2f4ffb16f8",
   "metadata": {},
   "outputs": [],
   "source": []
  },
  {
   "cell_type": "code",
   "execution_count": 20,
   "id": "5b3d8036-0a52-422e-97bb-40942e59c637",
   "metadata": {},
   "outputs": [],
   "source": [
    "N_AGENTS = decision_steps.obs[0].shape[0]"
   ]
  },
  {
   "cell_type": "code",
   "execution_count": 21,
   "id": "2e3d11db-0689-4e44-859b-c5095010a2ce",
   "metadata": {},
   "outputs": [
    {
     "data": {
      "text/plain": [
       "1"
      ]
     },
     "execution_count": 21,
     "metadata": {},
     "output_type": "execute_result"
    }
   ],
   "source": [
    "N_AGENTS"
   ]
  },
  {
   "cell_type": "code",
   "execution_count": 22,
   "id": "47220c17-9390-408f-9384-7cce540741ea",
   "metadata": {},
   "outputs": [],
   "source": [
    "N_ACTIONS = behavior_spec.action_spec.discrete_branches[0]"
   ]
  },
  {
   "cell_type": "code",
   "execution_count": 23,
   "id": "b2eeb305-b5b7-4afa-8c48-d90a0ff71a52",
   "metadata": {},
   "outputs": [
    {
     "data": {
      "text/plain": [
       "4"
      ]
     },
     "execution_count": 23,
     "metadata": {},
     "output_type": "execute_result"
    }
   ],
   "source": [
    "N_ACTIONS"
   ]
  },
  {
   "cell_type": "code",
   "execution_count": null,
   "id": "8b04333b-9c23-4246-8cbc-a312967aa0d7",
   "metadata": {},
   "outputs": [],
   "source": []
  },
  {
   "cell_type": "code",
   "execution_count": null,
   "id": "baf6070a-448a-41d5-9e3a-5f45c54995d2",
   "metadata": {},
   "outputs": [],
   "source": []
  },
  {
   "cell_type": "code",
   "execution_count": 24,
   "id": "2430f095-924f-4b4f-b1c0-55aba4aa46d1",
   "metadata": {},
   "outputs": [],
   "source": [
    "env = UnityToGymNumpyImgResizeWrapper(unity_env, allow_multiple_obs=True)"
   ]
  },
  {
   "cell_type": "code",
   "execution_count": 25,
   "id": "47bca136-f7b5-47d7-a15e-4553dba173ee",
   "metadata": {},
   "outputs": [
    {
     "data": {
      "text/plain": [
       "Discrete(4)"
      ]
     },
     "execution_count": 25,
     "metadata": {},
     "output_type": "execute_result"
    }
   ],
   "source": [
    "env.action_space"
   ]
  },
  {
   "cell_type": "code",
   "execution_count": 26,
   "id": "9f7f34a9-13b7-4209-ae4c-2fe45a8418c4",
   "metadata": {},
   "outputs": [
    {
     "data": {
      "text/plain": [
       "Tuple(Box(0.0, 1.0, (224, 224, 3), float32), Box(-inf, inf, (23,), float32))"
      ]
     },
     "execution_count": 26,
     "metadata": {},
     "output_type": "execute_result"
    }
   ],
   "source": [
    "env.observation_space"
   ]
  },
  {
   "cell_type": "code",
   "execution_count": null,
   "id": "ae787cbb-45fc-49c1-bd30-1b0bae385566",
   "metadata": {},
   "outputs": [],
   "source": []
  },
  {
   "cell_type": "code",
   "execution_count": 27,
   "id": "ffde248f-0d80-4f12-af65-60891c1b4e64",
   "metadata": {},
   "outputs": [],
   "source": [
    "state = env.reset()"
   ]
  },
  {
   "cell_type": "code",
   "execution_count": 28,
   "id": "084ca095-226a-4ba3-8fdb-d88991ffbfe7",
   "metadata": {},
   "outputs": [
    {
     "data": {
      "text/plain": [
       "(3, 224, 224)"
      ]
     },
     "execution_count": 28,
     "metadata": {},
     "output_type": "execute_result"
    }
   ],
   "source": [
    "state.shape"
   ]
  },
  {
   "cell_type": "code",
   "execution_count": 32,
   "id": "fa3bcceb-db0a-45d4-a4c6-d95ec9e873f0",
   "metadata": {},
   "outputs": [],
   "source": [
    "OBS_DIM = state.shape"
   ]
  },
  {
   "cell_type": "code",
   "execution_count": null,
   "id": "b5d6d72a-24da-486f-ad82-d4b659a4f795",
   "metadata": {},
   "outputs": [],
   "source": []
  },
  {
   "cell_type": "code",
   "execution_count": 30,
   "id": "62f00696-12aa-4a8b-9d97-065c7f95308a",
   "metadata": {},
   "outputs": [
    {
     "data": {
      "text/plain": [
       "<matplotlib.image.AxesImage at 0x7fbb802aad30>"
      ]
     },
     "execution_count": 30,
     "metadata": {},
     "output_type": "execute_result"
    },
    {
     "data": {
      "image/png": "[encoded data removed]",
      "text/plain": [
       "<Figure size 640x480 with 1 Axes>"
      ]
     },
     "metadata": {},
     "output_type": "display_data"
    }
   ],
   "source": [
    "plt.imshow(state.transpose(1, 2, 0))"
   ]
  },
  {
   "cell_type": "code",
   "execution_count": null,
   "id": "2f6daa00-7710-4817-850d-56e269f19952",
   "metadata": {},
   "outputs": [],
   "source": []
  },
  {
   "cell_type": "code",
   "execution_count": 29,
   "id": "86502b50-e41a-4c88-a44e-73649880ef6b",
   "metadata": {},
   "outputs": [],
   "source": [
    "SEED = 77"
   ]
  },
  {
   "cell_type": "code",
   "execution_count": 30,
   "id": "8e59fc24-bc99-4957-83a9-eb6189f03c78",
   "metadata": {},
   "outputs": [],
   "source": [
    "random.seed(SEED)\n",
    "torch.manual_seed(SEED)\n",
    "device = torch.device(\"cuda\" if torch.cuda.is_available() else \"cpu\")"
   ]
  },
  {
   "cell_type": "code",
   "execution_count": 33,
   "id": "07875a02-b069-4d86-b513-388f4d6fa5ee",
   "metadata": {},
   "outputs": [
    {
     "name": "stderr",
     "output_type": "stream",
     "text": [
      "/home/ym/.cache/pypoetry/virtualenvs/mlagent-learn-20-test-54-2MrXv-py3.9/lib/python3.9/site-packages/torch/functional.py:568: UserWarning: torch.meshgrid: in an upcoming release, it will be required to pass the indexing argument. (Triggered internally at  ../aten/src/ATen/native/TensorShape.cpp:2228.)\n",
      "  return _VF.meshgrid(tensors, **kwargs)  # type: ignore[attr-defined]\n"
     ]
    }
   ],
   "source": [
    "# act_net = ModelActor(OBS_DIM, N_ACTIONS).to(device)\n",
    "# crt_net = ModelCritic(OBS_DIM).to(device)\n",
    "act_net = ModelActorSwin(OBS_DIM, N_ACTIONS).to(device)\n",
    "crt_net = ModelCriticSwin(OBS_DIM).to(device)"
   ]
  },
  {
   "cell_type": "code",
   "execution_count": 33,
   "id": "a35a7568-0ef3-4bdd-908a-0946d42b3bbc",
   "metadata": {},
   "outputs": [],
   "source": [
    "# act_net(torch.tensor(state).unsqueeze(0).to(device))"
   ]
  },
  {
   "cell_type": "code",
   "execution_count": 32,
   "id": "5720166f-012c-4359-bb99-81f25555335c",
   "metadata": {},
   "outputs": [
    {
     "data": {
      "text/plain": [
       "tensor([[-0.0799]], device='cuda:0', grad_fn=<AddmmBackward0>)"
      ]
     },
     "execution_count": 32,
     "metadata": {},
     "output_type": "execute_result"
    }
   ],
   "source": [
    "# crt_net(torch.tensor(state).unsqueeze(0).to(device))"
   ]
  },
  {
   "cell_type": "code",
   "execution_count": 34,
   "id": "fd765549-720d-4c13-813e-a86361950bff",
   "metadata": {},
   "outputs": [],
   "source": [
    "exp_buffer = ExpBuffer(\n",
    "    # max_size=20000,\n",
    "    max_size=2500,\n",
    "    prob_alpha=0.6,\n",
    "    beta_start=0.4,\n",
    "    beta_frames=30000, #100000,\n",
    "    n_step=1,\n",
    "    gamma=0.99,\n",
    ")"
   ]
  },
  {
   "cell_type": "code",
   "execution_count": 35,
   "id": "58017b8c-5df8-4ba6-9d1f-bb1ba5d854c1",
   "metadata": {},
   "outputs": [],
   "source": [
    "agent = Agent(\n",
    "    env=env,\n",
    "    exp_buffer=exp_buffer,\n",
    "    crt_net=crt_net,\n",
    "    act_net=act_net,\n",
    "    epsilon_start=0.6,\n",
    "    epsilon_final=0.002,\n",
    "    epsilon_decay_last_step=30000, #200000,\n",
    "    # tgt_sync_steps=1000,\n",
    "    act_learning_rate=1e-5,\n",
    "    crt_learning_rate=1e-4,\n",
    "    device=device,\n",
    "    trajectory_size=2049,\n",
    "    ppo_eps=0.2,\n",
    "    gae_lambda=0.95,\n",
    ")"
   ]
  },
  {
   "cell_type": "code",
   "execution_count": 36,
   "id": "a2064f1c-7eac-4b43-91ea-2859efbc5d83",
   "metadata": {},
   "outputs": [
    {
     "data": {
      "text/html": [
       "\n",
       "<style>\n",
       "    /* Turns off some styling */\n",
       "    progress {\n",
       "        /* gets rid of default border in Firefox and Opera. */\n",
       "        border: none;\n",
       "        /* Needs to be in here for Safari polyfill so background images work as expected. */\n",
       "        background-size: auto;\n",
       "    }\n",
       "    progress:not([value]), progress:not([value])::-webkit-progress-bar {\n",
       "        background: repeating-linear-gradient(45deg, #7e7e7e, #7e7e7e 10px, #5c5c5c 10px, #5c5c5c 20px);\n",
       "    }\n",
       "    .progress-bar-interrupted, .progress-bar-interrupted::-webkit-progress-bar {\n",
       "        background: #F44336;\n",
       "    }\n",
       "</style>\n"
      ],
      "text/plain": [
       "<IPython.core.display.HTML object>"
      ]
     },
     "metadata": {},
     "output_type": "display_data"
    },
    {
     "data": {
      "text/html": [
       "\n",
       "    <div>\n",
       "      <progress value='100' class='' max='100' style='width:300px; height:20px; vertical-align: middle;'></progress>\n",
       "      100.00% [100/100 00:09&lt;00:00]\n",
       "    </div>\n",
       "    "
      ],
      "text/plain": [
       "<IPython.core.display.HTML object>"
      ]
     },
     "metadata": {},
     "output_type": "display_data"
    }
   ],
   "source": [
    "agent.initial_exploration(n_steps=100)"
   ]
  },
  {
   "cell_type": "code",
   "execution_count": 37,
   "id": "d5b6132e-81fd-4f53-91b8-48375de2fa07",
   "metadata": {},
   "outputs": [],
   "source": [
    "states, actions, rewards, dones, next_states = zip(*agent._exp_buffer._buf)"
   ]
  },
  {
   "cell_type": "code",
   "execution_count": 38,
   "id": "01088e7a-ef03-4da7-8887-57fc8bffe550",
   "metadata": {},
   "outputs": [
    {
     "data": {
      "text/plain": [
       "[<matplotlib.lines.Line2D at 0x7f20c0734130>]"
      ]
     },
     "execution_count": 38,
     "metadata": {},
     "output_type": "execute_result"
    },
    {
     "data": {
      "image/png": "[encoded data removed]",
      "text/plain": [
       "<Figure size 1600x600 with 1 Axes>"
      ]
     },
     "metadata": {},
     "output_type": "display_data"
    }
   ],
   "source": [
    "plt.figure(figsize=(16, 6))\n",
    "plt.plot(rewards[:200])\n",
    "plt.plot(agent._exp_buffer._total_discounted_rewards[:200])"
   ]
  },
  {
   "cell_type": "code",
   "execution_count": null,
   "id": "26f394b2-bd34-4718-a298-98c550c786c6",
   "metadata": {},
   "outputs": [],
   "source": []
  },
  {
   "cell_type": "code",
   "execution_count": 39,
   "id": "1ee017cb-b0b0-4185-9836-4df9035f4754",
   "metadata": {},
   "outputs": [
    {
     "name": "stdout",
     "output_type": "stream",
     "text": [
      "episode : 0, done reward : 2.0, total_step : 1900, cur_epsilon : 0.5366666666666666\n",
      "episode : 1, done reward : -1.0, total_step : 3900, cur_epsilon : 0.47\n",
      "episode : 2, done reward : 3.0, total_step : 5900, cur_epsilon : 0.4033333333333333\n",
      "episode : 3, done reward : 2.0, total_step : 7900, cur_epsilon : 0.33666666666666667\n",
      "episode : 4, done reward : 8.0, total_step : 9900, cur_epsilon : 0.26999999999999996\n",
      "episode : 5, done reward : 15.0, total_step : 11900, cur_epsilon : 0.2033333333333333\n",
      "episode : 6, done reward : 4.0, total_step : 13900, cur_epsilon : 0.13666666666666666\n",
      "episode : 7, done reward : 10.0, total_step : 15900, cur_epsilon : 0.06999999999999995\n",
      "episode : 8, done reward : 7.0, total_step : 17900, cur_epsilon : 0.0033333333333332993\n",
      "episode : 9, done reward : 13.0, total_step : 19900, cur_epsilon : 0.002\n",
      "episode : 10, done reward : 8.0, total_step : 21900, cur_epsilon : 0.002\n",
      "episode : 11, done reward : 7.0, total_step : 23900, cur_epsilon : 0.002\n",
      "episode : 12, done reward : 12.0, total_step : 25900, cur_epsilon : 0.002\n",
      "episode : 13, done reward : 8.0, total_step : 27900, cur_epsilon : 0.002\n",
      "episode : 14, done reward : 8.0, total_step : 29900, cur_epsilon : 0.002\n",
      "episode : 15, done reward : 14.0, total_step : 31900, cur_epsilon : 0.002\n",
      "episode : 16, done reward : 17.0, total_step : 33900, cur_epsilon : 0.002\n",
      "episode : 17, done reward : 9.0, total_step : 35900, cur_epsilon : 0.002\n",
      "episode : 18, done reward : 16.0, total_step : 37900, cur_epsilon : 0.002\n",
      "episode : 19, done reward : 17.0, total_step : 39900, cur_epsilon : 0.002\n",
      "episode : 20, done reward : 20.0, total_step : 41900, cur_epsilon : 0.002\n",
      "episode : 21, done reward : 19.0, total_step : 43900, cur_epsilon : 0.002\n",
      "episode : 22, done reward : 21.0, total_step : 45900, cur_epsilon : 0.002\n",
      "episode : 23, done reward : 20.0, total_step : 47900, cur_epsilon : 0.002\n",
      "episode : 24, done reward : 12.0, total_step : 49900, cur_epsilon : 0.002\n",
      "episode : 25, done reward : 11.0, total_step : 51900, cur_epsilon : 0.002\n",
      "episode : 26, done reward : 19.0, total_step : 53900, cur_epsilon : 0.002\n",
      "episode : 27, done reward : 16.0, total_step : 55900, cur_epsilon : 0.002\n",
      "episode : 28, done reward : 12.0, total_step : 57900, cur_epsilon : 0.002\n",
      "episode : 29, done reward : 20.0, total_step : 59900, cur_epsilon : 0.002\n",
      "episode : 30, done reward : 21.0, total_step : 61900, cur_epsilon : 0.002\n",
      "episode : 31, done reward : 12.0, total_step : 63900, cur_epsilon : 0.002\n",
      "episode : 32, done reward : 15.0, total_step : 65900, cur_epsilon : 0.002\n",
      "episode : 33, done reward : 18.0, total_step : 67900, cur_epsilon : 0.002\n",
      "episode : 34, done reward : 10.0, total_step : 69900, cur_epsilon : 0.002\n",
      "episode : 35, done reward : 11.0, total_step : 71900, cur_epsilon : 0.002\n",
      "episode : 36, done reward : 27.0, total_step : 73900, cur_epsilon : 0.002\n",
      "episode : 37, done reward : 16.0, total_step : 75900, cur_epsilon : 0.002\n",
      "episode : 38, done reward : 14.0, total_step : 77900, cur_epsilon : 0.002\n",
      "episode : 39, done reward : 17.0, total_step : 79900, cur_epsilon : 0.002\n",
      "episode : 40, done reward : 17.0, total_step : 81900, cur_epsilon : 0.002\n"
     ]
    },
    {
     "ename": "KeyboardInterrupt",
     "evalue": "",
     "output_type": "error",
     "traceback": [
      "\u001b[0;31m---------------------------------------------------------------------------\u001b[0m",
      "\u001b[0;31mKeyboardInterrupt\u001b[0m                         Traceback (most recent call last)",
      "Cell \u001b[0;32mIn[39], line 4\u001b[0m\n\u001b[1;32m      1\u001b[0m episode \u001b[38;5;241m=\u001b[39m \u001b[38;5;241m0\u001b[39m\n\u001b[1;32m      3\u001b[0m \u001b[38;5;28;01mwhile\u001b[39;00m \u001b[38;5;28;01mTrue\u001b[39;00m:\n\u001b[0;32m----> 4\u001b[0m     \u001b[43magent\u001b[49m\u001b[38;5;241;43m.\u001b[39;49m\u001b[43mtrain\u001b[49m\u001b[43m(\u001b[49m\u001b[43mppo_epoch\u001b[49m\u001b[38;5;241;43m=\u001b[39;49m\u001b[38;5;241;43m4\u001b[39;49m\u001b[43m,\u001b[49m\u001b[43m \u001b[49m\u001b[43mbatch_size\u001b[49m\u001b[38;5;241;43m=\u001b[39;49m\u001b[38;5;241;43m16\u001b[39;49m\u001b[43m)\u001b[49m\n",
      "Cell \u001b[0;32mIn[16], line 91\u001b[0m, in \u001b[0;36mAgent.train\u001b[0;34m(self, ppo_epoch, batch_size)\u001b[0m\n\u001b[1;32m     88\u001b[0m n_step_gamma \u001b[38;5;241m=\u001b[39m \u001b[38;5;28mself\u001b[39m\u001b[38;5;241m.\u001b[39m_exp_buffer\u001b[38;5;241m.\u001b[39mgamma \u001b[38;5;241m*\u001b[39m\u001b[38;5;241m*\u001b[39m \u001b[38;5;28mself\u001b[39m\u001b[38;5;241m.\u001b[39m_exp_buffer\u001b[38;5;241m.\u001b[39mn_step\n\u001b[1;32m     90\u001b[0m \u001b[38;5;28;01mfor\u001b[39;00m stp \u001b[38;5;129;01min\u001b[39;00m \u001b[38;5;28mrange\u001b[39m(\u001b[38;5;28mself\u001b[39m\u001b[38;5;241m.\u001b[39m_trajectory_size):\n\u001b[0;32m---> 91\u001b[0m     done_reward \u001b[38;5;241m=\u001b[39m \u001b[38;5;28;43mself\u001b[39;49m\u001b[38;5;241;43m.\u001b[39;49m\u001b[43mplay_step\u001b[49m\u001b[43m(\u001b[49m\u001b[43m)\u001b[49m\n\u001b[1;32m     92\u001b[0m     \u001b[38;5;28;01mif\u001b[39;00m done_reward \u001b[38;5;129;01mis\u001b[39;00m \u001b[38;5;129;01mnot\u001b[39;00m \u001b[38;5;28;01mNone\u001b[39;00m:\n\u001b[1;32m     93\u001b[0m         \u001b[38;5;28mprint\u001b[39m(\u001b[38;5;124mf\u001b[39m\u001b[38;5;124m'\u001b[39m\u001b[38;5;124mepisode : \u001b[39m\u001b[38;5;132;01m{\u001b[39;00m\u001b[38;5;28mself\u001b[39m\u001b[38;5;241m.\u001b[39m_episode\u001b[38;5;132;01m}\u001b[39;00m\u001b[38;5;124m, done reward : \u001b[39m\u001b[38;5;132;01m{\u001b[39;00mdone_reward\u001b[38;5;132;01m}\u001b[39;00m\u001b[38;5;124m, total_step : \u001b[39m\u001b[38;5;132;01m{\u001b[39;00m\u001b[38;5;28mself\u001b[39m\u001b[38;5;241m.\u001b[39m_total_step\u001b[38;5;132;01m}\u001b[39;00m\u001b[38;5;124m, cur_epsilon : \u001b[39m\u001b[38;5;132;01m{\u001b[39;00m\u001b[38;5;28mself\u001b[39m\u001b[38;5;241m.\u001b[39m_epsilon\u001b[38;5;132;01m}\u001b[39;00m\u001b[38;5;124m'\u001b[39m)\n",
      "File \u001b[0;32m~/.cache/pypoetry/virtualenvs/mlagent-learn-20-test-54-2MrXv-py3.9/lib/python3.9/site-packages/torch/autograd/grad_mode.py:27\u001b[0m, in \u001b[0;36m_DecoratorContextManager.__call__.<locals>.decorate_context\u001b[0;34m(*args, **kwargs)\u001b[0m\n\u001b[1;32m     24\u001b[0m \u001b[38;5;129m@functools\u001b[39m\u001b[38;5;241m.\u001b[39mwraps(func)\n\u001b[1;32m     25\u001b[0m \u001b[38;5;28;01mdef\u001b[39;00m \u001b[38;5;21mdecorate_context\u001b[39m(\u001b[38;5;241m*\u001b[39margs, \u001b[38;5;241m*\u001b[39m\u001b[38;5;241m*\u001b[39mkwargs):\n\u001b[1;32m     26\u001b[0m     \u001b[38;5;28;01mwith\u001b[39;00m \u001b[38;5;28mself\u001b[39m\u001b[38;5;241m.\u001b[39mclone():\n\u001b[0;32m---> 27\u001b[0m         \u001b[38;5;28;01mreturn\u001b[39;00m \u001b[43mfunc\u001b[49m\u001b[43m(\u001b[49m\u001b[38;5;241;43m*\u001b[39;49m\u001b[43margs\u001b[49m\u001b[43m,\u001b[49m\u001b[43m \u001b[49m\u001b[38;5;241;43m*\u001b[39;49m\u001b[38;5;241;43m*\u001b[39;49m\u001b[43mkwargs\u001b[49m\u001b[43m)\u001b[49m\n",
      "Cell \u001b[0;32mIn[16], line 66\u001b[0m, in \u001b[0;36mAgent.play_step\u001b[0;34m(self, epsilon, sync_target)\u001b[0m\n\u001b[1;32m     62\u001b[0m             action \u001b[38;5;241m=\u001b[39m np\u001b[38;5;241m.\u001b[39mrandom\u001b[38;5;241m.\u001b[39mchoice(\u001b[38;5;28mrange\u001b[39m(\u001b[38;5;28mlen\u001b[39m(prob)), size\u001b[38;5;241m=\u001b[39m\u001b[38;5;241m1\u001b[39m, p\u001b[38;5;241m=\u001b[39mprob)\u001b[38;5;241m.\u001b[39mastype(\u001b[38;5;28mint\u001b[39m)[\u001b[38;5;241m0\u001b[39m]\n\u001b[1;32m     63\u001b[0m \u001b[38;5;66;03m#             print(action)\u001b[39;00m\n\u001b[1;32m     64\u001b[0m \u001b[38;5;66;03m#             action = np.clip(action, -1, 1)\u001b[39;00m\n\u001b[0;32m---> 66\u001b[0m         next_state, reward, is_done, _ \u001b[38;5;241m=\u001b[39m \u001b[38;5;28;43mself\u001b[39;49m\u001b[38;5;241;43m.\u001b[39;49m\u001b[43m_env\u001b[49m\u001b[38;5;241;43m.\u001b[39;49m\u001b[43mstep\u001b[49m\u001b[43m(\u001b[49m\u001b[43maction\u001b[49m\u001b[43m)\u001b[49m\n\u001b[1;32m     67\u001b[0m         \u001b[38;5;28mself\u001b[39m\u001b[38;5;241m.\u001b[39m_total_reward \u001b[38;5;241m+\u001b[39m\u001b[38;5;241m=\u001b[39m reward\n\u001b[1;32m     69\u001b[0m         \u001b[38;5;28mself\u001b[39m\u001b[38;5;241m.\u001b[39m_exp_buffer\u001b[38;5;241m.\u001b[39mappend(\n\u001b[1;32m     70\u001b[0m             \u001b[38;5;28mself\u001b[39m\u001b[38;5;241m.\u001b[39m_state, action, reward, is_done, next_state\n\u001b[1;32m     71\u001b[0m         )\n",
      "Cell \u001b[0;32mIn[18], line 12\u001b[0m, in \u001b[0;36mUnityToGymNumpyImgResizeWrapper.step\u001b[0;34m(self, *args, **kwargs)\u001b[0m\n\u001b[1;32m     11\u001b[0m \u001b[38;5;28;01mdef\u001b[39;00m \u001b[38;5;21mstep\u001b[39m(\u001b[38;5;28mself\u001b[39m, \u001b[38;5;241m*\u001b[39margs, \u001b[38;5;241m*\u001b[39m\u001b[38;5;241m*\u001b[39mkwargs):\n\u001b[0;32m---> 12\u001b[0m     next_state, reward, is_done, info \u001b[38;5;241m=\u001b[39m \u001b[38;5;28;43msuper\u001b[39;49m\u001b[43m(\u001b[49m\u001b[43m)\u001b[49m\u001b[38;5;241;43m.\u001b[39;49m\u001b[43mstep\u001b[49m\u001b[43m(\u001b[49m\u001b[38;5;241;43m*\u001b[39;49m\u001b[43margs\u001b[49m\u001b[43m,\u001b[49m\u001b[43m \u001b[49m\u001b[38;5;241;43m*\u001b[39;49m\u001b[38;5;241;43m*\u001b[39;49m\u001b[43mkwargs\u001b[49m\u001b[43m)\u001b[49m\n\u001b[1;32m     13\u001b[0m     next_state \u001b[38;5;241m=\u001b[39m cv2\u001b[38;5;241m.\u001b[39mresize(next_state[:, :, \u001b[38;5;241m10\u001b[39m:\u001b[38;5;241m-\u001b[39m\u001b[38;5;241m10\u001b[39m]\u001b[38;5;241m.\u001b[39mtranspose(\u001b[38;5;241m1\u001b[39m, \u001b[38;5;241m2\u001b[39m, \u001b[38;5;241m0\u001b[39m), (\u001b[38;5;241m224\u001b[39m, \u001b[38;5;241m224\u001b[39m))\u001b[38;5;241m.\u001b[39mtranspose(\u001b[38;5;241m2\u001b[39m, \u001b[38;5;241m0\u001b[39m, \u001b[38;5;241m1\u001b[39m)\n\u001b[1;32m     14\u001b[0m     \u001b[38;5;28;01mreturn\u001b[39;00m next_state, reward, is_done, info\n",
      "Cell \u001b[0;32mIn[17], line 10\u001b[0m, in \u001b[0;36mUnityToGymNumpyImgWrapper.step\u001b[0;34m(self, *args, **kwargs)\u001b[0m\n\u001b[1;32m      9\u001b[0m \u001b[38;5;28;01mdef\u001b[39;00m \u001b[38;5;21mstep\u001b[39m(\u001b[38;5;28mself\u001b[39m, \u001b[38;5;241m*\u001b[39margs, \u001b[38;5;241m*\u001b[39m\u001b[38;5;241m*\u001b[39mkwargs):\n\u001b[0;32m---> 10\u001b[0m     next_state, reward, is_done, info \u001b[38;5;241m=\u001b[39m \u001b[38;5;28;43msuper\u001b[39;49m\u001b[43m(\u001b[49m\u001b[43m)\u001b[49m\u001b[38;5;241;43m.\u001b[39;49m\u001b[43mstep\u001b[49m\u001b[43m(\u001b[49m\u001b[38;5;241;43m*\u001b[39;49m\u001b[43margs\u001b[49m\u001b[43m,\u001b[49m\u001b[43m \u001b[49m\u001b[38;5;241;43m*\u001b[39;49m\u001b[38;5;241;43m*\u001b[39;49m\u001b[43mkwargs\u001b[49m\u001b[43m)\u001b[49m\n\u001b[1;32m     11\u001b[0m     \u001b[38;5;28;01mreturn\u001b[39;00m np\u001b[38;5;241m.\u001b[39marray(next_state[\u001b[38;5;241m0\u001b[39m])\u001b[38;5;241m.\u001b[39mtranspose(\u001b[38;5;241m2\u001b[39m, \u001b[38;5;241m0\u001b[39m, \u001b[38;5;241m1\u001b[39m), reward, is_done, info\n",
      "File \u001b[0;32m/mnt/d/Program Files/Unity/ml-agents-release_20/ml-agents-envs/mlagents_envs/envs/unity_gym_env.py:200\u001b[0m, in \u001b[0;36mUnityToGymWrapper.step\u001b[0;34m(self, action)\u001b[0m\n\u001b[1;32m    197\u001b[0m     action_tuple\u001b[38;5;241m.\u001b[39madd_discrete(action)\n\u001b[1;32m    198\u001b[0m \u001b[38;5;28mself\u001b[39m\u001b[38;5;241m.\u001b[39m_env\u001b[38;5;241m.\u001b[39mset_actions(\u001b[38;5;28mself\u001b[39m\u001b[38;5;241m.\u001b[39mname, action_tuple)\n\u001b[0;32m--> 200\u001b[0m \u001b[38;5;28;43mself\u001b[39;49m\u001b[38;5;241;43m.\u001b[39;49m\u001b[43m_env\u001b[49m\u001b[38;5;241;43m.\u001b[39;49m\u001b[43mstep\u001b[49m\u001b[43m(\u001b[49m\u001b[43m)\u001b[49m\n\u001b[1;32m    201\u001b[0m decision_step, terminal_step \u001b[38;5;241m=\u001b[39m \u001b[38;5;28mself\u001b[39m\u001b[38;5;241m.\u001b[39m_env\u001b[38;5;241m.\u001b[39mget_steps(\u001b[38;5;28mself\u001b[39m\u001b[38;5;241m.\u001b[39mname)\n\u001b[1;32m    202\u001b[0m \u001b[38;5;28mself\u001b[39m\u001b[38;5;241m.\u001b[39m_check_agents(\u001b[38;5;28mmax\u001b[39m(\u001b[38;5;28mlen\u001b[39m(decision_step), \u001b[38;5;28mlen\u001b[39m(terminal_step)))\n",
      "File \u001b[0;32m/mnt/d/Program Files/Unity/ml-agents-release_20/ml-agents-envs/mlagents_envs/timers.py:305\u001b[0m, in \u001b[0;36mtimed.<locals>.wrapped\u001b[0;34m(*args, **kwargs)\u001b[0m\n\u001b[1;32m    303\u001b[0m \u001b[38;5;28;01mdef\u001b[39;00m \u001b[38;5;21mwrapped\u001b[39m(\u001b[38;5;241m*\u001b[39margs, \u001b[38;5;241m*\u001b[39m\u001b[38;5;241m*\u001b[39mkwargs):\n\u001b[1;32m    304\u001b[0m     \u001b[38;5;28;01mwith\u001b[39;00m hierarchical_timer(func\u001b[38;5;241m.\u001b[39m\u001b[38;5;18m__qualname__\u001b[39m):\n\u001b[0;32m--> 305\u001b[0m         \u001b[38;5;28;01mreturn\u001b[39;00m \u001b[43mfunc\u001b[49m\u001b[43m(\u001b[49m\u001b[38;5;241;43m*\u001b[39;49m\u001b[43margs\u001b[49m\u001b[43m,\u001b[49m\u001b[43m \u001b[49m\u001b[38;5;241;43m*\u001b[39;49m\u001b[38;5;241;43m*\u001b[39;49m\u001b[43mkwargs\u001b[49m\u001b[43m)\u001b[49m\n",
      "File \u001b[0;32m/mnt/d/Program Files/Unity/ml-agents-release_20/ml-agents-envs/mlagents_envs/environment.py:348\u001b[0m, in \u001b[0;36mUnityEnvironment.step\u001b[0;34m(self)\u001b[0m\n\u001b[1;32m    346\u001b[0m step_input \u001b[38;5;241m=\u001b[39m \u001b[38;5;28mself\u001b[39m\u001b[38;5;241m.\u001b[39m_generate_step_input(\u001b[38;5;28mself\u001b[39m\u001b[38;5;241m.\u001b[39m_env_actions)\n\u001b[1;32m    347\u001b[0m \u001b[38;5;28;01mwith\u001b[39;00m hierarchical_timer(\u001b[38;5;124m\"\u001b[39m\u001b[38;5;124mcommunicator.exchange\u001b[39m\u001b[38;5;124m\"\u001b[39m):\n\u001b[0;32m--> 348\u001b[0m     outputs \u001b[38;5;241m=\u001b[39m \u001b[38;5;28;43mself\u001b[39;49m\u001b[38;5;241;43m.\u001b[39;49m\u001b[43m_communicator\u001b[49m\u001b[38;5;241;43m.\u001b[39;49m\u001b[43mexchange\u001b[49m\u001b[43m(\u001b[49m\u001b[43mstep_input\u001b[49m\u001b[43m,\u001b[49m\u001b[43m \u001b[49m\u001b[38;5;28;43mself\u001b[39;49m\u001b[38;5;241;43m.\u001b[39;49m\u001b[43m_poll_process\u001b[49m\u001b[43m)\u001b[49m\n\u001b[1;32m    349\u001b[0m \u001b[38;5;28;01mif\u001b[39;00m outputs \u001b[38;5;129;01mis\u001b[39;00m \u001b[38;5;28;01mNone\u001b[39;00m:\n\u001b[1;32m    350\u001b[0m     \u001b[38;5;28;01mraise\u001b[39;00m UnityCommunicatorStoppedException(\u001b[38;5;124m\"\u001b[39m\u001b[38;5;124mCommunicator has exited.\u001b[39m\u001b[38;5;124m\"\u001b[39m)\n",
      "File \u001b[0;32m/mnt/d/Program Files/Unity/ml-agents-release_20/ml-agents-envs/mlagents_envs/rpc_communicator.py:142\u001b[0m, in \u001b[0;36mRpcCommunicator.exchange\u001b[0;34m(self, inputs, poll_callback)\u001b[0m\n\u001b[1;32m    140\u001b[0m message\u001b[38;5;241m.\u001b[39munity_input\u001b[38;5;241m.\u001b[39mCopyFrom(inputs)\n\u001b[1;32m    141\u001b[0m \u001b[38;5;28mself\u001b[39m\u001b[38;5;241m.\u001b[39munity_to_external\u001b[38;5;241m.\u001b[39mparent_conn\u001b[38;5;241m.\u001b[39msend(message)\n\u001b[0;32m--> 142\u001b[0m \u001b[38;5;28;43mself\u001b[39;49m\u001b[38;5;241;43m.\u001b[39;49m\u001b[43mpoll_for_timeout\u001b[49m\u001b[43m(\u001b[49m\u001b[43mpoll_callback\u001b[49m\u001b[43m)\u001b[49m\n\u001b[1;32m    143\u001b[0m output \u001b[38;5;241m=\u001b[39m \u001b[38;5;28mself\u001b[39m\u001b[38;5;241m.\u001b[39munity_to_external\u001b[38;5;241m.\u001b[39mparent_conn\u001b[38;5;241m.\u001b[39mrecv()\n\u001b[1;32m    144\u001b[0m \u001b[38;5;28;01mif\u001b[39;00m output\u001b[38;5;241m.\u001b[39mheader\u001b[38;5;241m.\u001b[39mstatus \u001b[38;5;241m!=\u001b[39m \u001b[38;5;241m200\u001b[39m:\n",
      "File \u001b[0;32m/mnt/d/Program Files/Unity/ml-agents-release_20/ml-agents-envs/mlagents_envs/rpc_communicator.py:106\u001b[0m, in \u001b[0;36mRpcCommunicator.poll_for_timeout\u001b[0;34m(self, poll_callback)\u001b[0m\n\u001b[1;32m    104\u001b[0m callback_timeout_wait \u001b[38;5;241m=\u001b[39m \u001b[38;5;28mself\u001b[39m\u001b[38;5;241m.\u001b[39mtimeout_wait \u001b[38;5;241m/\u001b[39m\u001b[38;5;241m/\u001b[39m \u001b[38;5;241m10\u001b[39m\n\u001b[1;32m    105\u001b[0m \u001b[38;5;28;01mwhile\u001b[39;00m time\u001b[38;5;241m.\u001b[39mmonotonic() \u001b[38;5;241m<\u001b[39m deadline:\n\u001b[0;32m--> 106\u001b[0m     \u001b[38;5;28;01mif\u001b[39;00m \u001b[38;5;28;43mself\u001b[39;49m\u001b[38;5;241;43m.\u001b[39;49m\u001b[43munity_to_external\u001b[49m\u001b[38;5;241;43m.\u001b[39;49m\u001b[43mparent_conn\u001b[49m\u001b[38;5;241;43m.\u001b[39;49m\u001b[43mpoll\u001b[49m\u001b[43m(\u001b[49m\u001b[43mcallback_timeout_wait\u001b[49m\u001b[43m)\u001b[49m:\n\u001b[1;32m    107\u001b[0m         \u001b[38;5;66;03m# Got an acknowledgment from the connection\u001b[39;00m\n\u001b[1;32m    108\u001b[0m         \u001b[38;5;28;01mreturn\u001b[39;00m\n\u001b[1;32m    109\u001b[0m     \u001b[38;5;28;01mif\u001b[39;00m poll_callback:\n\u001b[1;32m    110\u001b[0m         \u001b[38;5;66;03m# Fire the callback - if it detects something wrong, it should raise an exception.\u001b[39;00m\n",
      "File \u001b[0;32m/usr/lib/python3.9/multiprocessing/connection.py:262\u001b[0m, in \u001b[0;36m_ConnectionBase.poll\u001b[0;34m(self, timeout)\u001b[0m\n\u001b[1;32m    260\u001b[0m \u001b[38;5;28mself\u001b[39m\u001b[38;5;241m.\u001b[39m_check_closed()\n\u001b[1;32m    261\u001b[0m \u001b[38;5;28mself\u001b[39m\u001b[38;5;241m.\u001b[39m_check_readable()\n\u001b[0;32m--> 262\u001b[0m \u001b[38;5;28;01mreturn\u001b[39;00m \u001b[38;5;28;43mself\u001b[39;49m\u001b[38;5;241;43m.\u001b[39;49m\u001b[43m_poll\u001b[49m\u001b[43m(\u001b[49m\u001b[43mtimeout\u001b[49m\u001b[43m)\u001b[49m\n",
      "File \u001b[0;32m/usr/lib/python3.9/multiprocessing/connection.py:429\u001b[0m, in \u001b[0;36mConnection._poll\u001b[0;34m(self, timeout)\u001b[0m\n\u001b[1;32m    428\u001b[0m \u001b[38;5;28;01mdef\u001b[39;00m \u001b[38;5;21m_poll\u001b[39m(\u001b[38;5;28mself\u001b[39m, timeout):\n\u001b[0;32m--> 429\u001b[0m     r \u001b[38;5;241m=\u001b[39m \u001b[43mwait\u001b[49m\u001b[43m(\u001b[49m\u001b[43m[\u001b[49m\u001b[38;5;28;43mself\u001b[39;49m\u001b[43m]\u001b[49m\u001b[43m,\u001b[49m\u001b[43m \u001b[49m\u001b[43mtimeout\u001b[49m\u001b[43m)\u001b[49m\n\u001b[1;32m    430\u001b[0m     \u001b[38;5;28;01mreturn\u001b[39;00m \u001b[38;5;28mbool\u001b[39m(r)\n",
      "File \u001b[0;32m/usr/lib/python3.9/multiprocessing/connection.py:936\u001b[0m, in \u001b[0;36mwait\u001b[0;34m(object_list, timeout)\u001b[0m\n\u001b[1;32m    933\u001b[0m     deadline \u001b[38;5;241m=\u001b[39m time\u001b[38;5;241m.\u001b[39mmonotonic() \u001b[38;5;241m+\u001b[39m timeout\n\u001b[1;32m    935\u001b[0m \u001b[38;5;28;01mwhile\u001b[39;00m \u001b[38;5;28;01mTrue\u001b[39;00m:\n\u001b[0;32m--> 936\u001b[0m     ready \u001b[38;5;241m=\u001b[39m \u001b[43mselector\u001b[49m\u001b[38;5;241;43m.\u001b[39;49m\u001b[43mselect\u001b[49m\u001b[43m(\u001b[49m\u001b[43mtimeout\u001b[49m\u001b[43m)\u001b[49m\n\u001b[1;32m    937\u001b[0m     \u001b[38;5;28;01mif\u001b[39;00m ready:\n\u001b[1;32m    938\u001b[0m         \u001b[38;5;28;01mreturn\u001b[39;00m [key\u001b[38;5;241m.\u001b[39mfileobj \u001b[38;5;28;01mfor\u001b[39;00m (key, events) \u001b[38;5;129;01min\u001b[39;00m ready]\n",
      "File \u001b[0;32m/usr/lib/python3.9/selectors.py:416\u001b[0m, in \u001b[0;36m_PollLikeSelector.select\u001b[0;34m(self, timeout)\u001b[0m\n\u001b[1;32m    414\u001b[0m ready \u001b[38;5;241m=\u001b[39m []\n\u001b[1;32m    415\u001b[0m \u001b[38;5;28;01mtry\u001b[39;00m:\n\u001b[0;32m--> 416\u001b[0m     fd_event_list \u001b[38;5;241m=\u001b[39m \u001b[38;5;28;43mself\u001b[39;49m\u001b[38;5;241;43m.\u001b[39;49m\u001b[43m_selector\u001b[49m\u001b[38;5;241;43m.\u001b[39;49m\u001b[43mpoll\u001b[49m\u001b[43m(\u001b[49m\u001b[43mtimeout\u001b[49m\u001b[43m)\u001b[49m\n\u001b[1;32m    417\u001b[0m \u001b[38;5;28;01mexcept\u001b[39;00m \u001b[38;5;167;01mInterruptedError\u001b[39;00m:\n\u001b[1;32m    418\u001b[0m     \u001b[38;5;28;01mreturn\u001b[39;00m ready\n",
      "\u001b[0;31mKeyboardInterrupt\u001b[0m: "
     ]
    }
   ],
   "source": [
    "episode = 0\n",
    "\n",
    "while True:\n",
    "    agent.train(ppo_epoch=4, batch_size=16)"
   ]
  },
  {
   "cell_type": "code",
   "execution_count": 41,
   "id": "4d6b1352-3962-470f-8fa0-22defd859029",
   "metadata": {},
   "outputs": [
    {
     "name": "stdout",
     "output_type": "stream",
     "text": [
      "episode : 0, done reward : 2.0, total_step : 1900, cur_epsilon : 0.5366666666666666\n",
      "episode : 1, done reward : 1.0, total_step : 3900, cur_epsilon : 0.47\n",
      "episode : 2, done reward : 0.0, total_step : 5900, cur_epsilon : 0.4033333333333333\n",
      "episode : 3, done reward : 0.0, total_step : 7900, cur_epsilon : 0.33666666666666667\n",
      "episode : 4, done reward : -3.0, total_step : 9900, cur_epsilon : 0.26999999999999996\n",
      "episode : 5, done reward : 6.0, total_step : 11900, cur_epsilon : 0.2033333333333333\n",
      "episode : 6, done reward : 4.0, total_step : 13900, cur_epsilon : 0.13666666666666666\n",
      "episode : 7, done reward : 2.0, total_step : 15900, cur_epsilon : 0.06999999999999995\n",
      "episode : 8, done reward : 4.0, total_step : 17900, cur_epsilon : 0.0033333333333332993\n",
      "episode : 9, done reward : 10.0, total_step : 19900, cur_epsilon : 0.002\n",
      "episode : 10, done reward : 13.0, total_step : 21900, cur_epsilon : 0.002\n",
      "episode : 11, done reward : 18.0, total_step : 23900, cur_epsilon : 0.002\n",
      "episode : 12, done reward : 15.0, total_step : 25900, cur_epsilon : 0.002\n",
      "episode : 13, done reward : 17.0, total_step : 27900, cur_epsilon : 0.002\n",
      "episode : 14, done reward : 20.0, total_step : 29900, cur_epsilon : 0.002\n",
      "episode : 15, done reward : 14.0, total_step : 31900, cur_epsilon : 0.002\n",
      "episode : 16, done reward : 14.0, total_step : 33900, cur_epsilon : 0.002\n",
      "episode : 17, done reward : 16.0, total_step : 35900, cur_epsilon : 0.002\n",
      "episode : 18, done reward : 21.0, total_step : 37900, cur_epsilon : 0.002\n"
     ]
    },
    {
     "ename": "KeyboardInterrupt",
     "evalue": "",
     "output_type": "error",
     "traceback": [
      "\u001b[0;31m---------------------------------------------------------------------------\u001b[0m",
      "\u001b[0;31mKeyboardInterrupt\u001b[0m                         Traceback (most recent call last)",
      "Cell \u001b[0;32mIn[41], line 4\u001b[0m\n\u001b[1;32m      1\u001b[0m episode \u001b[38;5;241m=\u001b[39m \u001b[38;5;241m0\u001b[39m\n\u001b[1;32m      3\u001b[0m \u001b[38;5;28;01mwhile\u001b[39;00m \u001b[38;5;28;01mTrue\u001b[39;00m:\n\u001b[0;32m----> 4\u001b[0m     \u001b[43magent\u001b[49m\u001b[38;5;241;43m.\u001b[39;49m\u001b[43mtrain\u001b[49m\u001b[43m(\u001b[49m\u001b[43mppo_epoch\u001b[49m\u001b[38;5;241;43m=\u001b[39;49m\u001b[38;5;241;43m10\u001b[39;49m\u001b[43m,\u001b[49m\u001b[43m \u001b[49m\u001b[43mbatch_size\u001b[49m\u001b[38;5;241;43m=\u001b[39;49m\u001b[38;5;241;43m32\u001b[39;49m\u001b[43m)\u001b[49m\n",
      "Cell \u001b[0;32mIn[16], line 91\u001b[0m, in \u001b[0;36mAgent.train\u001b[0;34m(self, ppo_epoch, batch_size)\u001b[0m\n\u001b[1;32m     88\u001b[0m n_step_gamma \u001b[38;5;241m=\u001b[39m \u001b[38;5;28mself\u001b[39m\u001b[38;5;241m.\u001b[39m_exp_buffer\u001b[38;5;241m.\u001b[39mgamma \u001b[38;5;241m*\u001b[39m\u001b[38;5;241m*\u001b[39m \u001b[38;5;28mself\u001b[39m\u001b[38;5;241m.\u001b[39m_exp_buffer\u001b[38;5;241m.\u001b[39mn_step\n\u001b[1;32m     90\u001b[0m \u001b[38;5;28;01mfor\u001b[39;00m stp \u001b[38;5;129;01min\u001b[39;00m \u001b[38;5;28mrange\u001b[39m(\u001b[38;5;28mself\u001b[39m\u001b[38;5;241m.\u001b[39m_trajectory_size):\n\u001b[0;32m---> 91\u001b[0m     done_reward \u001b[38;5;241m=\u001b[39m \u001b[38;5;28;43mself\u001b[39;49m\u001b[38;5;241;43m.\u001b[39;49m\u001b[43mplay_step\u001b[49m\u001b[43m(\u001b[49m\u001b[43m)\u001b[49m\n\u001b[1;32m     92\u001b[0m     \u001b[38;5;28;01mif\u001b[39;00m done_reward \u001b[38;5;129;01mis\u001b[39;00m \u001b[38;5;129;01mnot\u001b[39;00m \u001b[38;5;28;01mNone\u001b[39;00m:\n\u001b[1;32m     93\u001b[0m         \u001b[38;5;28mprint\u001b[39m(\u001b[38;5;124mf\u001b[39m\u001b[38;5;124m'\u001b[39m\u001b[38;5;124mepisode : \u001b[39m\u001b[38;5;132;01m{\u001b[39;00m\u001b[38;5;28mself\u001b[39m\u001b[38;5;241m.\u001b[39m_episode\u001b[38;5;132;01m}\u001b[39;00m\u001b[38;5;124m, done reward : \u001b[39m\u001b[38;5;132;01m{\u001b[39;00mdone_reward\u001b[38;5;132;01m}\u001b[39;00m\u001b[38;5;124m, total_step : \u001b[39m\u001b[38;5;132;01m{\u001b[39;00m\u001b[38;5;28mself\u001b[39m\u001b[38;5;241m.\u001b[39m_total_step\u001b[38;5;132;01m}\u001b[39;00m\u001b[38;5;124m, cur_epsilon : \u001b[39m\u001b[38;5;132;01m{\u001b[39;00m\u001b[38;5;28mself\u001b[39m\u001b[38;5;241m.\u001b[39m_epsilon\u001b[38;5;132;01m}\u001b[39;00m\u001b[38;5;124m'\u001b[39m)\n",
      "File \u001b[0;32m~/.cache/pypoetry/virtualenvs/mlagent-learn-20-test-54-2MrXv-py3.9/lib/python3.9/site-packages/torch/autograd/grad_mode.py:27\u001b[0m, in \u001b[0;36m_DecoratorContextManager.__call__.<locals>.decorate_context\u001b[0;34m(*args, **kwargs)\u001b[0m\n\u001b[1;32m     24\u001b[0m \u001b[38;5;129m@functools\u001b[39m\u001b[38;5;241m.\u001b[39mwraps(func)\n\u001b[1;32m     25\u001b[0m \u001b[38;5;28;01mdef\u001b[39;00m \u001b[38;5;21mdecorate_context\u001b[39m(\u001b[38;5;241m*\u001b[39margs, \u001b[38;5;241m*\u001b[39m\u001b[38;5;241m*\u001b[39mkwargs):\n\u001b[1;32m     26\u001b[0m     \u001b[38;5;28;01mwith\u001b[39;00m \u001b[38;5;28mself\u001b[39m\u001b[38;5;241m.\u001b[39mclone():\n\u001b[0;32m---> 27\u001b[0m         \u001b[38;5;28;01mreturn\u001b[39;00m \u001b[43mfunc\u001b[49m\u001b[43m(\u001b[49m\u001b[38;5;241;43m*\u001b[39;49m\u001b[43margs\u001b[49m\u001b[43m,\u001b[49m\u001b[43m \u001b[49m\u001b[38;5;241;43m*\u001b[39;49m\u001b[38;5;241;43m*\u001b[39;49m\u001b[43mkwargs\u001b[49m\u001b[43m)\u001b[49m\n",
      "Cell \u001b[0;32mIn[16], line 66\u001b[0m, in \u001b[0;36mAgent.play_step\u001b[0;34m(self, epsilon, sync_target)\u001b[0m\n\u001b[1;32m     62\u001b[0m             action \u001b[38;5;241m=\u001b[39m np\u001b[38;5;241m.\u001b[39mrandom\u001b[38;5;241m.\u001b[39mchoice(\u001b[38;5;28mrange\u001b[39m(\u001b[38;5;28mlen\u001b[39m(prob)), size\u001b[38;5;241m=\u001b[39m\u001b[38;5;241m1\u001b[39m, p\u001b[38;5;241m=\u001b[39mprob)\u001b[38;5;241m.\u001b[39mastype(\u001b[38;5;28mint\u001b[39m)[\u001b[38;5;241m0\u001b[39m]\n\u001b[1;32m     63\u001b[0m \u001b[38;5;66;03m#             print(action)\u001b[39;00m\n\u001b[1;32m     64\u001b[0m \u001b[38;5;66;03m#             action = np.clip(action, -1, 1)\u001b[39;00m\n\u001b[0;32m---> 66\u001b[0m         next_state, reward, is_done, _ \u001b[38;5;241m=\u001b[39m \u001b[38;5;28;43mself\u001b[39;49m\u001b[38;5;241;43m.\u001b[39;49m\u001b[43m_env\u001b[49m\u001b[38;5;241;43m.\u001b[39;49m\u001b[43mstep\u001b[49m\u001b[43m(\u001b[49m\u001b[43maction\u001b[49m\u001b[43m)\u001b[49m\n\u001b[1;32m     67\u001b[0m         \u001b[38;5;28mself\u001b[39m\u001b[38;5;241m.\u001b[39m_total_reward \u001b[38;5;241m+\u001b[39m\u001b[38;5;241m=\u001b[39m reward\n\u001b[1;32m     69\u001b[0m         \u001b[38;5;28mself\u001b[39m\u001b[38;5;241m.\u001b[39m_exp_buffer\u001b[38;5;241m.\u001b[39mappend(\n\u001b[1;32m     70\u001b[0m             \u001b[38;5;28mself\u001b[39m\u001b[38;5;241m.\u001b[39m_state, action, reward, is_done, next_state\n\u001b[1;32m     71\u001b[0m         )\n",
      "Cell \u001b[0;32mIn[18], line 12\u001b[0m, in \u001b[0;36mUnityToGymNumpyImgResizeWrapper.step\u001b[0;34m(self, *args, **kwargs)\u001b[0m\n\u001b[1;32m     11\u001b[0m \u001b[38;5;28;01mdef\u001b[39;00m \u001b[38;5;21mstep\u001b[39m(\u001b[38;5;28mself\u001b[39m, \u001b[38;5;241m*\u001b[39margs, \u001b[38;5;241m*\u001b[39m\u001b[38;5;241m*\u001b[39mkwargs):\n\u001b[0;32m---> 12\u001b[0m     next_state, reward, is_done, info \u001b[38;5;241m=\u001b[39m \u001b[38;5;28;43msuper\u001b[39;49m\u001b[43m(\u001b[49m\u001b[43m)\u001b[49m\u001b[38;5;241;43m.\u001b[39;49m\u001b[43mstep\u001b[49m\u001b[43m(\u001b[49m\u001b[38;5;241;43m*\u001b[39;49m\u001b[43margs\u001b[49m\u001b[43m,\u001b[49m\u001b[43m \u001b[49m\u001b[38;5;241;43m*\u001b[39;49m\u001b[38;5;241;43m*\u001b[39;49m\u001b[43mkwargs\u001b[49m\u001b[43m)\u001b[49m\n\u001b[1;32m     13\u001b[0m     next_state \u001b[38;5;241m=\u001b[39m cv2\u001b[38;5;241m.\u001b[39mresize(next_state[:, :, \u001b[38;5;241m10\u001b[39m:\u001b[38;5;241m-\u001b[39m\u001b[38;5;241m10\u001b[39m]\u001b[38;5;241m.\u001b[39mtranspose(\u001b[38;5;241m1\u001b[39m, \u001b[38;5;241m2\u001b[39m, \u001b[38;5;241m0\u001b[39m), (\u001b[38;5;241m224\u001b[39m, \u001b[38;5;241m224\u001b[39m))\u001b[38;5;241m.\u001b[39mtranspose(\u001b[38;5;241m2\u001b[39m, \u001b[38;5;241m0\u001b[39m, \u001b[38;5;241m1\u001b[39m)\n\u001b[1;32m     14\u001b[0m     \u001b[38;5;28;01mreturn\u001b[39;00m next_state, reward, is_done, info\n",
      "Cell \u001b[0;32mIn[17], line 10\u001b[0m, in \u001b[0;36mUnityToGymNumpyImgWrapper.step\u001b[0;34m(self, *args, **kwargs)\u001b[0m\n\u001b[1;32m      9\u001b[0m \u001b[38;5;28;01mdef\u001b[39;00m \u001b[38;5;21mstep\u001b[39m(\u001b[38;5;28mself\u001b[39m, \u001b[38;5;241m*\u001b[39margs, \u001b[38;5;241m*\u001b[39m\u001b[38;5;241m*\u001b[39mkwargs):\n\u001b[0;32m---> 10\u001b[0m     next_state, reward, is_done, info \u001b[38;5;241m=\u001b[39m \u001b[38;5;28;43msuper\u001b[39;49m\u001b[43m(\u001b[49m\u001b[43m)\u001b[49m\u001b[38;5;241;43m.\u001b[39;49m\u001b[43mstep\u001b[49m\u001b[43m(\u001b[49m\u001b[38;5;241;43m*\u001b[39;49m\u001b[43margs\u001b[49m\u001b[43m,\u001b[49m\u001b[43m \u001b[49m\u001b[38;5;241;43m*\u001b[39;49m\u001b[38;5;241;43m*\u001b[39;49m\u001b[43mkwargs\u001b[49m\u001b[43m)\u001b[49m\n\u001b[1;32m     11\u001b[0m     \u001b[38;5;28;01mreturn\u001b[39;00m np\u001b[38;5;241m.\u001b[39marray(next_state[\u001b[38;5;241m0\u001b[39m])\u001b[38;5;241m.\u001b[39mtranspose(\u001b[38;5;241m2\u001b[39m, \u001b[38;5;241m0\u001b[39m, \u001b[38;5;241m1\u001b[39m), reward, is_done, info\n",
      "File \u001b[0;32m/mnt/d/Program Files/Unity/ml-agents-release_20/ml-agents-envs/mlagents_envs/envs/unity_gym_env.py:200\u001b[0m, in \u001b[0;36mUnityToGymWrapper.step\u001b[0;34m(self, action)\u001b[0m\n\u001b[1;32m    197\u001b[0m     action_tuple\u001b[38;5;241m.\u001b[39madd_discrete(action)\n\u001b[1;32m    198\u001b[0m \u001b[38;5;28mself\u001b[39m\u001b[38;5;241m.\u001b[39m_env\u001b[38;5;241m.\u001b[39mset_actions(\u001b[38;5;28mself\u001b[39m\u001b[38;5;241m.\u001b[39mname, action_tuple)\n\u001b[0;32m--> 200\u001b[0m \u001b[38;5;28;43mself\u001b[39;49m\u001b[38;5;241;43m.\u001b[39;49m\u001b[43m_env\u001b[49m\u001b[38;5;241;43m.\u001b[39;49m\u001b[43mstep\u001b[49m\u001b[43m(\u001b[49m\u001b[43m)\u001b[49m\n\u001b[1;32m    201\u001b[0m decision_step, terminal_step \u001b[38;5;241m=\u001b[39m \u001b[38;5;28mself\u001b[39m\u001b[38;5;241m.\u001b[39m_env\u001b[38;5;241m.\u001b[39mget_steps(\u001b[38;5;28mself\u001b[39m\u001b[38;5;241m.\u001b[39mname)\n\u001b[1;32m    202\u001b[0m \u001b[38;5;28mself\u001b[39m\u001b[38;5;241m.\u001b[39m_check_agents(\u001b[38;5;28mmax\u001b[39m(\u001b[38;5;28mlen\u001b[39m(decision_step), \u001b[38;5;28mlen\u001b[39m(terminal_step)))\n",
      "File \u001b[0;32m/mnt/d/Program Files/Unity/ml-agents-release_20/ml-agents-envs/mlagents_envs/timers.py:305\u001b[0m, in \u001b[0;36mtimed.<locals>.wrapped\u001b[0;34m(*args, **kwargs)\u001b[0m\n\u001b[1;32m    303\u001b[0m \u001b[38;5;28;01mdef\u001b[39;00m \u001b[38;5;21mwrapped\u001b[39m(\u001b[38;5;241m*\u001b[39margs, \u001b[38;5;241m*\u001b[39m\u001b[38;5;241m*\u001b[39mkwargs):\n\u001b[1;32m    304\u001b[0m     \u001b[38;5;28;01mwith\u001b[39;00m hierarchical_timer(func\u001b[38;5;241m.\u001b[39m\u001b[38;5;18m__qualname__\u001b[39m):\n\u001b[0;32m--> 305\u001b[0m         \u001b[38;5;28;01mreturn\u001b[39;00m \u001b[43mfunc\u001b[49m\u001b[43m(\u001b[49m\u001b[38;5;241;43m*\u001b[39;49m\u001b[43margs\u001b[49m\u001b[43m,\u001b[49m\u001b[43m \u001b[49m\u001b[38;5;241;43m*\u001b[39;49m\u001b[38;5;241;43m*\u001b[39;49m\u001b[43mkwargs\u001b[49m\u001b[43m)\u001b[49m\n",
      "File \u001b[0;32m/mnt/d/Program Files/Unity/ml-agents-release_20/ml-agents-envs/mlagents_envs/environment.py:348\u001b[0m, in \u001b[0;36mUnityEnvironment.step\u001b[0;34m(self)\u001b[0m\n\u001b[1;32m    346\u001b[0m step_input \u001b[38;5;241m=\u001b[39m \u001b[38;5;28mself\u001b[39m\u001b[38;5;241m.\u001b[39m_generate_step_input(\u001b[38;5;28mself\u001b[39m\u001b[38;5;241m.\u001b[39m_env_actions)\n\u001b[1;32m    347\u001b[0m \u001b[38;5;28;01mwith\u001b[39;00m hierarchical_timer(\u001b[38;5;124m\"\u001b[39m\u001b[38;5;124mcommunicator.exchange\u001b[39m\u001b[38;5;124m\"\u001b[39m):\n\u001b[0;32m--> 348\u001b[0m     outputs \u001b[38;5;241m=\u001b[39m \u001b[38;5;28;43mself\u001b[39;49m\u001b[38;5;241;43m.\u001b[39;49m\u001b[43m_communicator\u001b[49m\u001b[38;5;241;43m.\u001b[39;49m\u001b[43mexchange\u001b[49m\u001b[43m(\u001b[49m\u001b[43mstep_input\u001b[49m\u001b[43m,\u001b[49m\u001b[43m \u001b[49m\u001b[38;5;28;43mself\u001b[39;49m\u001b[38;5;241;43m.\u001b[39;49m\u001b[43m_poll_process\u001b[49m\u001b[43m)\u001b[49m\n\u001b[1;32m    349\u001b[0m \u001b[38;5;28;01mif\u001b[39;00m outputs \u001b[38;5;129;01mis\u001b[39;00m \u001b[38;5;28;01mNone\u001b[39;00m:\n\u001b[1;32m    350\u001b[0m     \u001b[38;5;28;01mraise\u001b[39;00m UnityCommunicatorStoppedException(\u001b[38;5;124m\"\u001b[39m\u001b[38;5;124mCommunicator has exited.\u001b[39m\u001b[38;5;124m\"\u001b[39m)\n",
      "File \u001b[0;32m/mnt/d/Program Files/Unity/ml-agents-release_20/ml-agents-envs/mlagents_envs/rpc_communicator.py:142\u001b[0m, in \u001b[0;36mRpcCommunicator.exchange\u001b[0;34m(self, inputs, poll_callback)\u001b[0m\n\u001b[1;32m    140\u001b[0m message\u001b[38;5;241m.\u001b[39munity_input\u001b[38;5;241m.\u001b[39mCopyFrom(inputs)\n\u001b[1;32m    141\u001b[0m \u001b[38;5;28mself\u001b[39m\u001b[38;5;241m.\u001b[39munity_to_external\u001b[38;5;241m.\u001b[39mparent_conn\u001b[38;5;241m.\u001b[39msend(message)\n\u001b[0;32m--> 142\u001b[0m \u001b[38;5;28;43mself\u001b[39;49m\u001b[38;5;241;43m.\u001b[39;49m\u001b[43mpoll_for_timeout\u001b[49m\u001b[43m(\u001b[49m\u001b[43mpoll_callback\u001b[49m\u001b[43m)\u001b[49m\n\u001b[1;32m    143\u001b[0m output \u001b[38;5;241m=\u001b[39m \u001b[38;5;28mself\u001b[39m\u001b[38;5;241m.\u001b[39munity_to_external\u001b[38;5;241m.\u001b[39mparent_conn\u001b[38;5;241m.\u001b[39mrecv()\n\u001b[1;32m    144\u001b[0m \u001b[38;5;28;01mif\u001b[39;00m output\u001b[38;5;241m.\u001b[39mheader\u001b[38;5;241m.\u001b[39mstatus \u001b[38;5;241m!=\u001b[39m \u001b[38;5;241m200\u001b[39m:\n",
      "File \u001b[0;32m/mnt/d/Program Files/Unity/ml-agents-release_20/ml-agents-envs/mlagents_envs/rpc_communicator.py:106\u001b[0m, in \u001b[0;36mRpcCommunicator.poll_for_timeout\u001b[0;34m(self, poll_callback)\u001b[0m\n\u001b[1;32m    104\u001b[0m callback_timeout_wait \u001b[38;5;241m=\u001b[39m \u001b[38;5;28mself\u001b[39m\u001b[38;5;241m.\u001b[39mtimeout_wait \u001b[38;5;241m/\u001b[39m\u001b[38;5;241m/\u001b[39m \u001b[38;5;241m10\u001b[39m\n\u001b[1;32m    105\u001b[0m \u001b[38;5;28;01mwhile\u001b[39;00m time\u001b[38;5;241m.\u001b[39mmonotonic() \u001b[38;5;241m<\u001b[39m deadline:\n\u001b[0;32m--> 106\u001b[0m     \u001b[38;5;28;01mif\u001b[39;00m \u001b[38;5;28;43mself\u001b[39;49m\u001b[38;5;241;43m.\u001b[39;49m\u001b[43munity_to_external\u001b[49m\u001b[38;5;241;43m.\u001b[39;49m\u001b[43mparent_conn\u001b[49m\u001b[38;5;241;43m.\u001b[39;49m\u001b[43mpoll\u001b[49m\u001b[43m(\u001b[49m\u001b[43mcallback_timeout_wait\u001b[49m\u001b[43m)\u001b[49m:\n\u001b[1;32m    107\u001b[0m         \u001b[38;5;66;03m# Got an acknowledgment from the connection\u001b[39;00m\n\u001b[1;32m    108\u001b[0m         \u001b[38;5;28;01mreturn\u001b[39;00m\n\u001b[1;32m    109\u001b[0m     \u001b[38;5;28;01mif\u001b[39;00m poll_callback:\n\u001b[1;32m    110\u001b[0m         \u001b[38;5;66;03m# Fire the callback - if it detects something wrong, it should raise an exception.\u001b[39;00m\n",
      "File \u001b[0;32m/usr/lib/python3.9/multiprocessing/connection.py:262\u001b[0m, in \u001b[0;36m_ConnectionBase.poll\u001b[0;34m(self, timeout)\u001b[0m\n\u001b[1;32m    260\u001b[0m \u001b[38;5;28mself\u001b[39m\u001b[38;5;241m.\u001b[39m_check_closed()\n\u001b[1;32m    261\u001b[0m \u001b[38;5;28mself\u001b[39m\u001b[38;5;241m.\u001b[39m_check_readable()\n\u001b[0;32m--> 262\u001b[0m \u001b[38;5;28;01mreturn\u001b[39;00m \u001b[38;5;28;43mself\u001b[39;49m\u001b[38;5;241;43m.\u001b[39;49m\u001b[43m_poll\u001b[49m\u001b[43m(\u001b[49m\u001b[43mtimeout\u001b[49m\u001b[43m)\u001b[49m\n",
      "File \u001b[0;32m/usr/lib/python3.9/multiprocessing/connection.py:429\u001b[0m, in \u001b[0;36mConnection._poll\u001b[0;34m(self, timeout)\u001b[0m\n\u001b[1;32m    428\u001b[0m \u001b[38;5;28;01mdef\u001b[39;00m \u001b[38;5;21m_poll\u001b[39m(\u001b[38;5;28mself\u001b[39m, timeout):\n\u001b[0;32m--> 429\u001b[0m     r \u001b[38;5;241m=\u001b[39m \u001b[43mwait\u001b[49m\u001b[43m(\u001b[49m\u001b[43m[\u001b[49m\u001b[38;5;28;43mself\u001b[39;49m\u001b[43m]\u001b[49m\u001b[43m,\u001b[49m\u001b[43m \u001b[49m\u001b[43mtimeout\u001b[49m\u001b[43m)\u001b[49m\n\u001b[1;32m    430\u001b[0m     \u001b[38;5;28;01mreturn\u001b[39;00m \u001b[38;5;28mbool\u001b[39m(r)\n",
      "File \u001b[0;32m/usr/lib/python3.9/multiprocessing/connection.py:936\u001b[0m, in \u001b[0;36mwait\u001b[0;34m(object_list, timeout)\u001b[0m\n\u001b[1;32m    933\u001b[0m     deadline \u001b[38;5;241m=\u001b[39m time\u001b[38;5;241m.\u001b[39mmonotonic() \u001b[38;5;241m+\u001b[39m timeout\n\u001b[1;32m    935\u001b[0m \u001b[38;5;28;01mwhile\u001b[39;00m \u001b[38;5;28;01mTrue\u001b[39;00m:\n\u001b[0;32m--> 936\u001b[0m     ready \u001b[38;5;241m=\u001b[39m \u001b[43mselector\u001b[49m\u001b[38;5;241;43m.\u001b[39;49m\u001b[43mselect\u001b[49m\u001b[43m(\u001b[49m\u001b[43mtimeout\u001b[49m\u001b[43m)\u001b[49m\n\u001b[1;32m    937\u001b[0m     \u001b[38;5;28;01mif\u001b[39;00m ready:\n\u001b[1;32m    938\u001b[0m         \u001b[38;5;28;01mreturn\u001b[39;00m [key\u001b[38;5;241m.\u001b[39mfileobj \u001b[38;5;28;01mfor\u001b[39;00m (key, events) \u001b[38;5;129;01min\u001b[39;00m ready]\n",
      "File \u001b[0;32m/usr/lib/python3.9/selectors.py:416\u001b[0m, in \u001b[0;36m_PollLikeSelector.select\u001b[0;34m(self, timeout)\u001b[0m\n\u001b[1;32m    414\u001b[0m ready \u001b[38;5;241m=\u001b[39m []\n\u001b[1;32m    415\u001b[0m \u001b[38;5;28;01mtry\u001b[39;00m:\n\u001b[0;32m--> 416\u001b[0m     fd_event_list \u001b[38;5;241m=\u001b[39m \u001b[38;5;28;43mself\u001b[39;49m\u001b[38;5;241;43m.\u001b[39;49m\u001b[43m_selector\u001b[49m\u001b[38;5;241;43m.\u001b[39;49m\u001b[43mpoll\u001b[49m\u001b[43m(\u001b[49m\u001b[43mtimeout\u001b[49m\u001b[43m)\u001b[49m\n\u001b[1;32m    417\u001b[0m \u001b[38;5;28;01mexcept\u001b[39;00m \u001b[38;5;167;01mInterruptedError\u001b[39;00m:\n\u001b[1;32m    418\u001b[0m     \u001b[38;5;28;01mreturn\u001b[39;00m ready\n",
      "\u001b[0;31mKeyboardInterrupt\u001b[0m: "
     ]
    }
   ],
   "source": [
    "episode = 0\n",
    "\n",
    "while True:\n",
    "    agent.train(ppo_epoch=10, batch_size=32)"
   ]
  },
  {
   "cell_type": "code",
   "execution_count": 44,
   "id": "54f60974-aa75-4fd1-987a-dbaea9702e79",
   "metadata": {},
   "outputs": [],
   "source": [
    "torch.save(act_net.state_dict(), 'tmp_food_collect_actor.pth')"
   ]
  },
  {
   "cell_type": "code",
   "execution_count": 45,
   "id": "f6a2f8ff-d2e5-43b7-a138-06a08acf3912",
   "metadata": {},
   "outputs": [],
   "source": [
    "torch.save(crt_net.state_dict(), 'tmp_food_collect_critic.pth')"
   ]
  },
  {
   "cell_type": "code",
   "execution_count": null,
   "id": "e4e089c1-5c77-49b4-ad5f-4f6c7ea26eca",
   "metadata": {},
   "outputs": [],
   "source": []
  },
  {
   "cell_type": "code",
   "execution_count": null,
   "id": "a232fe35-3ada-4c9d-8770-936e5f128f03",
   "metadata": {},
   "outputs": [],
   "source": []
  },
  {
   "cell_type": "code",
   "execution_count": 42,
   "id": "3f718dfb-f1fd-40b2-9158-f9613b750c0d",
   "metadata": {},
   "outputs": [],
   "source": [
    "env.close()"
   ]
  },
  {
   "cell_type": "code",
   "execution_count": null,
   "id": "ea3072a9-a6f8-461f-bc8a-21b85d5e3366",
   "metadata": {},
   "outputs": [],
   "source": []
  },
  {
   "cell_type": "code",
   "execution_count": null,
   "id": "30e90d5d-d1f4-4f51-9349-3db2d82d204d",
   "metadata": {},
   "outputs": [],
   "source": []
  },
  {
   "cell_type": "code",
   "execution_count": null,
   "id": "80cb7f38-3f2b-4be7-8cac-2d288d6447b5",
   "metadata": {},
   "outputs": [],
   "source": []
  },
  {
   "cell_type": "code",
   "execution_count": 27,
   "id": "df2c7c8d-b00b-4f34-9ce0-f8b65e860574",
   "metadata": {
    "scrolled": true,
    "tags": []
   },
   "outputs": [
    {
     "data": {
      "image/png": "[encoded data removed]",
      "text/plain": [
       "<Figure size 640x480 with 1 Axes>"
      ]
     },
     "metadata": {},
     "output_type": "display_data"
    }
   ],
   "source": [
    "plt.imshow(next_state[0])\n",
    "plt.show()"
   ]
  },
  {
   "cell_type": "code",
   "execution_count": 28,
   "id": "6ca65c29-367f-4777-9fa6-aa553dda957e",
   "metadata": {},
   "outputs": [],
   "source": [
    "env.close()"
   ]
  },
  {
   "cell_type": "code",
   "execution_count": null,
   "id": "06732d37-e960-4ea3-a5a9-51c095e0d83f",
   "metadata": {},
   "outputs": [],
   "source": []
  }
 ],
 "metadata": {
  "kernelspec": {
   "display_name": "Python 3 (ipykernel)",
   "language": "python",
   "name": "python3"
  },
  "language_info": {
   "codemirror_mode": {
    "name": "ipython",
    "version": 3
   },
   "file_extension": ".py",
   "mimetype": "text/x-python",
   "name": "python",
   "nbconvert_exporter": "python",
   "pygments_lexer": "ipython3",
   "version": "3.9.5"
  }
 },
 "nbformat": 4,
 "nbformat_minor": 5
}
