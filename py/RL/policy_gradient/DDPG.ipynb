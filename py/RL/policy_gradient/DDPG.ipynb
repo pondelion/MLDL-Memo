{
  "nbformat": 4,
  "nbformat_minor": 0,
  "metadata": {
    "colab": {
      "name": "DDPG.ipynb",
      "provenance": []
    },
    "kernelspec": {
      "name": "python3",
      "display_name": "Python 3"
    },
    "language_info": {
      "name": "python"
    }
  },
  "cells": [
    {
      "cell_type": "markdown",
      "source": [
        "ref:https://github.com/sweetice/Deep-reinforcement-learning-with-pytorch/blob/master/Char05%20DDPG/DDPG.py"
      ],
      "metadata": {
        "id": "7pkFSIWmzUby"
      }
    },
    {
      "cell_type": "code",
      "execution_count": 23,
      "metadata": {
        "id": "yBljzvnpzG5p"
      },
      "outputs": [],
      "source": [
        "from enum import Enum\n",
        "import itertools\n",
        "from typing import List\n",
        "from collections import deque\n",
        "from copy import copy\n",
        "import random\n",
        "import matplotlib.pyplot as plt"
      ]
    },
    {
      "cell_type": "code",
      "source": [
        "import torch\n",
        "import torch.nn as nn\n",
        "import torch.nn.functional as F\n",
        "from torch.distributions import Categorical\n",
        "import torch.nn.utils as nn_utils\n",
        "import numpy as np"
      ],
      "metadata": {
        "id": "AF5gLcWUzsVh"
      },
      "execution_count": 2,
      "outputs": []
    },
    {
      "cell_type": "code",
      "source": [
        "class JankenHand(Enum):\n",
        "    GUU = 0\n",
        "    CHOKI = 1\n",
        "    PAA = 2\n",
        "\n",
        "    @staticmethod\n",
        "    def idx2hand(idx: int):\n",
        "        for hand in JankenHand:\n",
        "            if idx == hand.value:\n",
        "                return hand\n",
        "        raise ValueError(f'not supported hand index {idx}')"
      ],
      "metadata": {
        "id": "P8JW-GAzzuXj"
      },
      "execution_count": 3,
      "outputs": []
    },
    {
      "cell_type": "code",
      "source": [
        "class JankenResult(Enum):\n",
        "    YOUR_WIN = 2\n",
        "    DRAW = 1\n",
        "    YOUR_LOSE = 0"
      ],
      "metadata": {
        "id": "Fl6mFaQUzwgQ"
      },
      "execution_count": 4,
      "outputs": []
    },
    {
      "cell_type": "code",
      "source": [
        "class Oponent:\n",
        "    \"\"\"グー -> チョキ -> パーを繰り返す相手\"\"\"\n",
        "\n",
        "    def __init__(self):\n",
        "        self._n = 0\n",
        "    \n",
        "    def hand(self) -> JankenHand:\n",
        "        hand = JankenHand.idx2hand(self._n%3)\n",
        "        self._n += 1\n",
        "        return hand\n",
        "\n",
        "    def reset(self) -> None:\n",
        "        self._n = 0"
      ],
      "metadata": {
        "id": "_Eo_oJaqz33y"
      },
      "execution_count": 5,
      "outputs": []
    },
    {
      "cell_type": "code",
      "source": [
        "oponent = Oponent()"
      ],
      "metadata": {
        "id": "9thNg46qz56q"
      },
      "execution_count": 6,
      "outputs": []
    },
    {
      "cell_type": "code",
      "source": [
        "for i in range(7):\n",
        "    print(oponent.hand())"
      ],
      "metadata": {
        "colab": {
          "base_uri": "https://localhost:8080/"
        },
        "id": "BiGht5HVz6ta",
        "outputId": "c0098a88-53da-4def-f450-6b428b61b011"
      },
      "execution_count": 7,
      "outputs": [
        {
          "output_type": "stream",
          "name": "stdout",
          "text": [
            "JankenHand.GUU\n",
            "JankenHand.CHOKI\n",
            "JankenHand.PAA\n",
            "JankenHand.GUU\n",
            "JankenHand.CHOKI\n",
            "JankenHand.PAA\n",
            "JankenHand.GUU\n"
          ]
        }
      ]
    },
    {
      "cell_type": "code",
      "source": [
        "class JankenEnv:\n",
        "\n",
        "    STATE_DIM = 6\n",
        "\n",
        "    def __init__(self):\n",
        "        self._oponent = Oponent()\n",
        "        self._state = self.reset()\n",
        "\n",
        "    def step(self, action: JankenHand):\n",
        "        oponent_hand = self._oponent.hand()\n",
        "        self._state.append(oponent_hand)\n",
        "        if (action == JankenHand.GUU and oponent_hand == JankenHand.CHOKI) or \\\n",
        "            (action == JankenHand.CHOKI and oponent_hand == JankenHand.PAA) or \\\n",
        "            (action == JankenHand.PAA and oponent_hand == JankenHand.GUU):\n",
        "            result = JankenResult.YOUR_WIN\n",
        "        elif (action == JankenHand.GUU and oponent_hand == JankenHand.PAA) or \\\n",
        "            (action == JankenHand.CHOKI and oponent_hand == JankenHand.GUU) or \\\n",
        "            (action == JankenHand.PAA and oponent_hand == JankenHand.CHOKI):\n",
        "            result = JankenResult.YOUR_LOSE\n",
        "        else:\n",
        "            result = JankenResult.DRAW\n",
        "        reward = result.value - 0.1*len(self._results)  # 長くかかるとマイナスのペナルティ\n",
        "        self._results.append(result)\n",
        "        done = False\n",
        "        if len(self._results) >= 3:\n",
        "            # 3回連続で勝利したらdone\n",
        "            done = all([res==JankenResult.YOUR_WIN for res in self._results[-3:]])\n",
        "            if done:\n",
        "                reward = 50 / (len(self._results)-3+1)**2  # 長くかかるほど最終報酬は小さく\n",
        "        next_state = copy(self._state)\n",
        "        return next_state, reward, done\n",
        "\n",
        "    def reset(self) -> deque:\n",
        "        self._state = deque([JankenHand.GUU]*JankenEnv.STATE_DIM, maxlen=JankenEnv.STATE_DIM)\n",
        "        self._oponent.reset()\n",
        "        self._results = []\n",
        "        return self._state\n",
        "\n",
        "    @property\n",
        "    def results(self) -> List[JankenResult]:\n",
        "        return self._results"
      ],
      "metadata": {
        "id": "LISoIwVaz8p_"
      },
      "execution_count": 228,
      "outputs": []
    },
    {
      "cell_type": "code",
      "source": [
        "janken_env = JankenEnv()"
      ],
      "metadata": {
        "id": "KbGGOBxw0AKc"
      },
      "execution_count": 229,
      "outputs": []
    },
    {
      "cell_type": "code",
      "source": [
        "janken_env.reset()\n",
        "for i in range(50):\n",
        "    next_state, reward, done = janken_env.step(action=JankenHand.idx2hand(random.randint(0, 2)))\n",
        "    print(f'{next_state} : {reward} : {done}')"
      ],
      "metadata": {
        "colab": {
          "base_uri": "https://localhost:8080/"
        },
        "id": "g6_LXBgH0Cf5",
        "outputId": "56af02b0-e58d-4d8a-9884-52fce622904e"
      },
      "execution_count": 230,
      "outputs": [
        {
          "output_type": "stream",
          "name": "stdout",
          "text": [
            "deque([<JankenHand.GUU: 0>, <JankenHand.GUU: 0>, <JankenHand.GUU: 0>, <JankenHand.GUU: 0>, <JankenHand.GUU: 0>, <JankenHand.GUU: 0>], maxlen=6) : 2.0 : False\n",
            "deque([<JankenHand.GUU: 0>, <JankenHand.GUU: 0>, <JankenHand.GUU: 0>, <JankenHand.GUU: 0>, <JankenHand.GUU: 0>, <JankenHand.CHOKI: 1>], maxlen=6) : 0.9 : False\n",
            "deque([<JankenHand.GUU: 0>, <JankenHand.GUU: 0>, <JankenHand.GUU: 0>, <JankenHand.GUU: 0>, <JankenHand.CHOKI: 1>, <JankenHand.PAA: 2>], maxlen=6) : 0.8 : False\n",
            "deque([<JankenHand.GUU: 0>, <JankenHand.GUU: 0>, <JankenHand.GUU: 0>, <JankenHand.CHOKI: 1>, <JankenHand.PAA: 2>, <JankenHand.GUU: 0>], maxlen=6) : 1.7 : False\n",
            "deque([<JankenHand.GUU: 0>, <JankenHand.GUU: 0>, <JankenHand.CHOKI: 1>, <JankenHand.PAA: 2>, <JankenHand.GUU: 0>, <JankenHand.CHOKI: 1>], maxlen=6) : 1.6 : False\n",
            "deque([<JankenHand.GUU: 0>, <JankenHand.CHOKI: 1>, <JankenHand.PAA: 2>, <JankenHand.GUU: 0>, <JankenHand.CHOKI: 1>, <JankenHand.PAA: 2>], maxlen=6) : 0.5 : False\n",
            "deque([<JankenHand.CHOKI: 1>, <JankenHand.PAA: 2>, <JankenHand.GUU: 0>, <JankenHand.CHOKI: 1>, <JankenHand.PAA: 2>, <JankenHand.GUU: 0>], maxlen=6) : -0.6000000000000001 : False\n",
            "deque([<JankenHand.PAA: 2>, <JankenHand.GUU: 0>, <JankenHand.CHOKI: 1>, <JankenHand.PAA: 2>, <JankenHand.GUU: 0>, <JankenHand.CHOKI: 1>], maxlen=6) : 0.29999999999999993 : False\n",
            "deque([<JankenHand.GUU: 0>, <JankenHand.CHOKI: 1>, <JankenHand.PAA: 2>, <JankenHand.GUU: 0>, <JankenHand.CHOKI: 1>, <JankenHand.PAA: 2>], maxlen=6) : 0.19999999999999996 : False\n",
            "deque([<JankenHand.CHOKI: 1>, <JankenHand.PAA: 2>, <JankenHand.GUU: 0>, <JankenHand.CHOKI: 1>, <JankenHand.PAA: 2>, <JankenHand.GUU: 0>], maxlen=6) : -0.9 : False\n",
            "deque([<JankenHand.PAA: 2>, <JankenHand.GUU: 0>, <JankenHand.CHOKI: 1>, <JankenHand.PAA: 2>, <JankenHand.GUU: 0>, <JankenHand.CHOKI: 1>], maxlen=6) : -1.0 : False\n",
            "deque([<JankenHand.GUU: 0>, <JankenHand.CHOKI: 1>, <JankenHand.PAA: 2>, <JankenHand.GUU: 0>, <JankenHand.CHOKI: 1>, <JankenHand.PAA: 2>], maxlen=6) : 0.8999999999999999 : False\n",
            "deque([<JankenHand.CHOKI: 1>, <JankenHand.PAA: 2>, <JankenHand.GUU: 0>, <JankenHand.CHOKI: 1>, <JankenHand.PAA: 2>, <JankenHand.GUU: 0>], maxlen=6) : -0.20000000000000018 : False\n",
            "deque([<JankenHand.PAA: 2>, <JankenHand.GUU: 0>, <JankenHand.CHOKI: 1>, <JankenHand.PAA: 2>, <JankenHand.GUU: 0>, <JankenHand.CHOKI: 1>], maxlen=6) : -1.3 : False\n",
            "deque([<JankenHand.GUU: 0>, <JankenHand.CHOKI: 1>, <JankenHand.PAA: 2>, <JankenHand.GUU: 0>, <JankenHand.CHOKI: 1>, <JankenHand.PAA: 2>], maxlen=6) : -1.4000000000000001 : False\n",
            "deque([<JankenHand.CHOKI: 1>, <JankenHand.PAA: 2>, <JankenHand.GUU: 0>, <JankenHand.CHOKI: 1>, <JankenHand.PAA: 2>, <JankenHand.GUU: 0>], maxlen=6) : -1.5 : False\n",
            "deque([<JankenHand.PAA: 2>, <JankenHand.GUU: 0>, <JankenHand.CHOKI: 1>, <JankenHand.PAA: 2>, <JankenHand.GUU: 0>, <JankenHand.CHOKI: 1>], maxlen=6) : 0.3999999999999999 : False\n",
            "deque([<JankenHand.GUU: 0>, <JankenHand.CHOKI: 1>, <JankenHand.PAA: 2>, <JankenHand.GUU: 0>, <JankenHand.CHOKI: 1>, <JankenHand.PAA: 2>], maxlen=6) : -1.7000000000000002 : False\n",
            "deque([<JankenHand.CHOKI: 1>, <JankenHand.PAA: 2>, <JankenHand.GUU: 0>, <JankenHand.CHOKI: 1>, <JankenHand.PAA: 2>, <JankenHand.GUU: 0>], maxlen=6) : -0.8 : False\n",
            "deque([<JankenHand.PAA: 2>, <JankenHand.GUU: 0>, <JankenHand.CHOKI: 1>, <JankenHand.PAA: 2>, <JankenHand.GUU: 0>, <JankenHand.CHOKI: 1>], maxlen=6) : -1.9000000000000001 : False\n",
            "deque([<JankenHand.GUU: 0>, <JankenHand.CHOKI: 1>, <JankenHand.PAA: 2>, <JankenHand.GUU: 0>, <JankenHand.CHOKI: 1>, <JankenHand.PAA: 2>], maxlen=6) : 0.0 : False\n",
            "deque([<JankenHand.CHOKI: 1>, <JankenHand.PAA: 2>, <JankenHand.GUU: 0>, <JankenHand.CHOKI: 1>, <JankenHand.PAA: 2>, <JankenHand.GUU: 0>], maxlen=6) : -2.1 : False\n",
            "deque([<JankenHand.PAA: 2>, <JankenHand.GUU: 0>, <JankenHand.CHOKI: 1>, <JankenHand.PAA: 2>, <JankenHand.GUU: 0>, <JankenHand.CHOKI: 1>], maxlen=6) : -2.2 : False\n",
            "deque([<JankenHand.GUU: 0>, <JankenHand.CHOKI: 1>, <JankenHand.PAA: 2>, <JankenHand.GUU: 0>, <JankenHand.CHOKI: 1>, <JankenHand.PAA: 2>], maxlen=6) : -1.3000000000000003 : False\n",
            "deque([<JankenHand.CHOKI: 1>, <JankenHand.PAA: 2>, <JankenHand.GUU: 0>, <JankenHand.CHOKI: 1>, <JankenHand.PAA: 2>, <JankenHand.GUU: 0>], maxlen=6) : -2.4000000000000004 : False\n",
            "deque([<JankenHand.PAA: 2>, <JankenHand.GUU: 0>, <JankenHand.CHOKI: 1>, <JankenHand.PAA: 2>, <JankenHand.GUU: 0>, <JankenHand.CHOKI: 1>], maxlen=6) : -0.5 : False\n",
            "deque([<JankenHand.GUU: 0>, <JankenHand.CHOKI: 1>, <JankenHand.PAA: 2>, <JankenHand.GUU: 0>, <JankenHand.CHOKI: 1>, <JankenHand.PAA: 2>], maxlen=6) : -2.6 : False\n",
            "deque([<JankenHand.CHOKI: 1>, <JankenHand.PAA: 2>, <JankenHand.GUU: 0>, <JankenHand.CHOKI: 1>, <JankenHand.PAA: 2>, <JankenHand.GUU: 0>], maxlen=6) : -2.7 : False\n",
            "deque([<JankenHand.PAA: 2>, <JankenHand.GUU: 0>, <JankenHand.CHOKI: 1>, <JankenHand.PAA: 2>, <JankenHand.GUU: 0>, <JankenHand.CHOKI: 1>], maxlen=6) : -0.8000000000000003 : False\n",
            "deque([<JankenHand.GUU: 0>, <JankenHand.CHOKI: 1>, <JankenHand.PAA: 2>, <JankenHand.GUU: 0>, <JankenHand.CHOKI: 1>, <JankenHand.PAA: 2>], maxlen=6) : -0.9000000000000004 : False\n",
            "deque([<JankenHand.CHOKI: 1>, <JankenHand.PAA: 2>, <JankenHand.GUU: 0>, <JankenHand.CHOKI: 1>, <JankenHand.PAA: 2>, <JankenHand.GUU: 0>], maxlen=6) : -2.0 : False\n",
            "deque([<JankenHand.PAA: 2>, <JankenHand.GUU: 0>, <JankenHand.CHOKI: 1>, <JankenHand.PAA: 2>, <JankenHand.GUU: 0>, <JankenHand.CHOKI: 1>], maxlen=6) : -1.1 : False\n",
            "deque([<JankenHand.GUU: 0>, <JankenHand.CHOKI: 1>, <JankenHand.PAA: 2>, <JankenHand.GUU: 0>, <JankenHand.CHOKI: 1>, <JankenHand.PAA: 2>], maxlen=6) : -1.2000000000000002 : False\n",
            "deque([<JankenHand.CHOKI: 1>, <JankenHand.PAA: 2>, <JankenHand.GUU: 0>, <JankenHand.CHOKI: 1>, <JankenHand.PAA: 2>, <JankenHand.GUU: 0>], maxlen=6) : 0.048828125 : True\n",
            "deque([<JankenHand.PAA: 2>, <JankenHand.GUU: 0>, <JankenHand.CHOKI: 1>, <JankenHand.PAA: 2>, <JankenHand.GUU: 0>, <JankenHand.CHOKI: 1>], maxlen=6) : -3.4000000000000004 : False\n",
            "deque([<JankenHand.GUU: 0>, <JankenHand.CHOKI: 1>, <JankenHand.PAA: 2>, <JankenHand.GUU: 0>, <JankenHand.CHOKI: 1>, <JankenHand.PAA: 2>], maxlen=6) : -2.5 : False\n",
            "deque([<JankenHand.CHOKI: 1>, <JankenHand.PAA: 2>, <JankenHand.GUU: 0>, <JankenHand.CHOKI: 1>, <JankenHand.PAA: 2>, <JankenHand.GUU: 0>], maxlen=6) : -1.6 : False\n",
            "deque([<JankenHand.PAA: 2>, <JankenHand.GUU: 0>, <JankenHand.CHOKI: 1>, <JankenHand.PAA: 2>, <JankenHand.GUU: 0>, <JankenHand.CHOKI: 1>], maxlen=6) : -3.7 : False\n",
            "deque([<JankenHand.GUU: 0>, <JankenHand.CHOKI: 1>, <JankenHand.PAA: 2>, <JankenHand.GUU: 0>, <JankenHand.CHOKI: 1>, <JankenHand.PAA: 2>], maxlen=6) : -3.8000000000000003 : False\n",
            "deque([<JankenHand.CHOKI: 1>, <JankenHand.PAA: 2>, <JankenHand.GUU: 0>, <JankenHand.CHOKI: 1>, <JankenHand.PAA: 2>, <JankenHand.GUU: 0>], maxlen=6) : -1.9000000000000004 : False\n",
            "deque([<JankenHand.PAA: 2>, <JankenHand.GUU: 0>, <JankenHand.CHOKI: 1>, <JankenHand.PAA: 2>, <JankenHand.GUU: 0>, <JankenHand.CHOKI: 1>], maxlen=6) : -3.0 : False\n",
            "deque([<JankenHand.GUU: 0>, <JankenHand.CHOKI: 1>, <JankenHand.PAA: 2>, <JankenHand.GUU: 0>, <JankenHand.CHOKI: 1>, <JankenHand.PAA: 2>], maxlen=6) : -2.1000000000000005 : False\n",
            "deque([<JankenHand.CHOKI: 1>, <JankenHand.PAA: 2>, <JankenHand.GUU: 0>, <JankenHand.CHOKI: 1>, <JankenHand.PAA: 2>, <JankenHand.GUU: 0>], maxlen=6) : -2.2 : False\n",
            "deque([<JankenHand.PAA: 2>, <JankenHand.GUU: 0>, <JankenHand.CHOKI: 1>, <JankenHand.PAA: 2>, <JankenHand.GUU: 0>, <JankenHand.CHOKI: 1>], maxlen=6) : 0.02834467120181406 : True\n",
            "deque([<JankenHand.GUU: 0>, <JankenHand.CHOKI: 1>, <JankenHand.PAA: 2>, <JankenHand.GUU: 0>, <JankenHand.CHOKI: 1>, <JankenHand.PAA: 2>], maxlen=6) : -3.4000000000000004 : False\n",
            "deque([<JankenHand.CHOKI: 1>, <JankenHand.PAA: 2>, <JankenHand.GUU: 0>, <JankenHand.CHOKI: 1>, <JankenHand.PAA: 2>, <JankenHand.GUU: 0>], maxlen=6) : -2.5 : False\n",
            "deque([<JankenHand.PAA: 2>, <JankenHand.GUU: 0>, <JankenHand.CHOKI: 1>, <JankenHand.PAA: 2>, <JankenHand.GUU: 0>, <JankenHand.CHOKI: 1>], maxlen=6) : -3.6000000000000005 : False\n",
            "deque([<JankenHand.GUU: 0>, <JankenHand.CHOKI: 1>, <JankenHand.PAA: 2>, <JankenHand.GUU: 0>, <JankenHand.CHOKI: 1>, <JankenHand.PAA: 2>], maxlen=6) : -4.7 : False\n",
            "deque([<JankenHand.CHOKI: 1>, <JankenHand.PAA: 2>, <JankenHand.GUU: 0>, <JankenHand.CHOKI: 1>, <JankenHand.PAA: 2>, <JankenHand.GUU: 0>], maxlen=6) : -4.800000000000001 : False\n",
            "deque([<JankenHand.PAA: 2>, <JankenHand.GUU: 0>, <JankenHand.CHOKI: 1>, <JankenHand.PAA: 2>, <JankenHand.GUU: 0>, <JankenHand.CHOKI: 1>], maxlen=6) : -4.9 : False\n"
          ]
        }
      ]
    },
    {
      "cell_type": "code",
      "source": [
        "class Actor(nn.Module):\n",
        "    def __init__(self, state_dim, action_dim, max_action):\n",
        "        super(Actor, self).__init__()\n",
        "\n",
        "        self.l1 = nn.Linear(state_dim, 400)\n",
        "        self.l2 = nn.Linear(400, 300)\n",
        "        self.l3 = nn.Linear(300, action_dim)\n",
        "\n",
        "        self.max_action = max_action\n",
        "\n",
        "    def forward(self, x):\n",
        "        x = F.relu(self.l1(x))\n",
        "        x = F.relu(self.l2(x))\n",
        "        x = self.max_action * torch.tanh(self.l3(x))\n",
        "        return x"
      ],
      "metadata": {
        "id": "WDfT5JktznA0"
      },
      "execution_count": 231,
      "outputs": []
    },
    {
      "cell_type": "code",
      "source": [
        "class Critic(nn.Module):\n",
        "    def __init__(self, state_dim, action_dim):\n",
        "        super(Critic, self).__init__()\n",
        "\n",
        "        self.l1 = nn.Linear(state_dim + action_dim, 400)\n",
        "        self.l2 = nn.Linear(400 , 300)\n",
        "        self.l3 = nn.Linear(300, 1)\n",
        "\n",
        "    def forward(self, x, u):\n",
        "        x = F.relu(self.l1(torch.cat([x, u], 1)))\n",
        "        x = F.relu(self.l2(x))\n",
        "        x = self.l3(x)\n",
        "        return x"
      ],
      "metadata": {
        "id": "t4GMrEzH0GSw"
      },
      "execution_count": 232,
      "outputs": []
    },
    {
      "cell_type": "code",
      "source": [
        "class ReplayBuffer():\n",
        "    '''\n",
        "    Code based on:\n",
        "    https://github.com/openai/baselines/blob/master/baselines/deepq/replay_buffer.py\n",
        "    Expects tuples of (state, next_state, action, reward, done)\n",
        "    '''\n",
        "    def __init__(self, max_size=1000000):\n",
        "        self.storage = []\n",
        "        self.max_size = max_size\n",
        "        self.ptr = 0\n",
        "\n",
        "    def push(self, data):\n",
        "        if len(self.storage) == self.max_size:\n",
        "            self.storage[int(self.ptr)] = data\n",
        "            self.ptr = (self.ptr + 1) % self.max_size\n",
        "        else:\n",
        "            self.storage.append(data)\n",
        "\n",
        "    def sample(self, batch_size):\n",
        "        ind = np.random.randint(0, len(self.storage), size=batch_size)\n",
        "        x, y, u, r, d = [], [], [], [], []\n",
        "\n",
        "        for i in ind:\n",
        "            X, Y, U, R, D = self.storage[i]\n",
        "            x.append(np.array(X, copy=False))\n",
        "            y.append(np.array(Y, copy=False))\n",
        "            u.append(np.array(U, copy=False))\n",
        "            r.append(np.array(R, copy=False))\n",
        "            d.append(np.array(D, copy=False))\n",
        "\n",
        "        return np.array(x), np.array(y), np.array(u), np.array(r).reshape(-1, 1), np.array(d).reshape(-1, 1)"
      ],
      "metadata": {
        "id": "qmnNojgDVKTU"
      },
      "execution_count": 233,
      "outputs": []
    },
    {
      "cell_type": "code",
      "source": [
        "OBSERVATION_SPACE_DIM = 6\n",
        "# HIDDEN_DIM = 16\n",
        "ACTION_DIM = 3\n",
        "ACTOR_LEARNING_RATE = 1e-4\n",
        "CRITIC_LEARNING_RATE = 1e-4\n",
        "MAX_ACTION = 2\n",
        "device = 'cpu'"
      ],
      "metadata": {
        "id": "XVY02tNK1RB_"
      },
      "execution_count": 240,
      "outputs": []
    },
    {
      "cell_type": "code",
      "source": [
        "critic = Critic(OBSERVATION_SPACE_DIM, ACTION_DIM)\n",
        "critic_target = Critic(OBSERVATION_SPACE_DIM, ACTION_DIM).to(device)\n",
        "critic_target.load_state_dict(critic.state_dict())\n",
        "\n",
        "actor = Actor(OBSERVATION_SPACE_DIM, ACTION_DIM, MAX_ACTION)\n",
        "actor_target = Actor(OBSERVATION_SPACE_DIM, ACTION_DIM, MAX_ACTION).to(device)\n",
        "actor_target.load_state_dict(actor.state_dict())\n",
        "\n",
        "num_actor_update_iteration = 0\n",
        "num_critic_update_iteration = 0"
      ],
      "metadata": {
        "id": "z1q-2aeg1RZY"
      },
      "execution_count": 241,
      "outputs": []
    },
    {
      "cell_type": "code",
      "source": [
        "actor_optimizer = torch.optim.Adam(actor.parameters(), lr=ACTOR_LEARNING_RATE)\n",
        "critic_optimizer = torch.optim.Adam(critic.parameters(), lr=CRITIC_LEARNING_RATE)"
      ],
      "metadata": {
        "id": "_5YOIk3r1dOn"
      },
      "execution_count": 242,
      "outputs": []
    },
    {
      "cell_type": "code",
      "source": [
        "replay_buffer = ReplayBuffer()"
      ],
      "metadata": {
        "id": "Z07-xcnsXFsL"
      },
      "execution_count": 243,
      "outputs": []
    },
    {
      "cell_type": "code",
      "source": [
        "gamma = 0.99\n",
        "ENTROPY_BETA = 0.01\n",
        "returns = deque(maxlen=100)\n",
        "BATCH_SIZE = 256\n",
        "N_EPISODES = 2000\n",
        "CLIP_GRAD = 0.1\n",
        "exploration_noise = 5\n",
        "update_iteration = 200\n",
        "tau = 0.005"
      ],
      "metadata": {
        "id": "8JwgMn5I1unf"
      },
      "execution_count": 244,
      "outputs": []
    },
    {
      "cell_type": "code",
      "source": [
        "total_step = 0\n",
        "episodes_actions = []\n",
        "\n",
        "for i in range(N_EPISODES):\n",
        "    total_reward = 0\n",
        "    step = 0\n",
        "    actions = []\n",
        "    state = janken_env.reset()\n",
        "    state = np.array([s.value for s in state])\n",
        "    for t in itertools.count():\n",
        "        action_logits_v = actor(\n",
        "            torch.FloatTensor(state.reshape(1, -1)).to(device)\n",
        "        ).cpu().data.numpy().flatten()\n",
        "        action_logits_v = (action_logits_v + np.random.normal(0, exploration_noise/(0.5*(i+1)), size=ACTION_DIM)).clip(0)\n",
        "        action = np.argmax(action_logits_v)\n",
        "        actions.append(JankenHand.idx2hand(action))\n",
        "        next_state, reward, done = janken_env.step(JankenHand.idx2hand(action))\n",
        "        next_state = np.array([s.value for s in next_state])\n",
        "        replay_buffer.push((state, next_state, action_logits_v, reward, np.float(done)))\n",
        "\n",
        "        state = next_state\n",
        "        if done:\n",
        "            break\n",
        "        step += 1\n",
        "        total_reward += reward\n",
        "    episodes_actions.append(copy(actions))\n",
        "    total_step += step+1\n",
        "    print(\"Total T:{} Episode: \\t{} Total Reward: \\t{:0.2f}\\tStep Length Until Done: \\t{}\".format(total_step, i, total_reward, len(actions)))\n",
        "    if len(episodes_actions) > 5:\n",
        "        if np.mean([len(re) for re in episodes_actions[-5:]]) < 6:\n",
        "            break\n",
        "    \n",
        "    # train\n",
        "    # agent.update()\n",
        "    for it in range(update_iteration):\n",
        "        # Sample replay buffer\n",
        "        x, y, u, r, d = replay_buffer.sample(BATCH_SIZE)\n",
        "        state = torch.FloatTensor(x).to(device)\n",
        "        action = torch.FloatTensor(u).to(device)\n",
        "        next_state = torch.FloatTensor(y).to(device)\n",
        "        done = torch.FloatTensor(1-d).to(device)\n",
        "        reward = torch.FloatTensor(r).to(device)\n",
        "\n",
        "        # Compute the target Q value\n",
        "        target_Q = critic_target(next_state, actor_target(next_state))\n",
        "        target_Q = reward + (done * gamma * target_Q).detach()\n",
        "\n",
        "        # Get current Q estimate\n",
        "        current_Q = critic(state, action)\n",
        "\n",
        "        # Compute critic loss\n",
        "        critic_loss = F.mse_loss(current_Q, target_Q)\n",
        "\n",
        "        # Optimize the critic\n",
        "        critic_optimizer.zero_grad()\n",
        "        critic_loss.backward()\n",
        "        critic_optimizer.step()\n",
        "\n",
        "        # Compute actor loss\n",
        "        actor_loss = -critic(state, actor(state)).mean()\n",
        "\n",
        "        # Optimize the actor\n",
        "        actor_optimizer.zero_grad()\n",
        "        actor_loss.backward()\n",
        "        actor_optimizer.step()\n",
        "\n",
        "        # Update the frozen target models\n",
        "        for param, target_param in zip(critic.parameters(), critic_target.parameters()):\n",
        "            target_param.data.copy_(tau * param.data + (1 - tau) * target_param.data)\n",
        "\n",
        "        for param, target_param in zip(actor.parameters(), actor_target.parameters()):\n",
        "            target_param.data.copy_(tau * param.data + (1 - tau) * target_param.data)\n",
        "\n",
        "        num_actor_update_iteration += 1\n",
        "        num_critic_update_iteration += 1"
      ],
      "metadata": {
        "colab": {
          "base_uri": "https://localhost:8080/",
          "height": 906
        },
        "id": "VlX_B_6R2SgA",
        "outputId": "18759f63-cd42-42af-a838-c0fdde5e1ac4"
      },
      "execution_count": 245,
      "outputs": [
        {
          "output_type": "stream",
          "name": "stdout",
          "text": [
            "Total T:81 Episode: \t0 Total Reward: \t-244.00\tStep Length Until Done: \t81\n",
            "Total T:129 Episode: \t1 Total Reward: \t-66.10\tStep Length Until Done: \t48\n",
            "Total T:135 Episode: \t2 Total Reward: \t4.00\tStep Length Until Done: \t6\n",
            "Total T:139 Episode: \t3 Total Reward: \t4.70\tStep Length Until Done: \t4\n",
            "Total T:279 Episode: \t4 Total Reward: \t-800.10\tStep Length Until Done: \t140\n",
            "Total T:353 Episode: \t5 Total Reward: \t-167.80\tStep Length Until Done: \t74\n",
            "Total T:385 Episode: \t6 Total Reward: \t-5.50\tStep Length Until Done: \t32\n",
            "Total T:503 Episode: \t7 Total Reward: \t-537.60\tStep Length Until Done: \t118\n",
            "Total T:1036 Episode: \t8 Total Reward: \t-13455.60\tStep Length Until Done: \t533\n",
            "Total T:1043 Episode: \t9 Total Reward: \t6.50\tStep Length Until Done: \t7\n",
            "Total T:1049 Episode: \t10 Total Reward: \t6.00\tStep Length Until Done: \t6\n",
            "Total T:1055 Episode: \t11 Total Reward: \t6.00\tStep Length Until Done: \t6\n",
            "Total T:1061 Episode: \t12 Total Reward: \t5.00\tStep Length Until Done: \t6\n",
            "Total T:1067 Episode: \t13 Total Reward: \t5.00\tStep Length Until Done: \t6\n",
            "Total T:1073 Episode: \t14 Total Reward: \t8.00\tStep Length Until Done: \t6\n",
            "Total T:1079 Episode: \t15 Total Reward: \t5.00\tStep Length Until Done: \t6\n",
            "Total T:1085 Episode: \t16 Total Reward: \t6.00\tStep Length Until Done: \t6\n",
            "Total T:1091 Episode: \t17 Total Reward: \t7.00\tStep Length Until Done: \t6\n",
            "Total T:1100 Episode: \t18 Total Reward: \t9.20\tStep Length Until Done: \t9\n",
            "Total T:1106 Episode: \t19 Total Reward: \t7.00\tStep Length Until Done: \t6\n",
            "Total T:1121 Episode: \t20 Total Reward: \t11.90\tStep Length Until Done: \t15\n",
            "Total T:1127 Episode: \t21 Total Reward: \t7.00\tStep Length Until Done: \t6\n",
            "Total T:1133 Episode: \t22 Total Reward: \t6.00\tStep Length Until Done: \t6\n",
            "Total T:1142 Episode: \t23 Total Reward: \t11.20\tStep Length Until Done: \t9\n",
            "Total T:1150 Episode: \t24 Total Reward: \t7.90\tStep Length Until Done: \t8\n",
            "Total T:1159 Episode: \t25 Total Reward: \t10.20\tStep Length Until Done: \t9\n",
            "Total T:1168 Episode: \t26 Total Reward: \t9.20\tStep Length Until Done: \t9\n",
            "Total T:1174 Episode: \t27 Total Reward: \t4.00\tStep Length Until Done: \t6\n",
            "Total T:1180 Episode: \t28 Total Reward: \t5.00\tStep Length Until Done: \t6\n",
            "Total T:1188 Episode: \t29 Total Reward: \t5.90\tStep Length Until Done: \t8\n"
          ]
        },
        {
          "output_type": "error",
          "ename": "KeyboardInterrupt",
          "evalue": "ignored",
          "traceback": [
            "\u001b[0;31m---------------------------------------------------------------------------\u001b[0m",
            "\u001b[0;31mKeyboardInterrupt\u001b[0m                         Traceback (most recent call last)",
            "\u001b[0;32m<ipython-input-245-f6eba789a1dc>\u001b[0m in \u001b[0;36m<module>\u001b[0;34m()\u001b[0m\n\u001b[1;32m     10\u001b[0m     \u001b[0;32mfor\u001b[0m \u001b[0mt\u001b[0m \u001b[0;32min\u001b[0m \u001b[0mitertools\u001b[0m\u001b[0;34m.\u001b[0m\u001b[0mcount\u001b[0m\u001b[0;34m(\u001b[0m\u001b[0;34m)\u001b[0m\u001b[0;34m:\u001b[0m\u001b[0;34m\u001b[0m\u001b[0;34m\u001b[0m\u001b[0m\n\u001b[1;32m     11\u001b[0m         action_logits_v = actor(\n\u001b[0;32m---> 12\u001b[0;31m             \u001b[0mtorch\u001b[0m\u001b[0;34m.\u001b[0m\u001b[0mFloatTensor\u001b[0m\u001b[0;34m(\u001b[0m\u001b[0mstate\u001b[0m\u001b[0;34m.\u001b[0m\u001b[0mreshape\u001b[0m\u001b[0;34m(\u001b[0m\u001b[0;36m1\u001b[0m\u001b[0;34m,\u001b[0m \u001b[0;34m-\u001b[0m\u001b[0;36m1\u001b[0m\u001b[0;34m)\u001b[0m\u001b[0;34m)\u001b[0m\u001b[0;34m.\u001b[0m\u001b[0mto\u001b[0m\u001b[0;34m(\u001b[0m\u001b[0mdevice\u001b[0m\u001b[0;34m)\u001b[0m\u001b[0;34m\u001b[0m\u001b[0;34m\u001b[0m\u001b[0m\n\u001b[0m\u001b[1;32m     13\u001b[0m         ).cpu().data.numpy().flatten()\n\u001b[1;32m     14\u001b[0m         \u001b[0;31m# action_logits_v = (action_logits_v + np.random.normal(0, exploration_noise/(0.1*i+1), size=ACTION_DIM)).clip(0, MAX_ACTION)\u001b[0m\u001b[0;34m\u001b[0m\u001b[0;34m\u001b[0m\u001b[0;34m\u001b[0m\u001b[0m\n",
            "\u001b[0;32m/usr/local/lib/python3.7/dist-packages/torch/nn/modules/module.py\u001b[0m in \u001b[0;36m_call_impl\u001b[0;34m(self, *input, **kwargs)\u001b[0m\n\u001b[1;32m   1100\u001b[0m         if not (self._backward_hooks or self._forward_hooks or self._forward_pre_hooks or _global_backward_hooks\n\u001b[1;32m   1101\u001b[0m                 or _global_forward_hooks or _global_forward_pre_hooks):\n\u001b[0;32m-> 1102\u001b[0;31m             \u001b[0;32mreturn\u001b[0m \u001b[0mforward_call\u001b[0m\u001b[0;34m(\u001b[0m\u001b[0;34m*\u001b[0m\u001b[0minput\u001b[0m\u001b[0;34m,\u001b[0m \u001b[0;34m**\u001b[0m\u001b[0mkwargs\u001b[0m\u001b[0;34m)\u001b[0m\u001b[0;34m\u001b[0m\u001b[0;34m\u001b[0m\u001b[0m\n\u001b[0m\u001b[1;32m   1103\u001b[0m         \u001b[0;31m# Do not call functions when jit is used\u001b[0m\u001b[0;34m\u001b[0m\u001b[0;34m\u001b[0m\u001b[0;34m\u001b[0m\u001b[0m\n\u001b[1;32m   1104\u001b[0m         \u001b[0mfull_backward_hooks\u001b[0m\u001b[0;34m,\u001b[0m \u001b[0mnon_full_backward_hooks\u001b[0m \u001b[0;34m=\u001b[0m \u001b[0;34m[\u001b[0m\u001b[0;34m]\u001b[0m\u001b[0;34m,\u001b[0m \u001b[0;34m[\u001b[0m\u001b[0;34m]\u001b[0m\u001b[0;34m\u001b[0m\u001b[0;34m\u001b[0m\u001b[0m\n",
            "\u001b[0;32m<ipython-input-231-2ca3e53179c5>\u001b[0m in \u001b[0;36mforward\u001b[0;34m(self, x)\u001b[0m\n\u001b[1;32m     10\u001b[0m \u001b[0;34m\u001b[0m\u001b[0m\n\u001b[1;32m     11\u001b[0m     \u001b[0;32mdef\u001b[0m \u001b[0mforward\u001b[0m\u001b[0;34m(\u001b[0m\u001b[0mself\u001b[0m\u001b[0;34m,\u001b[0m \u001b[0mx\u001b[0m\u001b[0;34m)\u001b[0m\u001b[0;34m:\u001b[0m\u001b[0;34m\u001b[0m\u001b[0;34m\u001b[0m\u001b[0m\n\u001b[0;32m---> 12\u001b[0;31m         \u001b[0mx\u001b[0m \u001b[0;34m=\u001b[0m \u001b[0mF\u001b[0m\u001b[0;34m.\u001b[0m\u001b[0mrelu\u001b[0m\u001b[0;34m(\u001b[0m\u001b[0mself\u001b[0m\u001b[0;34m.\u001b[0m\u001b[0ml1\u001b[0m\u001b[0;34m(\u001b[0m\u001b[0mx\u001b[0m\u001b[0;34m)\u001b[0m\u001b[0;34m)\u001b[0m\u001b[0;34m\u001b[0m\u001b[0;34m\u001b[0m\u001b[0m\n\u001b[0m\u001b[1;32m     13\u001b[0m         \u001b[0mx\u001b[0m \u001b[0;34m=\u001b[0m \u001b[0mF\u001b[0m\u001b[0;34m.\u001b[0m\u001b[0mrelu\u001b[0m\u001b[0;34m(\u001b[0m\u001b[0mself\u001b[0m\u001b[0;34m.\u001b[0m\u001b[0ml2\u001b[0m\u001b[0;34m(\u001b[0m\u001b[0mx\u001b[0m\u001b[0;34m)\u001b[0m\u001b[0;34m)\u001b[0m\u001b[0;34m\u001b[0m\u001b[0;34m\u001b[0m\u001b[0m\n\u001b[1;32m     14\u001b[0m         \u001b[0mx\u001b[0m \u001b[0;34m=\u001b[0m \u001b[0mself\u001b[0m\u001b[0;34m.\u001b[0m\u001b[0mmax_action\u001b[0m \u001b[0;34m*\u001b[0m \u001b[0mtorch\u001b[0m\u001b[0;34m.\u001b[0m\u001b[0mtanh\u001b[0m\u001b[0;34m(\u001b[0m\u001b[0mself\u001b[0m\u001b[0;34m.\u001b[0m\u001b[0ml3\u001b[0m\u001b[0;34m(\u001b[0m\u001b[0mx\u001b[0m\u001b[0;34m)\u001b[0m\u001b[0;34m)\u001b[0m\u001b[0;34m\u001b[0m\u001b[0;34m\u001b[0m\u001b[0m\n",
            "\u001b[0;32m/usr/local/lib/python3.7/dist-packages/torch/nn/modules/module.py\u001b[0m in \u001b[0;36m_call_impl\u001b[0;34m(self, *input, **kwargs)\u001b[0m\n\u001b[1;32m   1100\u001b[0m         if not (self._backward_hooks or self._forward_hooks or self._forward_pre_hooks or _global_backward_hooks\n\u001b[1;32m   1101\u001b[0m                 or _global_forward_hooks or _global_forward_pre_hooks):\n\u001b[0;32m-> 1102\u001b[0;31m             \u001b[0;32mreturn\u001b[0m \u001b[0mforward_call\u001b[0m\u001b[0;34m(\u001b[0m\u001b[0;34m*\u001b[0m\u001b[0minput\u001b[0m\u001b[0;34m,\u001b[0m \u001b[0;34m**\u001b[0m\u001b[0mkwargs\u001b[0m\u001b[0;34m)\u001b[0m\u001b[0;34m\u001b[0m\u001b[0;34m\u001b[0m\u001b[0m\n\u001b[0m\u001b[1;32m   1103\u001b[0m         \u001b[0;31m# Do not call functions when jit is used\u001b[0m\u001b[0;34m\u001b[0m\u001b[0;34m\u001b[0m\u001b[0;34m\u001b[0m\u001b[0m\n\u001b[1;32m   1104\u001b[0m         \u001b[0mfull_backward_hooks\u001b[0m\u001b[0;34m,\u001b[0m \u001b[0mnon_full_backward_hooks\u001b[0m \u001b[0;34m=\u001b[0m \u001b[0;34m[\u001b[0m\u001b[0;34m]\u001b[0m\u001b[0;34m,\u001b[0m \u001b[0;34m[\u001b[0m\u001b[0;34m]\u001b[0m\u001b[0;34m\u001b[0m\u001b[0;34m\u001b[0m\u001b[0m\n",
            "\u001b[0;32m/usr/local/lib/python3.7/dist-packages/torch/nn/modules/linear.py\u001b[0m in \u001b[0;36mforward\u001b[0;34m(self, input)\u001b[0m\n\u001b[1;32m    101\u001b[0m \u001b[0;34m\u001b[0m\u001b[0m\n\u001b[1;32m    102\u001b[0m     \u001b[0;32mdef\u001b[0m \u001b[0mforward\u001b[0m\u001b[0;34m(\u001b[0m\u001b[0mself\u001b[0m\u001b[0;34m,\u001b[0m \u001b[0minput\u001b[0m\u001b[0;34m:\u001b[0m \u001b[0mTensor\u001b[0m\u001b[0;34m)\u001b[0m \u001b[0;34m->\u001b[0m \u001b[0mTensor\u001b[0m\u001b[0;34m:\u001b[0m\u001b[0;34m\u001b[0m\u001b[0;34m\u001b[0m\u001b[0m\n\u001b[0;32m--> 103\u001b[0;31m         \u001b[0;32mreturn\u001b[0m \u001b[0mF\u001b[0m\u001b[0;34m.\u001b[0m\u001b[0mlinear\u001b[0m\u001b[0;34m(\u001b[0m\u001b[0minput\u001b[0m\u001b[0;34m,\u001b[0m \u001b[0mself\u001b[0m\u001b[0;34m.\u001b[0m\u001b[0mweight\u001b[0m\u001b[0;34m,\u001b[0m \u001b[0mself\u001b[0m\u001b[0;34m.\u001b[0m\u001b[0mbias\u001b[0m\u001b[0;34m)\u001b[0m\u001b[0;34m\u001b[0m\u001b[0;34m\u001b[0m\u001b[0m\n\u001b[0m\u001b[1;32m    104\u001b[0m \u001b[0;34m\u001b[0m\u001b[0m\n\u001b[1;32m    105\u001b[0m     \u001b[0;32mdef\u001b[0m \u001b[0mextra_repr\u001b[0m\u001b[0;34m(\u001b[0m\u001b[0mself\u001b[0m\u001b[0;34m)\u001b[0m \u001b[0;34m->\u001b[0m \u001b[0mstr\u001b[0m\u001b[0;34m:\u001b[0m\u001b[0;34m\u001b[0m\u001b[0;34m\u001b[0m\u001b[0m\n",
            "\u001b[0;32m/usr/local/lib/python3.7/dist-packages/torch/nn/functional.py\u001b[0m in \u001b[0;36mlinear\u001b[0;34m(input, weight, bias)\u001b[0m\n\u001b[1;32m   1846\u001b[0m     \u001b[0;32mif\u001b[0m \u001b[0mhas_torch_function_variadic\u001b[0m\u001b[0;34m(\u001b[0m\u001b[0minput\u001b[0m\u001b[0;34m,\u001b[0m \u001b[0mweight\u001b[0m\u001b[0;34m,\u001b[0m \u001b[0mbias\u001b[0m\u001b[0;34m)\u001b[0m\u001b[0;34m:\u001b[0m\u001b[0;34m\u001b[0m\u001b[0;34m\u001b[0m\u001b[0m\n\u001b[1;32m   1847\u001b[0m         \u001b[0;32mreturn\u001b[0m \u001b[0mhandle_torch_function\u001b[0m\u001b[0;34m(\u001b[0m\u001b[0mlinear\u001b[0m\u001b[0;34m,\u001b[0m \u001b[0;34m(\u001b[0m\u001b[0minput\u001b[0m\u001b[0;34m,\u001b[0m \u001b[0mweight\u001b[0m\u001b[0;34m,\u001b[0m \u001b[0mbias\u001b[0m\u001b[0;34m)\u001b[0m\u001b[0;34m,\u001b[0m \u001b[0minput\u001b[0m\u001b[0;34m,\u001b[0m \u001b[0mweight\u001b[0m\u001b[0;34m,\u001b[0m \u001b[0mbias\u001b[0m\u001b[0;34m=\u001b[0m\u001b[0mbias\u001b[0m\u001b[0;34m)\u001b[0m\u001b[0;34m\u001b[0m\u001b[0;34m\u001b[0m\u001b[0m\n\u001b[0;32m-> 1848\u001b[0;31m     \u001b[0;32mreturn\u001b[0m \u001b[0mtorch\u001b[0m\u001b[0;34m.\u001b[0m\u001b[0m_C\u001b[0m\u001b[0;34m.\u001b[0m\u001b[0m_nn\u001b[0m\u001b[0;34m.\u001b[0m\u001b[0mlinear\u001b[0m\u001b[0;34m(\u001b[0m\u001b[0minput\u001b[0m\u001b[0;34m,\u001b[0m \u001b[0mweight\u001b[0m\u001b[0;34m,\u001b[0m \u001b[0mbias\u001b[0m\u001b[0;34m)\u001b[0m\u001b[0;34m\u001b[0m\u001b[0;34m\u001b[0m\u001b[0m\n\u001b[0m\u001b[1;32m   1849\u001b[0m \u001b[0;34m\u001b[0m\u001b[0m\n\u001b[1;32m   1850\u001b[0m \u001b[0;34m\u001b[0m\u001b[0m\n",
            "\u001b[0;31mKeyboardInterrupt\u001b[0m: "
          ]
        }
      ]
    },
    {
      "cell_type": "code",
      "source": [
        "plt.figure(figsize=(16, 5))\n",
        "plt.plot([len(re) for re in episodes_actions], marker='o')\n",
        "plt.xlabel('episode')\n",
        "plt.ylabel('step length taken until done')"
      ],
      "metadata": {
        "colab": {
          "base_uri": "https://localhost:8080/",
          "height": 351
        },
        "id": "pLCPJU9dhO_z",
        "outputId": "c1e459cb-d114-41ef-d9b9-24e18310142c"
      },
      "execution_count": 246,
      "outputs": [
        {
          "output_type": "execute_result",
          "data": {
            "text/plain": [
              "Text(0, 0.5, 'step length taken until done')"
            ]
          },
          "metadata": {},
          "execution_count": 246
        },
        {
          "output_type": "display_data",
          "data": {
            "image/png": "[encoded data removed]",
            "text/plain": [
              "<Figure size 1152x360 with 1 Axes>"
            ]
          },
          "metadata": {
            "needs_background": "light"
          }
        }
      ]
    },
    {
      "cell_type": "code",
      "source": [
        "# エピソード1\n",
        "episodes_actions[0]"
      ],
      "metadata": {
        "colab": {
          "base_uri": "https://localhost:8080/"
        },
        "id": "l8KZqNq7qPiy",
        "outputId": "2d054c5d-fe80-4ee2-c7b2-a4c373e5d076"
      },
      "execution_count": 247,
      "outputs": [
        {
          "output_type": "execute_result",
          "data": {
            "text/plain": [
              "[<JankenHand.GUU: 0>,\n",
              " <JankenHand.CHOKI: 1>,\n",
              " <JankenHand.PAA: 2>,\n",
              " <JankenHand.GUU: 0>,\n",
              " <JankenHand.PAA: 2>,\n",
              " <JankenHand.GUU: 0>,\n",
              " <JankenHand.CHOKI: 1>,\n",
              " <JankenHand.GUU: 0>,\n",
              " <JankenHand.CHOKI: 1>,\n",
              " <JankenHand.GUU: 0>,\n",
              " <JankenHand.CHOKI: 1>,\n",
              " <JankenHand.CHOKI: 1>,\n",
              " <JankenHand.GUU: 0>,\n",
              " <JankenHand.PAA: 2>,\n",
              " <JankenHand.CHOKI: 1>,\n",
              " <JankenHand.GUU: 0>,\n",
              " <JankenHand.CHOKI: 1>,\n",
              " <JankenHand.GUU: 0>,\n",
              " <JankenHand.PAA: 2>,\n",
              " <JankenHand.CHOKI: 1>,\n",
              " <JankenHand.PAA: 2>,\n",
              " <JankenHand.PAA: 2>,\n",
              " <JankenHand.PAA: 2>,\n",
              " <JankenHand.GUU: 0>,\n",
              " <JankenHand.CHOKI: 1>,\n",
              " <JankenHand.PAA: 2>,\n",
              " <JankenHand.PAA: 2>,\n",
              " <JankenHand.PAA: 2>,\n",
              " <JankenHand.PAA: 2>,\n",
              " <JankenHand.CHOKI: 1>,\n",
              " <JankenHand.GUU: 0>,\n",
              " <JankenHand.CHOKI: 1>,\n",
              " <JankenHand.GUU: 0>,\n",
              " <JankenHand.CHOKI: 1>,\n",
              " <JankenHand.GUU: 0>,\n",
              " <JankenHand.GUU: 0>,\n",
              " <JankenHand.PAA: 2>,\n",
              " <JankenHand.GUU: 0>,\n",
              " <JankenHand.GUU: 0>,\n",
              " <JankenHand.GUU: 0>,\n",
              " <JankenHand.GUU: 0>,\n",
              " <JankenHand.GUU: 0>,\n",
              " <JankenHand.GUU: 0>,\n",
              " <JankenHand.CHOKI: 1>,\n",
              " <JankenHand.GUU: 0>,\n",
              " <JankenHand.PAA: 2>,\n",
              " <JankenHand.CHOKI: 1>,\n",
              " <JankenHand.GUU: 0>,\n",
              " <JankenHand.PAA: 2>,\n",
              " <JankenHand.GUU: 0>,\n",
              " <JankenHand.GUU: 0>,\n",
              " <JankenHand.PAA: 2>,\n",
              " <JankenHand.PAA: 2>,\n",
              " <JankenHand.GUU: 0>,\n",
              " <JankenHand.PAA: 2>,\n",
              " <JankenHand.CHOKI: 1>,\n",
              " <JankenHand.CHOKI: 1>,\n",
              " <JankenHand.PAA: 2>,\n",
              " <JankenHand.CHOKI: 1>,\n",
              " <JankenHand.PAA: 2>,\n",
              " <JankenHand.CHOKI: 1>,\n",
              " <JankenHand.PAA: 2>,\n",
              " <JankenHand.GUU: 0>,\n",
              " <JankenHand.CHOKI: 1>,\n",
              " <JankenHand.GUU: 0>,\n",
              " <JankenHand.PAA: 2>,\n",
              " <JankenHand.GUU: 0>,\n",
              " <JankenHand.GUU: 0>,\n",
              " <JankenHand.GUU: 0>,\n",
              " <JankenHand.CHOKI: 1>,\n",
              " <JankenHand.PAA: 2>,\n",
              " <JankenHand.GUU: 0>,\n",
              " <JankenHand.GUU: 0>,\n",
              " <JankenHand.GUU: 0>,\n",
              " <JankenHand.GUU: 0>,\n",
              " <JankenHand.CHOKI: 1>,\n",
              " <JankenHand.PAA: 2>,\n",
              " <JankenHand.GUU: 0>,\n",
              " <JankenHand.PAA: 2>,\n",
              " <JankenHand.GUU: 0>,\n",
              " <JankenHand.CHOKI: 1>]"
            ]
          },
          "metadata": {},
          "execution_count": 247
        }
      ]
    },
    {
      "cell_type": "code",
      "source": [
        "# 最終エピソード\n",
        "episodes_actions[-1]"
      ],
      "metadata": {
        "colab": {
          "base_uri": "https://localhost:8080/"
        },
        "id": "TlspTUxJouJI",
        "outputId": "1fcd75bd-e7f3-4004-86fe-14793fefddda"
      },
      "execution_count": 248,
      "outputs": [
        {
          "output_type": "execute_result",
          "data": {
            "text/plain": [
              "[<JankenHand.GUU: 0>,\n",
              " <JankenHand.PAA: 2>,\n",
              " <JankenHand.PAA: 2>,\n",
              " <JankenHand.PAA: 2>,\n",
              " <JankenHand.PAA: 2>,\n",
              " <JankenHand.CHOKI: 1>,\n",
              " <JankenHand.PAA: 2>,\n",
              " <JankenHand.GUU: 0>]"
            ]
          },
          "metadata": {},
          "execution_count": 248
        }
      ]
    },
    {
      "cell_type": "code",
      "source": [
        ""
      ],
      "metadata": {
        "id": "i1QkF-p6oxli"
      },
      "execution_count": null,
      "outputs": []
    },
    {
      "cell_type": "code",
      "source": [
        ""
      ],
      "metadata": {
        "id": "ifKb-EcppC9h"
      },
      "execution_count": null,
      "outputs": []
    }
  ]
}