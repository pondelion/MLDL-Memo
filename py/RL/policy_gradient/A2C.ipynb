{
  "nbformat": 4,
  "nbformat_minor": 0,
  "metadata": {
    "colab": {
      "name": "A2C.ipynb",
      "provenance": []
    },
    "kernelspec": {
      "name": "python3",
      "display_name": "Python 3"
    },
    "language_info": {
      "name": "python"
    }
  },
  "cells": [
    {
      "cell_type": "markdown",
      "source": [
        "ref:https://colab.research.google.com/github/yfletberliac/rlss-2019/blob/master/labs/DRL.01.REINFORCE%2BA2C.ipynb#scrollTo=_5pS7cRyyFhC  \n",
        "https://github.com/PacktPublishing/Deep-Reinforcement-Learning-Hands-On-Second-Edition/blob/master/Chapter12/02_pong_a2c.py"
      ],
      "metadata": {
        "id": "7pkFSIWmzUby"
      }
    },
    {
      "cell_type": "code",
      "execution_count": 1,
      "metadata": {
        "id": "yBljzvnpzG5p"
      },
      "outputs": [],
      "source": [
        "from enum import Enum\n",
        "from typing import List\n",
        "from collections import deque\n",
        "from copy import copy\n",
        "import random\n",
        "import matplotlib.pyplot as plt"
      ]
    },
    {
      "cell_type": "code",
      "source": [
        "import torch\n",
        "import torch.nn as nn\n",
        "import torch.nn.functional as F\n",
        "from torch.distributions import Categorical\n",
        "import torch.nn.utils as nn_utils\n",
        "import numpy as np"
      ],
      "metadata": {
        "id": "AF5gLcWUzsVh"
      },
      "execution_count": 2,
      "outputs": []
    },
    {
      "cell_type": "code",
      "source": [
        "class JankenHand(Enum):\n",
        "    GUU = 0\n",
        "    CHOKI = 1\n",
        "    PAA = 2\n",
        "\n",
        "    @staticmethod\n",
        "    def idx2hand(idx: int):\n",
        "        for hand in JankenHand:\n",
        "            if idx == hand.value:\n",
        "                return hand\n",
        "        raise ValueError(f'not supported hand index {idx}')"
      ],
      "metadata": {
        "id": "P8JW-GAzzuXj"
      },
      "execution_count": 3,
      "outputs": []
    },
    {
      "cell_type": "code",
      "source": [
        "class JankenResult(Enum):\n",
        "    YOUR_WIN = 2\n",
        "    DRAW = 1\n",
        "    YOUR_LOSE = 0"
      ],
      "metadata": {
        "id": "Fl6mFaQUzwgQ"
      },
      "execution_count": 4,
      "outputs": []
    },
    {
      "cell_type": "code",
      "source": [
        "class Oponent:\n",
        "    \"\"\"グー -> チョキ -> パーを繰り返す相手\"\"\"\n",
        "\n",
        "    def __init__(self):\n",
        "        self._n = 0\n",
        "    \n",
        "    def hand(self) -> JankenHand:\n",
        "        hand = JankenHand.idx2hand(self._n%3)\n",
        "        self._n += 1\n",
        "        return hand\n",
        "\n",
        "    def reset(self) -> None:\n",
        "        self._n = 0"
      ],
      "metadata": {
        "id": "_Eo_oJaqz33y"
      },
      "execution_count": 5,
      "outputs": []
    },
    {
      "cell_type": "code",
      "source": [
        "oponent = Oponent()"
      ],
      "metadata": {
        "id": "9thNg46qz56q"
      },
      "execution_count": 6,
      "outputs": []
    },
    {
      "cell_type": "code",
      "source": [
        "for i in range(7):\n",
        "    print(oponent.hand())"
      ],
      "metadata": {
        "colab": {
          "base_uri": "https://localhost:8080/"
        },
        "id": "BiGht5HVz6ta",
        "outputId": "ae812a5e-12a2-493c-f825-47943905dc33"
      },
      "execution_count": 7,
      "outputs": [
        {
          "output_type": "stream",
          "name": "stdout",
          "text": [
            "JankenHand.GUU\n",
            "JankenHand.CHOKI\n",
            "JankenHand.PAA\n",
            "JankenHand.GUU\n",
            "JankenHand.CHOKI\n",
            "JankenHand.PAA\n",
            "JankenHand.GUU\n"
          ]
        }
      ]
    },
    {
      "cell_type": "code",
      "source": [
        "class JankenEnv:\n",
        "\n",
        "    STATE_DIM = 6\n",
        "\n",
        "    def __init__(self):\n",
        "        self._oponent = Oponent()\n",
        "        self._state = self.reset()\n",
        "\n",
        "    def step(self, action: JankenHand):\n",
        "        oponent_hand = self._oponent.hand()\n",
        "        self._state.append(oponent_hand)\n",
        "        if (action == JankenHand.GUU and oponent_hand == JankenHand.CHOKI) or \\\n",
        "            (action == JankenHand.CHOKI and oponent_hand == JankenHand.PAA) or \\\n",
        "            (action == JankenHand.PAA and oponent_hand == JankenHand.GUU):\n",
        "            result = JankenResult.YOUR_WIN\n",
        "        elif (action == JankenHand.GUU and oponent_hand == JankenHand.PAA) or \\\n",
        "            (action == JankenHand.CHOKI and oponent_hand == JankenHand.GUU) or \\\n",
        "            (action == JankenHand.PAA and oponent_hand == JankenHand.CHOKI):\n",
        "            result = JankenResult.YOUR_LOSE\n",
        "        else:\n",
        "            result = JankenResult.DRAW\n",
        "        reward = result.value - 0.1*len(self._results)  # 長くかかるとマイナスのペナルティ\n",
        "        self._results.append(result)\n",
        "        done = False\n",
        "        if len(self._results) >= 3:\n",
        "            # 3回連続で勝利したらdone\n",
        "            done = all([res==JankenResult.YOUR_WIN for res in self._results[-3:]])\n",
        "            if done:\n",
        "                reward = 50 / (len(self._results)-3+1)**1  # 長くかかるほど最終報酬は小さく\n",
        "        next_state = copy(self._state)\n",
        "        return next_state, reward, done\n",
        "\n",
        "    def reset(self) -> deque:\n",
        "        self._state = deque([JankenHand.GUU]*JankenEnv.STATE_DIM, maxlen=JankenEnv.STATE_DIM)\n",
        "        self._oponent.reset()\n",
        "        self._results = []\n",
        "        return self._state\n",
        "\n",
        "    @property\n",
        "    def results(self) -> List[JankenResult]:\n",
        "        return self._results"
      ],
      "metadata": {
        "id": "LISoIwVaz8p_"
      },
      "execution_count": 8,
      "outputs": []
    },
    {
      "cell_type": "code",
      "source": [
        "janken_env = JankenEnv()"
      ],
      "metadata": {
        "id": "KbGGOBxw0AKc"
      },
      "execution_count": 9,
      "outputs": []
    },
    {
      "cell_type": "code",
      "source": [
        "janken_env.reset()\n",
        "for i in range(50):\n",
        "    next_state, reward, done = janken_env.step(action=JankenHand.idx2hand(random.randint(0, 2)))\n",
        "    print(f'{next_state} : {reward} : {done}')"
      ],
      "metadata": {
        "colab": {
          "base_uri": "https://localhost:8080/"
        },
        "id": "g6_LXBgH0Cf5",
        "outputId": "be45115f-79f1-4f8a-ad76-c93251d0bfe8"
      },
      "execution_count": 10,
      "outputs": [
        {
          "output_type": "stream",
          "name": "stdout",
          "text": [
            "deque([<JankenHand.GUU: 0>, <JankenHand.GUU: 0>, <JankenHand.GUU: 0>, <JankenHand.GUU: 0>, <JankenHand.GUU: 0>, <JankenHand.GUU: 0>], maxlen=6) : 2.0 : False\n",
            "deque([<JankenHand.GUU: 0>, <JankenHand.GUU: 0>, <JankenHand.GUU: 0>, <JankenHand.GUU: 0>, <JankenHand.GUU: 0>, <JankenHand.CHOKI: 1>], maxlen=6) : 0.9 : False\n",
            "deque([<JankenHand.GUU: 0>, <JankenHand.GUU: 0>, <JankenHand.GUU: 0>, <JankenHand.GUU: 0>, <JankenHand.CHOKI: 1>, <JankenHand.PAA: 2>], maxlen=6) : 0.8 : False\n",
            "deque([<JankenHand.GUU: 0>, <JankenHand.GUU: 0>, <JankenHand.GUU: 0>, <JankenHand.CHOKI: 1>, <JankenHand.PAA: 2>, <JankenHand.GUU: 0>], maxlen=6) : 0.7 : False\n",
            "deque([<JankenHand.GUU: 0>, <JankenHand.GUU: 0>, <JankenHand.CHOKI: 1>, <JankenHand.PAA: 2>, <JankenHand.GUU: 0>, <JankenHand.CHOKI: 1>], maxlen=6) : 0.6 : False\n",
            "deque([<JankenHand.GUU: 0>, <JankenHand.CHOKI: 1>, <JankenHand.PAA: 2>, <JankenHand.GUU: 0>, <JankenHand.CHOKI: 1>, <JankenHand.PAA: 2>], maxlen=6) : 0.5 : False\n",
            "deque([<JankenHand.CHOKI: 1>, <JankenHand.PAA: 2>, <JankenHand.GUU: 0>, <JankenHand.CHOKI: 1>, <JankenHand.PAA: 2>, <JankenHand.GUU: 0>], maxlen=6) : 0.3999999999999999 : False\n",
            "deque([<JankenHand.PAA: 2>, <JankenHand.GUU: 0>, <JankenHand.CHOKI: 1>, <JankenHand.PAA: 2>, <JankenHand.GUU: 0>, <JankenHand.CHOKI: 1>], maxlen=6) : 0.29999999999999993 : False\n",
            "deque([<JankenHand.GUU: 0>, <JankenHand.CHOKI: 1>, <JankenHand.PAA: 2>, <JankenHand.GUU: 0>, <JankenHand.CHOKI: 1>, <JankenHand.PAA: 2>], maxlen=6) : -0.8 : False\n",
            "deque([<JankenHand.CHOKI: 1>, <JankenHand.PAA: 2>, <JankenHand.GUU: 0>, <JankenHand.CHOKI: 1>, <JankenHand.PAA: 2>, <JankenHand.GUU: 0>], maxlen=6) : 0.09999999999999998 : False\n",
            "deque([<JankenHand.PAA: 2>, <JankenHand.GUU: 0>, <JankenHand.CHOKI: 1>, <JankenHand.PAA: 2>, <JankenHand.GUU: 0>, <JankenHand.CHOKI: 1>], maxlen=6) : 0.0 : False\n",
            "deque([<JankenHand.GUU: 0>, <JankenHand.CHOKI: 1>, <JankenHand.PAA: 2>, <JankenHand.GUU: 0>, <JankenHand.CHOKI: 1>, <JankenHand.PAA: 2>], maxlen=6) : -1.1 : False\n",
            "deque([<JankenHand.CHOKI: 1>, <JankenHand.PAA: 2>, <JankenHand.GUU: 0>, <JankenHand.CHOKI: 1>, <JankenHand.PAA: 2>, <JankenHand.GUU: 0>], maxlen=6) : -0.20000000000000018 : False\n",
            "deque([<JankenHand.PAA: 2>, <JankenHand.GUU: 0>, <JankenHand.CHOKI: 1>, <JankenHand.PAA: 2>, <JankenHand.GUU: 0>, <JankenHand.CHOKI: 1>], maxlen=6) : -0.30000000000000004 : False\n",
            "deque([<JankenHand.GUU: 0>, <JankenHand.CHOKI: 1>, <JankenHand.PAA: 2>, <JankenHand.GUU: 0>, <JankenHand.CHOKI: 1>, <JankenHand.PAA: 2>], maxlen=6) : -0.40000000000000013 : False\n",
            "deque([<JankenHand.CHOKI: 1>, <JankenHand.PAA: 2>, <JankenHand.GUU: 0>, <JankenHand.CHOKI: 1>, <JankenHand.PAA: 2>, <JankenHand.GUU: 0>], maxlen=6) : -0.5 : False\n",
            "deque([<JankenHand.PAA: 2>, <JankenHand.GUU: 0>, <JankenHand.CHOKI: 1>, <JankenHand.PAA: 2>, <JankenHand.GUU: 0>, <JankenHand.CHOKI: 1>], maxlen=6) : 0.3999999999999999 : False\n",
            "deque([<JankenHand.GUU: 0>, <JankenHand.CHOKI: 1>, <JankenHand.PAA: 2>, <JankenHand.GUU: 0>, <JankenHand.CHOKI: 1>, <JankenHand.PAA: 2>], maxlen=6) : -0.7000000000000002 : False\n",
            "deque([<JankenHand.CHOKI: 1>, <JankenHand.PAA: 2>, <JankenHand.GUU: 0>, <JankenHand.CHOKI: 1>, <JankenHand.PAA: 2>, <JankenHand.GUU: 0>], maxlen=6) : -1.8 : False\n",
            "deque([<JankenHand.PAA: 2>, <JankenHand.GUU: 0>, <JankenHand.CHOKI: 1>, <JankenHand.PAA: 2>, <JankenHand.GUU: 0>, <JankenHand.CHOKI: 1>], maxlen=6) : -1.9000000000000001 : False\n",
            "deque([<JankenHand.GUU: 0>, <JankenHand.CHOKI: 1>, <JankenHand.PAA: 2>, <JankenHand.GUU: 0>, <JankenHand.CHOKI: 1>, <JankenHand.PAA: 2>], maxlen=6) : -1.0 : False\n",
            "deque([<JankenHand.CHOKI: 1>, <JankenHand.PAA: 2>, <JankenHand.GUU: 0>, <JankenHand.CHOKI: 1>, <JankenHand.PAA: 2>, <JankenHand.GUU: 0>], maxlen=6) : -2.1 : False\n",
            "deque([<JankenHand.PAA: 2>, <JankenHand.GUU: 0>, <JankenHand.CHOKI: 1>, <JankenHand.PAA: 2>, <JankenHand.GUU: 0>, <JankenHand.CHOKI: 1>], maxlen=6) : -2.2 : False\n",
            "deque([<JankenHand.GUU: 0>, <JankenHand.CHOKI: 1>, <JankenHand.PAA: 2>, <JankenHand.GUU: 0>, <JankenHand.CHOKI: 1>, <JankenHand.PAA: 2>], maxlen=6) : -1.3000000000000003 : False\n",
            "deque([<JankenHand.CHOKI: 1>, <JankenHand.PAA: 2>, <JankenHand.GUU: 0>, <JankenHand.CHOKI: 1>, <JankenHand.PAA: 2>, <JankenHand.GUU: 0>], maxlen=6) : -2.4000000000000004 : False\n",
            "deque([<JankenHand.PAA: 2>, <JankenHand.GUU: 0>, <JankenHand.CHOKI: 1>, <JankenHand.PAA: 2>, <JankenHand.GUU: 0>, <JankenHand.CHOKI: 1>], maxlen=6) : -0.5 : False\n",
            "deque([<JankenHand.GUU: 0>, <JankenHand.CHOKI: 1>, <JankenHand.PAA: 2>, <JankenHand.GUU: 0>, <JankenHand.CHOKI: 1>, <JankenHand.PAA: 2>], maxlen=6) : -1.6 : False\n",
            "deque([<JankenHand.CHOKI: 1>, <JankenHand.PAA: 2>, <JankenHand.GUU: 0>, <JankenHand.CHOKI: 1>, <JankenHand.PAA: 2>, <JankenHand.GUU: 0>], maxlen=6) : -2.7 : False\n",
            "deque([<JankenHand.PAA: 2>, <JankenHand.GUU: 0>, <JankenHand.CHOKI: 1>, <JankenHand.PAA: 2>, <JankenHand.GUU: 0>, <JankenHand.CHOKI: 1>], maxlen=6) : -2.8000000000000003 : False\n",
            "deque([<JankenHand.GUU: 0>, <JankenHand.CHOKI: 1>, <JankenHand.PAA: 2>, <JankenHand.GUU: 0>, <JankenHand.CHOKI: 1>, <JankenHand.PAA: 2>], maxlen=6) : -0.9000000000000004 : False\n",
            "deque([<JankenHand.CHOKI: 1>, <JankenHand.PAA: 2>, <JankenHand.GUU: 0>, <JankenHand.CHOKI: 1>, <JankenHand.PAA: 2>, <JankenHand.GUU: 0>], maxlen=6) : -1.0 : False\n",
            "deque([<JankenHand.PAA: 2>, <JankenHand.GUU: 0>, <JankenHand.CHOKI: 1>, <JankenHand.PAA: 2>, <JankenHand.GUU: 0>, <JankenHand.CHOKI: 1>], maxlen=6) : -3.1 : False\n",
            "deque([<JankenHand.GUU: 0>, <JankenHand.CHOKI: 1>, <JankenHand.PAA: 2>, <JankenHand.GUU: 0>, <JankenHand.CHOKI: 1>, <JankenHand.PAA: 2>], maxlen=6) : -2.2 : False\n",
            "deque([<JankenHand.CHOKI: 1>, <JankenHand.PAA: 2>, <JankenHand.GUU: 0>, <JankenHand.CHOKI: 1>, <JankenHand.PAA: 2>, <JankenHand.GUU: 0>], maxlen=6) : -3.3000000000000003 : False\n",
            "deque([<JankenHand.PAA: 2>, <JankenHand.GUU: 0>, <JankenHand.CHOKI: 1>, <JankenHand.PAA: 2>, <JankenHand.GUU: 0>, <JankenHand.CHOKI: 1>], maxlen=6) : -2.4000000000000004 : False\n",
            "deque([<JankenHand.GUU: 0>, <JankenHand.CHOKI: 1>, <JankenHand.PAA: 2>, <JankenHand.GUU: 0>, <JankenHand.CHOKI: 1>, <JankenHand.PAA: 2>], maxlen=6) : -3.5 : False\n",
            "deque([<JankenHand.CHOKI: 1>, <JankenHand.PAA: 2>, <JankenHand.GUU: 0>, <JankenHand.CHOKI: 1>, <JankenHand.PAA: 2>, <JankenHand.GUU: 0>], maxlen=6) : -1.6 : False\n",
            "deque([<JankenHand.PAA: 2>, <JankenHand.GUU: 0>, <JankenHand.CHOKI: 1>, <JankenHand.PAA: 2>, <JankenHand.GUU: 0>, <JankenHand.CHOKI: 1>], maxlen=6) : -2.7 : False\n",
            "deque([<JankenHand.GUU: 0>, <JankenHand.CHOKI: 1>, <JankenHand.PAA: 2>, <JankenHand.GUU: 0>, <JankenHand.CHOKI: 1>, <JankenHand.PAA: 2>], maxlen=6) : -1.8000000000000003 : False\n",
            "deque([<JankenHand.CHOKI: 1>, <JankenHand.PAA: 2>, <JankenHand.GUU: 0>, <JankenHand.CHOKI: 1>, <JankenHand.PAA: 2>, <JankenHand.GUU: 0>], maxlen=6) : -1.9000000000000004 : False\n",
            "deque([<JankenHand.PAA: 2>, <JankenHand.GUU: 0>, <JankenHand.CHOKI: 1>, <JankenHand.PAA: 2>, <JankenHand.GUU: 0>, <JankenHand.CHOKI: 1>], maxlen=6) : -3.0 : False\n",
            "deque([<JankenHand.GUU: 0>, <JankenHand.CHOKI: 1>, <JankenHand.PAA: 2>, <JankenHand.GUU: 0>, <JankenHand.CHOKI: 1>, <JankenHand.PAA: 2>], maxlen=6) : -4.1000000000000005 : False\n",
            "deque([<JankenHand.CHOKI: 1>, <JankenHand.PAA: 2>, <JankenHand.GUU: 0>, <JankenHand.CHOKI: 1>, <JankenHand.PAA: 2>, <JankenHand.GUU: 0>], maxlen=6) : -3.2 : False\n",
            "deque([<JankenHand.PAA: 2>, <JankenHand.GUU: 0>, <JankenHand.CHOKI: 1>, <JankenHand.PAA: 2>, <JankenHand.GUU: 0>, <JankenHand.CHOKI: 1>], maxlen=6) : -2.3 : False\n",
            "deque([<JankenHand.GUU: 0>, <JankenHand.CHOKI: 1>, <JankenHand.PAA: 2>, <JankenHand.GUU: 0>, <JankenHand.CHOKI: 1>, <JankenHand.PAA: 2>], maxlen=6) : -3.4000000000000004 : False\n",
            "deque([<JankenHand.CHOKI: 1>, <JankenHand.PAA: 2>, <JankenHand.GUU: 0>, <JankenHand.CHOKI: 1>, <JankenHand.PAA: 2>, <JankenHand.GUU: 0>], maxlen=6) : -2.5 : False\n",
            "deque([<JankenHand.PAA: 2>, <JankenHand.GUU: 0>, <JankenHand.CHOKI: 1>, <JankenHand.PAA: 2>, <JankenHand.GUU: 0>, <JankenHand.CHOKI: 1>], maxlen=6) : -3.6000000000000005 : False\n",
            "deque([<JankenHand.GUU: 0>, <JankenHand.CHOKI: 1>, <JankenHand.PAA: 2>, <JankenHand.GUU: 0>, <JankenHand.CHOKI: 1>, <JankenHand.PAA: 2>], maxlen=6) : -2.7 : False\n",
            "deque([<JankenHand.CHOKI: 1>, <JankenHand.PAA: 2>, <JankenHand.GUU: 0>, <JankenHand.CHOKI: 1>, <JankenHand.PAA: 2>, <JankenHand.GUU: 0>], maxlen=6) : -3.8000000000000007 : False\n",
            "deque([<JankenHand.PAA: 2>, <JankenHand.GUU: 0>, <JankenHand.CHOKI: 1>, <JankenHand.PAA: 2>, <JankenHand.GUU: 0>, <JankenHand.CHOKI: 1>], maxlen=6) : -4.9 : False\n"
          ]
        }
      ]
    },
    {
      "cell_type": "code",
      "source": [
        "class ActorNetwork(nn.Module):\n",
        "\n",
        "    def __init__(self, input_size, hidden_size, action_size):\n",
        "        super(ActorNetwork, self).__init__()\n",
        "        self.fc1 = nn.Linear(input_size, hidden_size)\n",
        "        self.fc2 = nn.Linear(hidden_size, hidden_size)\n",
        "        self.fc3 = nn.Linear(hidden_size, action_size)\n",
        "\n",
        "    def forward(self, x):\n",
        "        out = F.relu(self.fc1(x))\n",
        "        out = F.relu(self.fc2(out))\n",
        "        # out = F.softmax(self.fc3(out), dim=-1)\n",
        "        out = self.fc3(out)\n",
        "        return out\n",
        "    \n",
        "    def select_action(self, x):\n",
        "        return torch.multinomial(self(x), 1).detach().numpy()"
      ],
      "metadata": {
        "id": "WDfT5JktznA0"
      },
      "execution_count": 11,
      "outputs": []
    },
    {
      "cell_type": "code",
      "source": [
        "class ValueNetwork(nn.Module):\n",
        "\n",
        "    def __init__(self, input_size, hidden_size, output_size):\n",
        "        super(ValueNetwork, self).__init__()\n",
        "        self.fc1 = nn.Linear(input_size, hidden_size)\n",
        "        self.fc2 = nn.Linear(hidden_size, hidden_size)\n",
        "        self.fc3 = nn.Linear(hidden_size, output_size)\n",
        "\n",
        "    def forward(self, x):\n",
        "        out = F.relu(self.fc1(x))\n",
        "        out = F.relu(self.fc2(out))\n",
        "        out = self.fc3(out)\n",
        "        return out"
      ],
      "metadata": {
        "id": "t4GMrEzH0GSw"
      },
      "execution_count": 55,
      "outputs": []
    },
    {
      "cell_type": "code",
      "source": [
        "OBSERVATION_SPACE_DIM = 6\n",
        "HIDDEN_DIM = 16\n",
        "ACTION_DIM = 3\n",
        "LEARNING_RATE = 0.005"
      ],
      "metadata": {
        "id": "XVY02tNK1RB_"
      },
      "execution_count": 59,
      "outputs": []
    },
    {
      "cell_type": "code",
      "source": [
        "value_network = ValueNetwork(OBSERVATION_SPACE_DIM, HIDDEN_DIM, 1)\n",
        "actor_network = ActorNetwork(OBSERVATION_SPACE_DIM, HIDDEN_DIM, ACTION_DIM)"
      ],
      "metadata": {
        "id": "z1q-2aeg1RZY"
      },
      "execution_count": 60,
      "outputs": []
    },
    {
      "cell_type": "code",
      "source": [
        "value_actor_optimizer = torch.optim.Adam(list(value_network.parameters())+list(actor_network.parameters()), lr=LEARNING_RATE, eps=1e-3)"
      ],
      "metadata": {
        "id": "_5YOIk3r1dOn"
      },
      "execution_count": 61,
      "outputs": []
    },
    {
      "cell_type": "code",
      "source": [
        "gamma = 0.99\n",
        "ENTROPY_BETA = 0.01\n",
        "returns = deque(maxlen=100)\n",
        "BATCH_SIZE = 256\n",
        "N_EPISODES = 10000\n",
        "CLIP_GRAD = 0.1"
      ],
      "metadata": {
        "id": "8JwgMn5I1unf"
      },
      "execution_count": 62,
      "outputs": []
    },
    {
      "cell_type": "code",
      "source": [
        "np.random.randint(0, 2)"
      ],
      "metadata": {
        "colab": {
          "base_uri": "https://localhost:8080/"
        },
        "id": "QCmxAhPsoCdd",
        "outputId": "9ed2e4be-9709-4371-b6a2-f4adf15806c3"
      },
      "execution_count": 63,
      "outputs": [
        {
          "output_type": "execute_result",
          "data": {
            "text/plain": [
              "0"
            ]
          },
          "metadata": {},
          "execution_count": 63
        }
      ]
    },
    {
      "cell_type": "code",
      "source": [
        "results_episodes = []\n",
        "n_episode = 0\n",
        "\n",
        "# for episode in range(N_EPISODES):\n",
        "while True:\n",
        "    rewards = []\n",
        "    actions = []\n",
        "    states  = []\n",
        "    values = []\n",
        "    dones = []\n",
        "    # reset environment\n",
        "    state = janken_env.reset()\n",
        "    state = [s.value for s in state]\n",
        "    for n in range(BATCH_SIZE):\n",
        "\n",
        "        value = value_network(torch.tensor(state, dtype=torch.float)).detach().numpy()[0]\n",
        "\n",
        "        # calculate probabilities of taking each action\n",
        "        logits_v = actor_network(torch.tensor(state).unsqueeze(0).float())\n",
        "        probs = F.softmax(logits_v, dim=1)\n",
        "        # sample an action from that set of probs\n",
        "        sampler = Categorical(probs)\n",
        "        action = sampler.sample()\n",
        "\n",
        "        # use that action in the environment\n",
        "        new_state, reward, done = janken_env.step(JankenHand.idx2hand(action.item()))\n",
        "        new_state = [s.value for s in new_state]\n",
        "        # store state, action and reward\n",
        "        states.append(state)\n",
        "        actions.append(action)\n",
        "        rewards.append(reward)\n",
        "        values.append(value)\n",
        "        dones.append(done)\n",
        "\n",
        "        state = new_state\n",
        "        if done:\n",
        "            results_episodes.append(copy(janken_env.results))\n",
        "            state = janken_env.reset()\n",
        "            state = [s.value for s in state]\n",
        "\n",
        "    # If our epiosde didn't end on the last step we need to compute the value for the last state\n",
        "    if dones[-1]:\n",
        "        next_value = 0\n",
        "    else:\n",
        "        next_value = value_network(torch.tensor(state, dtype=torch.float)).detach().numpy()[0]\n",
        "\n",
        "    n_episode += sum(dones)\n",
        "\n",
        "    rewards = np.array(rewards)\n",
        "\n",
        "    # R = torch.tensor([np.sum(rewards[i:]*(gamma**np.array(range(i, len(rewards))))) for i in range(len(rewards))])\n",
        "    R = np.append(np.zeros_like(rewards), [next_value], axis=0)\n",
        "    for t in reversed(range(rewards.shape[0])):\n",
        "        R[t] = rewards[t] + gamma * R[t + 1] * (1 - int(dones[t]))\n",
        "    R = torch.tensor(R[:-1])\n",
        "\n",
        "    states = torch.tensor(states).float()\n",
        "    actions = torch.tensor(actions)\n",
        "\n",
        "    value_v = value_network(states)\n",
        "    loss_value_v = F.mse_loss(value_v.squeeze(-1).float(), R.float()).float()\n",
        "\n",
        "    adv_v = R - value_v.squeeze(-1).detach()\n",
        "    # calculate gradient\n",
        "    logits_v = actor_network(states).float()\n",
        "    probs = F.softmax(logits_v, dim=1)\n",
        "    log_prob_v = F.log_softmax(logits_v, dim=1)\n",
        "\n",
        "    log_prob_actions_v = adv_v * log_prob_v[range(BATCH_SIZE), actions]\n",
        "    loss_policy_v = -log_prob_actions_v.mean()\n",
        "\n",
        "    entropy_loss_v = ENTROPY_BETA * (probs * log_prob_v).sum(dim=1).mean()\n",
        "\n",
        "    loss_policy_v.backward(retain_graph=True)\n",
        "    grads = np.concatenate([p.grad.data.cpu().numpy().flatten()\n",
        "                        for p in list(value_network.parameters())+list(actor_network.parameters())\n",
        "                        if p.grad is not None])\n",
        "\n",
        "    # apply entropy and value gradients\n",
        "    loss_v = entropy_loss_v + loss_value_v\n",
        "    loss_v.backward()\n",
        "    nn_utils.clip_grad_norm_(list(value_network.parameters())+list(actor_network.parameters()), CLIP_GRAD)\n",
        "    value_actor_optimizer.step()\n",
        "    # get full loss\n",
        "    loss_v += loss_policy_v\n",
        "\n",
        "    # calculate average return and print it out\n",
        "    returns.append(np.sum(rewards))\n",
        "    if np.random.randint(0, 10) % 10 == 0:\n",
        "        print(\"Episode: {:6d}\\tAvg. Return: {:6.2f}\".format(n_episode, np.mean(returns)))\n",
        "\n",
        "    if n_episode >= N_EPISODES:\n",
        "        break"
      ],
      "metadata": {
        "colab": {
          "base_uri": "https://localhost:8080/"
        },
        "id": "VlX_B_6R2SgA",
        "outputId": "4afeafa4-baee-4e87-d542-ec013ab2c5af"
      },
      "execution_count": 64,
      "outputs": [
        {
          "output_type": "stream",
          "name": "stdout",
          "text": [
            "Episode:     36\tAvg. Return: -673.84\n",
            "Episode:     96\tAvg. Return: -682.48\n",
            "Episode:    127\tAvg. Return: -694.00\n",
            "Episode:    149\tAvg. Return: -684.31\n",
            "Episode:    168\tAvg. Return: -659.51\n",
            "Episode:    209\tAvg. Return: -607.42\n",
            "Episode:    219\tAvg. Return: -591.26\n",
            "Episode:    306\tAvg. Return: -566.79\n",
            "Episode:    362\tAvg. Return: -550.07\n",
            "Episode:    545\tAvg. Return: -515.03\n",
            "Episode:    588\tAvg. Return: -511.66\n",
            "Episode:    611\tAvg. Return: -509.13\n",
            "Episode:    616\tAvg. Return: -509.60\n",
            "Episode:    801\tAvg. Return: -446.99\n",
            "Episode:    810\tAvg. Return: -443.81\n",
            "Episode:    847\tAvg. Return: -445.17\n",
            "Episode:    871\tAvg. Return: -446.65\n",
            "Episode:    973\tAvg. Return: -439.98\n",
            "Episode:   1123\tAvg. Return: -408.46\n",
            "Episode:   1133\tAvg. Return: -407.19\n",
            "Episode:   1297\tAvg. Return: -376.07\n",
            "Episode:   1388\tAvg. Return: -368.92\n",
            "Episode:   1392\tAvg. Return: -370.31\n",
            "Episode:   1443\tAvg. Return: -346.12\n",
            "Episode:   1537\tAvg. Return: -339.80\n",
            "Episode:   1560\tAvg. Return: -349.49\n",
            "Episode:   1577\tAvg. Return: -347.56\n",
            "Episode:   1769\tAvg. Return: -307.26\n",
            "Episode:   1828\tAvg. Return: -287.50\n",
            "Episode:   1884\tAvg. Return: -294.19\n",
            "Episode:   1928\tAvg. Return: -295.60\n",
            "Episode:   2007\tAvg. Return: -297.93\n",
            "Episode:   2014\tAvg. Return: -299.93\n",
            "Episode:   2343\tAvg. Return: -240.57\n",
            "Episode:   2520\tAvg. Return: -185.39\n",
            "Episode:   2582\tAvg. Return: -175.74\n",
            "Episode:   2762\tAvg. Return: -167.33\n",
            "Episode:   2824\tAvg. Return: -162.25\n",
            "Episode:   2899\tAvg. Return: -147.06\n",
            "Episode:   2946\tAvg. Return: -139.43\n",
            "Episode:   3029\tAvg. Return: -127.21\n",
            "Episode:   3093\tAvg. Return: -109.06\n",
            "Episode:   3396\tAvg. Return: -64.99\n",
            "Episode:   3535\tAvg. Return: -32.39\n",
            "Episode:   3731\tAvg. Return:  -9.47\n",
            "Episode:   3839\tAvg. Return:   4.84\n",
            "Episode:   3956\tAvg. Return:  30.49\n",
            "Episode:   4177\tAvg. Return:  73.24\n",
            "Episode:   4196\tAvg. Return:  74.73\n",
            "Episode:   5682\tAvg. Return: 314.59\n",
            "Episode:   6328\tAvg. Return: 405.08\n",
            "Episode:   6637\tAvg. Return: 439.30\n",
            "Episode:   7154\tAvg. Return: 495.46\n",
            "Episode:   8508\tAvg. Return: 619.44\n",
            "Episode:   8820\tAvg. Return: 663.44\n",
            "Episode:   9102\tAvg. Return: 703.25\n",
            "Episode:   9196\tAvg. Return: 715.62\n",
            "Episode:   9298\tAvg. Return: 730.09\n"
          ]
        }
      ]
    },
    {
      "cell_type": "code",
      "source": [
        "# エピソード1\n",
        "results_episodes[0]"
      ],
      "metadata": {
        "colab": {
          "base_uri": "https://localhost:8080/"
        },
        "id": "l8KZqNq7qPiy",
        "outputId": "40b9b237-f327-4ee2-c68a-815d1e0f20ec"
      },
      "execution_count": 68,
      "outputs": [
        {
          "output_type": "execute_result",
          "data": {
            "text/plain": [
              "[<JankenResult.DRAW: 1>,\n",
              " <JankenResult.DRAW: 1>,\n",
              " <JankenResult.YOUR_LOSE: 0>,\n",
              " <JankenResult.YOUR_LOSE: 0>,\n",
              " <JankenResult.DRAW: 1>,\n",
              " <JankenResult.YOUR_WIN: 2>,\n",
              " <JankenResult.DRAW: 1>,\n",
              " <JankenResult.YOUR_WIN: 2>,\n",
              " <JankenResult.DRAW: 1>,\n",
              " <JankenResult.YOUR_WIN: 2>,\n",
              " <JankenResult.YOUR_WIN: 2>,\n",
              " <JankenResult.YOUR_WIN: 2>]"
            ]
          },
          "metadata": {},
          "execution_count": 68
        }
      ]
    },
    {
      "cell_type": "code",
      "source": [
        "# エピソード2\n",
        "results_episodes[1]"
      ],
      "metadata": {
        "colab": {
          "base_uri": "https://localhost:8080/"
        },
        "id": "TlspTUxJouJI",
        "outputId": "a7bc8295-d5af-46b9-edfc-d25b357ba841"
      },
      "execution_count": 71,
      "outputs": [
        {
          "output_type": "execute_result",
          "data": {
            "text/plain": [
              "[<JankenResult.YOUR_LOSE: 0>,\n",
              " <JankenResult.YOUR_WIN: 2>,\n",
              " <JankenResult.YOUR_LOSE: 0>,\n",
              " <JankenResult.YOUR_WIN: 2>,\n",
              " <JankenResult.YOUR_WIN: 2>,\n",
              " <JankenResult.YOUR_LOSE: 0>,\n",
              " <JankenResult.DRAW: 1>,\n",
              " <JankenResult.YOUR_WIN: 2>,\n",
              " <JankenResult.YOUR_LOSE: 0>,\n",
              " <JankenResult.YOUR_WIN: 2>,\n",
              " <JankenResult.YOUR_WIN: 2>,\n",
              " <JankenResult.DRAW: 1>,\n",
              " <JankenResult.DRAW: 1>,\n",
              " <JankenResult.YOUR_LOSE: 0>,\n",
              " <JankenResult.DRAW: 1>,\n",
              " <JankenResult.YOUR_WIN: 2>,\n",
              " <JankenResult.YOUR_WIN: 2>,\n",
              " <JankenResult.DRAW: 1>,\n",
              " <JankenResult.YOUR_WIN: 2>,\n",
              " <JankenResult.DRAW: 1>,\n",
              " <JankenResult.YOUR_WIN: 2>,\n",
              " <JankenResult.DRAW: 1>,\n",
              " <JankenResult.YOUR_LOSE: 0>,\n",
              " <JankenResult.YOUR_LOSE: 0>,\n",
              " <JankenResult.DRAW: 1>,\n",
              " <JankenResult.DRAW: 1>,\n",
              " <JankenResult.YOUR_WIN: 2>,\n",
              " <JankenResult.YOUR_LOSE: 0>,\n",
              " <JankenResult.YOUR_WIN: 2>,\n",
              " <JankenResult.YOUR_WIN: 2>,\n",
              " <JankenResult.DRAW: 1>,\n",
              " <JankenResult.YOUR_LOSE: 0>,\n",
              " <JankenResult.DRAW: 1>,\n",
              " <JankenResult.DRAW: 1>,\n",
              " <JankenResult.DRAW: 1>,\n",
              " <JankenResult.YOUR_LOSE: 0>,\n",
              " <JankenResult.DRAW: 1>,\n",
              " <JankenResult.DRAW: 1>,\n",
              " <JankenResult.YOUR_LOSE: 0>,\n",
              " <JankenResult.YOUR_WIN: 2>,\n",
              " <JankenResult.YOUR_LOSE: 0>,\n",
              " <JankenResult.YOUR_WIN: 2>,\n",
              " <JankenResult.DRAW: 1>,\n",
              " <JankenResult.DRAW: 1>,\n",
              " <JankenResult.YOUR_LOSE: 0>,\n",
              " <JankenResult.YOUR_WIN: 2>,\n",
              " <JankenResult.YOUR_LOSE: 0>,\n",
              " <JankenResult.YOUR_LOSE: 0>,\n",
              " <JankenResult.YOUR_LOSE: 0>,\n",
              " <JankenResult.YOUR_LOSE: 0>,\n",
              " <JankenResult.DRAW: 1>,\n",
              " <JankenResult.YOUR_WIN: 2>,\n",
              " <JankenResult.YOUR_WIN: 2>,\n",
              " <JankenResult.DRAW: 1>,\n",
              " <JankenResult.YOUR_LOSE: 0>,\n",
              " <JankenResult.YOUR_LOSE: 0>,\n",
              " <JankenResult.YOUR_WIN: 2>,\n",
              " <JankenResult.DRAW: 1>,\n",
              " <JankenResult.DRAW: 1>,\n",
              " <JankenResult.YOUR_WIN: 2>,\n",
              " <JankenResult.YOUR_WIN: 2>,\n",
              " <JankenResult.DRAW: 1>,\n",
              " <JankenResult.DRAW: 1>,\n",
              " <JankenResult.DRAW: 1>,\n",
              " <JankenResult.YOUR_WIN: 2>,\n",
              " <JankenResult.YOUR_WIN: 2>,\n",
              " <JankenResult.YOUR_WIN: 2>]"
            ]
          },
          "metadata": {},
          "execution_count": 71
        }
      ]
    },
    {
      "cell_type": "code",
      "source": [
        ""
      ],
      "metadata": {
        "id": "i1QkF-p6oxli"
      },
      "execution_count": null,
      "outputs": []
    },
    {
      "cell_type": "code",
      "source": [
        "# エピソード10000\n",
        "results_episodes[-1]"
      ],
      "metadata": {
        "colab": {
          "base_uri": "https://localhost:8080/"
        },
        "id": "tvniwu3MtD31",
        "outputId": "b568f16a-ccfc-4457-bd89-b61fc7d6563c"
      },
      "execution_count": 72,
      "outputs": [
        {
          "output_type": "execute_result",
          "data": {
            "text/plain": [
              "[<JankenResult.DRAW: 1>,\n",
              " <JankenResult.YOUR_WIN: 2>,\n",
              " <JankenResult.YOUR_WIN: 2>,\n",
              " <JankenResult.YOUR_WIN: 2>]"
            ]
          },
          "metadata": {},
          "execution_count": 72
        }
      ]
    },
    {
      "cell_type": "code",
      "source": [
        "# エピソード9999\n",
        "results_episodes[-2]"
      ],
      "metadata": {
        "colab": {
          "base_uri": "https://localhost:8080/"
        },
        "id": "1QfV2K-XoyEG",
        "outputId": "5acacd68-6f95-49d8-82bf-06e4f67ec7e8"
      },
      "execution_count": 73,
      "outputs": [
        {
          "output_type": "execute_result",
          "data": {
            "text/plain": [
              "[<JankenResult.DRAW: 1>,\n",
              " <JankenResult.YOUR_WIN: 2>,\n",
              " <JankenResult.YOUR_WIN: 2>,\n",
              " <JankenResult.YOUR_WIN: 2>]"
            ]
          },
          "metadata": {},
          "execution_count": 73
        }
      ]
    },
    {
      "cell_type": "code",
      "source": [
        "plt.figure(figsize=(16, 5))\n",
        "plt.plot([len(re) for re in results_episodes], marker='o')\n",
        "plt.xlabel('episode')\n",
        "plt.ylabel('step length taken until done')"
      ],
      "metadata": {
        "colab": {
          "base_uri": "https://localhost:8080/",
          "height": 351
        },
        "id": "Y-OwbFsHtGLQ",
        "outputId": "f9217763-6896-4d7d-8faf-958220e2dd38"
      },
      "execution_count": 70,
      "outputs": [
        {
          "output_type": "execute_result",
          "data": {
            "text/plain": [
              "Text(0, 0.5, 'step length taken until done')"
            ]
          },
          "metadata": {},
          "execution_count": 70
        },
        {
          "output_type": "display_data",
          "data": {
            "image/png": "[encoded data removed]",
            "text/plain": [
              "<Figure size 1152x360 with 1 Axes>"
            ]
          },
          "metadata": {
            "needs_background": "light"
          }
        }
      ]
    },
    {
      "cell_type": "code",
      "source": [
        "# 最初の40エピソード\n",
        "plt.figure(figsize=(16, 5))\n",
        "plt.plot([len(re) for re in results_episodes[:40]], marker='o')\n",
        "plt.xlabel('episode')\n",
        "plt.ylabel('step length taken until done')\n",
        "\n",
        "print(np.mean([len(re) for re in results_episodes[:40]]))"
      ],
      "metadata": {
        "colab": {
          "base_uri": "https://localhost:8080/",
          "height": 351
        },
        "id": "rnwqz_C2pHe5",
        "outputId": "ed106546-453e-4650-f7ab-9481a102a7c1"
      },
      "execution_count": 80,
      "outputs": [
        {
          "output_type": "stream",
          "name": "stdout",
          "text": [
            "41.5\n"
          ]
        },
        {
          "output_type": "display_data",
          "data": {
            "image/png": "[encoded data removed]",
            "text/plain": [
              "<Figure size 1152x360 with 1 Axes>"
            ]
          },
          "metadata": {
            "needs_background": "light"
          }
        }
      ]
    },
    {
      "cell_type": "code",
      "source": [
        "# 最後の40エピソード\n",
        "plt.figure(figsize=(16, 5))\n",
        "plt.plot([len(re) for re in results_episodes[-40:]], marker='o')\n",
        "plt.xlabel('episode')\n",
        "plt.ylabel('step length taken until done')\n",
        "\n",
        "print(np.mean([len(re) for re in results_episodes[-40:]]))"
      ],
      "metadata": {
        "colab": {
          "base_uri": "https://localhost:8080/",
          "height": 351
        },
        "id": "9s4HtMZ4AKR8",
        "outputId": "a1c023be-c776-4571-ee9e-1316dd0d8bcb"
      },
      "execution_count": 79,
      "outputs": [
        {
          "output_type": "stream",
          "name": "stdout",
          "text": [
            "4.975\n"
          ]
        },
        {
          "output_type": "display_data",
          "data": {
            "image/png": "[encoded data removed]",
            "text/plain": [
              "<Figure size 1152x360 with 1 Axes>"
            ]
          },
          "metadata": {
            "needs_background": "light"
          }
        }
      ]
    },
    {
      "cell_type": "code",
      "source": [
        ""
      ],
      "metadata": {
        "id": "ifKb-EcppC9h"
      },
      "execution_count": null,
      "outputs": []
    }
  ]
}